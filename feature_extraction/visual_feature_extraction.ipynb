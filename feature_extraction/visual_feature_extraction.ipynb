{
 "cells": [
  {
   "cell_type": "code",
   "execution_count": 1,
   "id": "846cadcd-5b83-4722-bcd5-178cdc57de3b",
   "metadata": {},
   "outputs": [],
   "source": [
    "from visual import *\n",
    "import os, pathlib"
   ]
  },
  {
   "cell_type": "code",
   "execution_count": 2,
   "id": "004d3f03-3cad-4d42-b8f5-ccb90a8cc5bb",
   "metadata": {},
   "outputs": [],
   "source": [
    "def process_batch(batch):\n",
    "    return np.pad(batch[:,678:695], ((0, MAX_COUNT-batch.shape[0]), (0, 0)), 'constant', constant_values=0)"
   ]
  },
  {
   "cell_type": "code",
   "execution_count": 3,
   "id": "89fc0779-34d4-4b5f-9fd4-16f550f2af54",
   "metadata": {},
   "outputs": [
    {
     "name": "stdout",
     "output_type": "stream",
     "text": [
      "/home/dominic/11777_project/Video/3VMPE7oGZxs/3VMPE7oGZxs_5_0_00_45.780000_0_00_48.990000.mp4\n"
     ]
    },
    {
     "name": "stderr",
     "output_type": "stream",
     "text": [
      "libdc1394 error: Failed to initialize libdc1394\n"
     ]
    },
    {
     "name": "stdout",
     "output_type": "stream",
     "text": [
      "/home/dominic/11777_project/Video/3VMPE7oGZxs/3VMPE7oGZxs_1_0_00_26.079000_0_00_29.679000.mp4\n"
     ]
    },
    {
     "name": "stderr",
     "output_type": "stream",
     "text": [
      "libdc1394 error: Failed to initialize libdc1394\n"
     ]
    },
    {
     "name": "stdout",
     "output_type": "stream",
     "text": [
      "/home/dominic/11777_project/Video/3VMPE7oGZxs/3VMPE7oGZxs_8_0_01_03.560000_0_01_11.769000.mp4\n"
     ]
    },
    {
     "name": "stderr",
     "output_type": "stream",
     "text": [
      "libdc1394 error: Failed to initialize libdc1394\n"
     ]
    },
    {
     "name": "stdout",
     "output_type": "stream",
     "text": [
      "/home/dominic/11777_project/Video/3VMPE7oGZxs/3VMPE7oGZxs_10_0_01_22.340000_0_01_36.459000.mp4\n"
     ]
    },
    {
     "name": "stderr",
     "output_type": "stream",
     "text": [
      "libdc1394 error: Failed to initialize libdc1394\n"
     ]
    },
    {
     "name": "stdout",
     "output_type": "stream",
     "text": [
      "/home/dominic/11777_project/Video/3VMPE7oGZxs/3VMPE7oGZxs_0_0_00_13.750000_0_00_25.670000.mp4\n"
     ]
    },
    {
     "name": "stderr",
     "output_type": "stream",
     "text": [
      "libdc1394 error: Failed to initialize libdc1394\n"
     ]
    },
    {
     "name": "stdout",
     "output_type": "stream",
     "text": [
      "/home/dominic/11777_project/Video/3VMPE7oGZxs/3VMPE7oGZxs_2_0_00_32.890000_0_00_37.200000.mp4\n"
     ]
    },
    {
     "name": "stderr",
     "output_type": "stream",
     "text": [
      "libdc1394 error: Failed to initialize libdc1394\n"
     ]
    },
    {
     "name": "stdout",
     "output_type": "stream",
     "text": [
      "/home/dominic/11777_project/Video/3VMPE7oGZxs/3VMPE7oGZxs_9_0_01_15.859000_0_01_22.129000.mp4\n"
     ]
    },
    {
     "name": "stderr",
     "output_type": "stream",
     "text": [
      "libdc1394 error: Failed to initialize libdc1394\n"
     ]
    },
    {
     "name": "stdout",
     "output_type": "stream",
     "text": [
      "/home/dominic/11777_project/Video/3VMPE7oGZxs/3VMPE7oGZxs_6_0_00_49.060000_0_00_53.929000.mp4\n"
     ]
    },
    {
     "name": "stderr",
     "output_type": "stream",
     "text": [
      "libdc1394 error: Failed to initialize libdc1394\n"
     ]
    },
    {
     "name": "stdout",
     "output_type": "stream",
     "text": [
      "/home/dominic/11777_project/Video/3VMPE7oGZxs/3VMPE7oGZxs_4_0_00_44.820000_0_00_45.609000.mp4\n"
     ]
    },
    {
     "name": "stderr",
     "output_type": "stream",
     "text": [
      "libdc1394 error: Failed to initialize libdc1394\n"
     ]
    },
    {
     "name": "stdout",
     "output_type": "stream",
     "text": [
      "/home/dominic/11777_project/Video/3VMPE7oGZxs/3VMPE7oGZxs_7_0_00_54.039000_0_01_00.339000.mp4\n"
     ]
    },
    {
     "name": "stderr",
     "output_type": "stream",
     "text": [
      "libdc1394 error: Failed to initialize libdc1394\n"
     ]
    },
    {
     "name": "stdout",
     "output_type": "stream",
     "text": [
      "/home/dominic/11777_project/Video/3VMPE7oGZxs/3VMPE7oGZxs_3_0_00_37.770000_0_00_41.630000.mp4\n"
     ]
    },
    {
     "name": "stderr",
     "output_type": "stream",
     "text": [
      "libdc1394 error: Failed to initialize libdc1394\n"
     ]
    },
    {
     "name": "stdout",
     "output_type": "stream",
     "text": [
      "/home/dominic/11777_project/Video/3VMPE7oGZxs/3VMPE7oGZxs_11_0_01_39.859000_0_01_46.750000.mp4\n"
     ]
    },
    {
     "name": "stderr",
     "output_type": "stream",
     "text": [
      "libdc1394 error: Failed to initialize libdc1394\n"
     ]
    },
    {
     "name": "stdout",
     "output_type": "stream",
     "text": [
      "/home/dominic/11777_project/Video/6207uYf2UkQ/6207uYf2UkQ_19_0_02_40.680000_0_02_42.736000.mp4\n"
     ]
    },
    {
     "name": "stderr",
     "output_type": "stream",
     "text": [
      "libdc1394 error: Failed to initialize libdc1394\n"
     ]
    },
    {
     "name": "stdout",
     "output_type": "stream",
     "text": [
      "/home/dominic/11777_project/Video/6207uYf2UkQ/6207uYf2UkQ_22_0_02_56.643000_0_03_03.860000.mp4\n"
     ]
    },
    {
     "name": "stderr",
     "output_type": "stream",
     "text": [
      "libdc1394 error: Failed to initialize libdc1394\n"
     ]
    },
    {
     "name": "stdout",
     "output_type": "stream",
     "text": [
      "/home/dominic/11777_project/Video/6207uYf2UkQ/6207uYf2UkQ_1_0_00_07.062000_0_00_24.350000.mp4\n"
     ]
    },
    {
     "name": "stderr",
     "output_type": "stream",
     "text": [
      "libdc1394 error: Failed to initialize libdc1394\n"
     ]
    },
    {
     "name": "stdout",
     "output_type": "stream",
     "text": [
      "/home/dominic/11777_project/Video/6207uYf2UkQ/6207uYf2UkQ_5_0_00_50.212000_0_01_01.390000.mp4\n"
     ]
    },
    {
     "name": "stderr",
     "output_type": "stream",
     "text": [
      "libdc1394 error: Failed to initialize libdc1394\n"
     ]
    },
    {
     "name": "stdout",
     "output_type": "stream",
     "text": [
      "/home/dominic/11777_project/Video/6207uYf2UkQ/6207uYf2UkQ_17_0_02_36.402000_0_02_37.119000.mp4\n"
     ]
    },
    {
     "name": "stderr",
     "output_type": "stream",
     "text": [
      "libdc1394 error: Failed to initialize libdc1394\n"
     ]
    },
    {
     "name": "stdout",
     "output_type": "stream",
     "text": [
      "/home/dominic/11777_project/Video/6207uYf2UkQ/6207uYf2UkQ_14_0_02_27.834000_0_02_30.189000.mp4\n"
     ]
    },
    {
     "name": "stderr",
     "output_type": "stream",
     "text": [
      "libdc1394 error: Failed to initialize libdc1394\n"
     ]
    },
    {
     "name": "stdout",
     "output_type": "stream",
     "text": [
      "/home/dominic/11777_project/Video/6207uYf2UkQ/6207uYf2UkQ_20_0_02_42.782000_0_02_52.719000.mp4\n"
     ]
    },
    {
     "name": "stderr",
     "output_type": "stream",
     "text": [
      "libdc1394 error: Failed to initialize libdc1394\n"
     ]
    },
    {
     "name": "stdout",
     "output_type": "stream",
     "text": [
      "/home/dominic/11777_project/Video/6207uYf2UkQ/6207uYf2UkQ_13_0_02_23.009000_0_02_27.788000.mp4\n"
     ]
    },
    {
     "name": "stderr",
     "output_type": "stream",
     "text": [
      "libdc1394 error: Failed to initialize libdc1394\n"
     ]
    },
    {
     "name": "stdout",
     "output_type": "stream",
     "text": [
      "/home/dominic/11777_project/Video/6207uYf2UkQ/6207uYf2UkQ_8_0_01_30.983000_0_01_55.209000.mp4\n"
     ]
    },
    {
     "name": "stderr",
     "output_type": "stream",
     "text": [
      "libdc1394 error: Failed to initialize libdc1394\n"
     ]
    },
    {
     "name": "stdout",
     "output_type": "stream",
     "text": [
      "/home/dominic/11777_project/Video/6207uYf2UkQ/6207uYf2UkQ_23_0_03_04.509000_0_03_06.159000.mp4\n"
     ]
    },
    {
     "name": "stderr",
     "output_type": "stream",
     "text": [
      "libdc1394 error: Failed to initialize libdc1394\n"
     ]
    },
    {
     "name": "stdout",
     "output_type": "stream",
     "text": [
      "/home/dominic/11777_project/Video/6207uYf2UkQ/6207uYf2UkQ_16_0_02_33.254000_0_02_36.357000.mp4\n"
     ]
    },
    {
     "name": "stderr",
     "output_type": "stream",
     "text": [
      "libdc1394 error: Failed to initialize libdc1394\n"
     ]
    },
    {
     "name": "stdout",
     "output_type": "stream",
     "text": [
      "/home/dominic/11777_project/Video/6207uYf2UkQ/6207uYf2UkQ_4_0_00_43.684000_0_00_50.153000.mp4\n"
     ]
    },
    {
     "name": "stderr",
     "output_type": "stream",
     "text": [
      "libdc1394 error: Failed to initialize libdc1394\n"
     ]
    },
    {
     "name": "stdout",
     "output_type": "stream",
     "text": [
      "/home/dominic/11777_project/Video/6207uYf2UkQ/6207uYf2UkQ_6_0_01_01.630000_0_01_23.mp4\n"
     ]
    },
    {
     "name": "stderr",
     "output_type": "stream",
     "text": [
      "libdc1394 error: Failed to initialize libdc1394\n"
     ]
    },
    {
     "name": "stdout",
     "output_type": "stream",
     "text": [
      "/home/dominic/11777_project/Video/6207uYf2UkQ/6207uYf2UkQ_11_0_02_02.549000_0_02_18.479000.mp4\n"
     ]
    },
    {
     "name": "stderr",
     "output_type": "stream",
     "text": [
      "libdc1394 error: Failed to initialize libdc1394\n"
     ]
    },
    {
     "name": "stdout",
     "output_type": "stream",
     "text": [
      "/home/dominic/11777_project/Video/6207uYf2UkQ/6207uYf2UkQ_0_0_00_00_0_00_07.015000.mp4\n"
     ]
    },
    {
     "name": "stderr",
     "output_type": "stream",
     "text": [
      "libdc1394 error: Failed to initialize libdc1394\n"
     ]
    },
    {
     "name": "stdout",
     "output_type": "stream",
     "text": [
      "/home/dominic/11777_project/Video/6207uYf2UkQ/6207uYf2UkQ_24_0_03_06.500000_0_03_07.199000.mp4\n"
     ]
    },
    {
     "name": "stderr",
     "output_type": "stream",
     "text": [
      "libdc1394 error: Failed to initialize libdc1394\n"
     ]
    },
    {
     "name": "stdout",
     "output_type": "stream",
     "text": [
      "/home/dominic/11777_project/Video/6207uYf2UkQ/6207uYf2UkQ_7_0_01_23.670000_0_01_30.983000.mp4\n"
     ]
    },
    {
     "name": "stderr",
     "output_type": "stream",
     "text": [
      "libdc1394 error: Failed to initialize libdc1394\n"
     ]
    },
    {
     "name": "stdout",
     "output_type": "stream",
     "text": [
      "/home/dominic/11777_project/Video/6207uYf2UkQ/6207uYf2UkQ_21_0_02_53.139000_0_02_56.609000.mp4\n"
     ]
    },
    {
     "name": "stderr",
     "output_type": "stream",
     "text": [
      "libdc1394 error: Failed to initialize libdc1394\n"
     ]
    },
    {
     "name": "stdout",
     "output_type": "stream",
     "text": [
      "/home/dominic/11777_project/Video/6207uYf2UkQ/6207uYf2UkQ_2_0_00_24.960000_0_00_37.696000.mp4\n"
     ]
    },
    {
     "name": "stderr",
     "output_type": "stream",
     "text": [
      "libdc1394 error: Failed to initialize libdc1394\n"
     ]
    },
    {
     "name": "stdout",
     "output_type": "stream",
     "text": [
      "/home/dominic/11777_project/Video/6207uYf2UkQ/6207uYf2UkQ_12_0_02_18.710000_0_02_22.810000.mp4\n"
     ]
    },
    {
     "name": "stderr",
     "output_type": "stream",
     "text": [
      "libdc1394 error: Failed to initialize libdc1394\n"
     ]
    },
    {
     "name": "stdout",
     "output_type": "stream",
     "text": [
      "/home/dominic/11777_project/Video/6207uYf2UkQ/6207uYf2UkQ_18_0_02_37.163000_0_02_40.439000.mp4\n"
     ]
    },
    {
     "name": "stderr",
     "output_type": "stream",
     "text": [
      "libdc1394 error: Failed to initialize libdc1394\n"
     ]
    },
    {
     "name": "stdout",
     "output_type": "stream",
     "text": [
      "/home/dominic/11777_project/Video/6207uYf2UkQ/6207uYf2UkQ_15_0_02_30.379000_0_02_31.984000.mp4\n"
     ]
    },
    {
     "name": "stderr",
     "output_type": "stream",
     "text": [
      "libdc1394 error: Failed to initialize libdc1394\n"
     ]
    },
    {
     "name": "stdout",
     "output_type": "stream",
     "text": [
      "/home/dominic/11777_project/Video/6207uYf2UkQ/6207uYf2UkQ_3_0_00_37.696000_0_00_43.643000.mp4\n"
     ]
    },
    {
     "name": "stderr",
     "output_type": "stream",
     "text": [
      "libdc1394 error: Failed to initialize libdc1394\n"
     ]
    },
    {
     "name": "stdout",
     "output_type": "stream",
     "text": [
      "/home/dominic/11777_project/Video/6207uYf2UkQ/6207uYf2UkQ_9_0_01_55.228000_0_01_58.763000.mp4\n"
     ]
    },
    {
     "name": "stderr",
     "output_type": "stream",
     "text": [
      "libdc1394 error: Failed to initialize libdc1394\n"
     ]
    },
    {
     "name": "stdout",
     "output_type": "stream",
     "text": [
      "/home/dominic/11777_project/Video/6207uYf2UkQ/6207uYf2UkQ_10_0_01_58.815000_0_02_02.349000.mp4\n"
     ]
    },
    {
     "name": "stderr",
     "output_type": "stream",
     "text": [
      "libdc1394 error: Failed to initialize libdc1394\n"
     ]
    },
    {
     "data": {
      "text/plain": [
       "{'key': array(['3VMPE7oGZxs_5', '3VMPE7oGZxs_1', '3VMPE7oGZxs_8',\n",
       "        '3VMPE7oGZxs_10', '3VMPE7oGZxs_0', '3VMPE7oGZxs_2',\n",
       "        '3VMPE7oGZxs_9', '3VMPE7oGZxs_6', '3VMPE7oGZxs_4', '3VMPE7oGZxs_7',\n",
       "        '3VMPE7oGZxs_3', '3VMPE7oGZxs_11', '6207uYf2UkQ_19',\n",
       "        '6207uYf2UkQ_22', '6207uYf2UkQ_1', '6207uYf2UkQ_5',\n",
       "        '6207uYf2UkQ_17', '6207uYf2UkQ_14', '6207uYf2UkQ_20',\n",
       "        '6207uYf2UkQ_13', '6207uYf2UkQ_8', '6207uYf2UkQ_23',\n",
       "        '6207uYf2UkQ_16', '6207uYf2UkQ_4', '6207uYf2UkQ_6',\n",
       "        '6207uYf2UkQ_11', '6207uYf2UkQ_0', '6207uYf2UkQ_24',\n",
       "        '6207uYf2UkQ_7', '6207uYf2UkQ_21', '6207uYf2UkQ_2',\n",
       "        '6207uYf2UkQ_12', '6207uYf2UkQ_18', '6207uYf2UkQ_15',\n",
       "        '6207uYf2UkQ_3', '6207uYf2UkQ_9', '6207uYf2UkQ_10'], dtype='<U14'),\n",
       " 'features': array([[[0.11, 0.29, 0.  , ..., 0.  , 0.  , 0.57],\n",
       "         [0.08, 0.  , 0.  , ..., 0.85, 0.  , 0.32],\n",
       "         [0.23, 0.  , 0.  , ..., 0.85, 0.16, 0.24],\n",
       "         ...,\n",
       "         [0.06, 0.  , 0.  , ..., 0.38, 0.  , 0.22],\n",
       "         [0.  , 0.36, 0.  , ..., 0.3 , 0.  , 1.34],\n",
       "         [0.11, 0.4 , 0.  , ..., 0.08, 0.  , 0.11]],\n",
       " \n",
       "        [[0.17, 0.11, 0.03, ..., 0.39, 0.  , 0.42],\n",
       "         [0.14, 0.07, 0.25, ..., 0.  , 0.  , 2.28],\n",
       "         [0.07, 0.  , 0.03, ..., 0.9 , 0.  , 0.16],\n",
       "         ...,\n",
       "         [0.27, 0.13, 0.  , ..., 0.78, 0.  , 0.07],\n",
       "         [0.13, 0.26, 0.19, ..., 0.58, 0.  , 2.58],\n",
       "         [0.35, 0.25, 0.  , ..., 0.43, 0.  , 0.2 ]],\n",
       " \n",
       "        [[0.29, 0.04, 0.  , ..., 0.49, 0.61, 0.04],\n",
       "         [0.53, 0.08, 0.  , ..., 1.49, 0.12, 0.09],\n",
       "         [0.16, 0.04, 0.  , ..., 0.1 , 0.18, 0.05],\n",
       "         ...,\n",
       "         [0.23, 0.  , 0.  , ..., 1.82, 0.53, 0.  ],\n",
       "         [0.  , 0.01, 0.  , ..., 0.  , 0.16, 2.06],\n",
       "         [0.36, 0.3 , 0.  , ..., 0.73, 0.62, 1.78]],\n",
       " \n",
       "        ...,\n",
       " \n",
       "        [[1.71, 1.96, 1.  , ..., 2.71, 0.98, 0.1 ],\n",
       "         [1.7 , 2.18, 0.75, ..., 2.73, 0.82, 0.26],\n",
       "         [2.29, 3.66, 0.22, ..., 1.74, 0.58, 0.11],\n",
       "         ...,\n",
       "         [1.57, 2.15, 0.67, ..., 1.33, 0.85, 0.56],\n",
       "         [1.74, 1.83, 1.1 , ..., 2.57, 1.1 , 0.18],\n",
       "         [1.62, 2.35, 1.33, ..., 1.41, 1.23, 1.82]],\n",
       " \n",
       "        [[1.76, 4.29, 0.26, ..., 1.98, 0.15, 2.38],\n",
       "         [1.89, 3.75, 0.77, ..., 2.96, 0.88, 0.46],\n",
       "         [1.35, 3.68, 0.  , ..., 2.28, 0.55, 0.72],\n",
       "         ...,\n",
       "         [2.29, 3.53, 0.43, ..., 1.22, 1.94, 0.35],\n",
       "         [2.25, 3.02, 0.42, ..., 1.33, 1.67, 0.03],\n",
       "         [2.6 , 3.63, 0.36, ..., 1.24, 1.4 , 0.32]],\n",
       " \n",
       "        [[2.47, 3.69, 0.  , ..., 1.66, 0.  , 0.18],\n",
       "         [2.36, 3.99, 0.13, ..., 1.7 , 0.93, 0.  ],\n",
       "         [2.65, 3.86, 0.4 , ..., 0.89, 1.83, 0.  ],\n",
       "         ...,\n",
       "         [2.36, 4.12, 0.  , ..., 1.07, 2.77, 0.5 ],\n",
       "         [2.54, 4.4 , 0.1 , ..., 1.13, 1.49, 0.13],\n",
       "         [2.21, 3.27, 0.5 , ..., 2.17, 0.24, 0.  ]]])}"
      ]
     },
     "execution_count": 3,
     "metadata": {},
     "output_type": "execute_result"
    }
   ],
   "source": [
    "video_list = []\n",
    "videos_dir = '/home/dominic/11777_project/Video'\n",
    "for t in os.listdir(videos_dir)[:2]:\n",
    "    if os.path.isdir(os.path.join(videos_dir,t)):\n",
    "        for m in os.listdir(os.path.join(videos_dir,t)):\n",
    "            if m.endswith('.mp4'):\n",
    "                video_list.append(os.path.join(videos_dir,t,m))\n",
    "                \n",
    "merge_videos(video_list, preprocess=process_batch, save_to='test_visual_features.npz')"
   ]
  },
  {
   "cell_type": "code",
   "execution_count": null,
   "id": "12244a1f-aca6-4e6e-a81a-981ffbf7c441",
   "metadata": {},
   "outputs": [],
   "source": []
  }
 ],
 "metadata": {
  "kernelspec": {
   "display_name": "Python 3 (ipykernel)",
   "language": "python",
   "name": "python3"
  },
  "language_info": {
   "codemirror_mode": {
    "name": "ipython",
    "version": 3
   },
   "file_extension": ".py",
   "mimetype": "text/x-python",
   "name": "python",
   "nbconvert_exporter": "python",
   "pygments_lexer": "ipython3",
   "version": "3.8.11"
  }
 },
 "nbformat": 4,
 "nbformat_minor": 5
}
