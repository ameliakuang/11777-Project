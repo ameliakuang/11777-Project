{
 "cells": [
  {
   "cell_type": "code",
   "execution_count": 1,
   "id": "58e6159a-4da8-480e-8010-a09c6a9e12fb",
   "metadata": {},
   "outputs": [],
   "source": [
    "import torch\n",
    "import os\n",
    "import sys\n",
    "import numpy as np\n",
    "from dataloader import build_mit_swav, build_moseas\n",
    "from model.MLP import MLP\n",
    "import matplotlib.pyplot as plt"
   ]
  },
  {
   "cell_type": "code",
   "execution_count": 6,
   "id": "ef438b6a-c089-4933-af55-fc84281c3435",
   "metadata": {},
   "outputs": [],
   "source": [
    "%load_ext autoreload\n",
    "%autoreload 2"
   ]
  },
  {
   "cell_type": "code",
   "execution_count": 2,
   "id": "b970ba65-1e2a-4474-be1d-993d0e12f8b9",
   "metadata": {},
   "outputs": [],
   "source": [
    "def partition_dataset(n, proportion=0.8):\n",
    "\ttrain_num = int(n * proportion)\n",
    "\tindices = np.random.permutation(n)\n",
    "\ttrain_indices, val_indices = indices[:train_num], indices[train_num:]\n",
    "\treturn train_indices, val_indices"
   ]
  },
  {
   "cell_type": "code",
   "execution_count": 69,
   "id": "98216c1e-938b-43c6-b6bc-3acb74efeb97",
   "metadata": {},
   "outputs": [
    {
     "name": "stdout",
     "output_type": "stream",
     "text": [
      "loading data...\n",
      "246\n",
      "246\n"
     ]
    }
   ],
   "source": [
    "print('loading data...')\n",
    "full_dataset=build_moseas()\n",
    "# train_dataset=build_moseas()\n",
    "# test_dataset=build_moseas()"
   ]
  },
  {
   "cell_type": "code",
   "execution_count": 70,
   "id": "5f6ad7b1-fef7-412c-9849-2abf11e7ad70",
   "metadata": {},
   "outputs": [],
   "source": [
    "train_size = int(0.8 * len(full_dataset))\n",
    "test_size = len(full_dataset) - train_size\n",
    "train_dataset, test_dataset = torch.utils.data.random_split(full_dataset, [train_size, test_size])"
   ]
  },
  {
   "cell_type": "code",
   "execution_count": 71,
   "id": "5d3c1bbc-d838-491c-9788-6e46c10be013",
   "metadata": {},
   "outputs": [
    {
     "name": "stdout",
     "output_type": "stream",
     "text": [
      "finish.\n"
     ]
    }
   ],
   "source": [
    "train_loader = torch.utils.data.DataLoader(train_dataset, batch_size=64, shuffle=True)\n",
    "test_loader = torch.utils.data.DataLoader(test_dataset, batch_size=64, shuffle=False)\n",
    "print('finish.')"
   ]
  },
  {
   "cell_type": "code",
   "execution_count": 72,
   "id": "21e0712d-7aa1-4efb-bc38-185761c9914e",
   "metadata": {},
   "outputs": [
    {
     "name": "stdout",
     "output_type": "stream",
     "text": [
      "MLP_net(\n",
      "  (layers): Sequential(\n",
      "    (0): Linear(in_features=17, out_features=50, bias=True)\n",
      "    (1): ReLU()\n",
      "    (2): Dropout(p=0.5, inplace=False)\n",
      "    (3): Linear(in_features=50, out_features=7, bias=True)\n",
      "    (4): ReLU()\n",
      "    (5): Dropout(p=0.5, inplace=False)\n",
      "    (6): Linear(in_features=7, out_features=1, bias=True)\n",
      "  )\n",
      ")\n"
     ]
    }
   ],
   "source": [
    "model=MLP(input_size=17,hidden_size=50,output_size=7,epochs=10000)\n",
    "print(model.network)"
   ]
  },
  {
   "cell_type": "code",
   "execution_count": 73,
   "id": "8a0f4437-006a-4dda-ab7c-b05a0d2c0ffc",
   "metadata": {},
   "outputs": [
    {
     "name": "stdout",
     "output_type": "stream",
     "text": [
      "TRAINING.\n",
      "Validation... epoch : 1, train loss : 0.7238, valid loss : 0.7750\n",
      "Validation... epoch : 50, train loss : 0.3361, valid loss : 0.2624\n",
      "Validation... epoch : 100, train loss : 0.3430, valid loss : 0.2578\n",
      "Validation... epoch : 150, train loss : 0.3496, valid loss : 0.2485\n",
      "Validation... epoch : 200, train loss : 0.2100, valid loss : 0.2424\n",
      "Validation... epoch : 250, train loss : 0.2127, valid loss : 0.2407\n",
      "Validation... epoch : 300, train loss : 0.2341, valid loss : 0.2391\n",
      "Validation... epoch : 350, train loss : 0.1945, valid loss : 0.2408\n",
      "Validation... epoch : 400, train loss : 0.1651, valid loss : 0.2391\n",
      "Validation... epoch : 450, train loss : 0.1787, valid loss : 0.2361\n",
      "Validation... epoch : 500, train loss : 0.2041, valid loss : 0.2360\n",
      "Validation... epoch : 550, train loss : 0.2572, valid loss : 0.2344\n",
      "Validation... epoch : 600, train loss : 0.1823, valid loss : 0.2351\n",
      "Validation... epoch : 650, train loss : 0.1858, valid loss : 0.2386\n",
      "Validation... epoch : 700, train loss : 0.1926, valid loss : 0.2362\n",
      "Validation... epoch : 750, train loss : 0.2305, valid loss : 0.2328\n",
      "Validation... epoch : 800, train loss : 0.1699, valid loss : 0.2384\n",
      "Validation... epoch : 850, train loss : 0.3250, valid loss : 0.2373\n",
      "Validation... epoch : 900, train loss : 0.2288, valid loss : 0.2413\n",
      "Validation... epoch : 950, train loss : 0.1797, valid loss : 0.2374\n",
      "Validation... epoch : 1000, train loss : 0.1714, valid loss : 0.2422\n",
      "Validation... epoch : 1050, train loss : 0.2063, valid loss : 0.2409\n",
      "Validation... epoch : 1100, train loss : 0.1677, valid loss : 0.2439\n",
      "Validation... epoch : 1150, train loss : 0.1950, valid loss : 0.2443\n",
      "Validation... epoch : 1200, train loss : 0.1389, valid loss : 0.2385\n",
      "Validation... epoch : 1250, train loss : 0.2382, valid loss : 0.2425\n",
      "Validation... epoch : 1300, train loss : 0.1853, valid loss : 0.2379\n",
      "Validation... epoch : 1350, train loss : 0.2044, valid loss : 0.2392\n",
      "Validation... epoch : 1400, train loss : 0.1964, valid loss : 0.2389\n",
      "Validation... epoch : 1450, train loss : 0.1745, valid loss : 0.2419\n",
      "Validation... epoch : 1500, train loss : 0.1662, valid loss : 0.2451\n",
      "Validation... epoch : 1550, train loss : 0.1731, valid loss : 0.2387\n",
      "Validation... epoch : 1600, train loss : 0.1951, valid loss : 0.2368\n",
      "Validation... epoch : 1650, train loss : 0.2571, valid loss : 0.2329\n",
      "Validation... epoch : 1700, train loss : 0.1548, valid loss : 0.2378\n",
      "Validation... epoch : 1750, train loss : 0.1814, valid loss : 0.2340\n",
      "Validation... epoch : 1800, train loss : 0.1975, valid loss : 0.2356\n",
      "Validation... epoch : 1850, train loss : 0.2327, valid loss : 0.2335\n",
      "Validation... epoch : 1900, train loss : 0.3600, valid loss : 0.2346\n",
      "Validation... epoch : 1950, train loss : 0.2882, valid loss : 0.2350\n",
      "Validation... epoch : 2000, train loss : 0.1480, valid loss : 0.2369\n",
      "Validation... epoch : 2050, train loss : 0.1434, valid loss : 0.2352\n",
      "Validation... epoch : 2100, train loss : 0.1831, valid loss : 0.2384\n",
      "Validation... epoch : 2150, train loss : 0.1432, valid loss : 0.2354\n",
      "Validation... epoch : 2200, train loss : 0.2159, valid loss : 0.2384\n",
      "Validation... epoch : 2250, train loss : 0.1633, valid loss : 0.2444\n",
      "Validation... epoch : 2300, train loss : 0.1798, valid loss : 0.2364\n",
      "Validation... epoch : 2350, train loss : 0.2544, valid loss : 0.2466\n",
      "Validation... epoch : 2400, train loss : 0.1667, valid loss : 0.2424\n",
      "Validation... epoch : 2450, train loss : 0.1739, valid loss : 0.2416\n",
      "Validation... epoch : 2500, train loss : 0.1601, valid loss : 0.2399\n",
      "Validation... epoch : 2550, train loss : 0.1706, valid loss : 0.2449\n",
      "Validation... epoch : 2600, train loss : 0.1640, valid loss : 0.2393\n",
      "Validation... epoch : 2650, train loss : 0.2083, valid loss : 0.2334\n",
      "Validation... epoch : 2700, train loss : 0.1556, valid loss : 0.2330\n",
      "Validation... epoch : 2750, train loss : 0.1502, valid loss : 0.2410\n",
      "Validation... epoch : 2800, train loss : 0.1856, valid loss : 0.2414\n",
      "Validation... epoch : 2850, train loss : 0.1611, valid loss : 0.2464\n",
      "Validation... epoch : 2900, train loss : 0.1405, valid loss : 0.2399\n",
      "Validation... epoch : 2950, train loss : 0.1829, valid loss : 0.2393\n",
      "Validation... epoch : 3000, train loss : 0.1661, valid loss : 0.2368\n",
      "Validation... epoch : 3050, train loss : 0.1407, valid loss : 0.2438\n",
      "Validation... epoch : 3100, train loss : 0.1687, valid loss : 0.2395\n",
      "Validation... epoch : 3150, train loss : 0.2313, valid loss : 0.2392\n",
      "Validation... epoch : 3200, train loss : 0.1648, valid loss : 0.2389\n",
      "Validation... epoch : 3250, train loss : 0.1525, valid loss : 0.2442\n",
      "Validation... epoch : 3300, train loss : 0.3632, valid loss : 0.2440\n",
      "Validation... epoch : 3350, train loss : 0.2436, valid loss : 0.2466\n",
      "Validation... epoch : 3400, train loss : 0.1885, valid loss : 0.2438\n",
      "Validation... epoch : 3450, train loss : 0.2190, valid loss : 0.2426\n",
      "Validation... epoch : 3500, train loss : 0.1892, valid loss : 0.2547\n",
      "Validation... epoch : 3550, train loss : 0.1548, valid loss : 0.2465\n",
      "Validation... epoch : 3600, train loss : 0.1613, valid loss : 0.2372\n",
      "Validation... epoch : 3650, train loss : 0.1400, valid loss : 0.2456\n",
      "Validation... epoch : 3700, train loss : 0.1484, valid loss : 0.2502\n",
      "Validation... epoch : 3750, train loss : 0.1460, valid loss : 0.2433\n",
      "Validation... epoch : 3800, train loss : 0.1588, valid loss : 0.2420\n",
      "Validation... epoch : 3850, train loss : 0.1523, valid loss : 0.2379\n",
      "Validation... epoch : 3900, train loss : 0.1543, valid loss : 0.2402\n",
      "Validation... epoch : 3950, train loss : 0.1983, valid loss : 0.2405\n",
      "Validation... epoch : 4000, train loss : 0.1581, valid loss : 0.2434\n",
      "Validation... epoch : 4050, train loss : 0.2201, valid loss : 0.2569\n",
      "Validation... epoch : 4100, train loss : 0.2514, valid loss : 0.2515\n",
      "Validation... epoch : 4150, train loss : 0.1456, valid loss : 0.2392\n",
      "Validation... epoch : 4200, train loss : 0.1995, valid loss : 0.2509\n",
      "Validation... epoch : 4250, train loss : 0.1536, valid loss : 0.2545\n",
      "Validation... epoch : 4300, train loss : 0.2162, valid loss : 0.2461\n",
      "Validation... epoch : 4350, train loss : 0.1361, valid loss : 0.2509\n",
      "Validation... epoch : 4400, train loss : 0.1931, valid loss : 0.2436\n",
      "Validation... epoch : 4450, train loss : 0.1765, valid loss : 0.2504\n",
      "Validation... epoch : 4500, train loss : 0.1494, valid loss : 0.2399\n",
      "Validation... epoch : 4550, train loss : 0.1711, valid loss : 0.2552\n",
      "Validation... epoch : 4600, train loss : 0.1435, valid loss : 0.2511\n",
      "Validation... epoch : 4650, train loss : 0.1426, valid loss : 0.2551\n",
      "Validation... epoch : 4700, train loss : 0.1338, valid loss : 0.2497\n",
      "Validation... epoch : 4750, train loss : 0.1369, valid loss : 0.2394\n",
      "Validation... epoch : 4800, train loss : 0.1741, valid loss : 0.2521\n",
      "Validation... epoch : 4850, train loss : 0.1559, valid loss : 0.2490\n",
      "Validation... epoch : 4900, train loss : 0.2094, valid loss : 0.2373\n",
      "Validation... epoch : 4950, train loss : 0.1618, valid loss : 0.2412\n",
      "Validation... epoch : 5000, train loss : 0.1461, valid loss : 0.2402\n",
      "Validation... epoch : 5050, train loss : 0.1846, valid loss : 0.2443\n",
      "Validation... epoch : 5100, train loss : 0.1466, valid loss : 0.2387\n",
      "Validation... epoch : 5150, train loss : 0.2192, valid loss : 0.2447\n",
      "Validation... epoch : 5200, train loss : 0.1680, valid loss : 0.2517\n",
      "Validation... epoch : 5250, train loss : 0.1603, valid loss : 0.2489\n",
      "Validation... epoch : 5300, train loss : 0.1697, valid loss : 0.2461\n",
      "Validation... epoch : 5350, train loss : 0.1889, valid loss : 0.2579\n",
      "Validation... epoch : 5400, train loss : 0.2703, valid loss : 0.2390\n",
      "Validation... epoch : 5450, train loss : 0.1412, valid loss : 0.2412\n",
      "Validation... epoch : 5500, train loss : 0.1943, valid loss : 0.2519\n",
      "Validation... epoch : 5550, train loss : 0.1497, valid loss : 0.2444\n",
      "Validation... epoch : 5600, train loss : 0.1896, valid loss : 0.2519\n",
      "Validation... epoch : 5650, train loss : 0.1502, valid loss : 0.2402\n",
      "Validation... epoch : 5700, train loss : 0.2202, valid loss : 0.2418\n",
      "Validation... epoch : 5750, train loss : 0.2464, valid loss : 0.2495\n",
      "Validation... epoch : 5800, train loss : 0.1609, valid loss : 0.2431\n",
      "Validation... epoch : 5850, train loss : 0.1999, valid loss : 0.2442\n",
      "Validation... epoch : 5900, train loss : 0.1461, valid loss : 0.2455\n",
      "Validation... epoch : 5950, train loss : 0.1561, valid loss : 0.2456\n",
      "Validation... epoch : 6000, train loss : 0.2334, valid loss : 0.2456\n",
      "Validation... epoch : 6050, train loss : 0.1730, valid loss : 0.2431\n",
      "Validation... epoch : 6100, train loss : 0.3287, valid loss : 0.2432\n",
      "Validation... epoch : 6150, train loss : 0.1364, valid loss : 0.2495\n",
      "Validation... epoch : 6200, train loss : 0.2118, valid loss : 0.2546\n",
      "Validation... epoch : 6250, train loss : 0.1414, valid loss : 0.2552\n",
      "Validation... epoch : 6300, train loss : 0.1531, valid loss : 0.2472\n",
      "Validation... epoch : 6350, train loss : 0.1448, valid loss : 0.2607\n",
      "Validation... epoch : 6400, train loss : 0.1791, valid loss : 0.2478\n",
      "Validation... epoch : 6450, train loss : 0.1774, valid loss : 0.2449\n",
      "Validation... epoch : 6500, train loss : 0.1363, valid loss : 0.2554\n",
      "Validation... epoch : 6550, train loss : 0.1520, valid loss : 0.2509\n",
      "Validation... epoch : 6600, train loss : 0.1500, valid loss : 0.2556\n",
      "Validation... epoch : 6650, train loss : 0.1684, valid loss : 0.2497\n",
      "Validation... epoch : 6700, train loss : 0.1541, valid loss : 0.2489\n",
      "Validation... epoch : 6750, train loss : 0.2116, valid loss : 0.2473\n",
      "Validation... epoch : 6800, train loss : 0.1577, valid loss : 0.2455\n",
      "Validation... epoch : 6850, train loss : 0.1355, valid loss : 0.2442\n",
      "Validation... epoch : 6900, train loss : 0.1556, valid loss : 0.2544\n",
      "Validation... epoch : 6950, train loss : 0.1497, valid loss : 0.2496\n",
      "Validation... epoch : 7000, train loss : 0.1547, valid loss : 0.2497\n",
      "Validation... epoch : 7050, train loss : 0.1642, valid loss : 0.2535\n",
      "Validation... epoch : 7100, train loss : 0.1671, valid loss : 0.2415\n",
      "Validation... epoch : 7150, train loss : 0.1449, valid loss : 0.2447\n",
      "Validation... epoch : 7200, train loss : 0.1466, valid loss : 0.2444\n",
      "Validation... epoch : 7250, train loss : 0.1642, valid loss : 0.2393\n",
      "Validation... epoch : 7300, train loss : 0.1392, valid loss : 0.2457\n",
      "Validation... epoch : 7350, train loss : 0.1375, valid loss : 0.2477\n",
      "Validation... epoch : 7400, train loss : 0.1402, valid loss : 0.2482\n",
      "Validation... epoch : 7450, train loss : 0.1444, valid loss : 0.2354\n",
      "Validation... epoch : 7500, train loss : 0.1806, valid loss : 0.2431\n",
      "Validation... epoch : 7550, train loss : 0.1475, valid loss : 0.2475\n",
      "Validation... epoch : 7600, train loss : 0.2564, valid loss : 0.2529\n",
      "Validation... epoch : 7650, train loss : 0.2452, valid loss : 0.2448\n",
      "Validation... epoch : 7700, train loss : 0.2081, valid loss : 0.2520\n",
      "Validation... epoch : 7750, train loss : 0.1570, valid loss : 0.2426\n",
      "Validation... epoch : 7800, train loss : 0.2251, valid loss : 0.2443\n",
      "Validation... epoch : 7850, train loss : 0.1952, valid loss : 0.2441\n",
      "Validation... epoch : 7900, train loss : 0.1399, valid loss : 0.2432\n",
      "Validation... epoch : 7950, train loss : 0.1443, valid loss : 0.2476\n",
      "Validation... epoch : 8000, train loss : 0.1753, valid loss : 0.2445\n",
      "Validation... epoch : 8050, train loss : 0.1676, valid loss : 0.2396\n",
      "Validation... epoch : 8100, train loss : 0.1871, valid loss : 0.2448\n",
      "Validation... epoch : 8150, train loss : 0.1685, valid loss : 0.2390\n",
      "Validation... epoch : 8200, train loss : 0.1708, valid loss : 0.2509\n",
      "Validation... epoch : 8250, train loss : 0.2410, valid loss : 0.2489\n",
      "Validation... epoch : 8300, train loss : 0.1691, valid loss : 0.2448\n",
      "Validation... epoch : 8350, train loss : 0.1623, valid loss : 0.2395\n",
      "Validation... epoch : 8400, train loss : 0.1636, valid loss : 0.2394\n",
      "Validation... epoch : 8450, train loss : 0.1524, valid loss : 0.2467\n",
      "Validation... epoch : 8500, train loss : 0.1451, valid loss : 0.2472\n",
      "Validation... epoch : 8550, train loss : 0.1931, valid loss : 0.2412\n",
      "Validation... epoch : 8600, train loss : 0.1695, valid loss : 0.2363\n",
      "Validation... epoch : 8650, train loss : 0.1430, valid loss : 0.2473\n",
      "Validation... epoch : 8700, train loss : 0.1882, valid loss : 0.2445\n",
      "Validation... epoch : 8750, train loss : 0.1867, valid loss : 0.2408\n",
      "Validation... epoch : 8800, train loss : 0.1436, valid loss : 0.2470\n",
      "Validation... epoch : 8850, train loss : 0.2043, valid loss : 0.2324\n",
      "Validation... epoch : 8900, train loss : 0.1995, valid loss : 0.2344\n",
      "Validation... epoch : 8950, train loss : 0.1391, valid loss : 0.2392\n",
      "Validation... epoch : 9000, train loss : 0.1777, valid loss : 0.2390\n",
      "Validation... epoch : 9050, train loss : 0.2564, valid loss : 0.2411\n",
      "Validation... epoch : 9100, train loss : 0.1686, valid loss : 0.2508\n",
      "Validation... epoch : 9150, train loss : 0.1999, valid loss : 0.2401\n",
      "Validation... epoch : 9200, train loss : 0.1474, valid loss : 0.2400\n",
      "Validation... epoch : 9250, train loss : 0.2856, valid loss : 0.2396\n",
      "Validation... epoch : 9300, train loss : 0.1765, valid loss : 0.2386\n",
      "Validation... epoch : 9350, train loss : 0.1486, valid loss : 0.2399\n",
      "Validation... epoch : 9400, train loss : 0.1683, valid loss : 0.2423\n",
      "Validation... epoch : 9450, train loss : 0.2904, valid loss : 0.2440\n",
      "Validation... epoch : 9500, train loss : 0.1769, valid loss : 0.2448\n",
      "Validation... epoch : 9550, train loss : 0.1789, valid loss : 0.2435\n",
      "Validation... epoch : 9600, train loss : 0.1845, valid loss : 0.2380\n",
      "Validation... epoch : 9650, train loss : 0.1735, valid loss : 0.2455\n",
      "Validation... epoch : 9700, train loss : 0.1701, valid loss : 0.2444\n",
      "Validation... epoch : 9750, train loss : 0.1309, valid loss : 0.2433\n",
      "Validation... epoch : 9800, train loss : 0.1868, valid loss : 0.2359\n",
      "Validation... epoch : 9850, train loss : 0.2213, valid loss : 0.2421\n",
      "Validation... epoch : 9900, train loss : 0.1249, valid loss : 0.2453\n",
      "Validation... epoch : 9950, train loss : 0.1334, valid loss : 0.2497\n",
      "Validation... epoch : 10000, train loss : 0.1299, valid loss : 0.2423\n",
      "TEST.\n",
      "test loss: 0.24228066205978394\n"
     ]
    }
   ],
   "source": [
    "print(\"TRAINING.\")\n",
    "mean_train_losses, mean_valid_losses,epoch_list=model.train(train_loader, test_loader)\n",
    "\n",
    "print(\"TEST.\")\n",
    "test_losses=model.test(test_loader)\n",
    "print(\"test loss:\",np.mean(test_losses))"
   ]
  },
  {
   "cell_type": "code",
   "execution_count": 75,
   "id": "371d2af3-8576-491e-b57e-16630de198a8",
   "metadata": {},
   "outputs": [
    {
     "data": {
      "image/png": "[encoded data removed]",
      "text/plain": [
       "<Figure size 720x432 with 1 Axes>"
      ]
     },
     "metadata": {
      "needs_background": "light"
     },
     "output_type": "display_data"
    }
   ],
   "source": [
    "fig, ax1 = plt.subplots(nrows=1, ncols=1, figsize=(10, 6))\n",
    "\n",
    "ax1.plot(epoch_list,mean_train_losses, label='train')\n",
    "ax1.plot(epoch_list,mean_valid_losses, label='valid')\n",
    "lines, labels = ax1.get_legend_handles_labels()\n",
    "ax1.legend(lines, labels, loc='best')\n",
    "plt.xlabel(\"Epochs\")\n",
    "plt.ylabel(\"MSE Loss\")\n",
    "plt.title(\"Training and Validation Loss\")\n",
    "fig.tight_layout()\n",
    "plt.savefig(\"training_loss.png\")"
   ]
  },
  {
   "cell_type": "code",
   "execution_count": null,
   "id": "2809a233-99a7-4990-81dc-be50ca896b16",
   "metadata": {},
   "outputs": [],
   "source": []
  }
 ],
 "metadata": {
  "kernelspec": {
   "display_name": "Python 3 (ipykernel)",
   "language": "python",
   "name": "python3"
  },
  "language_info": {
   "codemirror_mode": {
    "name": "ipython",
    "version": 3
   },
   "file_extension": ".py",
   "mimetype": "text/x-python",
   "name": "python",
   "nbconvert_exporter": "python",
   "pygments_lexer": "ipython3",
   "version": "3.8.0"
  }
 },
 "nbformat": 4,
 "nbformat_minor": 5
}
