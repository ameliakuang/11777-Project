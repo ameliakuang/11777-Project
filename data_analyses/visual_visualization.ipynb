{
 "cells": [
  {
   "cell_type": "code",
   "execution_count": 48,
   "id": "b5840d99-f06d-471d-b029-53b109533d8a",
   "metadata": {},
   "outputs": [],
   "source": [
    "from sklearn.manifold import TSNE\n",
    "import torch\n",
    "import os\n",
    "import sys\n",
    "import numpy as np\n",
    "from dataloader import build_mit_swav, build_moseas\n",
    "import matplotlib.pyplot as plt"
   ]
  },
  {
   "cell_type": "code",
   "execution_count": 7,
   "id": "2425bb63-00c5-437e-937c-56b7e136bbda",
   "metadata": {},
   "outputs": [],
   "source": [
    "dataset=build_moseas()"
   ]
  },
  {
   "cell_type": "code",
   "execution_count": 43,
   "id": "47e4bcef-6d86-40cd-a17e-5260de3c943c",
   "metadata": {},
   "outputs": [],
   "source": [
    "data_loader = torch.utils.data.DataLoader(dataset, batch_size=1, shuffle=True)"
   ]
  },
  {
   "cell_type": "code",
   "execution_count": 44,
   "id": "69d6b204-02a2-405e-a801-ecae3c2ca136",
   "metadata": {},
   "outputs": [],
   "source": [
    "feature_list=list()\n",
    "label_list=list()\n",
    "for i, (feature, label) in enumerate(data_loader):\n",
    "    feature=np.array(feature[0])\n",
    "    label=np.array(int(label[0]))\n",
    "    feature_list.append(feature)\n",
    "    label_list.append(label)"
   ]
  },
  {
   "cell_type": "code",
   "execution_count": 45,
   "id": "b373828c-d369-4a43-8dfe-d2b3199de6bc",
   "metadata": {},
   "outputs": [
    {
     "name": "stdout",
     "output_type": "stream",
     "text": [
      "246\n",
      "[ 0  0  0  1  0  0  1  0  1  0  0  0  0  0  1  1  1  1  0  0  1  1  0  0\n",
      "  0  0  0  1  1  0  0  0  0  0  0  1  0  1  0  0  1  1  0  1  1  1  0  1\n",
      "  0  0  1  0  0  1  1  0  1  0  0  0  0  0  0  0  1  0  0  0  0  0  1  1\n",
      "  0  0  0 -1  2  0  2  1  0  0  0  0  1  1  0  0  1  1  1  1  0  1  0  1\n",
      "  1  0  0  0  0  0  0  0  0  0  0  0  0  0  0  1  1  0  1  0  0  0  1  0\n",
      "  0  0  2  0  0  1  1  1  0  1  1  0  1  1  0  0  0  0  1  0  0  0  0  0\n",
      "  1  0  0  0  1  0  1  0  0  0  1  0  0  0  0  1  0  0  0  0  1  0  0  0\n",
      "  1  1  0  1  1  1  1  0  1  1  0  0  0  0  0  2  0  0  2  0  0  0  1  0\n",
      "  0  0  0  0  1  0  0  0  1  0  1  2  0  0  0  0  0  1  1  0  0  0  0  0\n",
      "  0  0  0  0  0  0  0  0  0  1  0  0  0  0  1  1  0  1  0  0  0  1  0  0\n",
      "  0  0  1  0  1  0]\n"
     ]
    }
   ],
   "source": [
    "label_list=np.array(label_list)\n",
    "print(len(label_list))\n",
    "print(label_list)"
   ]
  },
  {
   "cell_type": "code",
   "execution_count": 47,
   "id": "71ecfa43-5c60-48f9-bbfa-61ff69423e32",
   "metadata": {},
   "outputs": [],
   "source": [
    "feature_reduced = TSNE(n_components=2, learning_rate='auto',init='random').fit_transform(np.array(feature_list))"
   ]
  },
  {
   "cell_type": "code",
   "execution_count": 52,
   "id": "e691a00e-e031-49eb-a582-6ee5fe93ddd6",
   "metadata": {},
   "outputs": [
    {
     "name": "stdout",
     "output_type": "stream",
     "text": [
      "246\n"
     ]
    }
   ],
   "source": [
    "print(len(feature_reduced))"
   ]
  },
  {
   "cell_type": "code",
   "execution_count": 53,
   "id": "e61ee999-7c45-458e-bd75-b9496d15ed5e",
   "metadata": {},
   "outputs": [
    {
     "name": "stdout",
     "output_type": "stream",
     "text": [
      "246\n"
     ]
    }
   ],
   "source": [
    "print(len(label_list))"
   ]
  },
  {
   "cell_type": "code",
   "execution_count": 56,
   "id": "a4898a0e-998f-4441-88da-f09a7c16f64f",
   "metadata": {},
   "outputs": [
    {
     "data": {
      "text/plain": [
       "246"
      ]
     },
     "execution_count": 56,
     "metadata": {},
     "output_type": "execute_result"
    }
   ],
   "source": [
    "len(feature_reduced[:,0])"
   ]
  },
  {
   "cell_type": "code",
   "execution_count": 69,
   "id": "4c7c9492-eeea-4b53-97d0-bc498d0cdfe8",
   "metadata": {},
   "outputs": [
    {
     "data": {
      "image/png": "[encoded data removed]",
      "text/plain": [
       "<Figure size 720x720 with 1 Axes>"
      ]
     },
     "metadata": {
      "needs_background": "light"
     },
     "output_type": "display_data"
    }
   ],
   "source": [
    "fig, ax = plt.subplots(figsize=(10,10))\n",
    "cdict = {-1: 'black', 0: 'blue', 1: 'red', 2: 'yellow', 3: 'green'}\n",
    "for l in np.unique(label_list):\n",
    "    idx = np.where(label_list == l)\n",
    "    ax.scatter(feature_reduced[:,0][idx], feature_reduced[:,1][idx], c = cdict[l], label = l, s = 100)\n",
    "ax.legend()\n",
    "plt.show()"
   ]
  },
  {
   "cell_type": "code",
   "execution_count": null,
   "id": "f46db034-ac91-434c-bb15-821d85d34b01",
   "metadata": {},
   "outputs": [],
   "source": []
  }
 ],
 "metadata": {
  "kernelspec": {
   "display_name": "Python 3 (ipykernel)",
   "language": "python",
   "name": "python3"
  },
  "language_info": {
   "codemirror_mode": {
    "name": "ipython",
    "version": 3
   },
   "file_extension": ".py",
   "mimetype": "text/x-python",
   "name": "python",
   "nbconvert_exporter": "python",
   "pygments_lexer": "ipython3",
   "version": "3.8.0"
  }
 },
 "nbformat": 4,
 "nbformat_minor": 5
}
