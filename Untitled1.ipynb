{
 "cells": [
  {
   "cell_type": "code",
   "execution_count": 2,
   "id": "846cadcd-5b83-4722-bcd5-178cdc57de3b",
   "metadata": {},
   "outputs": [],
   "source": [
    "from visual import *\n",
    "import os"
   ]
  },
  {
   "cell_type": "code",
   "execution_count": null,
   "id": "004d3f03-3cad-4d42-b8f5-ccb90a8cc5bb",
   "metadata": {},
   "outputs": [],
   "source": [
    "def process_batch(batch):\n",
    "    return np.pad(batch[:,678:695], ((0, MAX_COUNT-batch.shape[0]), (0, 0)), 'constant', constant_values=0)"
   ]
  },
  {
   "cell_type": "code",
   "execution_count": 6,
   "id": "89fc0779-34d4-4b5f-9fd4-16f550f2af54",
   "metadata": {},
   "outputs": [],
   "source": [
    "video_list = []\n",
    "for t in os.listdir('Video')[:3]:\n",
    "    if os.path.isdir(os.path.join('Video',t)):\n",
    "        for m in os.listdir(os.path.join('Video',t)):\n",
    "            if m.endswith('.mp4'):\n",
    "                video_list.append(os.path.join('Video',t,m))"
   ]
  },
  {
   "cell_type": "code",
   "execution_count": 7,
   "id": "3d836807-c9b9-4f52-b8d3-81e96702e043",
   "metadata": {
    "collapsed": true,
    "jupyter": {
     "outputs_hidden": true
    },
    "tags": []
   },
   "outputs": [
    {
     "data": {
      "text/plain": [
       "['Video/3VMPE7oGZxs/3VMPE7oGZxs_5_0_00_45.780000_0_00_48.990000.mp4',\n",
       " 'Video/3VMPE7oGZxs/3VMPE7oGZxs_1_0_00_26.079000_0_00_29.679000.mp4',\n",
       " 'Video/3VMPE7oGZxs/3VMPE7oGZxs_8_0_01_03.560000_0_01_11.769000.mp4',\n",
       " 'Video/3VMPE7oGZxs/3VMPE7oGZxs_10_0_01_22.340000_0_01_36.459000.mp4',\n",
       " 'Video/3VMPE7oGZxs/3VMPE7oGZxs_0_0_00_13.750000_0_00_25.670000.mp4',\n",
       " 'Video/3VMPE7oGZxs/3VMPE7oGZxs_2_0_00_32.890000_0_00_37.200000.mp4',\n",
       " 'Video/3VMPE7oGZxs/3VMPE7oGZxs_9_0_01_15.859000_0_01_22.129000.mp4',\n",
       " 'Video/3VMPE7oGZxs/3VMPE7oGZxs_6_0_00_49.060000_0_00_53.929000.mp4',\n",
       " 'Video/3VMPE7oGZxs/3VMPE7oGZxs_4_0_00_44.820000_0_00_45.609000.mp4',\n",
       " 'Video/3VMPE7oGZxs/3VMPE7oGZxs_7_0_00_54.039000_0_01_00.339000.mp4',\n",
       " 'Video/3VMPE7oGZxs/3VMPE7oGZxs_3_0_00_37.770000_0_00_41.630000.mp4',\n",
       " 'Video/3VMPE7oGZxs/3VMPE7oGZxs_11_0_01_39.859000_0_01_46.750000.mp4',\n",
       " 'Video/6207uYf2UkQ/6207uYf2UkQ_19_0_02_40.680000_0_02_42.736000.mp4',\n",
       " 'Video/6207uYf2UkQ/6207uYf2UkQ_22_0_02_56.643000_0_03_03.860000.mp4',\n",
       " 'Video/6207uYf2UkQ/6207uYf2UkQ_1_0_00_07.062000_0_00_24.350000.mp4',\n",
       " 'Video/6207uYf2UkQ/6207uYf2UkQ_5_0_00_50.212000_0_01_01.390000.mp4',\n",
       " 'Video/6207uYf2UkQ/6207uYf2UkQ_17_0_02_36.402000_0_02_37.119000.mp4',\n",
       " 'Video/6207uYf2UkQ/6207uYf2UkQ_14_0_02_27.834000_0_02_30.189000.mp4',\n",
       " 'Video/6207uYf2UkQ/6207uYf2UkQ_20_0_02_42.782000_0_02_52.719000.mp4',\n",
       " 'Video/6207uYf2UkQ/6207uYf2UkQ_13_0_02_23.009000_0_02_27.788000.mp4',\n",
       " 'Video/6207uYf2UkQ/6207uYf2UkQ_8_0_01_30.983000_0_01_55.209000.mp4',\n",
       " 'Video/6207uYf2UkQ/6207uYf2UkQ_23_0_03_04.509000_0_03_06.159000.mp4',\n",
       " 'Video/6207uYf2UkQ/6207uYf2UkQ_16_0_02_33.254000_0_02_36.357000.mp4',\n",
       " 'Video/6207uYf2UkQ/6207uYf2UkQ_4_0_00_43.684000_0_00_50.153000.mp4',\n",
       " 'Video/6207uYf2UkQ/6207uYf2UkQ_6_0_01_01.630000_0_01_23.mp4',\n",
       " 'Video/6207uYf2UkQ/6207uYf2UkQ_11_0_02_02.549000_0_02_18.479000.mp4',\n",
       " 'Video/6207uYf2UkQ/6207uYf2UkQ_0_0_00_00_0_00_07.015000.mp4',\n",
       " 'Video/6207uYf2UkQ/6207uYf2UkQ_24_0_03_06.500000_0_03_07.199000.mp4',\n",
       " 'Video/6207uYf2UkQ/6207uYf2UkQ_7_0_01_23.670000_0_01_30.983000.mp4',\n",
       " 'Video/6207uYf2UkQ/6207uYf2UkQ_21_0_02_53.139000_0_02_56.609000.mp4',\n",
       " 'Video/6207uYf2UkQ/6207uYf2UkQ_2_0_00_24.960000_0_00_37.696000.mp4',\n",
       " 'Video/6207uYf2UkQ/6207uYf2UkQ_12_0_02_18.710000_0_02_22.810000.mp4',\n",
       " 'Video/6207uYf2UkQ/6207uYf2UkQ_18_0_02_37.163000_0_02_40.439000.mp4',\n",
       " 'Video/6207uYf2UkQ/6207uYf2UkQ_15_0_02_30.379000_0_02_31.984000.mp4',\n",
       " 'Video/6207uYf2UkQ/6207uYf2UkQ_3_0_00_37.696000_0_00_43.643000.mp4',\n",
       " 'Video/6207uYf2UkQ/6207uYf2UkQ_9_0_01_55.228000_0_01_58.763000.mp4',\n",
       " 'Video/6207uYf2UkQ/6207uYf2UkQ_10_0_01_58.815000_0_02_02.349000.mp4',\n",
       " 'Video/2Yc6DqwE75w/2Yc6DqwE75w_9_0_01_02.320000_0_01_08.344000.mp4',\n",
       " 'Video/2Yc6DqwE75w/2Yc6DqwE75w_8_0_00_44.770000_0_01_01.850000.mp4',\n",
       " 'Video/2Yc6DqwE75w/2Yc6DqwE75w_10_0_01_08.599000_0_01_19.394000.mp4',\n",
       " 'Video/2Yc6DqwE75w/2Yc6DqwE75w_7_0_00_41.079000_0_00_43.750000.mp4',\n",
       " 'Video/2Yc6DqwE75w/2Yc6DqwE75w_5_0_00_23.039000_0_00_31.530000.mp4',\n",
       " 'Video/2Yc6DqwE75w/2Yc6DqwE75w_11_0_01_19.640000_0_01_24.299000.mp4',\n",
       " 'Video/2Yc6DqwE75w/2Yc6DqwE75w_6_0_00_32.840000_0_00_40.619000.mp4',\n",
       " 'Video/2Yc6DqwE75w/2Yc6DqwE75w_4_0_00_17.579000_0_00_22.772000.mp4',\n",
       " 'Video/2Yc6DqwE75w/2Yc6DqwE75w_3_0_00_10.679000_0_00_14.650000.mp4',\n",
       " 'Video/2Yc6DqwE75w/2Yc6DqwE75w_2_0_00_07.080000_0_00_10.405000.mp4',\n",
       " 'Video/2Yc6DqwE75w/2Yc6DqwE75w_0_0_00_00_0_00_03.559000.mp4',\n",
       " 'Video/2Yc6DqwE75w/2Yc6DqwE75w_1_0_00_03.919000_0_00_06.240000.mp4',\n",
       " 'Video/2Yc6DqwE75w/2Yc6DqwE75w_13_0_01_27.760000_0_01_29.450000.mp4',\n",
       " 'Video/2Yc6DqwE75w/2Yc6DqwE75w_14_0_01_30.560000_0_01_35.310000.mp4',\n",
       " 'Video/2Yc6DqwE75w/2Yc6DqwE75w_12_0_01_24.530000_0_01_27.579000.mp4']"
      ]
     },
     "execution_count": 7,
     "metadata": {},
     "output_type": "execute_result"
    }
   ],
   "source": [
    "video_list"
   ]
  },
  {
   "cell_type": "code",
   "execution_count": null,
   "id": "ca53ab1a-99a7-47ec-857e-218664e4881e",
   "metadata": {},
   "outputs": [],
   "source": [
    "def merge_videos(video_list):\n",
    "    "
   ]
  }
 ],
 "metadata": {
  "kernelspec": {
   "display_name": "Python 3 (ipykernel)",
   "language": "python",
   "name": "python3"
  },
  "language_info": {
   "codemirror_mode": {
    "name": "ipython",
    "version": 3
   },
   "file_extension": ".py",
   "mimetype": "text/x-python",
   "name": "python",
   "nbconvert_exporter": "python",
   "pygments_lexer": "ipython3",
   "version": "3.8.11"
  }
 },
 "nbformat": 4,
 "nbformat_minor": 5
}
