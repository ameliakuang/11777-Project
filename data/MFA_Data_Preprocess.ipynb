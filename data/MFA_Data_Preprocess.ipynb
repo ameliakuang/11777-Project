{
  "nbformat": 4,
  "nbformat_minor": 0,
  "metadata": {
    "colab": {
      "name": "MFA Data Preprocess.ipynb",
      "provenance": [],
      "collapsed_sections": []
    },
    "kernelspec": {
      "display_name": "Python 3",
      "language": "python",
      "name": "python3"
    },
    "language_info": {
      "codemirror_mode": {
        "name": "ipython",
        "version": 3
      },
      "file_extension": ".py",
      "mimetype": "text/x-python",
      "name": "python",
      "nbconvert_exporter": "python",
      "pygments_lexer": "ipython3",
      "version": "3.7.9"
    },
    "toc-autonumbering": false,
    "toc-showmarkdowntxt": false
  },
  "cells": [
    {
      "cell_type": "markdown",
      "metadata": {
        "id": "sMrhEjZQNpaf"
      },
      "source": [
        "## Process data"
      ]
    },
    {
      "cell_type": "code",
      "metadata": {
        "colab": {
          "base_uri": "https://localhost:8080/"
        },
        "id": "Yg-RguIK6XE2",
        "outputId": "a25d151e-5fb5-4dc8-c381-29387ed6367e"
      },
      "source": [
        "from google.colab import drive\n",
        "\n",
        "drive._mount('/content/gdrive')"
      ],
      "execution_count": null,
      "outputs": [
        {
          "output_type": "stream",
          "name": "stdout",
          "text": [
            "Mounted at /content/gdrive\n"
          ]
        }
      ]
    },
    {
      "cell_type": "code",
      "metadata": {
        "id": "p6Wb0qkbMErR"
      },
      "source": [
        "!tar -xf '/content/gdrive/MyDrive/11777_data/moseas_spanish_mfa.tgz'"
      ],
      "execution_count": null,
      "outputs": []
    },
    {
      "cell_type": "code",
      "metadata": {
        "colab": {
          "base_uri": "https://localhost:8080/"
        },
        "id": "jIfhSXBQLpRs",
        "outputId": "8b5b5963-e881-4753-b1e1-176f512e1f57"
      },
      "source": [
        "!unzip -l /content/gdrive/MyDrive/11777_data/french_features.zip \"*/\""
      ],
      "execution_count": null,
      "outputs": [
        {
          "output_type": "stream",
          "name": "stdout",
          "text": [
            "Archive:  /content/gdrive/MyDrive/11777_data/french_features.zip\n",
            "  Length      Date    Time    Name\n",
            "---------  ---------- -----   ----\n",
            "        0  2021-10-07 14:23   French/\n",
            "        0  2021-10-07 05:44   French/French_OpenSmile/\n",
            "        0  2021-10-07 01:23   French/French_OpenFace/\n",
            "---------                     -------\n",
            "        0                     3 files\n"
          ]
        }
      ]
    },
    {
      "cell_type": "code",
      "metadata": {
        "id": "50BaWbdGLESd"
      },
      "source": [
        "!unzip -q /content/gdrive/MyDrive/11777_data/french_features.zip \"French/French_OpenFace/*\""
      ],
      "execution_count": null,
      "outputs": []
    },
    {
      "cell_type": "code",
      "metadata": {
        "colab": {
          "base_uri": "https://localhost:8080/"
        },
        "id": "dd77f8m8JMvU",
        "outputId": "a632f565-76f9-41b4-d470-227c5ce90e95"
      },
      "source": [
        "!pip install textgrid"
      ],
      "execution_count": null,
      "outputs": [
        {
          "output_type": "stream",
          "name": "stdout",
          "text": [
            "Collecting textgrid\n",
            "  Downloading TextGrid-1.5-py3-none-any.whl (10.0 kB)\n",
            "Installing collected packages: textgrid\n",
            "Successfully installed textgrid-1.5\n"
          ]
        }
      ]
    },
    {
      "cell_type": "code",
      "metadata": {
        "id": "UVfVlcXvck7x"
      },
      "source": [
        "import numpy as np"
      ],
      "execution_count": null,
      "outputs": []
    },
    {
      "cell_type": "code",
      "metadata": {
        "id": "kGEliQlJ_5NU"
      },
      "source": [
        "import pandas as pd\n",
        "original_labels = pd.concat([pd.read_csv(\"gdrive/MyDrive/moseas_french/batch_1_2/processed_moseas_french_batch_1_2_avglabel.csv\"),\n",
        "                             pd.read_csv(\"gdrive/MyDrive/moseas_french/batch_3/processed_moseas_french_batch_3_avglabel.csv\")\n",
        "                             ]).reset_index(drop=True)"
      ],
      "execution_count": null,
      "outputs": []
    },
    {
      "cell_type": "code",
      "metadata": {
        "id": "e2PU0ldeuxMl"
      },
      "source": [
        "import pandas as pd\n",
        "original_labels = pd.read_csv(\"gdrive/MyDrive/11-777 MMML/processed_moseas_spanish_batch1_2_avglabel.csv\")"
      ],
      "execution_count": null,
      "outputs": []
    },
    {
      "cell_type": "code",
      "metadata": {
        "id": "ZULFnh9c_Piq"
      },
      "source": [
        "import pickle\n",
        "\n",
        "with open('/content/gdrive/MyDrive/11-777 MMML/multilogue-net/data/moseas_full_regression.pickle', 'rb') as handle:\n",
        "    data = pickle.load(handle)"
      ],
      "execution_count": null,
      "outputs": []
    },
    {
      "cell_type": "code",
      "metadata": {
        "id": "Dg9tDqEpAn66"
      },
      "source": [
        "train_video_names, test_video_names = set(data[-2]), set(data[-1])"
      ],
      "execution_count": null,
      "outputs": []
    },
    {
      "cell_type": "code",
      "metadata": {
        "id": "wjCVt0VLML8O"
      },
      "source": [
        "valid_video_names, test_video_names = set(data[-1][:20]), set(data[-1][20:])"
      ],
      "execution_count": null,
      "outputs": []
    },
    {
      "cell_type": "code",
      "metadata": {
        "colab": {
          "base_uri": "https://localhost:8080/",
          "height": 282
        },
        "id": "vXCDEN0zFl04",
        "outputId": "2da504b2-eeba-482e-f59f-c9a75b604f28"
      },
      "source": [
        "original_labels[original_labels.apply(lambda x: x[\"key\"][:11] in train_video_names, axis=1)][\"sentiment\"].hist()"
      ],
      "execution_count": null,
      "outputs": [
        {
          "output_type": "execute_result",
          "data": {
            "text/plain": [
              "<matplotlib.axes._subplots.AxesSubplot at 0x7fb3241845d0>"
            ]
          },
          "metadata": {},
          "execution_count": 10
        },
        {
          "output_type": "display_data",
          "data": {
            "image/png": "[encoded data removed]",
            "text/plain": [
              "<Figure size 432x288 with 1 Axes>"
            ]
          },
          "metadata": {
            "needs_background": "light"
          }
        }
      ]
    },
    {
      "cell_type": "code",
      "metadata": {
        "colab": {
          "base_uri": "https://localhost:8080/",
          "height": 282
        },
        "id": "p1zVxvLiMXfG",
        "outputId": "858b06ac-3a9c-49ee-a3d2-74cc5a7bd6e3"
      },
      "source": [
        "original_labels[original_labels.apply(lambda x: x[\"key\"][:11] in valid_video_names, axis=1)][\"sentiment\"].hist()"
      ],
      "execution_count": null,
      "outputs": [
        {
          "output_type": "execute_result",
          "data": {
            "text/plain": [
              "<matplotlib.axes._subplots.AxesSubplot at 0x7fb3242c0710>"
            ]
          },
          "metadata": {},
          "execution_count": 13
        },
        {
          "output_type": "display_data",
          "data": {
            "image/png": "[encoded data removed]",
            "text/plain": [
              "<Figure size 432x288 with 1 Axes>"
            ]
          },
          "metadata": {
            "needs_background": "light"
          }
        }
      ]
    },
    {
      "cell_type": "code",
      "metadata": {
        "colab": {
          "base_uri": "https://localhost:8080/",
          "height": 282
        },
        "id": "0eUrNbE1D777",
        "outputId": "e6da1b7d-3255-4297-ec3c-78f208791635"
      },
      "source": [
        "original_labels[original_labels.apply(lambda x: x[\"key\"][:11] in test_video_names, axis=1)][\"sentiment\"].hist()"
      ],
      "execution_count": null,
      "outputs": [
        {
          "output_type": "execute_result",
          "data": {
            "text/plain": [
              "<matplotlib.axes._subplots.AxesSubplot at 0x7fb3242a5050>"
            ]
          },
          "metadata": {},
          "execution_count": 12
        },
        {
          "output_type": "display_data",
          "data": {
            "image/png": "[encoded data removed]",
            "text/plain": [
              "<Figure size 432x288 with 1 Axes>"
            ]
          },
          "metadata": {
            "needs_background": "light"
          }
        }
      ]
    },
    {
      "cell_type": "code",
      "metadata": {
        "id": "j4xu3gQdOB9l"
      },
      "source": [
        "import pickle\n",
        "\n",
        "with open('/content/gdrive/MyDrive/11-777 MMML/data/cz_video_based_data_splits.pickle', 'wb') as handle:\n",
        "    pickle.dump((set(original_labels[original_labels.apply(lambda x: x[\"key\"][:11] in train_video_names, axis=1)][\"key\"].values),\n",
        "                 set(original_labels[original_labels.apply(lambda x: x[\"key\"][:11] in valid_video_names, axis=1)][\"key\"].values),\n",
        "                 set(original_labels[original_labels.apply(lambda x: x[\"key\"][:11] in test_video_names, axis=1)][\"key\"].values)\n",
        "                 ),\n",
        "                handle)"
      ],
      "execution_count": null,
      "outputs": []
    },
    {
      "cell_type": "code",
      "metadata": {
        "id": "yl_ZcgKtRddU"
      },
      "source": [
        "text_lookup = {key: (sentence.strip().split(\" \"), start, end - start) for _, (key, sentence, start, end)\n",
        "in original_labels[[\"key\", \"sentence\", \"start\", \"end\"]].iterrows()}"
      ],
      "execution_count": null,
      "outputs": []
    },
    {
      "cell_type": "code",
      "metadata": {
        "id": "VJnR-rTV872q"
      },
      "source": [
        "import pickle\n",
        "\n",
        "with open('/content/gdrive/MyDrive/11-777 MMML/data/french_acoustic.pickle', 'rb') as handle:\n",
        "    ids, feat = pickle.load(handle)"
      ],
      "execution_count": null,
      "outputs": []
    },
    {
      "cell_type": "code",
      "metadata": {
        "id": "FvvRjsCev2nN"
      },
      "source": [
        "import pickle\n",
        "\n",
        "with open('/content/gdrive/MyDrive/11777_data/spanish_acoustic.pickle', 'rb') as handle:\n",
        "    ids, feat = pickle.load(handle)"
      ],
      "execution_count": null,
      "outputs": []
    },
    {
      "cell_type": "code",
      "metadata": {
        "id": "rXVPp3jMEbfb"
      },
      "source": [
        "speech_map = dict()\n",
        "for id, speech_feat in zip(ids, feat):\n",
        "  speech_map[id] = speech_feat"
      ],
      "execution_count": null,
      "outputs": []
    },
    {
      "cell_type": "code",
      "metadata": {
        "colab": {
          "base_uri": "https://localhost:8080/"
        },
        "id": "6fh2M6PeJ6wm",
        "outputId": "ef93208f-a69b-432e-a305-de7f0fb5b3dd"
      },
      "source": [
        "len(set(speech_map.keys()).intersection(set(original_labels[\"key\"])))"
      ],
      "execution_count": null,
      "outputs": [
        {
          "output_type": "execute_result",
          "data": {
            "text/plain": [
              "10083"
            ]
          },
          "metadata": {},
          "execution_count": 10
        }
      ]
    },
    {
      "cell_type": "code",
      "metadata": {
        "colab": {
          "base_uri": "https://localhost:8080/"
        },
        "id": "j9Luq1V7YdK6",
        "outputId": "a3f39052-4533-4156-a1a5-b92669959be4"
      },
      "source": [
        "print([c for c in test.columns if c.startswith(\" AU\")])"
      ],
      "execution_count": null,
      "outputs": [
        {
          "output_type": "stream",
          "name": "stdout",
          "text": [
            "[' AU01_r', ' AU02_r', ' AU04_r', ' AU05_r', ' AU06_r', ' AU07_r', ' AU09_r', ' AU10_r', ' AU12_r', ' AU14_r', ' AU15_r', ' AU17_r', ' AU20_r', ' AU23_r', ' AU25_r', ' AU26_r', ' AU45_r', ' AU01_c', ' AU02_c', ' AU04_c', ' AU05_c', ' AU06_c', ' AU07_c', ' AU09_c', ' AU10_c', ' AU12_c', ' AU14_c', ' AU15_c', ' AU17_c', ' AU20_c', ' AU23_c', ' AU25_c', ' AU26_c', ' AU28_c', ' AU45_c']\n"
          ]
        }
      ]
    },
    {
      "cell_type": "code",
      "metadata": {
        "id": "knoinsA7On57"
      },
      "source": [
        "import os\n",
        "import numpy as np\n",
        "from tqdm import tqdm\n",
        "from textgrid import TextGrid\n",
        "\n",
        "face_feat_dim_names = [' AU01_r', ' AU02_r', ' AU04_r', ' AU05_r', ' AU06_r', ' AU07_r', ' AU09_r', ' AU10_r', ' AU12_r', ' AU14_r', ' AU15_r', ' AU17_r', ' AU20_r', ' AU23_r', ' AU25_r', ' AU26_r', ' AU45_r', ' AU01_c', ' AU02_c', ' AU04_c', ' AU05_c', ' AU06_c', ' AU07_c', ' AU09_c', ' AU10_c', ' AU12_c', ' AU14_c', ' AU15_c', ' AU17_c', ' AU20_c', ' AU23_c', ' AU25_c', ' AU26_c', ' AU28_c', ' AU45_c']\n",
        "\n",
        "def align_openface(alignment_dir):\n",
        "\n",
        "  ids = list()\n",
        "  features = list()\n",
        "\n",
        "  unmatched_videos = 0\n",
        "\n",
        "  for video_name in tqdm(os.listdir(alignment_dir), desc=\"align\"):\n",
        "    try:\n",
        "      openface_feats = pd.read_csv(f\"/content/French/French_OpenFace/{video_name}.csv\")\n",
        "    except:\n",
        "      unmatched_videos += 1\n",
        "      continue\n",
        "\n",
        "    for segment_alignment in os.listdir(alignment_dir + \"/\" + video_name):\n",
        "      if segment_alignment[0] == \".\":\n",
        "        continue\n",
        "      key_end_idx = 12 + segment_alignment[12:].find(\"_\")\n",
        "      key = segment_alignment[:key_end_idx]\n",
        "\n",
        "      if key not in text_lookup:\n",
        "        continue\n",
        "\n",
        "      ids.append(key)\n",
        "\n",
        "      segment_feats = list()\n",
        "\n",
        "      word_alignment = TextGrid.fromFile(f\"{alignment_dir}/{video_name}/{segment_alignment}\")[0]\n",
        "      sentence, start, length = text_lookup[key]\n",
        "\n",
        "      for word in word_alignment:\n",
        "        if word.mark != \"\":\n",
        "          if word.maxTime - word.minTime < 0.04:\n",
        "            word.maxTime += 0.04\n",
        "          relevant_feats = openface_feats[(start + word.minTime <= openface_feats[\" timestamp\"]) & (openface_feats[\" timestamp\"] <= start + word.maxTime)][face_feat_dim_names].values\n",
        "          segment_feats.append(relevant_feats.mean(axis=0))\n",
        "      features.append(np.stack(segment_feats))\n",
        "\n",
        "  print(f\"{unmatched_videos} videos do not have openFace!\")\n",
        "  return ids, features"
      ],
      "execution_count": null,
      "outputs": []
    },
    {
      "cell_type": "code",
      "metadata": {
        "colab": {
          "base_uri": "https://localhost:8080/"
        },
        "id": "Tnumz5tbq8xQ",
        "outputId": "d28313e9-2dcc-48c9-cd50-9c17e2501109"
      },
      "source": [
        "aligned_ids, aligned_features = align_openface(\"/content/french_alignment\")"
      ],
      "execution_count": null,
      "outputs": [
        {
          "output_type": "stream",
          "name": "stderr",
          "text": [
            "align: 100%|██████████| 315/315 [03:04<00:00,  1.71it/s]"
          ]
        },
        {
          "output_type": "stream",
          "name": "stdout",
          "text": [
            "183 videos do not have openFace!\n"
          ]
        },
        {
          "output_type": "stream",
          "name": "stderr",
          "text": [
            "\n"
          ]
        }
      ]
    },
    {
      "cell_type": "code",
      "metadata": {
        "id": "J4ip4qaDz2Bc"
      },
      "source": [
        "import pickle\n",
        "\n",
        "with open('/content/gdrive/MyDrive/11-777 MMML/data/french_mfa_aligned_openface.pickle', 'wb') as handle:\n",
        "    pickle.dump((aligned_ids, aligned_features), handle, protocol=pickle.HIGHEST_PROTOCOL)"
      ],
      "execution_count": null,
      "outputs": []
    },
    {
      "cell_type": "code",
      "metadata": {
        "colab": {
          "base_uri": "https://localhost:8080/"
        },
        "id": "Cn9uDE57UfgE",
        "outputId": "e510625a-c07e-4f16-e99f-db92d00eda2d"
      },
      "source": [
        "import numpy as np\n",
        "from tqdm import tqdm\n",
        "import os\n",
        "\n",
        "openface_feats = list()\n",
        "openface_keys = list()\n",
        "\n",
        "root = \"/content/gdrive/MyDrive/11-777 MMML/process_visual_features/\"\n",
        "for filename in tqdm(os.listdir(root), desc=\"read\"):\n",
        "  if not filename.startswith(\"Spanish\"):\n",
        "    continue\n",
        "\n",
        "  data = np.load(root + \"/\" + filename, allow_pickle=True)\n",
        "  openface_feats.extend(data[\"features\"])\n",
        "  openface_keys.extend(data[\"key\"])"
      ],
      "execution_count": null,
      "outputs": [
        {
          "output_type": "stream",
          "name": "stderr",
          "text": [
            "read: 100%|██████████| 22/22 [01:11<00:00,  3.23s/it]\n"
          ]
        }
      ]
    },
    {
      "cell_type": "code",
      "metadata": {
        "id": "4ODD6bOzjekW"
      },
      "source": [
        "openface_lookup = {k:v for k, v in zip(openface_keys, openface_feats)}"
      ],
      "execution_count": null,
      "outputs": []
    },
    {
      "cell_type": "code",
      "metadata": {
        "colab": {
          "base_uri": "https://localhost:8080/"
        },
        "id": "_LXGXQU6kyz2",
        "outputId": "85f09d00-109d-4621-884a-c0989bb81650"
      },
      "source": [
        "openface_feats[200].shape"
      ],
      "execution_count": null,
      "outputs": [
        {
          "output_type": "execute_result",
          "data": {
            "text/plain": [
              "(53, 713)"
            ]
          },
          "metadata": {},
          "execution_count": 12
        }
      ]
    },
    {
      "cell_type": "code",
      "metadata": {
        "id": "0XzXBkTIj87t"
      },
      "source": [
        "import os\n",
        "import numpy as np\n",
        "from tqdm import tqdm\n",
        "from textgrid import TextGrid\n",
        "\n",
        "def align_openface_shuhao(alignment_dir):\n",
        "\n",
        "  ids = list()\n",
        "  features = list()\n",
        "\n",
        "  unmatched_videos = 0\n",
        "  problematic_videos = 0\n",
        "\n",
        "  for video_name in tqdm(os.listdir(alignment_dir), desc=\"align\"):\n",
        "    for segment_alignment in os.listdir(alignment_dir + \"/\" + video_name):\n",
        "      if segment_alignment[0] == \".\":\n",
        "        continue\n",
        "      key_end_idx = 12 + segment_alignment[12:].find(\"_\")\n",
        "      key = segment_alignment[:key_end_idx]\n",
        "\n",
        "      if key not in text_lookup or key not in openface_lookup:\n",
        "        unmatched_videos += 1\n",
        "        continue\n",
        "\n",
        "      segment_feats = list()\n",
        "\n",
        "      openface_feats = openface_lookup[key]\n",
        "      word_alignment = TextGrid.fromFile(f\"{alignment_dir}/{video_name}/{segment_alignment}\")[0]\n",
        "      sentence, start, length = text_lookup[key]\n",
        "\n",
        "      openface_interval = openface_feats.shape[0] / length\n",
        "\n",
        "      if openface_interval < 8:\n",
        "        problematic_videos += 1\n",
        "        continue\n",
        "\n",
        "      ids.append(key)\n",
        "\n",
        "      for word in word_alignment:\n",
        "        if word.mark != \"\":\n",
        "          relevant_feats = openface_feats[int(word.minTime * openface_interval): int(word.maxTime * openface_interval) + 1, :]\n",
        "          segment_feats.append(relevant_feats.mean(axis=0))\n",
        "      features.append(np.stack(segment_feats))\n",
        "\n",
        "  print(f\"{unmatched_videos} videos do not have openFace and {problematic_videos} videos have problems!\")\n",
        "  return ids, features"
      ],
      "execution_count": null,
      "outputs": []
    },
    {
      "cell_type": "code",
      "metadata": {
        "colab": {
          "base_uri": "https://localhost:8080/"
        },
        "id": "ToQTVEPMmnyr",
        "outputId": "76fd7fc0-089f-497b-8c37-9cca0bcbc592"
      },
      "source": [
        "aligned_ids, aligned_features = align_openface_shuhao(\"/content/spanish_alignment\")"
      ],
      "execution_count": null,
      "outputs": [
        {
          "output_type": "stream",
          "name": "stderr",
          "text": [
            "align: 100%|██████████| 264/264 [00:20<00:00, 12.95it/s]"
          ]
        },
        {
          "output_type": "stream",
          "name": "stdout",
          "text": [
            "2243 videos do not have openFace and 272 videos have problems!\n"
          ]
        },
        {
          "output_type": "stream",
          "name": "stderr",
          "text": [
            "\n"
          ]
        }
      ]
    },
    {
      "cell_type": "code",
      "metadata": {
        "colab": {
          "base_uri": "https://localhost:8080/"
        },
        "id": "q4-RTV2YOda_",
        "outputId": "560d8c4c-4c27-4075-f907-5e3004b473a2"
      },
      "source": [
        "len(aligned_ids)"
      ],
      "execution_count": null,
      "outputs": [
        {
          "output_type": "execute_result",
          "data": {
            "text/plain": [
              "4588"
            ]
          },
          "metadata": {},
          "execution_count": 21
        }
      ]
    },
    {
      "cell_type": "code",
      "metadata": {
        "id": "FimegiFRnywE"
      },
      "source": [
        "import pickle\n",
        "\n",
        "with open('/content/gdrive/MyDrive/11-777 MMML/data/spanish_mfa_aligned_openface_shuhao_full.pickle', 'wb') as handle:\n",
        "    pickle.dump((aligned_ids, aligned_features), handle)"
      ],
      "execution_count": null,
      "outputs": []
    },
    {
      "cell_type": "code",
      "metadata": {
        "id": "PNlW5s3vEJYq"
      },
      "source": [
        "import os\n",
        "import numpy as np\n",
        "from tqdm import tqdm\n",
        "from textgrid import TextGrid\n",
        "\n",
        "def align_speech(alignment_dir):\n",
        "\n",
        "  ids = list()\n",
        "  features = list()\n",
        "\n",
        "  unmatched_videos = 0\n",
        "\n",
        "  for video_name in tqdm(os.listdir(alignment_dir), desc=\"align\"):\n",
        "    for segment_alignment in os.listdir(alignment_dir + \"/\" + video_name):\n",
        "      if segment_alignment[0] == \".\":\n",
        "        continue\n",
        "      key_end_idx = 12 + segment_alignment[12:].find(\"_\")\n",
        "      key = segment_alignment[:key_end_idx]\n",
        "\n",
        "      if key not in text_lookup:\n",
        "        unmatched_videos += 1\n",
        "        continue\n",
        "\n",
        "      ids.append(key)\n",
        "\n",
        "      segment_feats = list()\n",
        "\n",
        "      if key not in speech_map:\n",
        "        unmatched_videos += 1\n",
        "        continue\n",
        "\n",
        "      speech_feats = speech_map[key]\n",
        "      word_alignment = TextGrid.fromFile(f\"{alignment_dir}/{video_name}/{segment_alignment}\")[0]\n",
        "      sentence, start, length = text_lookup[key]\n",
        "\n",
        "      librosa_interval = speech_feats.shape[1] / length\n",
        "\n",
        "      for word in word_alignment:\n",
        "        if word.mark != \"\":\n",
        "          relevant_feats = speech_feats.T[int(word.minTime * librosa_interval): int(word.maxTime * librosa_interval) + 1, :]\n",
        "          segment_feats.append(relevant_feats.mean(axis=0))\n",
        "      features.append(np.stack(segment_feats))\n",
        "  print(f\"{unmatched_videos} segments do not have speech!\")\n",
        "  return ids, features"
      ],
      "execution_count": null,
      "outputs": []
    },
    {
      "cell_type": "code",
      "metadata": {
        "colab": {
          "base_uri": "https://localhost:8080/"
        },
        "id": "v7-uTvFmNs6r",
        "outputId": "e77ef6b7-01d2-4531-f5ec-bc878336cf0e"
      },
      "source": [
        "aligned_ids, aligned_features = align_speech(\"/content/spanish_alignment\")"
      ],
      "execution_count": null,
      "outputs": [
        {
          "output_type": "stream",
          "name": "stderr",
          "text": [
            "align: 100%|██████████| 264/264 [00:31<00:00,  8.44it/s]"
          ]
        },
        {
          "output_type": "stream",
          "name": "stdout",
          "text": [
            "0 segments do not have speech!\n"
          ]
        },
        {
          "output_type": "stream",
          "name": "stderr",
          "text": [
            "\n"
          ]
        }
      ]
    },
    {
      "cell_type": "code",
      "metadata": {
        "id": "FvmejQBoOn9R"
      },
      "source": [
        "import pickle\n",
        "\n",
        "with open('/content/gdrive/MyDrive/11-777 MMML/data/spanish_mfa_aligned_librosa_acoustic_full.pickle', 'wb') as handle:\n",
        "    pickle.dump((aligned_ids, aligned_features), handle)"
      ],
      "execution_count": null,
      "outputs": []
    },
    {
      "cell_type": "code",
      "metadata": {
        "colab": {
          "base_uri": "https://localhost:8080/"
        },
        "id": "zAUk4lzwNvgP",
        "outputId": "1e7e6493-b14b-44cd-c19d-fbd6c95121b6"
      },
      "source": [
        "aligned_features[30].shape"
      ],
      "execution_count": null,
      "outputs": [
        {
          "output_type": "execute_result",
          "data": {
            "text/plain": [
              "(18, 25)"
            ]
          },
          "metadata": {},
          "execution_count": 64
        }
      ]
    },
    {
      "cell_type": "code",
      "metadata": {
        "id": "d9SYilMwOaC5"
      },
      "source": [
        "import pickle\n",
        "\n",
        "with open('/content/gdrive/MyDrive/11-777 MMML/data/french_mfa_aligned_openface.pickle', 'rb') as handle:\n",
        "    aligned_openface_ids, aligned_openface_feats = pickle.load(handle)"
      ],
      "execution_count": null,
      "outputs": []
    },
    {
      "cell_type": "code",
      "metadata": {
        "id": "n8Z5OQghIF7U"
      },
      "source": [
        "import pickle\n",
        "\n",
        "with open('/content/gdrive/MyDrive/11-777 MMML/data/es_word_glove.pickle', 'rb') as handle:\n",
        "  word_embeddings = pickle.load(handle)"
      ],
      "execution_count": null,
      "outputs": []
    },
    {
      "cell_type": "code",
      "metadata": {
        "id": "7Nj8cuLAGSKq"
      },
      "source": [
        "import os\n",
        "import numpy as np\n",
        "from tqdm import tqdm\n",
        "from textgrid import TextGrid\n",
        "\n",
        "def get_word_feats(alignment_dir):\n",
        "\n",
        "  ids = list()\n",
        "  features = list()\n",
        "\n",
        "  unk_words = 0\n",
        "\n",
        "  for video_name in tqdm(os.listdir(alignment_dir), desc=\"align\"):\n",
        "    \n",
        "    for segment_alignment in os.listdir(alignment_dir + \"/\" + video_name):\n",
        "      if segment_alignment[0] == \".\":\n",
        "        continue\n",
        "      key_end_idx = 12 + segment_alignment[12:].find(\"_\")\n",
        "      key = segment_alignment[:key_end_idx]\n",
        "\n",
        "      if key not in text_lookup:\n",
        "        continue\n",
        "\n",
        "      ids.append(key)\n",
        "\n",
        "      segment_feats = list()\n",
        "      word_alignment = TextGrid.fromFile(f\"{alignment_dir}/{video_name}/{segment_alignment}\")[0]\n",
        "\n",
        "      for word in word_alignment:\n",
        "        if word.mark != \"\":\n",
        "          if word.mark in word_embeddings:\n",
        "            relevant_feats = word_embeddings[word.mark]\n",
        "          else:\n",
        "            relevant_feats = np.zeros(300)\n",
        "            unk_words += 1\n",
        "          segment_feats.append(relevant_feats)\n",
        "      features.append(np.stack(segment_feats))\n",
        "\n",
        "  print(f\"{unk_words} words are not matched\")\n",
        "  return ids, features"
      ],
      "execution_count": null,
      "outputs": []
    },
    {
      "cell_type": "code",
      "metadata": {
        "colab": {
          "base_uri": "https://localhost:8080/"
        },
        "id": "ReimfcxOQJ4q",
        "outputId": "94b7a7fd-a647-47ad-9a07-64ec68507fbf"
      },
      "source": [
        "aligned_ids, aligned_features = get_word_feats(\"/content/spanish_alignment\")"
      ],
      "execution_count": null,
      "outputs": [
        {
          "output_type": "stream",
          "name": "stderr",
          "text": [
            "align: 100%|██████████| 264/264 [00:23<00:00, 11.25it/s]"
          ]
        },
        {
          "output_type": "stream",
          "name": "stdout",
          "text": [
            "4162 words are not matched\n"
          ]
        },
        {
          "output_type": "stream",
          "name": "stderr",
          "text": [
            "\n"
          ]
        }
      ]
    },
    {
      "cell_type": "code",
      "metadata": {
        "id": "m61kE7zIRxnW"
      },
      "source": [
        "import pickle\n",
        "\n",
        "with open('/content/gdrive/MyDrive/11-777 MMML/data/spanish_mfa_aligned_word_embed.pickle', 'wb') as handle:\n",
        "    pickle.dump((aligned_ids, aligned_features), handle, protocol=pickle.HIGHEST_PROTOCOL)"
      ],
      "execution_count": null,
      "outputs": []
    },
    {
      "cell_type": "code",
      "metadata": {
        "id": "vN3aaIGoxPWy"
      },
      "source": [
        ""
      ],
      "execution_count": null,
      "outputs": []
    }
  ]
}