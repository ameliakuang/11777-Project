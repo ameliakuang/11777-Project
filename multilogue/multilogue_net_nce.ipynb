{
  "nbformat": 4,
  "nbformat_minor": 0,
  "metadata": {
    "accelerator": "GPU",
    "colab": {
      "name": "multilogue_net_nce (1).ipynb",
      "provenance": [],
      "collapsed_sections": [
        "T2pIQLLc-UtM",
        "J5miTeN6dk6v",
        "hc_kwwjnJ6KW"
      ],
      "machine_shape": "hm"
    },
    "kernelspec": {
      "display_name": "Python 3",
      "name": "python3"
    },
    "language_info": {
      "name": "python"
    }
  },
  "cells": [
    {
      "cell_type": "code",
      "metadata": {
        "colab": {
          "base_uri": "https://localhost:8080/"
        },
        "id": "Z4fpOO4RYXHH",
        "outputId": "bb99990c-4eb7-417f-f6ac-6d5b7c54e9a0"
      },
      "source": [
        "from google.colab import drive\n",
        "drive.mount('/content/gdrive')"
      ],
      "execution_count": null,
      "outputs": [
        {
          "output_type": "stream",
          "name": "stdout",
          "text": [
            "Drive already mounted at /content/gdrive; to attempt to forcibly remount, call drive.mount(\"/content/gdrive\", force_remount=True).\n"
          ]
        }
      ]
    },
    {
      "cell_type": "code",
      "metadata": {
        "colab": {
          "base_uri": "https://localhost:8080/"
        },
        "id": "RZ4lwGtAYdWQ",
        "outputId": "aed32ae7-914f-4077-a8da-e9d81dc1682a"
      },
      "source": [
        "%cd /content/gdrive/MyDrive/multilogue-net\n",
        "# % cd /content/drive/MyDrive/11-777 MMML/multilogue-net"
      ],
      "execution_count": null,
      "outputs": [
        {
          "output_type": "stream",
          "name": "stdout",
          "text": [
            "/content/gdrive/.shortcut-targets-by-id/1-OjvBpuqTljrC41gw_70o-QroM9_HQ8V/multilogue-net\n"
          ]
        }
      ]
    },
    {
      "cell_type": "code",
      "metadata": {
        "id": "-4dlIB8bYk1M"
      },
      "source": [
        "!pip install -r requirements.txt"
      ],
      "execution_count": null,
      "outputs": []
    },
    {
      "cell_type": "code",
      "metadata": {
        "id": "A-fAnnztYl75",
        "colab": {
          "base_uri": "https://localhost:8080/"
        },
        "outputId": "ca7d4a58-5d3a-46a4-a86d-00a1f33e2e85"
      },
      "source": [
        "import numpy as np, torch, torch.nn as nn, torch.optim as optim\n",
        "import argparse, time, pandas as pd, os\n",
        "from tqdm import tqdm\n",
        "from torch.utils.tensorboard import SummaryWriter\n",
        "from torch.utils.data import DataLoader\n",
        "from torch.utils.data.sampler import SubsetRandomSampler\n",
        "from sklearn.metrics import mean_absolute_error\n",
        "from scipy.stats import pearsonr\n",
        "from model_nce import RegressionModelNCE, MaskedMSELoss, BiModalAttention,CrossLingualNCELoss, RegressionModelNCE_, InterNCELoss\n",
        "from model import RegressionModel\n",
        "from dataloader import MOSEIRegressionBi, MOSEIRegression, MOSEIRegression_NCE\n",
        "\n",
        "np.random.seed(393)\n",
        "torch.cuda.device([0])"
      ],
      "execution_count": null,
      "outputs": [
        {
          "output_type": "execute_result",
          "data": {
            "text/plain": [
              "<torch.cuda.device at 0x7fadad538ed0>"
            ]
          },
          "metadata": {},
          "execution_count": 4
        }
      ]
    },
    {
      "cell_type": "code",
      "metadata": {
        "id": "GjC53Upuacsa"
      },
      "source": [
        "args = {\n",
        "    \"no_cuda\": False,\n",
        "    \"lr\": 1e-4,\n",
        "    \"l2\": 1e-4,\n",
        "    \"rec_dropout\": 0.1,\n",
        "    \"dropout\": 0.25,\n",
        "    \"batch_size\":64,\n",
        "    \"epochs\":250,\n",
        "    \"log_dir\": 'logs/moseas_regression'\n",
        "}\n",
        "os.makedirs(args[\"log_dir\"], exist_ok = True)"
      ],
      "execution_count": null,
      "outputs": []
    },
    {
      "cell_type": "code",
      "metadata": {
        "id": "pyFeZE-GbZj1",
        "colab": {
          "base_uri": "https://localhost:8080/"
        },
        "outputId": "d77ea854-f3bc-40e5-c611-612630026f22"
      },
      "source": [
        "# Run on either GPU or CPU\n",
        "args[\"cuda\"] = torch.cuda.is_available() and not args[\"no_cuda\"]\n",
        "if args[\"cuda\"]:\n",
        "    print('Running on GPU')\n",
        "else:\n",
        "    print('Running on CPU')\n",
        "print(\"Tensorboard logs in \" + args[\"log_dir\"])"
      ],
      "execution_count": null,
      "outputs": [
        {
          "output_type": "stream",
          "name": "stdout",
          "text": [
            "Running on GPU\n",
            "Tensorboard logs in logs/moseas_regression\n"
          ]
        }
      ]
    },
    {
      "cell_type": "code",
      "metadata": {
        "id": "yN2HyRHwYp_2"
      },
      "source": [
        "def get_train_valid_sampler(trainset, valid=0.1):\n",
        "    size = len(trainset)\n",
        "    idx = range(size)\n",
        "    split = int(valid*size)\n",
        "    return SubsetRandomSampler(idx[split:]), SubsetRandomSampler(idx[:split])\n",
        "\n",
        "def get_MOSEI_loaders(path, batch_size=128, valid=0.1, num_workers=0, pin_memory=False, mode=\"french\"):\n",
        "    trainset = MOSEIRegression_NCE(path=path)\n",
        "    train_sampler, valid_sampler = get_train_valid_sampler(trainset, valid)\n",
        "    train_loader = DataLoader(trainset, batch_size=batch_size, sampler=train_sampler, collate_fn=trainset.collate_fn, num_workers=num_workers, pin_memory=pin_memory)\n",
        "    valid_loader = DataLoader(trainset, batch_size=batch_size, sampler=valid_sampler, collate_fn=trainset.collate_fn, num_workers=num_workers, pin_memory=pin_memory)\n",
        "    print(mode)\n",
        "    testset = MOSEIRegression_NCE(path=path, train=False,mode=mode)\n",
        "    print(\"testset.len: \",testset.len)\n",
        "    test_loader = DataLoader(testset, batch_size=batch_size, collate_fn=testset.collate_fn, num_workers=num_workers, pin_memory=pin_memory)\n",
        "    return train_loader, valid_loader, test_loader"
      ],
      "execution_count": null,
      "outputs": []
    },
    {
      "cell_type": "code",
      "metadata": {
        "id": "fZT4KP6-YxFR"
      },
      "source": [
        "def train_or_eval_model(model, MSEloss, CrossLingualNCEloss, InterNCEloss, dataloader, epoch, optimizer=None, train=False):    \n",
        "    losses, preds, labels, masks = [], [], [], []\n",
        "    assert not train or optimizer!=None\n",
        "    if train:\n",
        "        model.train()\n",
        "    else:\n",
        "        model.eval()\n",
        "    for data in dataloader:\n",
        "        if train:\n",
        "            optimizer.zero_grad()\n",
        "        textf1, textf2, visuf, acouf, qmask, umask, label = [d.cuda() for d in data] if cuda else data\n",
        "        # print(textf1.shape, textf2.shape)\n",
        "        # jiu jiu hai zi\n",
        "        # l = label.detach().numpy()\n",
        "        # # print(\"train_or_eval\", (abs(l) <= 1e-5).sum())\n",
        "        # pred, hidden_at1, hidden_at2, hidden_vt1, hidden_vt2 = model(textf1, textf2, acouf, visuf, textf1, qmask, umask) \n",
        "        d = model(textf1, textf2, acouf, visuf, textf1, qmask, umask) \n",
        "        pred, hidden_a, hidden_v, hidden_t1, hidden_t2, hidden_at1, hidden_at2, hidden_vt1, hidden_vt2 = d['pred'], d['a'], d['v'], d['t1'], d['t2'], d['at1'], d['at2'], d['vt1'], d['vt2']\n",
        "        labels_ = label.view(-1) \n",
        "        umask_ = umask.view(-1)\n",
        "\n",
        "        mseloss = MSEloss(pred, labels_, umask_)\n",
        "        nceloss = InterNCEloss(hidden_a, hidden_v)\n",
        "        loss = mseloss+nceloss\n",
        "\n",
        "        preds.append(pred.data.cpu().numpy())\n",
        "        labels.append(labels_.data.cpu().numpy())\n",
        "        masks.append(umask_.cpu().numpy())\n",
        "        loss_detach = mseloss.item()*masks[-1].sum() + nceloss.detach().cpu().numpy()\n",
        "        print(mseloss.item()*masks[-1].sum())\n",
        "        print(nceloss.detach().cpu().numpy())\n",
        "        losses.append(loss_detach)\n",
        "        if train:\n",
        "            loss.backward()\n",
        "            optimizer.step()\n",
        "    if preds!=[]:\n",
        "        preds  = np.concatenate(preds)\n",
        "        labels = np.concatenate(labels)\n",
        "        masks  = np.concatenate(masks)\n",
        "    else:\n",
        "        return float('nan'), float('nan'), float('nan'), [], [], []\n",
        "    avg_loss = round(np.sum(losses)/np.sum(masks),4)\n",
        "    mae = round(mean_absolute_error(labels,preds,sample_weight=masks),4)\n",
        "    pred_lab = pd.DataFrame(list(filter(lambda x: x[2]==1, zip(labels, preds, masks))))\n",
        "    pear = round(pearsonr(pred_lab[0], pred_lab[1])[0], 4)\n",
        "    return avg_loss, mae, pear, labels, preds, masks"
      ],
      "execution_count": null,
      "outputs": []
    },
    {
      "cell_type": "code",
      "metadata": {
        "id": "azVC0jhJY43t"
      },
      "source": [
        "\n",
        "batch_size = args[\"batch_size\"]\n",
        "# batch_size = 1\n",
        "n_classes  = 6\n",
        "cuda       = args[\"cuda\"]\n",
        "n_epochs   = args[\"epochs\"]\n",
        "# MOSEI\n",
        "# D_m_text, D_m_audio, D_m_video, D_m_context = 300, 384, 35, 300\n",
        "# MOSEAS\n",
        "# D_m_text, D_m_audio, D_m_video, D_m_context = 300, 25, 35, 300\n",
        "# MOSEAS_full\n",
        "D_m_text, D_m_audio, D_m_video, D_m_context = 300, 25, 35, 300\n",
        "D_g, D_p, D_e, D_h, D_a = 150, 150, 100, 100, 100"
      ],
      "execution_count": null,
      "outputs": []
    },
    {
      "cell_type": "markdown",
      "metadata": {
        "id": "T2pIQLLc-UtM"
      },
      "source": [
        "## Data Processing"
      ]
    },
    {
      "cell_type": "code",
      "metadata": {
        "id": "jD2GvH9H_k8f",
        "colab": {
          "base_uri": "https://localhost:8080/",
          "height": 236
        },
        "outputId": "65b8301f-cf45-4e00-a85b-22fbc155ad4d"
      },
      "source": [
        "import pickle\n",
        "\n",
        "full_french_data = pickle.load(open('/content/gdrive/MyDrive/multilogue-net/data/moseas_full_regression.pickle', 'rb'))\n",
        "# keys = full_french_data[0]\n",
        "len(full_french_data)\n",
        "all_videos_seg, all_speakers, all_labels, text_feat, audio_feat, visual_feat, train_videos, test_videos = full_french_data"
      ],
      "execution_count": null,
      "outputs": [
        {
          "output_type": "error",
          "ename": "FileNotFoundError",
          "evalue": "ignored",
          "traceback": [
            "\u001b[0;31m---------------------------------------------------------------------------\u001b[0m",
            "\u001b[0;31mFileNotFoundError\u001b[0m                         Traceback (most recent call last)",
            "\u001b[0;32m<ipython-input-10-651ba2a7b586>\u001b[0m in \u001b[0;36m<module>\u001b[0;34m()\u001b[0m\n\u001b[1;32m      1\u001b[0m \u001b[0;32mimport\u001b[0m \u001b[0mpickle\u001b[0m\u001b[0;34m\u001b[0m\u001b[0;34m\u001b[0m\u001b[0m\n\u001b[1;32m      2\u001b[0m \u001b[0;34m\u001b[0m\u001b[0m\n\u001b[0;32m----> 3\u001b[0;31m \u001b[0mfull_french_data\u001b[0m \u001b[0;34m=\u001b[0m \u001b[0mpickle\u001b[0m\u001b[0;34m.\u001b[0m\u001b[0mload\u001b[0m\u001b[0;34m(\u001b[0m\u001b[0mopen\u001b[0m\u001b[0;34m(\u001b[0m\u001b[0;34m'/content/gdrive/MyDrive/multilogue-net/data/moseas_full_regression.pickle'\u001b[0m\u001b[0;34m,\u001b[0m \u001b[0;34m'rb'\u001b[0m\u001b[0;34m)\u001b[0m\u001b[0;34m)\u001b[0m\u001b[0;34m\u001b[0m\u001b[0;34m\u001b[0m\u001b[0m\n\u001b[0m\u001b[1;32m      4\u001b[0m \u001b[0;31m# keys = full_french_data[0]\u001b[0m\u001b[0;34m\u001b[0m\u001b[0;34m\u001b[0m\u001b[0;34m\u001b[0m\u001b[0m\n\u001b[1;32m      5\u001b[0m \u001b[0mlen\u001b[0m\u001b[0;34m(\u001b[0m\u001b[0mfull_french_data\u001b[0m\u001b[0;34m)\u001b[0m\u001b[0;34m\u001b[0m\u001b[0;34m\u001b[0m\u001b[0m\n",
            "\u001b[0;31mFileNotFoundError\u001b[0m: [Errno 2] No such file or directory: '/content/gdrive/MyDrive/multilogue-net/data/moseas_full_regression.pickle'"
          ]
        }
      ]
    },
    {
      "cell_type": "code",
      "metadata": {
        "id": "LJ2tVZHy15nN"
      },
      "source": [
        "text_feat['0sLJvUj7Z7M']"
      ],
      "execution_count": null,
      "outputs": []
    },
    {
      "cell_type": "code",
      "metadata": {
        "id": "zS51pchDCtJl"
      },
      "source": [
        "import pickle\n",
        "# spanish_data = pickle.load(open('/content/gdrive/MyDrive/moseas_french/moseas_spanish/spanish_french_lang_features_with_id.pickle', 'rb'))\n",
        "spanish_data = pickle.load(open('/content/drive/MyDrive/moseas_french/moseas_spanish/spanish_french_lang_features_with_id.pickle', 'rb'))"
      ],
      "execution_count": null,
      "outputs": []
    },
    {
      "cell_type": "code",
      "metadata": {
        "id": "ud_JNZsRC3GS"
      },
      "source": [
        "ids, feats = spanish_data"
      ],
      "execution_count": null,
      "outputs": []
    },
    {
      "cell_type": "code",
      "metadata": {
        "id": "OG20JDfewrO5"
      },
      "source": [
        "for f in feats:\n",
        "    print(len(f))"
      ],
      "execution_count": null,
      "outputs": []
    },
    {
      "cell_type": "code",
      "metadata": {
        "colab": {
          "base_uri": "https://localhost:8080/"
        },
        "id": "TcdsW3qvEkk_",
        "outputId": "2c728cd2-5efd-48c8-c903-2242d8a1ef7f"
      },
      "source": [
        "video, seg = 'sLJv_Uj7Z7M_0'.rsplit(\"_\",1)\n",
        "video, seg"
      ],
      "execution_count": null,
      "outputs": [
        {
          "data": {
            "text/plain": [
              "('sLJv_Uj7Z7M', '0')"
            ]
          },
          "execution_count": 66,
          "metadata": {},
          "output_type": "execute_result"
        }
      ]
    },
    {
      "cell_type": "code",
      "metadata": {
        "id": "I_MX22iIDIDh"
      },
      "source": [
        "new_spanish_data = {}"
      ],
      "execution_count": null,
      "outputs": []
    },
    {
      "cell_type": "code",
      "metadata": {
        "id": "oW_zmld2CZpl"
      },
      "source": [
        "spanish_text_feat = {}\n",
        "\n",
        "for key, vals in all_videos_seg.items():\n",
        "   for v in vals:\n",
        "      # v = v[1:]\n",
        "      if v in ids:\n",
        "          idx = ids.index(v)\n",
        "          # print(idx, v)\n",
        "          video, seg = v.rsplit(\"_\", 1)\n",
        "          # if (len(feats[idx]) == 0):\n",
        "          #   print(idx)\n",
        "          #   print(video)\n",
        "          if video in spanish_text_feat:\n",
        "            spanish_text_feat[video].append(feats[idx].mean(axis=0))\n",
        "          else:\n",
        "            spanish_text_feat[video] = [feats[idx].mean(axis=0)]"
      ],
      "execution_count": null,
      "outputs": []
    },
    {
      "cell_type": "code",
      "metadata": {
        "id": "6l7skFpTLCwg"
      },
      "source": [
        "moseas_regression_data_sp = (all_videos_seg, all_speakers, all_labels, text_feat, spanish_text_feat, audio_feat, visual_feat, train_videos, test_videos)"
      ],
      "execution_count": null,
      "outputs": []
    },
    {
      "cell_type": "code",
      "metadata": {
        "id": "94YJ-K6vN1Z9"
      },
      "source": [
        "import pickle\n",
        "full_data = pickle.load(open('/content/gdrive/MyDrive/multilogue-net/data/moseas_full_regression_spanish.pickle', 'rb'))\n",
        "all_videos_seg, all_speakers, all_labels, text_feat, spanish_text_feat, audio_feat, visual_feat, train_videos, test_videos = full_data"
      ],
      "execution_count": null,
      "outputs": []
    },
    {
      "cell_type": "code",
      "metadata": {
        "id": "z6NiNeSUdL6v"
      },
      "source": [
        "for vid in all_videos_seg:\n",
        "    if vid not in spanish_text_feat:\n",
        "        print(vid)\n",
        "    else:\n",
        "        print(spanish_text_feat[vid])\n",
        "        print(torch.FloatTensor(text_feat[vid]).shape, torch.FloatTensor(spanish_text_feat[vid]).shape)"
      ],
      "execution_count": null,
      "outputs": []
    },
    {
      "cell_type": "code",
      "metadata": {
        "id": "B7ffEATRKLsE"
      },
      "source": [
        "\n",
        "for k, v in text_feat.items():\n",
        "    if k in spanish_text_feat:\n",
        "      if (len(v) != len(spanish_text_feat[k])):\n",
        "          print('len not eq', k)\n",
        "    else:\n",
        "      print('not in', k)\n",
        "      for d in [all_videos_seg, all_speakers, all_labels, text_feat, audio_feat, visual_feat, train_videos, test_videos]:\n",
        "        d.pop(k)"
      ],
      "execution_count": null,
      "outputs": []
    },
    {
      "cell_type": "code",
      "metadata": {
        "id": "5_xOkKMwRcOy"
      },
      "source": [
        "for k, v in text_feat.items():\n",
        "    if k in spanish_text_feat:\n",
        "        print(len(v), v[0].shape, len(spanish_text_feat[k]), spanish_text_feat[k][0].shape)"
      ],
      "execution_count": null,
      "outputs": []
    },
    {
      "cell_type": "code",
      "metadata": {
        "id": "RiEfapEEL1mq"
      },
      "source": [
        "with open(\"/content/gdrive/MyDrive/multilogue-net/data/moseas_full_regression_spanish.pickle\", \"wb\") as f:\n",
        "    pickle.dump(moseas_regression_data_sp,f)"
      ],
      "execution_count": null,
      "outputs": []
    },
    {
      "cell_type": "markdown",
      "metadata": {
        "id": "qznZjZ9Z-b-z"
      },
      "source": [
        "## Training"
      ]
    },
    {
      "cell_type": "code",
      "metadata": {
        "id": "p6D5ZSRlebnb"
      },
      "source": [
        "def get_MOSEI_2loaders(path1, path2, batch_size=128, valid=0.1, num_workers=0, pin_memory=False, mode=\"french\"):\n",
        "    trainset = MOSEIRegressionBi(path1=path1, path2=path2)\n",
        "    train_sampler, valid_sampler = get_train_valid_sampler(trainset, valid)\n",
        "    train_loader = DataLoader(trainset, batch_size=batch_size, sampler=train_sampler, collate_fn=trainset.collate_fn, num_workers=num_workers, pin_memory=pin_memory)\n",
        "    valid_loader = DataLoader(trainset, batch_size=batch_size, sampler=valid_sampler, collate_fn=trainset.collate_fn, num_workers=num_workers, pin_memory=pin_memory)\n",
        "    print(mode)\n",
        "    testset = MOSEIRegressionBi(path1=path1, path2=path2, train=False,mode=mode)\n",
        "    print(\"testset.len: \",testset.len)\n",
        "    test_loader = DataLoader(testset, batch_size=batch_size, collate_fn=testset.collate_fn, num_workers=num_workers, pin_memory=pin_memory)\n",
        "    return train_loader, valid_loader, test_loader"
      ],
      "execution_count": null,
      "outputs": []
    },
    {
      "cell_type": "code",
      "metadata": {
        "colab": {
          "base_uri": "https://localhost:8080/"
        },
        "id": "Ut9wlnKLbo8A",
        "outputId": "61065f5e-0941-4777-9754-f638f444af24"
      },
      "source": [
        "# Instantiate model\n",
        "model = RegressionModelNCE_(D_m_text, D_m_audio, D_m_video, D_m_context, D_g, D_p, D_e, D_h, dropout_rec=args[\"rec_dropout\"], dropout=args[\"dropout\"])\n",
        "\n",
        "if cuda:\n",
        "    model.cuda()\n",
        "MSEloss = MaskedMSELoss()\n",
        "internceloss = InterNCELoss()\n",
        "crosslingualnceloss = CrossLingualNCELoss()\n",
        "\n",
        "# Get optimizer and relevant dataloaders\n",
        "optimizer = optim.Adam(model.parameters(), lr=args['lr'], weight_decay=args['l2'])\n",
        "# scheduler = torch.optim.lr_scheduler.ReduceLROnPlateau(optimizer, factor=0.7,patience=10,verbose=True)\n",
        "\n",
        "# amelia\n",
        "# train_loader, valid_loader, test_loader = get_MOSEI_loaders('/content/drive/MyDrive/11-777 MMML/multilogue-net/data/moseas_full_regression_spanish.pickle', valid=0.0, batch_size=batch_size, num_workers=0)\n",
        "# abbey\n",
        "# train_loader, valid_loader, test_loader = get_MOSEI_2loaders('/content/gdrive/MyDrive/multilogue-net/data/moseas_full_regression_french_spanishtranslate.pickle', '/content/gdrive/MyDrive/multilogue-net/data/moseas_spanish_duptextfornce_full_regression.pickle', valid=0.0, batch_size=batch_size, num_workers=0)\n",
        "\n",
        "train_loader, valid_loader, test_loader = get_MOSEI_loaders('/content/gdrive/MyDrive/multilogue-net/data/moseas_full_regression_french_spanishtranslate.pickle', valid=0.0, batch_size=batch_size, num_workers=0)\n",
        "best_loss, best_label, best_pred, best_mask, best_pear = None, None, None, None, None\n",
        "all_train_loss, all_test_loss, all_train_mae, all_test_mae, all_train_pear, all_test_pear = [],[],[],[],[],[]"
      ],
      "execution_count": null,
      "outputs": [
        {
          "output_type": "stream",
          "name": "stdout",
          "text": [
            "french\n",
            "testset.len:  57\n"
          ]
        }
      ]
    },
    {
      "cell_type": "code",
      "metadata": {
        "id": "fsFYVrY4cUIJ"
      },
      "source": [
        "def log_res(train_loss, test_loss, train_mae, test_mae, train_pear, test_pear):\n",
        "    print(\"Train Loss - MOSEAS Regression: \", train_loss)\n",
        "    print(\"Test Loss - MOSEAS Regression: \", test_loss)\n",
        "    print(\"Train MAE - MOSEAS Regression: \", train_mae)\n",
        "    print(\"Test MAE - MOSEAS Regression: \", test_mae)\n",
        "    print(\"Train Pearson - MOSEAS Regression: \", train_pear)\n",
        "    print(\"Test Pearson - MOSEAS Regression: \", test_pear)\n",
        "\n",
        "    all_train_loss.append(train_loss)\n",
        "    all_test_loss.append(test_loss)\n",
        "    all_train_mae.append(train_mae)\n",
        "    all_test_mae.append(test_mae)\n",
        "    all_train_pear.append(train_pear)\n",
        "    all_test_pear.append(test_pear)"
      ],
      "execution_count": null,
      "outputs": []
    },
    {
      "cell_type": "code",
      "metadata": {
        "colab": {
          "base_uri": "https://localhost:8080/"
        },
        "id": "m820zainpdFh",
        "outputId": "cbc04b03-6b45-45bf-9a0b-d4960b3f1811"
      },
      "source": [
        "# Training loop\n",
        "for e in tqdm(range(n_epochs), desc = 'MOSEAS Regression'):\n",
        "    train_loss, train_mae, train_pear,_,_,_ = train_or_eval_model(model, MSEloss, crosslingualnceloss, internceloss, train_loader, e, optimizer, True)\n",
        "    test_loss, test_mae, test_pear, test_label, test_pred, test_mask = train_or_eval_model(model, MSEloss, crosslingualnceloss, internceloss, test_loader, e)\n",
        "    log_res(train_loss, test_loss, train_mae, test_mae, train_pear, test_pear)\n",
        "\n",
        "    if best_loss == None or best_loss > test_loss:\n",
        "        best_loss, best_mae, best_label, best_pred, best_mask, best_pear =\\\n",
        "                test_loss, test_mae, test_label, test_pred, test_mask, test_pear\n",
        "        print(f\"saving checkpoint for epoch {e}\")\n",
        "        torch.save(model.state_dict(),f\"/content/gdrive/MyDrive/multilogue-net/logs/moseas_regression/epoch{e}_testloss_{best_loss}_testmae_{best_mae}_testpear_{best_pear}.t7\")\n",
        "\n",
        "print('Test performance..')\n",
        "print('Loss {} MAE {} r {}'.format(best_loss, round(mean_absolute_error(best_label,best_pred,sample_weight=best_mask),4), best_pear))"
      ],
      "execution_count": null,
      "outputs": [
        {
          "metadata": {
            "tags": null
          },
          "name": "stderr",
          "output_type": "stream",
          "text": [
            "\rMOSEAS Regression:   0%|          | 0/250 [00:00<?, ?it/s]/content/gdrive/.shortcut-targets-by-id/1-OjvBpuqTljrC41gw_70o-QroM9_HQ8V/multilogue-net/dataloader.py:92: UserWarning: Creating a tensor from a list of numpy.ndarrays is extremely slow. Please consider converting the list to a single numpy.ndarray with numpy.array() before converting to a tensor. (Triggered internally at  ../torch/csrc/utils/tensor_new.cpp:201.)\n",
            "  return self._deactive((torch.FloatTensor(self.videoText1[vid]),\\\n"
          ]
        },
        {
          "metadata": {
            "tags": null
          },
          "name": "stdout",
          "output_type": "stream",
          "text": [
            "758.3731520175934\n",
            "1.3345504\n",
            "618.5760982632637\n",
            "1.2802695\n",
            "803.9830303192139\n",
            "1.2485287\n",
            "368.99447351694107\n",
            "1.1845261\n",
            "585.1718873977661\n",
            "1.1804849\n",
            "Train Loss - MOSEAS Regression:  0.6452\n",
            "Test Loss - MOSEAS Regression:  0.5311\n",
            "Train MAE - MOSEAS Regression:  0.6083\n",
            "Test MAE - MOSEAS Regression:  0.56\n",
            "Train Pearson - MOSEAS Regression:  -0.0069\n",
            "Test Pearson - MOSEAS Regression:  -0.1099\n",
            "saving checkpoint for epoch 0\n"
          ]
        },
        {
          "metadata": {
            "tags": null
          },
          "name": "stderr",
          "output_type": "stream",
          "text": [
            "\rMOSEAS Regression:   0%|          | 1/250 [00:25<1:46:36, 25.69s/it]"
          ]
        },
        {
          "metadata": {
            "tags": null
          },
          "name": "stdout",
          "output_type": "stream",
          "text": [
            "541.5248945951462\n",
            "1.1326374\n",
            "613.311237692833\n",
            "1.1705116\n",
            "646.6353084445\n",
            "1.0686345\n",
            "312.3109721541405\n",
            "0.9729913\n"
          ]
        },
        {
          "metadata": {
            "tags": null
          },
          "name": "stderr",
          "output_type": "stream",
          "text": [
            "\rMOSEAS Regression:   1%|          | 2/250 [00:40<1:18:54, 19.09s/it]"
          ]
        },
        {
          "metadata": {
            "tags": null
          },
          "name": "stdout",
          "output_type": "stream",
          "text": [
            "552.2318258285522\n",
            "1.0641694\n",
            "Train Loss - MOSEAS Regression:  0.5349\n",
            "Test Loss - MOSEAS Regression:  0.5012\n",
            "Train MAE - MOSEAS Regression:  0.5578\n",
            "Test MAE - MOSEAS Regression:  0.5554\n",
            "Train Pearson - MOSEAS Regression:  -0.0504\n",
            "Test Pearson - MOSEAS Regression:  -0.0934\n",
            "saving checkpoint for epoch 1\n",
            "528.1773586273193\n",
            "1.0292952\n",
            "692.0291669368744\n",
            "1.0472347\n",
            "541.0342177152634\n",
            "0.83320713\n",
            "302.6819753050804\n",
            "1.0056291\n"
          ]
        },
        {
          "metadata": {
            "tags": null
          },
          "name": "stderr",
          "output_type": "stream",
          "text": [
            "\rMOSEAS Regression:   1%|          | 3/250 [00:54<1:10:34, 17.15s/it]"
          ]
        },
        {
          "metadata": {
            "tags": null
          },
          "name": "stdout",
          "output_type": "stream",
          "text": [
            "555.5497055053711\n",
            "0.9569412\n",
            "Train Loss - MOSEAS Regression:  0.5222\n",
            "Test Loss - MOSEAS Regression:  0.5041\n",
            "Train MAE - MOSEAS Regression:  0.5626\n",
            "Test MAE - MOSEAS Regression:  0.5655\n",
            "Train Pearson - MOSEAS Regression:  -0.0342\n",
            "Test Pearson - MOSEAS Regression:  -0.0815\n",
            "700.3056688308716\n",
            "0.8676643\n",
            "588.6916410923004\n",
            "0.95543873\n",
            "503.7015748023987\n",
            "0.8781785\n",
            "284.15571653842926\n",
            "0.6866159\n"
          ]
        },
        {
          "metadata": {
            "tags": null
          },
          "name": "stderr",
          "output_type": "stream",
          "text": [
            "\rMOSEAS Regression:   2%|▏         | 4/250 [01:11<1:08:28, 16.70s/it]"
          ]
        },
        {
          "metadata": {
            "tags": null
          },
          "name": "stdout",
          "output_type": "stream",
          "text": [
            "544.0748863220215\n",
            "0.85658324\n",
            "Train Loss - MOSEAS Regression:  0.5253\n",
            "Test Loss - MOSEAS Regression:  0.4936\n",
            "Train MAE - MOSEAS Regression:  0.5658\n",
            "Test MAE - MOSEAS Regression:  0.5541\n",
            "Train Pearson - MOSEAS Regression:  -0.0383\n",
            "Test Pearson - MOSEAS Regression:  -0.0628\n",
            "saving checkpoint for epoch 3\n",
            "383.83878350257874\n",
            "0.57367843\n",
            "487.7295200228691\n",
            "0.7180075\n",
            "684.5869015157223\n",
            "0.7831513\n",
            "457.0625910758972\n",
            "0.53775376\n"
          ]
        },
        {
          "metadata": {
            "tags": null
          },
          "name": "stderr",
          "output_type": "stream",
          "text": [
            "\rMOSEAS Regression:   2%|▏         | 5/250 [01:25<1:04:49, 15.88s/it]"
          ]
        },
        {
          "metadata": {
            "tags": null
          },
          "name": "stdout",
          "output_type": "stream",
          "text": [
            "536.0007276535034\n",
            "0.7543276\n",
            "Train Loss - MOSEAS Regression:  0.509\n",
            "Test Loss - MOSEAS Regression:  0.4862\n",
            "Train MAE - MOSEAS Regression:  0.553\n",
            "Test MAE - MOSEAS Regression:  0.5384\n",
            "Train Pearson - MOSEAS Regression:  0.0028\n",
            "Test Pearson - MOSEAS Regression:  -0.0217\n",
            "saving checkpoint for epoch 4\n",
            "557.1253561973572\n",
            "0.83664197\n",
            "652.3486108779907\n",
            "0.5148416\n",
            "543.6499947309494\n",
            "0.49543244\n",
            "296.1593692302704\n",
            "0.54461116\n"
          ]
        },
        {
          "metadata": {
            "tags": null
          },
          "name": "stderr",
          "output_type": "stream",
          "text": [
            "\rMOSEAS Regression:   2%|▏         | 6/250 [01:41<1:04:45, 15.93s/it]"
          ]
        },
        {
          "metadata": {
            "tags": null
          },
          "name": "stdout",
          "output_type": "stream",
          "text": [
            "536.9434947967529\n",
            "0.6477037\n",
            "Train Loss - MOSEAS Regression:  0.5181\n",
            "Test Loss - MOSEAS Regression:  0.4869\n",
            "Train MAE - MOSEAS Regression:  0.5536\n",
            "Test MAE - MOSEAS Regression:  0.536\n",
            "Train Pearson - MOSEAS Regression:  -0.0269\n",
            "Test Pearson - MOSEAS Regression:  0.0354\n",
            "601.2531593441963\n",
            "0.70456785\n",
            "543.42467212677\n",
            "0.53420854\n",
            "561.6866221427917\n",
            "0.30691737\n",
            "323.68303537368774\n",
            "0.13934614\n"
          ]
        },
        {
          "metadata": {
            "tags": null
          },
          "name": "stderr",
          "output_type": "stream",
          "text": [
            "\rMOSEAS Regression:   3%|▎         | 7/250 [01:57<1:04:25, 15.91s/it]"
          ]
        },
        {
          "metadata": {
            "tags": null
          },
          "name": "stdout",
          "output_type": "stream",
          "text": [
            "532.6573491096497\n",
            "0.5326474\n",
            "Train Loss - MOSEAS Regression:  0.5131\n",
            "Test Loss - MOSEAS Regression:  0.483\n",
            "Train MAE - MOSEAS Regression:  0.5463\n",
            "Test MAE - MOSEAS Regression:  0.5342\n",
            "Train Pearson - MOSEAS Regression:  0.0168\n",
            "Test Pearson - MOSEAS Regression:  0.0568\n",
            "saving checkpoint for epoch 6\n",
            "653.2861992716789\n",
            "0.3592314\n",
            "522.7869282960892\n",
            "0.35823944\n",
            "593.2388415336609\n",
            "0.2540844\n",
            "247.88991111516953\n",
            "0.5314428\n"
          ]
        },
        {
          "metadata": {
            "tags": null
          },
          "name": "stderr",
          "output_type": "stream",
          "text": [
            "\rMOSEAS Regression:   3%|▎         | 8/250 [02:13<1:04:14, 15.93s/it]"
          ]
        },
        {
          "metadata": {
            "tags": null
          },
          "name": "stdout",
          "output_type": "stream",
          "text": [
            "527.496575832367\n",
            "0.40299174\n",
            "Train Loss - MOSEAS Regression:  0.5098\n",
            "Test Loss - MOSEAS Regression:  0.4782\n",
            "Train MAE - MOSEAS Regression:  0.5476\n",
            "Test MAE - MOSEAS Regression:  0.5349\n",
            "Train Pearson - MOSEAS Regression:  0.0242\n",
            "Test Pearson - MOSEAS Regression:  0.0617\n",
            "saving checkpoint for epoch 7\n",
            "674.1978380084038\n",
            "0.17129582\n",
            "527.9735673069954\n",
            "0.5816052\n",
            "474.42150181531906\n",
            "0.08289823\n",
            "337.6765022277832\n",
            "-0.40906382\n"
          ]
        },
        {
          "metadata": {
            "tags": null
          },
          "name": "stderr",
          "output_type": "stream",
          "text": [
            "\rMOSEAS Regression:   4%|▎         | 9/250 [02:28<1:03:25, 15.79s/it]"
          ]
        },
        {
          "metadata": {
            "tags": null
          },
          "name": "stdout",
          "output_type": "stream",
          "text": [
            "525.351676940918\n",
            "0.26631957\n",
            "Train Loss - MOSEAS Regression:  0.5088\n",
            "Test Loss - MOSEAS Regression:  0.4761\n",
            "Train MAE - MOSEAS Regression:  0.5486\n",
            "Test MAE - MOSEAS Regression:  0.5367\n",
            "Train Pearson - MOSEAS Regression:  0.0335\n",
            "Test Pearson - MOSEAS Regression:  0.072\n",
            "saving checkpoint for epoch 8\n",
            "632.377937078476\n",
            "0.0674496\n",
            "468.3111574649811\n",
            "-0.25728658\n",
            "639.3279359936714\n",
            "0.15354\n",
            "265.0380236506462\n",
            "-0.88199157\n"
          ]
        },
        {
          "metadata": {
            "tags": null
          },
          "name": "stderr",
          "output_type": "stream",
          "text": [
            "\rMOSEAS Regression:   4%|▍         | 10/250 [02:43<1:01:28, 15.37s/it]"
          ]
        },
        {
          "metadata": {
            "tags": null
          },
          "name": "stdout",
          "output_type": "stream",
          "text": [
            "523.2003293037415\n",
            "0.10699976\n",
            "Train Loss - MOSEAS Regression:  0.5061\n",
            "Test Loss - MOSEAS Regression:  0.474\n",
            "Train MAE - MOSEAS Regression:  0.5508\n",
            "Test MAE - MOSEAS Regression:  0.5342\n",
            "Train Pearson - MOSEAS Regression:  0.0502\n",
            "Test Pearson - MOSEAS Regression:  0.0979\n",
            "saving checkpoint for epoch 9\n",
            "558.3447534441948\n",
            "0.22719726\n",
            "617.4909853935242\n",
            "-0.7656698\n",
            "579.461612701416\n",
            "-0.101179436\n",
            "296.93239974975586\n",
            "-0.68687576\n"
          ]
        },
        {
          "metadata": {
            "tags": null
          },
          "name": "stderr",
          "output_type": "stream",
          "text": [
            "\rMOSEAS Regression:   4%|▍         | 11/250 [02:58<1:01:31, 15.44s/it]"
          ]
        },
        {
          "metadata": {
            "tags": null
          },
          "name": "stdout",
          "output_type": "stream",
          "text": [
            "521.8626751899719\n",
            "-0.077874355\n",
            "Train Loss - MOSEAS Regression:  0.5179\n",
            "Test Loss - MOSEAS Regression:  0.4726\n",
            "Train MAE - MOSEAS Regression:  0.5596\n",
            "Test MAE - MOSEAS Regression:  0.5321\n",
            "Train Pearson - MOSEAS Regression:  0.0212\n",
            "Test Pearson - MOSEAS Regression:  0.1182\n",
            "saving checkpoint for epoch 10\n",
            "559.8273980617523\n",
            "-0.21158233\n",
            "662.0399022102356\n",
            "-0.47791645\n",
            "548.747082233429\n",
            "-0.33086324\n",
            "325.02277994155884\n",
            "1.52651\n"
          ]
        },
        {
          "metadata": {
            "tags": null
          },
          "name": "stderr",
          "output_type": "stream",
          "text": [
            "\rMOSEAS Regression:   5%|▍         | 12/250 [03:14<1:02:02, 15.64s/it]"
          ]
        },
        {
          "metadata": {
            "tags": null
          },
          "name": "stdout",
          "output_type": "stream",
          "text": [
            "520.6791987419128\n",
            "-0.2688129\n",
            "Train Loss - MOSEAS Regression:  0.5293\n",
            "Test Loss - MOSEAS Regression:  0.4714\n",
            "Train MAE - MOSEAS Regression:  0.5626\n",
            "Test MAE - MOSEAS Regression:  0.5311\n",
            "Train Pearson - MOSEAS Regression:  0.0203\n",
            "Test Pearson - MOSEAS Regression:  0.1312\n",
            "saving checkpoint for epoch 11\n",
            "659.2124211788177\n",
            "-0.14715767\n",
            "549.6826283633709\n",
            "-0.6618097\n",
            "667.6402406096458\n",
            "-0.94558877\n",
            "207.84017634391785\n",
            "-0.32119766\n"
          ]
        },
        {
          "metadata": {
            "tags": null
          },
          "name": "stderr",
          "output_type": "stream",
          "text": [
            "\rMOSEAS Regression:   5%|▌         | 13/250 [03:31<1:02:50, 15.91s/it]"
          ]
        },
        {
          "metadata": {
            "tags": null
          },
          "name": "stdout",
          "output_type": "stream",
          "text": [
            "519.3540143966675\n",
            "-0.44955966\n",
            "Train Loss - MOSEAS Regression:  0.5258\n",
            "Test Loss - MOSEAS Regression:  0.47\n",
            "Train MAE - MOSEAS Regression:  0.5603\n",
            "Test MAE - MOSEAS Regression:  0.5305\n",
            "Train Pearson - MOSEAS Regression:  0.0378\n",
            "Test Pearson - MOSEAS Regression:  0.1405\n",
            "saving checkpoint for epoch 12\n",
            "575.0738426148891\n",
            "-0.66355556\n",
            "744.4139295816422\n",
            "-1.2176874\n",
            "431.1185209751129\n",
            "-0.19455846\n",
            "274.0411922931671\n",
            "-1.040246\n"
          ]
        },
        {
          "metadata": {
            "tags": null
          },
          "name": "stderr",
          "output_type": "stream",
          "text": [
            "\rMOSEAS Regression:   6%|▌         | 14/250 [03:48<1:03:24, 16.12s/it]"
          ]
        },
        {
          "metadata": {
            "tags": null
          },
          "name": "stdout",
          "output_type": "stream",
          "text": [
            "517.6916527748108\n",
            "-0.6636783\n",
            "Train Loss - MOSEAS Regression:  0.5105\n",
            "Test Loss - MOSEAS Regression:  0.4683\n",
            "Train MAE - MOSEAS Regression:  0.5521\n",
            "Test MAE - MOSEAS Regression:  0.5309\n",
            "Train Pearson - MOSEAS Regression:  0.0853\n",
            "Test Pearson - MOSEAS Regression:  0.1455\n",
            "saving checkpoint for epoch 13\n",
            "627.3512309789658\n",
            "-1.048946\n",
            "584.4879102706909\n",
            "-0.5288664\n",
            "569.7978515625\n",
            "-0.97471684\n",
            "310.97665786743164\n",
            "-1.7173529\n"
          ]
        },
        {
          "metadata": {
            "tags": null
          },
          "name": "stderr",
          "output_type": "stream",
          "text": [
            "\rMOSEAS Regression:   6%|▌         | 15/250 [04:04<1:03:50, 16.30s/it]"
          ]
        },
        {
          "metadata": {
            "tags": null
          },
          "name": "stdout",
          "output_type": "stream",
          "text": [
            "516.6427116394043\n",
            "-0.9267774\n",
            "Train Loss - MOSEAS Regression:  0.5274\n",
            "Test Loss - MOSEAS Regression:  0.4671\n",
            "Train MAE - MOSEAS Regression:  0.5633\n",
            "Test MAE - MOSEAS Regression:  0.5314\n",
            "Train Pearson - MOSEAS Regression:  0.0393\n",
            "Test Pearson - MOSEAS Regression:  0.1504\n",
            "saving checkpoint for epoch 14\n",
            "659.0967745780945\n",
            "-0.85093105\n",
            "538.2353689670563\n",
            "-1.3579395\n",
            "489.8622500896454\n",
            "-1.2010411\n",
            "385.7759245634079\n",
            "-2.5997734\n"
          ]
        },
        {
          "metadata": {
            "tags": null
          },
          "name": "stderr",
          "output_type": "stream",
          "text": [
            "\rMOSEAS Regression:   6%|▋         | 16/250 [04:20<1:03:26, 16.27s/it]"
          ]
        },
        {
          "metadata": {
            "tags": null
          },
          "name": "stdout",
          "output_type": "stream",
          "text": [
            "519.3363132476807\n",
            "-1.2535151\n",
            "Train Loss - MOSEAS Regression:  0.522\n",
            "Test Loss - MOSEAS Regression:  0.4693\n",
            "Train MAE - MOSEAS Regression:  0.5573\n",
            "Test MAE - MOSEAS Regression:  0.5285\n",
            "Train Pearson - MOSEAS Regression:  0.06\n",
            "Test Pearson - MOSEAS Regression:  0.1595\n",
            "566.3974148631096\n",
            "-2.1672895\n",
            "649.6752732396126\n",
            "-1.798068\n",
            "583.6402502059937\n",
            "-2.5634868\n",
            "312.8304423391819\n",
            "-1.4085481\n"
          ]
        },
        {
          "metadata": {
            "tags": null
          },
          "name": "stderr",
          "output_type": "stream",
          "text": [
            "\rMOSEAS Regression:   7%|▋         | 17/250 [04:35<1:01:25, 15.82s/it]"
          ]
        },
        {
          "metadata": {
            "tags": null
          },
          "name": "stdout",
          "output_type": "stream",
          "text": [
            "515.5065150260925\n",
            "-1.6728052\n",
            "Train Loss - MOSEAS Regression:  0.5315\n",
            "Test Loss - MOSEAS Regression:  0.4654\n",
            "Train MAE - MOSEAS Regression:  0.563\n",
            "Test MAE - MOSEAS Regression:  0.5309\n",
            "Train Pearson - MOSEAS Regression:  0.0679\n",
            "Test Pearson - MOSEAS Regression:  0.1574\n",
            "saving checkpoint for epoch 16\n",
            "687.9512481689453\n",
            "-1.4078877\n",
            "530.9820804595947\n",
            "-2.048208\n",
            "724.242849111557\n",
            "-2.604915\n",
            "238.14587992429733\n",
            "-3.2464173\n"
          ]
        },
        {
          "metadata": {
            "tags": null
          },
          "name": "stderr",
          "output_type": "stream",
          "text": [
            "\rMOSEAS Regression:   7%|▋         | 18/250 [04:52<1:01:45, 15.97s/it]"
          ]
        },
        {
          "metadata": {
            "tags": null
          },
          "name": "stdout",
          "output_type": "stream",
          "text": [
            "515.4144229888916\n",
            "-2.1881218\n",
            "Train Loss - MOSEAS Regression:  0.5485\n",
            "Test Loss - MOSEAS Regression:  0.4649\n",
            "Train MAE - MOSEAS Regression:  0.5762\n",
            "Test MAE - MOSEAS Regression:  0.532\n",
            "Train Pearson - MOSEAS Regression:  0.0279\n",
            "Test Pearson - MOSEAS Regression:  0.1558\n",
            "saving checkpoint for epoch 17\n",
            "643.759042263031\n",
            "-3.0082862\n",
            "624.4796431064606\n",
            "-1.8687187\n",
            "596.030357003212\n",
            "-2.9265246\n",
            "281.91655844449997\n",
            "-6.4344316\n"
          ]
        },
        {
          "metadata": {
            "tags": null
          },
          "name": "stderr",
          "output_type": "stream",
          "text": [
            "\rMOSEAS Regression:   8%|▊         | 19/250 [05:07<1:01:09, 15.88s/it]"
          ]
        },
        {
          "metadata": {
            "tags": null
          },
          "name": "stdout",
          "output_type": "stream",
          "text": [
            "516.8427872657776\n",
            "-2.849063\n",
            "Train Loss - MOSEAS Regression:  0.5384\n",
            "Test Loss - MOSEAS Regression:  0.4656\n",
            "Train MAE - MOSEAS Regression:  0.5683\n",
            "Test MAE - MOSEAS Regression:  0.5285\n",
            "Train Pearson - MOSEAS Regression:  0.0542\n",
            "Test Pearson - MOSEAS Regression:  0.1599\n",
            "607.8593586087227\n",
            "-3.5480003\n",
            "650.3467655181885\n",
            "-2.604116\n",
            "609.6976790428162\n",
            "-4.765256\n",
            "326.34709042310715\n",
            "-3.5752707\n"
          ]
        },
        {
          "metadata": {
            "tags": null
          },
          "name": "stderr",
          "output_type": "stream",
          "text": [
            "\rMOSEAS Regression:   8%|▊         | 20/250 [05:23<1:01:15, 15.98s/it]"
          ]
        },
        {
          "metadata": {
            "tags": null
          },
          "name": "stdout",
          "output_type": "stream",
          "text": [
            "515.4863791465759\n",
            "-3.7022989\n",
            "Train Loss - MOSEAS Regression:  0.5504\n",
            "Test Loss - MOSEAS Regression:  0.4636\n",
            "Train MAE - MOSEAS Regression:  0.5777\n",
            "Test MAE - MOSEAS Regression:  0.5291\n",
            "Train Pearson - MOSEAS Regression:  0.0516\n",
            "Test Pearson - MOSEAS Regression:  0.1594\n",
            "saving checkpoint for epoch 19\n",
            "598.8333984613419\n",
            "-4.9424543\n",
            "679.4191464185715\n",
            "-3.5024548\n",
            "542.6583534479141\n",
            "-4.2781243\n",
            "338.4780018925667\n",
            "-6.804128\n"
          ]
        },
        {
          "metadata": {
            "tags": null
          },
          "name": "stderr",
          "output_type": "stream",
          "text": [
            "\rMOSEAS Regression:   8%|▊         | 21/250 [05:39<1:00:52, 15.95s/it]"
          ]
        },
        {
          "metadata": {
            "tags": null
          },
          "name": "stdout",
          "output_type": "stream",
          "text": [
            "514.8567051887512\n",
            "-4.801251\n",
            "Train Loss - MOSEAS Regression:  0.5404\n",
            "Test Loss - MOSEAS Regression:  0.462\n",
            "Train MAE - MOSEAS Regression:  0.5769\n",
            "Test MAE - MOSEAS Regression:  0.5297\n",
            "Train Pearson - MOSEAS Regression:  0.095\n",
            "Test Pearson - MOSEAS Regression:  0.1599\n",
            "saving checkpoint for epoch 20\n",
            "646.5577901601791\n",
            "-5.1941404\n",
            "540.7218999266624\n",
            "-5.4316697\n",
            "633.81381046772\n",
            "-4.8993244\n",
            "401.99803590774536\n",
            "-7.173008\n"
          ]
        },
        {
          "metadata": {
            "tags": null
          },
          "name": "stderr",
          "output_type": "stream",
          "text": [
            "\rMOSEAS Regression:   9%|▉         | 22/250 [05:56<1:01:40, 16.23s/it]"
          ]
        },
        {
          "metadata": {
            "tags": null
          },
          "name": "stdout",
          "output_type": "stream",
          "text": [
            "516.3101735115051\n",
            "-6.236608\n",
            "Train Loss - MOSEAS Regression:  0.5557\n",
            "Test Loss - MOSEAS Regression:  0.462\n",
            "Train MAE - MOSEAS Regression:  0.582\n",
            "Test MAE - MOSEAS Regression:  0.5277\n",
            "Train Pearson - MOSEAS Regression:  0.0799\n",
            "Test Pearson - MOSEAS Regression:  0.165\n",
            "524.0170369148254\n",
            "-7.301873\n",
            "717.5318701267242\n",
            "-7.5636187\n",
            "723.6163258552551\n",
            "-6.5379057\n",
            "284.37429815530777\n",
            "-8.958272\n"
          ]
        },
        {
          "metadata": {
            "tags": null
          },
          "name": "stderr",
          "output_type": "stream",
          "text": [
            "\rMOSEAS Regression:   9%|▉         | 23/250 [06:12<1:00:59, 16.12s/it]"
          ]
        },
        {
          "metadata": {
            "tags": null
          },
          "name": "stdout",
          "output_type": "stream",
          "text": [
            "516.9915690422058\n",
            "-8.140334\n",
            "Train Loss - MOSEAS Regression:  0.5604\n",
            "Test Loss - MOSEAS Regression:  0.4609\n",
            "Train MAE - MOSEAS Regression:  0.5868\n",
            "Test MAE - MOSEAS Regression:  0.5274\n",
            "Train Pearson - MOSEAS Regression:  0.0773\n",
            "Test Pearson - MOSEAS Regression:  0.1666\n",
            "saving checkpoint for epoch 22\n",
            "700.8912566900253\n",
            "-11.982214\n",
            "558.4640117883682\n",
            "-7.46711\n",
            "550.4905394911766\n",
            "-10.391869\n",
            "470.66570699214935\n",
            "-11.884103\n"
          ]
        },
        {
          "metadata": {
            "tags": null
          },
          "name": "stderr",
          "output_type": "stream",
          "text": [
            "\rMOSEAS Regression:  10%|▉         | 24/250 [06:27<59:49, 15.88s/it]  "
          ]
        },
        {
          "metadata": {
            "tags": null
          },
          "name": "stdout",
          "output_type": "stream",
          "text": [
            "514.9795603752136\n",
            "-10.783747\n",
            "Train Loss - MOSEAS Regression:  0.5654\n",
            "Test Loss - MOSEAS Regression:  0.4567\n",
            "Train MAE - MOSEAS Regression:  0.5893\n",
            "Test MAE - MOSEAS Regression:  0.5273\n",
            "Train Pearson - MOSEAS Regression:  0.1148\n",
            "Test Pearson - MOSEAS Regression:  0.1654\n",
            "saving checkpoint for epoch 23\n",
            "723.7383034825325\n",
            "-9.666669\n",
            "619.0961849689484\n",
            "-12.630341\n",
            "681.2487867474556\n",
            "-14.301893\n",
            "387.9731512069702\n",
            "-16.520857\n"
          ]
        },
        {
          "metadata": {
            "tags": null
          },
          "name": "stderr",
          "output_type": "stream",
          "text": [
            "\rMOSEAS Regression:  10%|█         | 25/250 [06:43<59:31, 15.87s/it]"
          ]
        },
        {
          "metadata": {
            "tags": null
          },
          "name": "stdout",
          "output_type": "stream",
          "text": [
            "519.16028881073\n",
            "-14.716426\n",
            "Train Loss - MOSEAS Regression:  0.5957\n",
            "Test Loss - MOSEAS Regression:  0.4569\n",
            "Train MAE - MOSEAS Regression:  0.6104\n",
            "Test MAE - MOSEAS Regression:  0.5376\n",
            "Train Pearson - MOSEAS Regression:  0.0714\n",
            "Test Pearson - MOSEAS Regression:  0.15\n",
            "576.6023241281509\n",
            "-17.772442\n",
            "785.0639630556107\n",
            "-17.616627\n",
            "665.1034820079803\n",
            "-15.627482\n",
            "330.445865213871\n",
            "-23.319542\n"
          ]
        },
        {
          "metadata": {
            "tags": null
          },
          "name": "stderr",
          "output_type": "stream",
          "text": [
            "\rMOSEAS Regression:  10%|█         | 26/250 [06:59<58:37, 15.70s/it]"
          ]
        },
        {
          "metadata": {
            "tags": null
          },
          "name": "stdout",
          "output_type": "stream",
          "text": [
            "531.4027061462402\n",
            "-20.841831\n",
            "Train Loss - MOSEAS Regression:  0.5765\n",
            "Test Loss - MOSEAS Regression:  0.4625\n",
            "Train MAE - MOSEAS Regression:  0.6043\n",
            "Test MAE - MOSEAS Regression:  0.5298\n",
            "Train Pearson - MOSEAS Regression:  0.1272\n",
            "Test Pearson - MOSEAS Regression:  0.1583\n",
            "663.53974878788\n",
            "-21.501345\n",
            "786.1014084219933\n",
            "-23.257734\n",
            "692.7192544937134\n",
            "-21.977562\n",
            "361.4567965269089\n",
            "-29.112278\n"
          ]
        },
        {
          "metadata": {
            "tags": null
          },
          "name": "stderr",
          "output_type": "stream",
          "text": [
            "\rMOSEAS Regression:  11%|█         | 27/250 [07:15<59:23, 15.98s/it]"
          ]
        },
        {
          "metadata": {
            "tags": null
          },
          "name": "stdout",
          "output_type": "stream",
          "text": [
            "514.4342794418335\n",
            "-28.365656\n",
            "Train Loss - MOSEAS Regression:  0.6081\n",
            "Test Loss - MOSEAS Regression:  0.4403\n",
            "Train MAE - MOSEAS Regression:  0.6155\n",
            "Test MAE - MOSEAS Regression:  0.5291\n",
            "Train Pearson - MOSEAS Regression:  0.1018\n",
            "Test Pearson - MOSEAS Regression:  0.1625\n",
            "saving checkpoint for epoch 26\n",
            "672.2268104553223\n",
            "-26.315725\n",
            "690.712984085083\n",
            "-29.14679\n",
            "852.3526341319084\n",
            "-30.774313\n",
            "509.8189115524292\n",
            "-42.585712\n"
          ]
        },
        {
          "metadata": {
            "tags": null
          },
          "name": "stderr",
          "output_type": "stream",
          "text": [
            "\rMOSEAS Regression:  11%|█         | 28/250 [07:31<59:09, 15.99s/it]"
          ]
        },
        {
          "metadata": {
            "tags": null
          },
          "name": "stdout",
          "output_type": "stream",
          "text": [
            "520.3764696121216\n",
            "-37.404114\n",
            "Train Loss - MOSEAS Regression:  0.6556\n",
            "Test Loss - MOSEAS Regression:  0.4375\n",
            "Train MAE - MOSEAS Regression:  0.6549\n",
            "Test MAE - MOSEAS Regression:  0.5255\n",
            "Train Pearson - MOSEAS Regression:  0.094\n",
            "Test Pearson - MOSEAS Regression:  0.1673\n",
            "saving checkpoint for epoch 27\n",
            "953.8557028770447\n",
            "-34.66411\n",
            "640.8078712821007\n",
            "-40.863586\n",
            "851.2680292129517\n",
            "-45.29269\n",
            "441.9555324912071\n",
            "-46.914383\n"
          ]
        },
        {
          "metadata": {
            "tags": null
          },
          "name": "stderr",
          "output_type": "stream",
          "text": [
            "\rMOSEAS Regression:  12%|█▏        | 29/250 [07:47<58:38, 15.92s/it]"
          ]
        },
        {
          "metadata": {
            "tags": null
          },
          "name": "stdout",
          "output_type": "stream",
          "text": [
            "515.5999231338501\n",
            "-47.649837\n",
            "Train Loss - MOSEAS Regression:  0.6869\n",
            "Test Loss - MOSEAS Regression:  0.4239\n",
            "Train MAE - MOSEAS Regression:  0.6765\n",
            "Test MAE - MOSEAS Regression:  0.5331\n",
            "Train Pearson - MOSEAS Regression:  0.0865\n",
            "Test Pearson - MOSEAS Regression:  0.164\n",
            "saving checkpoint for epoch 28\n",
            "799.8998900055885\n",
            "-45.221237\n",
            "744.4249746203423\n",
            "-53.325054\n",
            "1000.7289972305298\n",
            "-53.95725\n",
            "423.1672005057335\n",
            "-64.87357\n"
          ]
        },
        {
          "metadata": {
            "tags": null
          },
          "name": "stderr",
          "output_type": "stream",
          "text": [
            "\rMOSEAS Regression:  12%|█▏        | 30/250 [08:02<57:05, 15.57s/it]"
          ]
        },
        {
          "metadata": {
            "tags": null
          },
          "name": "stdout",
          "output_type": "stream",
          "text": [
            "540.8424196243286\n",
            "-59.39976\n",
            "Train Loss - MOSEAS Regression:  0.6947\n",
            "Test Loss - MOSEAS Regression:  0.4361\n",
            "Train MAE - MOSEAS Regression:  0.6795\n",
            "Test MAE - MOSEAS Regression:  0.5321\n",
            "Train Pearson - MOSEAS Regression:  0.117\n",
            "Test Pearson - MOSEAS Regression:  0.1737\n",
            "1130.4316718578339\n",
            "-56.46658\n",
            "782.4615303277969\n",
            "-54.630543\n",
            "1015.0208643078804\n",
            "-59.157223\n",
            "388.4510010480881\n",
            "-70.88018\n"
          ]
        },
        {
          "metadata": {
            "tags": null
          },
          "name": "stderr",
          "output_type": "stream",
          "text": [
            "\rMOSEAS Regression:  12%|█▏        | 31/250 [08:18<57:36, 15.78s/it]"
          ]
        },
        {
          "metadata": {
            "tags": null
          },
          "name": "stdout",
          "output_type": "stream",
          "text": [
            "581.9415264129639\n",
            "-72.848816\n",
            "Train Loss - MOSEAS Regression:  0.7766\n",
            "Test Loss - MOSEAS Regression:  0.4611\n",
            "Train MAE - MOSEAS Regression:  0.7215\n",
            "Test MAE - MOSEAS Regression:  0.5841\n",
            "Train Pearson - MOSEAS Regression:  0.098\n",
            "Test Pearson - MOSEAS Regression:  0.1515\n",
            "928.8596744537354\n",
            "-83.3742\n",
            "1314.293720126152\n",
            "-78.80566\n",
            "877.2423185110092\n",
            "-81.67246\n",
            "602.1817525625229\n",
            "-87.451\n"
          ]
        },
        {
          "metadata": {
            "tags": null
          },
          "name": "stderr",
          "output_type": "stream",
          "text": [
            "\rMOSEAS Regression:  13%|█▎        | 32/250 [08:34<57:35, 15.85s/it]"
          ]
        },
        {
          "metadata": {
            "tags": null
          },
          "name": "stdout",
          "output_type": "stream",
          "text": [
            "624.6611108779907\n",
            "-88.58361\n",
            "Train Loss - MOSEAS Regression:  0.8564\n",
            "Test Loss - MOSEAS Regression:  0.4856\n",
            "Train MAE - MOSEAS Regression:  0.7731\n",
            "Test MAE - MOSEAS Regression:  0.5742\n",
            "Train Pearson - MOSEAS Regression:  0.0681\n",
            "Test Pearson - MOSEAS Regression:  0.1712\n",
            "1063.9264698028564\n",
            "-84.89674\n",
            "1221.5760295391083\n",
            "-95.37156\n",
            "1109.2014112472534\n",
            "-105.45616\n",
            "641.3747370243073\n",
            "-114.61164\n"
          ]
        },
        {
          "metadata": {
            "tags": null
          },
          "name": "stderr",
          "output_type": "stream",
          "text": [
            "\rMOSEAS Regression:  13%|█▎        | 33/250 [08:50<56:57, 15.75s/it]"
          ]
        },
        {
          "metadata": {
            "tags": null
          },
          "name": "stdout",
          "output_type": "stream",
          "text": [
            "580.258074760437\n",
            "-106.93634\n",
            "Train Loss - MOSEAS Regression:  0.9181\n",
            "Test Loss - MOSEAS Regression:  0.4287\n",
            "Train MAE - MOSEAS Regression:  0.7993\n",
            "Test MAE - MOSEAS Regression:  0.5816\n",
            "Train Pearson - MOSEAS Regression:  0.0569\n",
            "Test Pearson - MOSEAS Regression:  0.1517\n",
            "1099.8237589001656\n",
            "-92.52341\n",
            "1219.767837524414\n",
            "-109.17865\n",
            "1244.2908420562744\n",
            "-118.09115\n",
            "730.6606620550156\n",
            "-128.73732\n"
          ]
        },
        {
          "metadata": {
            "tags": null
          },
          "name": "stderr",
          "output_type": "stream",
          "text": [
            "\rMOSEAS Regression:  14%|█▎        | 34/250 [09:06<57:21, 15.93s/it]"
          ]
        },
        {
          "metadata": {
            "tags": null
          },
          "name": "stdout",
          "output_type": "stream",
          "text": [
            "545.0470676422119\n",
            "-127.817604\n",
            "Train Loss - MOSEAS Regression:  0.9712\n",
            "Test Loss - MOSEAS Regression:  0.3779\n",
            "Train MAE - MOSEAS Regression:  0.8327\n",
            "Test MAE - MOSEAS Regression:  0.5415\n",
            "Train Pearson - MOSEAS Regression:  0.0702\n",
            "Test Pearson - MOSEAS Regression:  0.1579\n",
            "saving checkpoint for epoch 33\n",
            "1364.661610364914\n",
            "-146.5213\n",
            "1500.8218995332718\n",
            "-131.8925\n",
            "1277.1222705841064\n",
            "-135.4835\n",
            "761.4400749206543\n",
            "-150.76648\n"
          ]
        },
        {
          "metadata": {
            "tags": null
          },
          "name": "stderr",
          "output_type": "stream",
          "text": [
            "\rMOSEAS Regression:  14%|█▍        | 35/250 [09:21<56:19, 15.72s/it]"
          ]
        },
        {
          "metadata": {
            "tags": null
          },
          "name": "stdout",
          "output_type": "stream",
          "text": [
            "539.9552564620972\n",
            "-151.96173\n",
            "Train Loss - MOSEAS Regression:  1.0958\n",
            "Test Loss - MOSEAS Regression:  0.3514\n",
            "Train MAE - MOSEAS Regression:  0.8727\n",
            "Test MAE - MOSEAS Regression:  0.5404\n",
            "Train Pearson - MOSEAS Regression:  0.0659\n",
            "Test Pearson - MOSEAS Regression:  0.1594\n",
            "saving checkpoint for epoch 34\n",
            "1105.0832431316376\n",
            "-143.67273\n",
            "1529.0564393997192\n",
            "-180.67181\n",
            "1664.3092453479767\n",
            "-158.11617\n",
            "818.5756888389587\n",
            "-187.73878\n"
          ]
        },
        {
          "metadata": {
            "tags": null
          },
          "name": "stderr",
          "output_type": "stream",
          "text": [
            "\rMOSEAS Regression:  14%|█▍        | 36/250 [09:36<55:35, 15.59s/it]"
          ]
        },
        {
          "metadata": {
            "tags": null
          },
          "name": "stdout",
          "output_type": "stream",
          "text": [
            "698.9588871002197\n",
            "-179.4278\n",
            "Train Loss - MOSEAS Regression:  1.1229\n",
            "Test Loss - MOSEAS Regression:  0.4706\n",
            "Train MAE - MOSEAS Regression:  0.9131\n",
            "Test MAE - MOSEAS Regression:  0.6532\n",
            "Train Pearson - MOSEAS Regression:  0.1226\n",
            "Test Pearson - MOSEAS Regression:  0.1509\n",
            "1643.6963511705399\n",
            "-207.04459\n",
            "1829.6544028520584\n",
            "-185.27266\n",
            "1453.6602630615234\n",
            "-172.87338\n",
            "695.1490888595581\n",
            "-216.20552\n"
          ]
        },
        {
          "metadata": {
            "tags": null
          },
          "name": "stderr",
          "output_type": "stream",
          "text": [
            "\rMOSEAS Regression:  15%|█▍        | 37/250 [09:53<56:33, 15.93s/it]"
          ]
        },
        {
          "metadata": {
            "tags": null
          },
          "name": "stdout",
          "output_type": "stream",
          "text": [
            "550.127001285553\n",
            "-210.45352\n",
            "Train Loss - MOSEAS Regression:  1.2224\n",
            "Test Loss - MOSEAS Regression:  0.3077\n",
            "Train MAE - MOSEAS Regression:  0.9638\n",
            "Test MAE - MOSEAS Regression:  0.5389\n",
            "Train Pearson - MOSEAS Regression:  0.1112\n",
            "Test Pearson - MOSEAS Regression:  0.1712\n",
            "saving checkpoint for epoch 36\n",
            "1931.8989778757095\n",
            "-234.42734\n",
            "1584.6861943006516\n",
            "-165.97627\n",
            "1901.1083097457886\n",
            "-242.13141\n",
            "1056.4760727882385\n",
            "-273.8212\n"
          ]
        },
        {
          "metadata": {
            "tags": null
          },
          "name": "stderr",
          "output_type": "stream",
          "text": [
            "\rMOSEAS Regression:  15%|█▌        | 38/250 [10:09<56:19, 15.94s/it]"
          ]
        },
        {
          "metadata": {
            "tags": null
          },
          "name": "stdout",
          "output_type": "stream",
          "text": [
            "572.482795715332\n",
            "-245.02478\n",
            "Train Loss - MOSEAS Regression:  1.4035\n",
            "Test Loss - MOSEAS Regression:  0.2966\n",
            "Train MAE - MOSEAS Regression:  1.0316\n",
            "Test MAE - MOSEAS Regression:  0.5786\n",
            "Train Pearson - MOSEAS Regression:  0.1172\n",
            "Test Pearson - MOSEAS Regression:  0.1626\n",
            "saving checkpoint for epoch 37\n",
            "2460.189174413681\n",
            "-274.24066\n",
            "2099.9569741487503\n",
            "-258.41382\n",
            "1532.5973889827728\n",
            "-254.81331\n",
            "1225.2514898777008\n",
            "-267.55573\n"
          ]
        },
        {
          "metadata": {
            "tags": null
          },
          "name": "stderr",
          "output_type": "stream",
          "text": [
            "\rMOSEAS Regression:  16%|█▌        | 39/250 [10:25<55:55, 15.90s/it]"
          ]
        },
        {
          "metadata": {
            "tags": null
          },
          "name": "stdout",
          "output_type": "stream",
          "text": [
            "555.2176609039307\n",
            "-284.23608\n",
            "Train Loss - MOSEAS Regression:  1.5816\n",
            "Test Loss - MOSEAS Regression:  0.2455\n",
            "Train MAE - MOSEAS Regression:  1.1095\n",
            "Test MAE - MOSEAS Regression:  0.5665\n",
            "Train Pearson - MOSEAS Regression:  0.0011\n",
            "Test Pearson - MOSEAS Regression:  0.1667\n",
            "saving checkpoint for epoch 38\n",
            "1648.1678992509842\n",
            "-318.58298\n",
            "2024.5538928508759\n",
            "-313.85938\n",
            "2306.479513645172\n",
            "-323.3333\n",
            "1077.4997277259827\n",
            "-356.92996\n"
          ]
        },
        {
          "metadata": {
            "tags": null
          },
          "name": "stderr",
          "output_type": "stream",
          "text": [
            "\rMOSEAS Regression:  16%|█▌        | 40/250 [10:41<56:15, 16.07s/it]"
          ]
        },
        {
          "metadata": {
            "tags": null
          },
          "name": "stdout",
          "output_type": "stream",
          "text": [
            "549.435537815094\n",
            "-328.40823\n",
            "Train Loss - MOSEAS Regression:  1.4505\n",
            "Test Loss - MOSEAS Regression:  0.2002\n",
            "Train MAE - MOSEAS Regression:  1.0953\n",
            "Test MAE - MOSEAS Regression:  0.5613\n",
            "Train Pearson - MOSEAS Regression:  0.0926\n",
            "Test Pearson - MOSEAS Regression:  0.1718\n",
            "saving checkpoint for epoch 39\n",
            "2332.011224746704\n",
            "-307.7642\n",
            "2976.148838996887\n",
            "-368.19635\n",
            "2182.3035430908203\n",
            "-342.16287\n",
            "1138.192153453827\n",
            "-407.49805\n"
          ]
        },
        {
          "metadata": {
            "tags": null
          },
          "name": "stderr",
          "output_type": "stream",
          "text": [
            "\rMOSEAS Regression:  16%|█▋        | 41/250 [10:58<56:08, 16.12s/it]"
          ]
        },
        {
          "metadata": {
            "tags": null
          },
          "name": "stdout",
          "output_type": "stream",
          "text": [
            "575.0255756378174\n",
            "-377.47342\n",
            "Train Loss - MOSEAS Regression:  1.8189\n",
            "Test Loss - MOSEAS Regression:  0.1789\n",
            "Train MAE - MOSEAS Regression:  1.2188\n",
            "Test MAE - MOSEAS Regression:  0.5795\n",
            "Train Pearson - MOSEAS Regression:  0.0773\n",
            "Test Pearson - MOSEAS Regression:  0.1753\n",
            "saving checkpoint for epoch 40\n",
            "2160.6011023521423\n",
            "-422.35718\n",
            "2671.9996321201324\n",
            "-401.3547\n",
            "2577.2582602500916\n",
            "-355.3509\n",
            "1766.0574152469635\n",
            "-484.85092\n"
          ]
        },
        {
          "metadata": {
            "tags": null
          },
          "name": "stderr",
          "output_type": "stream",
          "text": [
            "\rMOSEAS Regression:  17%|█▋        | 42/250 [11:13<54:53, 15.84s/it]"
          ]
        },
        {
          "metadata": {
            "tags": null
          },
          "name": "stdout",
          "output_type": "stream",
          "text": [
            "674.621452331543\n",
            "-431.1718\n",
            "Train Loss - MOSEAS Regression:  1.897\n",
            "Test Loss - MOSEAS Regression:  0.2205\n",
            "Train MAE - MOSEAS Regression:  1.2603\n",
            "Test MAE - MOSEAS Regression:  0.6387\n",
            "Train Pearson - MOSEAS Regression:  0.0315\n",
            "Test Pearson - MOSEAS Regression:  0.1812\n",
            "3423.5069983005524\n",
            "-480.81854\n",
            "2248.355005502701\n",
            "-485.88177\n",
            "2741.5831305980682\n",
            "-474.41733\n",
            "1212.5804617404938\n",
            "-453.03757\n"
          ]
        },
        {
          "metadata": {
            "tags": null
          },
          "name": "stderr",
          "output_type": "stream",
          "text": [
            "\rMOSEAS Regression:  17%|█▋        | 43/250 [11:28<54:29, 15.80s/it]"
          ]
        },
        {
          "metadata": {
            "tags": null
          },
          "name": "stdout",
          "output_type": "stream",
          "text": [
            "706.7906255722046\n",
            "-490.1889\n",
            "Train Loss - MOSEAS Regression:  1.9525\n",
            "Test Loss - MOSEAS Regression:  0.1962\n",
            "Train MAE - MOSEAS Regression:  1.2954\n",
            "Test MAE - MOSEAS Regression:  0.6545\n",
            "Train Pearson - MOSEAS Regression:  0.0944\n",
            "Test Pearson - MOSEAS Regression:  0.189\n",
            "2800.922269821167\n",
            "-454.4908\n",
            "3018.047881126404\n",
            "-509.8211\n",
            "3425.6815016269684\n",
            "-565.79755\n",
            "1563.0319476127625\n",
            "-613.79767\n"
          ]
        },
        {
          "metadata": {
            "tags": null
          },
          "name": "stderr",
          "output_type": "stream",
          "text": [
            "\rMOSEAS Regression:  18%|█▊        | 44/250 [11:44<53:54, 15.70s/it]"
          ]
        },
        {
          "metadata": {
            "tags": null
          },
          "name": "stdout",
          "output_type": "stream",
          "text": [
            "538.8794016838074\n",
            "-553.9102\n",
            "Train Loss - MOSEAS Regression:  2.1878\n",
            "Test Loss - MOSEAS Regression:  -0.0136\n",
            "Train MAE - MOSEAS Regression:  1.3805\n",
            "Test MAE - MOSEAS Regression:  0.5457\n",
            "Train Pearson - MOSEAS Regression:  0.0542\n",
            "Test Pearson - MOSEAS Regression:  0.1999\n",
            "saving checkpoint for epoch 43\n",
            "3790.4838621616364\n",
            "-623.2153\n",
            "2675.1698427200317\n",
            "-623.2873\n",
            "3015.0943338871\n",
            "-568.05804\n",
            "1274.6768727302551\n",
            "-643.5107\n"
          ]
        },
        {
          "metadata": {
            "tags": null
          },
          "name": "stderr",
          "output_type": "stream",
          "text": [
            "\rMOSEAS Regression:  18%|█▊        | 45/250 [12:00<54:00, 15.81s/it]"
          ]
        },
        {
          "metadata": {
            "tags": null
          },
          "name": "stdout",
          "output_type": "stream",
          "text": [
            "1399.486135482788\n",
            "-623.4534\n",
            "Train Loss - MOSEAS Regression:  2.0953\n",
            "Test Loss - MOSEAS Regression:  0.7029\n",
            "Train MAE - MOSEAS Regression:  1.3768\n",
            "Test MAE - MOSEAS Regression:  0.9672\n",
            "Train Pearson - MOSEAS Regression:  0.0839\n",
            "Test Pearson - MOSEAS Regression:  0.2063\n",
            "3206.130868434906\n",
            "-599.1731\n",
            "3091.851987838745\n",
            "-649.77075\n",
            "3347.411338329315\n",
            "-679.1337\n",
            "1961.6549706459045\n",
            "-725.83606\n"
          ]
        },
        {
          "metadata": {
            "tags": null
          },
          "name": "stderr",
          "output_type": "stream",
          "text": [
            "\rMOSEAS Regression:  18%|█▊        | 46/250 [12:16<54:03, 15.90s/it]"
          ]
        },
        {
          "metadata": {
            "tags": null
          },
          "name": "stdout",
          "output_type": "stream",
          "text": [
            "702.8055639266968\n",
            "-696.0067\n",
            "Train Loss - MOSEAS Regression:  2.2609\n",
            "Test Loss - MOSEAS Regression:  0.0062\n",
            "Train MAE - MOSEAS Regression:  1.4348\n",
            "Test MAE - MOSEAS Regression:  0.6478\n",
            "Train Pearson - MOSEAS Regression:  0.0264\n",
            "Test Pearson - MOSEAS Regression:  0.2153\n",
            "3369.94895529747\n",
            "-557.4343\n",
            "3875.54935836792\n",
            "-694.5126\n",
            "3396.201636314392\n",
            "-788.66125\n",
            "2279.062025785446\n",
            "-677.2709\n"
          ]
        },
        {
          "metadata": {
            "tags": null
          },
          "name": "stderr",
          "output_type": "stream",
          "text": [
            "\rMOSEAS Regression:  19%|█▉        | 47/250 [12:32<53:25, 15.79s/it]"
          ]
        },
        {
          "metadata": {
            "tags": null
          },
          "name": "stdout",
          "output_type": "stream",
          "text": [
            "588.2161560058594\n",
            "-772.067\n",
            "Train Loss - MOSEAS Regression:  2.5765\n",
            "Test Loss - MOSEAS Regression:  -0.1665\n",
            "Train MAE - MOSEAS Regression:  1.5389\n",
            "Test MAE - MOSEAS Regression:  0.5623\n",
            "Train Pearson - MOSEAS Regression:  0.0428\n",
            "Test Pearson - MOSEAS Regression:  0.2167\n",
            "saving checkpoint for epoch 46\n",
            "3776.6069049835205\n",
            "-863.6863\n",
            "3784.9438989162445\n",
            "-750.0337\n",
            "3913.2412729263306\n",
            "-756.7181\n",
            "1875.6447982788086\n",
            "-898.684\n"
          ]
        },
        {
          "metadata": {
            "tags": null
          },
          "name": "stderr",
          "output_type": "stream",
          "text": [
            "\rMOSEAS Regression:  19%|█▉        | 48/250 [12:48<54:01, 16.05s/it]"
          ]
        },
        {
          "metadata": {
            "tags": null
          },
          "name": "stdout",
          "output_type": "stream",
          "text": [
            "814.4614505767822\n",
            "-850.1715\n",
            "Train Loss - MOSEAS Regression:  2.5458\n",
            "Test Loss - MOSEAS Regression:  -0.0323\n",
            "Train MAE - MOSEAS Regression:  1.5615\n",
            "Test MAE - MOSEAS Regression:  0.7015\n",
            "Train Pearson - MOSEAS Regression:  0.1047\n",
            "Test Pearson - MOSEAS Regression:  0.2246\n",
            "3707.3810267448425\n",
            "-828.896\n",
            "4797.816447973251\n",
            "-847.2109\n",
            "3410.047330379486\n",
            "-872.7522\n",
            "2040.1142692565918\n",
            "-1031.5349\n"
          ]
        },
        {
          "metadata": {
            "tags": null
          },
          "name": "stderr",
          "output_type": "stream",
          "text": [
            "\rMOSEAS Regression:  20%|█▉        | 49/250 [13:02<51:12, 15.29s/it]"
          ]
        },
        {
          "metadata": {
            "tags": null
          },
          "name": "stdout",
          "output_type": "stream",
          "text": [
            "1030.556616783142\n",
            "-936.0238\n",
            "Train Loss - MOSEAS Regression:  2.6199\n",
            "Test Loss - MOSEAS Regression:  0.0856\n",
            "Train MAE - MOSEAS Regression:  1.613\n",
            "Test MAE - MOSEAS Regression:  0.8027\n",
            "Train Pearson - MOSEAS Regression:  0.0065\n",
            "Test Pearson - MOSEAS Regression:  0.2313\n",
            "4050.4958539009094\n",
            "-1020.0814\n",
            "3587.4487693309784\n",
            "-833.84753\n",
            "4393.171291589737\n",
            "-883.66046\n",
            "1903.3691284656525\n",
            "-1086.2812\n"
          ]
        },
        {
          "metadata": {
            "tags": null
          },
          "name": "stderr",
          "output_type": "stream",
          "text": [
            "\rMOSEAS Regression:  20%|██        | 50/250 [13:17<51:19, 15.40s/it]"
          ]
        },
        {
          "metadata": {
            "tags": null
          },
          "name": "stdout",
          "output_type": "stream",
          "text": [
            "712.4268293380737\n",
            "-1025.5538\n",
            "Train Loss - MOSEAS Regression:  2.5532\n",
            "Test Loss - MOSEAS Regression:  -0.2836\n",
            "Train MAE - MOSEAS Regression:  1.6159\n",
            "Test MAE - MOSEAS Regression:  0.6454\n",
            "Train Pearson - MOSEAS Regression:  0.1038\n",
            "Test Pearson - MOSEAS Regression:  0.2382\n",
            "saving checkpoint for epoch 49\n",
            "3289.5210671424866\n",
            "-1100.2153\n",
            "4093.745668411255\n",
            "-962.5457\n",
            "4668.429125785828\n",
            "-993.5178\n",
            "2501.466567516327\n",
            "-1137.2249\n"
          ]
        },
        {
          "metadata": {
            "tags": null
          },
          "name": "stderr",
          "output_type": "stream",
          "text": [
            "\rMOSEAS Regression:  20%|██        | 51/250 [13:34<51:45, 15.60s/it]"
          ]
        },
        {
          "metadata": {
            "tags": null
          },
          "name": "stdout",
          "output_type": "stream",
          "text": [
            "1293.4047946929932\n",
            "-1116.2979\n",
            "Train Loss - MOSEAS Regression:  2.6161\n",
            "Test Loss - MOSEAS Regression:  0.1604\n",
            "Train MAE - MOSEAS Regression:  1.6395\n",
            "Test MAE - MOSEAS Regression:  0.9182\n",
            "Train Pearson - MOSEAS Regression:  0.0839\n",
            "Test Pearson - MOSEAS Regression:  0.2411\n",
            "4444.042463302612\n",
            "-1124.0254\n",
            "3922.7141478061676\n",
            "-1124.542\n",
            "3816.02147769928\n",
            "-1163.4338\n",
            "2683.964967727661\n",
            "-1169.0327\n"
          ]
        },
        {
          "metadata": {
            "tags": null
          },
          "name": "stderr",
          "output_type": "stream",
          "text": [
            "\rMOSEAS Regression:  21%|██        | 52/250 [13:49<51:25, 15.58s/it]"
          ]
        },
        {
          "metadata": {
            "tags": null
          },
          "name": "stdout",
          "output_type": "stream",
          "text": [
            "1459.495662689209\n",
            "-1201.4716\n",
            "Train Loss - MOSEAS Regression:  2.5974\n",
            "Test Loss - MOSEAS Regression:  0.2337\n",
            "Train MAE - MOSEAS Regression:  1.673\n",
            "Test MAE - MOSEAS Regression:  0.9875\n",
            "Train Pearson - MOSEAS Regression:  0.0532\n",
            "Test Pearson - MOSEAS Regression:  0.2409\n",
            "4202.869789123535\n",
            "-1159.5822\n",
            "3365.513210296631\n",
            "-1060.7377\n",
            "5512.22057056427\n",
            "-1084.5513\n",
            "2425.3278856277466\n",
            "-1318.4855\n"
          ]
        },
        {
          "metadata": {
            "tags": null
          },
          "name": "stderr",
          "output_type": "stream",
          "text": [
            "\rMOSEAS Regression:  21%|██        | 53/250 [14:05<51:29, 15.68s/it]"
          ]
        },
        {
          "metadata": {
            "tags": null
          },
          "name": "stdout",
          "output_type": "stream",
          "text": [
            "950.7806310653687\n",
            "-1293.5879\n",
            "Train Loss - MOSEAS Regression:  2.7481\n",
            "Test Loss - MOSEAS Regression:  -0.3105\n",
            "Train MAE - MOSEAS Regression:  1.7163\n",
            "Test MAE - MOSEAS Regression:  0.7442\n",
            "Train Pearson - MOSEAS Regression:  0.0628\n",
            "Test Pearson - MOSEAS Regression:  0.2392\n",
            "saving checkpoint for epoch 52\n",
            "4684.248767852783\n",
            "-1240.4586\n",
            "4972.318296432495\n",
            "-1325.538\n",
            "3701.5937461853027\n",
            "-1291.8749\n",
            "2081.281714439392\n",
            "-1443.7728\n"
          ]
        },
        {
          "metadata": {
            "tags": null
          },
          "name": "stderr",
          "output_type": "stream",
          "text": [
            "\rMOSEAS Regression:  22%|██▏       | 54/250 [14:20<50:35, 15.49s/it]"
          ]
        },
        {
          "metadata": {
            "tags": null
          },
          "name": "stdout",
          "output_type": "stream",
          "text": [
            "2095.2260456085205\n",
            "-1390.561\n",
            "Train Loss - MOSEAS Regression:  2.5601\n",
            "Test Loss - MOSEAS Regression:  0.6383\n",
            "Train MAE - MOSEAS Regression:  1.7058\n",
            "Test MAE - MOSEAS Regression:  1.2238\n",
            "Train Pearson - MOSEAS Regression:  0.1173\n",
            "Test Pearson - MOSEAS Regression:  0.2397\n",
            "4946.250225067139\n",
            "-1278.1699\n",
            "5818.64995765686\n",
            "-1323.9794\n",
            "3745.234558582306\n",
            "-1421.2344\n",
            "2163.9910912513733\n",
            "-1474.029\n"
          ]
        },
        {
          "metadata": {
            "tags": null
          },
          "name": "stderr",
          "output_type": "stream",
          "text": [
            "\rMOSEAS Regression:  22%|██▏       | 55/250 [14:36<51:17, 15.78s/it]"
          ]
        },
        {
          "metadata": {
            "tags": null
          },
          "name": "stdout",
          "output_type": "stream",
          "text": [
            "2090.1743087768555\n",
            "-1494.5652\n",
            "Train Loss - MOSEAS Regression:  2.8224\n",
            "Test Loss - MOSEAS Regression:  0.5395\n",
            "Train MAE - MOSEAS Regression:  1.8046\n",
            "Test MAE - MOSEAS Regression:  1.2209\n",
            "Train Pearson - MOSEAS Regression:  0.0413\n",
            "Test Pearson - MOSEAS Regression:  0.2428\n",
            "4681.696021556854\n",
            "-1414.3591\n",
            "4674.465415477753\n",
            "-1215.7778\n",
            "3880.606589317322\n",
            "-1492.3274\n",
            "2917.6468563079834\n",
            "-1606.1122\n"
          ]
        },
        {
          "metadata": {
            "tags": null
          },
          "name": "stderr",
          "output_type": "stream",
          "text": [
            "\rMOSEAS Regression:  22%|██▏       | 56/250 [14:51<50:13, 15.54s/it]"
          ]
        },
        {
          "metadata": {
            "tags": null
          },
          "name": "stdout",
          "output_type": "stream",
          "text": [
            "619.7728958129883\n",
            "-1596.6437\n",
            "Train Loss - MOSEAS Regression:  2.6328\n",
            "Test Loss - MOSEAS Regression:  -0.8848\n",
            "Train MAE - MOSEAS Regression:  1.7554\n",
            "Test MAE - MOSEAS Regression:  0.5788\n",
            "Train Pearson - MOSEAS Regression:  0.0772\n",
            "Test Pearson - MOSEAS Regression:  0.2466\n",
            "saving checkpoint for epoch 55\n",
            "4549.334533691406\n",
            "-1489.6934\n",
            "4963.995187282562\n",
            "-1558.0953\n",
            "4728.653851032257\n",
            "-1533.0338\n",
            "1831.8533120155334\n",
            "-1587.8124\n"
          ]
        },
        {
          "metadata": {
            "tags": null
          },
          "name": "stderr",
          "output_type": "stream",
          "text": [
            "\rMOSEAS Regression:  23%|██▎       | 57/250 [15:08<50:33, 15.72s/it]"
          ]
        },
        {
          "metadata": {
            "tags": null
          },
          "name": "stdout",
          "output_type": "stream",
          "text": [
            "2511.28609085083\n",
            "-1691.8494\n",
            "Train Loss - MOSEAS Regression:  2.5013\n",
            "Test Loss - MOSEAS Regression:  0.7422\n",
            "Train MAE - MOSEAS Regression:  1.7476\n",
            "Test MAE - MOSEAS Regression:  1.3614\n",
            "Train Pearson - MOSEAS Regression:  0.0869\n",
            "Test Pearson - MOSEAS Regression:  0.242\n",
            "3173.0089359283447\n",
            "-1562.0079\n",
            "4751.83412361145\n",
            "-1600.3965\n",
            "5604.707670211792\n",
            "-1560.9943\n",
            "3147.2479701042175\n",
            "-1691.049\n"
          ]
        },
        {
          "metadata": {
            "tags": null
          },
          "name": "stderr",
          "output_type": "stream",
          "text": [
            "\rMOSEAS Regression:  23%|██▎       | 58/250 [15:22<48:52, 15.27s/it]"
          ]
        },
        {
          "metadata": {
            "tags": null
          },
          "name": "stdout",
          "output_type": "stream",
          "text": [
            "1981.7756309509277\n",
            "-1786.3934\n",
            "Train Loss - MOSEAS Regression:  2.5915\n",
            "Test Loss - MOSEAS Regression:  0.177\n",
            "Train MAE - MOSEAS Regression:  1.8079\n",
            "Test MAE - MOSEAS Regression:  1.1816\n",
            "Train Pearson - MOSEAS Regression:  0.0656\n",
            "Test Pearson - MOSEAS Regression:  0.2431\n",
            "4236.565113067627\n",
            "-1675.3579\n",
            "4622.788288116455\n",
            "-1694.9827\n",
            "5068.75997543335\n",
            "-1750.948\n",
            "3265.0083560943604\n",
            "-1792.5021\n"
          ]
        },
        {
          "metadata": {
            "tags": null
          },
          "name": "stderr",
          "output_type": "stream",
          "text": [
            "\rMOSEAS Regression:  24%|██▎       | 59/250 [15:37<48:20, 15.19s/it]"
          ]
        },
        {
          "metadata": {
            "tags": null
          },
          "name": "stdout",
          "output_type": "stream",
          "text": [
            "745.245285987854\n",
            "-1885.6001\n",
            "Train Loss - MOSEAS Regression:  2.5958\n",
            "Test Loss - MOSEAS Regression:  -1.0329\n",
            "Train MAE - MOSEAS Regression:  1.8231\n",
            "Test MAE - MOSEAS Regression:  0.6384\n",
            "Train Pearson - MOSEAS Regression:  0.0453\n",
            "Test Pearson - MOSEAS Regression:  0.242\n",
            "saving checkpoint for epoch 58\n",
            "5328.751068115234\n",
            "-1707.8246\n",
            "4802.30176448822\n",
            "-1642.9579\n",
            "4789.6623611450195\n",
            "-1846.7843\n",
            "2633.131775856018\n",
            "-1912.666\n"
          ]
        },
        {
          "metadata": {
            "tags": null
          },
          "name": "stderr",
          "output_type": "stream",
          "text": [
            "\rMOSEAS Regression:  24%|██▍       | 60/250 [15:53<48:40, 15.37s/it]"
          ]
        },
        {
          "metadata": {
            "tags": null
          },
          "name": "stdout",
          "output_type": "stream",
          "text": [
            "2783.3828887939453\n",
            "-1990.8373\n",
            "Train Loss - MOSEAS Regression:  2.6373\n",
            "Test Loss - MOSEAS Regression:  0.7179\n",
            "Train MAE - MOSEAS Regression:  1.8513\n",
            "Test MAE - MOSEAS Regression:  1.4429\n",
            "Train Pearson - MOSEAS Regression:  0.0482\n",
            "Test Pearson - MOSEAS Regression:  0.2346\n",
            "5429.169490814209\n",
            "-1803.9807\n",
            "5841.02836894989\n",
            "-1865.0892\n",
            "4132.286313056946\n",
            "-1898.189\n",
            "2217.3384323120117\n",
            "-1996.3752\n"
          ]
        },
        {
          "metadata": {
            "tags": null
          },
          "name": "stderr",
          "output_type": "stream",
          "text": [
            "\rMOSEAS Regression:  24%|██▍       | 61/250 [16:08<48:47, 15.49s/it]"
          ]
        },
        {
          "metadata": {
            "tags": null
          },
          "name": "stdout",
          "output_type": "stream",
          "text": [
            "1398.6126594543457\n",
            "-2096.7283\n",
            "Train Loss - MOSEAS Regression:  2.5394\n",
            "Test Loss - MOSEAS Regression:  -0.6324\n",
            "Train MAE - MOSEAS Regression:  1.8599\n",
            "Test MAE - MOSEAS Regression:  0.9487\n",
            "Train Pearson - MOSEAS Regression:  0.0414\n",
            "Test Pearson - MOSEAS Regression:  0.2305\n",
            "5272.848692893982\n",
            "-1998.8859\n",
            "5167.549768447876\n",
            "-1966.9834\n",
            "4932.468004703522\n",
            "-1914.9214\n",
            "2351.523633003235\n",
            "-2085.075\n"
          ]
        },
        {
          "metadata": {
            "tags": null
          },
          "name": "stderr",
          "output_type": "stream",
          "text": [
            "\rMOSEAS Regression:  25%|██▍       | 62/250 [16:24<48:34, 15.50s/it]"
          ]
        },
        {
          "metadata": {
            "tags": null
          },
          "name": "stdout",
          "output_type": "stream",
          "text": [
            "761.5462675094604\n",
            "-2206.3281\n",
            "Train Loss - MOSEAS Regression:  2.4643\n",
            "Test Loss - MOSEAS Regression:  -1.3087\n",
            "Train MAE - MOSEAS Regression:  1.8594\n",
            "Test MAE - MOSEAS Regression:  0.6567\n",
            "Train Pearson - MOSEAS Regression:  0.0759\n",
            "Test Pearson - MOSEAS Regression:  0.2281\n",
            "saving checkpoint for epoch 61\n",
            "5105.416251182556\n",
            "-2051.8975\n",
            "5542.495094299316\n",
            "-2083.8755\n",
            "4865.305662155151\n",
            "-2155.486\n",
            "2198.2110500335693\n",
            "-2182.4954\n"
          ]
        },
        {
          "metadata": {
            "tags": null
          },
          "name": "stderr",
          "output_type": "stream",
          "text": [
            "\rMOSEAS Regression:  25%|██▌       | 63/250 [16:39<48:13, 15.47s/it]"
          ]
        },
        {
          "metadata": {
            "tags": null
          },
          "name": "stdout",
          "output_type": "stream",
          "text": [
            "1766.1010150909424\n",
            "-2318.4092\n",
            "Train Loss - MOSEAS Regression:  2.3327\n",
            "Test Loss - MOSEAS Regression:  -0.5003\n",
            "Train MAE - MOSEAS Regression:  1.8536\n",
            "Test MAE - MOSEAS Regression:  1.0864\n",
            "Train Pearson - MOSEAS Regression:  0.0592\n",
            "Test Pearson - MOSEAS Regression:  0.2228\n",
            "4709.827136993408\n",
            "-1790.2815\n",
            "5330.313551425934\n",
            "-2148.7244\n",
            "4495.281482696533\n",
            "-2194.4766\n",
            "2382.064863681793\n",
            "-2197.5532\n"
          ]
        },
        {
          "metadata": {
            "tags": null
          },
          "name": "stderr",
          "output_type": "stream",
          "text": [
            "\rMOSEAS Regression:  26%|██▌       | 64/250 [16:55<48:29, 15.64s/it]"
          ]
        },
        {
          "metadata": {
            "tags": null
          },
          "name": "stdout",
          "output_type": "stream",
          "text": [
            "881.3136892318726\n",
            "-2425.2776\n",
            "Train Loss - MOSEAS Regression:  2.1683\n",
            "Test Loss - MOSEAS Regression:  -1.3985\n",
            "Train MAE - MOSEAS Regression:  1.8244\n",
            "Test MAE - MOSEAS Regression:  0.7186\n",
            "Train Pearson - MOSEAS Regression:  0.1093\n",
            "Test Pearson - MOSEAS Regression:  0.2269\n",
            "saving checkpoint for epoch 63\n",
            "4476.623110771179\n",
            "-2165.2393\n",
            "4849.360384464264\n",
            "-2199.59\n",
            "5663.954928398132\n",
            "-2370.1523\n",
            "3490.596570968628\n",
            "-2346.7668\n"
          ]
        },
        {
          "metadata": {
            "tags": null
          },
          "name": "stderr",
          "output_type": "stream",
          "text": [
            "\rMOSEAS Regression:  26%|██▌       | 65/250 [17:11<47:47, 15.50s/it]"
          ]
        },
        {
          "metadata": {
            "tags": null
          },
          "name": "stdout",
          "output_type": "stream",
          "text": [
            "1146.9054794311523\n",
            "-2542.2346\n",
            "Train Loss - MOSEAS Regression:  2.3734\n",
            "Test Loss - MOSEAS Regression:  -1.2639\n",
            "Train MAE - MOSEAS Regression:  1.8958\n",
            "Test MAE - MOSEAS Regression:  0.8346\n",
            "Train Pearson - MOSEAS Regression:  0.0782\n",
            "Test Pearson - MOSEAS Regression:  0.2287\n",
            "4294.233500003815\n",
            "-2333.5254\n",
            "7023.971963882446\n",
            "-2058.7856\n",
            "5096.306531906128\n",
            "-2365.5803\n",
            "2544.705467224121\n",
            "-2323.451\n"
          ]
        },
        {
          "metadata": {
            "tags": null
          },
          "name": "stderr",
          "output_type": "stream",
          "text": [
            "\rMOSEAS Regression:  26%|██▋       | 66/250 [17:25<46:29, 15.16s/it]"
          ]
        },
        {
          "metadata": {
            "tags": null
          },
          "name": "stdout",
          "output_type": "stream",
          "text": [
            "4526.1809005737305\n",
            "-2655.29\n",
            "Train Loss - MOSEAS Regression:  2.4944\n",
            "Test Loss - MOSEAS Regression:  1.6946\n",
            "Train MAE - MOSEAS Regression:  1.9525\n",
            "Test MAE - MOSEAS Regression:  1.907\n",
            "Train Pearson - MOSEAS Regression:  0.0837\n",
            "Test Pearson - MOSEAS Regression:  0.222\n",
            "5943.1249260902405\n",
            "-1994.3024\n",
            "5046.916341781616\n",
            "-2335.1145\n",
            "5057.3838539123535\n",
            "-2615.6824\n",
            "2874.537673473358\n",
            "-2575.2761\n"
          ]
        },
        {
          "metadata": {
            "tags": null
          },
          "name": "stderr",
          "output_type": "stream",
          "text": [
            "\rMOSEAS Regression:  27%|██▋       | 67/250 [17:40<45:51, 15.03s/it]"
          ]
        },
        {
          "metadata": {
            "tags": null
          },
          "name": "stdout",
          "output_type": "stream",
          "text": [
            "867.411114692688\n",
            "-2767.7886\n",
            "Train Loss - MOSEAS Regression:  2.3741\n",
            "Test Loss - MOSEAS Regression:  -1.7214\n",
            "Train MAE - MOSEAS Regression:  1.9539\n",
            "Test MAE - MOSEAS Regression:  0.699\n",
            "Train Pearson - MOSEAS Regression:  0.0806\n",
            "Test Pearson - MOSEAS Regression:  0.2434\n",
            "saving checkpoint for epoch 66\n",
            "6027.592492103577\n",
            "-1994.2589\n",
            "5038.961771965027\n",
            "-2539.3188\n",
            "5027.084568977356\n",
            "-2590.4185\n",
            "2929.642426967621\n",
            "-2652.417\n"
          ]
        },
        {
          "metadata": {
            "tags": null
          },
          "name": "stderr",
          "output_type": "stream",
          "text": [
            "\rMOSEAS Regression:  27%|██▋       | 68/250 [17:55<45:48, 15.10s/it]"
          ]
        },
        {
          "metadata": {
            "tags": null
          },
          "name": "stdout",
          "output_type": "stream",
          "text": [
            "1095.563461303711\n",
            "-2877.297\n",
            "Train Loss - MOSEAS Regression:  2.3351\n",
            "Test Loss - MOSEAS Regression:  -1.6139\n",
            "Train MAE - MOSEAS Regression:  1.9355\n",
            "Test MAE - MOSEAS Regression:  0.8082\n",
            "Train Pearson - MOSEAS Regression:  0.0549\n",
            "Test Pearson - MOSEAS Regression:  0.2428\n",
            "5256.600526809692\n",
            "-2390.9414\n",
            "6101.977694988251\n",
            "-2535.4556\n",
            "4498.441499233246\n",
            "-2716.6394\n",
            "2893.2333755493164\n",
            "-2840.2605\n"
          ]
        },
        {
          "metadata": {
            "tags": null
          },
          "name": "stderr",
          "output_type": "stream",
          "text": [
            "\rMOSEAS Regression:  28%|██▊       | 69/250 [18:09<44:42, 14.82s/it]"
          ]
        },
        {
          "metadata": {
            "tags": null
          },
          "name": "stdout",
          "output_type": "stream",
          "text": [
            "5205.372276306152\n",
            "-2993.9072\n",
            "Train Loss - MOSEAS Regression:  2.0876\n",
            "Test Loss - MOSEAS Regression:  2.0031\n",
            "Train MAE - MOSEAS Regression:  1.9459\n",
            "Test MAE - MOSEAS Regression:  2.0636\n",
            "Train Pearson - MOSEAS Regression:  0.0897\n",
            "Test Pearson - MOSEAS Regression:  0.2178\n",
            "6364.886528015137\n",
            "-2517.3223\n",
            "4076.466728210449\n",
            "-2651.2332\n",
            "5880.648666381836\n",
            "-2676.4385\n",
            "3319.7495126724243\n",
            "-2903.7595\n"
          ]
        },
        {
          "metadata": {
            "tags": null
          },
          "name": "stderr",
          "output_type": "stream",
          "text": [
            "\rMOSEAS Regression:  28%|██▊       | 70/250 [18:25<45:40, 15.23s/it]"
          ]
        },
        {
          "metadata": {
            "tags": null
          },
          "name": "stdout",
          "output_type": "stream",
          "text": [
            "908.625114440918\n",
            "-3122.3855\n",
            "Train Loss - MOSEAS Regression:  2.2457\n",
            "Test Loss - MOSEAS Regression:  -2.0052\n",
            "Train MAE - MOSEAS Regression:  2.0049\n",
            "Test MAE - MOSEAS Regression:  0.7194\n",
            "Train Pearson - MOSEAS Regression:  0.068\n",
            "Test Pearson - MOSEAS Regression:  0.2407\n",
            "saving checkpoint for epoch 69\n",
            "4999.847039222717\n",
            "-2869.4749\n",
            "4469.276526927948\n",
            "-2857.111\n",
            "6250.939274787903\n",
            "-2852.419\n",
            "2606.8115272521973\n",
            "-2974.6453\n"
          ]
        },
        {
          "metadata": {
            "tags": null
          },
          "name": "stderr",
          "output_type": "stream",
          "text": [
            "\rMOSEAS Regression:  28%|██▊       | 71/250 [18:40<45:24, 15.22s/it]"
          ]
        },
        {
          "metadata": {
            "tags": null
          },
          "name": "stdout",
          "output_type": "stream",
          "text": [
            "1220.7686233520508\n",
            "-3243.3547\n",
            "Train Loss - MOSEAS Regression:  1.7104\n",
            "Test Loss - MOSEAS Regression:  -1.8321\n",
            "Train MAE - MOSEAS Regression:  1.8926\n",
            "Test MAE - MOSEAS Regression:  0.8599\n",
            "Train Pearson - MOSEAS Regression:  0.0935\n",
            "Test Pearson - MOSEAS Regression:  0.2367\n",
            "5711.237640380859\n",
            "-1895.5574\n",
            "5069.732698917389\n",
            "-2983.1064\n",
            "4875.961430072784\n",
            "-2989.836\n",
            "2863.1486892700195\n",
            "-3130.9033\n"
          ]
        },
        {
          "metadata": {
            "tags": null
          },
          "name": "stderr",
          "output_type": "stream",
          "text": [
            "\rMOSEAS Regression:  29%|██▉       | 72/250 [18:55<44:57, 15.16s/it]"
          ]
        },
        {
          "metadata": {
            "tags": null
          },
          "name": "stdout",
          "output_type": "stream",
          "text": [
            "2983.8846588134766\n",
            "-3356.4336\n",
            "Train Loss - MOSEAS Regression:  1.8992\n",
            "Test Loss - MOSEAS Regression:  -0.3375\n",
            "Train MAE - MOSEAS Regression:  1.9225\n",
            "Test MAE - MOSEAS Regression:  1.4834\n",
            "Train Pearson - MOSEAS Regression:  0.0988\n",
            "Test Pearson - MOSEAS Regression:  0.2305\n",
            "4332.764470100403\n",
            "-3037.392\n",
            "5946.104395866394\n",
            "-2416.933\n",
            "5155.1897621154785\n",
            "-3128.7852\n",
            "3474.1353721618652\n",
            "-3189.2148\n"
          ]
        },
        {
          "metadata": {
            "tags": null
          },
          "name": "stderr",
          "output_type": "stream",
          "text": [
            "\rMOSEAS Regression:  29%|██▉       | 73/250 [19:11<44:53, 15.22s/it]"
          ]
        },
        {
          "metadata": {
            "tags": null
          },
          "name": "stdout",
          "output_type": "stream",
          "text": [
            "1299.6046714782715\n",
            "-3465.311\n",
            "Train Loss - MOSEAS Regression:  1.802\n",
            "Test Loss - MOSEAS Regression:  -1.9617\n",
            "Train MAE - MOSEAS Regression:  1.9445\n",
            "Test MAE - MOSEAS Regression:  0.8947\n",
            "Train Pearson - MOSEAS Regression:  0.1088\n",
            "Test Pearson - MOSEAS Regression:  0.2394\n",
            "6002.279554367065\n",
            "-3154.0242\n",
            "6376.145610809326\n",
            "-3195.9417\n",
            "4715.416578292847\n",
            "-3277.1848\n",
            "2736.8493614196777\n",
            "-3331.3152\n"
          ]
        },
        {
          "metadata": {
            "tags": null
          },
          "name": "stderr",
          "output_type": "stream",
          "text": [
            "\rMOSEAS Regression:  30%|██▉       | 74/250 [19:25<43:54, 14.97s/it]"
          ]
        },
        {
          "metadata": {
            "tags": null
          },
          "name": "stdout",
          "output_type": "stream",
          "text": [
            "2709.489212036133\n",
            "-3573.226\n",
            "Train Loss - MOSEAS Regression:  1.7354\n",
            "Test Loss - MOSEAS Regression:  -0.7824\n",
            "Train MAE - MOSEAS Regression:  1.9845\n",
            "Test MAE - MOSEAS Regression:  1.3924\n",
            "Train Pearson - MOSEAS Regression:  0.0699\n",
            "Test Pearson - MOSEAS Regression:  0.2324\n",
            "6418.363338470459\n",
            "-3215.154\n",
            "4471.2680196762085\n",
            "-3429.6316\n",
            "5210.800735473633\n",
            "-3294.2148\n",
            "3079.949990749359\n",
            "-3436.7322\n"
          ]
        },
        {
          "metadata": {
            "tags": null
          },
          "name": "stderr",
          "output_type": "stream",
          "text": [
            "\rMOSEAS Regression:  30%|███       | 75/250 [19:39<42:31, 14.58s/it]"
          ]
        },
        {
          "metadata": {
            "tags": null
          },
          "name": "stdout",
          "output_type": "stream",
          "text": [
            "3582.0200386047363\n",
            "-3687.252\n",
            "Train Loss - MOSEAS Regression:  1.4658\n",
            "Test Loss - MOSEAS Regression:  -0.0953\n",
            "Train MAE - MOSEAS Regression:  1.9722\n",
            "Test MAE - MOSEAS Regression:  1.655\n",
            "Train Pearson - MOSEAS Regression:  0.0946\n",
            "Test Pearson - MOSEAS Regression:  0.231\n",
            "4777.070566177368\n",
            "-3432.6458\n",
            "4387.442931175232\n",
            "-3432.611\n",
            "6053.45751285553\n",
            "-3373.4727\n",
            "3784.4329147338867\n",
            "-3224.091\n"
          ]
        },
        {
          "metadata": {
            "tags": null
          },
          "name": "stderr",
          "output_type": "stream",
          "text": [
            "\rMOSEAS Regression:  30%|███       | 76/250 [19:54<43:09, 14.88s/it]"
          ]
        },
        {
          "metadata": {
            "tags": null
          },
          "name": "stdout",
          "output_type": "stream",
          "text": [
            "1019.0769281387329\n",
            "-3813.3142\n",
            "Train Loss - MOSEAS Regression:  1.3989\n",
            "Test Loss - MOSEAS Regression:  -2.531\n",
            "Train MAE - MOSEAS Regression:  1.9533\n",
            "Test MAE - MOSEAS Regression:  0.77\n",
            "Train Pearson - MOSEAS Regression:  0.0709\n",
            "Test Pearson - MOSEAS Regression:  0.2483\n",
            "saving checkpoint for epoch 75\n",
            "4641.499300003052\n",
            "-3600.7793\n",
            "4998.941211700439\n",
            "-3594.1396\n",
            "7795.664116859436\n",
            "-3532.9238\n",
            "2892.6247215270996\n",
            "-3576.3872\n"
          ]
        },
        {
          "metadata": {
            "tags": null
          },
          "name": "stderr",
          "output_type": "stream",
          "text": [
            "\rMOSEAS Regression:  31%|███       | 77/250 [20:09<42:48, 14.85s/it]"
          ]
        },
        {
          "metadata": {
            "tags": null
          },
          "name": "stdout",
          "output_type": "stream",
          "text": [
            "1149.568416595459\n",
            "-3956.0269\n",
            "Train Loss - MOSEAS Regression:  1.5213\n",
            "Test Loss - MOSEAS Regression:  -2.5421\n",
            "Train MAE - MOSEAS Regression:  2.0126\n",
            "Test MAE - MOSEAS Regression:  0.834\n",
            "Train Pearson - MOSEAS Regression:  0.0706\n",
            "Test Pearson - MOSEAS Regression:  0.2431\n",
            "saving checkpoint for epoch 76\n",
            "5333.604543685913\n",
            "-3410.1616\n",
            "5978.325710296631\n",
            "-3505.8108\n",
            "5382.788572311401\n",
            "-3524.6382\n",
            "2574.4061880111694\n",
            "-3229.1577\n"
          ]
        },
        {
          "metadata": {
            "tags": null
          },
          "name": "stderr",
          "output_type": "stream",
          "text": [
            "\rMOSEAS Regression:  31%|███       | 78/250 [20:25<43:37, 15.22s/it]"
          ]
        },
        {
          "metadata": {
            "tags": null
          },
          "name": "stdout",
          "output_type": "stream",
          "text": [
            "3352.637363433838\n",
            "-4112.094\n",
            "Train Loss - MOSEAS Regression:  1.414\n",
            "Test Loss - MOSEAS Regression:  -0.6879\n",
            "Train MAE - MOSEAS Regression:  1.9802\n",
            "Test MAE - MOSEAS Regression:  1.587\n",
            "Train Pearson - MOSEAS Regression:  0.0999\n",
            "Test Pearson - MOSEAS Regression:  0.2307\n",
            "7436.4875593185425\n",
            "-3786.5889\n",
            "5692.817531585693\n",
            "-3748.2437\n",
            "4624.91131067276\n",
            "-3148.646\n",
            "2563.452880859375\n",
            "-4125.122\n"
          ]
        },
        {
          "metadata": {
            "tags": null
          },
          "name": "stderr",
          "output_type": "stream",
          "text": [
            "\rMOSEAS Regression:  32%|███▏      | 79/250 [20:40<42:42, 14.99s/it]"
          ]
        },
        {
          "metadata": {
            "tags": null
          },
          "name": "stdout",
          "output_type": "stream",
          "text": [
            "1339.8399753570557\n",
            "-4267.8047\n",
            "Train Loss - MOSEAS Regression:  1.3912\n",
            "Test Loss - MOSEAS Regression:  -2.6521\n",
            "Train MAE - MOSEAS Regression:  2.0176\n",
            "Test MAE - MOSEAS Regression:  0.9098\n",
            "Train Pearson - MOSEAS Regression:  0.0257\n",
            "Test Pearson - MOSEAS Regression:  0.2403\n",
            "saving checkpoint for epoch 78\n",
            "4830.1957421302795\n",
            "-3915.486\n",
            "5657.904901504517\n",
            "-4042.94\n",
            "5307.6443729400635\n",
            "-4034.6575\n",
            "3153.969696044922\n",
            "-4022.2893\n"
          ]
        },
        {
          "metadata": {
            "tags": null
          },
          "name": "stderr",
          "output_type": "stream",
          "text": [
            "\rMOSEAS Regression:  32%|███▏      | 80/250 [20:54<41:54, 14.79s/it]"
          ]
        },
        {
          "metadata": {
            "tags": null
          },
          "name": "stdout",
          "output_type": "stream",
          "text": [
            "2482.1435508728027\n",
            "-4419.7344\n",
            "Train Loss - MOSEAS Regression:  0.741\n",
            "Test Loss - MOSEAS Regression:  -1.7551\n",
            "Train MAE - MOSEAS Regression:  1.9423\n",
            "Test MAE - MOSEAS Regression:  1.3109\n",
            "Train Pearson - MOSEAS Regression:  0.0917\n",
            "Test Pearson - MOSEAS Regression:  0.2379\n",
            "5755.57902097702\n",
            "-3913.9373\n",
            "5154.935981750488\n",
            "-3923.5361\n",
            "6066.990463256836\n",
            "-3984.373\n",
            "2233.936641216278\n",
            "-4160.527\n"
          ]
        },
        {
          "metadata": {
            "tags": null
          },
          "name": "stderr",
          "output_type": "stream",
          "text": [
            "\rMOSEAS Regression:  32%|███▏      | 81/250 [21:10<42:32, 15.10s/it]"
          ]
        },
        {
          "metadata": {
            "tags": null
          },
          "name": "stdout",
          "output_type": "stream",
          "text": [
            "1728.247272491455\n",
            "-4580.617\n",
            "Train Loss - MOSEAS Regression:  0.8154\n",
            "Test Loss - MOSEAS Regression:  -2.5837\n",
            "Train MAE - MOSEAS Regression:  1.9674\n",
            "Test MAE - MOSEAS Regression:  1.0463\n",
            "Train Pearson - MOSEAS Regression:  0.0529\n",
            "Test Pearson - MOSEAS Regression:  0.2399\n",
            "5438.285053253174\n",
            "-4265.2363\n",
            "5572.2705335617065\n",
            "-4175.9634\n",
            "4764.744265079498\n",
            "-4111.6826\n",
            "3410.1133346557617\n",
            "-4216.619\n"
          ]
        },
        {
          "metadata": {
            "tags": null
          },
          "name": "stderr",
          "output_type": "stream",
          "text": [
            "\rMOSEAS Regression:  33%|███▎      | 82/250 [21:24<41:45, 14.91s/it]"
          ]
        },
        {
          "metadata": {
            "tags": null
          },
          "name": "stdout",
          "output_type": "stream",
          "text": [
            "3193.6378784179688\n",
            "-4740.964\n",
            "Train Loss - MOSEAS Regression:  0.6101\n",
            "Test Loss - MOSEAS Regression:  -1.4016\n",
            "Train MAE - MOSEAS Regression:  1.9621\n",
            "Test MAE - MOSEAS Regression:  1.5298\n",
            "Train Pearson - MOSEAS Regression:  0.0965\n",
            "Test Pearson - MOSEAS Regression:  0.2326\n",
            "5531.468915939331\n",
            "-4069.7498\n",
            "5125.344260215759\n",
            "-4275.6016\n",
            "4999.43399810791\n",
            "-4002.4907\n",
            "2793.577498435974\n",
            "-4506.4155\n"
          ]
        },
        {
          "metadata": {
            "tags": null
          },
          "name": "stderr",
          "output_type": "stream",
          "text": [
            "\rMOSEAS Regression:  33%|███▎      | 83/250 [21:40<42:03, 15.11s/it]"
          ]
        },
        {
          "metadata": {
            "tags": null
          },
          "name": "stdout",
          "output_type": "stream",
          "text": [
            "1673.6573238372803\n",
            "-4905.843\n",
            "Train Loss - MOSEAS Regression:  0.4029\n",
            "Test Loss - MOSEAS Regression:  -2.9277\n",
            "Train MAE - MOSEAS Regression:  1.9251\n",
            "Test MAE - MOSEAS Regression:  1.0268\n",
            "Train Pearson - MOSEAS Regression:  0.1226\n",
            "Test Pearson - MOSEAS Regression:  0.2426\n",
            "saving checkpoint for epoch 82\n",
            "4916.5708265304565\n",
            "-4306.6294\n",
            "4614.604488372803\n",
            "-4435.0933\n",
            "6555.748314857483\n",
            "-3709.7075\n",
            "2377.5657353401184\n",
            "-4544.735\n"
          ]
        },
        {
          "metadata": {
            "tags": null
          },
          "name": "stderr",
          "output_type": "stream",
          "text": [
            "\rMOSEAS Regression:  34%|███▎      | 84/250 [21:55<41:52, 15.13s/it]"
          ]
        },
        {
          "metadata": {
            "tags": null
          },
          "name": "stdout",
          "output_type": "stream",
          "text": [
            "1542.6364459991455\n",
            "-5069.7524\n",
            "Train Loss - MOSEAS Regression:  0.3708\n",
            "Test Loss - MOSEAS Regression:  -3.1949\n",
            "Train MAE - MOSEAS Regression:  1.9264\n",
            "Test MAE - MOSEAS Regression:  0.9789\n",
            "Train Pearson - MOSEAS Regression:  0.1413\n",
            "Test Pearson - MOSEAS Regression:  0.247\n",
            "saving checkpoint for epoch 83\n",
            "4347.571268081665\n",
            "-4612.4263\n",
            "6428.245101928711\n",
            "-4544.6157\n",
            "5260.398891448975\n",
            "-4877.2246\n",
            "3042.656388282776\n",
            "-4750.368\n"
          ]
        },
        {
          "metadata": {
            "tags": null
          },
          "name": "stderr",
          "output_type": "stream",
          "text": [
            "\rMOSEAS Regression:  34%|███▍      | 85/250 [22:10<41:20, 15.04s/it]"
          ]
        },
        {
          "metadata": {
            "tags": null
          },
          "name": "stdout",
          "output_type": "stream",
          "text": [
            "3190.020263671875\n",
            "-5233.091\n",
            "Train Loss - MOSEAS Regression:  0.0743\n",
            "Test Loss - MOSEAS Regression:  -1.8506\n",
            "Train MAE - MOSEAS Regression:  1.9522\n",
            "Test MAE - MOSEAS Regression:  1.5372\n",
            "Train Pearson - MOSEAS Regression:  0.1101\n",
            "Test Pearson - MOSEAS Regression:  0.2441\n",
            "4931.324241638184\n",
            "-4567.99\n",
            "6543.357187271118\n",
            "-4659.366\n",
            "4587.393831253052\n",
            "-4829.5435\n",
            "2291.569098472595\n",
            "-4831.3433\n"
          ]
        },
        {
          "metadata": {
            "tags": null
          },
          "name": "stderr",
          "output_type": "stream",
          "text": [
            "\rMOSEAS Regression:  34%|███▍      | 86/250 [22:25<41:05, 15.03s/it]"
          ]
        },
        {
          "metadata": {
            "tags": null
          },
          "name": "stdout",
          "output_type": "stream",
          "text": [
            "1112.5659084320068\n",
            "-5390.089\n",
            "Train Loss - MOSEAS Regression:  -0.135\n",
            "Test Loss - MOSEAS Regression:  -3.8746\n",
            "Train MAE - MOSEAS Regression:  1.9094\n",
            "Test MAE - MOSEAS Regression:  0.8171\n",
            "Train Pearson - MOSEAS Regression:  0.0978\n",
            "Test Pearson - MOSEAS Regression:  0.2565\n",
            "saving checkpoint for epoch 85\n",
            "6295.431568622589\n",
            "-4670.693\n",
            "4344.8498702049255\n",
            "-4847.4985\n",
            "4642.677451133728\n",
            "-4798.489\n",
            "3161.1204314231873\n",
            "-5212.3286\n"
          ]
        },
        {
          "metadata": {
            "tags": null
          },
          "name": "stderr",
          "output_type": "stream",
          "text": [
            "\rMOSEAS Regression:  35%|███▍      | 87/250 [22:40<41:05, 15.13s/it]"
          ]
        },
        {
          "metadata": {
            "tags": null
          },
          "name": "stdout",
          "output_type": "stream",
          "text": [
            "1824.1684169769287\n",
            "-5541.681\n",
            "Train Loss - MOSEAS Regression:  -0.274\n",
            "Test Loss - MOSEAS Regression:  -3.3673\n",
            "Train MAE - MOSEAS Regression:  1.9066\n",
            "Test MAE - MOSEAS Regression:  1.0821\n",
            "Train Pearson - MOSEAS Regression:  0.0958\n",
            "Test Pearson - MOSEAS Regression:  0.2542\n",
            "5244.383922576904\n",
            "-5111.0444\n",
            "4862.663232326508\n",
            "-4894.353\n",
            "5305.602293014526\n",
            "-5037.932\n",
            "3060.6792125701904\n",
            "-5338.591\n"
          ]
        },
        {
          "metadata": {
            "tags": null
          },
          "name": "stderr",
          "output_type": "stream",
          "text": [
            "\rMOSEAS Regression:  35%|███▌      | 88/250 [22:57<41:50, 15.50s/it]"
          ]
        },
        {
          "metadata": {
            "tags": null
          },
          "name": "stdout",
          "output_type": "stream",
          "text": [
            "1678.974775314331\n",
            "-5693.901\n",
            "Train Loss - MOSEAS Regression:  -0.482\n",
            "Test Loss - MOSEAS Regression:  -3.6367\n",
            "Train MAE - MOSEAS Regression:  1.9314\n",
            "Test MAE - MOSEAS Regression:  1.028\n",
            "Train Pearson - MOSEAS Regression:  0.1024\n",
            "Test Pearson - MOSEAS Regression:  0.2552\n",
            "4178.31550693512\n",
            "-4894.031\n",
            "5586.936198234558\n",
            "-5271.437\n",
            "5401.289682388306\n",
            "-5121.5977\n",
            "3019.4178223609924\n",
            "-5115.8125\n"
          ]
        },
        {
          "metadata": {
            "tags": null
          },
          "name": "stderr",
          "output_type": "stream",
          "text": [
            "\rMOSEAS Regression:  36%|███▌      | 89/250 [23:12<41:28, 15.45s/it]"
          ]
        },
        {
          "metadata": {
            "tags": null
          },
          "name": "stdout",
          "output_type": "stream",
          "text": [
            "1035.0717916488647\n",
            "-5845.5938\n",
            "Train Loss - MOSEAS Regression:  -0.5598\n",
            "Test Loss - MOSEAS Regression:  -4.3574\n",
            "Train MAE - MOSEAS Regression:  1.8937\n",
            "Test MAE - MOSEAS Regression:  0.7788\n",
            "Train Pearson - MOSEAS Regression:  0.1375\n",
            "Test Pearson - MOSEAS Regression:  0.253\n",
            "saving checkpoint for epoch 88\n",
            "5460.538177490234\n",
            "-5172.151\n",
            "4359.730491638184\n",
            "-5194.9624\n",
            "4676.926063537598\n",
            "-5066.0176\n",
            "2553.0780630111694\n",
            "-5627.3843\n"
          ]
        },
        {
          "metadata": {
            "tags": null
          },
          "name": "stderr",
          "output_type": "stream",
          "text": [
            "\rMOSEAS Regression:  36%|███▌      | 90/250 [23:27<41:03, 15.39s/it]"
          ]
        },
        {
          "metadata": {
            "tags": null
          },
          "name": "stdout",
          "output_type": "stream",
          "text": [
            "1177.7495670318604\n",
            "-6015.007\n",
            "Train Loss - MOSEAS Regression:  -1.0127\n",
            "Test Loss - MOSEAS Regression:  -4.3816\n",
            "Train MAE - MOSEAS Regression:  1.8272\n",
            "Test MAE - MOSEAS Regression:  0.8347\n",
            "Train Pearson - MOSEAS Regression:  0.1199\n",
            "Test Pearson - MOSEAS Regression:  0.2431\n",
            "saving checkpoint for epoch 89\n",
            "4940.275421142578\n",
            "-5239.4526\n",
            "3734.0426063537598\n",
            "-5462.5444\n",
            "5783.73465013504\n",
            "-5384.99\n",
            "2524.6776485443115\n",
            "-5798.5415\n"
          ]
        },
        {
          "metadata": {
            "tags": null
          },
          "name": "stderr",
          "output_type": "stream",
          "text": [
            "\rMOSEAS Regression:  36%|███▋      | 91/250 [23:42<40:02, 15.11s/it]"
          ]
        },
        {
          "metadata": {
            "tags": null
          },
          "name": "stdout",
          "output_type": "stream",
          "text": [
            "1864.8606605529785\n",
            "-6198.339\n",
            "Train Loss - MOSEAS Regression:  -1.2381\n",
            "Test Loss - MOSEAS Regression:  -3.9253\n",
            "Train MAE - MOSEAS Regression:  1.8148\n",
            "Test MAE - MOSEAS Regression:  1.1062\n",
            "Train Pearson - MOSEAS Regression:  0.1134\n",
            "Test Pearson - MOSEAS Regression:  0.2388\n",
            "4558.651136398315\n",
            "-5618.335\n",
            "5412.927000045776\n",
            "-5537.277\n",
            "4365.024284362793\n",
            "-5799.2485\n",
            "2293.4681453704834\n",
            "-5677.606\n"
          ]
        },
        {
          "metadata": {
            "tags": null
          },
          "name": "stderr",
          "output_type": "stream",
          "text": [
            "\rMOSEAS Regression:  37%|███▋      | 92/250 [23:57<39:49, 15.12s/it]"
          ]
        },
        {
          "metadata": {
            "tags": null
          },
          "name": "stdout",
          "output_type": "stream",
          "text": [
            "972.1994819641113\n",
            "-6376.524\n",
            "Train Loss - MOSEAS Regression:  -1.5158\n",
            "Test Loss - MOSEAS Regression:  -4.8952\n",
            "Train MAE - MOSEAS Regression:  1.8032\n",
            "Test MAE - MOSEAS Regression:  0.7537\n",
            "Train Pearson - MOSEAS Regression:  0.0939\n",
            "Test Pearson - MOSEAS Regression:  0.2464\n",
            "saving checkpoint for epoch 91\n",
            "3976.553321838379\n",
            "-5816.6816\n",
            "4906.315876960754\n",
            "-5886.429\n",
            "4234.488082885742\n",
            "-5947.7207\n",
            "3514.6448135375977\n",
            "-5799.0664\n"
          ]
        },
        {
          "metadata": {
            "tags": null
          },
          "name": "stderr",
          "output_type": "stream",
          "text": [
            "\rMOSEAS Regression:  37%|███▋      | 93/250 [24:11<38:24, 14.68s/it]"
          ]
        },
        {
          "metadata": {
            "tags": null
          },
          "name": "stdout",
          "output_type": "stream",
          "text": [
            "3056.8378715515137\n",
            "-6547.5103\n",
            "Train Loss - MOSEAS Regression:  -1.7217\n",
            "Test Loss - MOSEAS Regression:  -3.1618\n",
            "Train MAE - MOSEAS Regression:  1.7888\n",
            "Test MAE - MOSEAS Regression:  1.502\n",
            "Train Pearson - MOSEAS Regression:  0.1119\n",
            "Test Pearson - MOSEAS Regression:  0.2353\n",
            "4120.661641120911\n",
            "-5842.7144\n",
            "4471.388088941574\n",
            "-5885.8066\n",
            "4770.6633014678955\n",
            "-5957.187\n",
            "2584.1829829216003\n",
            "-6148.467\n"
          ]
        },
        {
          "metadata": {
            "tags": null
          },
          "name": "stderr",
          "output_type": "stream",
          "text": [
            "\rMOSEAS Regression:  38%|███▊      | 94/250 [24:26<38:35, 14.84s/it]"
          ]
        },
        {
          "metadata": {
            "tags": null
          },
          "name": "stdout",
          "output_type": "stream",
          "text": [
            "1028.0422639846802\n",
            "-6714.3374\n",
            "Train Loss - MOSEAS Regression:  -1.9917\n",
            "Test Loss - MOSEAS Regression:  -5.1506\n",
            "Train MAE - MOSEAS Regression:  1.7592\n",
            "Test MAE - MOSEAS Regression:  0.7909\n",
            "Train Pearson - MOSEAS Regression:  0.138\n",
            "Test Pearson - MOSEAS Regression:  0.2474\n",
            "saving checkpoint for epoch 93\n",
            "4662.981552600861\n",
            "-6058.2905\n",
            "4356.956775665283\n",
            "-5989.2686\n",
            "4460.204032659531\n",
            "-6044.2363\n",
            "1994.931634426117\n",
            "-6306.8223\n"
          ]
        },
        {
          "metadata": {
            "tags": null
          },
          "name": "stderr",
          "output_type": "stream",
          "text": [
            "\rMOSEAS Regression:  38%|███▊      | 95/250 [24:42<39:30, 15.29s/it]"
          ]
        },
        {
          "metadata": {
            "tags": null
          },
          "name": "stdout",
          "output_type": "stream",
          "text": [
            "1808.8164539337158\n",
            "-6878.2837\n",
            "Train Loss - MOSEAS Regression:  -2.2534\n",
            "Test Loss - MOSEAS Regression:  -4.5919\n",
            "Train MAE - MOSEAS Regression:  1.7273\n",
            "Test MAE - MOSEAS Regression:  1.0855\n",
            "Train Pearson - MOSEAS Regression:  0.1408\n",
            "Test Pearson - MOSEAS Regression:  0.2387\n",
            "3895.0316531658173\n",
            "-6259.1147\n",
            "4827.496531963348\n",
            "-6194.916\n",
            "4119.005292892456\n",
            "-6410.527\n",
            "2277.915058851242\n",
            "-6152.6284\n"
          ]
        },
        {
          "metadata": {
            "tags": null
          },
          "name": "stderr",
          "output_type": "stream",
          "text": [
            "\rMOSEAS Regression:  38%|███▊      | 96/250 [24:57<38:52, 15.15s/it]"
          ]
        },
        {
          "metadata": {
            "tags": null
          },
          "name": "stdout",
          "output_type": "stream",
          "text": [
            "1173.255844116211\n",
            "-7047.423\n",
            "Train Loss - MOSEAS Regression:  -2.4994\n",
            "Test Loss - MOSEAS Regression:  -5.3208\n",
            "Train MAE - MOSEAS Regression:  1.6958\n",
            "Test MAE - MOSEAS Regression:  0.8475\n",
            "Train Pearson - MOSEAS Regression:  0.1151\n",
            "Test Pearson - MOSEAS Regression:  0.239\n",
            "saving checkpoint for epoch 95\n",
            "3487.4320554733276\n",
            "-6445.5747\n",
            "4539.486191749573\n",
            "-6435.0034\n",
            "4232.1534304618835\n",
            "-6597.393\n",
            "2040.692013502121\n",
            "-6369.546\n"
          ]
        },
        {
          "metadata": {
            "tags": null
          },
          "name": "stderr",
          "output_type": "stream",
          "text": [
            "\rMOSEAS Regression:  39%|███▉      | 97/250 [25:12<38:54, 15.26s/it]"
          ]
        },
        {
          "metadata": {
            "tags": null
          },
          "name": "stdout",
          "output_type": "stream",
          "text": [
            "2830.0038986206055\n",
            "-7232.331\n",
            "Train Loss - MOSEAS Regression:  -2.9161\n",
            "Test Loss - MOSEAS Regression:  -3.9876\n",
            "Train MAE - MOSEAS Regression:  1.6569\n",
            "Test MAE - MOSEAS Regression:  1.3872\n",
            "Train Pearson - MOSEAS Regression:  0.1342\n",
            "Test Pearson - MOSEAS Regression:  0.2454\n",
            "4264.930755615234\n",
            "-6462.765\n",
            "3998.5104060173035\n",
            "-6548.01\n",
            "4398.302684783936\n",
            "-6644.6636\n",
            "2437.621651649475\n",
            "-6943.6753\n"
          ]
        },
        {
          "metadata": {
            "tags": null
          },
          "name": "stderr",
          "output_type": "stream",
          "text": [
            "\rMOSEAS Regression:  39%|███▉      | 98/250 [25:28<39:08, 15.45s/it]"
          ]
        },
        {
          "metadata": {
            "tags": null
          },
          "name": "stdout",
          "output_type": "stream",
          "text": [
            "3217.7364463806152\n",
            "-7421.686\n",
            "Train Loss - MOSEAS Regression:  -2.904\n",
            "Test Loss - MOSEAS Regression:  -3.8079\n",
            "Train MAE - MOSEAS Regression:  1.6863\n",
            "Test MAE - MOSEAS Regression:  1.5526\n",
            "Train Pearson - MOSEAS Regression:  0.1284\n",
            "Test Pearson - MOSEAS Regression:  0.2231\n",
            "4489.872210979462\n",
            "-6666.894\n",
            "4104.989218711853\n",
            "-6650.7163\n",
            "4143.938483715057\n",
            "-6726.932\n",
            "1937.579345703125\n",
            "-6981.472\n"
          ]
        },
        {
          "metadata": {
            "tags": null
          },
          "name": "stderr",
          "output_type": "stream",
          "text": [
            "\rMOSEAS Regression:  40%|███▉      | 99/250 [25:44<39:12, 15.58s/it]"
          ]
        },
        {
          "metadata": {
            "tags": null
          },
          "name": "stdout",
          "output_type": "stream",
          "text": [
            "1025.6630716323853\n",
            "-7615.952\n",
            "Train Loss - MOSEAS Regression:  -3.1186\n",
            "Test Loss - MOSEAS Regression:  -5.9695\n",
            "Train MAE - MOSEAS Regression:  1.6632\n",
            "Test MAE - MOSEAS Regression:  0.7805\n",
            "Train Pearson - MOSEAS Regression:  0.1369\n",
            "Test Pearson - MOSEAS Regression:  0.2486\n",
            "saving checkpoint for epoch 98\n",
            "3611.7894711494446\n",
            "-6711.08\n",
            "4743.907115697861\n",
            "-6587.638\n",
            "4835.995849609375\n",
            "-6676.705\n",
            "1846.764948129654\n",
            "-7146.022\n"
          ]
        },
        {
          "metadata": {
            "tags": null
          },
          "name": "stderr",
          "output_type": "stream",
          "text": [
            "\rMOSEAS Regression:  40%|████      | 100/250 [26:00<39:04, 15.63s/it]"
          ]
        },
        {
          "metadata": {
            "tags": null
          },
          "name": "stdout",
          "output_type": "stream",
          "text": [
            "2038.1268768310547\n",
            "-7809.954\n",
            "Train Loss - MOSEAS Regression:  -3.0513\n",
            "Test Loss - MOSEAS Regression:  -5.2281\n",
            "Train MAE - MOSEAS Regression:  1.716\n",
            "Test MAE - MOSEAS Regression:  1.1467\n",
            "Train Pearson - MOSEAS Regression:  0.1158\n",
            "Test Pearson - MOSEAS Regression:  0.2602\n",
            "4269.541006088257\n",
            "-6776.4985\n",
            "3896.05370759964\n",
            "-7127.5557\n",
            "2935.874058008194\n",
            "-7025.6284\n",
            "2154.672374725342\n",
            "-7207.266\n"
          ]
        },
        {
          "metadata": {
            "tags": null
          },
          "name": "stderr",
          "output_type": "stream",
          "text": [
            "\rMOSEAS Regression:  40%|████      | 101/250 [26:15<38:34, 15.53s/it]"
          ]
        },
        {
          "metadata": {
            "tags": null
          },
          "name": "stdout",
          "output_type": "stream",
          "text": [
            "1539.5342044830322\n",
            "-7999.467\n",
            "Train Loss - MOSEAS Regression:  -3.7578\n",
            "Test Loss - MOSEAS Regression:  -5.8514\n",
            "Train MAE - MOSEAS Regression:  1.5536\n",
            "Test MAE - MOSEAS Regression:  0.9873\n",
            "Train Pearson - MOSEAS Regression:  0.1342\n",
            "Test Pearson - MOSEAS Regression:  0.249\n",
            "3948.3572330474854\n",
            "-6893.43\n",
            "3201.360005378723\n",
            "-6968.295\n",
            "4905.118691444397\n",
            "-7174.9297\n",
            "1758.3373987674713\n",
            "-7457.0303\n"
          ]
        },
        {
          "metadata": {
            "tags": null
          },
          "name": "stderr",
          "output_type": "stream",
          "text": [
            "\rMOSEAS Regression:  41%|████      | 102/250 [26:31<38:37, 15.66s/it]"
          ]
        },
        {
          "metadata": {
            "tags": null
          },
          "name": "stdout",
          "output_type": "stream",
          "text": [
            "1161.1508903503418\n",
            "-8211.544\n",
            "Train Loss - MOSEAS Regression:  -3.7072\n",
            "Test Loss - MOSEAS Regression:  -6.3862\n",
            "Train MAE - MOSEAS Regression:  1.5955\n",
            "Test MAE - MOSEAS Regression:  0.8362\n",
            "Train Pearson - MOSEAS Regression:  0.1087\n",
            "Test Pearson - MOSEAS Regression:  0.2412\n",
            "saving checkpoint for epoch 101\n",
            "3265.003952026367\n",
            "-7351.8154\n",
            "3245.9837894439697\n",
            "-7457.8613\n",
            "3752.708639860153\n",
            "-7406.6665\n",
            "2152.481492996216\n",
            "-7605.1196\n"
          ]
        },
        {
          "metadata": {
            "tags": null
          },
          "name": "stderr",
          "output_type": "stream",
          "text": [
            "\rMOSEAS Regression:  41%|████      | 103/250 [26:47<38:12, 15.60s/it]"
          ]
        },
        {
          "metadata": {
            "tags": null
          },
          "name": "stdout",
          "output_type": "stream",
          "text": [
            "1360.877363204956\n",
            "-8415.237\n",
            "Train Loss - MOSEAS Regression:  -4.3953\n",
            "Test Loss - MOSEAS Regression:  -6.3898\n",
            "Train MAE - MOSEAS Regression:  1.5153\n",
            "Test MAE - MOSEAS Regression:  0.888\n",
            "Train Pearson - MOSEAS Regression:  0.1204\n",
            "Test Pearson - MOSEAS Regression:  0.1935\n",
            "saving checkpoint for epoch 102\n",
            "3599.2674655914307\n",
            "-7102.321\n",
            "2834.3375244140625\n",
            "-7552.5625\n",
            "4179.140723228455\n",
            "-7552.2144\n",
            "1626.7902374267578\n",
            "-7680.282\n"
          ]
        },
        {
          "metadata": {
            "tags": null
          },
          "name": "stderr",
          "output_type": "stream",
          "text": [
            "\rMOSEAS Regression:  42%|████▏     | 104/250 [27:02<37:37, 15.46s/it]"
          ]
        },
        {
          "metadata": {
            "tags": null
          },
          "name": "stdout",
          "output_type": "stream",
          "text": [
            "764.3483791351318\n",
            "-8614.92\n",
            "Train Loss - MOSEAS Regression:  -4.4565\n",
            "Test Loss - MOSEAS Regression:  -7.111\n",
            "Train MAE - MOSEAS Regression:  1.5011\n",
            "Test MAE - MOSEAS Regression:  0.6566\n",
            "Train Pearson - MOSEAS Regression:  0.1441\n",
            "Test Pearson - MOSEAS Regression:  0.1999\n",
            "saving checkpoint for epoch 103\n",
            "3527.263719558716\n",
            "-7634.8955\n",
            "3705.339359521866\n",
            "-7810.34\n",
            "3447.7196571826935\n",
            "-7734.3613\n",
            "1804.6770000457764\n",
            "-7910.848\n"
          ]
        },
        {
          "metadata": {
            "tags": null
          },
          "name": "stderr",
          "output_type": "stream",
          "text": [
            "\rMOSEAS Regression:  42%|████▏     | 105/250 [27:18<37:41, 15.60s/it]"
          ]
        },
        {
          "metadata": {
            "tags": null
          },
          "name": "stdout",
          "output_type": "stream",
          "text": [
            "1847.73779296875\n",
            "-8825.443\n",
            "Train Loss - MOSEAS Regression:  -4.6983\n",
            "Test Loss - MOSEAS Regression:  -6.3204\n",
            "Train MAE - MOSEAS Regression:  1.5051\n",
            "Test MAE - MOSEAS Regression:  1.1125\n",
            "Train Pearson - MOSEAS Regression:  0.1114\n",
            "Test Pearson - MOSEAS Regression:  0.2337\n",
            "3360.726318359375\n",
            "-8019.352\n",
            "3620.377024412155\n",
            "-7898.4155\n",
            "3466.904844045639\n",
            "-7796.926\n",
            "1646.9179944992065\n",
            "-7976.7837\n"
          ]
        },
        {
          "metadata": {
            "tags": null
          },
          "name": "stderr",
          "output_type": "stream",
          "text": [
            "\rMOSEAS Regression:  42%|████▏     | 106/250 [27:32<36:33, 15.24s/it]"
          ]
        },
        {
          "metadata": {
            "tags": null
          },
          "name": "stdout",
          "output_type": "stream",
          "text": [
            "2777.1397132873535\n",
            "-9033.079\n",
            "Train Loss - MOSEAS Regression:  -4.9486\n",
            "Test Loss - MOSEAS Regression:  -5.6666\n",
            "Train MAE - MOSEAS Regression:  1.4985\n",
            "Test MAE - MOSEAS Regression:  1.4044\n",
            "Train Pearson - MOSEAS Regression:  0.148\n",
            "Test Pearson - MOSEAS Regression:  0.2611\n",
            "3649.889251470566\n",
            "-7845.41\n",
            "2579.4597704410553\n",
            "-8432.116\n",
            "4596.0233244895935\n",
            "-7841.79\n",
            "1394.9793410301208\n",
            "-8221.635\n"
          ]
        },
        {
          "metadata": {
            "tags": null
          },
          "name": "stderr",
          "output_type": "stream",
          "text": [
            "\rMOSEAS Regression:  43%|████▎     | 107/250 [27:46<35:27, 14.88s/it]"
          ]
        },
        {
          "metadata": {
            "tags": null
          },
          "name": "stdout",
          "output_type": "stream",
          "text": [
            "787.8401069641113\n",
            "-9238.001\n",
            "Train Loss - MOSEAS Regression:  -5.081\n",
            "Test Loss - MOSEAS Regression:  -7.6541\n",
            "Train MAE - MOSEAS Regression:  1.4973\n",
            "Test MAE - MOSEAS Regression:  0.6763\n",
            "Train Pearson - MOSEAS Regression:  0.1444\n",
            "Test Pearson - MOSEAS Regression:  0.2672\n",
            "saving checkpoint for epoch 106\n",
            "3080.4606461524963\n",
            "-8230.368\n",
            "3184.1765627861023\n",
            "-8282.139\n",
            "2847.6796510219574\n",
            "-8394.053\n",
            "2460.262114048004\n",
            "-8619.652\n"
          ]
        },
        {
          "metadata": {
            "tags": null
          },
          "name": "stderr",
          "output_type": "stream",
          "text": [
            "\rMOSEAS Regression:  43%|████▎     | 108/250 [28:00<34:34, 14.61s/it]"
          ]
        },
        {
          "metadata": {
            "tags": null
          },
          "name": "stdout",
          "output_type": "stream",
          "text": [
            "713.8394994735718\n",
            "-9439.125\n",
            "Train Loss - MOSEAS Regression:  -5.5438\n",
            "Test Loss - MOSEAS Regression:  -7.9033\n",
            "Train MAE - MOSEAS Regression:  1.4485\n",
            "Test MAE - MOSEAS Regression:  0.6406\n",
            "Train Pearson - MOSEAS Regression:  0.1624\n",
            "Test Pearson - MOSEAS Regression:  0.2713\n",
            "saving checkpoint for epoch 107\n",
            "3047.037652015686\n",
            "-8583.651\n",
            "3119.132289171219\n",
            "-8532.561\n",
            "3957.434133529663\n",
            "-8052.6562\n",
            "1495.181313276291\n",
            "-8869.196\n"
          ]
        },
        {
          "metadata": {
            "tags": null
          },
          "name": "stderr",
          "output_type": "stream",
          "text": [
            "\rMOSEAS Regression:  44%|████▎     | 109/250 [28:14<33:54, 14.43s/it]"
          ]
        },
        {
          "metadata": {
            "tags": null
          },
          "name": "stdout",
          "output_type": "stream",
          "text": [
            "1231.7475471496582\n",
            "-9640.896\n",
            "Train Loss - MOSEAS Regression:  -5.6614\n",
            "Test Loss - MOSEAS Regression:  -7.617\n",
            "Train MAE - MOSEAS Regression:  1.4547\n",
            "Test MAE - MOSEAS Regression:  0.8714\n",
            "Train Pearson - MOSEAS Regression:  0.1497\n",
            "Test Pearson - MOSEAS Regression:  0.2662\n",
            "3337.8211703300476\n",
            "-8494.65\n",
            "2761.8029782772064\n",
            "-8741.923\n",
            "3495.9709985256195\n",
            "-8479.947\n",
            "1654.4846777915955\n",
            "-8733.0205\n"
          ]
        },
        {
          "metadata": {
            "tags": null
          },
          "name": "stderr",
          "output_type": "stream",
          "text": [
            "\rMOSEAS Regression:  44%|████▍     | 110/250 [28:29<33:36, 14.41s/it]"
          ]
        },
        {
          "metadata": {
            "tags": null
          },
          "name": "stdout",
          "output_type": "stream",
          "text": [
            "1010.0060434341431\n",
            "-9846.242\n",
            "Train Loss - MOSEAS Regression:  -5.8584\n",
            "Test Loss - MOSEAS Regression:  -8.0038\n",
            "Train MAE - MOSEAS Regression:  1.4203\n",
            "Test MAE - MOSEAS Regression:  0.7801\n",
            "Train Pearson - MOSEAS Regression:  0.1166\n",
            "Test Pearson - MOSEAS Regression:  0.2533\n",
            "saving checkpoint for epoch 109\n",
            "2539.822747707367\n",
            "-8653.798\n",
            "3939.212279319763\n",
            "-8806.129\n",
            "4390.55074930191\n",
            "-8338.132\n",
            "1444.0000569820404\n",
            "-8902.296\n"
          ]
        },
        {
          "metadata": {
            "tags": null
          },
          "name": "stderr",
          "output_type": "stream",
          "text": [
            "\rMOSEAS Regression:  44%|████▍     | 111/250 [28:44<33:55, 14.65s/it]"
          ]
        },
        {
          "metadata": {
            "tags": null
          },
          "name": "stdout",
          "output_type": "stream",
          "text": [
            "5817.939422607422\n",
            "-10087.993\n",
            "Train Loss - MOSEAS Regression:  -5.6532\n",
            "Test Loss - MOSEAS Regression:  -3.8678\n",
            "Train MAE - MOSEAS Regression:  1.514\n",
            "Test MAE - MOSEAS Regression:  2.185\n",
            "Train Pearson - MOSEAS Regression:  0.1126\n",
            "Test Pearson - MOSEAS Regression:  0.2354\n",
            "4086.6921186447144\n",
            "-8878.698\n",
            "3800.243288040161\n",
            "-8820.152\n",
            "2921.8817110061646\n",
            "-8911.737\n",
            "2029.491955757141\n",
            "-8918.968\n"
          ]
        },
        {
          "metadata": {
            "tags": null
          },
          "name": "stderr",
          "output_type": "stream",
          "text": [
            "\rMOSEAS Regression:  45%|████▍     | 112/250 [29:00<34:31, 15.01s/it]"
          ]
        },
        {
          "metadata": {
            "tags": null
          },
          "name": "stdout",
          "output_type": "stream",
          "text": [
            "1500.2064628601074\n",
            "-10328.664\n",
            "Train Loss - MOSEAS Regression:  -5.7301\n",
            "Test Loss - MOSEAS Regression:  -7.9968\n",
            "Train MAE - MOSEAS Regression:  1.5329\n",
            "Test MAE - MOSEAS Regression:  0.9907\n",
            "Train Pearson - MOSEAS Regression:  0.1149\n",
            "Test Pearson - MOSEAS Regression:  0.2627\n",
            "3285.8897647857666\n",
            "-9272.933\n",
            "3205.0229716300964\n",
            "-9152.557\n",
            "4601.771890640259\n",
            "-9053.882\n",
            "1681.0305185317993\n",
            "-9430.035\n"
          ]
        },
        {
          "metadata": {
            "tags": null
          },
          "name": "stderr",
          "output_type": "stream",
          "text": [
            "\rMOSEAS Regression:  45%|████▌     | 113/250 [29:16<34:56, 15.30s/it]"
          ]
        },
        {
          "metadata": {
            "tags": null
          },
          "name": "stdout",
          "output_type": "stream",
          "text": [
            "1757.3274307250977\n",
            "-10564.642\n",
            "Train Loss - MOSEAS Regression:  -6.0949\n",
            "Test Loss - MOSEAS Regression:  -7.9776\n",
            "Train MAE - MOSEAS Regression:  1.5183\n",
            "Test MAE - MOSEAS Regression:  1.0925\n",
            "Train Pearson - MOSEAS Regression:  0.0775\n",
            "Test Pearson - MOSEAS Regression:  0.277\n",
            "4080.1490201950073\n",
            "-9043.852\n",
            "3540.6375226974487\n",
            "-9345.064\n",
            "2399.3084259033203\n",
            "-9136.324\n",
            "2140.143084526062\n",
            "-9469.827\n"
          ]
        },
        {
          "metadata": {
            "tags": null
          },
          "name": "stderr",
          "output_type": "stream",
          "text": [
            "\rMOSEAS Regression:  46%|████▌     | 114/250 [29:30<34:18, 15.13s/it]"
          ]
        },
        {
          "metadata": {
            "tags": null
          },
          "name": "stdout",
          "output_type": "stream",
          "text": [
            "2938.0785598754883\n",
            "-10788.866\n",
            "Train Loss - MOSEAS Regression:  -6.2714\n",
            "Test Loss - MOSEAS Regression:  -7.1112\n",
            "Train MAE - MOSEAS Regression:  1.4989\n",
            "Test MAE - MOSEAS Regression:  1.4686\n",
            "Train Pearson - MOSEAS Regression:  0.1105\n",
            "Test Pearson - MOSEAS Regression:  0.2783\n",
            "3549.742573261261\n",
            "-9438.283\n",
            "2732.4183864593506\n",
            "-9428.3125\n",
            "3572.8321838378906\n",
            "-9382.016\n",
            "1445.2937185764313\n",
            "-9470.083\n"
          ]
        },
        {
          "metadata": {
            "tags": null
          },
          "name": "stderr",
          "output_type": "stream",
          "text": [
            "\rMOSEAS Regression:  46%|████▌     | 115/250 [29:45<33:53, 15.06s/it]"
          ]
        },
        {
          "metadata": {
            "tags": null
          },
          "name": "stdout",
          "output_type": "stream",
          "text": [
            "684.65247631073\n",
            "-11008.809\n",
            "Train Loss - MOSEAS Regression:  -6.6713\n",
            "Test Loss - MOSEAS Regression:  -9.3516\n",
            "Train MAE - MOSEAS Regression:  1.4299\n",
            "Test MAE - MOSEAS Regression:  0.6263\n",
            "Train Pearson - MOSEAS Regression:  0.1613\n",
            "Test Pearson - MOSEAS Regression:  0.2695\n",
            "saving checkpoint for epoch 114\n",
            "3262.7103881835938\n",
            "-9483.3\n",
            "3368.955698490143\n",
            "-9788.995\n",
            "3769.701512336731\n",
            "-9742.974\n",
            "1346.4722900390625\n",
            "-10275.557\n"
          ]
        },
        {
          "metadata": {
            "tags": null
          },
          "name": "stderr",
          "output_type": "stream",
          "text": [
            "\rMOSEAS Regression:  46%|████▋     | 116/250 [30:00<33:36, 15.05s/it]"
          ]
        },
        {
          "metadata": {
            "tags": null
          },
          "name": "stdout",
          "output_type": "stream",
          "text": [
            "768.1047077178955\n",
            "-11239.283\n",
            "Train Loss - MOSEAS Regression:  -6.9553\n",
            "Test Loss - MOSEAS Regression:  -9.4848\n",
            "Train MAE - MOSEAS Regression:  1.4578\n",
            "Test MAE - MOSEAS Regression:  0.6642\n",
            "Train Pearson - MOSEAS Regression:  0.1239\n",
            "Test Pearson - MOSEAS Regression:  0.266\n",
            "saving checkpoint for epoch 115\n",
            "3132.6544189453125\n",
            "-9695.784\n",
            "3179.196566104889\n",
            "-9599.658\n",
            "3821.4192986488342\n",
            "-9560.574\n",
            "1500.3956971168518\n",
            "-9809.797\n"
          ]
        },
        {
          "metadata": {
            "tags": null
          },
          "name": "stderr",
          "output_type": "stream",
          "text": [
            "\rMOSEAS Regression:  47%|████▋     | 117/250 [30:15<33:22, 15.05s/it]"
          ]
        },
        {
          "metadata": {
            "tags": null
          },
          "name": "stdout",
          "output_type": "stream",
          "text": [
            "713.914647102356\n",
            "-11469.303\n",
            "Train Loss - MOSEAS Regression:  -6.8263\n",
            "Test Loss - MOSEAS Regression:  -9.7422\n",
            "Train MAE - MOSEAS Regression:  1.4579\n",
            "Test MAE - MOSEAS Regression:  0.638\n",
            "Train Pearson - MOSEAS Regression:  0.1379\n",
            "Test Pearson - MOSEAS Regression:  0.2665\n",
            "saving checkpoint for epoch 116\n",
            "2976.2477831840515\n",
            "-10216.15\n",
            "4048.90784740448\n",
            "-9674.44\n",
            "3103.1230640411377\n",
            "-9988.361\n",
            "1478.046672821045\n",
            "-9945.011\n"
          ]
        },
        {
          "metadata": {
            "tags": null
          },
          "name": "stderr",
          "output_type": "stream",
          "text": [
            "\rMOSEAS Regression:  47%|████▋     | 118/250 [30:31<33:36, 15.28s/it]"
          ]
        },
        {
          "metadata": {
            "tags": null
          },
          "name": "stdout",
          "output_type": "stream",
          "text": [
            "1163.6183910369873\n",
            "-11699.472\n",
            "Train Loss - MOSEAS Regression:  -7.1257\n",
            "Test Loss - MOSEAS Regression:  -9.5433\n",
            "Train MAE - MOSEAS Regression:  1.4554\n",
            "Test MAE - MOSEAS Regression:  0.8488\n",
            "Train Pearson - MOSEAS Regression:  0.0985\n",
            "Test Pearson - MOSEAS Regression:  0.276\n",
            "2942.8015937805176\n",
            "-10064.896\n",
            "3762.26567029953\n",
            "-10103.583\n",
            "3336.624466896057\n",
            "-10406.632\n",
            "1282.6567997932434\n",
            "-10595.305\n"
          ]
        },
        {
          "metadata": {
            "tags": null
          },
          "name": "stderr",
          "output_type": "stream",
          "text": [
            "\rMOSEAS Regression:  48%|████▊     | 119/250 [30:47<33:47, 15.48s/it]"
          ]
        },
        {
          "metadata": {
            "tags": null
          },
          "name": "stdout",
          "output_type": "stream",
          "text": [
            "668.3189878463745\n",
            "-11940.078\n",
            "Train Loss - MOSEAS Regression:  -7.5369\n",
            "Test Loss - MOSEAS Regression:  -10.2099\n",
            "Train MAE - MOSEAS Regression:  1.4349\n",
            "Test MAE - MOSEAS Regression:  0.6166\n",
            "Train Pearson - MOSEAS Regression:  0.1473\n",
            "Test Pearson - MOSEAS Regression:  0.2685\n",
            "saving checkpoint for epoch 118\n",
            "2587.363224506378\n",
            "-10639.698\n",
            "3501.775414943695\n",
            "-10304.102\n",
            "2981.158149957657\n",
            "-10380.821\n",
            "2074.31325674057\n",
            "-10378.353\n"
          ]
        },
        {
          "metadata": {
            "tags": null
          },
          "name": "stderr",
          "output_type": "stream",
          "text": [
            "\rMOSEAS Regression:  48%|████▊     | 120/250 [31:03<33:37, 15.52s/it]"
          ]
        },
        {
          "metadata": {
            "tags": null
          },
          "name": "stdout",
          "output_type": "stream",
          "text": [
            "899.7332811355591\n",
            "-12181.349\n",
            "Train Loss - MOSEAS Regression:  -7.7168\n",
            "Test Loss - MOSEAS Regression:  -10.2189\n",
            "Train MAE - MOSEAS Regression:  1.4117\n",
            "Test MAE - MOSEAS Regression:  0.7295\n",
            "Train Pearson - MOSEAS Regression:  0.1297\n",
            "Test Pearson - MOSEAS Regression:  0.2782\n",
            "saving checkpoint for epoch 119\n",
            "3188.7243962287903\n",
            "-10666.312\n",
            "3267.0081100463867\n",
            "-10445.999\n",
            "3555.9789288043976\n",
            "-10636.146\n",
            "2169.686995983124\n",
            "-10896.677\n"
          ]
        },
        {
          "metadata": {
            "tags": null
          },
          "name": "stderr",
          "output_type": "stream",
          "text": [
            "\rMOSEAS Regression:  48%|████▊     | 121/250 [31:17<32:45, 15.24s/it]"
          ]
        },
        {
          "metadata": {
            "tags": null
          },
          "name": "stdout",
          "output_type": "stream",
          "text": [
            "1144.635389328003\n",
            "-12431.393\n",
            "Train Loss - MOSEAS Regression:  -7.6929\n",
            "Test Loss - MOSEAS Regression:  -10.2235\n",
            "Train MAE - MOSEAS Regression:  1.4966\n",
            "Test MAE - MOSEAS Regression:  0.8423\n",
            "Train Pearson - MOSEAS Regression:  0.1468\n",
            "Test Pearson - MOSEAS Regression:  0.2875\n",
            "saving checkpoint for epoch 120\n",
            "3848.9873015880585\n",
            "-10784.798\n",
            "3807.7094464302063\n",
            "-10837.224\n",
            "3018.0185651779175\n",
            "-10709.934\n",
            "1989.672206878662\n",
            "-11139.631\n"
          ]
        },
        {
          "metadata": {
            "tags": null
          },
          "name": "stderr",
          "output_type": "stream",
          "text": [
            "\rMOSEAS Regression:  49%|████▉     | 122/250 [31:32<32:19, 15.15s/it]"
          ]
        },
        {
          "metadata": {
            "tags": null
          },
          "name": "stdout",
          "output_type": "stream",
          "text": [
            "3606.5692291259766\n",
            "-12672.077\n",
            "Train Loss - MOSEAS Regression:  -7.7796\n",
            "Test Loss - MOSEAS Regression:  -8.2115\n",
            "Train MAE - MOSEAS Regression:  1.5289\n",
            "Test MAE - MOSEAS Regression:  1.6595\n",
            "Train Pearson - MOSEAS Regression:  0.1186\n",
            "Test Pearson - MOSEAS Regression:  0.2754\n",
            "4232.819231033325\n",
            "-10734.613\n",
            "2910.7192006111145\n",
            "-11009.678\n",
            "3825.5224442481995\n",
            "-11006.583\n",
            "2320.0301513671875\n",
            "-11496.758\n"
          ]
        },
        {
          "metadata": {
            "tags": null
          },
          "name": "stderr",
          "output_type": "stream",
          "text": [
            "\rMOSEAS Regression:  49%|████▉     | 123/250 [31:47<31:57, 15.10s/it]"
          ]
        },
        {
          "metadata": {
            "tags": null
          },
          "name": "stdout",
          "output_type": "stream",
          "text": [
            "691.7126684188843\n",
            "-12914.832\n",
            "Train Loss - MOSEAS Regression:  -7.8178\n",
            "Test Loss - MOSEAS Regression:  -11.0717\n",
            "Train MAE - MOSEAS Regression:  1.575\n",
            "Test MAE - MOSEAS Regression:  0.6241\n",
            "Train Pearson - MOSEAS Regression:  0.1634\n",
            "Test Pearson - MOSEAS Regression:  0.2553\n",
            "saving checkpoint for epoch 122\n",
            "3608.534393310547\n",
            "-11002.088\n",
            "3987.42546916008\n",
            "-11198.6045\n",
            "2476.9461250305176\n",
            "-10132.705\n",
            "2731.2745060920715\n",
            "-9893.481\n"
          ]
        },
        {
          "metadata": {
            "tags": null
          },
          "name": "stderr",
          "output_type": "stream",
          "text": [
            "\rMOSEAS Regression:  50%|████▉     | 124/250 [32:03<31:55, 15.20s/it]"
          ]
        },
        {
          "metadata": {
            "tags": null
          },
          "name": "stdout",
          "output_type": "stream",
          "text": [
            "921.4073181152344\n",
            "-13162.389\n",
            "Train Loss - MOSEAS Regression:  -7.43\n",
            "Test Loss - MOSEAS Regression:  -11.0878\n",
            "Train MAE - MOSEAS Regression:  1.5247\n",
            "Test MAE - MOSEAS Regression:  0.7437\n",
            "Train Pearson - MOSEAS Regression:  0.1045\n",
            "Test Pearson - MOSEAS Regression:  0.2824\n",
            "saving checkpoint for epoch 123\n",
            "3260.58509349823\n",
            "-11178.865\n",
            "3270.759452819824\n",
            "-11454.484\n",
            "3712.4144427776337\n",
            "-11104.704\n",
            "1587.1669573783875\n",
            "-11622.285\n"
          ]
        },
        {
          "metadata": {
            "tags": null
          },
          "name": "stderr",
          "output_type": "stream",
          "text": [
            "\rMOSEAS Regression:  50%|█████     | 125/250 [32:18<31:53, 15.31s/it]"
          ]
        },
        {
          "metadata": {
            "tags": null
          },
          "name": "stdout",
          "output_type": "stream",
          "text": [
            "1089.087999343872\n",
            "-13398.139\n",
            "Train Loss - MOSEAS Regression:  -8.467\n",
            "Test Loss - MOSEAS Regression:  -11.1495\n",
            "Train MAE - MOSEAS Regression:  1.4659\n",
            "Test MAE - MOSEAS Regression:  0.8187\n",
            "Train Pearson - MOSEAS Regression:  0.1108\n",
            "Test Pearson - MOSEAS Regression:  0.2868\n",
            "saving checkpoint for epoch 124\n",
            "2810.9752168655396\n",
            "-11337.225\n",
            "5499.028473615646\n",
            "-11188.001\n",
            "3318.796642780304\n",
            "-11569.524\n",
            "1308.675793647766\n",
            "-11905.4\n"
          ]
        },
        {
          "metadata": {
            "tags": null
          },
          "name": "stderr",
          "output_type": "stream",
          "text": [
            "\rMOSEAS Regression:  50%|█████     | 126/250 [32:32<30:58, 14.99s/it]"
          ]
        },
        {
          "metadata": {
            "tags": null
          },
          "name": "stdout",
          "output_type": "stream",
          "text": [
            "3657.682514190674\n",
            "-13633.628\n",
            "Train Loss - MOSEAS Regression:  -8.3492\n",
            "Test Loss - MOSEAS Regression:  -9.0362\n",
            "Train MAE - MOSEAS Regression:  1.5591\n",
            "Test MAE - MOSEAS Regression:  1.6799\n",
            "Train Pearson - MOSEAS Regression:  0.0772\n",
            "Test Pearson - MOSEAS Regression:  0.2867\n",
            "3744.2996864318848\n",
            "-11507.993\n",
            "3190.4702241420746\n",
            "-11453.724\n",
            "2966.610923051834\n",
            "-11686.481\n",
            "2090.362352371216\n",
            "-12125.939\n"
          ]
        },
        {
          "metadata": {
            "tags": null
          },
          "name": "stderr",
          "output_type": "stream",
          "text": [
            "\rMOSEAS Regression:  51%|█████     | 127/250 [32:48<31:11, 15.21s/it]"
          ]
        },
        {
          "metadata": {
            "tags": null
          },
          "name": "stdout",
          "output_type": "stream",
          "text": [
            "662.0713376998901\n",
            "-13869.8125\n",
            "Train Loss - MOSEAS Regression:  -8.7834\n",
            "Test Loss - MOSEAS Regression:  -11.9635\n",
            "Train MAE - MOSEAS Regression:  1.4807\n",
            "Test MAE - MOSEAS Regression:  0.6084\n",
            "Train Pearson - MOSEAS Regression:  0.1061\n",
            "Test Pearson - MOSEAS Regression:  0.2877\n",
            "saving checkpoint for epoch 126\n",
            "4056.72731924057\n",
            "-11918.941\n",
            "3387.19181060791\n",
            "-11649.44\n",
            "2650.624041080475\n",
            "-12042.346\n",
            "1903.717211484909\n",
            "-11592.438\n"
          ]
        },
        {
          "metadata": {
            "tags": null
          },
          "name": "stderr",
          "output_type": "stream",
          "text": [
            "\rMOSEAS Regression:  51%|█████     | 128/250 [33:02<30:17, 14.89s/it]"
          ]
        },
        {
          "metadata": {
            "tags": null
          },
          "name": "stdout",
          "output_type": "stream",
          "text": [
            "2547.5254096984863\n",
            "-14103.22\n",
            "Train Loss - MOSEAS Regression:  -8.8901\n",
            "Test Loss - MOSEAS Regression:  -10.4671\n",
            "Train MAE - MOSEAS Regression:  1.4736\n",
            "Test MAE - MOSEAS Regression:  1.374\n",
            "Train Pearson - MOSEAS Regression:  0.0942\n",
            "Test Pearson - MOSEAS Regression:  0.2844\n",
            "4513.400835514069\n",
            "-11829.356\n",
            "4303.090444564819\n",
            "-12086.374\n",
            "2836.888731479645\n",
            "-12133.61\n",
            "1864.6390342712402\n",
            "-12476.997\n"
          ]
        },
        {
          "metadata": {
            "tags": null
          },
          "name": "stderr",
          "output_type": "stream",
          "text": [
            "\rMOSEAS Regression:  52%|█████▏    | 129/250 [33:18<30:32, 15.15s/it]"
          ]
        },
        {
          "metadata": {
            "tags": null
          },
          "name": "stdout",
          "output_type": "stream",
          "text": [
            "1092.3375091552734\n",
            "-14331.386\n",
            "Train Loss - MOSEAS Regression:  -8.8405\n",
            "Test Loss - MOSEAS Regression:  -11.9919\n",
            "Train MAE - MOSEAS Regression:  1.5892\n",
            "Test MAE - MOSEAS Regression:  0.8094\n",
            "Train Pearson - MOSEAS Regression:  0.1054\n",
            "Test Pearson - MOSEAS Regression:  0.2892\n",
            "saving checkpoint for epoch 128\n",
            "2917.860391139984\n",
            "-12431.177\n",
            "2967.5039138793945\n",
            "-12504.89\n",
            "4556.476174592972\n",
            "-12275.408\n",
            "1687.1395289897919\n",
            "-12215.423\n"
          ]
        },
        {
          "metadata": {
            "tags": null
          },
          "name": "stderr",
          "output_type": "stream",
          "text": [
            "\rMOSEAS Regression:  52%|█████▏    | 130/250 [33:33<30:20, 15.17s/it]"
          ]
        },
        {
          "metadata": {
            "tags": null
          },
          "name": "stdout",
          "output_type": "stream",
          "text": [
            "2579.818359375\n",
            "-14558.298\n",
            "Train Loss - MOSEAS Regression:  -9.4187\n",
            "Test Loss - MOSEAS Regression:  -10.8501\n",
            "Train MAE - MOSEAS Regression:  1.5022\n",
            "Test MAE - MOSEAS Regression:  1.3556\n",
            "Train Pearson - MOSEAS Regression:  0.1033\n",
            "Test Pearson - MOSEAS Regression:  0.2789\n",
            "3286.241110801697\n",
            "-12350.341\n",
            "3842.8771934509277\n",
            "-12414.853\n",
            "3621.4229242801666\n",
            "-12516.382\n",
            "2168.4333975315094\n",
            "-12875.936\n"
          ]
        },
        {
          "metadata": {
            "tags": null
          },
          "name": "stderr",
          "output_type": "stream",
          "text": [
            "\rMOSEAS Regression:  52%|█████▏    | 131/250 [33:49<30:22, 15.32s/it]"
          ]
        },
        {
          "metadata": {
            "tags": null
          },
          "name": "stdout",
          "output_type": "stream",
          "text": [
            "1360.0099411010742\n",
            "-14784.172\n",
            "Train Loss - MOSEAS Regression:  -9.4037\n",
            "Test Loss - MOSEAS Regression:  -12.1596\n",
            "Train MAE - MOSEAS Regression:  1.5473\n",
            "Test MAE - MOSEAS Regression:  0.915\n",
            "Train Pearson - MOSEAS Regression:  0.1017\n",
            "Test Pearson - MOSEAS Regression:  0.2685\n",
            "saving checkpoint for epoch 130\n",
            "3548.96684217453\n",
            "-12570.193\n",
            "3476.5801656246185\n",
            "-12719.329\n",
            "3591.281008720398\n",
            "-12754.29\n",
            "1953.103579044342\n",
            "-10205.15\n"
          ]
        },
        {
          "metadata": {
            "tags": null
          },
          "name": "stderr",
          "output_type": "stream",
          "text": [
            "\rMOSEAS Regression:  53%|█████▎    | 132/250 [34:04<30:12, 15.36s/it]"
          ]
        },
        {
          "metadata": {
            "tags": null
          },
          "name": "stdout",
          "output_type": "stream",
          "text": [
            "1415.5690441131592\n",
            "-15006.332\n",
            "Train Loss - MOSEAS Regression:  -9.0099\n",
            "Test Loss - MOSEAS Regression:  -12.3105\n",
            "Train MAE - MOSEAS Regression:  1.5121\n",
            "Test MAE - MOSEAS Regression:  0.9711\n",
            "Train Pearson - MOSEAS Regression:  0.1141\n",
            "Test Pearson - MOSEAS Regression:  0.2251\n",
            "saving checkpoint for epoch 131\n",
            "4143.960017442703\n",
            "-12677.01\n",
            "3408.0451583862305\n",
            "-12901.636\n",
            "3237.4520750045776\n",
            "-12529.653\n",
            "1599.073760509491\n",
            "-13474.89\n"
          ]
        },
        {
          "metadata": {
            "tags": null
          },
          "name": "stderr",
          "output_type": "stream",
          "text": [
            "\rMOSEAS Regression:  53%|█████▎    | 133/250 [34:19<29:35, 15.18s/it]"
          ]
        },
        {
          "metadata": {
            "tags": null
          },
          "name": "stdout",
          "output_type": "stream",
          "text": [
            "1282.7672595977783\n",
            "-15230.333\n",
            "Train Loss - MOSEAS Regression:  -9.8976\n",
            "Test Loss - MOSEAS Regression:  -12.6337\n",
            "Train MAE - MOSEAS Regression:  1.5026\n",
            "Test MAE - MOSEAS Regression:  0.9166\n",
            "Train Pearson - MOSEAS Regression:  0.0728\n",
            "Test Pearson - MOSEAS Regression:  0.213\n",
            "saving checkpoint for epoch 132\n",
            "3180.885481595993\n",
            "-12972.964\n",
            "2795.906656265259\n",
            "-13025.68\n",
            "4092.3318796157837\n",
            "-12866.45\n",
            "2478.8398957252502\n",
            "-13378.756\n"
          ]
        },
        {
          "metadata": {
            "tags": null
          },
          "name": "stderr",
          "output_type": "stream",
          "text": [
            "\rMOSEAS Regression:  54%|█████▎    | 134/250 [34:34<29:05, 15.05s/it]"
          ]
        },
        {
          "metadata": {
            "tags": null
          },
          "name": "stdout",
          "output_type": "stream",
          "text": [
            "1498.4841213226318\n",
            "-15461.096\n",
            "Train Loss - MOSEAS Regression:  -10.0242\n",
            "Test Loss - MOSEAS Regression:  -12.6473\n",
            "Train MAE - MOSEAS Regression:  1.523\n",
            "Test MAE - MOSEAS Regression:  0.9664\n",
            "Train Pearson - MOSEAS Regression:  0.0924\n",
            "Test Pearson - MOSEAS Regression:  0.2273\n",
            "saving checkpoint for epoch 133\n",
            "3534.03013753891\n",
            "-13106.98\n",
            "3446.8769750595093\n",
            "-13134.033\n",
            "4040.0425243377686\n",
            "-13412.867\n",
            "1527.04585647583\n",
            "-13162.818\n"
          ]
        },
        {
          "metadata": {
            "tags": null
          },
          "name": "stderr",
          "output_type": "stream",
          "text": [
            "\rMOSEAS Regression:  54%|█████▍    | 135/250 [34:49<29:00, 15.14s/it]"
          ]
        },
        {
          "metadata": {
            "tags": null
          },
          "name": "stdout",
          "output_type": "stream",
          "text": [
            "2642.08797454834\n",
            "-15695.966\n",
            "Train Loss - MOSEAS Regression:  -10.1689\n",
            "Test Loss - MOSEAS Regression:  -11.8242\n",
            "Train MAE - MOSEAS Regression:  1.5244\n",
            "Test MAE - MOSEAS Regression:  1.3701\n",
            "Train Pearson - MOSEAS Regression:  0.0924\n",
            "Test Pearson - MOSEAS Regression:  0.248\n",
            "4294.785127878189\n",
            "-13236.687\n",
            "3794.0868878364563\n",
            "-13449.706\n",
            "2784.0766410827637\n",
            "-13537.338\n",
            "1884.612102985382\n",
            "-13468.8\n"
          ]
        },
        {
          "metadata": {
            "tags": null
          },
          "name": "stderr",
          "output_type": "stream",
          "text": [
            "\rMOSEAS Regression:  54%|█████▍    | 136/250 [35:04<28:34, 15.04s/it]"
          ]
        },
        {
          "metadata": {
            "tags": null
          },
          "name": "stdout",
          "output_type": "stream",
          "text": [
            "1667.3362369537354\n",
            "-15930.341\n",
            "Train Loss - MOSEAS Regression:  -10.3371\n",
            "Test Loss - MOSEAS Regression:  -12.9194\n",
            "Train MAE - MOSEAS Regression:  1.5174\n",
            "Test MAE - MOSEAS Regression:  1.0591\n",
            "Train Pearson - MOSEAS Regression:  0.0819\n",
            "Test Pearson - MOSEAS Regression:  0.2439\n",
            "saving checkpoint for epoch 135\n",
            "3097.4097576141357\n",
            "-13390.68\n",
            "3078.141618013382\n",
            "-13630.9\n",
            "3790.178060531616\n",
            "-11410.444\n",
            "1904.9058055877686\n",
            "-13643.005\n"
          ]
        },
        {
          "metadata": {
            "tags": null
          },
          "name": "stderr",
          "output_type": "stream",
          "text": [
            "\rMOSEAS Regression:  55%|█████▍    | 137/250 [35:20<28:35, 15.18s/it]"
          ]
        },
        {
          "metadata": {
            "tags": null
          },
          "name": "stdout",
          "output_type": "stream",
          "text": [
            "875.0647230148315\n",
            "-16160.878\n",
            "Train Loss - MOSEAS Regression:  -10.1526\n",
            "Test Loss - MOSEAS Regression:  -13.8458\n",
            "Train MAE - MOSEAS Regression:  1.4671\n",
            "Test MAE - MOSEAS Regression:  0.7279\n",
            "Train Pearson - MOSEAS Regression:  0.127\n",
            "Test Pearson - MOSEAS Regression:  0.2415\n",
            "saving checkpoint for epoch 136\n",
            "3174.2942333221436\n",
            "-13568.548\n",
            "3887.7627754211426\n",
            "-14111.266\n",
            "2928.624188899994\n",
            "-13436.118\n",
            "2640.556599855423\n",
            "-13206.265\n"
          ]
        },
        {
          "metadata": {
            "tags": null
          },
          "name": "stderr",
          "output_type": "stream",
          "text": [
            "\rMOSEAS Regression:  55%|█████▌    | 138/250 [35:35<28:17, 15.16s/it]"
          ]
        },
        {
          "metadata": {
            "tags": null
          },
          "name": "stdout",
          "output_type": "stream",
          "text": [
            "4443.6016845703125\n",
            "-16395.494\n",
            "Train Loss - MOSEAS Regression:  -10.528\n",
            "Test Loss - MOSEAS Regression:  -10.826\n",
            "Train MAE - MOSEAS Regression:  1.5302\n",
            "Test MAE - MOSEAS Regression:  1.8733\n",
            "Train Pearson - MOSEAS Regression:  0.0681\n",
            "Test Pearson - MOSEAS Regression:  0.2584\n",
            "3591.080995082855\n",
            "-14111.492\n",
            "3241.5704295635223\n",
            "-14046.046\n",
            "4070.949590921402\n",
            "-14307.557\n",
            "1787.5016748905182\n",
            "-13707.738\n"
          ]
        },
        {
          "metadata": {
            "tags": null
          },
          "name": "stderr",
          "output_type": "stream",
          "text": [
            "\rMOSEAS Regression:  56%|█████▌    | 139/250 [35:51<28:41, 15.51s/it]"
          ]
        },
        {
          "metadata": {
            "tags": null
          },
          "name": "stdout",
          "output_type": "stream",
          "text": [
            "1176.3245258331299\n",
            "-16627.479\n",
            "Train Loss - MOSEAS Regression:  -10.9802\n",
            "Test Loss - MOSEAS Regression:  -13.9956\n",
            "Train MAE - MOSEAS Regression:  1.5216\n",
            "Test MAE - MOSEAS Regression:  0.8625\n",
            "Train Pearson - MOSEAS Regression:  0.1119\n",
            "Test Pearson - MOSEAS Regression:  0.2467\n",
            "saving checkpoint for epoch 138\n",
            "4432.07914352417\n",
            "-13562.826\n",
            "2829.682725906372\n",
            "-14482.928\n",
            "3115.7080471515656\n",
            "-14300.73\n",
            "2140.3837072849274\n",
            "-14476.908\n"
          ]
        },
        {
          "metadata": {
            "tags": null
          },
          "name": "stderr",
          "output_type": "stream",
          "text": [
            "\rMOSEAS Regression:  56%|█████▌    | 140/250 [36:06<28:24, 15.50s/it]"
          ]
        },
        {
          "metadata": {
            "tags": null
          },
          "name": "stdout",
          "output_type": "stream",
          "text": [
            "860.1045541763306\n",
            "-16858.365\n",
            "Train Loss - MOSEAS Regression:  -11.1883\n",
            "Test Loss - MOSEAS Regression:  -14.4912\n",
            "Train MAE - MOSEAS Regression:  1.5162\n",
            "Test MAE - MOSEAS Regression:  0.7181\n",
            "Train Pearson - MOSEAS Regression:  0.1209\n",
            "Test Pearson - MOSEAS Regression:  0.2459\n",
            "saving checkpoint for epoch 139\n",
            "3380.916481733322\n",
            "-14184.457\n",
            "2632.178065299988\n",
            "-14599.086\n",
            "3915.4791111946106\n",
            "-14274.409\n",
            "1983.4370148181915\n",
            "-14867.639\n"
          ]
        },
        {
          "metadata": {
            "tags": null
          },
          "name": "stderr",
          "output_type": "stream",
          "text": [
            "\rMOSEAS Regression:  56%|█████▋    | 141/250 [36:21<27:39, 15.22s/it]"
          ]
        },
        {
          "metadata": {
            "tags": null
          },
          "name": "stdout",
          "output_type": "stream",
          "text": [
            "914.1635999679565\n",
            "-17090.367\n",
            "Train Loss - MOSEAS Regression:  -11.6196\n",
            "Test Loss - MOSEAS Regression:  -14.6524\n",
            "Train MAE - MOSEAS Regression:  1.4706\n",
            "Test MAE - MOSEAS Regression:  0.7079\n",
            "Train Pearson - MOSEAS Regression:  0.0776\n",
            "Test Pearson - MOSEAS Regression:  0.2526\n",
            "saving checkpoint for epoch 140\n",
            "3337.0883407592773\n",
            "-8708.715\n",
            "3136.587392807007\n",
            "-14842.071\n",
            "3646.3962078094482\n",
            "-14209.401\n",
            "1733.461617231369\n",
            "-11537.388\n"
          ]
        },
        {
          "metadata": {
            "tags": null
          },
          "name": "stderr",
          "output_type": "stream",
          "text": [
            "\rMOSEAS Regression:  57%|█████▋    | 142/250 [36:37<27:35, 15.33s/it]"
          ]
        },
        {
          "metadata": {
            "tags": null
          },
          "name": "stdout",
          "output_type": "stream",
          "text": [
            "3925.2907218933105\n",
            "-17315.305\n",
            "Train Loss - MOSEAS Regression:  -9.4556\n",
            "Test Loss - MOSEAS Regression:  -12.1286\n",
            "Train MAE - MOSEAS Regression:  1.4752\n",
            "Test MAE - MOSEAS Regression:  1.7334\n",
            "Train Pearson - MOSEAS Regression:  0.1309\n",
            "Test Pearson - MOSEAS Regression:  0.2491\n",
            "4161.639722824097\n",
            "-14548.631\n",
            "3183.1216621398926\n",
            "-14992.386\n",
            "3333.6227202415466\n",
            "-14825.875\n",
            "2581.294870376587\n",
            "-14871.008\n"
          ]
        },
        {
          "metadata": {
            "tags": null
          },
          "name": "stderr",
          "output_type": "stream",
          "text": [
            "\rMOSEAS Regression:  57%|█████▋    | 143/250 [36:52<27:39, 15.51s/it]"
          ]
        },
        {
          "metadata": {
            "tags": null
          },
          "name": "stdout",
          "output_type": "stream",
          "text": [
            "1181.3945560455322\n",
            "-17541.004\n",
            "Train Loss - MOSEAS Regression:  -11.6107\n",
            "Test Loss - MOSEAS Regression:  -14.8185\n",
            "Train MAE - MOSEAS Regression:  1.5648\n",
            "Test MAE - MOSEAS Regression:  0.8609\n",
            "Train Pearson - MOSEAS Regression:  0.0927\n",
            "Test Pearson - MOSEAS Regression:  0.2364\n",
            "saving checkpoint for epoch 142\n",
            "3268.643758535385\n",
            "-15294.324\n",
            "4403.473588943481\n",
            "-14725.604\n",
            "3941.709975004196\n",
            "-15058.305\n",
            "1429.1200742721558\n",
            "-15346.598\n"
          ]
        },
        {
          "metadata": {
            "tags": null
          },
          "name": "stderr",
          "output_type": "stream",
          "text": [
            "\rMOSEAS Regression:  58%|█████▊    | 144/250 [37:08<27:14, 15.42s/it]"
          ]
        },
        {
          "metadata": {
            "tags": null
          },
          "name": "stdout",
          "output_type": "stream",
          "text": [
            "1987.9272079467773\n",
            "-17772.178\n",
            "Train Loss - MOSEAS Regression:  -11.9651\n",
            "Test Loss - MOSEAS Regression:  -14.2973\n",
            "Train MAE - MOSEAS Regression:  1.5402\n",
            "Test MAE - MOSEAS Regression:  1.1737\n",
            "Train Pearson - MOSEAS Regression:  0.0655\n",
            "Test Pearson - MOSEAS Regression:  0.2306\n",
            "4214.5005621910095\n",
            "-15193.54\n",
            "2589.6555030345917\n",
            "-15177.037\n",
            "3248.903078556061\n",
            "-15497.45\n",
            "2788.0899324417114\n",
            "-15423.144\n"
          ]
        },
        {
          "metadata": {
            "tags": null
          },
          "name": "stderr",
          "output_type": "stream",
          "text": [
            "\rMOSEAS Regression:  58%|█████▊    | 145/250 [37:22<26:21, 15.06s/it]"
          ]
        },
        {
          "metadata": {
            "tags": null
          },
          "name": "stdout",
          "output_type": "stream",
          "text": [
            "1027.4693784713745\n",
            "-18006.473\n",
            "Train Loss - MOSEAS Regression:  -12.2349\n",
            "Test Loss - MOSEAS Regression:  -15.3795\n",
            "Train MAE - MOSEAS Regression:  1.5382\n",
            "Test MAE - MOSEAS Regression:  0.7895\n",
            "Train Pearson - MOSEAS Regression:  0.1194\n",
            "Test Pearson - MOSEAS Regression:  0.2605\n",
            "saving checkpoint for epoch 144\n",
            "3813.4400725364685\n",
            "-15297.889\n",
            "3722.600021839142\n",
            "-14858.156\n",
            "3430.5785179138184\n",
            "-15194.399\n",
            "2099.8952407836914\n",
            "-15475.784\n"
          ]
        },
        {
          "metadata": {
            "tags": null
          },
          "name": "stderr",
          "output_type": "stream",
          "text": [
            "\rMOSEAS Regression:  58%|█████▊    | 146/250 [37:38<26:38, 15.37s/it]"
          ]
        },
        {
          "metadata": {
            "tags": null
          },
          "name": "stdout",
          "output_type": "stream",
          "text": [
            "3048.304733276367\n",
            "-18242.535\n",
            "Train Loss - MOSEAS Regression:  -12.0605\n",
            "Test Loss - MOSEAS Regression:  -13.7629\n",
            "Train MAE - MOSEAS Regression:  1.5604\n",
            "Test MAE - MOSEAS Regression:  1.4927\n",
            "Train Pearson - MOSEAS Regression:  0.1136\n",
            "Test Pearson - MOSEAS Regression:  0.253\n",
            "3742.120646715164\n",
            "-15407.367\n",
            "3099.1617081165314\n",
            "-15764.853\n",
            "3545.5074577331543\n",
            "-15481.9375\n",
            "1956.827443599701\n",
            "-15400.571\n"
          ]
        },
        {
          "metadata": {
            "tags": null
          },
          "name": "stderr",
          "output_type": "stream",
          "text": [
            "\rMOSEAS Regression:  59%|█████▉    | 147/250 [37:53<26:15, 15.29s/it]"
          ]
        },
        {
          "metadata": {
            "tags": null
          },
          "name": "stdout",
          "output_type": "stream",
          "text": [
            "773.9631299972534\n",
            "-18478.527\n",
            "Train Loss - MOSEAS Regression:  -12.5533\n",
            "Test Loss - MOSEAS Regression:  -16.0367\n",
            "Train MAE - MOSEAS Regression:  1.5016\n",
            "Test MAE - MOSEAS Regression:  0.6694\n",
            "Train Pearson - MOSEAS Regression:  0.1134\n",
            "Test Pearson - MOSEAS Regression:  0.2357\n",
            "saving checkpoint for epoch 146\n",
            "3694.919149875641\n",
            "-15500.445\n",
            "3404.2176780700684\n",
            "-15871.475\n",
            "2531.2670974731445\n",
            "-16254.214\n",
            "2465.5717582702637\n",
            "-15624.408\n"
          ]
        },
        {
          "metadata": {
            "tags": null
          },
          "name": "stderr",
          "output_type": "stream",
          "text": [
            "\rMOSEAS Regression:  59%|█████▉    | 148/250 [38:07<25:01, 14.72s/it]"
          ]
        },
        {
          "metadata": {
            "tags": null
          },
          "name": "stdout",
          "output_type": "stream",
          "text": [
            "826.9931402206421\n",
            "-18718.326\n",
            "Train Loss - MOSEAS Regression:  -12.9178\n",
            "Test Loss - MOSEAS Regression:  -16.2059\n",
            "Train MAE - MOSEAS Regression:  1.4855\n",
            "Test MAE - MOSEAS Regression:  0.6967\n",
            "Train Pearson - MOSEAS Regression:  0.1058\n",
            "Test Pearson - MOSEAS Regression:  0.2324\n",
            "saving checkpoint for epoch 147\n",
            "3158.5463075637817\n",
            "-16029.162\n",
            "3506.1043787002563\n",
            "-15775.976\n",
            "3421.761287689209\n",
            "-15657.023\n",
            "1879.7953248023987\n",
            "-16145.916\n"
          ]
        },
        {
          "metadata": {
            "tags": null
          },
          "name": "stderr",
          "output_type": "stream",
          "text": [
            "\rMOSEAS Regression:  60%|█████▉    | 149/250 [38:21<24:53, 14.78s/it]"
          ]
        },
        {
          "metadata": {
            "tags": null
          },
          "name": "stdout",
          "output_type": "stream",
          "text": [
            "955.8371715545654\n",
            "-18961.705\n",
            "Train Loss - MOSEAS Regression:  -13.0409\n",
            "Test Loss - MOSEAS Regression:  -16.3097\n",
            "Train MAE - MOSEAS Regression:  1.4718\n",
            "Test MAE - MOSEAS Regression:  0.7571\n",
            "Train Pearson - MOSEAS Regression:  0.103\n",
            "Test Pearson - MOSEAS Regression:  0.2397\n",
            "saving checkpoint for epoch 148\n",
            "4213.884427070618\n",
            "-15726.443\n",
            "3205.9916853904724\n",
            "-16118.302\n",
            "3289.5741560459137\n",
            "-16116.242\n",
            "1506.031084060669\n",
            "-16496.17\n"
          ]
        },
        {
          "metadata": {
            "tags": null
          },
          "name": "stderr",
          "output_type": "stream",
          "text": [
            "\rMOSEAS Regression:  60%|██████    | 150/250 [38:36<24:19, 14.59s/it]"
          ]
        },
        {
          "metadata": {
            "tags": null
          },
          "name": "stdout",
          "output_type": "stream",
          "text": [
            "764.2466468811035\n",
            "-19207.547\n",
            "Train Loss - MOSEAS Regression:  -13.1923\n",
            "Test Loss - MOSEAS Regression:  -16.7059\n",
            "Train MAE - MOSEAS Regression:  1.4903\n",
            "Test MAE - MOSEAS Regression:  0.6605\n",
            "Train Pearson - MOSEAS Regression:  0.0732\n",
            "Test Pearson - MOSEAS Regression:  0.2574\n",
            "saving checkpoint for epoch 149\n",
            "3575.5929284095764\n",
            "-16436.508\n",
            "3324.9550828933716\n",
            "-16624.432\n",
            "3624.515652656555\n",
            "-15111.335\n",
            "1596.931803226471\n",
            "-16873.994\n"
          ]
        },
        {
          "metadata": {
            "tags": null
          },
          "name": "stderr",
          "output_type": "stream",
          "text": [
            "\rMOSEAS Regression:  60%|██████    | 151/250 [38:51<24:32, 14.88s/it]"
          ]
        },
        {
          "metadata": {
            "tags": null
          },
          "name": "stdout",
          "output_type": "stream",
          "text": [
            "760.7753791809082\n",
            "-19454.77\n",
            "Train Loss - MOSEAS Regression:  -13.3647\n",
            "Test Loss - MOSEAS Regression:  -16.933\n",
            "Train MAE - MOSEAS Regression:  1.4871\n",
            "Test MAE - MOSEAS Regression:  0.6621\n",
            "Train Pearson - MOSEAS Regression:  0.1135\n",
            "Test Pearson - MOSEAS Regression:  0.245\n",
            "saving checkpoint for epoch 150\n",
            "3605.470219373703\n",
            "-15190.992\n",
            "3136.478572368622\n",
            "-16840.941\n",
            "3287.4235367774963\n",
            "-16171.878\n",
            "1785.0919246673584\n",
            "-16950.543\n"
          ]
        },
        {
          "metadata": {
            "tags": null
          },
          "name": "stderr",
          "output_type": "stream",
          "text": [
            "\rMOSEAS Regression:  61%|██████    | 152/250 [39:07<24:35, 15.06s/it]"
          ]
        },
        {
          "metadata": {
            "tags": null
          },
          "name": "stdout",
          "output_type": "stream",
          "text": [
            "978.6379623413086\n",
            "-19697.756\n",
            "Train Loss - MOSEAS Regression:  -13.4697\n",
            "Test Loss - MOSEAS Regression:  -16.9557\n",
            "Train MAE - MOSEAS Regression:  1.4657\n",
            "Test MAE - MOSEAS Regression:  0.7492\n",
            "Train Pearson - MOSEAS Regression:  0.1241\n",
            "Test Pearson - MOSEAS Regression:  0.2455\n",
            "saving checkpoint for epoch 151\n",
            "2737.7274849414825\n",
            "-15523.75\n",
            "3636.2739980220795\n",
            "-16810.299\n",
            "4279.553839206696\n",
            "-16401.16\n",
            "1936.320873260498\n",
            "-16965.215\n"
          ]
        },
        {
          "metadata": {
            "tags": null
          },
          "name": "stderr",
          "output_type": "stream",
          "text": [
            "\rMOSEAS Regression:  61%|██████    | 153/250 [39:22<24:28, 15.14s/it]"
          ]
        },
        {
          "metadata": {
            "tags": null
          },
          "name": "stdout",
          "output_type": "stream",
          "text": [
            "1034.8674058914185\n",
            "-19940.6\n",
            "Train Loss - MOSEAS Regression:  -13.4118\n",
            "Test Loss - MOSEAS Regression:  -17.1248\n",
            "Train MAE - MOSEAS Regression:  1.5086\n",
            "Test MAE - MOSEAS Regression:  0.7868\n",
            "Train Pearson - MOSEAS Regression:  0.106\n",
            "Test Pearson - MOSEAS Regression:  0.2573\n",
            "saving checkpoint for epoch 152\n",
            "3414.8187193870544\n",
            "-17160.098\n",
            "4031.629117488861\n",
            "-15176.726\n",
            "3943.433130502701\n",
            "-16442.234\n",
            "1545.2648746967316\n",
            "-17492.527\n"
          ]
        },
        {
          "metadata": {
            "tags": null
          },
          "name": "stderr",
          "output_type": "stream",
          "text": [
            "\rMOSEAS Regression:  62%|██████▏   | 154/250 [39:37<24:20, 15.21s/it]"
          ]
        },
        {
          "metadata": {
            "tags": null
          },
          "name": "stdout",
          "output_type": "stream",
          "text": [
            "3884.7320594787598\n",
            "-20192.232\n",
            "Train Loss - MOSEAS Regression:  -13.4688\n",
            "Test Loss - MOSEAS Regression:  -14.7713\n",
            "Train MAE - MOSEAS Regression:  1.5354\n",
            "Test MAE - MOSEAS Regression:  1.7489\n",
            "Train Pearson - MOSEAS Regression:  0.1071\n",
            "Test Pearson - MOSEAS Regression:  0.2323\n",
            "3731.9912910461426\n",
            "-17191.93\n",
            "4672.626321315765\n",
            "-17245.734\n",
            "3841.23788523674\n",
            "-17194.982\n",
            "2252.6635041236877\n",
            "-17654.06\n"
          ]
        },
        {
          "metadata": {
            "tags": null
          },
          "name": "stderr",
          "output_type": "stream",
          "text": [
            "\rMOSEAS Regression:  62%|██████▏   | 155/250 [39:53<24:15, 15.32s/it]"
          ]
        },
        {
          "metadata": {
            "tags": null
          },
          "name": "stdout",
          "output_type": "stream",
          "text": [
            "757.8452796936035\n",
            "-20450.48\n",
            "Train Loss - MOSEAS Regression:  -13.8354\n",
            "Test Loss - MOSEAS Regression:  -17.8375\n",
            "Train MAE - MOSEAS Regression:  1.6593\n",
            "Test MAE - MOSEAS Regression:  0.6582\n",
            "Train Pearson - MOSEAS Regression:  0.0965\n",
            "Test Pearson - MOSEAS Regression:  0.2208\n",
            "saving checkpoint for epoch 154\n",
            "2788.649663925171\n",
            "-17653.377\n",
            "4443.748411178589\n",
            "-17071.695\n",
            "3371.3270494937897\n",
            "-17508.303\n",
            "2629.6374368667603\n",
            "-17085.643\n"
          ]
        },
        {
          "metadata": {
            "tags": null
          },
          "name": "stderr",
          "output_type": "stream",
          "text": [
            "\rMOSEAS Regression:  62%|██████▏   | 156/250 [40:08<23:46, 15.18s/it]"
          ]
        },
        {
          "metadata": {
            "tags": null
          },
          "name": "stdout",
          "output_type": "stream",
          "text": [
            "2657.9505729675293\n",
            "-20714.785\n",
            "Train Loss - MOSEAS Regression:  -14.163\n",
            "Test Loss - MOSEAS Regression:  -16.3558\n",
            "Train MAE - MOSEAS Regression:  1.5801\n",
            "Test MAE - MOSEAS Regression:  1.3613\n",
            "Train Pearson - MOSEAS Regression:  0.1262\n",
            "Test Pearson - MOSEAS Regression:  0.2254\n",
            "3818.491952419281\n",
            "-17627.424\n",
            "2620.214077949524\n",
            "-17569.246\n",
            "5050.8604571819305\n",
            "-17504.043\n",
            "1685.6238005161285\n",
            "-16357.17\n"
          ]
        },
        {
          "metadata": {
            "tags": null
          },
          "name": "stderr",
          "output_type": "stream",
          "text": [
            "\rMOSEAS Regression:  63%|██████▎   | 157/250 [40:23<23:30, 15.17s/it]"
          ]
        },
        {
          "metadata": {
            "tags": null
          },
          "name": "stdout",
          "output_type": "stream",
          "text": [
            "2408.743663787842\n",
            "-20979.873\n",
            "Train Loss - MOSEAS Regression:  -14.1118\n",
            "Test Loss - MOSEAS Regression:  -16.8217\n",
            "Train MAE - MOSEAS Regression:  1.5698\n",
            "Test MAE - MOSEAS Regression:  1.2785\n",
            "Train Pearson - MOSEAS Regression:  0.0778\n",
            "Test Pearson - MOSEAS Regression:  0.2323\n",
            "3236.3320355415344\n",
            "-17843.834\n",
            "3965.7274646759033\n",
            "-13605.294\n",
            "4067.3475160598755\n",
            "-17714.654\n",
            "1615.043659210205\n",
            "-18183.316\n"
          ]
        },
        {
          "metadata": {
            "tags": null
          },
          "name": "stderr",
          "output_type": "stream",
          "text": [
            "\rMOSEAS Regression:  63%|██████▎   | 158/250 [40:37<22:55, 14.95s/it]"
          ]
        },
        {
          "metadata": {
            "tags": null
          },
          "name": "stdout",
          "output_type": "stream",
          "text": [
            "1886.1861362457275\n",
            "-21237.188\n",
            "Train Loss - MOSEAS Regression:  -13.7532\n",
            "Test Loss - MOSEAS Regression:  -17.5281\n",
            "Train MAE - MOSEAS Regression:  1.5411\n",
            "Test MAE - MOSEAS Regression:  1.084\n",
            "Train Pearson - MOSEAS Regression:  0.0805\n",
            "Test Pearson - MOSEAS Regression:  0.2317\n",
            "3584.6523699760437\n",
            "-17843.303\n",
            "3529.356837272644\n",
            "-16304.238\n",
            "2951.742780447006\n",
            "-18110.65\n",
            "2178.4573352336884\n",
            "-18143.62\n"
          ]
        },
        {
          "metadata": {
            "tags": null
          },
          "name": "stderr",
          "output_type": "stream",
          "text": [
            "\rMOSEAS Regression:  64%|██████▎   | 159/250 [40:52<22:21, 14.74s/it]"
          ]
        },
        {
          "metadata": {
            "tags": null
          },
          "name": "stdout",
          "output_type": "stream",
          "text": [
            "1608.8049201965332\n",
            "-21489.629\n",
            "Train Loss - MOSEAS Regression:  -14.6863\n",
            "Test Loss - MOSEAS Regression:  -18.008\n",
            "Train MAE - MOSEAS Regression:  1.4931\n",
            "Test MAE - MOSEAS Regression:  0.9751\n",
            "Train Pearson - MOSEAS Regression:  0.1372\n",
            "Test Pearson - MOSEAS Regression:  0.2302\n",
            "saving checkpoint for epoch 158\n",
            "2705.6444387435913\n",
            "-17035.578\n",
            "3188.0889108181\n",
            "-18472.537\n",
            "3976.5607266426086\n",
            "-18474.182\n",
            "2077.9928719997406\n",
            "-18171.219\n"
          ]
        },
        {
          "metadata": {
            "tags": null
          },
          "name": "stderr",
          "output_type": "stream",
          "text": [
            "\rMOSEAS Regression:  64%|██████▍   | 160/250 [41:07<22:14, 14.82s/it]"
          ]
        },
        {
          "metadata": {
            "tags": null
          },
          "name": "stdout",
          "output_type": "stream",
          "text": [
            "947.3158121109009\n",
            "-21741.967\n",
            "Train Loss - MOSEAS Regression:  -15.2033\n",
            "Test Loss - MOSEAS Regression:  -18.8357\n",
            "Train MAE - MOSEAS Regression:  1.4716\n",
            "Test MAE - MOSEAS Regression:  0.7194\n",
            "Train Pearson - MOSEAS Regression:  0.1371\n",
            "Test Pearson - MOSEAS Regression:  0.2367\n",
            "saving checkpoint for epoch 159\n",
            "3435.892315864563\n",
            "-18604.172\n",
            "3542.635556459427\n",
            "-18821.006\n",
            "3273.8477244377136\n",
            "-18346.54\n",
            "2289.5468652248383\n",
            "-19064.275\n"
          ]
        },
        {
          "metadata": {
            "tags": null
          },
          "name": "stderr",
          "output_type": "stream",
          "text": [
            "\rMOSEAS Regression:  64%|██████▍   | 161/250 [41:21<21:58, 14.81s/it]"
          ]
        },
        {
          "metadata": {
            "tags": null
          },
          "name": "stdout",
          "output_type": "stream",
          "text": [
            "1233.3674983978271\n",
            "-21995.887\n",
            "Train Loss - MOSEAS Regression:  -15.7308\n",
            "Test Loss - MOSEAS Regression:  -18.8066\n",
            "Train MAE - MOSEAS Regression:  1.5166\n",
            "Test MAE - MOSEAS Regression:  0.8771\n",
            "Train Pearson - MOSEAS Regression:  0.121\n",
            "Test Pearson - MOSEAS Regression:  0.2317\n",
            "3606.6829962730408\n",
            "-18026.037\n",
            "2999.547725915909\n",
            "-18884.666\n",
            "3293.3419227600098\n",
            "-18757.469\n",
            "2167.7518968582153\n",
            "-18231.068\n"
          ]
        },
        {
          "metadata": {
            "tags": null
          },
          "name": "stderr",
          "output_type": "stream",
          "text": [
            "\rMOSEAS Regression:  65%|██████▍   | 162/250 [41:36<21:41, 14.80s/it]"
          ]
        },
        {
          "metadata": {
            "tags": null
          },
          "name": "stdout",
          "output_type": "stream",
          "text": [
            "2095.546377182007\n",
            "-22269.248\n",
            "Train Loss - MOSEAS Regression:  -15.6141\n",
            "Test Loss - MOSEAS Regression:  -18.2733\n",
            "Train MAE - MOSEAS Regression:  1.4801\n",
            "Test MAE - MOSEAS Regression:  1.1976\n",
            "Train Pearson - MOSEAS Regression:  0.14\n",
            "Test Pearson - MOSEAS Regression:  0.2322\n",
            "3766.178180217743\n",
            "-18244.81\n",
            "3747.510797739029\n",
            "-17827.572\n",
            "3928.737449645996\n",
            "-19179.02\n",
            "1998.6935834884644\n",
            "-19262.4\n"
          ]
        },
        {
          "metadata": {
            "tags": null
          },
          "name": "stderr",
          "output_type": "stream",
          "text": [
            "\rMOSEAS Regression:  65%|██████▌   | 163/250 [41:52<21:45, 15.01s/it]"
          ]
        },
        {
          "metadata": {
            "tags": null
          },
          "name": "stdout",
          "output_type": "stream",
          "text": [
            "2632.5346183776855\n",
            "-22541.61\n",
            "Train Loss - MOSEAS Regression:  -15.4224\n",
            "Test Loss - MOSEAS Regression:  -18.0336\n",
            "Train MAE - MOSEAS Regression:  1.5787\n",
            "Test MAE - MOSEAS Regression:  1.3803\n",
            "Train Pearson - MOSEAS Regression:  0.1177\n",
            "Test Pearson - MOSEAS Regression:  0.2275\n",
            "4063.7806453704834\n",
            "-18733.252\n",
            "4591.7540371418\n",
            "-17831.37\n",
            "3094.7548542022705\n",
            "-19203.043\n",
            "2123.3891458511353\n",
            "-19163.781\n"
          ]
        },
        {
          "metadata": {
            "tags": null
          },
          "name": "stderr",
          "output_type": "stream",
          "text": [
            "\rMOSEAS Regression:  66%|██████▌   | 164/250 [42:08<21:54, 15.29s/it]"
          ]
        },
        {
          "metadata": {
            "tags": null
          },
          "name": "stdout",
          "output_type": "stream",
          "text": [
            "828.0388240814209\n",
            "-22819.037\n",
            "Train Loss - MOSEAS Regression:  -15.4186\n",
            "Test Loss - MOSEAS Regression:  -19.9194\n",
            "Train MAE - MOSEAS Regression:  1.6221\n",
            "Test MAE - MOSEAS Regression:  0.7038\n",
            "Train Pearson - MOSEAS Regression:  0.0825\n",
            "Test Pearson - MOSEAS Regression:  0.224\n",
            "saving checkpoint for epoch 163\n",
            "3328.071724176407\n",
            "-19219.79\n",
            "4398.761650323868\n",
            "-18868.713\n",
            "2828.6381363868713\n",
            "-19835.75\n",
            "2208.6815836429596\n",
            "-19273.988\n"
          ]
        },
        {
          "metadata": {
            "tags": null
          },
          "name": "stderr",
          "output_type": "stream",
          "text": [
            "\rMOSEAS Regression:  66%|██████▌   | 165/250 [42:22<21:22, 15.09s/it]"
          ]
        },
        {
          "metadata": {
            "tags": null
          },
          "name": "stdout",
          "output_type": "stream",
          "text": [
            "916.3949975967407\n",
            "-23090.162\n",
            "Train Loss - MOSEAS Regression:  -16.2712\n",
            "Test Loss - MOSEAS Regression:  -20.0849\n",
            "Train MAE - MOSEAS Regression:  1.5379\n",
            "Test MAE - MOSEAS Regression:  0.7163\n",
            "Train Pearson - MOSEAS Regression:  0.1314\n",
            "Test Pearson - MOSEAS Regression:  0.2433\n",
            "saving checkpoint for epoch 164\n",
            "3222.665620803833\n",
            "-18723.324\n",
            "3818.863170146942\n",
            "-19534.105\n",
            "3664.024617433548\n",
            "-16354.617\n",
            "1780.6101760864258\n",
            "-19806.945\n"
          ]
        },
        {
          "metadata": {
            "tags": null
          },
          "name": "stderr",
          "output_type": "stream",
          "text": [
            "\rMOSEAS Regression:  66%|██████▋   | 166/250 [42:37<21:02, 15.03s/it]"
          ]
        },
        {
          "metadata": {
            "tags": null
          },
          "name": "stdout",
          "output_type": "stream",
          "text": [
            "750.0024862289429\n",
            "-23366.299\n",
            "Train Loss - MOSEAS Regression:  -15.6396\n",
            "Test Loss - MOSEAS Regression:  -20.4858\n",
            "Train MAE - MOSEAS Regression:  1.5176\n",
            "Test MAE - MOSEAS Regression:  0.6521\n",
            "Train Pearson - MOSEAS Regression:  0.1677\n",
            "Test Pearson - MOSEAS Regression:  0.2606\n",
            "saving checkpoint for epoch 165\n",
            "2473.482641220093\n",
            "-18602.904\n",
            "4016.276853084564\n",
            "-19919.172\n",
            "3377.6117935180664\n",
            "-20042.848\n",
            "1984.275260925293\n",
            "-19911.08\n"
          ]
        },
        {
          "metadata": {
            "tags": null
          },
          "name": "stderr",
          "output_type": "stream",
          "text": [
            "\rMOSEAS Regression:  67%|██████▋   | 167/250 [42:52<20:33, 14.86s/it]"
          ]
        },
        {
          "metadata": {
            "tags": null
          },
          "name": "stdout",
          "output_type": "stream",
          "text": [
            "757.063138961792\n",
            "-23638.723\n",
            "Train Loss - MOSEAS Regression:  -16.8243\n",
            "Test Loss - MOSEAS Regression:  -20.7261\n",
            "Train MAE - MOSEAS Regression:  1.4727\n",
            "Test MAE - MOSEAS Regression:  0.6542\n",
            "Train Pearson - MOSEAS Regression:  0.1612\n",
            "Test Pearson - MOSEAS Regression:  0.2675\n",
            "saving checkpoint for epoch 166\n",
            "3156.6465282440186\n",
            "-19989.611\n",
            "4058.925377845764\n",
            "-19474.713\n",
            "3354.880735397339\n",
            "-20168.268\n",
            "1896.2828257083893\n",
            "-20263.88\n"
          ]
        },
        {
          "metadata": {
            "tags": null
          },
          "name": "stderr",
          "output_type": "stream",
          "text": [
            "\rMOSEAS Regression:  67%|██████▋   | 168/250 [43:08<20:47, 15.21s/it]"
          ]
        },
        {
          "metadata": {
            "tags": null
          },
          "name": "stdout",
          "output_type": "stream",
          "text": [
            "3885.341926574707\n",
            "-23909.162\n",
            "Train Loss - MOSEAS Regression:  -17.0277\n",
            "Test Loss - MOSEAS Regression:  -18.1375\n",
            "Train MAE - MOSEAS Regression:  1.5192\n",
            "Test MAE - MOSEAS Regression:  1.7242\n",
            "Train Pearson - MOSEAS Regression:  0.12\n",
            "Test Pearson - MOSEAS Regression:  0.2641\n",
            "4489.455814361572\n",
            "-19906.178\n",
            "4527.702032566071\n",
            "-20282.855\n",
            "4298.036985397339\n",
            "-20835.855\n",
            "2146.659592151642\n",
            "-19212.373\n"
          ]
        },
        {
          "metadata": {
            "tags": null
          },
          "name": "stderr",
          "output_type": "stream",
          "text": [
            "\rMOSEAS Regression:  68%|██████▊   | 169/250 [43:21<19:44, 14.62s/it]"
          ]
        },
        {
          "metadata": {
            "tags": null
          },
          "name": "stdout",
          "output_type": "stream",
          "text": [
            "4798.888092041016\n",
            "-24180.938\n",
            "Train Loss - MOSEAS Regression:  -16.3574\n",
            "Test Loss - MOSEAS Regression:  -17.5562\n",
            "Train MAE - MOSEAS Regression:  1.7366\n",
            "Test MAE - MOSEAS Regression:  1.9596\n",
            "Train Pearson - MOSEAS Regression:  0.1126\n",
            "Test Pearson - MOSEAS Regression:  0.2726\n",
            "4952.574642658234\n",
            "-20286.793\n",
            "3966.201174259186\n",
            "-20610.814\n",
            "4461.687350273132\n",
            "-19393.006\n",
            "1957.1586627960205\n",
            "-21160.727\n"
          ]
        },
        {
          "metadata": {
            "tags": null
          },
          "name": "stderr",
          "output_type": "stream",
          "text": [
            "\rMOSEAS Regression:  68%|██████▊   | 170/250 [43:36<19:42, 14.78s/it]"
          ]
        },
        {
          "metadata": {
            "tags": null
          },
          "name": "stdout",
          "output_type": "stream",
          "text": [
            "1092.4472694396973\n",
            "-24450.172\n",
            "Train Loss - MOSEAS Regression:  -16.6954\n",
            "Test Loss - MOSEAS Regression:  -21.1574\n",
            "Train MAE - MOSEAS Regression:  1.7108\n",
            "Test MAE - MOSEAS Regression:  0.817\n",
            "Train Pearson - MOSEAS Regression:  0.1147\n",
            "Test Pearson - MOSEAS Regression:  0.2519\n",
            "saving checkpoint for epoch 169\n",
            "3883.6029052734375\n",
            "-20395.307\n",
            "3627.831840991974\n",
            "-19867.566\n",
            "3217.191177368164\n",
            "-20463.463\n",
            "2696.7668228149414\n",
            "-20545.293\n"
          ]
        },
        {
          "metadata": {
            "tags": null
          },
          "name": "stderr",
          "output_type": "stream",
          "text": [
            "\rMOSEAS Regression:  68%|██████▊   | 171/250 [43:52<19:49, 15.05s/it]"
          ]
        },
        {
          "metadata": {
            "tags": null
          },
          "name": "stdout",
          "output_type": "stream",
          "text": [
            "2083.488275527954\n",
            "-24721.723\n",
            "Train Loss - MOSEAS Regression:  -17.1329\n",
            "Test Loss - MOSEAS Regression:  -20.5056\n",
            "Train MAE - MOSEAS Regression:  1.5733\n",
            "Test MAE - MOSEAS Regression:  1.2122\n",
            "Train Pearson - MOSEAS Regression:  0.082\n",
            "Test Pearson - MOSEAS Regression:  0.2814\n",
            "3922.369705438614\n",
            "-20262.135\n",
            "2994.382548093796\n",
            "-20879.201\n",
            "3853.332260131836\n",
            "-20974.236\n",
            "1837.554313659668\n",
            "-21157.285\n"
          ]
        },
        {
          "metadata": {
            "tags": null
          },
          "name": "stderr",
          "output_type": "stream",
          "text": [
            "\rMOSEAS Regression:  69%|██████▉   | 172/250 [44:06<19:23, 14.92s/it]"
          ]
        },
        {
          "metadata": {
            "tags": null
          },
          "name": "stdout",
          "output_type": "stream",
          "text": [
            "3624.2637977600098\n",
            "-24992.307\n",
            "Train Loss - MOSEAS Regression:  -17.8448\n",
            "Test Loss - MOSEAS Regression:  -19.3551\n",
            "Train MAE - MOSEAS Regression:  1.5292\n",
            "Test MAE - MOSEAS Regression:  1.6862\n",
            "Train Pearson - MOSEAS Regression:  0.1473\n",
            "Test Pearson - MOSEAS Regression:  0.2769\n",
            "4564.575325965881\n",
            "-20590.234\n",
            "4140.6982362270355\n",
            "-20691.28\n",
            "3023.4375715255737\n",
            "-20603.8\n",
            "2131.809568166733\n",
            "-20998.607\n"
          ]
        },
        {
          "metadata": {
            "tags": null
          },
          "name": "stderr",
          "output_type": "stream",
          "text": [
            "\rMOSEAS Regression:  69%|██████▉   | 173/250 [44:22<19:23, 15.11s/it]"
          ]
        },
        {
          "metadata": {
            "tags": null
          },
          "name": "stdout",
          "output_type": "stream",
          "text": [
            "661.0361166000366\n",
            "-25263.63\n",
            "Train Loss - MOSEAS Regression:  -17.4302\n",
            "Test Loss - MOSEAS Regression:  -22.285\n",
            "Train MAE - MOSEAS Regression:  1.6267\n",
            "Test MAE - MOSEAS Regression:  0.6107\n",
            "Train Pearson - MOSEAS Regression:  0.1051\n",
            "Test Pearson - MOSEAS Regression:  0.2778\n",
            "saving checkpoint for epoch 172\n",
            "3782.3119583129883\n",
            "-21027.709\n",
            "3856.6049423217773\n",
            "-20838.688\n",
            "3509.1682069301605\n",
            "-21464.584\n",
            "2125.7209074497223\n",
            "-21446.115\n"
          ]
        },
        {
          "metadata": {
            "tags": null
          },
          "name": "stderr",
          "output_type": "stream",
          "text": [
            "\rMOSEAS Regression:  70%|██████▉   | 174/250 [44:37<19:08, 15.11s/it]"
          ]
        },
        {
          "metadata": {
            "tags": null
          },
          "name": "stdout",
          "output_type": "stream",
          "text": [
            "1300.38720703125\n",
            "-25536.512\n",
            "Train Loss - MOSEAS Regression:  -18.0564\n",
            "Test Loss - MOSEAS Regression:  -21.953\n",
            "Train MAE - MOSEAS Regression:  1.571\n",
            "Test MAE - MOSEAS Regression:  0.9054\n",
            "Train Pearson - MOSEAS Regression:  0.0847\n",
            "Test Pearson - MOSEAS Regression:  0.2689\n",
            "3947.172758102417\n",
            "-21213.748\n",
            "3786.275177001953\n",
            "-13426.961\n",
            "3789.342740535736\n",
            "-21704.96\n",
            "1750.2935214042664\n",
            "-21902.584\n"
          ]
        },
        {
          "metadata": {
            "tags": null
          },
          "name": "stderr",
          "output_type": "stream",
          "text": [
            "\rMOSEAS Regression:  70%|███████   | 175/250 [44:52<19:00, 15.21s/it]"
          ]
        },
        {
          "metadata": {
            "tags": null
          },
          "name": "stdout",
          "output_type": "stream",
          "text": [
            "692.2634439468384\n",
            "-25802.191\n",
            "Train Loss - MOSEAS Regression:  -16.4079\n",
            "Test Loss - MOSEAS Regression:  -22.7445\n",
            "Train MAE - MOSEAS Regression:  1.5695\n",
            "Test MAE - MOSEAS Regression:  0.6189\n",
            "Train Pearson - MOSEAS Regression:  0.0836\n",
            "Test Pearson - MOSEAS Regression:  0.2712\n",
            "saving checkpoint for epoch 174\n",
            "3357.6987648010254\n",
            "-20776.709\n",
            "3919.1142790317535\n",
            "-20918.32\n",
            "3494.5960578918457\n",
            "-21721.18\n",
            "1604.0353546142578\n",
            "-22020.578\n"
          ]
        },
        {
          "metadata": {
            "tags": null
          },
          "name": "stderr",
          "output_type": "stream",
          "text": [
            "\rMOSEAS Regression:  70%|███████   | 176/250 [45:08<18:53, 15.31s/it]"
          ]
        },
        {
          "metadata": {
            "tags": null
          },
          "name": "stdout",
          "output_type": "stream",
          "text": [
            "781.3791217803955\n",
            "-26070.193\n",
            "Train Loss - MOSEAS Regression:  -18.4498\n",
            "Test Loss - MOSEAS Regression:  -22.9065\n",
            "Train MAE - MOSEAS Regression:  1.5022\n",
            "Test MAE - MOSEAS Regression:  0.6824\n",
            "Train Pearson - MOSEAS Regression:  0.1526\n",
            "Test Pearson - MOSEAS Regression:  0.2512\n",
            "saving checkpoint for epoch 175\n",
            "3347.664270401001\n",
            "-21809.436\n",
            "2853.5665929317474\n",
            "-21503.717\n",
            "3224.8589754104614\n",
            "-21387.75\n",
            "2093.4667541980743\n",
            "-22333.834\n"
          ]
        },
        {
          "metadata": {
            "tags": null
          },
          "name": "stderr",
          "output_type": "stream",
          "text": [
            "\rMOSEAS Regression:  71%|███████   | 177/250 [45:23<18:28, 15.18s/it]"
          ]
        },
        {
          "metadata": {
            "tags": null
          },
          "name": "stdout",
          "output_type": "stream",
          "text": [
            "1545.0332736968994\n",
            "-26344.459\n",
            "Train Loss - MOSEAS Regression:  -19.0695\n",
            "Test Loss - MOSEAS Regression:  -22.4632\n",
            "Train MAE - MOSEAS Regression:  1.4416\n",
            "Test MAE - MOSEAS Regression:  1.0111\n",
            "Train Pearson - MOSEAS Regression:  0.122\n",
            "Test Pearson - MOSEAS Regression:  0.2715\n",
            "3879.5710639953613\n",
            "-21369.84\n",
            "4268.156217813492\n",
            "-22178.34\n",
            "3208.5628724098206\n",
            "-22067.834\n",
            "1755.1864922046661\n",
            "-22362.68\n"
          ]
        },
        {
          "metadata": {
            "tags": null
          },
          "name": "stderr",
          "output_type": "stream",
          "text": [
            "\rMOSEAS Regression:  71%|███████   | 178/250 [45:38<18:03, 15.04s/it]"
          ]
        },
        {
          "metadata": {
            "tags": null
          },
          "name": "stdout",
          "output_type": "stream",
          "text": [
            "606.4182014465332\n",
            "-26623.691\n",
            "Train Loss - MOSEAS Regression:  -18.9059\n",
            "Test Loss - MOSEAS Regression:  -23.5664\n",
            "Train MAE - MOSEAS Regression:  1.5578\n",
            "Test MAE - MOSEAS Regression:  0.5724\n",
            "Train Pearson - MOSEAS Regression:  0.0867\n",
            "Test Pearson - MOSEAS Regression:  0.2785\n",
            "saving checkpoint for epoch 177\n",
            "3529.2664654254913\n",
            "-22502.922\n",
            "3798.422454357147\n",
            "-21713.434\n",
            "3207.0889739990234\n",
            "-22221.42\n",
            "2272.528331756592\n",
            "-22343.422\n"
          ]
        },
        {
          "metadata": {
            "tags": null
          },
          "name": "stderr",
          "output_type": "stream",
          "text": [
            "\rMOSEAS Regression:  72%|███████▏  | 179/250 [45:53<17:55, 15.15s/it]"
          ]
        },
        {
          "metadata": {
            "tags": null
          },
          "name": "stdout",
          "output_type": "stream",
          "text": [
            "953.8682641983032\n",
            "-26904.541\n",
            "Train Loss - MOSEAS Regression:  -19.1853\n",
            "Test Loss - MOSEAS Regression:  -23.506\n",
            "Train MAE - MOSEAS Regression:  1.5373\n",
            "Test MAE - MOSEAS Regression:  0.7633\n",
            "Train Pearson - MOSEAS Regression:  0.1066\n",
            "Test Pearson - MOSEAS Regression:  0.2449\n",
            "4292.679654598236\n",
            "-22420.773\n",
            "3067.050037384033\n",
            "-22222.99\n",
            "3254.595656633377\n",
            "-22208.215\n",
            "2050.349404335022\n",
            "-22038.34\n"
          ]
        },
        {
          "metadata": {
            "tags": null
          },
          "name": "stderr",
          "output_type": "stream",
          "text": [
            "\rMOSEAS Regression:  72%|███████▏  | 180/250 [46:08<17:45, 15.22s/it]"
          ]
        },
        {
          "metadata": {
            "tags": null
          },
          "name": "stdout",
          "output_type": "stream",
          "text": [
            "3672.1319160461426\n",
            "-27197.848\n",
            "Train Loss - MOSEAS Regression:  -19.2489\n",
            "Test Loss - MOSEAS Regression:  -21.3095\n",
            "Train MAE - MOSEAS Regression:  1.5266\n",
            "Test MAE - MOSEAS Regression:  1.6858\n",
            "Train Pearson - MOSEAS Regression:  0.0918\n",
            "Test Pearson - MOSEAS Regression:  0.2537\n",
            "4245.791435241699\n",
            "-22915.297\n",
            "3831.4359922409058\n",
            "-22364.54\n",
            "3416.2068700790405\n",
            "-22971.463\n",
            "1847.1103963851929\n",
            "-23474.535\n"
          ]
        },
        {
          "metadata": {
            "tags": null
          },
          "name": "stderr",
          "output_type": "stream",
          "text": [
            "\rMOSEAS Regression:  72%|███████▏  | 181/250 [46:23<17:25, 15.15s/it]"
          ]
        },
        {
          "metadata": {
            "tags": null
          },
          "name": "stdout",
          "output_type": "stream",
          "text": [
            "622.7387924194336\n",
            "-27502.145\n",
            "Train Loss - MOSEAS Regression:  -19.7943\n",
            "Test Loss - MOSEAS Regression:  -24.3473\n",
            "Train MAE - MOSEAS Regression:  1.5697\n",
            "Test MAE - MOSEAS Regression:  0.5865\n",
            "Train Pearson - MOSEAS Regression:  0.1137\n",
            "Test Pearson - MOSEAS Regression:  0.2598\n",
            "saving checkpoint for epoch 180\n",
            "5527.682767152786\n",
            "-22861.922\n",
            "3444.500780105591\n",
            "-23232.082\n",
            "2438.2899518013\n",
            "-22551.127\n",
            "1376.0270919799805\n",
            "-23066.854\n"
          ]
        },
        {
          "metadata": {
            "tags": null
          },
          "name": "stderr",
          "output_type": "stream",
          "text": [
            "\rMOSEAS Regression:  73%|███████▎  | 182/250 [46:37<16:34, 14.63s/it]"
          ]
        },
        {
          "metadata": {
            "tags": null
          },
          "name": "stdout",
          "output_type": "stream",
          "text": [
            "1328.0281105041504\n",
            "-27805.844\n",
            "Train Loss - MOSEAS Regression:  -19.9307\n",
            "Test Loss - MOSEAS Regression:  -23.9835\n",
            "Train MAE - MOSEAS Regression:  1.5372\n",
            "Test MAE - MOSEAS Regression:  0.9099\n",
            "Train Pearson - MOSEAS Regression:  0.119\n",
            "Test Pearson - MOSEAS Regression:  0.2643\n",
            "3714.201443195343\n",
            "-22943.787\n",
            "3658.097219467163\n",
            "-23335.01\n",
            "3882.771019935608\n",
            "-23207.602\n",
            "2522.820378303528\n",
            "-23859.605\n"
          ]
        },
        {
          "metadata": {
            "tags": null
          },
          "name": "stderr",
          "output_type": "stream",
          "text": [
            "\rMOSEAS Regression:  73%|███████▎  | 183/250 [46:51<16:21, 14.65s/it]"
          ]
        },
        {
          "metadata": {
            "tags": null
          },
          "name": "stdout",
          "output_type": "stream",
          "text": [
            "1366.9377365112305\n",
            "-28104.715\n",
            "Train Loss - MOSEAS Regression:  -20.093\n",
            "Test Loss - MOSEAS Regression:  -24.219\n",
            "Train MAE - MOSEAS Regression:  1.6015\n",
            "Test MAE - MOSEAS Regression:  0.9311\n",
            "Train Pearson - MOSEAS Regression:  0.0591\n",
            "Test Pearson - MOSEAS Regression:  0.2759\n",
            "3921.6641778945923\n",
            "-23747.572\n",
            "3846.3794689178467\n",
            "-23857.26\n",
            "3455.551600456238\n",
            "-23395.098\n",
            "2900.203878879547\n",
            "-23950.957\n"
          ]
        },
        {
          "metadata": {
            "tags": null
          },
          "name": "stderr",
          "output_type": "stream",
          "text": [
            "\rMOSEAS Regression:  74%|███████▎  | 184/250 [47:06<16:04, 14.62s/it]"
          ]
        },
        {
          "metadata": {
            "tags": null
          },
          "name": "stdout",
          "output_type": "stream",
          "text": [
            "2341.3324241638184\n",
            "-28398.611\n",
            "Train Loss - MOSEAS Regression:  -20.4109\n",
            "Test Loss - MOSEAS Regression:  -23.6026\n",
            "Train MAE - MOSEAS Regression:  1.6273\n",
            "Test MAE - MOSEAS Regression:  1.2939\n",
            "Train Pearson - MOSEAS Regression:  0.0599\n",
            "Test Pearson - MOSEAS Regression:  0.2823\n",
            "3561.2637984752655\n",
            "-23431.832\n",
            "3086.7650389671326\n",
            "-23508.713\n",
            "4321.673913002014\n",
            "-22487.924\n",
            "2678.292505264282\n",
            "-23225.936\n"
          ]
        },
        {
          "metadata": {
            "tags": null
          },
          "name": "stderr",
          "output_type": "stream",
          "text": [
            "\rMOSEAS Regression:  74%|███████▍  | 185/250 [47:20<15:37, 14.43s/it]"
          ]
        },
        {
          "metadata": {
            "tags": null
          },
          "name": "stdout",
          "output_type": "stream",
          "text": [
            "1892.2336120605469\n",
            "-28687.85\n",
            "Train Loss - MOSEAS Regression:  -19.9511\n",
            "Test Loss - MOSEAS Regression:  -24.2714\n",
            "Train MAE - MOSEAS Regression:  1.591\n",
            "Test MAE - MOSEAS Regression:  1.1352\n",
            "Train Pearson - MOSEAS Regression:  0.0844\n",
            "Test Pearson - MOSEAS Regression:  0.2784\n",
            "4000.834481716156\n",
            "-23600.732\n",
            "3307.4530277252197\n",
            "-23869.64\n",
            "3938.1727957725525\n",
            "-23497.871\n",
            "1914.1476602554321\n",
            "-24248.84\n"
          ]
        },
        {
          "metadata": {
            "tags": null
          },
          "name": "stderr",
          "output_type": "stream",
          "text": [
            "\rMOSEAS Regression:  74%|███████▍  | 186/250 [47:35<15:40, 14.70s/it]"
          ]
        },
        {
          "metadata": {
            "tags": null
          },
          "name": "stdout",
          "output_type": "stream",
          "text": [
            "732.4951286315918\n",
            "-28973.697\n",
            "Train Loss - MOSEAS Regression:  -20.7213\n",
            "Test Loss - MOSEAS Regression:  -25.5808\n",
            "Train MAE - MOSEAS Regression:  1.5516\n",
            "Test MAE - MOSEAS Regression:  0.63\n",
            "Train Pearson - MOSEAS Regression:  0.0641\n",
            "Test Pearson - MOSEAS Regression:  0.2769\n",
            "saving checkpoint for epoch 185\n",
            "3448.6614060401917\n",
            "-24125.256\n",
            "3278.587245941162\n",
            "-24317.928\n",
            "4235.301267623901\n",
            "-22529.377\n",
            "1949.4507186412811\n",
            "-24803.768\n"
          ]
        },
        {
          "metadata": {
            "tags": null
          },
          "name": "stderr",
          "output_type": "stream",
          "text": [
            "\rMOSEAS Regression:  75%|███████▍  | 187/250 [47:50<15:31, 14.79s/it]"
          ]
        },
        {
          "output_type": "stream",
          "name": "stdout",
          "text": [
            "1515.9947032928467\n",
            "-29258.166\n",
            "Train Loss - MOSEAS Regression:  -20.9253\n",
            "Test Loss - MOSEAS Regression:  -25.1288\n",
            "Train MAE - MOSEAS Regression:  1.5421\n",
            "Test MAE - MOSEAS Regression:  0.9747\n",
            "Train Pearson - MOSEAS Regression:  0.131\n",
            "Test Pearson - MOSEAS Regression:  0.2738\n",
            "3530.6693387031555\n",
            "-23845.15\n",
            "5191.593855857849\n",
            "-23683.756\n",
            "3214.1815917491913\n",
            "-22755.629\n",
            "2789.0156507492065\n",
            "-24711.324\n"
          ]
        },
        {
          "output_type": "stream",
          "name": "stderr",
          "text": [
            "\rMOSEAS Regression:  75%|███████▌  | 188/250 [48:05<15:23, 14.89s/it]"
          ]
        },
        {
          "output_type": "stream",
          "name": "stdout",
          "text": [
            "811.0798072814941\n",
            "-29539.293\n",
            "Train Loss - MOSEAS Regression:  -20.2703\n",
            "Test Loss - MOSEAS Regression:  -26.0219\n",
            "Train MAE - MOSEAS Regression:  1.6636\n",
            "Test MAE - MOSEAS Regression:  0.6645\n",
            "Train Pearson - MOSEAS Regression:  0.0942\n",
            "Test Pearson - MOSEAS Regression:  0.2773\n",
            "saving checkpoint for epoch 187\n",
            "4302.394396305084\n",
            "-24100.74\n",
            "4597.916126251221\n",
            "-24323.053\n",
            "3243.6775267124176\n",
            "-24365.59\n",
            "2410.89936542511\n",
            "-24051.379\n"
          ]
        },
        {
          "output_type": "stream",
          "name": "stderr",
          "text": [
            "\rMOSEAS Regression:  76%|███████▌  | 189/250 [48:20<14:55, 14.67s/it]"
          ]
        },
        {
          "output_type": "stream",
          "name": "stdout",
          "text": [
            "1834.7631797790527\n",
            "-29841.037\n",
            "Train Loss - MOSEAS Regression:  -20.7793\n",
            "Test Loss - MOSEAS Regression:  -25.368\n",
            "Train MAE - MOSEAS Regression:  1.6499\n",
            "Test MAE - MOSEAS Regression:  1.1202\n",
            "Train Pearson - MOSEAS Regression:  0.0982\n",
            "Test Pearson - MOSEAS Regression:  0.2573\n",
            "3148.106697320938\n",
            "-24783.564\n",
            "3855.862755060196\n",
            "-24556.893\n",
            "4328.414032459259\n",
            "-24519.205\n",
            "2126.7338275909424\n",
            "-25531.732\n"
          ]
        },
        {
          "output_type": "stream",
          "name": "stderr",
          "text": [
            "\rMOSEAS Regression:  76%|███████▌  | 190/250 [48:35<14:44, 14.74s/it]"
          ]
        },
        {
          "output_type": "stream",
          "name": "stdout",
          "text": [
            "3381.883346557617\n",
            "-30142.734\n",
            "Train Loss - MOSEAS Regression:  -21.7001\n",
            "Test Loss - MOSEAS Regression:  -24.2399\n",
            "Train MAE - MOSEAS Regression:  1.5746\n",
            "Test MAE - MOSEAS Regression:  1.6134\n",
            "Train Pearson - MOSEAS Regression:  0.1131\n",
            "Test Pearson - MOSEAS Regression:  0.2419\n",
            "4796.928575992584\n",
            "-24940.912\n",
            "3351.6023750305176\n",
            "-25268.016\n",
            "4067.05748128891\n",
            "-24821.354\n",
            "1376.924443244934\n",
            "-25868.723\n"
          ]
        },
        {
          "output_type": "stream",
          "name": "stderr",
          "text": [
            "\rMOSEAS Regression:  76%|███████▋  | 191/250 [48:49<14:32, 14.78s/it]"
          ]
        },
        {
          "output_type": "stream",
          "name": "stdout",
          "text": [
            "4359.247089385986\n",
            "-30446.828\n",
            "Train Loss - MOSEAS Regression:  -22.0471\n",
            "Test Loss - MOSEAS Regression:  -23.6301\n",
            "Train MAE - MOSEAS Regression:  1.5937\n",
            "Test MAE - MOSEAS Regression:  1.8703\n",
            "Train Pearson - MOSEAS Regression:  0.0629\n",
            "Test Pearson - MOSEAS Regression:  0.2454\n",
            "3827.5345511436462\n",
            "-24414.33\n",
            "4300.7973647117615\n",
            "-24940.217\n",
            "3370.669075012207\n",
            "-24679.234\n",
            "2799.091676235199\n",
            "-25953.682\n"
          ]
        },
        {
          "output_type": "stream",
          "name": "stderr",
          "text": [
            "\rMOSEAS Regression:  77%|███████▋  | 192/250 [49:05<14:35, 15.09s/it]"
          ]
        },
        {
          "output_type": "stream",
          "name": "stdout",
          "text": [
            "1855.120553970337\n",
            "-30750.594\n",
            "Train Loss - MOSEAS Regression:  -21.6387\n",
            "Test Loss - MOSEAS Regression:  -26.1734\n",
            "Train MAE - MOSEAS Regression:  1.6541\n",
            "Test MAE - MOSEAS Regression:  1.1293\n",
            "Train Pearson - MOSEAS Regression:  0.1336\n",
            "Test Pearson - MOSEAS Regression:  0.2512\n",
            "saving checkpoint for epoch 191\n",
            "4119.208881855011\n",
            "-25007.64\n",
            "3952.0931684970856\n",
            "-25519.332\n",
            "3410.994197845459\n",
            "-25926.932\n",
            "2236.994403362274\n",
            "-26179.121\n"
          ]
        },
        {
          "output_type": "stream",
          "name": "stderr",
          "text": [
            "\rMOSEAS Regression:  77%|███████▋  | 193/250 [49:22<14:50, 15.62s/it]"
          ]
        },
        {
          "output_type": "stream",
          "name": "stdout",
          "text": [
            "683.4428758621216\n",
            "-31051.053\n",
            "Train Loss - MOSEAS Regression:  -22.453\n",
            "Test Loss - MOSEAS Regression:  -27.5069\n",
            "Train MAE - MOSEAS Regression:  1.6133\n",
            "Test MAE - MOSEAS Regression:  0.6182\n",
            "Train Pearson - MOSEAS Regression:  0.0941\n",
            "Test Pearson - MOSEAS Regression:  0.2609\n",
            "saving checkpoint for epoch 192\n",
            "3927.447835922241\n",
            "-25915.31\n",
            "3492.8680057525635\n",
            "-25914.928\n",
            "3573.4675538539886\n",
            "-25605.982\n",
            "2174.637506008148\n",
            "-25890.025\n"
          ]
        },
        {
          "output_type": "stream",
          "name": "stderr",
          "text": [
            "\rMOSEAS Regression:  78%|███████▊  | 194/250 [49:39<14:53, 15.95s/it]"
          ]
        },
        {
          "output_type": "stream",
          "name": "stdout",
          "text": [
            "1231.3111381530762\n",
            "-31350.602\n",
            "Train Loss - MOSEAS Regression:  -22.7671\n",
            "Test Loss - MOSEAS Regression:  -27.282\n",
            "Train MAE - MOSEAS Regression:  1.5638\n",
            "Test MAE - MOSEAS Regression:  0.8641\n",
            "Train Pearson - MOSEAS Regression:  0.0987\n",
            "Test Pearson - MOSEAS Regression:  0.2584\n",
            "3709.565526008606\n",
            "-25476.94\n",
            "3054.386275291443\n",
            "-26477.566\n",
            "4498.993768692017\n",
            "-25579.684\n",
            "2752.4799060821533\n",
            "-24623.97\n"
          ]
        },
        {
          "output_type": "stream",
          "name": "stderr",
          "text": [
            "\rMOSEAS Regression:  78%|███████▊  | 195/250 [49:54<14:28, 15.79s/it]"
          ]
        },
        {
          "output_type": "stream",
          "name": "stdout",
          "text": [
            "3622.5960731506348\n",
            "-31653.549\n",
            "Train Loss - MOSEAS Regression:  -22.2583\n",
            "Test Loss - MOSEAS Regression:  -25.3904\n",
            "Train MAE - MOSEAS Regression:  1.63\n",
            "Test MAE - MOSEAS Regression:  1.6685\n",
            "Train Pearson - MOSEAS Regression:  0.1305\n",
            "Test Pearson - MOSEAS Regression:  0.2592\n",
            "3423.4828958511353\n",
            "-26402.088\n",
            "4597.419991493225\n",
            "-26237.201\n",
            "4658.1472182273865\n",
            "-25585.379\n",
            "3396.280583381653\n",
            "-26735.084\n"
          ]
        },
        {
          "output_type": "stream",
          "name": "stderr",
          "text": [
            "\rMOSEAS Regression:  78%|███████▊  | 196/250 [50:11<14:24, 16.00s/it]"
          ]
        },
        {
          "output_type": "stream",
          "name": "stdout",
          "text": [
            "1965.2578926086426\n",
            "-31954.24\n",
            "Train Loss - MOSEAS Regression:  -22.4456\n",
            "Test Loss - MOSEAS Regression:  -27.1639\n",
            "Train MAE - MOSEAS Regression:  1.7573\n",
            "Test MAE - MOSEAS Regression:  1.1696\n",
            "Train Pearson - MOSEAS Regression:  0.049\n",
            "Test Pearson - MOSEAS Regression:  0.2489\n",
            "3615.430732727051\n",
            "-25989.662\n",
            "6176.955978870392\n",
            "-26295.467\n",
            "5190.996192455292\n",
            "-26859.75\n",
            "2547.8139781951904\n",
            "-26864.613\n"
          ]
        },
        {
          "output_type": "stream",
          "name": "stderr",
          "text": [
            "\rMOSEAS Regression:  79%|███████▉  | 197/250 [50:26<14:02, 15.90s/it]"
          ]
        },
        {
          "output_type": "stream",
          "name": "stdout",
          "text": [
            "7261.6198654174805\n",
            "-32258.803\n",
            "Train Loss - MOSEAS Regression:  -22.343\n",
            "Test Loss - MOSEAS Regression:  -22.6424\n",
            "Train MAE - MOSEAS Regression:  1.8314\n",
            "Test MAE - MOSEAS Regression:  2.473\n",
            "Train Pearson - MOSEAS Regression:  0.0537\n",
            "Test Pearson - MOSEAS Regression:  0.2365\n",
            "6611.088348388672\n",
            "-25692.5\n",
            "5400.059313774109\n",
            "-26772.559\n",
            "3309.9608545303345\n",
            "-26851.469\n",
            "2827.381278991699\n",
            "-27213.902\n"
          ]
        },
        {
          "output_type": "stream",
          "name": "stderr",
          "text": [
            "\rMOSEAS Regression:  79%|███████▉  | 198/250 [50:42<13:46, 15.90s/it]"
          ]
        },
        {
          "output_type": "stream",
          "name": "stdout",
          "text": [
            "877.1494445800781\n",
            "-32563.602\n",
            "Train Loss - MOSEAS Regression:  -22.3187\n",
            "Test Loss - MOSEAS Regression:  -28.7015\n",
            "Train MAE - MOSEAS Regression:  1.9014\n",
            "Test MAE - MOSEAS Regression:  0.7227\n",
            "Train Pearson - MOSEAS Regression:  0.0452\n",
            "Test Pearson - MOSEAS Regression:  0.2553\n",
            "saving checkpoint for epoch 197\n",
            "3429.1714968681335\n",
            "-26606.057\n",
            "4823.813560009003\n",
            "-25678.303\n",
            "3710.8170070648193\n",
            "-26217.33\n",
            "2268.794611930847\n",
            "-27043.996\n"
          ]
        },
        {
          "output_type": "stream",
          "name": "stderr",
          "text": [
            "\rMOSEAS Regression:  80%|███████▉  | 199/250 [50:58<13:34, 15.97s/it]"
          ]
        },
        {
          "output_type": "stream",
          "name": "stdout",
          "text": [
            "4044.390369415283\n",
            "-32865.316\n",
            "Train Loss - MOSEAS Regression:  -23.0589\n",
            "Test Loss - MOSEAS Regression:  -26.1059\n",
            "Train MAE - MOSEAS Regression:  1.6506\n",
            "Test MAE - MOSEAS Regression:  1.7781\n",
            "Train Pearson - MOSEAS Regression:  0.1076\n",
            "Test Pearson - MOSEAS Regression:  0.2493\n",
            "3985.099500656128\n",
            "-26824.46\n",
            "4623.376117706299\n",
            "-26501.973\n",
            "4696.156967163086\n",
            "-27389.326\n",
            "1977.4727025032043\n",
            "-27946.906\n"
          ]
        },
        {
          "output_type": "stream",
          "name": "stderr",
          "text": [
            "\rMOSEAS Regression:  80%|████████  | 200/250 [51:14<13:08, 15.77s/it]"
          ]
        },
        {
          "output_type": "stream",
          "name": "stdout",
          "text": [
            "1497.9566402435303\n",
            "-33165.87\n",
            "Train Loss - MOSEAS Regression:  -23.5809\n",
            "Test Loss - MOSEAS Regression:  -28.6847\n",
            "Train MAE - MOSEAS Regression:  1.7082\n",
            "Test MAE - MOSEAS Regression:  0.9945\n",
            "Train Pearson - MOSEAS Regression:  0.1002\n",
            "Test Pearson - MOSEAS Regression:  0.2561\n",
            "3168.643600463867\n",
            "-27356.54\n",
            "5911.172420978546\n",
            "-26632.139\n",
            "4062.1582102775574\n",
            "-27672.844\n",
            "2241.2642211914062\n",
            "-27607.502\n"
          ]
        },
        {
          "output_type": "stream",
          "name": "stderr",
          "text": [
            "\rMOSEAS Regression:  80%|████████  | 201/250 [51:29<12:49, 15.70s/it]"
          ]
        },
        {
          "output_type": "stream",
          "name": "stdout",
          "text": [
            "5460.470443725586\n",
            "-33473.066\n",
            "Train Loss - MOSEAS Regression:  -23.7085\n",
            "Test Loss - MOSEAS Regression:  -25.3737\n",
            "Train MAE - MOSEAS Regression:  1.6982\n",
            "Test MAE - MOSEAS Regression:  2.1208\n",
            "Train Pearson - MOSEAS Regression:  0.0932\n",
            "Test Pearson - MOSEAS Regression:  0.2478\n",
            "4813.587080955505\n",
            "-27534.547\n",
            "3842.495976448059\n",
            "-26533.076\n",
            "5356.16791343689\n",
            "-27926.576\n",
            "2270.0128149986267\n",
            "-28823.445\n"
          ]
        },
        {
          "output_type": "stream",
          "name": "stderr",
          "text": [
            "\rMOSEAS Regression:  81%|████████  | 202/250 [51:44<12:27, 15.57s/it]"
          ]
        },
        {
          "output_type": "stream",
          "name": "stdout",
          "text": [
            "3482.2413597106934\n",
            "-33791.254\n",
            "Train Loss - MOSEAS Regression:  -23.8726\n",
            "Test Loss - MOSEAS Regression:  -27.4538\n",
            "Train MAE - MOSEAS Regression:  1.7731\n",
            "Test MAE - MOSEAS Regression:  1.6437\n",
            "Train Pearson - MOSEAS Regression:  0.0969\n",
            "Test Pearson - MOSEAS Regression:  0.2509\n",
            "3740.005568265915\n",
            "-28193.975\n",
            "4339.547513008118\n",
            "-27813.656\n",
            "4882.127017021179\n",
            "-25997.523\n",
            "2651.203811645508\n",
            "-27772.527\n"
          ]
        },
        {
          "output_type": "stream",
          "name": "stderr",
          "text": [
            "\rMOSEAS Regression:  81%|████████  | 203/250 [52:00<12:16, 15.67s/it]"
          ]
        },
        {
          "output_type": "stream",
          "name": "stdout",
          "text": [
            "663.9263391494751\n",
            "-34104.242\n",
            "Train Loss - MOSEAS Regression:  -23.779\n",
            "Test Loss - MOSEAS Regression:  -30.2901\n",
            "Train MAE - MOSEAS Regression:  1.7407\n",
            "Test MAE - MOSEAS Regression:  0.6175\n",
            "Train Pearson - MOSEAS Regression:  0.0766\n",
            "Test Pearson - MOSEAS Regression:  0.263\n",
            "saving checkpoint for epoch 202\n",
            "4050.934545993805\n",
            "-27715.002\n",
            "2980.0410890579224\n",
            "-28466.137\n",
            "3887.2913575172424\n",
            "-27834.18\n",
            "2386.0519409179688\n",
            "-28588.82\n"
          ]
        },
        {
          "output_type": "stream",
          "name": "stderr",
          "text": [
            "\rMOSEAS Regression:  82%|████████▏ | 204/250 [52:15<11:51, 15.47s/it]"
          ]
        },
        {
          "output_type": "stream",
          "name": "stdout",
          "text": [
            "1762.4744510650635\n",
            "-34443.336\n",
            "Train Loss - MOSEAS Regression:  -25.0757\n",
            "Test Loss - MOSEAS Regression:  -29.6022\n",
            "Train MAE - MOSEAS Regression:  1.5727\n",
            "Test MAE - MOSEAS Regression:  1.0827\n",
            "Train Pearson - MOSEAS Regression:  0.1011\n",
            "Test Pearson - MOSEAS Regression:  0.2888\n",
            "4074.55313873291\n",
            "-28094.916\n",
            "3074.260724067688\n",
            "-28663.566\n",
            "4167.90150642395\n",
            "-28991.494\n",
            "2911.038565635681\n",
            "-27315.693\n"
          ]
        },
        {
          "output_type": "stream",
          "name": "stderr",
          "text": [
            "\rMOSEAS Regression:  82%|████████▏ | 205/250 [52:29<11:04, 14.77s/it]"
          ]
        },
        {
          "output_type": "stream",
          "name": "stdout",
          "text": [
            "633.9005842208862\n",
            "-34771.258\n",
            "Train Loss - MOSEAS Regression:  -24.9591\n",
            "Test Loss - MOSEAS Regression:  -30.9215\n",
            "Train MAE - MOSEAS Regression:  1.6239\n",
            "Test MAE - MOSEAS Regression:  0.5901\n",
            "Train Pearson - MOSEAS Regression:  0.0737\n",
            "Test Pearson - MOSEAS Regression:  0.278\n",
            "saving checkpoint for epoch 204\n",
            "4449.370493888855\n",
            "-27790.328\n",
            "3542.8408422470093\n",
            "-28514.102\n",
            "3321.7934217453003\n",
            "-29448.748\n",
            "2336.360415458679\n",
            "-28922.02\n"
          ]
        },
        {
          "output_type": "stream",
          "name": "stderr",
          "text": [
            "\rMOSEAS Regression:  82%|████████▏ | 206/250 [52:44<10:58, 14.97s/it]"
          ]
        },
        {
          "output_type": "stream",
          "name": "stdout",
          "text": [
            "878.2738952636719\n",
            "-35091.99\n",
            "Train Loss - MOSEAS Regression:  -25.5113\n",
            "Test Loss - MOSEAS Regression:  -30.9907\n",
            "Train MAE - MOSEAS Regression:  1.6032\n",
            "Test MAE - MOSEAS Regression:  0.6984\n",
            "Train Pearson - MOSEAS Regression:  0.1174\n",
            "Test Pearson - MOSEAS Regression:  0.2758\n",
            "saving checkpoint for epoch 205\n",
            "4085.9981389045715\n",
            "-28000.643\n",
            "4096.964900016785\n",
            "-28603.65\n",
            "3966.8344116210938\n",
            "-28146.574\n",
            "2411.355962753296\n",
            "-29987.156\n"
          ]
        },
        {
          "output_type": "stream",
          "name": "stderr",
          "text": [
            "\rMOSEAS Regression:  83%|████████▎ | 207/250 [53:00<11:03, 15.43s/it]"
          ]
        },
        {
          "output_type": "stream",
          "name": "stdout",
          "text": [
            "3288.4318084716797\n",
            "-35406.297\n",
            "Train Loss - MOSEAS Regression:  -25.2972\n",
            "Test Loss - MOSEAS Regression:  -29.0923\n",
            "Train MAE - MOSEAS Regression:  1.6571\n",
            "Test MAE - MOSEAS Regression:  1.5704\n",
            "Train Pearson - MOSEAS Regression:  0.0858\n",
            "Test Pearson - MOSEAS Regression:  0.273\n",
            "4049.659007549286\n",
            "-29930.965\n",
            "3076.6987845897675\n",
            "-28745.436\n",
            "3770.636737346649\n",
            "-29453.975\n",
            "3521.1766600608826\n",
            "-27422.652\n"
          ]
        },
        {
          "output_type": "stream",
          "name": "stderr",
          "text": [
            "\rMOSEAS Regression:  83%|████████▎ | 208/250 [53:15<10:42, 15.31s/it]"
          ]
        },
        {
          "output_type": "stream",
          "name": "stdout",
          "text": [
            "809.4064893722534\n",
            "-35718.73\n",
            "Train Loss - MOSEAS Regression:  -25.5391\n",
            "Test Loss - MOSEAS Regression:  -31.6208\n",
            "Train MAE - MOSEAS Regression:  1.6368\n",
            "Test MAE - MOSEAS Regression:  0.6662\n",
            "Train Pearson - MOSEAS Regression:  0.1128\n",
            "Test Pearson - MOSEAS Regression:  0.2918\n",
            "saving checkpoint for epoch 207\n",
            "3496.1656494140625\n",
            "-29314.135\n",
            "3277.7593030929565\n",
            "-29475.469\n",
            "4355.757230758667\n",
            "-29817.436\n",
            "2674.5018739700317\n",
            "-29770.375\n"
          ]
        },
        {
          "output_type": "stream",
          "name": "stderr",
          "text": [
            "\rMOSEAS Regression:  84%|████████▎ | 209/250 [53:31<10:26, 15.29s/it]"
          ]
        },
        {
          "output_type": "stream",
          "name": "stdout",
          "text": [
            "4175.150402069092\n",
            "-36029.492\n",
            "Train Loss - MOSEAS Regression:  -26.4074\n",
            "Test Loss - MOSEAS Regression:  -28.8536\n",
            "Train MAE - MOSEAS Regression:  1.6062\n",
            "Test MAE - MOSEAS Regression:  1.8234\n",
            "Train Pearson - MOSEAS Regression:  0.1315\n",
            "Test Pearson - MOSEAS Regression:  0.2709\n",
            "4133.517139434814\n",
            "-29222.809\n",
            "4218.243107557297\n",
            "-29362.568\n",
            "4704.516138076782\n",
            "-29103.182\n",
            "1538.4793710708618\n",
            "-30742.168\n"
          ]
        },
        {
          "output_type": "stream",
          "name": "stderr",
          "text": [
            "\rMOSEAS Regression:  84%|████████▍ | 210/250 [53:46<10:07, 15.20s/it]"
          ]
        },
        {
          "output_type": "stream",
          "name": "stdout",
          "text": [
            "3371.1368408203125\n",
            "-36362.258\n",
            "Train Loss - MOSEAS Regression:  -26.2212\n",
            "Test Loss - MOSEAS Regression:  -29.8833\n",
            "Train MAE - MOSEAS Regression:  1.6521\n",
            "Test MAE - MOSEAS Regression:  1.6079\n",
            "Train Pearson - MOSEAS Regression:  0.0678\n",
            "Test Pearson - MOSEAS Regression:  0.2864\n",
            "4536.956894636154\n",
            "-29299.693\n",
            "3741.94521689415\n",
            "-25597.75\n",
            "4603.099521636963\n",
            "-29609.088\n",
            "2029.5542349815369\n",
            "-31024.89\n"
          ]
        },
        {
          "output_type": "stream",
          "name": "stderr",
          "text": [
            "\rMOSEAS Regression:  84%|████████▍ | 211/250 [54:02<10:05, 15.52s/it]"
          ]
        },
        {
          "output_type": "stream",
          "name": "stdout",
          "text": [
            "949.1429128646851\n",
            "-36685.25\n",
            "Train Loss - MOSEAS Regression:  -25.4091\n",
            "Test Loss - MOSEAS Regression:  -32.3697\n",
            "Train MAE - MOSEAS Regression:  1.6846\n",
            "Test MAE - MOSEAS Regression:  0.7535\n",
            "Train Pearson - MOSEAS Regression:  0.1143\n",
            "Test Pearson - MOSEAS Regression:  0.3108\n",
            "saving checkpoint for epoch 210\n",
            "4543.629366397858\n",
            "-29066.47\n",
            "2838.689965724945\n",
            "-29704.79\n",
            "3709.7007467746735\n",
            "-30021.791\n",
            "1911.6813912391663\n",
            "-24367.137\n"
          ]
        },
        {
          "output_type": "stream",
          "name": "stderr",
          "text": [
            "\rMOSEAS Regression:  85%|████████▍ | 212/250 [54:18<09:50, 15.55s/it]"
          ]
        },
        {
          "output_type": "stream",
          "name": "stdout",
          "text": [
            "2403.7699699401855\n",
            "-37004.125\n",
            "Train Loss - MOSEAS Regression:  -25.292\n",
            "Test Loss - MOSEAS Regression:  -31.3409\n",
            "Train MAE - MOSEAS Regression:  1.5576\n",
            "Test MAE - MOSEAS Regression:  1.3191\n",
            "Train Pearson - MOSEAS Regression:  0.1734\n",
            "Test Pearson - MOSEAS Regression:  0.3028\n",
            "3711.7051615715027\n",
            "-30706.895\n",
            "4109.326275110245\n",
            "-30152.832\n",
            "3633.317391872406\n",
            "-30004.24\n",
            "2160.272166967392\n",
            "-31752.553\n"
          ]
        },
        {
          "output_type": "stream",
          "name": "stderr",
          "text": [
            "\rMOSEAS Regression:  85%|████████▌ | 213/250 [54:33<09:38, 15.63s/it]"
          ]
        },
        {
          "output_type": "stream",
          "name": "stdout",
          "text": [
            "3601.4799842834473\n",
            "-37320.17\n",
            "Train Loss - MOSEAS Regression:  -27.5257\n",
            "Test Loss - MOSEAS Regression:  -30.5423\n",
            "Train MAE - MOSEAS Regression:  1.5798\n",
            "Test MAE - MOSEAS Regression:  1.6805\n",
            "Train Pearson - MOSEAS Regression:  0.0874\n",
            "Test Pearson - MOSEAS Regression:  0.2704\n",
            "3901.0988852977753\n",
            "-30253.238\n",
            "3616.003874063492\n",
            "-30735.746\n",
            "4650.806020975113\n",
            "-30866.459\n",
            "2180.0410516262054\n",
            "-30943.13\n"
          ]
        },
        {
          "output_type": "stream",
          "name": "stderr",
          "text": [
            "\rMOSEAS Regression:  86%|████████▌ | 214/250 [54:49<09:16, 15.46s/it]"
          ]
        },
        {
          "output_type": "stream",
          "name": "stdout",
          "text": [
            "4350.527332305908\n",
            "-37652.29\n",
            "Train Loss - MOSEAS Regression:  -27.3865\n",
            "Test Loss - MOSEAS Regression:  -30.1646\n",
            "Train MAE - MOSEAS Regression:  1.6383\n",
            "Test MAE - MOSEAS Regression:  1.8707\n",
            "Train Pearson - MOSEAS Regression:  0.0953\n",
            "Test Pearson - MOSEAS Regression:  0.2657\n",
            "4880.305697917938\n",
            "-30827.172\n",
            "4637.648319244385\n",
            "-31806.191\n",
            "3621.284316778183\n",
            "-30883.209\n",
            "2295.1403155326843\n",
            "-31315.967\n"
          ]
        },
        {
          "output_type": "stream",
          "name": "stderr",
          "text": [
            "\rMOSEAS Regression:  86%|████████▌ | 215/250 [55:04<09:03, 15.52s/it]"
          ]
        },
        {
          "output_type": "stream",
          "name": "stdout",
          "text": [
            "3427.3964881896973\n",
            "-38018.67\n",
            "Train Loss - MOSEAS Regression:  -27.6258\n",
            "Test Loss - MOSEAS Regression:  -31.3327\n",
            "Train MAE - MOSEAS Regression:  1.7212\n",
            "Test MAE - MOSEAS Regression:  1.6309\n",
            "Train Pearson - MOSEAS Regression:  0.0448\n",
            "Test Pearson - MOSEAS Regression:  0.2626\n",
            "3442.769795656204\n",
            "-31063.32\n",
            "6021.065870761871\n",
            "-24347.465\n",
            "3944.5518436431885\n",
            "-31144.262\n",
            "2293.1250190734863\n",
            "-32260.232\n"
          ]
        },
        {
          "output_type": "stream",
          "name": "stderr",
          "text": [
            "\rMOSEAS Regression:  86%|████████▋ | 216/250 [55:20<08:50, 15.60s/it]"
          ]
        },
        {
          "output_type": "stream",
          "name": "stdout",
          "text": [
            "745.6462268829346\n",
            "-38365.33\n",
            "Train Loss - MOSEAS Regression:  -26.0388\n",
            "Test Loss - MOSEAS Regression:  -34.0758\n",
            "Train MAE - MOSEAS Regression:  1.7486\n",
            "Test MAE - MOSEAS Regression:  0.6601\n",
            "Train Pearson - MOSEAS Regression:  0.1091\n",
            "Test Pearson - MOSEAS Regression:  0.2786\n",
            "saving checkpoint for epoch 215\n",
            "3788.226676940918\n",
            "-30910.254\n",
            "4699.499263286591\n",
            "-30544.062\n",
            "3271.0332515239716\n",
            "-30899.838\n",
            "3641.4839386940002\n",
            "-31509.883\n"
          ]
        },
        {
          "output_type": "stream",
          "name": "stderr",
          "text": [
            "\rMOSEAS Regression:  87%|████████▋ | 217/250 [55:35<08:26, 15.35s/it]"
          ]
        },
        {
          "output_type": "stream",
          "name": "stdout",
          "text": [
            "751.6298732757568\n",
            "-38701.797\n",
            "Train Loss - MOSEAS Regression:  -27.3898\n",
            "Test Loss - MOSEAS Regression:  -34.3752\n",
            "Train MAE - MOSEAS Regression:  1.7291\n",
            "Test MAE - MOSEAS Regression:  0.644\n",
            "Train Pearson - MOSEAS Regression:  0.143\n",
            "Test Pearson - MOSEAS Regression:  0.2813\n",
            "saving checkpoint for epoch 216\n",
            "3197.4921247959137\n",
            "-32027.867\n",
            "4519.340801239014\n",
            "-22582.588\n",
            "3822.2981872558594\n",
            "-32034.123\n",
            "1761.8917925357819\n",
            "-32147.521\n"
          ]
        },
        {
          "output_type": "stream",
          "name": "stderr",
          "text": [
            "\rMOSEAS Regression:  87%|████████▋ | 218/250 [55:51<08:22, 15.71s/it]"
          ]
        },
        {
          "output_type": "stream",
          "name": "stdout",
          "text": [
            "1216.8843727111816\n",
            "-39027.773\n",
            "Train Loss - MOSEAS Regression:  -26.6392\n",
            "Test Loss - MOSEAS Regression:  -34.249\n",
            "Train MAE - MOSEAS Regression:  1.5606\n",
            "Test MAE - MOSEAS Regression:  0.8509\n",
            "Train Pearson - MOSEAS Regression:  0.119\n",
            "Test Pearson - MOSEAS Regression:  0.2941\n",
            "4260.261598348618\n",
            "-31997.639\n",
            "3808.1107697486877\n",
            "-32492.725\n",
            "3404.3258905410767\n",
            "-32578.672\n",
            "3018.3124952316284\n",
            "-32176.66\n"
          ]
        },
        {
          "output_type": "stream",
          "name": "stderr",
          "text": [
            "\rMOSEAS Regression:  88%|████████▊ | 219/250 [56:05<07:46, 15.03s/it]"
          ]
        },
        {
          "output_type": "stream",
          "name": "stdout",
          "text": [
            "1219.749589920044\n",
            "-39360.434\n",
            "Train Loss - MOSEAS Regression:  -28.9785\n",
            "Test Loss - MOSEAS Regression:  -34.5477\n",
            "Train MAE - MOSEAS Regression:  1.65\n",
            "Test MAE - MOSEAS Regression:  0.8749\n",
            "Train Pearson - MOSEAS Regression:  0.1133\n",
            "Test Pearson - MOSEAS Regression:  0.2929\n",
            "saving checkpoint for epoch 218\n",
            "3899.801505088806\n",
            "-32072.91\n",
            "3446.124342441559\n",
            "-31747.277\n",
            "5110.974672317505\n",
            "-32133.637\n",
            "1793.5536997318268\n",
            "-32660.572\n"
          ]
        },
        {
          "output_type": "stream",
          "name": "stderr",
          "text": [
            "\rMOSEAS Regression:  88%|████████▊ | 220/250 [56:20<07:34, 15.15s/it]"
          ]
        },
        {
          "output_type": "stream",
          "name": "stdout",
          "text": [
            "2114.729684829712\n",
            "-39693.24\n",
            "Train Loss - MOSEAS Regression:  -28.8798\n",
            "Test Loss - MOSEAS Regression:  -34.0385\n",
            "Train MAE - MOSEAS Regression:  1.6244\n",
            "Test MAE - MOSEAS Regression:  1.2143\n",
            "Train Pearson - MOSEAS Regression:  0.1233\n",
            "Test Pearson - MOSEAS Regression:  0.2466\n",
            "3974.1877913475037\n",
            "-32644.113\n",
            "4235.94522190094\n",
            "-31473.715\n",
            "4456.849042415619\n",
            "-31790.658\n",
            "2020.4576604366302\n",
            "-34215.152\n"
          ]
        },
        {
          "output_type": "stream",
          "name": "stderr",
          "text": [
            "\rMOSEAS Regression:  88%|████████▊ | 221/250 [56:35<07:16, 15.06s/it]"
          ]
        },
        {
          "output_type": "stream",
          "name": "stdout",
          "text": [
            "3436.0601806640625\n",
            "-40029.31\n",
            "Train Loss - MOSEAS Regression:  -29.1506\n",
            "Test Loss - MOSEAS Regression:  -33.1461\n",
            "Train MAE - MOSEAS Regression:  1.6609\n",
            "Test MAE - MOSEAS Regression:  1.6269\n",
            "Train Pearson - MOSEAS Regression:  0.1347\n",
            "Test Pearson - MOSEAS Regression:  0.2457\n",
            "4127.031036376953\n",
            "-32980.754\n",
            "3552.534299850464\n",
            "-33652.496\n",
            "4707.27065205574\n",
            "-33135.61\n",
            "2338.2081055641174\n",
            "-34136.066\n"
          ]
        },
        {
          "output_type": "stream",
          "name": "stderr",
          "text": [
            "\rMOSEAS Regression:  89%|████████▉ | 222/250 [56:49<06:55, 14.83s/it]"
          ]
        },
        {
          "output_type": "stream",
          "name": "stdout",
          "text": [
            "3692.6628799438477\n",
            "-40374.29\n",
            "Train Loss - MOSEAS Regression:  -30.0959\n",
            "Test Loss - MOSEAS Regression:  -33.2261\n",
            "Train MAE - MOSEAS Regression:  1.6722\n",
            "Test MAE - MOSEAS Regression:  1.6989\n",
            "Train Pearson - MOSEAS Regression:  0.1242\n",
            "Test Pearson - MOSEAS Regression:  0.2448\n",
            "4143.72175693512\n",
            "-33045.39\n",
            "5897.396770477295\n",
            "-33503.992\n",
            "4340.514531135559\n",
            "-33087.72\n",
            "2169.3101029396057\n",
            "-33636.72\n"
          ]
        },
        {
          "output_type": "stream",
          "name": "stderr",
          "text": [
            "\rMOSEAS Regression:  89%|████████▉ | 223/250 [57:05<06:51, 15.24s/it]"
          ]
        },
        {
          "output_type": "stream",
          "name": "stdout",
          "text": [
            "7182.889892578125\n",
            "-40714.47\n",
            "Train Loss - MOSEAS Regression:  -29.4755\n",
            "Test Loss - MOSEAS Regression:  -30.3728\n",
            "Train MAE - MOSEAS Regression:  1.8155\n",
            "Test MAE - MOSEAS Regression:  2.4575\n",
            "Train Pearson - MOSEAS Regression:  0.1291\n",
            "Test Pearson - MOSEAS Regression:  0.2453\n",
            "4368.890100479126\n",
            "-33160.664\n",
            "4043.7411789894104\n",
            "-32813.785\n",
            "5592.744167804718\n",
            "-32916.4\n",
            "2080.0658967494965\n",
            "-33079.035\n"
          ]
        },
        {
          "output_type": "stream",
          "name": "stderr",
          "text": [
            "\rMOSEAS Regression:  90%|████████▉ | 224/250 [57:21<06:40, 15.39s/it]"
          ]
        },
        {
          "output_type": "stream",
          "name": "stdout",
          "text": [
            "7981.4704513549805\n",
            "-41062.664\n",
            "Train Loss - MOSEAS Regression:  -29.2637\n",
            "Test Loss - MOSEAS Regression:  -29.9648\n",
            "Train MAE - MOSEAS Regression:  1.7634\n",
            "Test MAE - MOSEAS Regression:  2.6025\n",
            "Train Pearson - MOSEAS Regression:  0.0536\n",
            "Test Pearson - MOSEAS Regression:  0.2548\n",
            "3725.5463647842407\n",
            "-33718.297\n",
            "4066.3806326389313\n",
            "-33328.684\n",
            "4003.6941833496094\n",
            "-34022.336\n",
            "3331.1200618743896\n",
            "-33975.766\n"
          ]
        },
        {
          "output_type": "stream",
          "name": "stderr",
          "text": [
            "\rMOSEAS Regression:  90%|█████████ | 225/250 [57:35<06:11, 14.85s/it]"
          ]
        },
        {
          "output_type": "stream",
          "name": "stdout",
          "text": [
            "638.679762840271\n",
            "-41407.426\n",
            "Train Loss - MOSEAS Regression:  -30.2824\n",
            "Test Loss - MOSEAS Regression:  -36.9282\n",
            "Train MAE - MOSEAS Regression:  1.6932\n",
            "Test MAE - MOSEAS Regression:  0.5926\n",
            "Train Pearson - MOSEAS Regression:  0.1011\n",
            "Test Pearson - MOSEAS Regression:  0.2897\n",
            "saving checkpoint for epoch 224\n",
            "4558.132212162018\n",
            "-33063.2\n",
            "3513.3715109825134\n",
            "-33955.96\n",
            "4282.233266830444\n",
            "-29408.041\n",
            "2190.0266766548157\n",
            "-35004.4\n"
          ]
        },
        {
          "output_type": "stream",
          "name": "stderr",
          "text": [
            "\rMOSEAS Regression:  90%|█████████ | 226/250 [57:49<05:53, 14.72s/it]"
          ]
        },
        {
          "output_type": "stream",
          "name": "stdout",
          "text": [
            "2110.1152782440186\n",
            "-41744.02\n",
            "Train Loss - MOSEAS Regression:  -29.5171\n",
            "Test Loss - MOSEAS Regression:  -35.9003\n",
            "Train MAE - MOSEAS Regression:  1.6566\n",
            "Test MAE - MOSEAS Regression:  1.2188\n",
            "Train Pearson - MOSEAS Regression:  0.0797\n",
            "Test Pearson - MOSEAS Regression:  0.2705\n",
            "3945.1234023571014\n",
            "-35061.324\n",
            "5401.139382362366\n",
            "-32928.04\n",
            "3467.612868309021\n",
            "-34325.086\n",
            "2426.5097513198853\n",
            "-35201.824\n"
          ]
        },
        {
          "output_type": "stream",
          "name": "stderr",
          "text": [
            "\rMOSEAS Regression:  91%|█████████ | 227/250 [58:04<05:40, 14.80s/it]"
          ]
        },
        {
          "output_type": "stream",
          "name": "stdout",
          "text": [
            "2180.617967605591\n",
            "-42079.418\n",
            "Train Loss - MOSEAS Regression:  -30.8777\n",
            "Test Loss - MOSEAS Regression:  -36.1402\n",
            "Train MAE - MOSEAS Regression:  1.7037\n",
            "Test MAE - MOSEAS Regression:  1.2415\n",
            "Train Pearson - MOSEAS Regression:  0.1272\n",
            "Test Pearson - MOSEAS Regression:  0.2653\n",
            "4318.3773188591\n",
            "-26267.242\n",
            "4047.185305595398\n",
            "-28140.078\n",
            "3609.070315361023\n",
            "-34394.27\n",
            "2188.3137588500977\n",
            "-34663.984\n"
          ]
        },
        {
          "output_type": "stream",
          "name": "stderr",
          "text": [
            "\rMOSEAS Regression:  91%|█████████ | 228/250 [58:20<05:30, 15.04s/it]"
          ]
        },
        {
          "output_type": "stream",
          "name": "stdout",
          "text": [
            "1549.6316242218018\n",
            "-42454.543\n",
            "Train Loss - MOSEAS Regression:  -27.6017\n",
            "Test Loss - MOSEAS Regression:  -37.0516\n",
            "Train MAE - MOSEAS Regression:  1.6348\n",
            "Test MAE - MOSEAS Regression:  1.0045\n",
            "Train Pearson - MOSEAS Regression:  0.1472\n",
            "Test Pearson - MOSEAS Regression:  0.2956\n",
            "saving checkpoint for epoch 227\n",
            "4517.992284297943\n",
            "-34149.414\n",
            "3153.7592298984528\n",
            "-35484.17\n",
            "4181.290505409241\n",
            "-30976.791\n",
            "2186.2644481658936\n",
            "-34737.684\n"
          ]
        },
        {
          "output_type": "stream",
          "name": "stderr",
          "text": [
            "\rMOSEAS Regression:  92%|█████████▏| 229/250 [58:36<05:22, 15.35s/it]"
          ]
        },
        {
          "output_type": "stream",
          "name": "stdout",
          "text": [
            "3314.9556312561035\n",
            "-42815.816\n",
            "Train Loss - MOSEAS Regression:  -30.6335\n",
            "Test Loss - MOSEAS Regression:  -35.7798\n",
            "Train MAE - MOSEAS Regression:  1.6192\n",
            "Test MAE - MOSEAS Regression:  1.5992\n",
            "Train Pearson - MOSEAS Regression:  0.1359\n",
            "Test Pearson - MOSEAS Regression:  0.292\n",
            "4619.155297279358\n",
            "-33901.473\n",
            "3848.6805267333984\n",
            "-33819.62\n",
            "3968.6687707901\n",
            "-35095.04\n",
            "2174.9560952186584\n",
            "-35001.48\n"
          ]
        },
        {
          "output_type": "stream",
          "name": "stderr",
          "text": [
            "\rMOSEAS Regression:  92%|█████████▏| 230/250 [58:51<05:08, 15.40s/it]"
          ]
        },
        {
          "output_type": "stream",
          "name": "stdout",
          "text": [
            "3424.5948371887207\n",
            "-43164.227\n",
            "Train Loss - MOSEAS Regression:  -31.1127\n",
            "Test Loss - MOSEAS Regression:  -35.996\n",
            "Train MAE - MOSEAS Regression:  1.6638\n",
            "Test MAE - MOSEAS Regression:  1.6328\n",
            "Train Pearson - MOSEAS Regression:  0.0713\n",
            "Test Pearson - MOSEAS Regression:  0.3101\n",
            "5080.40009021759\n",
            "-35074.086\n",
            "3424.490147590637\n",
            "-34646.95\n",
            "3567.9950098991394\n",
            "-35465.9\n",
            "2621.9849195480347\n",
            "-35490.13\n"
          ]
        },
        {
          "output_type": "stream",
          "name": "stderr",
          "text": [
            "\rMOSEAS Regression:  92%|█████████▏| 231/250 [59:07<04:51, 15.36s/it]"
          ]
        },
        {
          "output_type": "stream",
          "name": "stdout",
          "text": [
            "1314.1837062835693\n",
            "-43507.258\n",
            "Train Loss - MOSEAS Regression:  -31.8137\n",
            "Test Loss - MOSEAS Regression:  -38.2184\n",
            "Train MAE - MOSEAS Regression:  1.6669\n",
            "Test MAE - MOSEAS Regression:  0.894\n",
            "Train Pearson - MOSEAS Regression:  0.0737\n",
            "Test Pearson - MOSEAS Regression:  0.2949\n",
            "saving checkpoint for epoch 230\n",
            "4202.254314422607\n",
            "-35505.31\n",
            "4229.756409645081\n",
            "-34852.938\n",
            "3560.7591552734375\n",
            "-35434.414\n",
            "2391.2622566223145\n",
            "-35369.125\n"
          ]
        },
        {
          "output_type": "stream",
          "name": "stderr",
          "text": [
            "\rMOSEAS Regression:  93%|█████████▎| 232/250 [59:23<04:43, 15.73s/it]"
          ]
        },
        {
          "output_type": "stream",
          "name": "stdout",
          "text": [
            "733.3355712890625\n",
            "-43850.1\n",
            "Train Loss - MOSEAS Regression:  -32.0146\n",
            "Test Loss - MOSEAS Regression:  -39.055\n",
            "Train MAE - MOSEAS Regression:  1.6409\n",
            "Test MAE - MOSEAS Regression:  0.6438\n",
            "Train Pearson - MOSEAS Regression:  0.119\n",
            "Test Pearson - MOSEAS Regression:  0.3005\n",
            "saving checkpoint for epoch 231\n",
            "4009.8731756210327\n",
            "-36275.773\n",
            "4191.028898715973\n",
            "-35143.152\n",
            "4154.081460952759\n",
            "-35456.57\n",
            "1771.5624771118164\n",
            "-35424.03\n"
          ]
        },
        {
          "output_type": "stream",
          "name": "stderr",
          "text": [
            "\rMOSEAS Regression:  93%|█████████▎| 233/250 [59:39<04:26, 15.68s/it]"
          ]
        },
        {
          "output_type": "stream",
          "name": "stdout",
          "text": [
            "769.8615961074829\n",
            "-44198.75\n",
            "Train Loss - MOSEAS Regression:  -32.3669\n",
            "Test Loss - MOSEAS Regression:  -39.3378\n",
            "Train MAE - MOSEAS Regression:  1.6361\n",
            "Test MAE - MOSEAS Regression:  0.6697\n",
            "Train Pearson - MOSEAS Regression:  0.1051\n",
            "Test Pearson - MOSEAS Regression:  0.2968\n",
            "saving checkpoint for epoch 232\n",
            "2955.387147665024\n",
            "-35211.082\n",
            "4229.0206508636475\n",
            "-36155.723\n",
            "4904.494930267334\n",
            "-35094.426\n",
            "1991.2729103565216\n",
            "-37432.383\n"
          ]
        },
        {
          "output_type": "stream",
          "name": "stderr",
          "text": [
            "\rMOSEAS Regression:  94%|█████████▎| 234/250 [59:54<04:10, 15.63s/it]"
          ]
        },
        {
          "output_type": "stream",
          "name": "stdout",
          "text": [
            "1343.1787147521973\n",
            "-44562.086\n",
            "Train Loss - MOSEAS Regression:  -32.7812\n",
            "Test Loss - MOSEAS Regression:  -39.1476\n",
            "Train MAE - MOSEAS Regression:  1.6305\n",
            "Test MAE - MOSEAS Regression:  0.9055\n",
            "Train Pearson - MOSEAS Regression:  0.1139\n",
            "Test Pearson - MOSEAS Regression:  0.281\n",
            "3742.919584274292\n",
            "-36588.5\n",
            "4365.327593326569\n",
            "-35366.543\n",
            "4075.703170776367\n",
            "-36845.71\n",
            "1648.2366461753845\n",
            "-37071.824\n"
          ]
        },
        {
          "output_type": "stream",
          "name": "stderr",
          "text": [
            "\rMOSEAS Regression:  94%|█████████▍| 235/250 [1:00:10<03:52, 15.50s/it]"
          ]
        },
        {
          "output_type": "stream",
          "name": "stdout",
          "text": [
            "1119.3711776733398\n",
            "-44917.383\n",
            "Train Loss - MOSEAS Regression:  -33.3435\n",
            "Test Loss - MOSEAS Regression:  -39.6721\n",
            "Train MAE - MOSEAS Regression:  1.6011\n",
            "Test MAE - MOSEAS Regression:  0.8336\n",
            "Train Pearson - MOSEAS Regression:  0.0982\n",
            "Test Pearson - MOSEAS Regression:  0.2833\n",
            "saving checkpoint for epoch 234\n",
            "5081.3726806640625\n",
            "-36057.375\n",
            "3884.8384215831757\n",
            "-36383.156\n",
            "3667.4565567970276\n",
            "-36520.516\n",
            "2261.887936592102\n",
            "-37427.734\n"
          ]
        },
        {
          "output_type": "stream",
          "name": "stderr",
          "text": [
            "\rMOSEAS Regression:  94%|█████████▍| 236/250 [1:00:26<03:39, 15.64s/it]"
          ]
        },
        {
          "output_type": "stream",
          "name": "stdout",
          "text": [
            "1418.47953414917\n",
            "-45267.89\n",
            "Train Loss - MOSEAS Regression:  -33.2054\n",
            "Test Loss - MOSEAS Regression:  -39.7187\n",
            "Train MAE - MOSEAS Regression:  1.6771\n",
            "Test MAE - MOSEAS Regression:  0.9558\n",
            "Train Pearson - MOSEAS Regression:  0.061\n",
            "Test Pearson - MOSEAS Regression:  0.2808\n",
            "saving checkpoint for epoch 235\n",
            "4464.623074531555\n",
            "-36987.773\n",
            "4491.788185119629\n",
            "-37122.59\n",
            "3938.4419536590576\n",
            "-35865.195\n",
            "2408.183431148529\n",
            "-37575.984\n"
          ]
        },
        {
          "output_type": "stream",
          "name": "stderr",
          "text": [
            "\rMOSEAS Regression:  95%|█████████▍| 237/250 [1:00:41<03:21, 15.47s/it]"
          ]
        },
        {
          "output_type": "stream",
          "name": "stdout",
          "text": [
            "3347.9324111938477\n",
            "-45627.56\n",
            "Train Loss - MOSEAS Regression:  -33.3961\n",
            "Test Loss - MOSEAS Regression:  -38.2968\n",
            "Train MAE - MOSEAS Regression:  1.7067\n",
            "Test MAE - MOSEAS Regression:  1.6076\n",
            "Train Pearson - MOSEAS Regression:  0.0969\n",
            "Test Pearson - MOSEAS Regression:  0.2834\n",
            "4933.342963695526\n",
            "-36646.023\n",
            "3726.7981011867523\n",
            "-37269.44\n",
            "4356.610597610474\n",
            "-36830.38\n",
            "2667.6684379577637\n",
            "-37251.51\n"
          ]
        },
        {
          "output_type": "stream",
          "name": "stderr",
          "text": [
            "\rMOSEAS Regression:  95%|█████████▌| 238/250 [1:00:56<03:04, 15.37s/it]"
          ]
        },
        {
          "output_type": "stream",
          "name": "stdout",
          "text": [
            "5735.906112670898\n",
            "-45991.695\n",
            "Train Loss - MOSEAS Regression:  -33.4124\n",
            "Test Loss - MOSEAS Regression:  -36.4636\n",
            "Train MAE - MOSEAS Regression:  1.7379\n",
            "Test MAE - MOSEAS Regression:  2.1806\n",
            "Train Pearson - MOSEAS Regression:  0.1296\n",
            "Test Pearson - MOSEAS Regression:  0.2767\n",
            "5021.810427188873\n",
            "-37517.47\n",
            "3978.8980042934418\n",
            "-35583.645\n",
            "5708.766387939453\n",
            "-37177.457\n",
            "3460.3384399414062\n",
            "-37519.355\n"
          ]
        },
        {
          "output_type": "stream",
          "name": "stderr",
          "text": [
            "\rMOSEAS Regression:  96%|█████████▌| 239/250 [1:01:10<02:45, 15.05s/it]"
          ]
        },
        {
          "output_type": "stream",
          "name": "stdout",
          "text": [
            "6288.077201843262\n",
            "-46351.47\n",
            "Train Loss - MOSEAS Regression:  -32.7344\n",
            "Test Loss - MOSEAS Regression:  -36.2893\n",
            "Train MAE - MOSEAS Regression:  1.8927\n",
            "Test MAE - MOSEAS Regression:  2.2913\n",
            "Train Pearson - MOSEAS Regression:  0.0923\n",
            "Test Pearson - MOSEAS Regression:  0.2636\n",
            "5210.246247768402\n",
            "-37805.516\n",
            "6668.8039355278015\n",
            "-37156.35\n",
            "5987.770418643951\n",
            "-37175.176\n",
            "2354.6177237033844\n",
            "-38165.117\n"
          ]
        },
        {
          "output_type": "stream",
          "name": "stderr",
          "text": [
            "\rMOSEAS Regression:  96%|█████████▌| 240/250 [1:01:26<02:34, 15.44s/it]"
          ]
        },
        {
          "output_type": "stream",
          "name": "stdout",
          "text": [
            "10776.327896118164\n",
            "-46705.637\n",
            "Train Loss - MOSEAS Regression:  -32.8487\n",
            "Test Loss - MOSEAS Regression:  -32.5447\n",
            "Train MAE - MOSEAS Regression:  2.0735\n",
            "Test MAE - MOSEAS Regression:  3.052\n",
            "Train Pearson - MOSEAS Regression:  0.1165\n",
            "Test Pearson - MOSEAS Regression:  0.259\n",
            "5369.478605270386\n",
            "-38157.45\n",
            "4550.384936332703\n",
            "-37510.15\n",
            "6303.964576721191\n",
            "-36996.445\n",
            "3806.2660961151123\n",
            "-38919.0\n"
          ]
        },
        {
          "output_type": "stream",
          "name": "stderr",
          "text": [
            "\rMOSEAS Regression:  96%|█████████▋| 241/250 [1:01:42<02:18, 15.42s/it]"
          ]
        },
        {
          "output_type": "stream",
          "name": "stdout",
          "text": [
            "5525.497489929199\n",
            "-47057.15\n",
            "Train Loss - MOSEAS Regression:  -33.2204\n",
            "Test Loss - MOSEAS Regression:  -37.6192\n",
            "Train MAE - MOSEAS Regression:  2.0122\n",
            "Test MAE - MOSEAS Regression:  2.1348\n",
            "Train Pearson - MOSEAS Regression:  0.0088\n",
            "Test Pearson - MOSEAS Regression:  0.2484\n",
            "5435.463266372681\n",
            "-38448.04\n",
            "5578.22279548645\n",
            "-37502.637\n",
            "3809.6123814582825\n",
            "-38072.785\n",
            "3222.18696641922\n",
            "-37264.066\n"
          ]
        },
        {
          "output_type": "stream",
          "name": "stderr",
          "text": [
            "\rMOSEAS Regression:  97%|█████████▋| 242/250 [1:01:57<02:02, 15.27s/it]"
          ]
        },
        {
          "output_type": "stream",
          "name": "stdout",
          "text": [
            "6752.1368408203125\n",
            "-47407.848\n",
            "Train Loss - MOSEAS Regression:  -33.647\n",
            "Test Loss - MOSEAS Regression:  -36.8258\n",
            "Train MAE - MOSEAS Regression:  1.8856\n",
            "Test MAE - MOSEAS Regression:  2.3801\n",
            "Train Pearson - MOSEAS Regression:  0.0807\n",
            "Test Pearson - MOSEAS Regression:  0.2521\n",
            "6561.863965988159\n",
            "-38325.04\n",
            "5084.023547172546\n",
            "-37973.562\n",
            "4487.621322154999\n",
            "-38697.33\n",
            "2880.9429988861084\n",
            "-38745.31\n"
          ]
        },
        {
          "output_type": "stream",
          "name": "stderr",
          "text": [
            "\rMOSEAS Regression:  97%|█████████▋| 243/250 [1:02:12<01:46, 15.17s/it]"
          ]
        },
        {
          "output_type": "stream",
          "name": "stdout",
          "text": [
            "3794.1661376953125\n",
            "-47756.996\n",
            "Train Loss - MOSEAS Regression:  -34.0219\n",
            "Test Loss - MOSEAS Regression:  -39.8214\n",
            "Train MAE - MOSEAS Regression:  1.953\n",
            "Test MAE - MOSEAS Regression:  1.7232\n",
            "Train Pearson - MOSEAS Regression:  0.0854\n",
            "Test Pearson - MOSEAS Regression:  0.2526\n",
            "saving checkpoint for epoch 242\n",
            "4407.333860397339\n",
            "-39341.44\n",
            "5086.701212882996\n",
            "-38758.402\n",
            "4845.861497879028\n",
            "-37962.016\n",
            "2697.6259303092957\n",
            "-38488.344\n"
          ]
        },
        {
          "output_type": "stream",
          "name": "stderr",
          "text": [
            "\rMOSEAS Regression:  98%|█████████▊| 244/250 [1:02:27<01:32, 15.38s/it]"
          ]
        },
        {
          "output_type": "stream",
          "name": "stdout",
          "text": [
            "5073.657302856445\n",
            "-48104.566\n",
            "Train Loss - MOSEAS Regression:  -34.7254\n",
            "Test Loss - MOSEAS Regression:  -38.9773\n",
            "Train MAE - MOSEAS Regression:  1.8466\n",
            "Test MAE - MOSEAS Regression:  2.0162\n",
            "Train Pearson - MOSEAS Regression:  0.1622\n",
            "Test Pearson - MOSEAS Regression:  0.2554\n",
            "4532.578155755997\n",
            "-37957.254\n",
            "4809.713991641998\n",
            "-39384.4\n",
            "3936.659196138382\n",
            "-39137.31\n",
            "2230.857945919037\n",
            "-40034.414\n"
          ]
        },
        {
          "output_type": "stream",
          "name": "stderr",
          "text": [
            "\rMOSEAS Regression:  98%|█████████▊| 245/250 [1:02:43<01:16, 15.29s/it]"
          ]
        },
        {
          "output_type": "stream",
          "name": "stdout",
          "text": [
            "3372.385265350342\n",
            "-48451.76\n",
            "Train Loss - MOSEAS Regression:  -35.607\n",
            "Test Loss - MOSEAS Regression:  -40.8328\n",
            "Train MAE - MOSEAS Regression:  1.7211\n",
            "Test MAE - MOSEAS Regression:  1.587\n",
            "Train Pearson - MOSEAS Regression:  0.12\n",
            "Test Pearson - MOSEAS Regression:  0.2577\n",
            "saving checkpoint for epoch 244\n",
            "4418.862453460693\n",
            "-38103.336\n",
            "3822.3813519477844\n",
            "-38945.293\n",
            "4689.565521240234\n",
            "-39573.184\n",
            "2621.911164045334\n",
            "-40427.64\n"
          ]
        },
        {
          "output_type": "stream",
          "name": "stderr",
          "text": [
            "\rMOSEAS Regression:  98%|█████████▊| 246/250 [1:02:59<01:02, 15.51s/it]"
          ]
        },
        {
          "output_type": "stream",
          "name": "stdout",
          "text": [
            "706.2933483123779\n",
            "-48803.68\n",
            "Train Loss - MOSEAS Regression:  -35.7315\n",
            "Test Loss - MOSEAS Regression:  -43.5665\n",
            "Train MAE - MOSEAS Regression:  1.7332\n",
            "Test MAE - MOSEAS Regression:  0.6169\n",
            "Train Pearson - MOSEAS Regression:  0.1746\n",
            "Test Pearson - MOSEAS Regression:  0.2581\n",
            "saving checkpoint for epoch 245\n",
            "4506.349568367004\n",
            "-39978.19\n",
            "3874.5190811157227\n",
            "-39085.566\n",
            "3438.692770957947\n",
            "-35781.32\n",
            "1713.8823902606964\n",
            "-40469.434\n"
          ]
        },
        {
          "output_type": "stream",
          "name": "stderr",
          "text": [
            "\rMOSEAS Regression:  99%|█████████▉| 247/250 [1:03:14<00:46, 15.53s/it]"
          ]
        },
        {
          "output_type": "stream",
          "name": "stdout",
          "text": [
            "4356.07483291626\n",
            "-49163.285\n",
            "Train Loss - MOSEAS Regression:  -35.8033\n",
            "Test Loss - MOSEAS Regression:  -40.5862\n",
            "Train MAE - MOSEAS Regression:  1.5819\n",
            "Test MAE - MOSEAS Regression:  1.8695\n",
            "Train Pearson - MOSEAS Regression:  0.1254\n",
            "Test Pearson - MOSEAS Regression:  0.2513\n",
            "4980.172094345093\n",
            "-39992.777\n",
            "4749.383651733398\n",
            "-38280.78\n",
            "4360.425968170166\n",
            "-39311.51\n",
            "2175.492734193802\n",
            "-40311.574\n"
          ]
        },
        {
          "output_type": "stream",
          "name": "stderr",
          "text": [
            "\rMOSEAS Regression:  99%|█████████▉| 248/250 [1:03:29<00:30, 15.37s/it]"
          ]
        },
        {
          "output_type": "stream",
          "name": "stdout",
          "text": [
            "4731.504753112793\n",
            "-49519.098\n",
            "Train Loss - MOSEAS Regression:  -35.7654\n",
            "Test Loss - MOSEAS Regression:  -40.5685\n",
            "Train MAE - MOSEAS Regression:  1.7764\n",
            "Test MAE - MOSEAS Regression:  1.9586\n",
            "Train Pearson - MOSEAS Regression:  0.0948\n",
            "Test Pearson - MOSEAS Regression:  0.2512\n",
            "5807.676910400391\n",
            "-39742.723\n",
            "5177.872919082642\n",
            "-39027.01\n",
            "3434.346643924713\n",
            "-40762.92\n",
            "2587.1024494171143\n",
            "-40938.688\n"
          ]
        },
        {
          "output_type": "stream",
          "name": "stderr",
          "text": [
            "\rMOSEAS Regression: 100%|█████████▉| 249/250 [1:03:45<00:15, 15.45s/it]"
          ]
        },
        {
          "output_type": "stream",
          "name": "stdout",
          "text": [
            "3757.6743965148926\n",
            "-49873.4\n",
            "Train Loss - MOSEAS Regression:  -36.2284\n",
            "Test Loss - MOSEAS Regression:  -41.7715\n",
            "Train MAE - MOSEAS Regression:  1.8316\n",
            "Test MAE - MOSEAS Regression:  1.6837\n",
            "Train Pearson - MOSEAS Regression:  0.1056\n",
            "Test Pearson - MOSEAS Regression:  0.2512\n",
            "4836.600524902344\n",
            "-40027.62\n",
            "5830.928689956665\n",
            "-40401.957\n",
            "4933.763286590576\n",
            "-40978.9\n",
            "1610.312337398529\n",
            "-41444.69\n"
          ]
        },
        {
          "output_type": "stream",
          "name": "stderr",
          "text": [
            "MOSEAS Regression: 100%|██████████| 250/250 [1:04:00<00:00, 15.36s/it]"
          ]
        },
        {
          "output_type": "stream",
          "name": "stdout",
          "text": [
            "7832.178039550781\n",
            "-50229.35\n",
            "Train Loss - MOSEAS Regression:  -36.7782\n",
            "Test Loss - MOSEAS Regression:  -38.4032\n",
            "Train MAE - MOSEAS Regression:  1.8519\n",
            "Test MAE - MOSEAS Regression:  2.5725\n",
            "Train Pearson - MOSEAS Regression:  0.0981\n",
            "Test Pearson - MOSEAS Regression:  0.2505\n",
            "Test performance..\n",
            "Loss -43.5665 MAE 0.6169000267982483 r 0.2581\n"
          ]
        },
        {
          "output_type": "stream",
          "name": "stderr",
          "text": [
            "\n"
          ]
        }
      ]
    },
    {
      "cell_type": "markdown",
      "metadata": {
        "id": "J5miTeN6dk6v"
      },
      "source": [
        "# multilogue-net results without NCE, with only french data as feature text1 and text2, with partial acoustic data"
      ]
    },
    {
      "cell_type": "code",
      "metadata": {
        "id": "0WKePmsJdkay"
      },
      "source": [
        ""
      ],
      "execution_count": null,
      "outputs": []
    },
    {
      "cell_type": "code",
      "metadata": {
        "colab": {
          "base_uri": "https://localhost:8080/"
        },
        "id": "Q2xJeiOeJ5gK",
        "outputId": "19409c8b-68f8-44f0-fd76-83e9fb5d26ef"
      },
      "source": [
        "# Training loop\n",
        "for e in tqdm(range(n_epochs), desc = 'MOSEAS Regression'):\n",
        "    train_loss, train_mae, train_pear,_,_,_ = train_or_eval_model(model, MSEloss, NCEloss, train_loader, e, optimizer, True)\n",
        "    test_loss, test_mae, test_pear, test_label, test_pred, test_mask = train_or_eval_model(model, MSEloss, NCEloss, test_loader, e)\n",
        "    log_res(train_loss, test_loss, train_mae, test_mae, train_pear, test_pear)\n",
        "\n",
        "    if best_loss == None or best_loss > test_loss:\n",
        "        best_loss, best_mae, best_label, best_pred, best_mask, best_pear =\\\n",
        "                test_loss, test_mae, test_label, test_pred, test_mask, test_pear\n",
        "        print(f\"saving checkpoint for epoch {e}\")\n",
        "        torch.save(model.state_dict(),f\"/content/gdrive/MyDrive/11-777 MMML/multilogue-net/logs/moseas_regression/epoch{e}_testloss_{best_loss}_testmae_{best_mae}_testpear_{best_pear}.t7\")\n",
        "\n",
        "print('Test performance..')\n",
        "print('Loss {} MAE {} r {}'.format(best_loss, round(mean_absolute_error(best_label,best_pred,sample_weight=best_mask),4), best_pear))"
      ],
      "execution_count": null,
      "outputs": [
        {
          "name": "stderr",
          "output_type": "stream",
          "text": [
            "\rMOSEAS Regression:   0%|          | 0/250 [00:00<?, ?it/s]"
          ]
        },
        {
          "name": "stdout",
          "output_type": "stream",
          "text": [
            "Train Loss - MOSEAS Regression:  0.5308\n",
            "Test Loss - MOSEAS Regression:  0.5143\n",
            "Train MAE - MOSEAS Regression:  0.5635\n",
            "Test MAE - MOSEAS Regression:  0.5723\n",
            "Train Pearson - MOSEAS Regression:  -0.0619\n",
            "Test Pearson - MOSEAS Regression:  -0.0745\n",
            "saving checkpoint for epoch 0\n"
          ]
        },
        {
          "name": "stderr",
          "output_type": "stream",
          "text": [
            "MOSEAS Regression:   1%|          | 2/250 [00:42<1:26:47, 21.00s/it]"
          ]
        },
        {
          "name": "stdout",
          "output_type": "stream",
          "text": [
            "Train Loss - MOSEAS Regression:  0.5339\n",
            "Test Loss - MOSEAS Regression:  0.5053\n",
            "Train MAE - MOSEAS Regression:  0.5746\n",
            "Test MAE - MOSEAS Regression:  0.5666\n",
            "Train Pearson - MOSEAS Regression:  -0.0397\n",
            "Test Pearson - MOSEAS Regression:  -0.0623\n",
            "saving checkpoint for epoch 1\n"
          ]
        },
        {
          "name": "stderr",
          "output_type": "stream",
          "text": [
            "\rMOSEAS Regression:   1%|          | 3/250 [01:01<1:21:19, 19.76s/it]"
          ]
        },
        {
          "name": "stdout",
          "output_type": "stream",
          "text": [
            "Train Loss - MOSEAS Regression:  0.5184\n",
            "Test Loss - MOSEAS Regression:  0.4885\n",
            "Train MAE - MOSEAS Regression:  0.5609\n",
            "Test MAE - MOSEAS Regression:  0.5455\n",
            "Train Pearson - MOSEAS Regression:  -0.0395\n",
            "Test Pearson - MOSEAS Regression:  -0.0369\n",
            "saving checkpoint for epoch 2\n"
          ]
        },
        {
          "name": "stderr",
          "output_type": "stream",
          "text": [
            "\rMOSEAS Regression:   2%|▏         | 4/250 [01:20<1:21:01, 19.76s/it]"
          ]
        },
        {
          "name": "stdout",
          "output_type": "stream",
          "text": [
            "Train Loss - MOSEAS Regression:  0.5049\n",
            "Test Loss - MOSEAS Regression:  0.4866\n",
            "Train MAE - MOSEAS Regression:  0.5496\n",
            "Test MAE - MOSEAS Regression:  0.5346\n",
            "Train Pearson - MOSEAS Regression:  -0.0176\n",
            "Test Pearson - MOSEAS Regression:  0.0219\n",
            "saving checkpoint for epoch 3\n"
          ]
        },
        {
          "name": "stderr",
          "output_type": "stream",
          "text": [
            "\rMOSEAS Regression:   2%|▏         | 5/250 [01:39<1:18:32, 19.24s/it]"
          ]
        },
        {
          "name": "stdout",
          "output_type": "stream",
          "text": [
            "Train Loss - MOSEAS Regression:  0.495\n",
            "Test Loss - MOSEAS Regression:  0.4894\n",
            "Train MAE - MOSEAS Regression:  0.5367\n",
            "Test MAE - MOSEAS Regression:  0.5374\n",
            "Train Pearson - MOSEAS Regression:  0.0402\n",
            "Test Pearson - MOSEAS Regression:  0.0948\n"
          ]
        },
        {
          "name": "stderr",
          "output_type": "stream",
          "text": [
            "\rMOSEAS Regression:   2%|▏         | 6/250 [01:58<1:17:57, 19.17s/it]"
          ]
        },
        {
          "name": "stdout",
          "output_type": "stream",
          "text": [
            "Train Loss - MOSEAS Regression:  0.5014\n",
            "Test Loss - MOSEAS Regression:  0.4843\n",
            "Train MAE - MOSEAS Regression:  0.5386\n",
            "Test MAE - MOSEAS Regression:  0.5339\n",
            "Train Pearson - MOSEAS Regression:  0.0263\n",
            "Test Pearson - MOSEAS Regression:  0.1204\n",
            "saving checkpoint for epoch 5\n"
          ]
        },
        {
          "name": "stderr",
          "output_type": "stream",
          "text": [
            "\rMOSEAS Regression:   3%|▎         | 7/250 [02:17<1:18:13, 19.31s/it]"
          ]
        },
        {
          "name": "stdout",
          "output_type": "stream",
          "text": [
            "Train Loss - MOSEAS Regression:  0.4915\n",
            "Test Loss - MOSEAS Regression:  0.476\n",
            "Train MAE - MOSEAS Regression:  0.5323\n",
            "Test MAE - MOSEAS Regression:  0.5295\n",
            "Train Pearson - MOSEAS Regression:  0.06\n",
            "Test Pearson - MOSEAS Regression:  0.122\n",
            "saving checkpoint for epoch 6\n"
          ]
        },
        {
          "name": "stderr",
          "output_type": "stream",
          "text": [
            "\rMOSEAS Regression:   3%|▎         | 8/250 [02:36<1:16:43, 19.02s/it]"
          ]
        },
        {
          "name": "stdout",
          "output_type": "stream",
          "text": [
            "Train Loss - MOSEAS Regression:  0.4904\n",
            "Test Loss - MOSEAS Regression:  0.4726\n",
            "Train MAE - MOSEAS Regression:  0.538\n",
            "Test MAE - MOSEAS Regression:  0.5319\n",
            "Train Pearson - MOSEAS Regression:  0.0438\n",
            "Test Pearson - MOSEAS Regression:  0.1269\n",
            "saving checkpoint for epoch 7\n"
          ]
        },
        {
          "name": "stderr",
          "output_type": "stream",
          "text": [
            "\rMOSEAS Regression:   4%|▎         | 9/250 [02:52<1:13:06, 18.20s/it]"
          ]
        },
        {
          "name": "stdout",
          "output_type": "stream",
          "text": [
            "Train Loss - MOSEAS Regression:  0.479\n",
            "Test Loss - MOSEAS Regression:  0.4709\n",
            "Train MAE - MOSEAS Regression:  0.534\n",
            "Test MAE - MOSEAS Regression:  0.5315\n",
            "Train Pearson - MOSEAS Regression:  0.1056\n",
            "Test Pearson - MOSEAS Regression:  0.1415\n",
            "saving checkpoint for epoch 8\n"
          ]
        },
        {
          "name": "stderr",
          "output_type": "stream",
          "text": [
            "\rMOSEAS Regression:   4%|▍         | 10/250 [03:12<1:14:22, 18.59s/it]"
          ]
        },
        {
          "name": "stdout",
          "output_type": "stream",
          "text": [
            "Train Loss - MOSEAS Regression:  0.4862\n",
            "Test Loss - MOSEAS Regression:  0.47\n",
            "Train MAE - MOSEAS Regression:  0.5348\n",
            "Test MAE - MOSEAS Regression:  0.5293\n",
            "Train Pearson - MOSEAS Regression:  0.0665\n",
            "Test Pearson - MOSEAS Regression:  0.1562\n",
            "saving checkpoint for epoch 9\n"
          ]
        },
        {
          "name": "stderr",
          "output_type": "stream",
          "text": [
            "\rMOSEAS Regression:   4%|▍         | 11/250 [03:30<1:13:24, 18.43s/it]"
          ]
        },
        {
          "name": "stdout",
          "output_type": "stream",
          "text": [
            "Train Loss - MOSEAS Regression:  0.4792\n",
            "Test Loss - MOSEAS Regression:  0.4701\n",
            "Train MAE - MOSEAS Regression:  0.533\n",
            "Test MAE - MOSEAS Regression:  0.528\n",
            "Train Pearson - MOSEAS Regression:  0.109\n",
            "Test Pearson - MOSEAS Regression:  0.1651\n"
          ]
        },
        {
          "name": "stderr",
          "output_type": "stream",
          "text": [
            "\rMOSEAS Regression:   5%|▍         | 12/250 [03:50<1:15:23, 19.01s/it]"
          ]
        },
        {
          "name": "stdout",
          "output_type": "stream",
          "text": [
            "Train Loss - MOSEAS Regression:  0.4727\n",
            "Test Loss - MOSEAS Regression:  0.4681\n",
            "Train MAE - MOSEAS Regression:  0.5271\n",
            "Test MAE - MOSEAS Regression:  0.528\n",
            "Train Pearson - MOSEAS Regression:  0.1471\n",
            "Test Pearson - MOSEAS Regression:  0.1709\n",
            "saving checkpoint for epoch 11\n"
          ]
        },
        {
          "name": "stderr",
          "output_type": "stream",
          "text": [
            "\rMOSEAS Regression:   5%|▌         | 13/250 [04:09<1:15:05, 19.01s/it]"
          ]
        },
        {
          "name": "stdout",
          "output_type": "stream",
          "text": [
            "Train Loss - MOSEAS Regression:  0.4744\n",
            "Test Loss - MOSEAS Regression:  0.4659\n",
            "Train MAE - MOSEAS Regression:  0.5269\n",
            "Test MAE - MOSEAS Regression:  0.5295\n",
            "Train Pearson - MOSEAS Regression:  0.1337\n",
            "Test Pearson - MOSEAS Regression:  0.1756\n",
            "saving checkpoint for epoch 12\n"
          ]
        },
        {
          "name": "stderr",
          "output_type": "stream",
          "text": [
            "\rMOSEAS Regression:   6%|▌         | 14/250 [04:28<1:14:59, 19.07s/it]"
          ]
        },
        {
          "name": "stdout",
          "output_type": "stream",
          "text": [
            "Train Loss - MOSEAS Regression:  0.4736\n",
            "Test Loss - MOSEAS Regression:  0.4649\n",
            "Train MAE - MOSEAS Regression:  0.5293\n",
            "Test MAE - MOSEAS Regression:  0.5287\n",
            "Train Pearson - MOSEAS Regression:  0.1384\n",
            "Test Pearson - MOSEAS Regression:  0.1818\n",
            "saving checkpoint for epoch 13\n"
          ]
        },
        {
          "name": "stderr",
          "output_type": "stream",
          "text": [
            "\rMOSEAS Regression:   6%|▌         | 15/250 [04:47<1:14:40, 19.07s/it]"
          ]
        },
        {
          "name": "stdout",
          "output_type": "stream",
          "text": [
            "Train Loss - MOSEAS Regression:  0.4709\n",
            "Test Loss - MOSEAS Regression:  0.4637\n",
            "Train MAE - MOSEAS Regression:  0.5278\n",
            "Test MAE - MOSEAS Regression:  0.5285\n",
            "Train Pearson - MOSEAS Regression:  0.1537\n",
            "Test Pearson - MOSEAS Regression:  0.1882\n",
            "saving checkpoint for epoch 14\n"
          ]
        },
        {
          "name": "stderr",
          "output_type": "stream",
          "text": [
            "\rMOSEAS Regression:   6%|▋         | 16/250 [05:04<1:12:09, 18.50s/it]"
          ]
        },
        {
          "name": "stdout",
          "output_type": "stream",
          "text": [
            "Train Loss - MOSEAS Regression:  0.4675\n",
            "Test Loss - MOSEAS Regression:  0.4641\n",
            "Train MAE - MOSEAS Regression:  0.5244\n",
            "Test MAE - MOSEAS Regression:  0.5263\n",
            "Train Pearson - MOSEAS Regression:  0.172\n",
            "Test Pearson - MOSEAS Regression:  0.1932\n"
          ]
        },
        {
          "name": "stderr",
          "output_type": "stream",
          "text": [
            "\rMOSEAS Regression:   7%|▋         | 17/250 [05:24<1:13:17, 18.87s/it]"
          ]
        },
        {
          "name": "stdout",
          "output_type": "stream",
          "text": [
            "Train Loss - MOSEAS Regression:  0.4674\n",
            "Test Loss - MOSEAS Regression:  0.4632\n",
            "Train MAE - MOSEAS Regression:  0.5224\n",
            "Test MAE - MOSEAS Regression:  0.5257\n",
            "Train Pearson - MOSEAS Regression:  0.1759\n",
            "Test Pearson - MOSEAS Regression:  0.1987\n",
            "saving checkpoint for epoch 16\n"
          ]
        },
        {
          "name": "stderr",
          "output_type": "stream",
          "text": [
            "\rMOSEAS Regression:   7%|▋         | 18/250 [05:41<1:10:54, 18.34s/it]"
          ]
        },
        {
          "name": "stdout",
          "output_type": "stream",
          "text": [
            "Train Loss - MOSEAS Regression:  0.4651\n",
            "Test Loss - MOSEAS Regression:  0.4615\n",
            "Train MAE - MOSEAS Regression:  0.5212\n",
            "Test MAE - MOSEAS Regression:  0.5256\n",
            "Train Pearson - MOSEAS Regression:  0.1874\n",
            "Test Pearson - MOSEAS Regression:  0.204\n",
            "saving checkpoint for epoch 17\n"
          ]
        },
        {
          "name": "stderr",
          "output_type": "stream",
          "text": [
            "\rMOSEAS Regression:   8%|▊         | 19/250 [06:00<1:10:51, 18.41s/it]"
          ]
        },
        {
          "name": "stdout",
          "output_type": "stream",
          "text": [
            "Train Loss - MOSEAS Regression:  0.4619\n",
            "Test Loss - MOSEAS Regression:  0.4599\n",
            "Train MAE - MOSEAS Regression:  0.521\n",
            "Test MAE - MOSEAS Regression:  0.5257\n",
            "Train Pearson - MOSEAS Regression:  0.2018\n",
            "Test Pearson - MOSEAS Regression:  0.2098\n",
            "saving checkpoint for epoch 18\n"
          ]
        },
        {
          "name": "stderr",
          "output_type": "stream",
          "text": [
            "\rMOSEAS Regression:   8%|▊         | 20/250 [06:19<1:11:54, 18.76s/it]"
          ]
        },
        {
          "name": "stdout",
          "output_type": "stream",
          "text": [
            "Train Loss - MOSEAS Regression:  0.4648\n",
            "Test Loss - MOSEAS Regression:  0.4589\n",
            "Train MAE - MOSEAS Regression:  0.5224\n",
            "Test MAE - MOSEAS Regression:  0.5249\n",
            "Train Pearson - MOSEAS Regression:  0.1868\n",
            "Test Pearson - MOSEAS Regression:  0.2154\n",
            "saving checkpoint for epoch 19\n"
          ]
        },
        {
          "name": "stderr",
          "output_type": "stream",
          "text": [
            "\rMOSEAS Regression:   8%|▊         | 21/250 [06:38<1:11:38, 18.77s/it]"
          ]
        },
        {
          "name": "stdout",
          "output_type": "stream",
          "text": [
            "Train Loss - MOSEAS Regression:  0.4623\n",
            "Test Loss - MOSEAS Regression:  0.4582\n",
            "Train MAE - MOSEAS Regression:  0.5209\n",
            "Test MAE - MOSEAS Regression:  0.524\n",
            "Train Pearson - MOSEAS Regression:  0.2002\n",
            "Test Pearson - MOSEAS Regression:  0.2195\n",
            "saving checkpoint for epoch 20\n"
          ]
        },
        {
          "name": "stderr",
          "output_type": "stream",
          "text": [
            "\rMOSEAS Regression:   9%|▉         | 22/250 [06:56<1:10:42, 18.61s/it]"
          ]
        },
        {
          "name": "stdout",
          "output_type": "stream",
          "text": [
            "Train Loss - MOSEAS Regression:  0.4565\n",
            "Test Loss - MOSEAS Regression:  0.4564\n",
            "Train MAE - MOSEAS Regression:  0.5186\n",
            "Test MAE - MOSEAS Regression:  0.5246\n",
            "Train Pearson - MOSEAS Regression:  0.2269\n",
            "Test Pearson - MOSEAS Regression:  0.225\n",
            "saving checkpoint for epoch 21\n"
          ]
        },
        {
          "name": "stderr",
          "output_type": "stream",
          "text": [
            "\rMOSEAS Regression:   9%|▉         | 23/250 [07:16<1:11:14, 18.83s/it]"
          ]
        },
        {
          "name": "stdout",
          "output_type": "stream",
          "text": [
            "Train Loss - MOSEAS Regression:  0.4551\n",
            "Test Loss - MOSEAS Regression:  0.4563\n",
            "Train MAE - MOSEAS Regression:  0.5162\n",
            "Test MAE - MOSEAS Regression:  0.5227\n",
            "Train Pearson - MOSEAS Regression:  0.2336\n",
            "Test Pearson - MOSEAS Regression:  0.2282\n",
            "saving checkpoint for epoch 22\n"
          ]
        },
        {
          "name": "stderr",
          "output_type": "stream",
          "text": [
            "\rMOSEAS Regression:  10%|▉         | 24/250 [07:35<1:11:09, 18.89s/it]"
          ]
        },
        {
          "name": "stdout",
          "output_type": "stream",
          "text": [
            "Train Loss - MOSEAS Regression:  0.4548\n",
            "Test Loss - MOSEAS Regression:  0.4551\n",
            "Train MAE - MOSEAS Regression:  0.5168\n",
            "Test MAE - MOSEAS Regression:  0.5223\n",
            "Train Pearson - MOSEAS Regression:  0.2359\n",
            "Test Pearson - MOSEAS Regression:  0.232\n",
            "saving checkpoint for epoch 23\n"
          ]
        },
        {
          "name": "stderr",
          "output_type": "stream",
          "text": [
            "\rMOSEAS Regression:  10%|█         | 25/250 [07:54<1:11:12, 18.99s/it]"
          ]
        },
        {
          "name": "stdout",
          "output_type": "stream",
          "text": [
            "Train Loss - MOSEAS Regression:  0.4447\n",
            "Test Loss - MOSEAS Regression:  0.4532\n",
            "Train MAE - MOSEAS Regression:  0.5107\n",
            "Test MAE - MOSEAS Regression:  0.5237\n",
            "Train Pearson - MOSEAS Regression:  0.2791\n",
            "Test Pearson - MOSEAS Regression:  0.2367\n",
            "saving checkpoint for epoch 24\n"
          ]
        },
        {
          "name": "stderr",
          "output_type": "stream",
          "text": [
            "\rMOSEAS Regression:  10%|█         | 26/250 [08:15<1:12:34, 19.44s/it]"
          ]
        },
        {
          "name": "stdout",
          "output_type": "stream",
          "text": [
            "Train Loss - MOSEAS Regression:  0.4496\n",
            "Test Loss - MOSEAS Regression:  0.4538\n",
            "Train MAE - MOSEAS Regression:  0.5148\n",
            "Test MAE - MOSEAS Regression:  0.5207\n",
            "Train Pearson - MOSEAS Regression:  0.2577\n",
            "Test Pearson - MOSEAS Regression:  0.2385\n"
          ]
        },
        {
          "name": "stderr",
          "output_type": "stream",
          "text": [
            "\rMOSEAS Regression:  11%|█         | 27/250 [08:34<1:12:36, 19.54s/it]"
          ]
        },
        {
          "name": "stdout",
          "output_type": "stream",
          "text": [
            "Train Loss - MOSEAS Regression:  0.4442\n",
            "Test Loss - MOSEAS Regression:  0.453\n",
            "Train MAE - MOSEAS Regression:  0.5086\n",
            "Test MAE - MOSEAS Regression:  0.5201\n",
            "Train Pearson - MOSEAS Regression:  0.2812\n",
            "Test Pearson - MOSEAS Regression:  0.2419\n",
            "saving checkpoint for epoch 26\n"
          ]
        },
        {
          "name": "stderr",
          "output_type": "stream",
          "text": [
            "\rMOSEAS Regression:  11%|█         | 28/250 [08:53<1:11:02, 19.20s/it]"
          ]
        },
        {
          "name": "stdout",
          "output_type": "stream",
          "text": [
            "Train Loss - MOSEAS Regression:  0.4418\n",
            "Test Loss - MOSEAS Regression:  0.4507\n",
            "Train MAE - MOSEAS Regression:  0.5088\n",
            "Test MAE - MOSEAS Regression:  0.5209\n",
            "Train Pearson - MOSEAS Regression:  0.2891\n",
            "Test Pearson - MOSEAS Regression:  0.2467\n",
            "saving checkpoint for epoch 27\n"
          ]
        },
        {
          "name": "stderr",
          "output_type": "stream",
          "text": [
            "\rMOSEAS Regression:  12%|█▏        | 29/250 [09:13<1:11:44, 19.48s/it]"
          ]
        },
        {
          "name": "stdout",
          "output_type": "stream",
          "text": [
            "Train Loss - MOSEAS Regression:  0.4493\n",
            "Test Loss - MOSEAS Regression:  0.45\n",
            "Train MAE - MOSEAS Regression:  0.5148\n",
            "Test MAE - MOSEAS Regression:  0.5238\n",
            "Train Pearson - MOSEAS Regression:  0.2603\n",
            "Test Pearson - MOSEAS Regression:  0.2499\n",
            "saving checkpoint for epoch 28\n"
          ]
        },
        {
          "name": "stderr",
          "output_type": "stream",
          "text": [
            "\rMOSEAS Regression:  12%|█▏        | 30/250 [09:31<1:10:23, 19.20s/it]"
          ]
        },
        {
          "name": "stdout",
          "output_type": "stream",
          "text": [
            "Train Loss - MOSEAS Regression:  0.4406\n",
            "Test Loss - MOSEAS Regression:  0.4495\n",
            "Train MAE - MOSEAS Regression:  0.511\n",
            "Test MAE - MOSEAS Regression:  0.5197\n",
            "Train Pearson - MOSEAS Regression:  0.2942\n",
            "Test Pearson - MOSEAS Regression:  0.2522\n",
            "saving checkpoint for epoch 29\n"
          ]
        },
        {
          "name": "stderr",
          "output_type": "stream",
          "text": [
            "\rMOSEAS Regression:  12%|█▏        | 31/250 [09:51<1:10:52, 19.42s/it]"
          ]
        },
        {
          "name": "stdout",
          "output_type": "stream",
          "text": [
            "Train Loss - MOSEAS Regression:  0.4398\n",
            "Test Loss - MOSEAS Regression:  0.4519\n",
            "Train MAE - MOSEAS Regression:  0.5057\n",
            "Test MAE - MOSEAS Regression:  0.5178\n",
            "Train Pearson - MOSEAS Regression:  0.2961\n",
            "Test Pearson - MOSEAS Regression:  0.2522\n"
          ]
        },
        {
          "name": "stderr",
          "output_type": "stream",
          "text": [
            "\rMOSEAS Regression:  13%|█▎        | 32/250 [10:09<1:08:53, 18.96s/it]"
          ]
        },
        {
          "name": "stdout",
          "output_type": "stream",
          "text": [
            "Train Loss - MOSEAS Regression:  0.439\n",
            "Test Loss - MOSEAS Regression:  0.4477\n",
            "Train MAE - MOSEAS Regression:  0.5056\n",
            "Test MAE - MOSEAS Regression:  0.5201\n",
            "Train Pearson - MOSEAS Regression:  0.3005\n",
            "Test Pearson - MOSEAS Regression:  0.2571\n",
            "saving checkpoint for epoch 31\n"
          ]
        },
        {
          "name": "stderr",
          "output_type": "stream",
          "text": [
            "\rMOSEAS Regression:  13%|█▎        | 33/250 [10:27<1:07:18, 18.61s/it]"
          ]
        },
        {
          "name": "stdout",
          "output_type": "stream",
          "text": [
            "Train Loss - MOSEAS Regression:  0.435\n",
            "Test Loss - MOSEAS Regression:  0.4471\n",
            "Train MAE - MOSEAS Regression:  0.5057\n",
            "Test MAE - MOSEAS Regression:  0.5212\n",
            "Train Pearson - MOSEAS Regression:  0.3128\n",
            "Test Pearson - MOSEAS Regression:  0.2599\n",
            "saving checkpoint for epoch 32\n"
          ]
        },
        {
          "name": "stderr",
          "output_type": "stream",
          "text": [
            "\rMOSEAS Regression:  14%|█▎        | 34/250 [10:46<1:07:25, 18.73s/it]"
          ]
        },
        {
          "name": "stdout",
          "output_type": "stream",
          "text": [
            "Train Loss - MOSEAS Regression:  0.4332\n",
            "Test Loss - MOSEAS Regression:  0.4472\n",
            "Train MAE - MOSEAS Regression:  0.5056\n",
            "Test MAE - MOSEAS Regression:  0.5178\n",
            "Train Pearson - MOSEAS Regression:  0.317\n",
            "Test Pearson - MOSEAS Regression:  0.2619\n"
          ]
        },
        {
          "name": "stderr",
          "output_type": "stream",
          "text": [
            "\rMOSEAS Regression:  14%|█▍        | 35/250 [11:06<1:08:28, 19.11s/it]"
          ]
        },
        {
          "name": "stdout",
          "output_type": "stream",
          "text": [
            "Train Loss - MOSEAS Regression:  0.429\n",
            "Test Loss - MOSEAS Regression:  0.4453\n",
            "Train MAE - MOSEAS Regression:  0.4983\n",
            "Test MAE - MOSEAS Regression:  0.519\n",
            "Train Pearson - MOSEAS Regression:  0.3309\n",
            "Test Pearson - MOSEAS Regression:  0.2664\n",
            "saving checkpoint for epoch 34\n"
          ]
        },
        {
          "name": "stderr",
          "output_type": "stream",
          "text": [
            "\rMOSEAS Regression:  14%|█▍        | 36/250 [11:25<1:08:17, 19.15s/it]"
          ]
        },
        {
          "name": "stdout",
          "output_type": "stream",
          "text": [
            "Train Loss - MOSEAS Regression:  0.4244\n",
            "Test Loss - MOSEAS Regression:  0.4446\n",
            "Train MAE - MOSEAS Regression:  0.4991\n",
            "Test MAE - MOSEAS Regression:  0.5181\n",
            "Train Pearson - MOSEAS Regression:  0.3474\n",
            "Test Pearson - MOSEAS Regression:  0.2695\n",
            "saving checkpoint for epoch 35\n"
          ]
        },
        {
          "name": "stderr",
          "output_type": "stream",
          "text": [
            "\rMOSEAS Regression:  15%|█▍        | 37/250 [11:45<1:08:44, 19.36s/it]"
          ]
        },
        {
          "name": "stdout",
          "output_type": "stream",
          "text": [
            "Train Loss - MOSEAS Regression:  0.4245\n",
            "Test Loss - MOSEAS Regression:  0.4442\n",
            "Train MAE - MOSEAS Regression:  0.4987\n",
            "Test MAE - MOSEAS Regression:  0.5177\n",
            "Train Pearson - MOSEAS Regression:  0.3451\n",
            "Test Pearson - MOSEAS Regression:  0.2711\n",
            "saving checkpoint for epoch 36\n"
          ]
        },
        {
          "name": "stderr",
          "output_type": "stream",
          "text": [
            "\rMOSEAS Regression:  15%|█▌        | 38/250 [12:03<1:07:15, 19.03s/it]"
          ]
        },
        {
          "name": "stdout",
          "output_type": "stream",
          "text": [
            "Train Loss - MOSEAS Regression:  0.4283\n",
            "Test Loss - MOSEAS Regression:  0.4453\n",
            "Train MAE - MOSEAS Regression:  0.4992\n",
            "Test MAE - MOSEAS Regression:  0.5159\n",
            "Train Pearson - MOSEAS Regression:  0.3327\n",
            "Test Pearson - MOSEAS Regression:  0.2725\n"
          ]
        },
        {
          "name": "stderr",
          "output_type": "stream",
          "text": [
            "\rMOSEAS Regression:  16%|█▌        | 39/250 [12:21<1:05:30, 18.63s/it]"
          ]
        },
        {
          "name": "stdout",
          "output_type": "stream",
          "text": [
            "Train Loss - MOSEAS Regression:  0.423\n",
            "Test Loss - MOSEAS Regression:  0.4436\n",
            "Train MAE - MOSEAS Regression:  0.4983\n",
            "Test MAE - MOSEAS Regression:  0.5179\n",
            "Train Pearson - MOSEAS Regression:  0.3486\n",
            "Test Pearson - MOSEAS Regression:  0.2747\n",
            "saving checkpoint for epoch 38\n"
          ]
        },
        {
          "name": "stderr",
          "output_type": "stream",
          "text": [
            "\rMOSEAS Regression:  16%|█▌        | 40/250 [12:41<1:06:15, 18.93s/it]"
          ]
        },
        {
          "name": "stdout",
          "output_type": "stream",
          "text": [
            "Train Loss - MOSEAS Regression:  0.4195\n",
            "Test Loss - MOSEAS Regression:  0.4438\n",
            "Train MAE - MOSEAS Regression:  0.4954\n",
            "Test MAE - MOSEAS Regression:  0.5157\n",
            "Train Pearson - MOSEAS Regression:  0.36\n",
            "Test Pearson - MOSEAS Regression:  0.277\n"
          ]
        },
        {
          "name": "stderr",
          "output_type": "stream",
          "text": [
            "\rMOSEAS Regression:  16%|█▋        | 41/250 [12:59<1:05:16, 18.74s/it]"
          ]
        },
        {
          "name": "stdout",
          "output_type": "stream",
          "text": [
            "Train Loss - MOSEAS Regression:  0.4183\n",
            "Test Loss - MOSEAS Regression:  0.4428\n",
            "Train MAE - MOSEAS Regression:  0.4956\n",
            "Test MAE - MOSEAS Regression:  0.5171\n",
            "Train Pearson - MOSEAS Regression:  0.3626\n",
            "Test Pearson - MOSEAS Regression:  0.2788\n",
            "saving checkpoint for epoch 40\n"
          ]
        },
        {
          "name": "stderr",
          "output_type": "stream",
          "text": [
            "\rMOSEAS Regression:  17%|█▋        | 42/250 [13:19<1:06:07, 19.08s/it]"
          ]
        },
        {
          "name": "stdout",
          "output_type": "stream",
          "text": [
            "Train Loss - MOSEAS Regression:  0.415\n",
            "Test Loss - MOSEAS Regression:  0.4433\n",
            "Train MAE - MOSEAS Regression:  0.4921\n",
            "Test MAE - MOSEAS Regression:  0.5158\n",
            "Train Pearson - MOSEAS Regression:  0.3721\n",
            "Test Pearson - MOSEAS Regression:  0.2807\n"
          ]
        },
        {
          "name": "stderr",
          "output_type": "stream",
          "text": [
            "\rMOSEAS Regression:  17%|█▋        | 43/250 [13:38<1:06:01, 19.14s/it]"
          ]
        },
        {
          "name": "stdout",
          "output_type": "stream",
          "text": [
            "Train Loss - MOSEAS Regression:  0.4135\n",
            "Test Loss - MOSEAS Regression:  0.4458\n",
            "Train MAE - MOSEAS Regression:  0.4923\n",
            "Test MAE - MOSEAS Regression:  0.5206\n",
            "Train Pearson - MOSEAS Regression:  0.3767\n",
            "Test Pearson - MOSEAS Regression:  0.2793\n"
          ]
        },
        {
          "name": "stderr",
          "output_type": "stream",
          "text": [
            "\rMOSEAS Regression:  18%|█▊        | 44/250 [13:59<1:06:57, 19.50s/it]"
          ]
        },
        {
          "name": "stdout",
          "output_type": "stream",
          "text": [
            "Train Loss - MOSEAS Regression:  0.4185\n",
            "Test Loss - MOSEAS Regression:  0.4442\n",
            "Train MAE - MOSEAS Regression:  0.4968\n",
            "Test MAE - MOSEAS Regression:  0.5164\n",
            "Train Pearson - MOSEAS Regression:  0.3653\n",
            "Test Pearson - MOSEAS Regression:  0.2821\n"
          ]
        },
        {
          "name": "stderr",
          "output_type": "stream",
          "text": [
            "\rMOSEAS Regression:  18%|█▊        | 45/250 [14:19<1:07:09, 19.66s/it]"
          ]
        },
        {
          "name": "stdout",
          "output_type": "stream",
          "text": [
            "Train Loss - MOSEAS Regression:  0.4109\n",
            "Test Loss - MOSEAS Regression:  0.4427\n",
            "Train MAE - MOSEAS Regression:  0.4886\n",
            "Test MAE - MOSEAS Regression:  0.5174\n",
            "Train Pearson - MOSEAS Regression:  0.3848\n",
            "Test Pearson - MOSEAS Regression:  0.2829\n",
            "saving checkpoint for epoch 44\n"
          ]
        },
        {
          "name": "stderr",
          "output_type": "stream",
          "text": [
            "\rMOSEAS Regression:  18%|█▊        | 46/250 [14:37<1:05:27, 19.25s/it]"
          ]
        },
        {
          "name": "stdout",
          "output_type": "stream",
          "text": [
            "Train Loss - MOSEAS Regression:  0.4084\n",
            "Test Loss - MOSEAS Regression:  0.4422\n",
            "Train MAE - MOSEAS Regression:  0.4872\n",
            "Test MAE - MOSEAS Regression:  0.5165\n",
            "Train Pearson - MOSEAS Regression:  0.391\n",
            "Test Pearson - MOSEAS Regression:  0.2852\n",
            "saving checkpoint for epoch 45\n"
          ]
        },
        {
          "name": "stderr",
          "output_type": "stream",
          "text": [
            "\rMOSEAS Regression:  19%|█▉        | 47/250 [14:55<1:04:32, 19.08s/it]"
          ]
        },
        {
          "name": "stdout",
          "output_type": "stream",
          "text": [
            "Train Loss - MOSEAS Regression:  0.4067\n",
            "Test Loss - MOSEAS Regression:  0.4429\n",
            "Train MAE - MOSEAS Regression:  0.4903\n",
            "Test MAE - MOSEAS Regression:  0.5164\n",
            "Train Pearson - MOSEAS Regression:  0.3947\n",
            "Test Pearson - MOSEAS Regression:  0.2865\n"
          ]
        },
        {
          "name": "stderr",
          "output_type": "stream",
          "text": [
            "\rMOSEAS Regression:  19%|█▉        | 48/250 [15:13<1:02:30, 18.57s/it]"
          ]
        },
        {
          "name": "stdout",
          "output_type": "stream",
          "text": [
            "Train Loss - MOSEAS Regression:  0.4069\n",
            "Test Loss - MOSEAS Regression:  0.4425\n",
            "Train MAE - MOSEAS Regression:  0.4861\n",
            "Test MAE - MOSEAS Regression:  0.5173\n",
            "Train Pearson - MOSEAS Regression:  0.3947\n",
            "Test Pearson - MOSEAS Regression:  0.2871\n"
          ]
        },
        {
          "name": "stderr",
          "output_type": "stream",
          "text": [
            "\rMOSEAS Regression:  20%|█▉        | 49/250 [15:32<1:02:50, 18.76s/it]"
          ]
        },
        {
          "name": "stdout",
          "output_type": "stream",
          "text": [
            "Train Loss - MOSEAS Regression:  0.4059\n",
            "Test Loss - MOSEAS Regression:  0.4436\n",
            "Train MAE - MOSEAS Regression:  0.4899\n",
            "Test MAE - MOSEAS Regression:  0.5164\n",
            "Train Pearson - MOSEAS Regression:  0.3994\n",
            "Test Pearson - MOSEAS Regression:  0.2902\n"
          ]
        },
        {
          "name": "stderr",
          "output_type": "stream",
          "text": [
            "\rMOSEAS Regression:  20%|██        | 50/250 [15:51<1:02:26, 18.73s/it]"
          ]
        },
        {
          "name": "stdout",
          "output_type": "stream",
          "text": [
            "Train Loss - MOSEAS Regression:  0.4003\n",
            "Test Loss - MOSEAS Regression:  0.4449\n",
            "Train MAE - MOSEAS Regression:  0.4807\n",
            "Test MAE - MOSEAS Regression:  0.5194\n",
            "Train Pearson - MOSEAS Regression:  0.4161\n",
            "Test Pearson - MOSEAS Regression:  0.2874\n"
          ]
        },
        {
          "name": "stderr",
          "output_type": "stream",
          "text": [
            "\rMOSEAS Regression:  20%|██        | 51/250 [16:09<1:01:15, 18.47s/it]"
          ]
        },
        {
          "name": "stdout",
          "output_type": "stream",
          "text": [
            "Train Loss - MOSEAS Regression:  0.4034\n",
            "Test Loss - MOSEAS Regression:  0.4436\n",
            "Train MAE - MOSEAS Regression:  0.4873\n",
            "Test MAE - MOSEAS Regression:  0.5169\n",
            "Train Pearson - MOSEAS Regression:  0.4055\n",
            "Test Pearson - MOSEAS Regression:  0.2913\n"
          ]
        },
        {
          "name": "stderr",
          "output_type": "stream",
          "text": [
            "\rMOSEAS Regression:  21%|██        | 52/250 [16:26<1:00:07, 18.22s/it]"
          ]
        },
        {
          "name": "stdout",
          "output_type": "stream",
          "text": [
            "Train Loss - MOSEAS Regression:  0.3984\n",
            "Test Loss - MOSEAS Regression:  0.4429\n",
            "Train MAE - MOSEAS Regression:  0.4797\n",
            "Test MAE - MOSEAS Regression:  0.5177\n",
            "Train Pearson - MOSEAS Regression:  0.4165\n",
            "Test Pearson - MOSEAS Regression:  0.2906\n"
          ]
        },
        {
          "name": "stderr",
          "output_type": "stream",
          "text": [
            "\rMOSEAS Regression:  21%|██        | 53/250 [16:46<1:01:06, 18.61s/it]"
          ]
        },
        {
          "name": "stdout",
          "output_type": "stream",
          "text": [
            "Train Loss - MOSEAS Regression:  0.3963\n",
            "Test Loss - MOSEAS Regression:  0.4435\n",
            "Train MAE - MOSEAS Regression:  0.4813\n",
            "Test MAE - MOSEAS Regression:  0.517\n",
            "Train Pearson - MOSEAS Regression:  0.4223\n",
            "Test Pearson - MOSEAS Regression:  0.2935\n"
          ]
        },
        {
          "name": "stderr",
          "output_type": "stream",
          "text": [
            "\rMOSEAS Regression:  22%|██▏       | 54/250 [17:06<1:02:24, 19.11s/it]"
          ]
        },
        {
          "name": "stdout",
          "output_type": "stream",
          "text": [
            "Train Loss - MOSEAS Regression:  0.3994\n",
            "Test Loss - MOSEAS Regression:  0.4434\n",
            "Train MAE - MOSEAS Regression:  0.4812\n",
            "Test MAE - MOSEAS Regression:  0.5178\n",
            "Train Pearson - MOSEAS Regression:  0.414\n",
            "Test Pearson - MOSEAS Regression:  0.2932\n"
          ]
        },
        {
          "name": "stderr",
          "output_type": "stream",
          "text": [
            "\rMOSEAS Regression:  22%|██▏       | 55/250 [17:24<1:01:12, 18.83s/it]"
          ]
        },
        {
          "name": "stdout",
          "output_type": "stream",
          "text": [
            "Train Loss - MOSEAS Regression:  0.3982\n",
            "Test Loss - MOSEAS Regression:  0.4434\n",
            "Train MAE - MOSEAS Regression:  0.4824\n",
            "Test MAE - MOSEAS Regression:  0.5176\n",
            "Train Pearson - MOSEAS Regression:  0.416\n",
            "Test Pearson - MOSEAS Regression:  0.2955\n"
          ]
        },
        {
          "name": "stderr",
          "output_type": "stream",
          "text": [
            "\rMOSEAS Regression:  22%|██▏       | 56/250 [17:43<1:00:57, 18.85s/it]"
          ]
        },
        {
          "name": "stdout",
          "output_type": "stream",
          "text": [
            "Train Loss - MOSEAS Regression:  0.3915\n",
            "Test Loss - MOSEAS Regression:  0.4438\n",
            "Train MAE - MOSEAS Regression:  0.4792\n",
            "Test MAE - MOSEAS Regression:  0.5179\n",
            "Train Pearson - MOSEAS Regression:  0.4336\n",
            "Test Pearson - MOSEAS Regression:  0.2967\n"
          ]
        },
        {
          "name": "stderr",
          "output_type": "stream",
          "text": [
            "\rMOSEAS Regression:  23%|██▎       | 57/250 [18:02<1:00:26, 18.79s/it]"
          ]
        },
        {
          "name": "stdout",
          "output_type": "stream",
          "text": [
            "Train Loss - MOSEAS Regression:  0.3934\n",
            "Test Loss - MOSEAS Regression:  0.4442\n",
            "Train MAE - MOSEAS Regression:  0.4775\n",
            "Test MAE - MOSEAS Regression:  0.5181\n",
            "Train Pearson - MOSEAS Regression:  0.4292\n",
            "Test Pearson - MOSEAS Regression:  0.2972\n"
          ]
        },
        {
          "name": "stderr",
          "output_type": "stream",
          "text": [
            "\rMOSEAS Regression:  23%|██▎       | 58/250 [18:20<1:00:02, 18.76s/it]"
          ]
        },
        {
          "name": "stdout",
          "output_type": "stream",
          "text": [
            "Train Loss - MOSEAS Regression:  0.3929\n",
            "Test Loss - MOSEAS Regression:  0.4436\n",
            "Train MAE - MOSEAS Regression:  0.48\n",
            "Test MAE - MOSEAS Regression:  0.5168\n",
            "Train Pearson - MOSEAS Regression:  0.4301\n",
            "Test Pearson - MOSEAS Regression:  0.2999\n"
          ]
        },
        {
          "name": "stderr",
          "output_type": "stream",
          "text": [
            "\rMOSEAS Regression:  24%|██▎       | 59/250 [18:40<1:00:52, 19.12s/it]"
          ]
        },
        {
          "name": "stdout",
          "output_type": "stream",
          "text": [
            "Train Loss - MOSEAS Regression:  0.3879\n",
            "Test Loss - MOSEAS Regression:  0.444\n",
            "Train MAE - MOSEAS Regression:  0.4746\n",
            "Test MAE - MOSEAS Regression:  0.5174\n",
            "Train Pearson - MOSEAS Regression:  0.4424\n",
            "Test Pearson - MOSEAS Regression:  0.2993\n"
          ]
        },
        {
          "name": "stderr",
          "output_type": "stream",
          "text": [
            "\rMOSEAS Regression:  24%|██▍       | 60/250 [18:59<1:00:28, 19.10s/it]"
          ]
        },
        {
          "name": "stdout",
          "output_type": "stream",
          "text": [
            "Train Loss - MOSEAS Regression:  0.3923\n",
            "Test Loss - MOSEAS Regression:  0.4471\n",
            "Train MAE - MOSEAS Regression:  0.4834\n",
            "Test MAE - MOSEAS Regression:  0.517\n",
            "Train Pearson - MOSEAS Regression:  0.433\n",
            "Test Pearson - MOSEAS Regression:  0.3033\n"
          ]
        },
        {
          "name": "stderr",
          "output_type": "stream",
          "text": [
            "\rMOSEAS Regression:  24%|██▍       | 61/250 [19:17<59:07, 18.77s/it]  "
          ]
        },
        {
          "name": "stdout",
          "output_type": "stream",
          "text": [
            "Train Loss - MOSEAS Regression:  0.391\n",
            "Test Loss - MOSEAS Regression:  0.4439\n",
            "Train MAE - MOSEAS Regression:  0.4773\n",
            "Test MAE - MOSEAS Regression:  0.5173\n",
            "Train Pearson - MOSEAS Regression:  0.4369\n",
            "Test Pearson - MOSEAS Regression:  0.3028\n"
          ]
        },
        {
          "name": "stderr",
          "output_type": "stream",
          "text": [
            "\rMOSEAS Regression:  25%|██▍       | 62/250 [19:36<58:26, 18.65s/it]"
          ]
        },
        {
          "name": "stdout",
          "output_type": "stream",
          "text": [
            "Train Loss - MOSEAS Regression:  0.3872\n",
            "Test Loss - MOSEAS Regression:  0.4421\n",
            "Train MAE - MOSEAS Regression:  0.4757\n",
            "Test MAE - MOSEAS Regression:  0.515\n",
            "Train Pearson - MOSEAS Regression:  0.4428\n",
            "Test Pearson - MOSEAS Regression:  0.3079\n",
            "saving checkpoint for epoch 61\n"
          ]
        },
        {
          "name": "stderr",
          "output_type": "stream",
          "text": [
            "\rMOSEAS Regression:  25%|██▌       | 63/250 [19:56<59:06, 18.97s/it]"
          ]
        },
        {
          "name": "stdout",
          "output_type": "stream",
          "text": [
            "Train Loss - MOSEAS Regression:  0.389\n",
            "Test Loss - MOSEAS Regression:  0.4404\n",
            "Train MAE - MOSEAS Regression:  0.4781\n",
            "Test MAE - MOSEAS Regression:  0.5144\n",
            "Train Pearson - MOSEAS Regression:  0.4385\n",
            "Test Pearson - MOSEAS Regression:  0.3104\n",
            "saving checkpoint for epoch 62\n"
          ]
        },
        {
          "name": "stderr",
          "output_type": "stream",
          "text": [
            "\rMOSEAS Regression:  26%|██▌       | 64/250 [20:14<58:06, 18.75s/it]"
          ]
        },
        {
          "name": "stdout",
          "output_type": "stream",
          "text": [
            "Train Loss - MOSEAS Regression:  0.3847\n",
            "Test Loss - MOSEAS Regression:  0.4399\n",
            "Train MAE - MOSEAS Regression:  0.4746\n",
            "Test MAE - MOSEAS Regression:  0.5141\n",
            "Train Pearson - MOSEAS Regression:  0.4494\n",
            "Test Pearson - MOSEAS Regression:  0.3124\n",
            "saving checkpoint for epoch 63\n"
          ]
        },
        {
          "name": "stderr",
          "output_type": "stream",
          "text": [
            "\rMOSEAS Regression:  26%|██▌       | 65/250 [20:32<57:32, 18.66s/it]"
          ]
        },
        {
          "name": "stdout",
          "output_type": "stream",
          "text": [
            "Train Loss - MOSEAS Regression:  0.3827\n",
            "Test Loss - MOSEAS Regression:  0.4393\n",
            "Train MAE - MOSEAS Regression:  0.4735\n",
            "Test MAE - MOSEAS Regression:  0.5137\n",
            "Train Pearson - MOSEAS Regression:  0.4539\n",
            "Test Pearson - MOSEAS Regression:  0.3147\n",
            "saving checkpoint for epoch 64\n"
          ]
        },
        {
          "name": "stderr",
          "output_type": "stream",
          "text": [
            "\rMOSEAS Regression:  26%|██▋       | 66/250 [20:52<58:10, 18.97s/it]"
          ]
        },
        {
          "name": "stdout",
          "output_type": "stream",
          "text": [
            "Train Loss - MOSEAS Regression:  0.3813\n",
            "Test Loss - MOSEAS Regression:  0.4417\n",
            "Train MAE - MOSEAS Regression:  0.4715\n",
            "Test MAE - MOSEAS Regression:  0.5151\n",
            "Train Pearson - MOSEAS Regression:  0.457\n",
            "Test Pearson - MOSEAS Regression:  0.3133\n"
          ]
        },
        {
          "name": "stderr",
          "output_type": "stream",
          "text": [
            "\rMOSEAS Regression:  27%|██▋       | 67/250 [21:12<58:28, 19.17s/it]"
          ]
        },
        {
          "name": "stdout",
          "output_type": "stream",
          "text": [
            "Train Loss - MOSEAS Regression:  0.3807\n",
            "Test Loss - MOSEAS Regression:  0.4418\n",
            "Train MAE - MOSEAS Regression:  0.4741\n",
            "Test MAE - MOSEAS Regression:  0.5141\n",
            "Train Pearson - MOSEAS Regression:  0.4602\n",
            "Test Pearson - MOSEAS Regression:  0.3154\n"
          ]
        },
        {
          "name": "stderr",
          "output_type": "stream",
          "text": [
            "\rMOSEAS Regression:  27%|██▋       | 68/250 [21:32<58:50, 19.40s/it]"
          ]
        },
        {
          "name": "stdout",
          "output_type": "stream",
          "text": [
            "Train Loss - MOSEAS Regression:  0.3796\n",
            "Test Loss - MOSEAS Regression:  0.4434\n",
            "Train MAE - MOSEAS Regression:  0.4711\n",
            "Test MAE - MOSEAS Regression:  0.5155\n",
            "Train Pearson - MOSEAS Regression:  0.4605\n",
            "Test Pearson - MOSEAS Regression:  0.3123\n"
          ]
        },
        {
          "name": "stderr",
          "output_type": "stream",
          "text": [
            "\rMOSEAS Regression:  28%|██▊       | 69/250 [21:49<57:06, 18.93s/it]"
          ]
        },
        {
          "name": "stdout",
          "output_type": "stream",
          "text": [
            "Train Loss - MOSEAS Regression:  0.3761\n",
            "Test Loss - MOSEAS Regression:  0.4449\n",
            "Train MAE - MOSEAS Regression:  0.4691\n",
            "Test MAE - MOSEAS Regression:  0.5153\n",
            "Train Pearson - MOSEAS Regression:  0.4683\n",
            "Test Pearson - MOSEAS Regression:  0.3128\n"
          ]
        },
        {
          "name": "stderr",
          "output_type": "stream",
          "text": [
            "\rMOSEAS Regression:  28%|██▊       | 70/250 [22:08<56:54, 18.97s/it]"
          ]
        },
        {
          "name": "stdout",
          "output_type": "stream",
          "text": [
            "Train Loss - MOSEAS Regression:  0.3789\n",
            "Test Loss - MOSEAS Regression:  0.444\n",
            "Train MAE - MOSEAS Regression:  0.4714\n",
            "Test MAE - MOSEAS Regression:  0.515\n",
            "Train Pearson - MOSEAS Regression:  0.4622\n",
            "Test Pearson - MOSEAS Regression:  0.313\n"
          ]
        },
        {
          "name": "stderr",
          "output_type": "stream",
          "text": [
            "\rMOSEAS Regression:  28%|██▊       | 71/250 [22:29<57:41, 19.34s/it]"
          ]
        },
        {
          "name": "stdout",
          "output_type": "stream",
          "text": [
            "Train Loss - MOSEAS Regression:  0.3802\n",
            "Test Loss - MOSEAS Regression:  0.4415\n",
            "Train MAE - MOSEAS Regression:  0.4705\n",
            "Test MAE - MOSEAS Regression:  0.5129\n",
            "Train Pearson - MOSEAS Regression:  0.4591\n",
            "Test Pearson - MOSEAS Regression:  0.3175\n"
          ]
        },
        {
          "name": "stderr",
          "output_type": "stream",
          "text": [
            "\rMOSEAS Regression:  29%|██▉       | 72/250 [22:46<55:25, 18.68s/it]"
          ]
        },
        {
          "name": "stdout",
          "output_type": "stream",
          "text": [
            "Train Loss - MOSEAS Regression:  0.3812\n",
            "Test Loss - MOSEAS Regression:  0.4401\n",
            "Train MAE - MOSEAS Regression:  0.4728\n",
            "Test MAE - MOSEAS Regression:  0.5121\n",
            "Train Pearson - MOSEAS Regression:  0.4569\n",
            "Test Pearson - MOSEAS Regression:  0.3211\n"
          ]
        },
        {
          "name": "stderr",
          "output_type": "stream",
          "text": [
            "\rMOSEAS Regression:  29%|██▉       | 73/250 [23:05<55:52, 18.94s/it]"
          ]
        },
        {
          "name": "stdout",
          "output_type": "stream",
          "text": [
            "Train Loss - MOSEAS Regression:  0.3765\n",
            "Test Loss - MOSEAS Regression:  0.4415\n",
            "Train MAE - MOSEAS Regression:  0.4681\n",
            "Test MAE - MOSEAS Regression:  0.5137\n",
            "Train Pearson - MOSEAS Regression:  0.4696\n",
            "Test Pearson - MOSEAS Regression:  0.3206\n"
          ]
        },
        {
          "name": "stderr",
          "output_type": "stream",
          "text": [
            "\rMOSEAS Regression:  30%|██▉       | 74/250 [23:23<54:37, 18.62s/it]"
          ]
        },
        {
          "name": "stdout",
          "output_type": "stream",
          "text": [
            "Train Loss - MOSEAS Regression:  0.3773\n",
            "Test Loss - MOSEAS Regression:  0.4434\n",
            "Train MAE - MOSEAS Regression:  0.4723\n",
            "Test MAE - MOSEAS Regression:  0.5131\n",
            "Train Pearson - MOSEAS Regression:  0.4698\n",
            "Test Pearson - MOSEAS Regression:  0.3242\n"
          ]
        },
        {
          "name": "stderr",
          "output_type": "stream",
          "text": [
            "\rMOSEAS Regression:  30%|███       | 75/250 [23:41<53:49, 18.46s/it]"
          ]
        },
        {
          "name": "stdout",
          "output_type": "stream",
          "text": [
            "Train Loss - MOSEAS Regression:  0.3777\n",
            "Test Loss - MOSEAS Regression:  0.4428\n",
            "Train MAE - MOSEAS Regression:  0.4702\n",
            "Test MAE - MOSEAS Regression:  0.5149\n",
            "Train Pearson - MOSEAS Regression:  0.4673\n",
            "Test Pearson - MOSEAS Regression:  0.3224\n"
          ]
        },
        {
          "name": "stderr",
          "output_type": "stream",
          "text": [
            "\rMOSEAS Regression:  30%|███       | 76/250 [23:59<53:09, 18.33s/it]"
          ]
        },
        {
          "name": "stdout",
          "output_type": "stream",
          "text": [
            "Train Loss - MOSEAS Regression:  0.3727\n",
            "Test Loss - MOSEAS Regression:  0.4399\n",
            "Train MAE - MOSEAS Regression:  0.4683\n",
            "Test MAE - MOSEAS Regression:  0.5112\n",
            "Train Pearson - MOSEAS Regression:  0.4765\n",
            "Test Pearson - MOSEAS Regression:  0.3271\n"
          ]
        },
        {
          "name": "stderr",
          "output_type": "stream",
          "text": [
            "\rMOSEAS Regression:  31%|███       | 77/250 [24:17<52:35, 18.24s/it]"
          ]
        },
        {
          "name": "stdout",
          "output_type": "stream",
          "text": [
            "Train Loss - MOSEAS Regression:  0.3749\n",
            "Test Loss - MOSEAS Regression:  0.4414\n",
            "Train MAE - MOSEAS Regression:  0.4668\n",
            "Test MAE - MOSEAS Regression:  0.5136\n",
            "Train Pearson - MOSEAS Regression:  0.4717\n",
            "Test Pearson - MOSEAS Regression:  0.3245\n"
          ]
        },
        {
          "name": "stderr",
          "output_type": "stream",
          "text": [
            "\rMOSEAS Regression:  31%|███       | 78/250 [24:35<52:05, 18.17s/it]"
          ]
        },
        {
          "name": "stdout",
          "output_type": "stream",
          "text": [
            "Train Loss - MOSEAS Regression:  0.377\n",
            "Test Loss - MOSEAS Regression:  0.4386\n",
            "Train MAE - MOSEAS Regression:  0.4716\n",
            "Test MAE - MOSEAS Regression:  0.5102\n",
            "Train Pearson - MOSEAS Regression:  0.4665\n",
            "Test Pearson - MOSEAS Regression:  0.3287\n",
            "saving checkpoint for epoch 77\n"
          ]
        },
        {
          "name": "stderr",
          "output_type": "stream",
          "text": [
            "\rMOSEAS Regression:  32%|███▏      | 79/250 [24:53<51:32, 18.08s/it]"
          ]
        },
        {
          "name": "stdout",
          "output_type": "stream",
          "text": [
            "Train Loss - MOSEAS Regression:  0.3716\n",
            "Test Loss - MOSEAS Regression:  0.4379\n",
            "Train MAE - MOSEAS Regression:  0.4681\n",
            "Test MAE - MOSEAS Regression:  0.5112\n",
            "Train Pearson - MOSEAS Regression:  0.4782\n",
            "Test Pearson - MOSEAS Regression:  0.3278\n",
            "saving checkpoint for epoch 78\n"
          ]
        },
        {
          "name": "stderr",
          "output_type": "stream",
          "text": [
            "\rMOSEAS Regression:  32%|███▏      | 80/250 [25:13<52:29, 18.53s/it]"
          ]
        },
        {
          "name": "stdout",
          "output_type": "stream",
          "text": [
            "Train Loss - MOSEAS Regression:  0.372\n",
            "Test Loss - MOSEAS Regression:  0.436\n",
            "Train MAE - MOSEAS Regression:  0.4644\n",
            "Test MAE - MOSEAS Regression:  0.509\n",
            "Train Pearson - MOSEAS Regression:  0.4779\n",
            "Test Pearson - MOSEAS Regression:  0.3298\n",
            "saving checkpoint for epoch 79\n"
          ]
        },
        {
          "name": "stderr",
          "output_type": "stream",
          "text": [
            "\rMOSEAS Regression:  32%|███▏      | 81/250 [25:32<53:08, 18.87s/it]"
          ]
        },
        {
          "name": "stdout",
          "output_type": "stream",
          "text": [
            "Train Loss - MOSEAS Regression:  0.3715\n",
            "Test Loss - MOSEAS Regression:  0.4361\n",
            "Train MAE - MOSEAS Regression:  0.4687\n",
            "Test MAE - MOSEAS Regression:  0.509\n",
            "Train Pearson - MOSEAS Regression:  0.4812\n",
            "Test Pearson - MOSEAS Regression:  0.3311\n"
          ]
        },
        {
          "name": "stderr",
          "output_type": "stream",
          "text": [
            "\rMOSEAS Regression:  33%|███▎      | 82/250 [25:52<53:35, 19.14s/it]"
          ]
        },
        {
          "name": "stdout",
          "output_type": "stream",
          "text": [
            "Train Loss - MOSEAS Regression:  0.3688\n",
            "Test Loss - MOSEAS Regression:  0.4363\n",
            "Train MAE - MOSEAS Regression:  0.4636\n",
            "Test MAE - MOSEAS Regression:  0.5101\n",
            "Train Pearson - MOSEAS Regression:  0.4864\n",
            "Test Pearson - MOSEAS Regression:  0.3302\n"
          ]
        },
        {
          "name": "stderr",
          "output_type": "stream",
          "text": [
            "\rMOSEAS Regression:  33%|███▎      | 83/250 [26:11<52:47, 18.97s/it]"
          ]
        },
        {
          "name": "stdout",
          "output_type": "stream",
          "text": [
            "Train Loss - MOSEAS Regression:  0.3695\n",
            "Test Loss - MOSEAS Regression:  0.4417\n",
            "Train MAE - MOSEAS Regression:  0.466\n",
            "Test MAE - MOSEAS Regression:  0.5118\n",
            "Train Pearson - MOSEAS Regression:  0.4862\n",
            "Test Pearson - MOSEAS Regression:  0.3314\n"
          ]
        },
        {
          "name": "stderr",
          "output_type": "stream",
          "text": [
            "\rMOSEAS Regression:  34%|███▎      | 84/250 [26:30<52:43, 19.06s/it]"
          ]
        },
        {
          "name": "stdout",
          "output_type": "stream",
          "text": [
            "Train Loss - MOSEAS Regression:  0.3748\n",
            "Test Loss - MOSEAS Regression:  0.451\n",
            "Train MAE - MOSEAS Regression:  0.4671\n",
            "Test MAE - MOSEAS Regression:  0.5218\n",
            "Train Pearson - MOSEAS Regression:  0.479\n",
            "Test Pearson - MOSEAS Regression:  0.3229\n"
          ]
        },
        {
          "name": "stderr",
          "output_type": "stream",
          "text": [
            "\rMOSEAS Regression:  34%|███▍      | 85/250 [26:49<52:31, 19.10s/it]"
          ]
        },
        {
          "name": "stdout",
          "output_type": "stream",
          "text": [
            "Train Loss - MOSEAS Regression:  0.376\n",
            "Test Loss - MOSEAS Regression:  0.4455\n",
            "Train MAE - MOSEAS Regression:  0.4741\n",
            "Test MAE - MOSEAS Regression:  0.5135\n",
            "Train Pearson - MOSEAS Regression:  0.4777\n",
            "Test Pearson - MOSEAS Regression:  0.3318\n"
          ]
        },
        {
          "name": "stderr",
          "output_type": "stream",
          "text": [
            "\rMOSEAS Regression:  34%|███▍      | 86/250 [27:09<52:24, 19.17s/it]"
          ]
        },
        {
          "name": "stdout",
          "output_type": "stream",
          "text": [
            "Train Loss - MOSEAS Regression:  0.3738\n",
            "Test Loss - MOSEAS Regression:  0.4491\n",
            "Train MAE - MOSEAS Regression:  0.4662\n",
            "Test MAE - MOSEAS Regression:  0.5204\n",
            "Train Pearson - MOSEAS Regression:  0.4842\n",
            "Test Pearson - MOSEAS Regression:  0.3272\n"
          ]
        },
        {
          "name": "stderr",
          "output_type": "stream",
          "text": [
            "\rMOSEAS Regression:  35%|███▍      | 87/250 [27:28<51:57, 19.12s/it]"
          ]
        },
        {
          "name": "stdout",
          "output_type": "stream",
          "text": [
            "Train Loss - MOSEAS Regression:  0.3743\n",
            "Test Loss - MOSEAS Regression:  0.4377\n",
            "Train MAE - MOSEAS Regression:  0.4707\n",
            "Test MAE - MOSEAS Regression:  0.5089\n",
            "Train Pearson - MOSEAS Regression:  0.4798\n",
            "Test Pearson - MOSEAS Regression:  0.3364\n"
          ]
        },
        {
          "name": "stderr",
          "output_type": "stream",
          "text": [
            "\rMOSEAS Regression:  35%|███▌      | 88/250 [27:47<51:38, 19.12s/it]"
          ]
        },
        {
          "name": "stdout",
          "output_type": "stream",
          "text": [
            "Train Loss - MOSEAS Regression:  0.3685\n",
            "Test Loss - MOSEAS Regression:  0.4381\n",
            "Train MAE - MOSEAS Regression:  0.4624\n",
            "Test MAE - MOSEAS Regression:  0.5119\n",
            "Train Pearson - MOSEAS Regression:  0.4901\n",
            "Test Pearson - MOSEAS Regression:  0.3351\n"
          ]
        },
        {
          "name": "stderr",
          "output_type": "stream",
          "text": [
            "\rMOSEAS Regression:  36%|███▌      | 89/250 [28:06<51:24, 19.16s/it]"
          ]
        },
        {
          "name": "stdout",
          "output_type": "stream",
          "text": [
            "Train Loss - MOSEAS Regression:  0.3693\n",
            "Test Loss - MOSEAS Regression:  0.4309\n",
            "Train MAE - MOSEAS Regression:  0.4658\n",
            "Test MAE - MOSEAS Regression:  0.5052\n",
            "Train Pearson - MOSEAS Regression:  0.4869\n",
            "Test Pearson - MOSEAS Regression:  0.3413\n",
            "saving checkpoint for epoch 88\n"
          ]
        },
        {
          "name": "stderr",
          "output_type": "stream",
          "text": [
            "\rMOSEAS Regression:  36%|███▌      | 90/250 [28:25<50:59, 19.12s/it]"
          ]
        },
        {
          "name": "stdout",
          "output_type": "stream",
          "text": [
            "Train Loss - MOSEAS Regression:  0.3654\n",
            "Test Loss - MOSEAS Regression:  0.4322\n",
            "Train MAE - MOSEAS Regression:  0.4618\n",
            "Test MAE - MOSEAS Regression:  0.5074\n",
            "Train Pearson - MOSEAS Regression:  0.4942\n",
            "Test Pearson - MOSEAS Regression:  0.34\n"
          ]
        },
        {
          "name": "stderr",
          "output_type": "stream",
          "text": [
            "\rMOSEAS Regression:  36%|███▋      | 91/250 [28:45<51:12, 19.32s/it]"
          ]
        },
        {
          "name": "stdout",
          "output_type": "stream",
          "text": [
            "Train Loss - MOSEAS Regression:  0.3635\n",
            "Test Loss - MOSEAS Regression:  0.4304\n",
            "Train MAE - MOSEAS Regression:  0.4622\n",
            "Test MAE - MOSEAS Regression:  0.505\n",
            "Train Pearson - MOSEAS Regression:  0.4995\n",
            "Test Pearson - MOSEAS Regression:  0.343\n",
            "saving checkpoint for epoch 90\n"
          ]
        },
        {
          "name": "stderr",
          "output_type": "stream",
          "text": [
            "\rMOSEAS Regression:  37%|███▋      | 92/250 [29:04<51:01, 19.38s/it]"
          ]
        },
        {
          "name": "stdout",
          "output_type": "stream",
          "text": [
            "Train Loss - MOSEAS Regression:  0.3642\n",
            "Test Loss - MOSEAS Regression:  0.4298\n",
            "Train MAE - MOSEAS Regression:  0.4599\n",
            "Test MAE - MOSEAS Regression:  0.5053\n",
            "Train Pearson - MOSEAS Regression:  0.4965\n",
            "Test Pearson - MOSEAS Regression:  0.3441\n",
            "saving checkpoint for epoch 91\n"
          ]
        },
        {
          "name": "stderr",
          "output_type": "stream",
          "text": [
            "\rMOSEAS Regression:  37%|███▋      | 93/250 [29:23<50:08, 19.16s/it]"
          ]
        },
        {
          "name": "stdout",
          "output_type": "stream",
          "text": [
            "Train Loss - MOSEAS Regression:  0.3619\n",
            "Test Loss - MOSEAS Regression:  0.4287\n",
            "Train MAE - MOSEAS Regression:  0.4604\n",
            "Test MAE - MOSEAS Regression:  0.5042\n",
            "Train Pearson - MOSEAS Regression:  0.5007\n",
            "Test Pearson - MOSEAS Regression:  0.3456\n",
            "saving checkpoint for epoch 92\n"
          ]
        },
        {
          "name": "stderr",
          "output_type": "stream",
          "text": [
            "\rMOSEAS Regression:  38%|███▊      | 94/250 [29:42<49:56, 19.21s/it]"
          ]
        },
        {
          "name": "stdout",
          "output_type": "stream",
          "text": [
            "Train Loss - MOSEAS Regression:  0.3613\n",
            "Test Loss - MOSEAS Regression:  0.4291\n",
            "Train MAE - MOSEAS Regression:  0.4588\n",
            "Test MAE - MOSEAS Regression:  0.5048\n",
            "Train Pearson - MOSEAS Regression:  0.5012\n",
            "Test Pearson - MOSEAS Regression:  0.3453\n"
          ]
        },
        {
          "name": "stderr",
          "output_type": "stream",
          "text": [
            "\rMOSEAS Regression:  38%|███▊      | 95/250 [30:01<49:31, 19.17s/it]"
          ]
        },
        {
          "name": "stdout",
          "output_type": "stream",
          "text": [
            "Train Loss - MOSEAS Regression:  0.359\n",
            "Test Loss - MOSEAS Regression:  0.4298\n",
            "Train MAE - MOSEAS Regression:  0.4589\n",
            "Test MAE - MOSEAS Regression:  0.5055\n",
            "Train Pearson - MOSEAS Regression:  0.505\n",
            "Test Pearson - MOSEAS Regression:  0.3448\n"
          ]
        },
        {
          "name": "stderr",
          "output_type": "stream",
          "text": [
            "\rMOSEAS Regression:  38%|███▊      | 96/250 [30:20<48:35, 18.93s/it]"
          ]
        },
        {
          "name": "stdout",
          "output_type": "stream",
          "text": [
            "Train Loss - MOSEAS Regression:  0.3612\n",
            "Test Loss - MOSEAS Regression:  0.43\n",
            "Train MAE - MOSEAS Regression:  0.4589\n",
            "Test MAE - MOSEAS Regression:  0.5052\n",
            "Train Pearson - MOSEAS Regression:  0.5006\n",
            "Test Pearson - MOSEAS Regression:  0.3452\n"
          ]
        },
        {
          "name": "stderr",
          "output_type": "stream",
          "text": [
            "\rMOSEAS Regression:  39%|███▉      | 97/250 [30:39<48:35, 19.06s/it]"
          ]
        },
        {
          "name": "stdout",
          "output_type": "stream",
          "text": [
            "Train Loss - MOSEAS Regression:  0.3589\n",
            "Test Loss - MOSEAS Regression:  0.4309\n",
            "Train MAE - MOSEAS Regression:  0.4589\n",
            "Test MAE - MOSEAS Regression:  0.5057\n",
            "Train Pearson - MOSEAS Regression:  0.5056\n",
            "Test Pearson - MOSEAS Regression:  0.3459\n"
          ]
        },
        {
          "name": "stderr",
          "output_type": "stream",
          "text": [
            "\rMOSEAS Regression:  39%|███▉      | 98/250 [30:57<47:43, 18.84s/it]"
          ]
        },
        {
          "name": "stdout",
          "output_type": "stream",
          "text": [
            "Train Loss - MOSEAS Regression:  0.3566\n",
            "Test Loss - MOSEAS Regression:  0.4313\n",
            "Train MAE - MOSEAS Regression:  0.4569\n",
            "Test MAE - MOSEAS Regression:  0.5062\n",
            "Train Pearson - MOSEAS Regression:  0.5099\n",
            "Test Pearson - MOSEAS Regression:  0.3464\n"
          ]
        },
        {
          "name": "stderr",
          "output_type": "stream",
          "text": [
            "\rMOSEAS Regression:  40%|███▉      | 99/250 [31:17<47:41, 18.95s/it]"
          ]
        },
        {
          "name": "stdout",
          "output_type": "stream",
          "text": [
            "Train Loss - MOSEAS Regression:  0.3597\n",
            "Test Loss - MOSEAS Regression:  0.4305\n",
            "Train MAE - MOSEAS Regression:  0.4593\n",
            "Test MAE - MOSEAS Regression:  0.5051\n",
            "Train Pearson - MOSEAS Regression:  0.5037\n",
            "Test Pearson - MOSEAS Regression:  0.3476\n"
          ]
        },
        {
          "name": "stderr",
          "output_type": "stream",
          "text": [
            "\rMOSEAS Regression:  40%|████      | 100/250 [31:35<46:55, 18.77s/it]"
          ]
        },
        {
          "name": "stdout",
          "output_type": "stream",
          "text": [
            "Train Loss - MOSEAS Regression:  0.3561\n",
            "Test Loss - MOSEAS Regression:  0.4305\n",
            "Train MAE - MOSEAS Regression:  0.4562\n",
            "Test MAE - MOSEAS Regression:  0.5056\n",
            "Train Pearson - MOSEAS Regression:  0.5107\n",
            "Test Pearson - MOSEAS Regression:  0.3477\n"
          ]
        },
        {
          "name": "stderr",
          "output_type": "stream",
          "text": [
            "\rMOSEAS Regression:  40%|████      | 101/250 [31:54<46:47, 18.84s/it]"
          ]
        },
        {
          "name": "stdout",
          "output_type": "stream",
          "text": [
            "Train Loss - MOSEAS Regression:  0.3557\n",
            "Test Loss - MOSEAS Regression:  0.4303\n",
            "Train MAE - MOSEAS Regression:  0.456\n",
            "Test MAE - MOSEAS Regression:  0.5042\n",
            "Train Pearson - MOSEAS Regression:  0.5117\n",
            "Test Pearson - MOSEAS Regression:  0.3485\n"
          ]
        },
        {
          "name": "stderr",
          "output_type": "stream",
          "text": [
            "\rMOSEAS Regression:  41%|████      | 102/250 [32:14<47:12, 19.14s/it]"
          ]
        },
        {
          "name": "stdout",
          "output_type": "stream",
          "text": [
            "Train Loss - MOSEAS Regression:  0.3526\n",
            "Test Loss - MOSEAS Regression:  0.4312\n",
            "Train MAE - MOSEAS Regression:  0.4548\n",
            "Test MAE - MOSEAS Regression:  0.5063\n",
            "Train Pearson - MOSEAS Regression:  0.5191\n",
            "Test Pearson - MOSEAS Regression:  0.347\n"
          ]
        },
        {
          "name": "stderr",
          "output_type": "stream",
          "text": [
            "\rMOSEAS Regression:  41%|████      | 103/250 [32:32<46:33, 19.00s/it]"
          ]
        },
        {
          "name": "stdout",
          "output_type": "stream",
          "text": [
            "Train Loss - MOSEAS Regression:  0.3579\n",
            "Test Loss - MOSEAS Regression:  0.4302\n",
            "Train MAE - MOSEAS Regression:  0.4586\n",
            "Test MAE - MOSEAS Regression:  0.5039\n",
            "Train Pearson - MOSEAS Regression:  0.5076\n",
            "Test Pearson - MOSEAS Regression:  0.3505\n"
          ]
        },
        {
          "name": "stderr",
          "output_type": "stream",
          "text": [
            "\rMOSEAS Regression:  42%|████▏     | 104/250 [32:52<46:35, 19.15s/it]"
          ]
        },
        {
          "name": "stdout",
          "output_type": "stream",
          "text": [
            "Train Loss - MOSEAS Regression:  0.3593\n",
            "Test Loss - MOSEAS Regression:  0.4297\n",
            "Train MAE - MOSEAS Regression:  0.4593\n",
            "Test MAE - MOSEAS Regression:  0.5048\n",
            "Train Pearson - MOSEAS Regression:  0.5043\n",
            "Test Pearson - MOSEAS Regression:  0.3511\n"
          ]
        },
        {
          "name": "stderr",
          "output_type": "stream",
          "text": [
            "\rMOSEAS Regression:  42%|████▏     | 105/250 [33:11<46:27, 19.23s/it]"
          ]
        },
        {
          "name": "stdout",
          "output_type": "stream",
          "text": [
            "Train Loss - MOSEAS Regression:  0.3509\n",
            "Test Loss - MOSEAS Regression:  0.428\n",
            "Train MAE - MOSEAS Regression:  0.4537\n",
            "Test MAE - MOSEAS Regression:  0.5026\n",
            "Train Pearson - MOSEAS Regression:  0.5217\n",
            "Test Pearson - MOSEAS Regression:  0.3538\n",
            "saving checkpoint for epoch 104\n"
          ]
        },
        {
          "name": "stderr",
          "output_type": "stream",
          "text": [
            "\rMOSEAS Regression:  42%|████▏     | 106/250 [33:30<45:48, 19.09s/it]"
          ]
        },
        {
          "name": "stdout",
          "output_type": "stream",
          "text": [
            "Train Loss - MOSEAS Regression:  0.3513\n",
            "Test Loss - MOSEAS Regression:  0.4286\n",
            "Train MAE - MOSEAS Regression:  0.4542\n",
            "Test MAE - MOSEAS Regression:  0.5046\n",
            "Train Pearson - MOSEAS Regression:  0.521\n",
            "Test Pearson - MOSEAS Regression:  0.3535\n"
          ]
        },
        {
          "name": "stderr",
          "output_type": "stream",
          "text": [
            "\rMOSEAS Regression:  43%|████▎     | 107/250 [33:49<45:14, 18.98s/it]"
          ]
        },
        {
          "name": "stdout",
          "output_type": "stream",
          "text": [
            "Train Loss - MOSEAS Regression:  0.3525\n",
            "Test Loss - MOSEAS Regression:  0.4284\n",
            "Train MAE - MOSEAS Regression:  0.4544\n",
            "Test MAE - MOSEAS Regression:  0.5027\n",
            "Train Pearson - MOSEAS Regression:  0.5183\n",
            "Test Pearson - MOSEAS Regression:  0.3559\n"
          ]
        },
        {
          "name": "stderr",
          "output_type": "stream",
          "text": [
            "\rMOSEAS Regression:  43%|████▎     | 108/250 [34:06<43:47, 18.51s/it]"
          ]
        },
        {
          "name": "stdout",
          "output_type": "stream",
          "text": [
            "Train Loss - MOSEAS Regression:  0.3485\n",
            "Test Loss - MOSEAS Regression:  0.431\n",
            "Train MAE - MOSEAS Regression:  0.4514\n",
            "Test MAE - MOSEAS Regression:  0.5071\n",
            "Train Pearson - MOSEAS Regression:  0.5262\n",
            "Test Pearson - MOSEAS Regression:  0.3531\n"
          ]
        },
        {
          "name": "stderr",
          "output_type": "stream",
          "text": [
            "\rMOSEAS Regression:  44%|████▎     | 109/250 [34:26<44:32, 18.96s/it]"
          ]
        },
        {
          "name": "stdout",
          "output_type": "stream",
          "text": [
            "Train Loss - MOSEAS Regression:  0.3533\n",
            "Test Loss - MOSEAS Regression:  0.4276\n",
            "Train MAE - MOSEAS Regression:  0.4558\n",
            "Test MAE - MOSEAS Regression:  0.5025\n",
            "Train Pearson - MOSEAS Regression:  0.5163\n",
            "Test Pearson - MOSEAS Regression:  0.3558\n",
            "saving checkpoint for epoch 108\n"
          ]
        },
        {
          "name": "stderr",
          "output_type": "stream",
          "text": [
            "\rMOSEAS Regression:  44%|████▍     | 110/250 [34:46<44:42, 19.16s/it]"
          ]
        },
        {
          "name": "stdout",
          "output_type": "stream",
          "text": [
            "Train Loss - MOSEAS Regression:  0.3514\n",
            "Test Loss - MOSEAS Regression:  0.4281\n",
            "Train MAE - MOSEAS Regression:  0.4559\n",
            "Test MAE - MOSEAS Regression:  0.504\n",
            "Train Pearson - MOSEAS Regression:  0.5204\n",
            "Test Pearson - MOSEAS Regression:  0.3554\n"
          ]
        },
        {
          "name": "stderr",
          "output_type": "stream",
          "text": [
            "\rMOSEAS Regression:  44%|████▍     | 111/250 [35:05<44:28, 19.20s/it]"
          ]
        },
        {
          "name": "stdout",
          "output_type": "stream",
          "text": [
            "Train Loss - MOSEAS Regression:  0.3466\n",
            "Test Loss - MOSEAS Regression:  0.4284\n",
            "Train MAE - MOSEAS Regression:  0.4501\n",
            "Test MAE - MOSEAS Regression:  0.5042\n",
            "Train Pearson - MOSEAS Regression:  0.5299\n",
            "Test Pearson - MOSEAS Regression:  0.3559\n"
          ]
        },
        {
          "name": "stderr",
          "output_type": "stream",
          "text": [
            "\rMOSEAS Regression:  45%|████▍     | 112/250 [35:25<44:32, 19.37s/it]"
          ]
        },
        {
          "name": "stdout",
          "output_type": "stream",
          "text": [
            "Train Loss - MOSEAS Regression:  0.348\n",
            "Test Loss - MOSEAS Regression:  0.4289\n",
            "Train MAE - MOSEAS Regression:  0.4535\n",
            "Test MAE - MOSEAS Regression:  0.5025\n",
            "Train Pearson - MOSEAS Regression:  0.5278\n",
            "Test Pearson - MOSEAS Regression:  0.358\n"
          ]
        },
        {
          "name": "stderr",
          "output_type": "stream",
          "text": [
            "\rMOSEAS Regression:  45%|████▌     | 113/250 [35:44<44:11, 19.35s/it]"
          ]
        },
        {
          "name": "stdout",
          "output_type": "stream",
          "text": [
            "Train Loss - MOSEAS Regression:  0.3506\n",
            "Test Loss - MOSEAS Regression:  0.4359\n",
            "Train MAE - MOSEAS Regression:  0.4532\n",
            "Test MAE - MOSEAS Regression:  0.511\n",
            "Train Pearson - MOSEAS Regression:  0.5245\n",
            "Test Pearson - MOSEAS Regression:  0.3512\n"
          ]
        },
        {
          "name": "stderr",
          "output_type": "stream",
          "text": [
            "\rMOSEAS Regression:  46%|████▌     | 114/250 [36:03<43:36, 19.24s/it]"
          ]
        },
        {
          "name": "stdout",
          "output_type": "stream",
          "text": [
            "Train Loss - MOSEAS Regression:  0.3529\n",
            "Test Loss - MOSEAS Regression:  0.4292\n",
            "Train MAE - MOSEAS Regression:  0.4565\n",
            "Test MAE - MOSEAS Regression:  0.5023\n",
            "Train Pearson - MOSEAS Regression:  0.5181\n",
            "Test Pearson - MOSEAS Regression:  0.3602\n"
          ]
        },
        {
          "name": "stderr",
          "output_type": "stream",
          "text": [
            "\rMOSEAS Regression:  46%|████▌     | 115/250 [36:21<42:23, 18.84s/it]"
          ]
        },
        {
          "name": "stdout",
          "output_type": "stream",
          "text": [
            "Train Loss - MOSEAS Regression:  0.3523\n",
            "Test Loss - MOSEAS Regression:  0.43\n",
            "Train MAE - MOSEAS Regression:  0.4561\n",
            "Test MAE - MOSEAS Regression:  0.5058\n",
            "Train Pearson - MOSEAS Regression:  0.5186\n",
            "Test Pearson - MOSEAS Regression:  0.3574\n"
          ]
        },
        {
          "name": "stderr",
          "output_type": "stream",
          "text": [
            "\rMOSEAS Regression:  46%|████▋     | 116/250 [36:39<41:40, 18.66s/it]"
          ]
        },
        {
          "name": "stdout",
          "output_type": "stream",
          "text": [
            "Train Loss - MOSEAS Regression:  0.348\n",
            "Test Loss - MOSEAS Regression:  0.4254\n",
            "Train MAE - MOSEAS Regression:  0.4518\n",
            "Test MAE - MOSEAS Regression:  0.5025\n",
            "Train Pearson - MOSEAS Regression:  0.5275\n",
            "Test Pearson - MOSEAS Regression:  0.3602\n",
            "saving checkpoint for epoch 115\n"
          ]
        },
        {
          "name": "stderr",
          "output_type": "stream",
          "text": [
            "\rMOSEAS Regression:  47%|████▋     | 117/250 [36:59<42:01, 18.96s/it]"
          ]
        },
        {
          "name": "stdout",
          "output_type": "stream",
          "text": [
            "Train Loss - MOSEAS Regression:  0.3477\n",
            "Test Loss - MOSEAS Regression:  0.4227\n",
            "Train MAE - MOSEAS Regression:  0.4513\n",
            "Test MAE - MOSEAS Regression:  0.4996\n",
            "Train Pearson - MOSEAS Regression:  0.5294\n",
            "Test Pearson - MOSEAS Regression:  0.363\n",
            "saving checkpoint for epoch 116\n"
          ]
        },
        {
          "name": "stderr",
          "output_type": "stream",
          "text": [
            "\rMOSEAS Regression:  47%|████▋     | 118/250 [37:16<40:23, 18.36s/it]"
          ]
        },
        {
          "name": "stdout",
          "output_type": "stream",
          "text": [
            "Train Loss - MOSEAS Regression:  0.3479\n",
            "Test Loss - MOSEAS Regression:  0.4303\n",
            "Train MAE - MOSEAS Regression:  0.4512\n",
            "Test MAE - MOSEAS Regression:  0.5072\n",
            "Train Pearson - MOSEAS Regression:  0.5298\n",
            "Test Pearson - MOSEAS Regression:  0.3566\n"
          ]
        },
        {
          "name": "stderr",
          "output_type": "stream",
          "text": [
            "\rMOSEAS Regression:  48%|████▊     | 119/250 [37:34<40:08, 18.38s/it]"
          ]
        },
        {
          "name": "stdout",
          "output_type": "stream",
          "text": [
            "Train Loss - MOSEAS Regression:  0.3476\n",
            "Test Loss - MOSEAS Regression:  0.4276\n",
            "Train MAE - MOSEAS Regression:  0.4526\n",
            "Test MAE - MOSEAS Regression:  0.5015\n",
            "Train Pearson - MOSEAS Regression:  0.5294\n",
            "Test Pearson - MOSEAS Regression:  0.3612\n"
          ]
        },
        {
          "name": "stderr",
          "output_type": "stream",
          "text": [
            "\rMOSEAS Regression:  48%|████▊     | 120/250 [37:52<39:15, 18.12s/it]"
          ]
        },
        {
          "name": "stdout",
          "output_type": "stream",
          "text": [
            "Train Loss - MOSEAS Regression:  0.3492\n",
            "Test Loss - MOSEAS Regression:  0.4272\n",
            "Train MAE - MOSEAS Regression:  0.4528\n",
            "Test MAE - MOSEAS Regression:  0.504\n",
            "Train Pearson - MOSEAS Regression:  0.5246\n",
            "Test Pearson - MOSEAS Regression:  0.3607\n"
          ]
        },
        {
          "name": "stderr",
          "output_type": "stream",
          "text": [
            "\rMOSEAS Regression:  48%|████▊     | 121/250 [38:12<40:13, 18.71s/it]"
          ]
        },
        {
          "name": "stdout",
          "output_type": "stream",
          "text": [
            "Train Loss - MOSEAS Regression:  0.3452\n",
            "Test Loss - MOSEAS Regression:  0.4229\n",
            "Train MAE - MOSEAS Regression:  0.4502\n",
            "Test MAE - MOSEAS Regression:  0.4994\n",
            "Train Pearson - MOSEAS Regression:  0.5327\n",
            "Test Pearson - MOSEAS Regression:  0.3636\n"
          ]
        },
        {
          "name": "stderr",
          "output_type": "stream",
          "text": [
            "\rMOSEAS Regression:  49%|████▉     | 122/250 [38:32<40:42, 19.08s/it]"
          ]
        },
        {
          "name": "stdout",
          "output_type": "stream",
          "text": [
            "Train Loss - MOSEAS Regression:  0.3429\n",
            "Test Loss - MOSEAS Regression:  0.4249\n",
            "Train MAE - MOSEAS Regression:  0.4483\n",
            "Test MAE - MOSEAS Regression:  0.5024\n",
            "Train Pearson - MOSEAS Regression:  0.5375\n",
            "Test Pearson - MOSEAS Regression:  0.3611\n"
          ]
        },
        {
          "name": "stderr",
          "output_type": "stream",
          "text": [
            "\rMOSEAS Regression:  49%|████▉     | 123/250 [38:52<40:50, 19.30s/it]"
          ]
        },
        {
          "name": "stdout",
          "output_type": "stream",
          "text": [
            "Train Loss - MOSEAS Regression:  0.3445\n",
            "Test Loss - MOSEAS Regression:  0.4245\n",
            "Train MAE - MOSEAS Regression:  0.4485\n",
            "Test MAE - MOSEAS Regression:  0.4994\n",
            "Train Pearson - MOSEAS Regression:  0.5339\n",
            "Test Pearson - MOSEAS Regression:  0.3651\n"
          ]
        },
        {
          "name": "stderr",
          "output_type": "stream",
          "text": [
            "\rMOSEAS Regression:  50%|████▉     | 124/250 [39:11<40:31, 19.30s/it]"
          ]
        },
        {
          "name": "stdout",
          "output_type": "stream",
          "text": [
            "Train Loss - MOSEAS Regression:  0.3426\n",
            "Test Loss - MOSEAS Regression:  0.4257\n",
            "Train MAE - MOSEAS Regression:  0.4492\n",
            "Test MAE - MOSEAS Regression:  0.5016\n",
            "Train Pearson - MOSEAS Regression:  0.5377\n",
            "Test Pearson - MOSEAS Regression:  0.3631\n"
          ]
        },
        {
          "name": "stderr",
          "output_type": "stream",
          "text": [
            "\rMOSEAS Regression:  50%|█████     | 125/250 [39:30<40:00, 19.20s/it]"
          ]
        },
        {
          "name": "stdout",
          "output_type": "stream",
          "text": [
            "Train Loss - MOSEAS Regression:  0.3375\n",
            "Test Loss - MOSEAS Regression:  0.4257\n",
            "Train MAE - MOSEAS Regression:  0.4446\n",
            "Test MAE - MOSEAS Regression:  0.5025\n",
            "Train Pearson - MOSEAS Regression:  0.5479\n",
            "Test Pearson - MOSEAS Regression:  0.3625\n"
          ]
        },
        {
          "name": "stderr",
          "output_type": "stream",
          "text": [
            "\rMOSEAS Regression:  50%|█████     | 126/250 [39:48<38:54, 18.83s/it]"
          ]
        },
        {
          "name": "stdout",
          "output_type": "stream",
          "text": [
            "Train Loss - MOSEAS Regression:  0.343\n",
            "Test Loss - MOSEAS Regression:  0.4255\n",
            "Train MAE - MOSEAS Regression:  0.4499\n",
            "Test MAE - MOSEAS Regression:  0.5003\n",
            "Train Pearson - MOSEAS Regression:  0.5369\n",
            "Test Pearson - MOSEAS Regression:  0.3651\n"
          ]
        },
        {
          "name": "stderr",
          "output_type": "stream",
          "text": [
            "\rMOSEAS Regression:  51%|█████     | 127/250 [40:07<38:48, 18.93s/it]"
          ]
        },
        {
          "name": "stdout",
          "output_type": "stream",
          "text": [
            "Train Loss - MOSEAS Regression:  0.3386\n",
            "Test Loss - MOSEAS Regression:  0.4252\n",
            "Train MAE - MOSEAS Regression:  0.4448\n",
            "Test MAE - MOSEAS Regression:  0.5028\n",
            "Train Pearson - MOSEAS Regression:  0.5456\n",
            "Test Pearson - MOSEAS Regression:  0.3633\n"
          ]
        },
        {
          "name": "stderr",
          "output_type": "stream",
          "text": [
            "\rMOSEAS Regression:  51%|█████     | 128/250 [40:28<39:22, 19.36s/it]"
          ]
        },
        {
          "name": "stdout",
          "output_type": "stream",
          "text": [
            "Train Loss - MOSEAS Regression:  0.3398\n",
            "Test Loss - MOSEAS Regression:  0.4234\n",
            "Train MAE - MOSEAS Regression:  0.4469\n",
            "Test MAE - MOSEAS Regression:  0.5009\n",
            "Train Pearson - MOSEAS Regression:  0.5431\n",
            "Test Pearson - MOSEAS Regression:  0.3659\n"
          ]
        },
        {
          "name": "stderr",
          "output_type": "stream",
          "text": [
            "\rMOSEAS Regression:  52%|█████▏    | 129/250 [40:46<38:18, 19.00s/it]"
          ]
        },
        {
          "name": "stdout",
          "output_type": "stream",
          "text": [
            "Train Loss - MOSEAS Regression:  0.3408\n",
            "Test Loss - MOSEAS Regression:  0.4243\n",
            "Train MAE - MOSEAS Regression:  0.4475\n",
            "Test MAE - MOSEAS Regression:  0.5012\n",
            "Train Pearson - MOSEAS Regression:  0.5411\n",
            "Test Pearson - MOSEAS Regression:  0.3662\n"
          ]
        },
        {
          "name": "stderr",
          "output_type": "stream",
          "text": [
            "\rMOSEAS Regression:  52%|█████▏    | 130/250 [41:04<37:42, 18.85s/it]"
          ]
        },
        {
          "name": "stdout",
          "output_type": "stream",
          "text": [
            "Train Loss - MOSEAS Regression:  0.34\n",
            "Test Loss - MOSEAS Regression:  0.4258\n",
            "Train MAE - MOSEAS Regression:  0.4483\n",
            "Test MAE - MOSEAS Regression:  0.5039\n",
            "Train Pearson - MOSEAS Regression:  0.5427\n",
            "Test Pearson - MOSEAS Regression:  0.3661\n"
          ]
        },
        {
          "name": "stderr",
          "output_type": "stream",
          "text": [
            "\rMOSEAS Regression:  52%|█████▏    | 131/250 [41:24<37:51, 19.09s/it]"
          ]
        },
        {
          "name": "stdout",
          "output_type": "stream",
          "text": [
            "Train Loss - MOSEAS Regression:  0.3392\n",
            "Test Loss - MOSEAS Regression:  0.4213\n",
            "Train MAE - MOSEAS Regression:  0.4462\n",
            "Test MAE - MOSEAS Regression:  0.4989\n",
            "Train Pearson - MOSEAS Regression:  0.5445\n",
            "Test Pearson - MOSEAS Regression:  0.3693\n",
            "saving checkpoint for epoch 130\n"
          ]
        },
        {
          "name": "stderr",
          "output_type": "stream",
          "text": [
            "\rMOSEAS Regression:  53%|█████▎    | 132/250 [41:44<38:15, 19.46s/it]"
          ]
        },
        {
          "name": "stdout",
          "output_type": "stream",
          "text": [
            "Train Loss - MOSEAS Regression:  0.3371\n",
            "Test Loss - MOSEAS Regression:  0.4232\n",
            "Train MAE - MOSEAS Regression:  0.4442\n",
            "Test MAE - MOSEAS Regression:  0.4994\n",
            "Train Pearson - MOSEAS Regression:  0.5482\n",
            "Test Pearson - MOSEAS Regression:  0.3693\n"
          ]
        },
        {
          "name": "stderr",
          "output_type": "stream",
          "text": [
            "\rMOSEAS Regression:  53%|█████▎    | 133/250 [42:04<38:22, 19.68s/it]"
          ]
        },
        {
          "name": "stdout",
          "output_type": "stream",
          "text": [
            "Train Loss - MOSEAS Regression:  0.3358\n",
            "Test Loss - MOSEAS Regression:  0.4246\n",
            "Train MAE - MOSEAS Regression:  0.4433\n",
            "Test MAE - MOSEAS Regression:  0.5024\n",
            "Train Pearson - MOSEAS Regression:  0.5511\n",
            "Test Pearson - MOSEAS Regression:  0.3679\n"
          ]
        },
        {
          "name": "stderr",
          "output_type": "stream",
          "text": [
            "\rMOSEAS Regression:  54%|█████▎    | 134/250 [42:23<37:14, 19.26s/it]"
          ]
        },
        {
          "name": "stdout",
          "output_type": "stream",
          "text": [
            "Train Loss - MOSEAS Regression:  0.3335\n",
            "Test Loss - MOSEAS Regression:  0.4235\n",
            "Train MAE - MOSEAS Regression:  0.4439\n",
            "Test MAE - MOSEAS Regression:  0.4995\n",
            "Train Pearson - MOSEAS Regression:  0.5552\n",
            "Test Pearson - MOSEAS Regression:  0.3706\n"
          ]
        },
        {
          "name": "stderr",
          "output_type": "stream",
          "text": [
            "\rMOSEAS Regression:  54%|█████▍    | 135/250 [42:40<36:00, 18.79s/it]"
          ]
        },
        {
          "name": "stdout",
          "output_type": "stream",
          "text": [
            "Train Loss - MOSEAS Regression:  0.3372\n",
            "Test Loss - MOSEAS Regression:  0.4225\n",
            "Train MAE - MOSEAS Regression:  0.4471\n",
            "Test MAE - MOSEAS Regression:  0.4997\n",
            "Train Pearson - MOSEAS Regression:  0.5484\n",
            "Test Pearson - MOSEAS Regression:  0.3718\n"
          ]
        },
        {
          "name": "stderr",
          "output_type": "stream",
          "text": [
            "\rMOSEAS Regression:  54%|█████▍    | 136/250 [42:59<35:50, 18.86s/it]"
          ]
        },
        {
          "name": "stdout",
          "output_type": "stream",
          "text": [
            "Train Loss - MOSEAS Regression:  0.3384\n",
            "Test Loss - MOSEAS Regression:  0.4221\n",
            "Train MAE - MOSEAS Regression:  0.445\n",
            "Test MAE - MOSEAS Regression:  0.5004\n",
            "Train Pearson - MOSEAS Regression:  0.5471\n",
            "Test Pearson - MOSEAS Regression:  0.3722\n"
          ]
        },
        {
          "name": "stderr",
          "output_type": "stream",
          "text": [
            "\rMOSEAS Regression:  55%|█████▍    | 137/250 [43:19<35:48, 19.01s/it]"
          ]
        },
        {
          "name": "stdout",
          "output_type": "stream",
          "text": [
            "Train Loss - MOSEAS Regression:  0.3386\n",
            "Test Loss - MOSEAS Regression:  0.4245\n",
            "Train MAE - MOSEAS Regression:  0.446\n",
            "Test MAE - MOSEAS Regression:  0.4989\n",
            "Train Pearson - MOSEAS Regression:  0.5476\n",
            "Test Pearson - MOSEAS Regression:  0.3748\n"
          ]
        },
        {
          "name": "stderr",
          "output_type": "stream",
          "text": [
            "\rMOSEAS Regression:  55%|█████▌    | 138/250 [43:37<35:09, 18.84s/it]"
          ]
        },
        {
          "name": "stdout",
          "output_type": "stream",
          "text": [
            "Train Loss - MOSEAS Regression:  0.3374\n",
            "Test Loss - MOSEAS Regression:  0.4241\n",
            "Train MAE - MOSEAS Regression:  0.4446\n",
            "Test MAE - MOSEAS Regression:  0.5022\n",
            "Train Pearson - MOSEAS Regression:  0.5488\n",
            "Test Pearson - MOSEAS Regression:  0.3705\n"
          ]
        },
        {
          "name": "stderr",
          "output_type": "stream",
          "text": [
            "\rMOSEAS Regression:  56%|█████▌    | 139/250 [43:57<35:07, 18.98s/it]"
          ]
        },
        {
          "name": "stdout",
          "output_type": "stream",
          "text": [
            "Train Loss - MOSEAS Regression:  0.3382\n",
            "Test Loss - MOSEAS Regression:  0.422\n",
            "Train MAE - MOSEAS Regression:  0.448\n",
            "Test MAE - MOSEAS Regression:  0.5008\n",
            "Train Pearson - MOSEAS Regression:  0.5465\n",
            "Test Pearson - MOSEAS Regression:  0.371\n"
          ]
        },
        {
          "name": "stderr",
          "output_type": "stream",
          "text": [
            "\rMOSEAS Regression:  56%|█████▌    | 140/250 [44:16<35:14, 19.22s/it]"
          ]
        },
        {
          "name": "stdout",
          "output_type": "stream",
          "text": [
            "Train Loss - MOSEAS Regression:  0.3337\n",
            "Test Loss - MOSEAS Regression:  0.4199\n",
            "Train MAE - MOSEAS Regression:  0.4425\n",
            "Test MAE - MOSEAS Regression:  0.4985\n",
            "Train Pearson - MOSEAS Regression:  0.5554\n",
            "Test Pearson - MOSEAS Regression:  0.3722\n",
            "saving checkpoint for epoch 139\n"
          ]
        },
        {
          "name": "stderr",
          "output_type": "stream",
          "text": [
            "\rMOSEAS Regression:  56%|█████▋    | 141/250 [44:36<35:18, 19.44s/it]"
          ]
        },
        {
          "name": "stdout",
          "output_type": "stream",
          "text": [
            "Train Loss - MOSEAS Regression:  0.3335\n",
            "Test Loss - MOSEAS Regression:  0.42\n",
            "Train MAE - MOSEAS Regression:  0.444\n",
            "Test MAE - MOSEAS Regression:  0.4982\n",
            "Train Pearson - MOSEAS Regression:  0.5551\n",
            "Test Pearson - MOSEAS Regression:  0.3715\n"
          ]
        },
        {
          "name": "stderr",
          "output_type": "stream",
          "text": [
            "\rMOSEAS Regression:  57%|█████▋    | 142/250 [44:55<34:48, 19.33s/it]"
          ]
        },
        {
          "name": "stdout",
          "output_type": "stream",
          "text": [
            "Train Loss - MOSEAS Regression:  0.3317\n",
            "Test Loss - MOSEAS Regression:  0.4229\n",
            "Train MAE - MOSEAS Regression:  0.4399\n",
            "Test MAE - MOSEAS Regression:  0.5013\n",
            "Train Pearson - MOSEAS Regression:  0.559\n",
            "Test Pearson - MOSEAS Regression:  0.3698\n"
          ]
        },
        {
          "name": "stderr",
          "output_type": "stream",
          "text": [
            "\rMOSEAS Regression:  57%|█████▋    | 143/250 [45:13<33:43, 18.91s/it]"
          ]
        },
        {
          "name": "stdout",
          "output_type": "stream",
          "text": [
            "Train Loss - MOSEAS Regression:  0.3323\n",
            "Test Loss - MOSEAS Regression:  0.4222\n",
            "Train MAE - MOSEAS Regression:  0.4431\n",
            "Test MAE - MOSEAS Regression:  0.499\n",
            "Train Pearson - MOSEAS Regression:  0.5574\n",
            "Test Pearson - MOSEAS Regression:  0.3713\n"
          ]
        },
        {
          "name": "stderr",
          "output_type": "stream",
          "text": [
            "\rMOSEAS Regression:  58%|█████▊    | 144/250 [45:33<33:40, 19.06s/it]"
          ]
        },
        {
          "name": "stdout",
          "output_type": "stream",
          "text": [
            "Train Loss - MOSEAS Regression:  0.3339\n",
            "Test Loss - MOSEAS Regression:  0.4209\n",
            "Train MAE - MOSEAS Regression:  0.4434\n",
            "Test MAE - MOSEAS Regression:  0.4985\n",
            "Train Pearson - MOSEAS Regression:  0.5548\n",
            "Test Pearson - MOSEAS Regression:  0.373\n"
          ]
        },
        {
          "name": "stderr",
          "output_type": "stream",
          "text": [
            "\rMOSEAS Regression:  58%|█████▊    | 145/250 [45:51<33:04, 18.90s/it]"
          ]
        },
        {
          "name": "stdout",
          "output_type": "stream",
          "text": [
            "Train Loss - MOSEAS Regression:  0.3299\n",
            "Test Loss - MOSEAS Regression:  0.4224\n",
            "Train MAE - MOSEAS Regression:  0.4395\n",
            "Test MAE - MOSEAS Regression:  0.5016\n",
            "Train Pearson - MOSEAS Regression:  0.5622\n",
            "Test Pearson - MOSEAS Regression:  0.3706\n"
          ]
        },
        {
          "name": "stderr",
          "output_type": "stream",
          "text": [
            "\rMOSEAS Regression:  58%|█████▊    | 146/250 [46:10<32:35, 18.80s/it]"
          ]
        },
        {
          "name": "stdout",
          "output_type": "stream",
          "text": [
            "Train Loss - MOSEAS Regression:  0.3305\n",
            "Test Loss - MOSEAS Regression:  0.4208\n",
            "Train MAE - MOSEAS Regression:  0.4406\n",
            "Test MAE - MOSEAS Regression:  0.4986\n",
            "Train Pearson - MOSEAS Regression:  0.561\n",
            "Test Pearson - MOSEAS Regression:  0.3724\n"
          ]
        },
        {
          "name": "stderr",
          "output_type": "stream",
          "text": [
            "\rMOSEAS Regression:  59%|█████▉    | 147/250 [46:28<32:13, 18.77s/it]"
          ]
        },
        {
          "name": "stdout",
          "output_type": "stream",
          "text": [
            "Train Loss - MOSEAS Regression:  0.3294\n",
            "Test Loss - MOSEAS Regression:  0.4235\n",
            "Train MAE - MOSEAS Regression:  0.4417\n",
            "Test MAE - MOSEAS Regression:  0.5019\n",
            "Train Pearson - MOSEAS Regression:  0.5625\n",
            "Test Pearson - MOSEAS Regression:  0.3696\n"
          ]
        },
        {
          "name": "stderr",
          "output_type": "stream",
          "text": [
            "\rMOSEAS Regression:  59%|█████▉    | 148/250 [46:47<31:41, 18.64s/it]"
          ]
        },
        {
          "name": "stdout",
          "output_type": "stream",
          "text": [
            "Train Loss - MOSEAS Regression:  0.3299\n",
            "Test Loss - MOSEAS Regression:  0.425\n",
            "Train MAE - MOSEAS Regression:  0.4405\n",
            "Test MAE - MOSEAS Regression:  0.5029\n",
            "Train Pearson - MOSEAS Regression:  0.5618\n",
            "Test Pearson - MOSEAS Regression:  0.3679\n"
          ]
        },
        {
          "name": "stderr",
          "output_type": "stream",
          "text": [
            "\rMOSEAS Regression:  60%|█████▉    | 149/250 [47:06<31:47, 18.89s/it]"
          ]
        },
        {
          "name": "stdout",
          "output_type": "stream",
          "text": [
            "Train Loss - MOSEAS Regression:  0.3274\n",
            "Test Loss - MOSEAS Regression:  0.4228\n",
            "Train MAE - MOSEAS Regression:  0.4388\n",
            "Test MAE - MOSEAS Regression:  0.4992\n",
            "Train Pearson - MOSEAS Regression:  0.5672\n",
            "Test Pearson - MOSEAS Regression:  0.3714\n"
          ]
        },
        {
          "name": "stderr",
          "output_type": "stream",
          "text": [
            "\rMOSEAS Regression:  60%|██████    | 150/250 [47:25<31:30, 18.91s/it]"
          ]
        },
        {
          "name": "stdout",
          "output_type": "stream",
          "text": [
            "Train Loss - MOSEAS Regression:  0.3277\n",
            "Test Loss - MOSEAS Regression:  0.424\n",
            "Train MAE - MOSEAS Regression:  0.4394\n",
            "Test MAE - MOSEAS Regression:  0.5027\n",
            "Train Pearson - MOSEAS Regression:  0.5665\n",
            "Test Pearson - MOSEAS Regression:  0.3692\n"
          ]
        },
        {
          "name": "stderr",
          "output_type": "stream",
          "text": [
            "\rMOSEAS Regression:  60%|██████    | 151/250 [47:45<31:35, 19.14s/it]"
          ]
        },
        {
          "name": "stdout",
          "output_type": "stream",
          "text": [
            "Train Loss - MOSEAS Regression:  0.3276\n",
            "Test Loss - MOSEAS Regression:  0.4251\n",
            "Train MAE - MOSEAS Regression:  0.4402\n",
            "Test MAE - MOSEAS Regression:  0.5032\n",
            "Train Pearson - MOSEAS Regression:  0.5663\n",
            "Test Pearson - MOSEAS Regression:  0.3706\n"
          ]
        },
        {
          "name": "stderr",
          "output_type": "stream",
          "text": [
            "\rMOSEAS Regression:  61%|██████    | 152/250 [48:04<31:01, 18.99s/it]"
          ]
        },
        {
          "name": "stdout",
          "output_type": "stream",
          "text": [
            "Train Loss - MOSEAS Regression:  0.3283\n",
            "Test Loss - MOSEAS Regression:  0.4225\n",
            "Train MAE - MOSEAS Regression:  0.4402\n",
            "Test MAE - MOSEAS Regression:  0.4995\n",
            "Train Pearson - MOSEAS Regression:  0.5661\n",
            "Test Pearson - MOSEAS Regression:  0.3734\n"
          ]
        },
        {
          "name": "stderr",
          "output_type": "stream",
          "text": [
            "\rMOSEAS Regression:  61%|██████    | 153/250 [48:23<30:45, 19.03s/it]"
          ]
        },
        {
          "name": "stdout",
          "output_type": "stream",
          "text": [
            "Train Loss - MOSEAS Regression:  0.3276\n",
            "Test Loss - MOSEAS Regression:  0.4246\n",
            "Train MAE - MOSEAS Regression:  0.4388\n",
            "Test MAE - MOSEAS Regression:  0.5034\n",
            "Train Pearson - MOSEAS Regression:  0.5664\n",
            "Test Pearson - MOSEAS Regression:  0.3699\n"
          ]
        },
        {
          "name": "stderr",
          "output_type": "stream",
          "text": [
            "\rMOSEAS Regression:  62%|██████▏   | 154/250 [48:42<30:48, 19.25s/it]"
          ]
        },
        {
          "name": "stdout",
          "output_type": "stream",
          "text": [
            "Train Loss - MOSEAS Regression:  0.3302\n",
            "Test Loss - MOSEAS Regression:  0.4225\n",
            "Train MAE - MOSEAS Regression:  0.4421\n",
            "Test MAE - MOSEAS Regression:  0.5013\n",
            "Train Pearson - MOSEAS Regression:  0.561\n",
            "Test Pearson - MOSEAS Regression:  0.3734\n"
          ]
        },
        {
          "name": "stderr",
          "output_type": "stream",
          "text": [
            "\rMOSEAS Regression:  62%|██████▏   | 155/250 [49:02<30:47, 19.45s/it]"
          ]
        },
        {
          "name": "stdout",
          "output_type": "stream",
          "text": [
            "Train Loss - MOSEAS Regression:  0.323\n",
            "Test Loss - MOSEAS Regression:  0.4228\n",
            "Train MAE - MOSEAS Regression:  0.4373\n",
            "Test MAE - MOSEAS Regression:  0.4998\n",
            "Train Pearson - MOSEAS Regression:  0.5764\n",
            "Test Pearson - MOSEAS Regression:  0.3749\n"
          ]
        },
        {
          "name": "stderr",
          "output_type": "stream",
          "text": [
            "\rMOSEAS Regression:  62%|██████▏   | 156/250 [49:21<30:07, 19.23s/it]"
          ]
        },
        {
          "name": "stdout",
          "output_type": "stream",
          "text": [
            "Train Loss - MOSEAS Regression:  0.3225\n",
            "Test Loss - MOSEAS Regression:  0.4226\n",
            "Train MAE - MOSEAS Regression:  0.4346\n",
            "Test MAE - MOSEAS Regression:  0.5019\n",
            "Train Pearson - MOSEAS Regression:  0.5753\n",
            "Test Pearson - MOSEAS Regression:  0.3749\n"
          ]
        },
        {
          "name": "stderr",
          "output_type": "stream",
          "text": [
            "\rMOSEAS Regression:  63%|██████▎   | 157/250 [49:39<29:05, 18.77s/it]"
          ]
        },
        {
          "name": "stdout",
          "output_type": "stream",
          "text": [
            "Train Loss - MOSEAS Regression:  0.3255\n",
            "Test Loss - MOSEAS Regression:  0.4193\n",
            "Train MAE - MOSEAS Regression:  0.4377\n",
            "Test MAE - MOSEAS Regression:  0.4984\n",
            "Train Pearson - MOSEAS Regression:  0.5698\n",
            "Test Pearson - MOSEAS Regression:  0.3766\n",
            "saving checkpoint for epoch 156\n"
          ]
        },
        {
          "name": "stderr",
          "output_type": "stream",
          "text": [
            "\rMOSEAS Regression:  63%|██████▎   | 158/250 [49:56<27:51, 18.17s/it]"
          ]
        },
        {
          "name": "stdout",
          "output_type": "stream",
          "text": [
            "Train Loss - MOSEAS Regression:  0.3228\n",
            "Test Loss - MOSEAS Regression:  0.4189\n",
            "Train MAE - MOSEAS Regression:  0.4361\n",
            "Test MAE - MOSEAS Regression:  0.4976\n",
            "Train Pearson - MOSEAS Regression:  0.5753\n",
            "Test Pearson - MOSEAS Regression:  0.3787\n",
            "saving checkpoint for epoch 157\n"
          ]
        },
        {
          "name": "stderr",
          "output_type": "stream",
          "text": [
            "\rMOSEAS Regression:  64%|██████▎   | 159/250 [50:13<27:20, 18.03s/it]"
          ]
        },
        {
          "name": "stdout",
          "output_type": "stream",
          "text": [
            "Train Loss - MOSEAS Regression:  0.319\n",
            "Test Loss - MOSEAS Regression:  0.4234\n",
            "Train MAE - MOSEAS Regression:  0.4315\n",
            "Test MAE - MOSEAS Regression:  0.5028\n",
            "Train Pearson - MOSEAS Regression:  0.5826\n",
            "Test Pearson - MOSEAS Regression:  0.3766\n"
          ]
        },
        {
          "name": "stderr",
          "output_type": "stream",
          "text": [
            "\rMOSEAS Regression:  64%|██████▍   | 160/250 [50:33<27:36, 18.41s/it]"
          ]
        },
        {
          "name": "stdout",
          "output_type": "stream",
          "text": [
            "Train Loss - MOSEAS Regression:  0.3211\n",
            "Test Loss - MOSEAS Regression:  0.4226\n",
            "Train MAE - MOSEAS Regression:  0.4343\n",
            "Test MAE - MOSEAS Regression:  0.499\n",
            "Train Pearson - MOSEAS Regression:  0.5785\n",
            "Test Pearson - MOSEAS Regression:  0.3786\n"
          ]
        },
        {
          "name": "stderr",
          "output_type": "stream",
          "text": [
            "\rMOSEAS Regression:  64%|██████▍   | 161/250 [50:51<27:19, 18.42s/it]"
          ]
        },
        {
          "name": "stdout",
          "output_type": "stream",
          "text": [
            "Train Loss - MOSEAS Regression:  0.3202\n",
            "Test Loss - MOSEAS Regression:  0.4268\n",
            "Train MAE - MOSEAS Regression:  0.4317\n",
            "Test MAE - MOSEAS Regression:  0.5063\n",
            "Train Pearson - MOSEAS Regression:  0.58\n",
            "Test Pearson - MOSEAS Regression:  0.3724\n"
          ]
        },
        {
          "name": "stderr",
          "output_type": "stream",
          "text": [
            "\rMOSEAS Regression:  65%|██████▍   | 162/250 [51:10<27:18, 18.62s/it]"
          ]
        },
        {
          "name": "stdout",
          "output_type": "stream",
          "text": [
            "Train Loss - MOSEAS Regression:  0.3201\n",
            "Test Loss - MOSEAS Regression:  0.4211\n",
            "Train MAE - MOSEAS Regression:  0.4331\n",
            "Test MAE - MOSEAS Regression:  0.499\n",
            "Train Pearson - MOSEAS Regression:  0.5796\n",
            "Test Pearson - MOSEAS Regression:  0.3764\n"
          ]
        },
        {
          "name": "stderr",
          "output_type": "stream",
          "text": [
            "\rMOSEAS Regression:  65%|██████▌   | 163/250 [51:28<26:52, 18.53s/it]"
          ]
        },
        {
          "name": "stdout",
          "output_type": "stream",
          "text": [
            "Train Loss - MOSEAS Regression:  0.323\n",
            "Test Loss - MOSEAS Regression:  0.4213\n",
            "Train MAE - MOSEAS Regression:  0.4376\n",
            "Test MAE - MOSEAS Regression:  0.4997\n",
            "Train Pearson - MOSEAS Regression:  0.5744\n",
            "Test Pearson - MOSEAS Regression:  0.376\n"
          ]
        },
        {
          "name": "stderr",
          "output_type": "stream",
          "text": [
            "\rMOSEAS Regression:  66%|██████▌   | 164/250 [51:47<26:33, 18.53s/it]"
          ]
        },
        {
          "name": "stdout",
          "output_type": "stream",
          "text": [
            "Train Loss - MOSEAS Regression:  0.3213\n",
            "Test Loss - MOSEAS Regression:  0.4243\n",
            "Train MAE - MOSEAS Regression:  0.4347\n",
            "Test MAE - MOSEAS Regression:  0.5035\n",
            "Train Pearson - MOSEAS Regression:  0.578\n",
            "Test Pearson - MOSEAS Regression:  0.3729\n"
          ]
        },
        {
          "name": "stderr",
          "output_type": "stream",
          "text": [
            "\rMOSEAS Regression:  66%|██████▌   | 165/250 [52:06<26:22, 18.62s/it]"
          ]
        },
        {
          "name": "stdout",
          "output_type": "stream",
          "text": [
            "Train Loss - MOSEAS Regression:  0.3187\n",
            "Test Loss - MOSEAS Regression:  0.4222\n",
            "Train MAE - MOSEAS Regression:  0.4351\n",
            "Test MAE - MOSEAS Regression:  0.4989\n",
            "Train Pearson - MOSEAS Regression:  0.5826\n",
            "Test Pearson - MOSEAS Regression:  0.3751\n"
          ]
        },
        {
          "name": "stderr",
          "output_type": "stream",
          "text": [
            "\rMOSEAS Regression:  66%|██████▋   | 166/250 [52:25<26:26, 18.89s/it]"
          ]
        },
        {
          "name": "stdout",
          "output_type": "stream",
          "text": [
            "Train Loss - MOSEAS Regression:  0.3188\n",
            "Test Loss - MOSEAS Regression:  0.4228\n",
            "Train MAE - MOSEAS Regression:  0.4341\n",
            "Test MAE - MOSEAS Regression:  0.5015\n",
            "Train Pearson - MOSEAS Regression:  0.582\n",
            "Test Pearson - MOSEAS Regression:  0.3738\n"
          ]
        },
        {
          "name": "stderr",
          "output_type": "stream",
          "text": [
            "\rMOSEAS Regression:  67%|██████▋   | 167/250 [52:45<26:38, 19.26s/it]"
          ]
        },
        {
          "name": "stdout",
          "output_type": "stream",
          "text": [
            "Train Loss - MOSEAS Regression:  0.3181\n",
            "Test Loss - MOSEAS Regression:  0.4226\n",
            "Train MAE - MOSEAS Regression:  0.4318\n",
            "Test MAE - MOSEAS Regression:  0.5015\n",
            "Train Pearson - MOSEAS Regression:  0.5831\n",
            "Test Pearson - MOSEAS Regression:  0.3746\n"
          ]
        },
        {
          "name": "stderr",
          "output_type": "stream",
          "text": [
            "\rMOSEAS Regression:  67%|██████▋   | 168/250 [53:03<25:28, 18.64s/it]"
          ]
        },
        {
          "name": "stdout",
          "output_type": "stream",
          "text": [
            "Train Loss - MOSEAS Regression:  0.3207\n",
            "Test Loss - MOSEAS Regression:  0.4242\n",
            "Train MAE - MOSEAS Regression:  0.436\n",
            "Test MAE - MOSEAS Regression:  0.4999\n",
            "Train Pearson - MOSEAS Regression:  0.5796\n",
            "Test Pearson - MOSEAS Regression:  0.3768\n"
          ]
        },
        {
          "name": "stderr",
          "output_type": "stream",
          "text": [
            "\rMOSEAS Regression:  68%|██████▊   | 169/250 [53:22<25:30, 18.90s/it]"
          ]
        },
        {
          "name": "stdout",
          "output_type": "stream",
          "text": [
            "Train Loss - MOSEAS Regression:  0.3193\n",
            "Test Loss - MOSEAS Regression:  0.43\n",
            "Train MAE - MOSEAS Regression:  0.4315\n",
            "Test MAE - MOSEAS Regression:  0.5084\n",
            "Train Pearson - MOSEAS Regression:  0.5832\n",
            "Test Pearson - MOSEAS Regression:  0.3712\n"
          ]
        },
        {
          "name": "stderr",
          "output_type": "stream",
          "text": [
            "\rMOSEAS Regression:  68%|██████▊   | 170/250 [53:41<25:15, 18.95s/it]"
          ]
        },
        {
          "name": "stdout",
          "output_type": "stream",
          "text": [
            "Train Loss - MOSEAS Regression:  0.3208\n",
            "Test Loss - MOSEAS Regression:  0.4219\n",
            "Train MAE - MOSEAS Regression:  0.4354\n",
            "Test MAE - MOSEAS Regression:  0.5003\n",
            "Train Pearson - MOSEAS Regression:  0.5788\n",
            "Test Pearson - MOSEAS Regression:  0.3767\n"
          ]
        },
        {
          "name": "stderr",
          "output_type": "stream",
          "text": [
            "\rMOSEAS Regression:  68%|██████▊   | 171/250 [53:58<24:17, 18.45s/it]"
          ]
        },
        {
          "name": "stdout",
          "output_type": "stream",
          "text": [
            "Train Loss - MOSEAS Regression:  0.3151\n",
            "Test Loss - MOSEAS Regression:  0.4236\n",
            "Train MAE - MOSEAS Regression:  0.4326\n",
            "Test MAE - MOSEAS Regression:  0.5034\n",
            "Train Pearson - MOSEAS Regression:  0.5886\n",
            "Test Pearson - MOSEAS Regression:  0.3738\n"
          ]
        },
        {
          "name": "stderr",
          "output_type": "stream",
          "text": [
            "\rMOSEAS Regression:  69%|██████▉   | 172/250 [54:17<23:51, 18.35s/it]"
          ]
        },
        {
          "name": "stdout",
          "output_type": "stream",
          "text": [
            "Train Loss - MOSEAS Regression:  0.3177\n",
            "Test Loss - MOSEAS Regression:  0.4229\n",
            "Train MAE - MOSEAS Regression:  0.4332\n",
            "Test MAE - MOSEAS Regression:  0.5021\n",
            "Train Pearson - MOSEAS Regression:  0.5839\n",
            "Test Pearson - MOSEAS Regression:  0.376\n"
          ]
        },
        {
          "name": "stderr",
          "output_type": "stream",
          "text": [
            "\rMOSEAS Regression:  69%|██████▉   | 173/250 [54:36<23:56, 18.66s/it]"
          ]
        },
        {
          "name": "stdout",
          "output_type": "stream",
          "text": [
            "Train Loss - MOSEAS Regression:  0.3198\n",
            "Test Loss - MOSEAS Regression:  0.423\n",
            "Train MAE - MOSEAS Regression:  0.4351\n",
            "Test MAE - MOSEAS Regression:  0.4992\n",
            "Train Pearson - MOSEAS Regression:  0.5817\n",
            "Test Pearson - MOSEAS Regression:  0.3791\n"
          ]
        },
        {
          "name": "stderr",
          "output_type": "stream",
          "text": [
            "\rMOSEAS Regression:  70%|██████▉   | 174/250 [54:55<23:39, 18.68s/it]"
          ]
        },
        {
          "name": "stdout",
          "output_type": "stream",
          "text": [
            "Train Loss - MOSEAS Regression:  0.3143\n",
            "Test Loss - MOSEAS Regression:  0.4247\n",
            "Train MAE - MOSEAS Regression:  0.4306\n",
            "Test MAE - MOSEAS Regression:  0.5045\n",
            "Train Pearson - MOSEAS Regression:  0.5903\n",
            "Test Pearson - MOSEAS Regression:  0.3767\n"
          ]
        },
        {
          "name": "stderr",
          "output_type": "stream",
          "text": [
            "\rMOSEAS Regression:  70%|███████   | 175/250 [55:12<22:47, 18.23s/it]"
          ]
        },
        {
          "name": "stdout",
          "output_type": "stream",
          "text": [
            "Train Loss - MOSEAS Regression:  0.3149\n",
            "Test Loss - MOSEAS Regression:  0.4198\n",
            "Train MAE - MOSEAS Regression:  0.4305\n",
            "Test MAE - MOSEAS Regression:  0.4986\n",
            "Train Pearson - MOSEAS Regression:  0.589\n",
            "Test Pearson - MOSEAS Regression:  0.3818\n"
          ]
        },
        {
          "name": "stderr",
          "output_type": "stream",
          "text": [
            "\rMOSEAS Regression:  70%|███████   | 176/250 [55:31<22:45, 18.46s/it]"
          ]
        },
        {
          "name": "stdout",
          "output_type": "stream",
          "text": [
            "Train Loss - MOSEAS Regression:  0.3135\n",
            "Test Loss - MOSEAS Regression:  0.419\n",
            "Train MAE - MOSEAS Regression:  0.4292\n",
            "Test MAE - MOSEAS Regression:  0.4984\n",
            "Train Pearson - MOSEAS Regression:  0.5917\n",
            "Test Pearson - MOSEAS Regression:  0.3835\n"
          ]
        },
        {
          "name": "stderr",
          "output_type": "stream",
          "text": [
            "\rMOSEAS Regression:  71%|███████   | 177/250 [55:49<22:22, 18.39s/it]"
          ]
        },
        {
          "name": "stdout",
          "output_type": "stream",
          "text": [
            "Train Loss - MOSEAS Regression:  0.3152\n",
            "Test Loss - MOSEAS Regression:  0.4236\n",
            "Train MAE - MOSEAS Regression:  0.4307\n",
            "Test MAE - MOSEAS Regression:  0.5048\n",
            "Train Pearson - MOSEAS Regression:  0.5895\n",
            "Test Pearson - MOSEAS Regression:  0.3786\n"
          ]
        },
        {
          "name": "stderr",
          "output_type": "stream",
          "text": [
            "\rMOSEAS Regression:  71%|███████   | 178/250 [56:09<22:33, 18.79s/it]"
          ]
        },
        {
          "name": "stdout",
          "output_type": "stream",
          "text": [
            "Train Loss - MOSEAS Regression:  0.318\n",
            "Test Loss - MOSEAS Regression:  0.4196\n",
            "Train MAE - MOSEAS Regression:  0.4335\n",
            "Test MAE - MOSEAS Regression:  0.4992\n",
            "Train Pearson - MOSEAS Regression:  0.5834\n",
            "Test Pearson - MOSEAS Regression:  0.3804\n"
          ]
        },
        {
          "name": "stderr",
          "output_type": "stream",
          "text": [
            "\rMOSEAS Regression:  72%|███████▏  | 179/250 [56:28<22:19, 18.87s/it]"
          ]
        },
        {
          "name": "stdout",
          "output_type": "stream",
          "text": [
            "Train Loss - MOSEAS Regression:  0.3142\n",
            "Test Loss - MOSEAS Regression:  0.4211\n",
            "Train MAE - MOSEAS Regression:  0.4327\n",
            "Test MAE - MOSEAS Regression:  0.4998\n",
            "Train Pearson - MOSEAS Regression:  0.5914\n",
            "Test Pearson - MOSEAS Regression:  0.3787\n"
          ]
        },
        {
          "name": "stderr",
          "output_type": "stream",
          "text": [
            "\rMOSEAS Regression:  72%|███████▏  | 180/250 [56:47<22:08, 18.98s/it]"
          ]
        },
        {
          "name": "stdout",
          "output_type": "stream",
          "text": [
            "Train Loss - MOSEAS Regression:  0.3152\n",
            "Test Loss - MOSEAS Regression:  0.4265\n",
            "Train MAE - MOSEAS Regression:  0.4293\n",
            "Test MAE - MOSEAS Regression:  0.5058\n",
            "Train Pearson - MOSEAS Regression:  0.5892\n",
            "Test Pearson - MOSEAS Regression:  0.3729\n"
          ]
        },
        {
          "name": "stderr",
          "output_type": "stream",
          "text": [
            "\rMOSEAS Regression:  72%|███████▏  | 181/250 [57:06<21:48, 18.96s/it]"
          ]
        },
        {
          "name": "stdout",
          "output_type": "stream",
          "text": [
            "Train Loss - MOSEAS Regression:  0.3147\n",
            "Test Loss - MOSEAS Regression:  0.4232\n",
            "Train MAE - MOSEAS Regression:  0.4309\n",
            "Test MAE - MOSEAS Regression:  0.5017\n",
            "Train Pearson - MOSEAS Regression:  0.5892\n",
            "Test Pearson - MOSEAS Regression:  0.3744\n"
          ]
        },
        {
          "name": "stderr",
          "output_type": "stream",
          "text": [
            "\rMOSEAS Regression:  73%|███████▎  | 182/250 [57:26<21:42, 19.16s/it]"
          ]
        },
        {
          "name": "stdout",
          "output_type": "stream",
          "text": [
            "Train Loss - MOSEAS Regression:  0.3126\n",
            "Test Loss - MOSEAS Regression:  0.423\n",
            "Train MAE - MOSEAS Regression:  0.4294\n",
            "Test MAE - MOSEAS Regression:  0.5012\n",
            "Train Pearson - MOSEAS Regression:  0.5932\n",
            "Test Pearson - MOSEAS Regression:  0.3744\n"
          ]
        },
        {
          "name": "stderr",
          "output_type": "stream",
          "text": [
            "\rMOSEAS Regression:  73%|███████▎  | 183/250 [57:45<21:29, 19.25s/it]"
          ]
        },
        {
          "name": "stdout",
          "output_type": "stream",
          "text": [
            "Train Loss - MOSEAS Regression:  0.3074\n",
            "Test Loss - MOSEAS Regression:  0.4239\n",
            "Train MAE - MOSEAS Regression:  0.425\n",
            "Test MAE - MOSEAS Regression:  0.5033\n",
            "Train Pearson - MOSEAS Regression:  0.6022\n",
            "Test Pearson - MOSEAS Regression:  0.374\n"
          ]
        },
        {
          "name": "stderr",
          "output_type": "stream",
          "text": [
            "\rMOSEAS Regression:  74%|███████▎  | 184/250 [58:03<20:45, 18.87s/it]"
          ]
        },
        {
          "name": "stdout",
          "output_type": "stream",
          "text": [
            "Train Loss - MOSEAS Regression:  0.3137\n",
            "Test Loss - MOSEAS Regression:  0.4274\n",
            "Train MAE - MOSEAS Regression:  0.4292\n",
            "Test MAE - MOSEAS Regression:  0.5069\n",
            "Train Pearson - MOSEAS Regression:  0.5911\n",
            "Test Pearson - MOSEAS Regression:  0.3713\n"
          ]
        },
        {
          "name": "stderr",
          "output_type": "stream",
          "text": [
            "\rMOSEAS Regression:  74%|███████▍  | 185/250 [58:23<20:38, 19.05s/it]"
          ]
        },
        {
          "name": "stdout",
          "output_type": "stream",
          "text": [
            "Train Loss - MOSEAS Regression:  0.3118\n",
            "Test Loss - MOSEAS Regression:  0.4239\n",
            "Train MAE - MOSEAS Regression:  0.4293\n",
            "Test MAE - MOSEAS Regression:  0.5017\n",
            "Train Pearson - MOSEAS Regression:  0.5951\n",
            "Test Pearson - MOSEAS Regression:  0.3753\n"
          ]
        },
        {
          "name": "stderr",
          "output_type": "stream",
          "text": [
            "\rMOSEAS Regression:  74%|███████▍  | 186/250 [58:41<20:00, 18.75s/it]"
          ]
        },
        {
          "name": "stdout",
          "output_type": "stream",
          "text": [
            "Train Loss - MOSEAS Regression:  0.3073\n",
            "Test Loss - MOSEAS Regression:  0.4242\n",
            "Train MAE - MOSEAS Regression:  0.4255\n",
            "Test MAE - MOSEAS Regression:  0.5024\n",
            "Train Pearson - MOSEAS Regression:  0.6023\n",
            "Test Pearson - MOSEAS Regression:  0.3766\n"
          ]
        },
        {
          "name": "stderr",
          "output_type": "stream",
          "text": [
            "\rMOSEAS Regression:  75%|███████▍  | 187/250 [59:00<19:54, 18.96s/it]"
          ]
        },
        {
          "name": "stdout",
          "output_type": "stream",
          "text": [
            "Train Loss - MOSEAS Regression:  0.3117\n",
            "Test Loss - MOSEAS Regression:  0.4252\n",
            "Train MAE - MOSEAS Regression:  0.4292\n",
            "Test MAE - MOSEAS Regression:  0.5054\n",
            "Train Pearson - MOSEAS Regression:  0.5951\n",
            "Test Pearson - MOSEAS Regression:  0.3754\n"
          ]
        },
        {
          "name": "stderr",
          "output_type": "stream",
          "text": [
            "\rMOSEAS Regression:  75%|███████▌  | 188/250 [59:18<19:21, 18.74s/it]"
          ]
        },
        {
          "name": "stdout",
          "output_type": "stream",
          "text": [
            "Train Loss - MOSEAS Regression:  0.3055\n",
            "Test Loss - MOSEAS Regression:  0.4238\n",
            "Train MAE - MOSEAS Regression:  0.4259\n",
            "Test MAE - MOSEAS Regression:  0.5024\n",
            "Train Pearson - MOSEAS Regression:  0.6057\n",
            "Test Pearson - MOSEAS Regression:  0.3779\n"
          ]
        },
        {
          "name": "stderr",
          "output_type": "stream",
          "text": [
            "\rMOSEAS Regression:  76%|███████▌  | 189/250 [59:36<18:51, 18.56s/it]"
          ]
        },
        {
          "name": "stdout",
          "output_type": "stream",
          "text": [
            "Train Loss - MOSEAS Regression:  0.3099\n",
            "Test Loss - MOSEAS Regression:  0.4255\n",
            "Train MAE - MOSEAS Regression:  0.4281\n",
            "Test MAE - MOSEAS Regression:  0.5028\n",
            "Train Pearson - MOSEAS Regression:  0.5982\n",
            "Test Pearson - MOSEAS Regression:  0.3773\n"
          ]
        },
        {
          "name": "stderr",
          "output_type": "stream",
          "text": [
            "\rMOSEAS Regression:  76%|███████▌  | 190/250 [59:55<18:29, 18.49s/it]"
          ]
        },
        {
          "name": "stdout",
          "output_type": "stream",
          "text": [
            "Train Loss - MOSEAS Regression:  0.3069\n",
            "Test Loss - MOSEAS Regression:  0.4249\n",
            "Train MAE - MOSEAS Regression:  0.4252\n",
            "Test MAE - MOSEAS Regression:  0.504\n",
            "Train Pearson - MOSEAS Regression:  0.6028\n",
            "Test Pearson - MOSEAS Regression:  0.3769\n"
          ]
        },
        {
          "name": "stderr",
          "output_type": "stream",
          "text": [
            "\rMOSEAS Regression:  76%|███████▋  | 191/250 [1:00:15<18:38, 18.95s/it]"
          ]
        },
        {
          "name": "stdout",
          "output_type": "stream",
          "text": [
            "Train Loss - MOSEAS Regression:  0.3062\n",
            "Test Loss - MOSEAS Regression:  0.4239\n",
            "Train MAE - MOSEAS Regression:  0.4248\n",
            "Test MAE - MOSEAS Regression:  0.5034\n",
            "Train Pearson - MOSEAS Regression:  0.6041\n",
            "Test Pearson - MOSEAS Regression:  0.3777\n"
          ]
        },
        {
          "name": "stderr",
          "output_type": "stream",
          "text": [
            "\rMOSEAS Regression:  77%|███████▋  | 192/250 [1:00:34<18:22, 19.01s/it]"
          ]
        },
        {
          "name": "stdout",
          "output_type": "stream",
          "text": [
            "Train Loss - MOSEAS Regression:  0.3068\n",
            "Test Loss - MOSEAS Regression:  0.4246\n",
            "Train MAE - MOSEAS Regression:  0.4263\n",
            "Test MAE - MOSEAS Regression:  0.5018\n",
            "Train Pearson - MOSEAS Regression:  0.6039\n",
            "Test Pearson - MOSEAS Regression:  0.3794\n"
          ]
        },
        {
          "name": "stderr",
          "output_type": "stream",
          "text": [
            "\rMOSEAS Regression:  77%|███████▋  | 193/250 [1:00:53<18:01, 18.97s/it]"
          ]
        },
        {
          "name": "stdout",
          "output_type": "stream",
          "text": [
            "Train Loss - MOSEAS Regression:  0.3119\n",
            "Test Loss - MOSEAS Regression:  0.4243\n",
            "Train MAE - MOSEAS Regression:  0.4312\n",
            "Test MAE - MOSEAS Regression:  0.5033\n",
            "Train Pearson - MOSEAS Regression:  0.5942\n",
            "Test Pearson - MOSEAS Regression:  0.3764\n"
          ]
        },
        {
          "name": "stderr",
          "output_type": "stream",
          "text": [
            "\rMOSEAS Regression:  78%|███████▊  | 194/250 [1:01:11<17:23, 18.64s/it]"
          ]
        },
        {
          "name": "stdout",
          "output_type": "stream",
          "text": [
            "Train Loss - MOSEAS Regression:  0.3084\n",
            "Test Loss - MOSEAS Regression:  0.4398\n",
            "Train MAE - MOSEAS Regression:  0.4236\n",
            "Test MAE - MOSEAS Regression:  0.5162\n",
            "Train Pearson - MOSEAS Regression:  0.6026\n",
            "Test Pearson - MOSEAS Regression:  0.3678\n"
          ]
        },
        {
          "name": "stderr",
          "output_type": "stream",
          "text": [
            "\rMOSEAS Regression:  78%|███████▊  | 195/250 [1:01:29<17:07, 18.69s/it]"
          ]
        },
        {
          "name": "stdout",
          "output_type": "stream",
          "text": [
            "Train Loss - MOSEAS Regression:  0.3117\n",
            "Test Loss - MOSEAS Regression:  0.4306\n",
            "Train MAE - MOSEAS Regression:  0.4297\n",
            "Test MAE - MOSEAS Regression:  0.5048\n",
            "Train Pearson - MOSEAS Regression:  0.5982\n",
            "Test Pearson - MOSEAS Regression:  0.3747\n"
          ]
        },
        {
          "name": "stderr",
          "output_type": "stream",
          "text": [
            "\rMOSEAS Regression:  78%|███████▊  | 196/250 [1:01:48<16:41, 18.54s/it]"
          ]
        },
        {
          "name": "stdout",
          "output_type": "stream",
          "text": [
            "Train Loss - MOSEAS Regression:  0.3076\n",
            "Test Loss - MOSEAS Regression:  0.4303\n",
            "Train MAE - MOSEAS Regression:  0.4253\n",
            "Test MAE - MOSEAS Regression:  0.5095\n",
            "Train Pearson - MOSEAS Regression:  0.6019\n",
            "Test Pearson - MOSEAS Regression:  0.3679\n"
          ]
        },
        {
          "name": "stderr",
          "output_type": "stream",
          "text": [
            "\rMOSEAS Regression:  79%|███████▉  | 197/250 [1:02:07<16:28, 18.66s/it]"
          ]
        },
        {
          "name": "stdout",
          "output_type": "stream",
          "text": [
            "Train Loss - MOSEAS Regression:  0.3075\n",
            "Test Loss - MOSEAS Regression:  0.4262\n",
            "Train MAE - MOSEAS Regression:  0.4283\n",
            "Test MAE - MOSEAS Regression:  0.5046\n",
            "Train Pearson - MOSEAS Regression:  0.6021\n",
            "Test Pearson - MOSEAS Regression:  0.3727\n"
          ]
        },
        {
          "name": "stderr",
          "output_type": "stream",
          "text": [
            "\rMOSEAS Regression:  79%|███████▉  | 198/250 [1:02:26<16:14, 18.74s/it]"
          ]
        },
        {
          "name": "stdout",
          "output_type": "stream",
          "text": [
            "Train Loss - MOSEAS Regression:  0.3048\n",
            "Test Loss - MOSEAS Regression:  0.4278\n",
            "Train MAE - MOSEAS Regression:  0.4247\n",
            "Test MAE - MOSEAS Regression:  0.5058\n",
            "Train Pearson - MOSEAS Regression:  0.6073\n",
            "Test Pearson - MOSEAS Regression:  0.372\n"
          ]
        },
        {
          "name": "stderr",
          "output_type": "stream",
          "text": [
            "\rMOSEAS Regression:  80%|███████▉  | 199/250 [1:02:43<15:32, 18.29s/it]"
          ]
        },
        {
          "name": "stdout",
          "output_type": "stream",
          "text": [
            "Train Loss - MOSEAS Regression:  0.3034\n",
            "Test Loss - MOSEAS Regression:  0.4288\n",
            "Train MAE - MOSEAS Regression:  0.4208\n",
            "Test MAE - MOSEAS Regression:  0.5056\n",
            "Train Pearson - MOSEAS Regression:  0.6091\n",
            "Test Pearson - MOSEAS Regression:  0.3725\n"
          ]
        },
        {
          "name": "stderr",
          "output_type": "stream",
          "text": [
            "\rMOSEAS Regression:  80%|████████  | 200/250 [1:03:00<15:02, 18.05s/it]"
          ]
        },
        {
          "name": "stdout",
          "output_type": "stream",
          "text": [
            "Train Loss - MOSEAS Regression:  0.3033\n",
            "Test Loss - MOSEAS Regression:  0.4344\n",
            "Train MAE - MOSEAS Regression:  0.423\n",
            "Test MAE - MOSEAS Regression:  0.5123\n",
            "Train Pearson - MOSEAS Regression:  0.6093\n",
            "Test Pearson - MOSEAS Regression:  0.3692\n"
          ]
        },
        {
          "name": "stderr",
          "output_type": "stream",
          "text": [
            "\rMOSEAS Regression:  80%|████████  | 201/250 [1:03:19<14:50, 18.18s/it]"
          ]
        },
        {
          "name": "stdout",
          "output_type": "stream",
          "text": [
            "Train Loss - MOSEAS Regression:  0.3055\n",
            "Test Loss - MOSEAS Regression:  0.43\n",
            "Train MAE - MOSEAS Regression:  0.4252\n",
            "Test MAE - MOSEAS Regression:  0.5067\n",
            "Train Pearson - MOSEAS Regression:  0.6054\n",
            "Test Pearson - MOSEAS Regression:  0.3739\n"
          ]
        },
        {
          "name": "stderr",
          "output_type": "stream",
          "text": [
            "\rMOSEAS Regression:  81%|████████  | 202/250 [1:03:38<14:44, 18.43s/it]"
          ]
        },
        {
          "name": "stdout",
          "output_type": "stream",
          "text": [
            "Train Loss - MOSEAS Regression:  0.2995\n",
            "Test Loss - MOSEAS Regression:  0.4294\n",
            "Train MAE - MOSEAS Regression:  0.42\n",
            "Test MAE - MOSEAS Regression:  0.5062\n",
            "Train Pearson - MOSEAS Regression:  0.6162\n",
            "Test Pearson - MOSEAS Regression:  0.3758\n"
          ]
        },
        {
          "name": "stderr",
          "output_type": "stream",
          "text": [
            "\rMOSEAS Regression:  81%|████████  | 203/250 [1:03:55<14:11, 18.11s/it]"
          ]
        },
        {
          "name": "stdout",
          "output_type": "stream",
          "text": [
            "Train Loss - MOSEAS Regression:  0.3049\n",
            "Test Loss - MOSEAS Regression:  0.4348\n",
            "Train MAE - MOSEAS Regression:  0.4235\n",
            "Test MAE - MOSEAS Regression:  0.5133\n",
            "Train Pearson - MOSEAS Regression:  0.609\n",
            "Test Pearson - MOSEAS Regression:  0.3715\n"
          ]
        },
        {
          "name": "stderr",
          "output_type": "stream",
          "text": [
            "\rMOSEAS Regression:  82%|████████▏ | 204/250 [1:04:12<13:38, 17.80s/it]"
          ]
        },
        {
          "name": "stdout",
          "output_type": "stream",
          "text": [
            "Train Loss - MOSEAS Regression:  0.3029\n",
            "Test Loss - MOSEAS Regression:  0.4288\n",
            "Train MAE - MOSEAS Regression:  0.4224\n",
            "Test MAE - MOSEAS Regression:  0.505\n",
            "Train Pearson - MOSEAS Regression:  0.611\n",
            "Test Pearson - MOSEAS Regression:  0.3754\n"
          ]
        },
        {
          "name": "stderr",
          "output_type": "stream",
          "text": [
            "\rMOSEAS Regression:  82%|████████▏ | 205/250 [1:04:31<13:34, 18.10s/it]"
          ]
        },
        {
          "name": "stdout",
          "output_type": "stream",
          "text": [
            "Train Loss - MOSEAS Regression:  0.304\n",
            "Test Loss - MOSEAS Regression:  0.4286\n",
            "Train MAE - MOSEAS Regression:  0.4246\n",
            "Test MAE - MOSEAS Regression:  0.5076\n",
            "Train Pearson - MOSEAS Regression:  0.6081\n",
            "Test Pearson - MOSEAS Regression:  0.3711\n"
          ]
        },
        {
          "name": "stderr",
          "output_type": "stream",
          "text": [
            "\rMOSEAS Regression:  82%|████████▏ | 206/250 [1:04:49<13:19, 18.17s/it]"
          ]
        },
        {
          "name": "stdout",
          "output_type": "stream",
          "text": [
            "Train Loss - MOSEAS Regression:  0.3018\n",
            "Test Loss - MOSEAS Regression:  0.4301\n",
            "Train MAE - MOSEAS Regression:  0.4216\n",
            "Test MAE - MOSEAS Regression:  0.5076\n",
            "Train Pearson - MOSEAS Regression:  0.6116\n",
            "Test Pearson - MOSEAS Regression:  0.3707\n"
          ]
        },
        {
          "name": "stderr",
          "output_type": "stream",
          "text": [
            "\rMOSEAS Regression:  83%|████████▎ | 207/250 [1:05:08<13:03, 18.23s/it]"
          ]
        },
        {
          "name": "stdout",
          "output_type": "stream",
          "text": [
            "Train Loss - MOSEAS Regression:  0.2999\n",
            "Test Loss - MOSEAS Regression:  0.4304\n",
            "Train MAE - MOSEAS Regression:  0.4192\n",
            "Test MAE - MOSEAS Regression:  0.5063\n",
            "Train Pearson - MOSEAS Regression:  0.6151\n",
            "Test Pearson - MOSEAS Regression:  0.3707\n"
          ]
        },
        {
          "name": "stderr",
          "output_type": "stream",
          "text": [
            "\rMOSEAS Regression:  83%|████████▎ | 208/250 [1:05:26<12:46, 18.26s/it]"
          ]
        },
        {
          "name": "stdout",
          "output_type": "stream",
          "text": [
            "Train Loss - MOSEAS Regression:  0.3017\n",
            "Test Loss - MOSEAS Regression:  0.4296\n",
            "Train MAE - MOSEAS Regression:  0.4211\n",
            "Test MAE - MOSEAS Regression:  0.5069\n",
            "Train Pearson - MOSEAS Regression:  0.6118\n",
            "Test Pearson - MOSEAS Regression:  0.3696\n"
          ]
        },
        {
          "name": "stderr",
          "output_type": "stream",
          "text": [
            "\rMOSEAS Regression:  84%|████████▎ | 209/250 [1:05:43<12:17, 17.98s/it]"
          ]
        },
        {
          "name": "stdout",
          "output_type": "stream",
          "text": [
            "Train Loss - MOSEAS Regression:  0.2989\n",
            "Test Loss - MOSEAS Regression:  0.4324\n",
            "Train MAE - MOSEAS Regression:  0.4191\n",
            "Test MAE - MOSEAS Regression:  0.5105\n",
            "Train Pearson - MOSEAS Regression:  0.6166\n",
            "Test Pearson - MOSEAS Regression:  0.3668\n"
          ]
        },
        {
          "name": "stderr",
          "output_type": "stream",
          "text": [
            "\rMOSEAS Regression:  84%|████████▍ | 210/250 [1:06:02<12:12, 18.32s/it]"
          ]
        },
        {
          "name": "stdout",
          "output_type": "stream",
          "text": [
            "Train Loss - MOSEAS Regression:  0.2998\n",
            "Test Loss - MOSEAS Regression:  0.4328\n",
            "Train MAE - MOSEAS Regression:  0.4215\n",
            "Test MAE - MOSEAS Regression:  0.5103\n",
            "Train Pearson - MOSEAS Regression:  0.615\n",
            "Test Pearson - MOSEAS Regression:  0.3699\n"
          ]
        },
        {
          "name": "stderr",
          "output_type": "stream",
          "text": [
            "\rMOSEAS Regression:  84%|████████▍ | 211/250 [1:06:19<11:37, 17.88s/it]"
          ]
        },
        {
          "name": "stdout",
          "output_type": "stream",
          "text": [
            "Train Loss - MOSEAS Regression:  0.3021\n",
            "Test Loss - MOSEAS Regression:  0.4302\n",
            "Train MAE - MOSEAS Regression:  0.4229\n",
            "Test MAE - MOSEAS Regression:  0.5062\n",
            "Train Pearson - MOSEAS Regression:  0.6119\n",
            "Test Pearson - MOSEAS Regression:  0.3737\n"
          ]
        },
        {
          "name": "stderr",
          "output_type": "stream",
          "text": [
            "\rMOSEAS Regression:  85%|████████▍ | 212/250 [1:06:39<11:39, 18.41s/it]"
          ]
        },
        {
          "name": "stdout",
          "output_type": "stream",
          "text": [
            "Train Loss - MOSEAS Regression:  0.2981\n",
            "Test Loss - MOSEAS Regression:  0.434\n",
            "Train MAE - MOSEAS Regression:  0.4208\n",
            "Test MAE - MOSEAS Regression:  0.5131\n",
            "Train Pearson - MOSEAS Regression:  0.6186\n",
            "Test Pearson - MOSEAS Regression:  0.366\n"
          ]
        },
        {
          "name": "stderr",
          "output_type": "stream",
          "text": [
            "\rMOSEAS Regression:  85%|████████▌ | 213/250 [1:06:56<11:08, 18.08s/it]"
          ]
        },
        {
          "name": "stdout",
          "output_type": "stream",
          "text": [
            "Train Loss - MOSEAS Regression:  0.2996\n",
            "Test Loss - MOSEAS Regression:  0.4295\n",
            "Train MAE - MOSEAS Regression:  0.4191\n",
            "Test MAE - MOSEAS Regression:  0.5059\n",
            "Train Pearson - MOSEAS Regression:  0.6153\n",
            "Test Pearson - MOSEAS Regression:  0.373\n"
          ]
        },
        {
          "name": "stderr",
          "output_type": "stream",
          "text": [
            "\rMOSEAS Regression:  86%|████████▌ | 214/250 [1:07:13<10:39, 17.78s/it]"
          ]
        },
        {
          "name": "stdout",
          "output_type": "stream",
          "text": [
            "Train Loss - MOSEAS Regression:  0.2971\n",
            "Test Loss - MOSEAS Regression:  0.4351\n",
            "Train MAE - MOSEAS Regression:  0.4189\n",
            "Test MAE - MOSEAS Regression:  0.5116\n",
            "Train Pearson - MOSEAS Regression:  0.6195\n",
            "Test Pearson - MOSEAS Regression:  0.3694\n"
          ]
        },
        {
          "name": "stderr",
          "output_type": "stream",
          "text": [
            "\rMOSEAS Regression:  86%|████████▌ | 215/250 [1:07:32<10:34, 18.14s/it]"
          ]
        },
        {
          "name": "stdout",
          "output_type": "stream",
          "text": [
            "Train Loss - MOSEAS Regression:  0.295\n",
            "Test Loss - MOSEAS Regression:  0.4311\n",
            "Train MAE - MOSEAS Regression:  0.4173\n",
            "Test MAE - MOSEAS Regression:  0.5057\n",
            "Train Pearson - MOSEAS Regression:  0.6234\n",
            "Test Pearson - MOSEAS Regression:  0.3716\n"
          ]
        },
        {
          "name": "stderr",
          "output_type": "stream",
          "text": [
            "\rMOSEAS Regression:  86%|████████▋ | 216/250 [1:07:51<10:24, 18.37s/it]"
          ]
        },
        {
          "name": "stdout",
          "output_type": "stream",
          "text": [
            "Train Loss - MOSEAS Regression:  0.2961\n",
            "Test Loss - MOSEAS Regression:  0.4359\n",
            "Train MAE - MOSEAS Regression:  0.4191\n",
            "Test MAE - MOSEAS Regression:  0.5132\n",
            "Train Pearson - MOSEAS Regression:  0.6213\n",
            "Test Pearson - MOSEAS Regression:  0.3645\n"
          ]
        },
        {
          "name": "stderr",
          "output_type": "stream",
          "text": [
            "\rMOSEAS Regression:  87%|████████▋ | 217/250 [1:08:10<10:14, 18.63s/it]"
          ]
        },
        {
          "name": "stdout",
          "output_type": "stream",
          "text": [
            "Train Loss - MOSEAS Regression:  0.2987\n",
            "Test Loss - MOSEAS Regression:  0.4302\n",
            "Train MAE - MOSEAS Regression:  0.4202\n",
            "Test MAE - MOSEAS Regression:  0.5059\n",
            "Train Pearson - MOSEAS Regression:  0.6168\n",
            "Test Pearson - MOSEAS Regression:  0.372\n"
          ]
        },
        {
          "name": "stderr",
          "output_type": "stream",
          "text": [
            "\rMOSEAS Regression:  87%|████████▋ | 218/250 [1:08:30<10:08, 19.00s/it]"
          ]
        },
        {
          "name": "stdout",
          "output_type": "stream",
          "text": [
            "Train Loss - MOSEAS Regression:  0.2985\n",
            "Test Loss - MOSEAS Regression:  0.4286\n",
            "Train MAE - MOSEAS Regression:  0.4218\n",
            "Test MAE - MOSEAS Regression:  0.5061\n",
            "Train Pearson - MOSEAS Regression:  0.6177\n",
            "Test Pearson - MOSEAS Regression:  0.3727\n"
          ]
        },
        {
          "name": "stderr",
          "output_type": "stream",
          "text": [
            "\rMOSEAS Regression:  88%|████████▊ | 219/250 [1:08:49<09:46, 18.92s/it]"
          ]
        },
        {
          "name": "stdout",
          "output_type": "stream",
          "text": [
            "Train Loss - MOSEAS Regression:  0.2993\n",
            "Test Loss - MOSEAS Regression:  0.4326\n",
            "Train MAE - MOSEAS Regression:  0.4202\n",
            "Test MAE - MOSEAS Regression:  0.5117\n",
            "Train Pearson - MOSEAS Regression:  0.617\n",
            "Test Pearson - MOSEAS Regression:  0.3698\n"
          ]
        },
        {
          "name": "stderr",
          "output_type": "stream",
          "text": [
            "\rMOSEAS Regression:  88%|████████▊ | 220/250 [1:09:08<09:32, 19.07s/it]"
          ]
        },
        {
          "name": "stdout",
          "output_type": "stream",
          "text": [
            "Train Loss - MOSEAS Regression:  0.2959\n",
            "Test Loss - MOSEAS Regression:  0.4289\n",
            "Train MAE - MOSEAS Regression:  0.4204\n",
            "Test MAE - MOSEAS Regression:  0.5055\n",
            "Train Pearson - MOSEAS Regression:  0.6219\n",
            "Test Pearson - MOSEAS Regression:  0.3722\n"
          ]
        },
        {
          "name": "stderr",
          "output_type": "stream",
          "text": [
            "\rMOSEAS Regression:  88%|████████▊ | 221/250 [1:09:28<09:14, 19.11s/it]"
          ]
        },
        {
          "name": "stdout",
          "output_type": "stream",
          "text": [
            "Train Loss - MOSEAS Regression:  0.2948\n",
            "Test Loss - MOSEAS Regression:  0.4311\n",
            "Train MAE - MOSEAS Regression:  0.418\n",
            "Test MAE - MOSEAS Regression:  0.5094\n",
            "Train Pearson - MOSEAS Regression:  0.6239\n",
            "Test Pearson - MOSEAS Regression:  0.3694\n"
          ]
        },
        {
          "name": "stderr",
          "output_type": "stream",
          "text": [
            "\rMOSEAS Regression:  89%|████████▉ | 222/250 [1:09:45<08:40, 18.59s/it]"
          ]
        },
        {
          "name": "stdout",
          "output_type": "stream",
          "text": [
            "Train Loss - MOSEAS Regression:  0.2937\n",
            "Test Loss - MOSEAS Regression:  0.4339\n",
            "Train MAE - MOSEAS Regression:  0.4157\n",
            "Test MAE - MOSEAS Regression:  0.5115\n",
            "Train Pearson - MOSEAS Regression:  0.6256\n",
            "Test Pearson - MOSEAS Regression:  0.368\n"
          ]
        },
        {
          "name": "stderr",
          "output_type": "stream",
          "text": [
            "\rMOSEAS Regression:  89%|████████▉ | 223/250 [1:10:04<08:24, 18.68s/it]"
          ]
        },
        {
          "name": "stdout",
          "output_type": "stream",
          "text": [
            "Train Loss - MOSEAS Regression:  0.2925\n",
            "Test Loss - MOSEAS Regression:  0.4338\n",
            "Train MAE - MOSEAS Regression:  0.4159\n",
            "Test MAE - MOSEAS Regression:  0.5085\n",
            "Train Pearson - MOSEAS Regression:  0.6285\n",
            "Test Pearson - MOSEAS Regression:  0.3695\n"
          ]
        },
        {
          "name": "stderr",
          "output_type": "stream",
          "text": [
            "\rMOSEAS Regression:  90%|████████▉ | 224/250 [1:10:24<08:17, 19.13s/it]"
          ]
        },
        {
          "name": "stdout",
          "output_type": "stream",
          "text": [
            "Train Loss - MOSEAS Regression:  0.2937\n",
            "Test Loss - MOSEAS Regression:  0.4373\n",
            "Train MAE - MOSEAS Regression:  0.4154\n",
            "Test MAE - MOSEAS Regression:  0.5146\n",
            "Train Pearson - MOSEAS Regression:  0.6255\n",
            "Test Pearson - MOSEAS Regression:  0.3649\n"
          ]
        },
        {
          "name": "stderr",
          "output_type": "stream",
          "text": [
            "\rMOSEAS Regression:  90%|█████████ | 225/250 [1:10:43<07:55, 19.04s/it]"
          ]
        },
        {
          "name": "stdout",
          "output_type": "stream",
          "text": [
            "Train Loss - MOSEAS Regression:  0.2946\n",
            "Test Loss - MOSEAS Regression:  0.4345\n",
            "Train MAE - MOSEAS Regression:  0.4168\n",
            "Test MAE - MOSEAS Regression:  0.5104\n",
            "Train Pearson - MOSEAS Regression:  0.6237\n",
            "Test Pearson - MOSEAS Regression:  0.3663\n"
          ]
        },
        {
          "name": "stderr",
          "output_type": "stream",
          "text": [
            "\rMOSEAS Regression:  90%|█████████ | 226/250 [1:11:02<07:40, 19.19s/it]"
          ]
        },
        {
          "name": "stdout",
          "output_type": "stream",
          "text": [
            "Train Loss - MOSEAS Regression:  0.2943\n",
            "Test Loss - MOSEAS Regression:  0.4356\n",
            "Train MAE - MOSEAS Regression:  0.4169\n",
            "Test MAE - MOSEAS Regression:  0.5097\n",
            "Train Pearson - MOSEAS Regression:  0.6246\n",
            "Test Pearson - MOSEAS Regression:  0.3675\n"
          ]
        },
        {
          "name": "stderr",
          "output_type": "stream",
          "text": [
            "\rMOSEAS Regression:  91%|█████████ | 227/250 [1:11:21<07:15, 18.91s/it]"
          ]
        },
        {
          "name": "stdout",
          "output_type": "stream",
          "text": [
            "Train Loss - MOSEAS Regression:  0.2921\n",
            "Test Loss - MOSEAS Regression:  0.4409\n",
            "Train MAE - MOSEAS Regression:  0.4157\n",
            "Test MAE - MOSEAS Regression:  0.5182\n",
            "Train Pearson - MOSEAS Regression:  0.6286\n",
            "Test Pearson - MOSEAS Regression:  0.3621\n"
          ]
        },
        {
          "name": "stderr",
          "output_type": "stream",
          "text": [
            "\rMOSEAS Regression:  91%|█████████ | 228/250 [1:11:39<06:51, 18.69s/it]"
          ]
        },
        {
          "name": "stdout",
          "output_type": "stream",
          "text": [
            "Train Loss - MOSEAS Regression:  0.2929\n",
            "Test Loss - MOSEAS Regression:  0.4342\n",
            "Train MAE - MOSEAS Regression:  0.4164\n",
            "Test MAE - MOSEAS Regression:  0.5107\n",
            "Train Pearson - MOSEAS Regression:  0.6266\n",
            "Test Pearson - MOSEAS Regression:  0.3667\n"
          ]
        },
        {
          "name": "stderr",
          "output_type": "stream",
          "text": [
            "\rMOSEAS Regression:  92%|█████████▏| 229/250 [1:11:58<06:32, 18.67s/it]"
          ]
        },
        {
          "name": "stdout",
          "output_type": "stream",
          "text": [
            "Train Loss - MOSEAS Regression:  0.2882\n",
            "Test Loss - MOSEAS Regression:  0.4355\n",
            "Train MAE - MOSEAS Regression:  0.4123\n",
            "Test MAE - MOSEAS Regression:  0.5089\n",
            "Train Pearson - MOSEAS Regression:  0.6362\n",
            "Test Pearson - MOSEAS Regression:  0.37\n"
          ]
        },
        {
          "name": "stderr",
          "output_type": "stream",
          "text": [
            "\rMOSEAS Regression:  92%|█████████▏| 230/250 [1:12:16<06:09, 18.47s/it]"
          ]
        },
        {
          "name": "stdout",
          "output_type": "stream",
          "text": [
            "Train Loss - MOSEAS Regression:  0.2896\n",
            "Test Loss - MOSEAS Regression:  0.4364\n",
            "Train MAE - MOSEAS Regression:  0.4138\n",
            "Test MAE - MOSEAS Regression:  0.5135\n",
            "Train Pearson - MOSEAS Regression:  0.6326\n",
            "Test Pearson - MOSEAS Regression:  0.3688\n"
          ]
        },
        {
          "name": "stderr",
          "output_type": "stream",
          "text": [
            "\rMOSEAS Regression:  92%|█████████▏| 231/250 [1:12:35<05:57, 18.82s/it]"
          ]
        },
        {
          "name": "stdout",
          "output_type": "stream",
          "text": [
            "Train Loss - MOSEAS Regression:  0.2903\n",
            "Test Loss - MOSEAS Regression:  0.4321\n",
            "Train MAE - MOSEAS Regression:  0.4143\n",
            "Test MAE - MOSEAS Regression:  0.5089\n",
            "Train Pearson - MOSEAS Regression:  0.631\n",
            "Test Pearson - MOSEAS Regression:  0.3694\n"
          ]
        },
        {
          "name": "stderr",
          "output_type": "stream",
          "text": [
            "\rMOSEAS Regression:  93%|█████████▎| 232/250 [1:12:54<05:40, 18.91s/it]"
          ]
        },
        {
          "name": "stdout",
          "output_type": "stream",
          "text": [
            "Train Loss - MOSEAS Regression:  0.291\n",
            "Test Loss - MOSEAS Regression:  0.4329\n",
            "Train MAE - MOSEAS Regression:  0.4155\n",
            "Test MAE - MOSEAS Regression:  0.5085\n",
            "Train Pearson - MOSEAS Regression:  0.6298\n",
            "Test Pearson - MOSEAS Regression:  0.3697\n"
          ]
        },
        {
          "name": "stderr",
          "output_type": "stream",
          "text": [
            "\rMOSEAS Regression:  93%|█████████▎| 233/250 [1:13:14<05:24, 19.06s/it]"
          ]
        },
        {
          "name": "stdout",
          "output_type": "stream",
          "text": [
            "Train Loss - MOSEAS Regression:  0.2899\n",
            "Test Loss - MOSEAS Regression:  0.4346\n",
            "Train MAE - MOSEAS Regression:  0.4153\n",
            "Test MAE - MOSEAS Regression:  0.5096\n",
            "Train Pearson - MOSEAS Regression:  0.6317\n",
            "Test Pearson - MOSEAS Regression:  0.3688\n"
          ]
        },
        {
          "name": "stderr",
          "output_type": "stream",
          "text": [
            "\rMOSEAS Regression:  94%|█████████▎| 234/250 [1:13:32<05:03, 18.97s/it]"
          ]
        },
        {
          "name": "stdout",
          "output_type": "stream",
          "text": [
            "Train Loss - MOSEAS Regression:  0.288\n",
            "Test Loss - MOSEAS Regression:  0.434\n",
            "Train MAE - MOSEAS Regression:  0.4119\n",
            "Test MAE - MOSEAS Regression:  0.5101\n",
            "Train Pearson - MOSEAS Regression:  0.6347\n",
            "Test Pearson - MOSEAS Regression:  0.3687\n"
          ]
        },
        {
          "name": "stderr",
          "output_type": "stream",
          "text": [
            "\rMOSEAS Regression:  94%|█████████▍| 235/250 [1:13:51<04:41, 18.75s/it]"
          ]
        },
        {
          "name": "stdout",
          "output_type": "stream",
          "text": [
            "Train Loss - MOSEAS Regression:  0.2932\n",
            "Test Loss - MOSEAS Regression:  0.4337\n",
            "Train MAE - MOSEAS Regression:  0.4181\n",
            "Test MAE - MOSEAS Regression:  0.5096\n",
            "Train Pearson - MOSEAS Regression:  0.6264\n",
            "Test Pearson - MOSEAS Regression:  0.3696\n"
          ]
        },
        {
          "name": "stderr",
          "output_type": "stream",
          "text": [
            "\rMOSEAS Regression:  94%|█████████▍| 236/250 [1:14:11<04:28, 19.18s/it]"
          ]
        },
        {
          "name": "stdout",
          "output_type": "stream",
          "text": [
            "Train Loss - MOSEAS Regression:  0.2863\n",
            "Test Loss - MOSEAS Regression:  0.4346\n",
            "Train MAE - MOSEAS Regression:  0.4114\n",
            "Test MAE - MOSEAS Regression:  0.5111\n",
            "Train Pearson - MOSEAS Regression:  0.6374\n",
            "Test Pearson - MOSEAS Regression:  0.3683\n"
          ]
        },
        {
          "name": "stderr",
          "output_type": "stream",
          "text": [
            "\rMOSEAS Regression:  95%|█████████▍| 237/250 [1:14:30<04:07, 19.06s/it]"
          ]
        },
        {
          "name": "stdout",
          "output_type": "stream",
          "text": [
            "Train Loss - MOSEAS Regression:  0.2899\n",
            "Test Loss - MOSEAS Regression:  0.4373\n",
            "Train MAE - MOSEAS Regression:  0.4139\n",
            "Test MAE - MOSEAS Regression:  0.5117\n",
            "Train Pearson - MOSEAS Regression:  0.6315\n",
            "Test Pearson - MOSEAS Regression:  0.3663\n"
          ]
        },
        {
          "name": "stderr",
          "output_type": "stream",
          "text": [
            "\rMOSEAS Regression:  95%|█████████▌| 238/250 [1:14:50<03:52, 19.37s/it]"
          ]
        },
        {
          "name": "stdout",
          "output_type": "stream",
          "text": [
            "Train Loss - MOSEAS Regression:  0.2878\n",
            "Test Loss - MOSEAS Regression:  0.4396\n",
            "Train MAE - MOSEAS Regression:  0.4137\n",
            "Test MAE - MOSEAS Regression:  0.5132\n",
            "Train Pearson - MOSEAS Regression:  0.6349\n",
            "Test Pearson - MOSEAS Regression:  0.3634\n"
          ]
        },
        {
          "name": "stderr",
          "output_type": "stream",
          "text": [
            "\rMOSEAS Regression:  96%|█████████▌| 239/250 [1:15:09<03:31, 19.25s/it]"
          ]
        },
        {
          "name": "stdout",
          "output_type": "stream",
          "text": [
            "Train Loss - MOSEAS Regression:  0.2876\n",
            "Test Loss - MOSEAS Regression:  0.4414\n",
            "Train MAE - MOSEAS Regression:  0.4121\n",
            "Test MAE - MOSEAS Regression:  0.5163\n",
            "Train Pearson - MOSEAS Regression:  0.6353\n",
            "Test Pearson - MOSEAS Regression:  0.3611\n"
          ]
        },
        {
          "name": "stderr",
          "output_type": "stream",
          "text": [
            "\rMOSEAS Regression:  96%|█████████▌| 240/250 [1:15:27<03:08, 18.89s/it]"
          ]
        },
        {
          "name": "stdout",
          "output_type": "stream",
          "text": [
            "Train Loss - MOSEAS Regression:  0.2849\n",
            "Test Loss - MOSEAS Regression:  0.4378\n",
            "Train MAE - MOSEAS Regression:  0.4095\n",
            "Test MAE - MOSEAS Regression:  0.5125\n",
            "Train Pearson - MOSEAS Regression:  0.6398\n",
            "Test Pearson - MOSEAS Regression:  0.3662\n"
          ]
        },
        {
          "name": "stderr",
          "output_type": "stream",
          "text": [
            "\rMOSEAS Regression:  96%|█████████▋| 241/250 [1:15:46<02:49, 18.85s/it]"
          ]
        },
        {
          "name": "stdout",
          "output_type": "stream",
          "text": [
            "Train Loss - MOSEAS Regression:  0.2875\n",
            "Test Loss - MOSEAS Regression:  0.4374\n",
            "Train MAE - MOSEAS Regression:  0.4124\n",
            "Test MAE - MOSEAS Regression:  0.5118\n",
            "Train Pearson - MOSEAS Regression:  0.6355\n",
            "Test Pearson - MOSEAS Regression:  0.367\n"
          ]
        },
        {
          "name": "stderr",
          "output_type": "stream",
          "text": [
            "\rMOSEAS Regression:  97%|█████████▋| 242/250 [1:16:04<02:29, 18.68s/it]"
          ]
        },
        {
          "name": "stdout",
          "output_type": "stream",
          "text": [
            "Train Loss - MOSEAS Regression:  0.2879\n",
            "Test Loss - MOSEAS Regression:  0.4383\n",
            "Train MAE - MOSEAS Regression:  0.4119\n",
            "Test MAE - MOSEAS Regression:  0.5114\n",
            "Train Pearson - MOSEAS Regression:  0.6348\n",
            "Test Pearson - MOSEAS Regression:  0.3666\n"
          ]
        },
        {
          "name": "stderr",
          "output_type": "stream",
          "text": [
            "\rMOSEAS Regression:  97%|█████████▋| 243/250 [1:16:23<02:10, 18.68s/it]"
          ]
        },
        {
          "name": "stdout",
          "output_type": "stream",
          "text": [
            "Train Loss - MOSEAS Regression:  0.284\n",
            "Test Loss - MOSEAS Regression:  0.4437\n",
            "Train MAE - MOSEAS Regression:  0.408\n",
            "Test MAE - MOSEAS Regression:  0.5183\n",
            "Train Pearson - MOSEAS Regression:  0.6415\n",
            "Test Pearson - MOSEAS Regression:  0.3601\n"
          ]
        },
        {
          "name": "stderr",
          "output_type": "stream",
          "text": [
            "\rMOSEAS Regression:  98%|█████████▊| 244/250 [1:16:42<01:52, 18.81s/it]"
          ]
        },
        {
          "name": "stdout",
          "output_type": "stream",
          "text": [
            "Train Loss - MOSEAS Regression:  0.2859\n",
            "Test Loss - MOSEAS Regression:  0.4386\n",
            "Train MAE - MOSEAS Regression:  0.4115\n",
            "Test MAE - MOSEAS Regression:  0.5116\n",
            "Train Pearson - MOSEAS Regression:  0.6388\n",
            "Test Pearson - MOSEAS Regression:  0.3664\n"
          ]
        },
        {
          "name": "stderr",
          "output_type": "stream",
          "text": [
            "\rMOSEAS Regression:  98%|█████████▊| 245/250 [1:17:01<01:34, 18.99s/it]"
          ]
        },
        {
          "name": "stdout",
          "output_type": "stream",
          "text": [
            "Train Loss - MOSEAS Regression:  0.2875\n",
            "Test Loss - MOSEAS Regression:  0.4395\n",
            "Train MAE - MOSEAS Regression:  0.4127\n",
            "Test MAE - MOSEAS Regression:  0.5138\n",
            "Train Pearson - MOSEAS Regression:  0.6354\n",
            "Test Pearson - MOSEAS Regression:  0.3644\n"
          ]
        },
        {
          "name": "stderr",
          "output_type": "stream",
          "text": [
            "\rMOSEAS Regression:  98%|█████████▊| 246/250 [1:17:19<01:14, 18.63s/it]"
          ]
        },
        {
          "name": "stdout",
          "output_type": "stream",
          "text": [
            "Train Loss - MOSEAS Regression:  0.2849\n",
            "Test Loss - MOSEAS Regression:  0.4389\n",
            "Train MAE - MOSEAS Regression:  0.4094\n",
            "Test MAE - MOSEAS Regression:  0.5139\n",
            "Train Pearson - MOSEAS Regression:  0.6398\n",
            "Test Pearson - MOSEAS Regression:  0.3644\n"
          ]
        },
        {
          "name": "stderr",
          "output_type": "stream",
          "text": [
            "\rMOSEAS Regression:  99%|█████████▉| 247/250 [1:17:38<00:56, 18.73s/it]"
          ]
        },
        {
          "name": "stdout",
          "output_type": "stream",
          "text": [
            "Train Loss - MOSEAS Regression:  0.281\n",
            "Test Loss - MOSEAS Regression:  0.4395\n",
            "Train MAE - MOSEAS Regression:  0.4081\n",
            "Test MAE - MOSEAS Regression:  0.5144\n",
            "Train Pearson - MOSEAS Regression:  0.6462\n",
            "Test Pearson - MOSEAS Regression:  0.3642\n"
          ]
        },
        {
          "name": "stderr",
          "output_type": "stream",
          "text": [
            "\rMOSEAS Regression:  99%|█████████▉| 248/250 [1:17:57<00:37, 18.93s/it]"
          ]
        },
        {
          "name": "stdout",
          "output_type": "stream",
          "text": [
            "Train Loss - MOSEAS Regression:  0.2858\n",
            "Test Loss - MOSEAS Regression:  0.4425\n",
            "Train MAE - MOSEAS Regression:  0.414\n",
            "Test MAE - MOSEAS Regression:  0.5168\n",
            "Train Pearson - MOSEAS Regression:  0.6383\n",
            "Test Pearson - MOSEAS Regression:  0.362\n"
          ]
        },
        {
          "name": "stderr",
          "output_type": "stream",
          "text": [
            "\rMOSEAS Regression: 100%|█████████▉| 249/250 [1:18:16<00:18, 18.93s/it]"
          ]
        },
        {
          "name": "stdout",
          "output_type": "stream",
          "text": [
            "Train Loss - MOSEAS Regression:  0.283\n",
            "Test Loss - MOSEAS Regression:  0.4454\n",
            "Train MAE - MOSEAS Regression:  0.4094\n",
            "Test MAE - MOSEAS Regression:  0.5181\n",
            "Train Pearson - MOSEAS Regression:  0.6429\n",
            "Test Pearson - MOSEAS Regression:  0.3586\n"
          ]
        },
        {
          "name": "stderr",
          "output_type": "stream",
          "text": [
            "MOSEAS Regression: 100%|██████████| 250/250 [1:18:36<00:00, 18.86s/it]"
          ]
        },
        {
          "name": "stdout",
          "output_type": "stream",
          "text": [
            "Train Loss - MOSEAS Regression:  0.2834\n",
            "Test Loss - MOSEAS Regression:  0.4468\n",
            "Train MAE - MOSEAS Regression:  0.4099\n",
            "Test MAE - MOSEAS Regression:  0.5194\n",
            "Train Pearson - MOSEAS Regression:  0.6422\n",
            "Test Pearson - MOSEAS Regression:  0.3553\n",
            "Test performance..\n",
            "Loss 0.4189 MAE 0.4975999891757965 r 0.3787\n"
          ]
        },
        {
          "name": "stderr",
          "output_type": "stream",
          "text": [
            "\n"
          ]
        }
      ]
    },
    {
      "cell_type": "code",
      "metadata": {
        "colab": {
          "base_uri": "https://localhost:8080/"
        },
        "id": "M-hUegoYbuvR",
        "outputId": "e552d3f5-61d5-496d-ef5b-9f45a5d293cb"
      },
      "source": [
        "# Training loop\n",
        "for e in tqdm(range(n_epochs), desc = 'MOSEAS Regression'):\n",
        "    train_loss, train_mae, train_pear,_,_,_ = train_or_eval_model(model, loss_function, train_loader, e, optimizer, True)\n",
        "    test_loss, test_mae, test_pear, test_label, test_pred, test_mask = train_or_eval_model(model, loss_function, test_loader, e)\n",
        "    log_res(train_loss, test_loss, train_mae, test_mae, train_pear, test_pear)\n",
        "\n",
        "    if best_loss == None or best_loss > test_loss:\n",
        "        best_loss, best_mae, best_label, best_pred, best_mask, best_pear =\\\n",
        "                test_loss, test_mae, test_label, test_pred, test_mask, test_pear\n",
        "        print(f\"saving checkpoint for epoch {e}\")\n",
        "        torch.save(model.state_dict(),f\"/content/gdrive/MyDrive/11-777 MMML/multilogue-net/logs/moseas_regression/epoch{e}_testloss_{best_loss}_testmae_{best_mae}_testpear_{best_pear}.t7\")\n",
        "\n",
        "print('Test performance..')\n",
        "print('Loss {} MAE {} r {}'.format(best_loss, round(mean_absolute_error(best_label,best_pred,sample_weight=best_mask),4), best_pear))"
      ],
      "execution_count": null,
      "outputs": [
        {
          "name": "stderr",
          "output_type": "stream",
          "text": [
            "\rMOSEAS Regression:   0%|          | 0/250 [00:00<?, ?it/s]/content/gdrive/.shortcut-targets-by-id/1sKygtzdMExNjy2GJE2k9Z6m8S3ehIYG3/11-777 MMML/multilogue-net/dataloader.py:47: UserWarning: Creating a tensor from a list of numpy.ndarrays is extremely slow. Please consider converting the list to a single numpy.ndarray with numpy.array() before converting to a tensor. (Triggered internally at  ../torch/csrc/utils/tensor_new.cpp:201.)\n",
            "  return self._deactive((torch.FloatTensor(self.videoText[vid]),\\\n"
          ]
        },
        {
          "name": "stdout",
          "output_type": "stream",
          "text": [
            "Train Loss - MOSEAS Regression:  0.6639\n",
            "Test Loss - MOSEAS Regression:  0.5621\n",
            "Train MAE - MOSEAS Regression:  0.6179\n",
            "Test MAE - MOSEAS Regression:  0.5692\n",
            "Train Pearson - MOSEAS Regression:  -0.0484\n",
            "Test Pearson - MOSEAS Regression:  -0.1142\n",
            "saving checkpoint for epoch 0\n"
          ]
        },
        {
          "name": "stderr",
          "output_type": "stream",
          "text": [
            "MOSEAS Regression:   1%|          | 2/250 [00:32<1:04:43, 15.66s/it]"
          ]
        },
        {
          "name": "stdout",
          "output_type": "stream",
          "text": [
            "Train Loss - MOSEAS Regression:  0.5439\n",
            "Test Loss - MOSEAS Regression:  0.5079\n",
            "Train MAE - MOSEAS Regression:  0.5543\n",
            "Test MAE - MOSEAS Regression:  0.5467\n",
            "Train Pearson - MOSEAS Regression:  0.0058\n",
            "Test Pearson - MOSEAS Regression:  -0.0995\n",
            "saving checkpoint for epoch 1\n"
          ]
        },
        {
          "name": "stderr",
          "output_type": "stream",
          "text": [
            "\rMOSEAS Regression:   1%|          | 3/250 [00:44<57:53, 14.06s/it]  "
          ]
        },
        {
          "name": "stdout",
          "output_type": "stream",
          "text": [
            "Train Loss - MOSEAS Regression:  0.5211\n",
            "Test Loss - MOSEAS Regression:  0.5041\n",
            "Train MAE - MOSEAS Regression:  0.5546\n",
            "Test MAE - MOSEAS Regression:  0.5604\n",
            "Train Pearson - MOSEAS Regression:  -0.0389\n",
            "Test Pearson - MOSEAS Regression:  -0.0906\n",
            "saving checkpoint for epoch 2\n"
          ]
        },
        {
          "name": "stderr",
          "output_type": "stream",
          "text": [
            "\rMOSEAS Regression:   2%|▏         | 4/250 [00:57<55:27, 13.53s/it]"
          ]
        },
        {
          "name": "stdout",
          "output_type": "stream",
          "text": [
            "Train Loss - MOSEAS Regression:  0.5239\n",
            "Test Loss - MOSEAS Regression:  0.5113\n",
            "Train MAE - MOSEAS Regression:  0.5666\n",
            "Test MAE - MOSEAS Regression:  0.5713\n",
            "Train Pearson - MOSEAS Regression:  -0.0297\n",
            "Test Pearson - MOSEAS Regression:  -0.0829\n"
          ]
        },
        {
          "name": "stderr",
          "output_type": "stream",
          "text": [
            "\rMOSEAS Regression:   2%|▏         | 5/250 [01:10<54:45, 13.41s/it]"
          ]
        },
        {
          "name": "stdout",
          "output_type": "stream",
          "text": [
            "Train Loss - MOSEAS Regression:  0.5372\n",
            "Test Loss - MOSEAS Regression:  0.5095\n",
            "Train MAE - MOSEAS Regression:  0.5787\n",
            "Test MAE - MOSEAS Regression:  0.5713\n",
            "Train Pearson - MOSEAS Regression:  -0.0543\n",
            "Test Pearson - MOSEAS Regression:  -0.0743\n"
          ]
        },
        {
          "name": "stderr",
          "output_type": "stream",
          "text": [
            "\rMOSEAS Regression:   2%|▏         | 6/250 [01:23<53:59, 13.28s/it]"
          ]
        },
        {
          "name": "stdout",
          "output_type": "stream",
          "text": [
            "Train Loss - MOSEAS Regression:  0.5324\n",
            "Test Loss - MOSEAS Regression:  0.499\n",
            "Train MAE - MOSEAS Regression:  0.575\n",
            "Test MAE - MOSEAS Regression:  0.5621\n",
            "Train Pearson - MOSEAS Regression:  -0.0472\n",
            "Test Pearson - MOSEAS Regression:  -0.0623\n",
            "saving checkpoint for epoch 5\n"
          ]
        },
        {
          "name": "stderr",
          "output_type": "stream",
          "text": [
            "\rMOSEAS Regression:   3%|▎         | 7/250 [01:36<53:14, 13.15s/it]"
          ]
        },
        {
          "name": "stdout",
          "output_type": "stream",
          "text": [
            "Train Loss - MOSEAS Regression:  0.5159\n",
            "Test Loss - MOSEAS Regression:  0.489\n",
            "Train MAE - MOSEAS Regression:  0.5627\n",
            "Test MAE - MOSEAS Regression:  0.549\n",
            "Train Pearson - MOSEAS Regression:  -0.0126\n",
            "Test Pearson - MOSEAS Regression:  -0.0438\n",
            "saving checkpoint for epoch 6\n"
          ]
        },
        {
          "name": "stderr",
          "output_type": "stream",
          "text": [
            "\rMOSEAS Regression:   3%|▎         | 8/250 [01:49<52:30, 13.02s/it]"
          ]
        },
        {
          "name": "stdout",
          "output_type": "stream",
          "text": [
            "Train Loss - MOSEAS Regression:  0.513\n",
            "Test Loss - MOSEAS Regression:  0.4843\n",
            "Train MAE - MOSEAS Regression:  0.5571\n",
            "Test MAE - MOSEAS Regression:  0.5369\n",
            "Train Pearson - MOSEAS Regression:  -0.0428\n",
            "Test Pearson - MOSEAS Regression:  -0.0143\n",
            "saving checkpoint for epoch 7\n"
          ]
        },
        {
          "name": "stderr",
          "output_type": "stream",
          "text": [
            "\rMOSEAS Regression:   4%|▎         | 9/250 [02:01<51:27, 12.81s/it]"
          ]
        },
        {
          "name": "stdout",
          "output_type": "stream",
          "text": [
            "Train Loss - MOSEAS Regression:  0.4983\n",
            "Test Loss - MOSEAS Regression:  0.4848\n",
            "Train MAE - MOSEAS Regression:  0.5428\n",
            "Test MAE - MOSEAS Regression:  0.5345\n",
            "Train Pearson - MOSEAS Regression:  0.0169\n",
            "Test Pearson - MOSEAS Regression:  0.0262\n"
          ]
        },
        {
          "name": "stderr",
          "output_type": "stream",
          "text": [
            "\rMOSEAS Regression:   4%|▍         | 10/250 [02:13<50:25, 12.61s/it]"
          ]
        },
        {
          "name": "stdout",
          "output_type": "stream",
          "text": [
            "Train Loss - MOSEAS Regression:  0.4964\n",
            "Test Loss - MOSEAS Regression:  0.4869\n",
            "Train MAE - MOSEAS Regression:  0.542\n",
            "Test MAE - MOSEAS Regression:  0.5359\n",
            "Train Pearson - MOSEAS Regression:  0.0358\n",
            "Test Pearson - MOSEAS Regression:  0.0651\n"
          ]
        },
        {
          "name": "stderr",
          "output_type": "stream",
          "text": [
            "\rMOSEAS Regression:   4%|▍         | 11/250 [02:26<50:28, 12.67s/it]"
          ]
        },
        {
          "name": "stdout",
          "output_type": "stream",
          "text": [
            "Train Loss - MOSEAS Regression:  0.497\n",
            "Test Loss - MOSEAS Regression:  0.4873\n",
            "Train MAE - MOSEAS Regression:  0.5372\n",
            "Test MAE - MOSEAS Regression:  0.5362\n",
            "Train Pearson - MOSEAS Regression:  0.0517\n",
            "Test Pearson - MOSEAS Regression:  0.0909\n"
          ]
        },
        {
          "name": "stderr",
          "output_type": "stream",
          "text": [
            "\rMOSEAS Regression:   5%|▍         | 12/250 [02:39<49:58, 12.60s/it]"
          ]
        },
        {
          "name": "stdout",
          "output_type": "stream",
          "text": [
            "Train Loss - MOSEAS Regression:  0.5013\n",
            "Test Loss - MOSEAS Regression:  0.4851\n",
            "Train MAE - MOSEAS Regression:  0.5373\n",
            "Test MAE - MOSEAS Regression:  0.5348\n",
            "Train Pearson - MOSEAS Regression:  0.0349\n",
            "Test Pearson - MOSEAS Regression:  0.1049\n"
          ]
        },
        {
          "name": "stderr",
          "output_type": "stream",
          "text": [
            "\rMOSEAS Regression:   5%|▌         | 13/250 [02:51<49:34, 12.55s/it]"
          ]
        },
        {
          "name": "stdout",
          "output_type": "stream",
          "text": [
            "Train Loss - MOSEAS Regression:  0.4944\n",
            "Test Loss - MOSEAS Regression:  0.4802\n",
            "Train MAE - MOSEAS Regression:  0.5348\n",
            "Test MAE - MOSEAS Regression:  0.532\n",
            "Train Pearson - MOSEAS Regression:  0.0668\n",
            "Test Pearson - MOSEAS Regression:  0.1099\n",
            "saving checkpoint for epoch 12\n"
          ]
        },
        {
          "name": "stderr",
          "output_type": "stream",
          "text": [
            "\rMOSEAS Regression:   6%|▌         | 14/250 [03:04<50:15, 12.78s/it]"
          ]
        },
        {
          "name": "stdout",
          "output_type": "stream",
          "text": [
            "Train Loss - MOSEAS Regression:  0.4901\n",
            "Test Loss - MOSEAS Regression:  0.476\n",
            "Train MAE - MOSEAS Regression:  0.5346\n",
            "Test MAE - MOSEAS Regression:  0.5309\n",
            "Train Pearson - MOSEAS Regression:  0.0759\n",
            "Test Pearson - MOSEAS Regression:  0.113\n",
            "saving checkpoint for epoch 13\n"
          ]
        },
        {
          "name": "stderr",
          "output_type": "stream",
          "text": [
            "\rMOSEAS Regression:   6%|▌         | 15/250 [03:17<50:05, 12.79s/it]"
          ]
        },
        {
          "name": "stdout",
          "output_type": "stream",
          "text": [
            "Train Loss - MOSEAS Regression:  0.4869\n",
            "Test Loss - MOSEAS Regression:  0.473\n",
            "Train MAE - MOSEAS Regression:  0.5331\n",
            "Test MAE - MOSEAS Regression:  0.5322\n",
            "Train Pearson - MOSEAS Regression:  0.0693\n",
            "Test Pearson - MOSEAS Regression:  0.1144\n",
            "saving checkpoint for epoch 14\n"
          ]
        },
        {
          "name": "stderr",
          "output_type": "stream",
          "text": [
            "\rMOSEAS Regression:   6%|▋         | 16/250 [03:30<50:23, 12.92s/it]"
          ]
        },
        {
          "name": "stdout",
          "output_type": "stream",
          "text": [
            "Train Loss - MOSEAS Regression:  0.4841\n",
            "Test Loss - MOSEAS Regression:  0.4716\n",
            "Train MAE - MOSEAS Regression:  0.5363\n",
            "Test MAE - MOSEAS Regression:  0.5343\n",
            "Train Pearson - MOSEAS Regression:  0.0822\n",
            "Test Pearson - MOSEAS Regression:  0.1172\n",
            "saving checkpoint for epoch 15\n"
          ]
        },
        {
          "name": "stderr",
          "output_type": "stream",
          "text": [
            "\rMOSEAS Regression:   7%|▋         | 17/250 [03:43<50:12, 12.93s/it]"
          ]
        },
        {
          "name": "stdout",
          "output_type": "stream",
          "text": [
            "Train Loss - MOSEAS Regression:  0.4763\n",
            "Test Loss - MOSEAS Regression:  0.4708\n",
            "Train MAE - MOSEAS Regression:  0.5347\n",
            "Test MAE - MOSEAS Regression:  0.5352\n",
            "Train Pearson - MOSEAS Regression:  0.1236\n",
            "Test Pearson - MOSEAS Regression:  0.1237\n",
            "saving checkpoint for epoch 16\n"
          ]
        },
        {
          "name": "stderr",
          "output_type": "stream",
          "text": [
            "\rMOSEAS Regression:   7%|▋         | 18/250 [03:56<49:32, 12.81s/it]"
          ]
        },
        {
          "name": "stdout",
          "output_type": "stream",
          "text": [
            "Train Loss - MOSEAS Regression:  0.4851\n",
            "Test Loss - MOSEAS Regression:  0.4698\n",
            "Train MAE - MOSEAS Regression:  0.5414\n",
            "Test MAE - MOSEAS Regression:  0.5347\n",
            "Train Pearson - MOSEAS Regression:  0.0804\n",
            "Test Pearson - MOSEAS Regression:  0.1323\n",
            "saving checkpoint for epoch 17\n"
          ]
        },
        {
          "name": "stderr",
          "output_type": "stream",
          "text": [
            "\rMOSEAS Regression:   8%|▊         | 19/250 [04:09<50:03, 13.00s/it]"
          ]
        },
        {
          "name": "stdout",
          "output_type": "stream",
          "text": [
            "Train Loss - MOSEAS Regression:  0.4781\n",
            "Test Loss - MOSEAS Regression:  0.4687\n",
            "Train MAE - MOSEAS Regression:  0.5335\n",
            "Test MAE - MOSEAS Regression:  0.533\n",
            "Train Pearson - MOSEAS Regression:  0.1171\n",
            "Test Pearson - MOSEAS Regression:  0.1421\n",
            "saving checkpoint for epoch 18\n"
          ]
        },
        {
          "name": "stderr",
          "output_type": "stream",
          "text": [
            "\rMOSEAS Regression:   8%|▊         | 20/250 [04:22<49:39, 12.95s/it]"
          ]
        },
        {
          "name": "stdout",
          "output_type": "stream",
          "text": [
            "Train Loss - MOSEAS Regression:  0.4785\n",
            "Test Loss - MOSEAS Regression:  0.4683\n",
            "Train MAE - MOSEAS Regression:  0.5333\n",
            "Test MAE - MOSEAS Regression:  0.5309\n",
            "Train Pearson - MOSEAS Regression:  0.1126\n",
            "Test Pearson - MOSEAS Regression:  0.151\n",
            "saving checkpoint for epoch 19\n"
          ]
        },
        {
          "name": "stderr",
          "output_type": "stream",
          "text": [
            "\rMOSEAS Regression:   8%|▊         | 21/250 [04:35<49:49, 13.05s/it]"
          ]
        },
        {
          "name": "stdout",
          "output_type": "stream",
          "text": [
            "Train Loss - MOSEAS Regression:  0.4764\n",
            "Test Loss - MOSEAS Regression:  0.4687\n",
            "Train MAE - MOSEAS Regression:  0.5309\n",
            "Test MAE - MOSEAS Regression:  0.5295\n",
            "Train Pearson - MOSEAS Regression:  0.1231\n",
            "Test Pearson - MOSEAS Regression:  0.1575\n"
          ]
        },
        {
          "name": "stderr",
          "output_type": "stream",
          "text": [
            "\rMOSEAS Regression:   9%|▉         | 22/250 [04:48<48:51, 12.86s/it]"
          ]
        },
        {
          "name": "stdout",
          "output_type": "stream",
          "text": [
            "Train Loss - MOSEAS Regression:  0.4763\n",
            "Test Loss - MOSEAS Regression:  0.4697\n",
            "Train MAE - MOSEAS Regression:  0.53\n",
            "Test MAE - MOSEAS Regression:  0.5287\n",
            "Train Pearson - MOSEAS Regression:  0.1278\n",
            "Test Pearson - MOSEAS Regression:  0.1625\n"
          ]
        },
        {
          "name": "stderr",
          "output_type": "stream",
          "text": [
            "\rMOSEAS Regression:   9%|▉         | 23/250 [05:01<48:59, 12.95s/it]"
          ]
        },
        {
          "name": "stdout",
          "output_type": "stream",
          "text": [
            "Train Loss - MOSEAS Regression:  0.4802\n",
            "Test Loss - MOSEAS Regression:  0.4703\n",
            "Train MAE - MOSEAS Regression:  0.5304\n",
            "Test MAE - MOSEAS Regression:  0.5285\n",
            "Train Pearson - MOSEAS Regression:  0.1171\n",
            "Test Pearson - MOSEAS Regression:  0.1662\n"
          ]
        },
        {
          "name": "stderr",
          "output_type": "stream",
          "text": [
            "\rMOSEAS Regression:  10%|▉         | 24/250 [05:13<48:11, 12.79s/it]"
          ]
        },
        {
          "name": "stdout",
          "output_type": "stream",
          "text": [
            "Train Loss - MOSEAS Regression:  0.4769\n",
            "Test Loss - MOSEAS Regression:  0.4689\n",
            "Train MAE - MOSEAS Regression:  0.5269\n",
            "Test MAE - MOSEAS Regression:  0.5283\n",
            "Train Pearson - MOSEAS Regression:  0.1352\n",
            "Test Pearson - MOSEAS Regression:  0.1694\n"
          ]
        },
        {
          "name": "stderr",
          "output_type": "stream",
          "text": [
            "\rMOSEAS Regression:  10%|█         | 25/250 [05:26<48:02, 12.81s/it]"
          ]
        },
        {
          "name": "stdout",
          "output_type": "stream",
          "text": [
            "Train Loss - MOSEAS Regression:  0.4735\n",
            "Test Loss - MOSEAS Regression:  0.4665\n",
            "Train MAE - MOSEAS Regression:  0.5268\n",
            "Test MAE - MOSEAS Regression:  0.5284\n",
            "Train Pearson - MOSEAS Regression:  0.1471\n",
            "Test Pearson - MOSEAS Regression:  0.1723\n",
            "saving checkpoint for epoch 24\n"
          ]
        },
        {
          "name": "stderr",
          "output_type": "stream",
          "text": [
            "\rMOSEAS Regression:  10%|█         | 26/250 [05:39<47:32, 12.73s/it]"
          ]
        },
        {
          "name": "stdout",
          "output_type": "stream",
          "text": [
            "Train Loss - MOSEAS Regression:  0.4721\n",
            "Test Loss - MOSEAS Regression:  0.4644\n",
            "Train MAE - MOSEAS Regression:  0.5271\n",
            "Test MAE - MOSEAS Regression:  0.5293\n",
            "Train Pearson - MOSEAS Regression:  0.1475\n",
            "Test Pearson - MOSEAS Regression:  0.1749\n",
            "saving checkpoint for epoch 25\n"
          ]
        },
        {
          "name": "stderr",
          "output_type": "stream",
          "text": [
            "\rMOSEAS Regression:  11%|█         | 27/250 [05:51<47:06, 12.67s/it]"
          ]
        },
        {
          "name": "stdout",
          "output_type": "stream",
          "text": [
            "Train Loss - MOSEAS Regression:  0.4628\n",
            "Test Loss - MOSEAS Regression:  0.4634\n",
            "Train MAE - MOSEAS Regression:  0.5234\n",
            "Test MAE - MOSEAS Regression:  0.5301\n",
            "Train Pearson - MOSEAS Regression:  0.1902\n",
            "Test Pearson - MOSEAS Regression:  0.1777\n",
            "saving checkpoint for epoch 26\n"
          ]
        },
        {
          "name": "stderr",
          "output_type": "stream",
          "text": [
            "\rMOSEAS Regression:  11%|█         | 28/250 [06:04<47:06, 12.73s/it]"
          ]
        },
        {
          "name": "stdout",
          "output_type": "stream",
          "text": [
            "Train Loss - MOSEAS Regression:  0.4677\n",
            "Test Loss - MOSEAS Regression:  0.4627\n",
            "Train MAE - MOSEAS Regression:  0.5255\n",
            "Test MAE - MOSEAS Regression:  0.5303\n",
            "Train Pearson - MOSEAS Regression:  0.1677\n",
            "Test Pearson - MOSEAS Regression:  0.1806\n",
            "saving checkpoint for epoch 27\n"
          ]
        },
        {
          "name": "stderr",
          "output_type": "stream",
          "text": [
            "\rMOSEAS Regression:  12%|█▏        | 29/250 [06:18<47:40, 12.94s/it]"
          ]
        },
        {
          "name": "stdout",
          "output_type": "stream",
          "text": [
            "Train Loss - MOSEAS Regression:  0.4649\n",
            "Test Loss - MOSEAS Regression:  0.4621\n",
            "Train MAE - MOSEAS Regression:  0.5262\n",
            "Test MAE - MOSEAS Regression:  0.53\n",
            "Train Pearson - MOSEAS Regression:  0.1815\n",
            "Test Pearson - MOSEAS Regression:  0.1835\n",
            "saving checkpoint for epoch 28\n"
          ]
        },
        {
          "name": "stderr",
          "output_type": "stream",
          "text": [
            "\rMOSEAS Regression:  12%|█▏        | 30/250 [06:31<47:52, 13.06s/it]"
          ]
        },
        {
          "name": "stdout",
          "output_type": "stream",
          "text": [
            "Train Loss - MOSEAS Regression:  0.4658\n",
            "Test Loss - MOSEAS Regression:  0.462\n",
            "Train MAE - MOSEAS Regression:  0.5237\n",
            "Test MAE - MOSEAS Regression:  0.5289\n",
            "Train Pearson - MOSEAS Regression:  0.1773\n",
            "Test Pearson - MOSEAS Regression:  0.1861\n",
            "saving checkpoint for epoch 29\n"
          ]
        },
        {
          "name": "stderr",
          "output_type": "stream",
          "text": [
            "\rMOSEAS Regression:  12%|█▏        | 31/250 [06:43<46:59, 12.88s/it]"
          ]
        },
        {
          "name": "stdout",
          "output_type": "stream",
          "text": [
            "Train Loss - MOSEAS Regression:  0.4644\n",
            "Test Loss - MOSEAS Regression:  0.4621\n",
            "Train MAE - MOSEAS Regression:  0.5248\n",
            "Test MAE - MOSEAS Regression:  0.5278\n",
            "Train Pearson - MOSEAS Regression:  0.1837\n",
            "Test Pearson - MOSEAS Regression:  0.1886\n"
          ]
        },
        {
          "name": "stderr",
          "output_type": "stream",
          "text": [
            "\rMOSEAS Regression:  13%|█▎        | 32/250 [06:56<46:41, 12.85s/it]"
          ]
        },
        {
          "name": "stdout",
          "output_type": "stream",
          "text": [
            "Train Loss - MOSEAS Regression:  0.4642\n",
            "Test Loss - MOSEAS Regression:  0.4629\n",
            "Train MAE - MOSEAS Regression:  0.5242\n",
            "Test MAE - MOSEAS Regression:  0.5267\n",
            "Train Pearson - MOSEAS Regression:  0.186\n",
            "Test Pearson - MOSEAS Regression:  0.1907\n"
          ]
        },
        {
          "name": "stderr",
          "output_type": "stream",
          "text": [
            "\rMOSEAS Regression:  13%|█▎        | 33/250 [07:10<46:56, 12.98s/it]"
          ]
        },
        {
          "name": "stdout",
          "output_type": "stream",
          "text": [
            "Train Loss - MOSEAS Regression:  0.4644\n",
            "Test Loss - MOSEAS Regression:  0.4631\n",
            "Train MAE - MOSEAS Regression:  0.5213\n",
            "Test MAE - MOSEAS Regression:  0.5263\n",
            "Train Pearson - MOSEAS Regression:  0.1902\n",
            "Test Pearson - MOSEAS Regression:  0.1928\n"
          ]
        },
        {
          "name": "stderr",
          "output_type": "stream",
          "text": [
            "\rMOSEAS Regression:  14%|█▎        | 34/250 [07:23<47:09, 13.10s/it]"
          ]
        },
        {
          "name": "stdout",
          "output_type": "stream",
          "text": [
            "Train Loss - MOSEAS Regression:  0.4623\n",
            "Test Loss - MOSEAS Regression:  0.462\n",
            "Train MAE - MOSEAS Regression:  0.5206\n",
            "Test MAE - MOSEAS Regression:  0.5263\n",
            "Train Pearson - MOSEAS Regression:  0.1998\n",
            "Test Pearson - MOSEAS Regression:  0.1952\n"
          ]
        },
        {
          "name": "stderr",
          "output_type": "stream",
          "text": [
            "\rMOSEAS Regression:  14%|█▍        | 35/250 [07:35<45:37, 12.73s/it]"
          ]
        },
        {
          "name": "stdout",
          "output_type": "stream",
          "text": [
            "Train Loss - MOSEAS Regression:  0.4552\n",
            "Test Loss - MOSEAS Regression:  0.4609\n",
            "Train MAE - MOSEAS Regression:  0.5171\n",
            "Test MAE - MOSEAS Regression:  0.5265\n",
            "Train Pearson - MOSEAS Regression:  0.2291\n",
            "Test Pearson - MOSEAS Regression:  0.1975\n",
            "saving checkpoint for epoch 34\n"
          ]
        },
        {
          "name": "stderr",
          "output_type": "stream",
          "text": [
            "\rMOSEAS Regression:  14%|█▍        | 36/250 [07:47<44:23, 12.45s/it]"
          ]
        },
        {
          "name": "stdout",
          "output_type": "stream",
          "text": [
            "Train Loss - MOSEAS Regression:  0.4503\n",
            "Test Loss - MOSEAS Regression:  0.4595\n",
            "Train MAE - MOSEAS Regression:  0.5145\n",
            "Test MAE - MOSEAS Regression:  0.5273\n",
            "Train Pearson - MOSEAS Regression:  0.2483\n",
            "Test Pearson - MOSEAS Regression:  0.1998\n",
            "saving checkpoint for epoch 35\n"
          ]
        },
        {
          "name": "stderr",
          "output_type": "stream",
          "text": [
            "\rMOSEAS Regression:  15%|█▍        | 37/250 [08:00<44:46, 12.61s/it]"
          ]
        },
        {
          "name": "stdout",
          "output_type": "stream",
          "text": [
            "Train Loss - MOSEAS Regression:  0.4523\n",
            "Test Loss - MOSEAS Regression:  0.459\n",
            "Train MAE - MOSEAS Regression:  0.5178\n",
            "Test MAE - MOSEAS Regression:  0.5274\n",
            "Train Pearson - MOSEAS Regression:  0.2397\n",
            "Test Pearson - MOSEAS Regression:  0.2018\n",
            "saving checkpoint for epoch 36\n"
          ]
        },
        {
          "name": "stderr",
          "output_type": "stream",
          "text": [
            "\rMOSEAS Regression:  15%|█▌        | 38/250 [08:12<44:19, 12.54s/it]"
          ]
        },
        {
          "name": "stdout",
          "output_type": "stream",
          "text": [
            "Train Loss - MOSEAS Regression:  0.4575\n",
            "Test Loss - MOSEAS Regression:  0.4585\n",
            "Train MAE - MOSEAS Regression:  0.5196\n",
            "Test MAE - MOSEAS Regression:  0.5275\n",
            "Train Pearson - MOSEAS Regression:  0.2197\n",
            "Test Pearson - MOSEAS Regression:  0.2038\n",
            "saving checkpoint for epoch 37\n"
          ]
        },
        {
          "name": "stderr",
          "output_type": "stream",
          "text": [
            "\rMOSEAS Regression:  16%|█▌        | 39/250 [08:25<44:37, 12.69s/it]"
          ]
        },
        {
          "name": "stdout",
          "output_type": "stream",
          "text": [
            "Train Loss - MOSEAS Regression:  0.4481\n",
            "Test Loss - MOSEAS Regression:  0.458\n",
            "Train MAE - MOSEAS Regression:  0.5131\n",
            "Test MAE - MOSEAS Regression:  0.5278\n",
            "Train Pearson - MOSEAS Regression:  0.2573\n",
            "Test Pearson - MOSEAS Regression:  0.2059\n",
            "saving checkpoint for epoch 38\n"
          ]
        },
        {
          "name": "stderr",
          "output_type": "stream",
          "text": [
            "\rMOSEAS Regression:  16%|█▌        | 40/250 [08:37<44:12, 12.63s/it]"
          ]
        },
        {
          "name": "stdout",
          "output_type": "stream",
          "text": [
            "Train Loss - MOSEAS Regression:  0.4518\n",
            "Test Loss - MOSEAS Regression:  0.4579\n",
            "Train MAE - MOSEAS Regression:  0.5163\n",
            "Test MAE - MOSEAS Regression:  0.5269\n",
            "Train Pearson - MOSEAS Regression:  0.2423\n",
            "Test Pearson - MOSEAS Regression:  0.2081\n",
            "saving checkpoint for epoch 39\n"
          ]
        },
        {
          "name": "stderr",
          "output_type": "stream",
          "text": [
            "\rMOSEAS Regression:  16%|█▋        | 41/250 [08:50<43:44, 12.56s/it]"
          ]
        },
        {
          "name": "stdout",
          "output_type": "stream",
          "text": [
            "Train Loss - MOSEAS Regression:  0.4505\n",
            "Test Loss - MOSEAS Regression:  0.4581\n",
            "Train MAE - MOSEAS Regression:  0.5167\n",
            "Test MAE - MOSEAS Regression:  0.5259\n",
            "Train Pearson - MOSEAS Regression:  0.2486\n",
            "Test Pearson - MOSEAS Regression:  0.21\n"
          ]
        },
        {
          "name": "stderr",
          "output_type": "stream",
          "text": [
            "\rMOSEAS Regression:  17%|█▋        | 42/250 [09:03<43:43, 12.61s/it]"
          ]
        },
        {
          "name": "stdout",
          "output_type": "stream",
          "text": [
            "Train Loss - MOSEAS Regression:  0.4453\n",
            "Test Loss - MOSEAS Regression:  0.4587\n",
            "Train MAE - MOSEAS Regression:  0.5091\n",
            "Test MAE - MOSEAS Regression:  0.5251\n",
            "Train Pearson - MOSEAS Regression:  0.2688\n",
            "Test Pearson - MOSEAS Regression:  0.2116\n"
          ]
        },
        {
          "name": "stderr",
          "output_type": "stream",
          "text": [
            "\rMOSEAS Regression:  17%|█▋        | 43/250 [09:15<43:42, 12.67s/it]"
          ]
        },
        {
          "name": "stdout",
          "output_type": "stream",
          "text": [
            "Train Loss - MOSEAS Regression:  0.4475\n",
            "Test Loss - MOSEAS Regression:  0.4589\n",
            "Train MAE - MOSEAS Regression:  0.5115\n",
            "Test MAE - MOSEAS Regression:  0.5247\n",
            "Train Pearson - MOSEAS Regression:  0.2615\n",
            "Test Pearson - MOSEAS Regression:  0.2132\n"
          ]
        },
        {
          "name": "stderr",
          "output_type": "stream",
          "text": [
            "\rMOSEAS Regression:  18%|█▊        | 44/250 [09:28<43:23, 12.64s/it]"
          ]
        },
        {
          "name": "stdout",
          "output_type": "stream",
          "text": [
            "Train Loss - MOSEAS Regression:  0.4456\n",
            "Test Loss - MOSEAS Regression:  0.4572\n",
            "Train MAE - MOSEAS Regression:  0.51\n",
            "Test MAE - MOSEAS Regression:  0.5255\n",
            "Train Pearson - MOSEAS Regression:  0.2691\n",
            "Test Pearson - MOSEAS Regression:  0.2154\n",
            "saving checkpoint for epoch 43\n"
          ]
        },
        {
          "name": "stderr",
          "output_type": "stream",
          "text": [
            "\rMOSEAS Regression:  18%|█▊        | 45/250 [09:41<43:06, 12.62s/it]"
          ]
        },
        {
          "name": "stdout",
          "output_type": "stream",
          "text": [
            "Train Loss - MOSEAS Regression:  0.4444\n",
            "Test Loss - MOSEAS Regression:  0.4561\n",
            "Train MAE - MOSEAS Regression:  0.5121\n",
            "Test MAE - MOSEAS Regression:  0.5263\n",
            "Train Pearson - MOSEAS Regression:  0.2719\n",
            "Test Pearson - MOSEAS Regression:  0.2172\n",
            "saving checkpoint for epoch 44\n"
          ]
        },
        {
          "name": "stderr",
          "output_type": "stream",
          "text": [
            "\rMOSEAS Regression:  18%|█▊        | 46/250 [09:53<42:44, 12.57s/it]"
          ]
        },
        {
          "name": "stdout",
          "output_type": "stream",
          "text": [
            "Train Loss - MOSEAS Regression:  0.4448\n",
            "Test Loss - MOSEAS Regression:  0.4557\n",
            "Train MAE - MOSEAS Regression:  0.5105\n",
            "Test MAE - MOSEAS Regression:  0.5266\n",
            "Train Pearson - MOSEAS Regression:  0.2706\n",
            "Test Pearson - MOSEAS Regression:  0.219\n",
            "saving checkpoint for epoch 45\n"
          ]
        },
        {
          "name": "stderr",
          "output_type": "stream",
          "text": [
            "\rMOSEAS Regression:  19%|█▉        | 47/250 [10:06<42:56, 12.69s/it]"
          ]
        },
        {
          "name": "stdout",
          "output_type": "stream",
          "text": [
            "Train Loss - MOSEAS Regression:  0.4421\n",
            "Test Loss - MOSEAS Regression:  0.456\n",
            "Train MAE - MOSEAS Regression:  0.5106\n",
            "Test MAE - MOSEAS Regression:  0.5252\n",
            "Train Pearson - MOSEAS Regression:  0.2811\n",
            "Test Pearson - MOSEAS Regression:  0.2208\n"
          ]
        },
        {
          "name": "stderr",
          "output_type": "stream",
          "text": [
            "\rMOSEAS Regression:  19%|█▉        | 48/250 [10:19<42:46, 12.71s/it]"
          ]
        },
        {
          "name": "stdout",
          "output_type": "stream",
          "text": [
            "Train Loss - MOSEAS Regression:  0.4386\n",
            "Test Loss - MOSEAS Regression:  0.4571\n",
            "Train MAE - MOSEAS Regression:  0.5077\n",
            "Test MAE - MOSEAS Regression:  0.524\n",
            "Train Pearson - MOSEAS Regression:  0.2937\n",
            "Test Pearson - MOSEAS Regression:  0.2225\n"
          ]
        },
        {
          "name": "stderr",
          "output_type": "stream",
          "text": [
            "\rMOSEAS Regression:  20%|█▉        | 49/250 [10:32<42:42, 12.75s/it]"
          ]
        },
        {
          "name": "stdout",
          "output_type": "stream",
          "text": [
            "Train Loss - MOSEAS Regression:  0.4394\n",
            "Test Loss - MOSEAS Regression:  0.4558\n",
            "Train MAE - MOSEAS Regression:  0.5071\n",
            "Test MAE - MOSEAS Regression:  0.5242\n",
            "Train Pearson - MOSEAS Regression:  0.2931\n",
            "Test Pearson - MOSEAS Regression:  0.2248\n"
          ]
        },
        {
          "name": "stderr",
          "output_type": "stream",
          "text": [
            "\rMOSEAS Regression:  20%|██        | 50/250 [10:45<43:10, 12.95s/it]"
          ]
        },
        {
          "name": "stdout",
          "output_type": "stream",
          "text": [
            "Train Loss - MOSEAS Regression:  0.4378\n",
            "Test Loss - MOSEAS Regression:  0.4545\n",
            "Train MAE - MOSEAS Regression:  0.5053\n",
            "Test MAE - MOSEAS Regression:  0.5247\n",
            "Train Pearson - MOSEAS Regression:  0.2963\n",
            "Test Pearson - MOSEAS Regression:  0.2273\n",
            "saving checkpoint for epoch 49\n"
          ]
        },
        {
          "name": "stderr",
          "output_type": "stream",
          "text": [
            "\rMOSEAS Regression:  20%|██        | 51/250 [10:58<43:20, 13.07s/it]"
          ]
        },
        {
          "name": "stdout",
          "output_type": "stream",
          "text": [
            "Train Loss - MOSEAS Regression:  0.4385\n",
            "Test Loss - MOSEAS Regression:  0.4537\n",
            "Train MAE - MOSEAS Regression:  0.5075\n",
            "Test MAE - MOSEAS Regression:  0.5249\n",
            "Train Pearson - MOSEAS Regression:  0.2935\n",
            "Test Pearson - MOSEAS Regression:  0.2296\n",
            "saving checkpoint for epoch 50\n"
          ]
        },
        {
          "name": "stderr",
          "output_type": "stream",
          "text": [
            "\rMOSEAS Regression:  21%|██        | 52/250 [11:11<42:59, 13.03s/it]"
          ]
        },
        {
          "name": "stdout",
          "output_type": "stream",
          "text": [
            "Train Loss - MOSEAS Regression:  0.4368\n",
            "Test Loss - MOSEAS Regression:  0.4533\n",
            "Train MAE - MOSEAS Regression:  0.5068\n",
            "Test MAE - MOSEAS Regression:  0.5241\n",
            "Train Pearson - MOSEAS Regression:  0.2996\n",
            "Test Pearson - MOSEAS Regression:  0.2322\n",
            "saving checkpoint for epoch 51\n"
          ]
        },
        {
          "name": "stderr",
          "output_type": "stream",
          "text": [
            "\rMOSEAS Regression:  21%|██        | 53/250 [11:25<43:05, 13.12s/it]"
          ]
        },
        {
          "name": "stdout",
          "output_type": "stream",
          "text": [
            "Train Loss - MOSEAS Regression:  0.435\n",
            "Test Loss - MOSEAS Regression:  0.4538\n",
            "Train MAE - MOSEAS Regression:  0.5062\n",
            "Test MAE - MOSEAS Regression:  0.5226\n",
            "Train Pearson - MOSEAS Regression:  0.3057\n",
            "Test Pearson - MOSEAS Regression:  0.2348\n"
          ]
        },
        {
          "name": "stderr",
          "output_type": "stream",
          "text": [
            "\rMOSEAS Regression:  22%|██▏       | 54/250 [11:37<42:35, 13.04s/it]"
          ]
        },
        {
          "name": "stdout",
          "output_type": "stream",
          "text": [
            "Train Loss - MOSEAS Regression:  0.4354\n",
            "Test Loss - MOSEAS Regression:  0.4539\n",
            "Train MAE - MOSEAS Regression:  0.5038\n",
            "Test MAE - MOSEAS Regression:  0.5219\n",
            "Train Pearson - MOSEAS Regression:  0.3061\n",
            "Test Pearson - MOSEAS Regression:  0.2372\n"
          ]
        },
        {
          "name": "stderr",
          "output_type": "stream",
          "text": [
            "\rMOSEAS Regression:  22%|██▏       | 55/250 [11:51<42:49, 13.18s/it]"
          ]
        },
        {
          "name": "stdout",
          "output_type": "stream",
          "text": [
            "Train Loss - MOSEAS Regression:  0.4305\n",
            "Test Loss - MOSEAS Regression:  0.4521\n",
            "Train MAE - MOSEAS Regression:  0.5011\n",
            "Test MAE - MOSEAS Regression:  0.5224\n",
            "Train Pearson - MOSEAS Regression:  0.3243\n",
            "Test Pearson - MOSEAS Regression:  0.2398\n",
            "saving checkpoint for epoch 54\n"
          ]
        },
        {
          "name": "stderr",
          "output_type": "stream",
          "text": [
            "\rMOSEAS Regression:  22%|██▏       | 56/250 [12:04<42:30, 13.15s/it]"
          ]
        },
        {
          "name": "stdout",
          "output_type": "stream",
          "text": [
            "Train Loss - MOSEAS Regression:  0.428\n",
            "Test Loss - MOSEAS Regression:  0.4508\n",
            "Train MAE - MOSEAS Regression:  0.5004\n",
            "Test MAE - MOSEAS Regression:  0.5239\n",
            "Train Pearson - MOSEAS Regression:  0.329\n",
            "Test Pearson - MOSEAS Regression:  0.2418\n",
            "saving checkpoint for epoch 55\n"
          ]
        },
        {
          "name": "stderr",
          "output_type": "stream",
          "text": [
            "\rMOSEAS Regression:  23%|██▎       | 57/250 [12:17<42:12, 13.12s/it]"
          ]
        },
        {
          "name": "stdout",
          "output_type": "stream",
          "text": [
            "Train Loss - MOSEAS Regression:  0.4301\n",
            "Test Loss - MOSEAS Regression:  0.4503\n",
            "Train MAE - MOSEAS Regression:  0.5044\n",
            "Test MAE - MOSEAS Regression:  0.5233\n",
            "Train Pearson - MOSEAS Regression:  0.3232\n",
            "Test Pearson - MOSEAS Regression:  0.2443\n",
            "saving checkpoint for epoch 56\n"
          ]
        },
        {
          "name": "stderr",
          "output_type": "stream",
          "text": [
            "\rMOSEAS Regression:  23%|██▎       | 58/250 [12:30<41:52, 13.09s/it]"
          ]
        },
        {
          "name": "stdout",
          "output_type": "stream",
          "text": [
            "Train Loss - MOSEAS Regression:  0.4278\n",
            "Test Loss - MOSEAS Regression:  0.4501\n",
            "Train MAE - MOSEAS Regression:  0.5017\n",
            "Test MAE - MOSEAS Regression:  0.5219\n",
            "Train Pearson - MOSEAS Regression:  0.3298\n",
            "Test Pearson - MOSEAS Regression:  0.2467\n",
            "saving checkpoint for epoch 57\n"
          ]
        },
        {
          "name": "stderr",
          "output_type": "stream",
          "text": [
            "\rMOSEAS Regression:  24%|██▎       | 59/250 [12:42<40:59, 12.88s/it]"
          ]
        },
        {
          "name": "stdout",
          "output_type": "stream",
          "text": [
            "Train Loss - MOSEAS Regression:  0.424\n",
            "Test Loss - MOSEAS Regression:  0.4502\n",
            "Train MAE - MOSEAS Regression:  0.4969\n",
            "Test MAE - MOSEAS Regression:  0.5212\n",
            "Train Pearson - MOSEAS Regression:  0.3422\n",
            "Test Pearson - MOSEAS Regression:  0.2485\n"
          ]
        },
        {
          "name": "stderr",
          "output_type": "stream",
          "text": [
            "\rMOSEAS Regression:  24%|██▍       | 60/250 [12:55<40:48, 12.89s/it]"
          ]
        },
        {
          "name": "stdout",
          "output_type": "stream",
          "text": [
            "Train Loss - MOSEAS Regression:  0.4221\n",
            "Test Loss - MOSEAS Regression:  0.4492\n",
            "Train MAE - MOSEAS Regression:  0.4979\n",
            "Test MAE - MOSEAS Regression:  0.5224\n",
            "Train Pearson - MOSEAS Regression:  0.3485\n",
            "Test Pearson - MOSEAS Regression:  0.2496\n",
            "saving checkpoint for epoch 59\n"
          ]
        },
        {
          "name": "stderr",
          "output_type": "stream",
          "text": [
            "\rMOSEAS Regression:  24%|██▍       | 61/250 [13:08<40:05, 12.73s/it]"
          ]
        },
        {
          "name": "stdout",
          "output_type": "stream",
          "text": [
            "Train Loss - MOSEAS Regression:  0.4226\n",
            "Test Loss - MOSEAS Regression:  0.4493\n",
            "Train MAE - MOSEAS Regression:  0.4973\n",
            "Test MAE - MOSEAS Regression:  0.523\n",
            "Train Pearson - MOSEAS Regression:  0.3465\n",
            "Test Pearson - MOSEAS Regression:  0.2504\n"
          ]
        },
        {
          "name": "stderr",
          "output_type": "stream",
          "text": [
            "\rMOSEAS Regression:  25%|██▍       | 62/250 [13:20<39:17, 12.54s/it]"
          ]
        },
        {
          "name": "stdout",
          "output_type": "stream",
          "text": [
            "Train Loss - MOSEAS Regression:  0.4215\n",
            "Test Loss - MOSEAS Regression:  0.4491\n",
            "Train MAE - MOSEAS Regression:  0.4964\n",
            "Test MAE - MOSEAS Regression:  0.5218\n",
            "Train Pearson - MOSEAS Regression:  0.3494\n",
            "Test Pearson - MOSEAS Regression:  0.2522\n",
            "saving checkpoint for epoch 61\n"
          ]
        },
        {
          "name": "stderr",
          "output_type": "stream",
          "text": [
            "\rMOSEAS Regression:  25%|██▌       | 63/250 [13:33<39:23, 12.64s/it]"
          ]
        },
        {
          "name": "stdout",
          "output_type": "stream",
          "text": [
            "Train Loss - MOSEAS Regression:  0.4223\n",
            "Test Loss - MOSEAS Regression:  0.4496\n",
            "Train MAE - MOSEAS Regression:  0.4997\n",
            "Test MAE - MOSEAS Regression:  0.5212\n",
            "Train Pearson - MOSEAS Regression:  0.3469\n",
            "Test Pearson - MOSEAS Regression:  0.2535\n"
          ]
        },
        {
          "name": "stderr",
          "output_type": "stream",
          "text": [
            "\rMOSEAS Regression:  26%|██▌       | 64/250 [13:46<39:33, 12.76s/it]"
          ]
        },
        {
          "name": "stdout",
          "output_type": "stream",
          "text": [
            "Train Loss - MOSEAS Regression:  0.4184\n",
            "Test Loss - MOSEAS Regression:  0.4498\n",
            "Train MAE - MOSEAS Regression:  0.495\n",
            "Test MAE - MOSEAS Regression:  0.521\n",
            "Train Pearson - MOSEAS Regression:  0.3601\n",
            "Test Pearson - MOSEAS Regression:  0.2549\n"
          ]
        },
        {
          "name": "stderr",
          "output_type": "stream",
          "text": [
            "\rMOSEAS Regression:  26%|██▌       | 65/250 [13:59<39:54, 12.94s/it]"
          ]
        },
        {
          "name": "stdout",
          "output_type": "stream",
          "text": [
            "Train Loss - MOSEAS Regression:  0.4156\n",
            "Test Loss - MOSEAS Regression:  0.4487\n",
            "Train MAE - MOSEAS Regression:  0.4928\n",
            "Test MAE - MOSEAS Regression:  0.5219\n",
            "Train Pearson - MOSEAS Regression:  0.3672\n",
            "Test Pearson - MOSEAS Regression:  0.2558\n",
            "saving checkpoint for epoch 64\n"
          ]
        },
        {
          "name": "stderr",
          "output_type": "stream",
          "text": [
            "\rMOSEAS Regression:  26%|██▋       | 66/250 [14:12<40:03, 13.06s/it]"
          ]
        },
        {
          "name": "stdout",
          "output_type": "stream",
          "text": [
            "Train Loss - MOSEAS Regression:  0.4169\n",
            "Test Loss - MOSEAS Regression:  0.4488\n",
            "Train MAE - MOSEAS Regression:  0.4945\n",
            "Test MAE - MOSEAS Regression:  0.5223\n",
            "Train Pearson - MOSEAS Regression:  0.3634\n",
            "Test Pearson - MOSEAS Regression:  0.2566\n"
          ]
        },
        {
          "name": "stderr",
          "output_type": "stream",
          "text": [
            "\rMOSEAS Regression:  27%|██▋       | 67/250 [14:25<39:01, 12.80s/it]"
          ]
        },
        {
          "name": "stdout",
          "output_type": "stream",
          "text": [
            "Train Loss - MOSEAS Regression:  0.4178\n",
            "Test Loss - MOSEAS Regression:  0.4499\n",
            "Train MAE - MOSEAS Regression:  0.4962\n",
            "Test MAE - MOSEAS Regression:  0.5209\n",
            "Train Pearson - MOSEAS Regression:  0.36\n",
            "Test Pearson - MOSEAS Regression:  0.2585\n"
          ]
        },
        {
          "name": "stderr",
          "output_type": "stream",
          "text": [
            "\rMOSEAS Regression:  27%|██▋       | 68/250 [14:37<38:47, 12.79s/it]"
          ]
        },
        {
          "name": "stdout",
          "output_type": "stream",
          "text": [
            "Train Loss - MOSEAS Regression:  0.4124\n",
            "Test Loss - MOSEAS Regression:  0.45\n",
            "Train MAE - MOSEAS Regression:  0.4902\n",
            "Test MAE - MOSEAS Regression:  0.5208\n",
            "Train Pearson - MOSEAS Regression:  0.3776\n",
            "Test Pearson - MOSEAS Regression:  0.2598\n"
          ]
        },
        {
          "name": "stderr",
          "output_type": "stream",
          "text": [
            "\rMOSEAS Regression:  28%|██▊       | 69/250 [14:50<38:41, 12.83s/it]"
          ]
        },
        {
          "name": "stdout",
          "output_type": "stream",
          "text": [
            "Train Loss - MOSEAS Regression:  0.4131\n",
            "Test Loss - MOSEAS Regression:  0.4486\n",
            "Train MAE - MOSEAS Regression:  0.4922\n",
            "Test MAE - MOSEAS Regression:  0.522\n",
            "Train Pearson - MOSEAS Regression:  0.3736\n",
            "Test Pearson - MOSEAS Regression:  0.2605\n",
            "saving checkpoint for epoch 68\n"
          ]
        },
        {
          "name": "stderr",
          "output_type": "stream",
          "text": [
            "\rMOSEAS Regression:  28%|██▊       | 70/250 [15:03<38:10, 12.72s/it]"
          ]
        },
        {
          "name": "stdout",
          "output_type": "stream",
          "text": [
            "Train Loss - MOSEAS Regression:  0.4124\n",
            "Test Loss - MOSEAS Regression:  0.4483\n",
            "Train MAE - MOSEAS Regression:  0.4913\n",
            "Test MAE - MOSEAS Regression:  0.5213\n",
            "Train Pearson - MOSEAS Regression:  0.3756\n",
            "Test Pearson - MOSEAS Regression:  0.2626\n",
            "saving checkpoint for epoch 69\n"
          ]
        },
        {
          "name": "stderr",
          "output_type": "stream",
          "text": [
            "\rMOSEAS Regression:  28%|██▊       | 71/250 [15:16<38:03, 12.76s/it]"
          ]
        },
        {
          "name": "stdout",
          "output_type": "stream",
          "text": [
            "Train Loss - MOSEAS Regression:  0.4095\n",
            "Test Loss - MOSEAS Regression:  0.4505\n",
            "Train MAE - MOSEAS Regression:  0.4892\n",
            "Test MAE - MOSEAS Regression:  0.5206\n",
            "Train Pearson - MOSEAS Regression:  0.3837\n",
            "Test Pearson - MOSEAS Regression:  0.2643\n"
          ]
        },
        {
          "name": "stderr",
          "output_type": "stream",
          "text": [
            "\rMOSEAS Regression:  29%|██▉       | 72/250 [15:29<37:59, 12.80s/it]"
          ]
        },
        {
          "name": "stdout",
          "output_type": "stream",
          "text": [
            "Train Loss - MOSEAS Regression:  0.4054\n",
            "Test Loss - MOSEAS Regression:  0.4481\n",
            "Train MAE - MOSEAS Regression:  0.4861\n",
            "Test MAE - MOSEAS Regression:  0.521\n",
            "Train Pearson - MOSEAS Regression:  0.3976\n",
            "Test Pearson - MOSEAS Regression:  0.2652\n",
            "saving checkpoint for epoch 71\n"
          ]
        },
        {
          "name": "stderr",
          "output_type": "stream",
          "text": [
            "\rMOSEAS Regression:  29%|██▉       | 73/250 [15:42<37:55, 12.85s/it]"
          ]
        },
        {
          "name": "stdout",
          "output_type": "stream",
          "text": [
            "Train Loss - MOSEAS Regression:  0.4085\n",
            "Test Loss - MOSEAS Regression:  0.4491\n",
            "Train MAE - MOSEAS Regression:  0.4907\n",
            "Test MAE - MOSEAS Regression:  0.5223\n",
            "Train Pearson - MOSEAS Regression:  0.3858\n",
            "Test Pearson - MOSEAS Regression:  0.2644\n"
          ]
        },
        {
          "name": "stderr",
          "output_type": "stream",
          "text": [
            "\rMOSEAS Regression:  30%|██▉       | 74/250 [15:55<38:07, 13.00s/it]"
          ]
        },
        {
          "name": "stdout",
          "output_type": "stream",
          "text": [
            "Train Loss - MOSEAS Regression:  0.4082\n",
            "Test Loss - MOSEAS Regression:  0.4481\n",
            "Train MAE - MOSEAS Regression:  0.4916\n",
            "Test MAE - MOSEAS Regression:  0.5207\n",
            "Train Pearson - MOSEAS Regression:  0.3887\n",
            "Test Pearson - MOSEAS Regression:  0.2674\n"
          ]
        },
        {
          "name": "stderr",
          "output_type": "stream",
          "text": [
            "\rMOSEAS Regression:  30%|███       | 75/250 [16:08<37:47, 12.96s/it]"
          ]
        },
        {
          "name": "stdout",
          "output_type": "stream",
          "text": [
            "Train Loss - MOSEAS Regression:  0.3982\n",
            "Test Loss - MOSEAS Regression:  0.4494\n",
            "Train MAE - MOSEAS Regression:  0.4832\n",
            "Test MAE - MOSEAS Regression:  0.5208\n",
            "Train Pearson - MOSEAS Regression:  0.4141\n",
            "Test Pearson - MOSEAS Regression:  0.2682\n"
          ]
        },
        {
          "name": "stderr",
          "output_type": "stream",
          "text": [
            "\rMOSEAS Regression:  30%|███       | 76/250 [16:20<36:49, 12.70s/it]"
          ]
        },
        {
          "name": "stdout",
          "output_type": "stream",
          "text": [
            "Train Loss - MOSEAS Regression:  0.4057\n",
            "Test Loss - MOSEAS Regression:  0.4488\n",
            "Train MAE - MOSEAS Regression:  0.4884\n",
            "Test MAE - MOSEAS Regression:  0.5214\n",
            "Train Pearson - MOSEAS Regression:  0.3951\n",
            "Test Pearson - MOSEAS Regression:  0.2678\n"
          ]
        },
        {
          "name": "stderr",
          "output_type": "stream",
          "text": [
            "\rMOSEAS Regression:  31%|███       | 77/250 [16:33<36:43, 12.74s/it]"
          ]
        },
        {
          "name": "stdout",
          "output_type": "stream",
          "text": [
            "Train Loss - MOSEAS Regression:  0.403\n",
            "Test Loss - MOSEAS Regression:  0.4492\n",
            "Train MAE - MOSEAS Regression:  0.4876\n",
            "Test MAE - MOSEAS Regression:  0.5218\n",
            "Train Pearson - MOSEAS Regression:  0.4023\n",
            "Test Pearson - MOSEAS Regression:  0.2682\n"
          ]
        },
        {
          "name": "stderr",
          "output_type": "stream",
          "text": [
            "\rMOSEAS Regression:  31%|███       | 78/250 [16:46<36:42, 12.81s/it]"
          ]
        },
        {
          "name": "stdout",
          "output_type": "stream",
          "text": [
            "Train Loss - MOSEAS Regression:  0.4003\n",
            "Test Loss - MOSEAS Regression:  0.4542\n",
            "Train MAE - MOSEAS Regression:  0.4851\n",
            "Test MAE - MOSEAS Regression:  0.5222\n",
            "Train Pearson - MOSEAS Regression:  0.4073\n",
            "Test Pearson - MOSEAS Regression:  0.2698\n"
          ]
        },
        {
          "name": "stderr",
          "output_type": "stream",
          "text": [
            "\rMOSEAS Regression:  32%|███▏      | 79/250 [16:58<36:07, 12.68s/it]"
          ]
        },
        {
          "name": "stdout",
          "output_type": "stream",
          "text": [
            "Train Loss - MOSEAS Regression:  0.405\n",
            "Test Loss - MOSEAS Regression:  0.4489\n",
            "Train MAE - MOSEAS Regression:  0.4851\n",
            "Test MAE - MOSEAS Regression:  0.5218\n",
            "Train Pearson - MOSEAS Regression:  0.4023\n",
            "Test Pearson - MOSEAS Regression:  0.2705\n"
          ]
        },
        {
          "name": "stderr",
          "output_type": "stream",
          "text": [
            "\rMOSEAS Regression:  32%|███▏      | 80/250 [17:11<36:03, 12.72s/it]"
          ]
        },
        {
          "name": "stdout",
          "output_type": "stream",
          "text": [
            "Train Loss - MOSEAS Regression:  0.3993\n",
            "Test Loss - MOSEAS Regression:  0.4518\n",
            "Train MAE - MOSEAS Regression:  0.4851\n",
            "Test MAE - MOSEAS Regression:  0.5246\n",
            "Train Pearson - MOSEAS Regression:  0.4139\n",
            "Test Pearson - MOSEAS Regression:  0.2686\n"
          ]
        },
        {
          "name": "stderr",
          "output_type": "stream",
          "text": [
            "\rMOSEAS Regression:  32%|███▏      | 81/250 [17:23<35:04, 12.45s/it]"
          ]
        },
        {
          "name": "stdout",
          "output_type": "stream",
          "text": [
            "Train Loss - MOSEAS Regression:  0.3968\n",
            "Test Loss - MOSEAS Regression:  0.4523\n",
            "Train MAE - MOSEAS Regression:  0.4846\n",
            "Test MAE - MOSEAS Regression:  0.5218\n",
            "Train Pearson - MOSEAS Regression:  0.4192\n",
            "Test Pearson - MOSEAS Regression:  0.2724\n"
          ]
        },
        {
          "name": "stderr",
          "output_type": "stream",
          "text": [
            "\rMOSEAS Regression:  33%|███▎      | 82/250 [17:35<35:08, 12.55s/it]"
          ]
        },
        {
          "name": "stdout",
          "output_type": "stream",
          "text": [
            "Train Loss - MOSEAS Regression:  0.4012\n",
            "Test Loss - MOSEAS Regression:  0.4497\n",
            "Train MAE - MOSEAS Regression:  0.4827\n",
            "Test MAE - MOSEAS Regression:  0.5214\n",
            "Train Pearson - MOSEAS Regression:  0.4132\n",
            "Test Pearson - MOSEAS Regression:  0.2729\n"
          ]
        },
        {
          "name": "stderr",
          "output_type": "stream",
          "text": [
            "\rMOSEAS Regression:  33%|███▎      | 83/250 [17:48<35:07, 12.62s/it]"
          ]
        },
        {
          "name": "stdout",
          "output_type": "stream",
          "text": [
            "Train Loss - MOSEAS Regression:  0.4023\n",
            "Test Loss - MOSEAS Regression:  0.4518\n",
            "Train MAE - MOSEAS Regression:  0.486\n",
            "Test MAE - MOSEAS Regression:  0.5242\n",
            "Train Pearson - MOSEAS Regression:  0.4021\n",
            "Test Pearson - MOSEAS Regression:  0.2691\n"
          ]
        },
        {
          "name": "stderr",
          "output_type": "stream",
          "text": [
            "\rMOSEAS Regression:  34%|███▎      | 84/250 [18:01<34:52, 12.60s/it]"
          ]
        },
        {
          "name": "stdout",
          "output_type": "stream",
          "text": [
            "Train Loss - MOSEAS Regression:  0.3947\n",
            "Test Loss - MOSEAS Regression:  0.4491\n",
            "Train MAE - MOSEAS Regression:  0.4824\n",
            "Test MAE - MOSEAS Regression:  0.5217\n",
            "Train Pearson - MOSEAS Regression:  0.4259\n",
            "Test Pearson - MOSEAS Regression:  0.2731\n"
          ]
        },
        {
          "name": "stderr",
          "output_type": "stream",
          "text": [
            "\rMOSEAS Regression:  34%|███▍      | 85/250 [18:14<35:13, 12.81s/it]"
          ]
        },
        {
          "name": "stdout",
          "output_type": "stream",
          "text": [
            "Train Loss - MOSEAS Regression:  0.3926\n",
            "Test Loss - MOSEAS Regression:  0.4524\n",
            "Train MAE - MOSEAS Regression:  0.4798\n",
            "Test MAE - MOSEAS Regression:  0.5219\n",
            "Train Pearson - MOSEAS Regression:  0.4277\n",
            "Test Pearson - MOSEAS Regression:  0.2747\n"
          ]
        },
        {
          "name": "stderr",
          "output_type": "stream",
          "text": [
            "\rMOSEAS Regression:  34%|███▍      | 86/250 [18:27<35:03, 12.83s/it]"
          ]
        },
        {
          "name": "stdout",
          "output_type": "stream",
          "text": [
            "Train Loss - MOSEAS Regression:  0.3936\n",
            "Test Loss - MOSEAS Regression:  0.4498\n",
            "Train MAE - MOSEAS Regression:  0.4787\n",
            "Test MAE - MOSEAS Regression:  0.5219\n",
            "Train Pearson - MOSEAS Regression:  0.4281\n",
            "Test Pearson - MOSEAS Regression:  0.2739\n"
          ]
        },
        {
          "name": "stderr",
          "output_type": "stream",
          "text": [
            "\rMOSEAS Regression:  35%|███▍      | 87/250 [18:39<34:33, 12.72s/it]"
          ]
        },
        {
          "name": "stdout",
          "output_type": "stream",
          "text": [
            "Train Loss - MOSEAS Regression:  0.3932\n",
            "Test Loss - MOSEAS Regression:  0.4511\n",
            "Train MAE - MOSEAS Regression:  0.4809\n",
            "Test MAE - MOSEAS Regression:  0.5232\n",
            "Train Pearson - MOSEAS Regression:  0.4257\n",
            "Test Pearson - MOSEAS Regression:  0.273\n"
          ]
        },
        {
          "name": "stderr",
          "output_type": "stream",
          "text": [
            "\rMOSEAS Regression:  35%|███▌      | 88/250 [18:52<34:26, 12.75s/it]"
          ]
        },
        {
          "name": "stdout",
          "output_type": "stream",
          "text": [
            "Train Loss - MOSEAS Regression:  0.3917\n",
            "Test Loss - MOSEAS Regression:  0.4519\n",
            "Train MAE - MOSEAS Regression:  0.4791\n",
            "Test MAE - MOSEAS Regression:  0.5221\n",
            "Train Pearson - MOSEAS Regression:  0.4304\n",
            "Test Pearson - MOSEAS Regression:  0.2761\n"
          ]
        },
        {
          "name": "stderr",
          "output_type": "stream",
          "text": [
            "\rMOSEAS Regression:  36%|███▌      | 89/250 [19:06<34:43, 12.94s/it]"
          ]
        },
        {
          "name": "stdout",
          "output_type": "stream",
          "text": [
            "Train Loss - MOSEAS Regression:  0.3905\n",
            "Test Loss - MOSEAS Regression:  0.4514\n",
            "Train MAE - MOSEAS Regression:  0.4769\n",
            "Test MAE - MOSEAS Regression:  0.5221\n",
            "Train Pearson - MOSEAS Regression:  0.4333\n",
            "Test Pearson - MOSEAS Regression:  0.2767\n"
          ]
        },
        {
          "name": "stderr",
          "output_type": "stream",
          "text": [
            "\rMOSEAS Regression:  36%|███▌      | 90/250 [19:17<33:29, 12.56s/it]"
          ]
        },
        {
          "name": "stdout",
          "output_type": "stream",
          "text": [
            "Train Loss - MOSEAS Regression:  0.3897\n",
            "Test Loss - MOSEAS Regression:  0.4512\n",
            "Train MAE - MOSEAS Regression:  0.4777\n",
            "Test MAE - MOSEAS Regression:  0.5226\n",
            "Train Pearson - MOSEAS Regression:  0.4336\n",
            "Test Pearson - MOSEAS Regression:  0.2768\n"
          ]
        },
        {
          "name": "stderr",
          "output_type": "stream",
          "text": [
            "\rMOSEAS Regression:  36%|███▋      | 91/250 [19:29<32:32, 12.28s/it]"
          ]
        },
        {
          "name": "stdout",
          "output_type": "stream",
          "text": [
            "Train Loss - MOSEAS Regression:  0.3893\n",
            "Test Loss - MOSEAS Regression:  0.4516\n",
            "Train MAE - MOSEAS Regression:  0.4772\n",
            "Test MAE - MOSEAS Regression:  0.5224\n",
            "Train Pearson - MOSEAS Regression:  0.4348\n",
            "Test Pearson - MOSEAS Regression:  0.278\n"
          ]
        },
        {
          "name": "stderr",
          "output_type": "stream",
          "text": [
            "\rMOSEAS Regression:  37%|███▋      | 92/250 [19:41<32:32, 12.35s/it]"
          ]
        },
        {
          "name": "stdout",
          "output_type": "stream",
          "text": [
            "Train Loss - MOSEAS Regression:  0.3911\n",
            "Test Loss - MOSEAS Regression:  0.4521\n",
            "Train MAE - MOSEAS Regression:  0.4766\n",
            "Test MAE - MOSEAS Regression:  0.5224\n",
            "Train Pearson - MOSEAS Regression:  0.4301\n",
            "Test Pearson - MOSEAS Regression:  0.279\n"
          ]
        },
        {
          "name": "stderr",
          "output_type": "stream",
          "text": [
            "\rMOSEAS Regression:  37%|███▋      | 93/250 [19:53<31:46, 12.15s/it]"
          ]
        },
        {
          "name": "stdout",
          "output_type": "stream",
          "text": [
            "Train Loss - MOSEAS Regression:  0.3888\n",
            "Test Loss - MOSEAS Regression:  0.4511\n",
            "Train MAE - MOSEAS Regression:  0.478\n",
            "Test MAE - MOSEAS Regression:  0.5224\n",
            "Train Pearson - MOSEAS Regression:  0.4372\n",
            "Test Pearson - MOSEAS Regression:  0.2793\n"
          ]
        },
        {
          "name": "stderr",
          "output_type": "stream",
          "text": [
            "\rMOSEAS Regression:  38%|███▊      | 94/250 [20:06<32:20, 12.44s/it]"
          ]
        },
        {
          "name": "stdout",
          "output_type": "stream",
          "text": [
            "Train Loss - MOSEAS Regression:  0.387\n",
            "Test Loss - MOSEAS Regression:  0.4508\n",
            "Train MAE - MOSEAS Regression:  0.4757\n",
            "Test MAE - MOSEAS Regression:  0.5224\n",
            "Train Pearson - MOSEAS Regression:  0.4404\n",
            "Test Pearson - MOSEAS Regression:  0.2799\n"
          ]
        },
        {
          "name": "stderr",
          "output_type": "stream",
          "text": [
            "\rMOSEAS Regression:  38%|███▊      | 95/250 [20:19<32:25, 12.55s/it]"
          ]
        },
        {
          "name": "stdout",
          "output_type": "stream",
          "text": [
            "Train Loss - MOSEAS Regression:  0.3897\n",
            "Test Loss - MOSEAS Regression:  0.4505\n",
            "Train MAE - MOSEAS Regression:  0.4775\n",
            "Test MAE - MOSEAS Regression:  0.5214\n",
            "Train Pearson - MOSEAS Regression:  0.4339\n",
            "Test Pearson - MOSEAS Regression:  0.2827\n"
          ]
        },
        {
          "name": "stderr",
          "output_type": "stream",
          "text": [
            "\rMOSEAS Regression:  38%|███▊      | 96/250 [20:31<32:04, 12.49s/it]"
          ]
        },
        {
          "name": "stdout",
          "output_type": "stream",
          "text": [
            "Train Loss - MOSEAS Regression:  0.3842\n",
            "Test Loss - MOSEAS Regression:  0.4497\n",
            "Train MAE - MOSEAS Regression:  0.4736\n",
            "Test MAE - MOSEAS Regression:  0.5211\n",
            "Train Pearson - MOSEAS Regression:  0.4481\n",
            "Test Pearson - MOSEAS Regression:  0.2839\n"
          ]
        },
        {
          "name": "stderr",
          "output_type": "stream",
          "text": [
            "\rMOSEAS Regression:  39%|███▉      | 97/250 [20:44<32:11, 12.63s/it]"
          ]
        },
        {
          "name": "stdout",
          "output_type": "stream",
          "text": [
            "Train Loss - MOSEAS Regression:  0.3847\n",
            "Test Loss - MOSEAS Regression:  0.4494\n",
            "Train MAE - MOSEAS Regression:  0.4737\n",
            "Test MAE - MOSEAS Regression:  0.5213\n",
            "Train Pearson - MOSEAS Regression:  0.4457\n",
            "Test Pearson - MOSEAS Regression:  0.2844\n"
          ]
        },
        {
          "name": "stderr",
          "output_type": "stream",
          "text": [
            "\rMOSEAS Regression:  39%|███▉      | 98/250 [20:57<31:53, 12.59s/it]"
          ]
        },
        {
          "name": "stdout",
          "output_type": "stream",
          "text": [
            "Train Loss - MOSEAS Regression:  0.3842\n",
            "Test Loss - MOSEAS Regression:  0.4489\n",
            "Train MAE - MOSEAS Regression:  0.4759\n",
            "Test MAE - MOSEAS Regression:  0.5208\n",
            "Train Pearson - MOSEAS Regression:  0.4467\n",
            "Test Pearson - MOSEAS Regression:  0.2861\n"
          ]
        },
        {
          "name": "stderr",
          "output_type": "stream",
          "text": [
            "\rMOSEAS Regression:  40%|███▉      | 99/250 [21:10<31:47, 12.63s/it]"
          ]
        },
        {
          "name": "stdout",
          "output_type": "stream",
          "text": [
            "Train Loss - MOSEAS Regression:  0.3804\n",
            "Test Loss - MOSEAS Regression:  0.4492\n",
            "Train MAE - MOSEAS Regression:  0.472\n",
            "Test MAE - MOSEAS Regression:  0.52\n",
            "Train Pearson - MOSEAS Regression:  0.4558\n",
            "Test Pearson - MOSEAS Regression:  0.2886\n"
          ]
        },
        {
          "name": "stderr",
          "output_type": "stream",
          "text": [
            "\rMOSEAS Regression:  40%|████      | 100/250 [21:22<31:19, 12.53s/it]"
          ]
        },
        {
          "name": "stdout",
          "output_type": "stream",
          "text": [
            "Train Loss - MOSEAS Regression:  0.3812\n",
            "Test Loss - MOSEAS Regression:  0.4484\n",
            "Train MAE - MOSEAS Regression:  0.4742\n",
            "Test MAE - MOSEAS Regression:  0.5202\n",
            "Train Pearson - MOSEAS Regression:  0.4546\n",
            "Test Pearson - MOSEAS Regression:  0.2888\n"
          ]
        },
        {
          "name": "stderr",
          "output_type": "stream",
          "text": [
            "\rMOSEAS Regression:  40%|████      | 101/250 [21:35<31:37, 12.74s/it]"
          ]
        },
        {
          "name": "stdout",
          "output_type": "stream",
          "text": [
            "Train Loss - MOSEAS Regression:  0.3817\n",
            "Test Loss - MOSEAS Regression:  0.4483\n",
            "Train MAE - MOSEAS Regression:  0.4749\n",
            "Test MAE - MOSEAS Regression:  0.52\n",
            "Train Pearson - MOSEAS Regression:  0.4524\n",
            "Test Pearson - MOSEAS Regression:  0.2899\n"
          ]
        },
        {
          "name": "stderr",
          "output_type": "stream",
          "text": [
            "\rMOSEAS Regression:  41%|████      | 102/250 [21:48<31:30, 12.77s/it]"
          ]
        },
        {
          "name": "stdout",
          "output_type": "stream",
          "text": [
            "Train Loss - MOSEAS Regression:  0.3791\n",
            "Test Loss - MOSEAS Regression:  0.4483\n",
            "Train MAE - MOSEAS Regression:  0.4713\n",
            "Test MAE - MOSEAS Regression:  0.5196\n",
            "Train Pearson - MOSEAS Regression:  0.4586\n",
            "Test Pearson - MOSEAS Regression:  0.2916\n"
          ]
        },
        {
          "name": "stderr",
          "output_type": "stream",
          "text": [
            "\rMOSEAS Regression:  41%|████      | 103/250 [22:00<30:56, 12.63s/it]"
          ]
        },
        {
          "name": "stdout",
          "output_type": "stream",
          "text": [
            "Train Loss - MOSEAS Regression:  0.383\n",
            "Test Loss - MOSEAS Regression:  0.4484\n",
            "Train MAE - MOSEAS Regression:  0.4736\n",
            "Test MAE - MOSEAS Regression:  0.5193\n",
            "Train Pearson - MOSEAS Regression:  0.4499\n",
            "Test Pearson - MOSEAS Regression:  0.2931\n"
          ]
        },
        {
          "name": "stderr",
          "output_type": "stream",
          "text": [
            "\rMOSEAS Regression:  42%|████▏     | 104/250 [22:13<31:10, 12.81s/it]"
          ]
        },
        {
          "name": "stdout",
          "output_type": "stream",
          "text": [
            "Train Loss - MOSEAS Regression:  0.3785\n",
            "Test Loss - MOSEAS Regression:  0.4483\n",
            "Train MAE - MOSEAS Regression:  0.4706\n",
            "Test MAE - MOSEAS Regression:  0.5199\n",
            "Train Pearson - MOSEAS Regression:  0.4599\n",
            "Test Pearson - MOSEAS Regression:  0.2922\n"
          ]
        },
        {
          "name": "stderr",
          "output_type": "stream",
          "text": [
            "\rMOSEAS Regression:  42%|████▏     | 105/250 [22:26<31:07, 12.88s/it]"
          ]
        },
        {
          "name": "stdout",
          "output_type": "stream",
          "text": [
            "Train Loss - MOSEAS Regression:  0.3803\n",
            "Test Loss - MOSEAS Regression:  0.4473\n",
            "Train MAE - MOSEAS Regression:  0.4748\n",
            "Test MAE - MOSEAS Regression:  0.5189\n",
            "Train Pearson - MOSEAS Regression:  0.4563\n",
            "Test Pearson - MOSEAS Regression:  0.2944\n",
            "saving checkpoint for epoch 104\n"
          ]
        },
        {
          "name": "stderr",
          "output_type": "stream",
          "text": [
            "\rMOSEAS Regression:  42%|████▏     | 106/250 [22:39<30:46, 12.82s/it]"
          ]
        },
        {
          "name": "stdout",
          "output_type": "stream",
          "text": [
            "Train Loss - MOSEAS Regression:  0.3765\n",
            "Test Loss - MOSEAS Regression:  0.4482\n",
            "Train MAE - MOSEAS Regression:  0.4693\n",
            "Test MAE - MOSEAS Regression:  0.5187\n",
            "Train Pearson - MOSEAS Regression:  0.4643\n",
            "Test Pearson - MOSEAS Regression:  0.2968\n"
          ]
        },
        {
          "name": "stderr",
          "output_type": "stream",
          "text": [
            "\rMOSEAS Regression:  43%|████▎     | 107/250 [22:53<30:58, 13.00s/it]"
          ]
        },
        {
          "name": "stdout",
          "output_type": "stream",
          "text": [
            "Train Loss - MOSEAS Regression:  0.3809\n",
            "Test Loss - MOSEAS Regression:  0.4465\n",
            "Train MAE - MOSEAS Regression:  0.4715\n",
            "Test MAE - MOSEAS Regression:  0.5183\n",
            "Train Pearson - MOSEAS Regression:  0.4567\n",
            "Test Pearson - MOSEAS Regression:  0.297\n",
            "saving checkpoint for epoch 106\n"
          ]
        },
        {
          "name": "stderr",
          "output_type": "stream",
          "text": [
            "\rMOSEAS Regression:  43%|████▎     | 108/250 [23:06<30:53, 13.05s/it]"
          ]
        },
        {
          "name": "stdout",
          "output_type": "stream",
          "text": [
            "Train Loss - MOSEAS Regression:  0.3792\n",
            "Test Loss - MOSEAS Regression:  0.4477\n",
            "Train MAE - MOSEAS Regression:  0.4723\n",
            "Test MAE - MOSEAS Regression:  0.5193\n",
            "Train Pearson - MOSEAS Regression:  0.4585\n",
            "Test Pearson - MOSEAS Regression:  0.2964\n"
          ]
        },
        {
          "name": "stderr",
          "output_type": "stream",
          "text": [
            "\rMOSEAS Regression:  44%|████▎     | 109/250 [23:18<30:24, 12.94s/it]"
          ]
        },
        {
          "name": "stdout",
          "output_type": "stream",
          "text": [
            "Train Loss - MOSEAS Regression:  0.3768\n",
            "Test Loss - MOSEAS Regression:  0.4487\n",
            "Train MAE - MOSEAS Regression:  0.4709\n",
            "Test MAE - MOSEAS Regression:  0.5183\n",
            "Train Pearson - MOSEAS Regression:  0.4643\n",
            "Test Pearson - MOSEAS Regression:  0.3008\n"
          ]
        },
        {
          "name": "stderr",
          "output_type": "stream",
          "text": [
            "\rMOSEAS Regression:  44%|████▍     | 110/250 [23:31<30:06, 12.91s/it]"
          ]
        },
        {
          "name": "stdout",
          "output_type": "stream",
          "text": [
            "Train Loss - MOSEAS Regression:  0.38\n",
            "Test Loss - MOSEAS Regression:  0.4453\n",
            "Train MAE - MOSEAS Regression:  0.4693\n",
            "Test MAE - MOSEAS Regression:  0.5173\n",
            "Train Pearson - MOSEAS Regression:  0.4601\n",
            "Test Pearson - MOSEAS Regression:  0.3012\n",
            "saving checkpoint for epoch 109\n"
          ]
        },
        {
          "name": "stderr",
          "output_type": "stream",
          "text": [
            "\rMOSEAS Regression:  44%|████▍     | 111/250 [23:44<30:02, 12.97s/it]"
          ]
        },
        {
          "name": "stdout",
          "output_type": "stream",
          "text": [
            "Train Loss - MOSEAS Regression:  0.3773\n",
            "Test Loss - MOSEAS Regression:  0.446\n",
            "Train MAE - MOSEAS Regression:  0.4721\n",
            "Test MAE - MOSEAS Regression:  0.518\n",
            "Train Pearson - MOSEAS Regression:  0.4627\n",
            "Test Pearson - MOSEAS Regression:  0.3008\n"
          ]
        },
        {
          "name": "stderr",
          "output_type": "stream",
          "text": [
            "\rMOSEAS Regression:  45%|████▍     | 112/250 [23:58<30:01, 13.06s/it]"
          ]
        },
        {
          "name": "stdout",
          "output_type": "stream",
          "text": [
            "Train Loss - MOSEAS Regression:  0.3764\n",
            "Test Loss - MOSEAS Regression:  0.4472\n",
            "Train MAE - MOSEAS Regression:  0.4709\n",
            "Test MAE - MOSEAS Regression:  0.5175\n",
            "Train Pearson - MOSEAS Regression:  0.4646\n",
            "Test Pearson - MOSEAS Regression:  0.3036\n"
          ]
        },
        {
          "name": "stderr",
          "output_type": "stream",
          "text": [
            "\rMOSEAS Regression:  45%|████▌     | 113/250 [24:11<30:04, 13.17s/it]"
          ]
        },
        {
          "name": "stdout",
          "output_type": "stream",
          "text": [
            "Train Loss - MOSEAS Regression:  0.3744\n",
            "Test Loss - MOSEAS Regression:  0.4449\n",
            "Train MAE - MOSEAS Regression:  0.4674\n",
            "Test MAE - MOSEAS Regression:  0.517\n",
            "Train Pearson - MOSEAS Regression:  0.472\n",
            "Test Pearson - MOSEAS Regression:  0.3031\n",
            "saving checkpoint for epoch 112\n"
          ]
        },
        {
          "name": "stderr",
          "output_type": "stream",
          "text": [
            "\rMOSEAS Regression:  46%|████▌     | 114/250 [24:24<29:32, 13.03s/it]"
          ]
        },
        {
          "name": "stdout",
          "output_type": "stream",
          "text": [
            "Train Loss - MOSEAS Regression:  0.3728\n",
            "Test Loss - MOSEAS Regression:  0.4456\n",
            "Train MAE - MOSEAS Regression:  0.4682\n",
            "Test MAE - MOSEAS Regression:  0.5175\n",
            "Train Pearson - MOSEAS Regression:  0.4733\n",
            "Test Pearson - MOSEAS Regression:  0.3028\n"
          ]
        },
        {
          "name": "stderr",
          "output_type": "stream",
          "text": [
            "\rMOSEAS Regression:  46%|████▌     | 115/250 [24:37<29:10, 12.97s/it]"
          ]
        },
        {
          "name": "stdout",
          "output_type": "stream",
          "text": [
            "Train Loss - MOSEAS Regression:  0.3743\n",
            "Test Loss - MOSEAS Regression:  0.4453\n",
            "Train MAE - MOSEAS Regression:  0.4691\n",
            "Test MAE - MOSEAS Regression:  0.5167\n",
            "Train Pearson - MOSEAS Regression:  0.4692\n",
            "Test Pearson - MOSEAS Regression:  0.3048\n"
          ]
        },
        {
          "name": "stderr",
          "output_type": "stream",
          "text": [
            "\rMOSEAS Regression:  46%|████▋     | 116/250 [24:49<28:48, 12.90s/it]"
          ]
        },
        {
          "name": "stdout",
          "output_type": "stream",
          "text": [
            "Train Loss - MOSEAS Regression:  0.3733\n",
            "Test Loss - MOSEAS Regression:  0.4448\n",
            "Train MAE - MOSEAS Regression:  0.4689\n",
            "Test MAE - MOSEAS Regression:  0.5165\n",
            "Train Pearson - MOSEAS Regression:  0.4718\n",
            "Test Pearson - MOSEAS Regression:  0.3051\n",
            "saving checkpoint for epoch 115\n"
          ]
        },
        {
          "name": "stderr",
          "output_type": "stream",
          "text": [
            "\rMOSEAS Regression:  47%|████▋     | 117/250 [25:02<28:34, 12.89s/it]"
          ]
        },
        {
          "name": "stdout",
          "output_type": "stream",
          "text": [
            "Train Loss - MOSEAS Regression:  0.372\n",
            "Test Loss - MOSEAS Regression:  0.4445\n",
            "Train MAE - MOSEAS Regression:  0.4684\n",
            "Test MAE - MOSEAS Regression:  0.5164\n",
            "Train Pearson - MOSEAS Regression:  0.4741\n",
            "Test Pearson - MOSEAS Regression:  0.3053\n",
            "saving checkpoint for epoch 116\n"
          ]
        },
        {
          "name": "stderr",
          "output_type": "stream",
          "text": [
            "\rMOSEAS Regression:  47%|████▋     | 118/250 [25:15<28:36, 13.00s/it]"
          ]
        },
        {
          "name": "stdout",
          "output_type": "stream",
          "text": [
            "Train Loss - MOSEAS Regression:  0.3732\n",
            "Test Loss - MOSEAS Regression:  0.4441\n",
            "Train MAE - MOSEAS Regression:  0.4679\n",
            "Test MAE - MOSEAS Regression:  0.516\n",
            "Train Pearson - MOSEAS Regression:  0.4715\n",
            "Test Pearson - MOSEAS Regression:  0.3062\n",
            "saving checkpoint for epoch 117\n"
          ]
        },
        {
          "name": "stderr",
          "output_type": "stream",
          "text": [
            "\rMOSEAS Regression:  48%|████▊     | 119/250 [25:29<28:33, 13.08s/it]"
          ]
        },
        {
          "name": "stdout",
          "output_type": "stream",
          "text": [
            "Train Loss - MOSEAS Regression:  0.3691\n",
            "Test Loss - MOSEAS Regression:  0.4438\n",
            "Train MAE - MOSEAS Regression:  0.4646\n",
            "Test MAE - MOSEAS Regression:  0.5157\n",
            "Train Pearson - MOSEAS Regression:  0.4805\n",
            "Test Pearson - MOSEAS Regression:  0.3068\n",
            "saving checkpoint for epoch 118\n"
          ]
        },
        {
          "name": "stderr",
          "output_type": "stream",
          "text": [
            "\rMOSEAS Regression:  48%|████▊     | 120/250 [25:42<28:15, 13.04s/it]"
          ]
        },
        {
          "name": "stdout",
          "output_type": "stream",
          "text": [
            "Train Loss - MOSEAS Regression:  0.3733\n",
            "Test Loss - MOSEAS Regression:  0.4439\n",
            "Train MAE - MOSEAS Regression:  0.4678\n",
            "Test MAE - MOSEAS Regression:  0.5156\n",
            "Train Pearson - MOSEAS Regression:  0.4712\n",
            "Test Pearson - MOSEAS Regression:  0.3072\n"
          ]
        },
        {
          "name": "stderr",
          "output_type": "stream",
          "text": [
            "\rMOSEAS Regression:  48%|████▊     | 121/250 [25:54<27:32, 12.81s/it]"
          ]
        },
        {
          "name": "stdout",
          "output_type": "stream",
          "text": [
            "Train Loss - MOSEAS Regression:  0.3671\n",
            "Test Loss - MOSEAS Regression:  0.444\n",
            "Train MAE - MOSEAS Regression:  0.4653\n",
            "Test MAE - MOSEAS Regression:  0.516\n",
            "Train Pearson - MOSEAS Regression:  0.4851\n",
            "Test Pearson - MOSEAS Regression:  0.307\n"
          ]
        },
        {
          "name": "stderr",
          "output_type": "stream",
          "text": [
            "\rMOSEAS Regression:  49%|████▉     | 122/250 [26:07<27:37, 12.95s/it]"
          ]
        },
        {
          "name": "stdout",
          "output_type": "stream",
          "text": [
            "Train Loss - MOSEAS Regression:  0.37\n",
            "Test Loss - MOSEAS Regression:  0.4434\n",
            "Train MAE - MOSEAS Regression:  0.467\n",
            "Test MAE - MOSEAS Regression:  0.5152\n",
            "Train Pearson - MOSEAS Regression:  0.4788\n",
            "Test Pearson - MOSEAS Regression:  0.3082\n",
            "saving checkpoint for epoch 121\n"
          ]
        },
        {
          "name": "stderr",
          "output_type": "stream",
          "text": [
            "\rMOSEAS Regression:  49%|████▉     | 123/250 [26:20<27:19, 12.91s/it]"
          ]
        },
        {
          "name": "stdout",
          "output_type": "stream",
          "text": [
            "Train Loss - MOSEAS Regression:  0.3659\n",
            "Test Loss - MOSEAS Regression:  0.4438\n",
            "Train MAE - MOSEAS Regression:  0.4649\n",
            "Test MAE - MOSEAS Regression:  0.515\n",
            "Train Pearson - MOSEAS Regression:  0.4875\n",
            "Test Pearson - MOSEAS Regression:  0.3093\n"
          ]
        },
        {
          "name": "stderr",
          "output_type": "stream",
          "text": [
            "\rMOSEAS Regression:  50%|████▉     | 124/250 [26:33<26:56, 12.83s/it]"
          ]
        },
        {
          "name": "stdout",
          "output_type": "stream",
          "text": [
            "Train Loss - MOSEAS Regression:  0.3718\n",
            "Test Loss - MOSEAS Regression:  0.4435\n",
            "Train MAE - MOSEAS Regression:  0.4673\n",
            "Test MAE - MOSEAS Regression:  0.515\n",
            "Train Pearson - MOSEAS Regression:  0.4753\n",
            "Test Pearson - MOSEAS Regression:  0.3086\n"
          ]
        },
        {
          "name": "stderr",
          "output_type": "stream",
          "text": [
            "\rMOSEAS Regression:  50%|█████     | 125/250 [26:44<26:00, 12.49s/it]"
          ]
        },
        {
          "name": "stdout",
          "output_type": "stream",
          "text": [
            "Train Loss - MOSEAS Regression:  0.3652\n",
            "Test Loss - MOSEAS Regression:  0.4436\n",
            "Train MAE - MOSEAS Regression:  0.4639\n",
            "Test MAE - MOSEAS Regression:  0.5147\n",
            "Train Pearson - MOSEAS Regression:  0.4892\n",
            "Test Pearson - MOSEAS Regression:  0.3097\n"
          ]
        },
        {
          "name": "stderr",
          "output_type": "stream",
          "text": [
            "\rMOSEAS Regression:  50%|█████     | 126/250 [26:57<25:58, 12.57s/it]"
          ]
        },
        {
          "name": "stdout",
          "output_type": "stream",
          "text": [
            "Train Loss - MOSEAS Regression:  0.3698\n",
            "Test Loss - MOSEAS Regression:  0.4438\n",
            "Train MAE - MOSEAS Regression:  0.465\n",
            "Test MAE - MOSEAS Regression:  0.5147\n",
            "Train Pearson - MOSEAS Regression:  0.4795\n",
            "Test Pearson - MOSEAS Regression:  0.3105\n"
          ]
        },
        {
          "name": "stderr",
          "output_type": "stream",
          "text": [
            "\rMOSEAS Regression:  51%|█████     | 127/250 [27:10<25:52, 12.62s/it]"
          ]
        },
        {
          "name": "stdout",
          "output_type": "stream",
          "text": [
            "Train Loss - MOSEAS Regression:  0.3683\n",
            "Test Loss - MOSEAS Regression:  0.4449\n",
            "Train MAE - MOSEAS Regression:  0.4646\n",
            "Test MAE - MOSEAS Regression:  0.5162\n",
            "Train Pearson - MOSEAS Regression:  0.4822\n",
            "Test Pearson - MOSEAS Regression:  0.3095\n"
          ]
        },
        {
          "name": "stderr",
          "output_type": "stream",
          "text": [
            "\rMOSEAS Regression:  51%|█████     | 128/250 [27:22<25:17, 12.44s/it]"
          ]
        },
        {
          "name": "stdout",
          "output_type": "stream",
          "text": [
            "Train Loss - MOSEAS Regression:  0.3689\n",
            "Test Loss - MOSEAS Regression:  0.4423\n",
            "Train MAE - MOSEAS Regression:  0.4668\n",
            "Test MAE - MOSEAS Regression:  0.5139\n",
            "Train Pearson - MOSEAS Regression:  0.481\n",
            "Test Pearson - MOSEAS Regression:  0.3135\n",
            "saving checkpoint for epoch 127\n"
          ]
        },
        {
          "name": "stderr",
          "output_type": "stream",
          "text": [
            "\rMOSEAS Regression:  52%|█████▏    | 129/250 [27:35<25:35, 12.69s/it]"
          ]
        },
        {
          "name": "stdout",
          "output_type": "stream",
          "text": [
            "Train Loss - MOSEAS Regression:  0.3673\n",
            "Test Loss - MOSEAS Regression:  0.4418\n",
            "Train MAE - MOSEAS Regression:  0.4624\n",
            "Test MAE - MOSEAS Regression:  0.5143\n",
            "Train Pearson - MOSEAS Regression:  0.4845\n",
            "Test Pearson - MOSEAS Regression:  0.3139\n",
            "saving checkpoint for epoch 128\n"
          ]
        },
        {
          "name": "stderr",
          "output_type": "stream",
          "text": [
            "\rMOSEAS Regression:  52%|█████▏    | 130/250 [27:48<25:43, 12.86s/it]"
          ]
        },
        {
          "name": "stdout",
          "output_type": "stream",
          "text": [
            "Train Loss - MOSEAS Regression:  0.3676\n",
            "Test Loss - MOSEAS Regression:  0.4409\n",
            "Train MAE - MOSEAS Regression:  0.4657\n",
            "Test MAE - MOSEAS Regression:  0.5137\n",
            "Train Pearson - MOSEAS Regression:  0.484\n",
            "Test Pearson - MOSEAS Regression:  0.3153\n",
            "saving checkpoint for epoch 129\n"
          ]
        },
        {
          "name": "stderr",
          "output_type": "stream",
          "text": [
            "\rMOSEAS Regression:  52%|█████▏    | 131/250 [28:02<25:43, 12.97s/it]"
          ]
        },
        {
          "name": "stdout",
          "output_type": "stream",
          "text": [
            "Train Loss - MOSEAS Regression:  0.3642\n",
            "Test Loss - MOSEAS Regression:  0.4404\n",
            "Train MAE - MOSEAS Regression:  0.4627\n",
            "Test MAE - MOSEAS Regression:  0.5126\n",
            "Train Pearson - MOSEAS Regression:  0.4912\n",
            "Test Pearson - MOSEAS Regression:  0.3175\n",
            "saving checkpoint for epoch 130\n"
          ]
        },
        {
          "name": "stderr",
          "output_type": "stream",
          "text": [
            "\rMOSEAS Regression:  53%|█████▎    | 132/250 [28:15<25:32, 12.98s/it]"
          ]
        },
        {
          "name": "stdout",
          "output_type": "stream",
          "text": [
            "Train Loss - MOSEAS Regression:  0.3626\n",
            "Test Loss - MOSEAS Regression:  0.4401\n",
            "Train MAE - MOSEAS Regression:  0.46\n",
            "Test MAE - MOSEAS Regression:  0.5129\n",
            "Train Pearson - MOSEAS Regression:  0.4952\n",
            "Test Pearson - MOSEAS Regression:  0.3173\n",
            "saving checkpoint for epoch 131\n"
          ]
        },
        {
          "name": "stderr",
          "output_type": "stream",
          "text": [
            "\rMOSEAS Regression:  53%|█████▎    | 133/250 [28:27<25:00, 12.83s/it]"
          ]
        },
        {
          "name": "stdout",
          "output_type": "stream",
          "text": [
            "Train Loss - MOSEAS Regression:  0.3617\n",
            "Test Loss - MOSEAS Regression:  0.4395\n",
            "Train MAE - MOSEAS Regression:  0.4618\n",
            "Test MAE - MOSEAS Regression:  0.5121\n",
            "Train Pearson - MOSEAS Regression:  0.4969\n",
            "Test Pearson - MOSEAS Regression:  0.3187\n",
            "saving checkpoint for epoch 132\n"
          ]
        },
        {
          "name": "stderr",
          "output_type": "stream",
          "text": [
            "\rMOSEAS Regression:  54%|█████▎    | 134/250 [28:40<25:03, 12.96s/it]"
          ]
        },
        {
          "name": "stdout",
          "output_type": "stream",
          "text": [
            "Train Loss - MOSEAS Regression:  0.3619\n",
            "Test Loss - MOSEAS Regression:  0.4399\n",
            "Train MAE - MOSEAS Regression:  0.4605\n",
            "Test MAE - MOSEAS Regression:  0.5119\n",
            "Train Pearson - MOSEAS Regression:  0.4961\n",
            "Test Pearson - MOSEAS Regression:  0.3196\n"
          ]
        },
        {
          "name": "stderr",
          "output_type": "stream",
          "text": [
            "\rMOSEAS Regression:  54%|█████▍    | 135/250 [28:53<24:42, 12.89s/it]"
          ]
        },
        {
          "name": "stdout",
          "output_type": "stream",
          "text": [
            "Train Loss - MOSEAS Regression:  0.3651\n",
            "Test Loss - MOSEAS Regression:  0.4403\n",
            "Train MAE - MOSEAS Regression:  0.4617\n",
            "Test MAE - MOSEAS Regression:  0.5127\n",
            "Train Pearson - MOSEAS Regression:  0.4889\n",
            "Test Pearson - MOSEAS Regression:  0.3188\n"
          ]
        },
        {
          "name": "stderr",
          "output_type": "stream",
          "text": [
            "\rMOSEAS Regression:  54%|█████▍    | 136/250 [29:06<24:38, 12.97s/it]"
          ]
        },
        {
          "name": "stdout",
          "output_type": "stream",
          "text": [
            "Train Loss - MOSEAS Regression:  0.3629\n",
            "Test Loss - MOSEAS Regression:  0.4405\n",
            "Train MAE - MOSEAS Regression:  0.4606\n",
            "Test MAE - MOSEAS Regression:  0.5122\n",
            "Train Pearson - MOSEAS Regression:  0.4939\n",
            "Test Pearson - MOSEAS Regression:  0.3199\n"
          ]
        },
        {
          "name": "stderr",
          "output_type": "stream",
          "text": [
            "\rMOSEAS Regression:  55%|█████▍    | 137/250 [29:19<24:23, 12.95s/it]"
          ]
        },
        {
          "name": "stdout",
          "output_type": "stream",
          "text": [
            "Train Loss - MOSEAS Regression:  0.3584\n",
            "Test Loss - MOSEAS Regression:  0.4408\n",
            "Train MAE - MOSEAS Regression:  0.4592\n",
            "Test MAE - MOSEAS Regression:  0.5131\n",
            "Train Pearson - MOSEAS Regression:  0.5036\n",
            "Test Pearson - MOSEAS Regression:  0.3188\n"
          ]
        },
        {
          "name": "stderr",
          "output_type": "stream",
          "text": [
            "\rMOSEAS Regression:  55%|█████▌    | 138/250 [29:31<23:38, 12.66s/it]"
          ]
        },
        {
          "name": "stdout",
          "output_type": "stream",
          "text": [
            "Train Loss - MOSEAS Regression:  0.3575\n",
            "Test Loss - MOSEAS Regression:  0.4399\n",
            "Train MAE - MOSEAS Regression:  0.46\n",
            "Test MAE - MOSEAS Regression:  0.5119\n",
            "Train Pearson - MOSEAS Regression:  0.5057\n",
            "Test Pearson - MOSEAS Regression:  0.3204\n"
          ]
        },
        {
          "name": "stderr",
          "output_type": "stream",
          "text": [
            "\rMOSEAS Regression:  56%|█████▌    | 139/250 [29:44<23:30, 12.71s/it]"
          ]
        },
        {
          "name": "stdout",
          "output_type": "stream",
          "text": [
            "Train Loss - MOSEAS Regression:  0.3591\n",
            "Test Loss - MOSEAS Regression:  0.4398\n",
            "Train MAE - MOSEAS Regression:  0.4592\n",
            "Test MAE - MOSEAS Regression:  0.5117\n",
            "Train Pearson - MOSEAS Regression:  0.5021\n",
            "Test Pearson - MOSEAS Regression:  0.3211\n"
          ]
        },
        {
          "name": "stderr",
          "output_type": "stream",
          "text": [
            "\rMOSEAS Regression:  56%|█████▌    | 140/250 [29:57<23:20, 12.74s/it]"
          ]
        },
        {
          "name": "stdout",
          "output_type": "stream",
          "text": [
            "Train Loss - MOSEAS Regression:  0.3586\n",
            "Test Loss - MOSEAS Regression:  0.4403\n",
            "Train MAE - MOSEAS Regression:  0.4594\n",
            "Test MAE - MOSEAS Regression:  0.5129\n",
            "Train Pearson - MOSEAS Regression:  0.5031\n",
            "Test Pearson - MOSEAS Regression:  0.3205\n"
          ]
        },
        {
          "name": "stderr",
          "output_type": "stream",
          "text": [
            "\rMOSEAS Regression:  56%|█████▋    | 141/250 [30:10<23:28, 12.92s/it]"
          ]
        },
        {
          "name": "stdout",
          "output_type": "stream",
          "text": [
            "Train Loss - MOSEAS Regression:  0.3561\n",
            "Test Loss - MOSEAS Regression:  0.4394\n",
            "Train MAE - MOSEAS Regression:  0.458\n",
            "Test MAE - MOSEAS Regression:  0.5118\n",
            "Train Pearson - MOSEAS Regression:  0.5089\n",
            "Test Pearson - MOSEAS Regression:  0.3222\n",
            "saving checkpoint for epoch 140\n"
          ]
        },
        {
          "name": "stderr",
          "output_type": "stream",
          "text": [
            "\rMOSEAS Regression:  57%|█████▋    | 142/250 [30:23<23:03, 12.81s/it]"
          ]
        },
        {
          "name": "stdout",
          "output_type": "stream",
          "text": [
            "Train Loss - MOSEAS Regression:  0.3562\n",
            "Test Loss - MOSEAS Regression:  0.4392\n",
            "Train MAE - MOSEAS Regression:  0.4572\n",
            "Test MAE - MOSEAS Regression:  0.5118\n",
            "Train Pearson - MOSEAS Regression:  0.5082\n",
            "Test Pearson - MOSEAS Regression:  0.3227\n",
            "saving checkpoint for epoch 141\n"
          ]
        },
        {
          "name": "stderr",
          "output_type": "stream",
          "text": [
            "\rMOSEAS Regression:  57%|█████▋    | 143/250 [30:36<23:06, 12.95s/it]"
          ]
        },
        {
          "name": "stdout",
          "output_type": "stream",
          "text": [
            "Train Loss - MOSEAS Regression:  0.3618\n",
            "Test Loss - MOSEAS Regression:  0.4391\n",
            "Train MAE - MOSEAS Regression:  0.4609\n",
            "Test MAE - MOSEAS Regression:  0.5117\n",
            "Train Pearson - MOSEAS Regression:  0.4959\n",
            "Test Pearson - MOSEAS Regression:  0.3232\n",
            "saving checkpoint for epoch 142\n"
          ]
        },
        {
          "name": "stderr",
          "output_type": "stream",
          "text": [
            "\rMOSEAS Regression:  58%|█████▊    | 144/250 [30:49<22:55, 12.98s/it]"
          ]
        },
        {
          "name": "stdout",
          "output_type": "stream",
          "text": [
            "Train Loss - MOSEAS Regression:  0.3573\n",
            "Test Loss - MOSEAS Regression:  0.4376\n",
            "Train MAE - MOSEAS Regression:  0.4588\n",
            "Test MAE - MOSEAS Regression:  0.51\n",
            "Train Pearson - MOSEAS Regression:  0.5059\n",
            "Test Pearson - MOSEAS Regression:  0.3259\n",
            "saving checkpoint for epoch 143\n"
          ]
        },
        {
          "name": "stderr",
          "output_type": "stream",
          "text": [
            "\rMOSEAS Regression:  58%|█████▊    | 145/250 [31:02<22:39, 12.95s/it]"
          ]
        },
        {
          "name": "stdout",
          "output_type": "stream",
          "text": [
            "Train Loss - MOSEAS Regression:  0.3562\n",
            "Test Loss - MOSEAS Regression:  0.4369\n",
            "Train MAE - MOSEAS Regression:  0.4583\n",
            "Test MAE - MOSEAS Regression:  0.5098\n",
            "Train Pearson - MOSEAS Regression:  0.509\n",
            "Test Pearson - MOSEAS Regression:  0.327\n",
            "saving checkpoint for epoch 144\n"
          ]
        },
        {
          "name": "stderr",
          "output_type": "stream",
          "text": [
            "\rMOSEAS Regression:  58%|█████▊    | 146/250 [31:14<21:56, 12.66s/it]"
          ]
        },
        {
          "name": "stdout",
          "output_type": "stream",
          "text": [
            "Train Loss - MOSEAS Regression:  0.3538\n",
            "Test Loss - MOSEAS Regression:  0.4385\n",
            "Train MAE - MOSEAS Regression:  0.4568\n",
            "Test MAE - MOSEAS Regression:  0.5119\n",
            "Train Pearson - MOSEAS Regression:  0.5127\n",
            "Test Pearson - MOSEAS Regression:  0.3263\n"
          ]
        },
        {
          "name": "stderr",
          "output_type": "stream",
          "text": [
            "\rMOSEAS Regression:  59%|█████▉    | 147/250 [31:25<21:11, 12.35s/it]"
          ]
        },
        {
          "name": "stdout",
          "output_type": "stream",
          "text": [
            "Train Loss - MOSEAS Regression:  0.3566\n",
            "Test Loss - MOSEAS Regression:  0.4379\n",
            "Train MAE - MOSEAS Regression:  0.46\n",
            "Test MAE - MOSEAS Regression:  0.5094\n",
            "Train Pearson - MOSEAS Regression:  0.5082\n",
            "Test Pearson - MOSEAS Regression:  0.3298\n"
          ]
        },
        {
          "name": "stderr",
          "output_type": "stream",
          "text": [
            "\rMOSEAS Regression:  59%|█████▉    | 148/250 [31:38<21:12, 12.48s/it]"
          ]
        },
        {
          "name": "stdout",
          "output_type": "stream",
          "text": [
            "Train Loss - MOSEAS Regression:  0.3577\n",
            "Test Loss - MOSEAS Regression:  0.4367\n",
            "Train MAE - MOSEAS Regression:  0.4562\n",
            "Test MAE - MOSEAS Regression:  0.5105\n",
            "Train Pearson - MOSEAS Regression:  0.5076\n",
            "Test Pearson - MOSEAS Regression:  0.3294\n",
            "saving checkpoint for epoch 147\n"
          ]
        },
        {
          "name": "stderr",
          "output_type": "stream",
          "text": [
            "\rMOSEAS Regression:  60%|█████▉    | 149/250 [31:51<21:08, 12.56s/it]"
          ]
        },
        {
          "name": "stdout",
          "output_type": "stream",
          "text": [
            "Train Loss - MOSEAS Regression:  0.3577\n",
            "Test Loss - MOSEAS Regression:  0.435\n",
            "Train MAE - MOSEAS Regression:  0.4617\n",
            "Test MAE - MOSEAS Regression:  0.5089\n",
            "Train Pearson - MOSEAS Regression:  0.5086\n",
            "Test Pearson - MOSEAS Regression:  0.3314\n",
            "saving checkpoint for epoch 148\n"
          ]
        },
        {
          "name": "stderr",
          "output_type": "stream",
          "text": [
            "\rMOSEAS Regression:  60%|██████    | 150/250 [32:04<21:03, 12.63s/it]"
          ]
        },
        {
          "name": "stdout",
          "output_type": "stream",
          "text": [
            "Train Loss - MOSEAS Regression:  0.3564\n",
            "Test Loss - MOSEAS Regression:  0.4354\n",
            "Train MAE - MOSEAS Regression:  0.4569\n",
            "Test MAE - MOSEAS Regression:  0.5083\n",
            "Train Pearson - MOSEAS Regression:  0.5091\n",
            "Test Pearson - MOSEAS Regression:  0.3328\n"
          ]
        },
        {
          "name": "stderr",
          "output_type": "stream",
          "text": [
            "\rMOSEAS Regression:  60%|██████    | 151/250 [32:17<20:56, 12.69s/it]"
          ]
        },
        {
          "name": "stdout",
          "output_type": "stream",
          "text": [
            "Train Loss - MOSEAS Regression:  0.3555\n",
            "Test Loss - MOSEAS Regression:  0.44\n",
            "Train MAE - MOSEAS Regression:  0.4565\n",
            "Test MAE - MOSEAS Regression:  0.5142\n",
            "Train Pearson - MOSEAS Regression:  0.5094\n",
            "Test Pearson - MOSEAS Regression:  0.329\n"
          ]
        },
        {
          "name": "stderr",
          "output_type": "stream",
          "text": [
            "\rMOSEAS Regression:  61%|██████    | 152/250 [32:30<21:05, 12.91s/it]"
          ]
        },
        {
          "name": "stdout",
          "output_type": "stream",
          "text": [
            "Train Loss - MOSEAS Regression:  0.3606\n",
            "Test Loss - MOSEAS Regression:  0.4335\n",
            "Train MAE - MOSEAS Regression:  0.4641\n",
            "Test MAE - MOSEAS Regression:  0.507\n",
            "Train Pearson - MOSEAS Regression:  0.5017\n",
            "Test Pearson - MOSEAS Regression:  0.3348\n",
            "saving checkpoint for epoch 151\n"
          ]
        },
        {
          "name": "stderr",
          "output_type": "stream",
          "text": [
            "\rMOSEAS Regression:  61%|██████    | 153/250 [32:42<20:36, 12.75s/it]"
          ]
        },
        {
          "name": "stdout",
          "output_type": "stream",
          "text": [
            "Train Loss - MOSEAS Regression:  0.3543\n",
            "Test Loss - MOSEAS Regression:  0.4327\n",
            "Train MAE - MOSEAS Regression:  0.4561\n",
            "Test MAE - MOSEAS Regression:  0.507\n",
            "Train Pearson - MOSEAS Regression:  0.5145\n",
            "Test Pearson - MOSEAS Regression:  0.3344\n",
            "saving checkpoint for epoch 152\n"
          ]
        },
        {
          "name": "stderr",
          "output_type": "stream",
          "text": [
            "\rMOSEAS Regression:  62%|██████▏   | 154/250 [32:56<20:40, 12.92s/it]"
          ]
        },
        {
          "name": "stdout",
          "output_type": "stream",
          "text": [
            "Train Loss - MOSEAS Regression:  0.3497\n",
            "Test Loss - MOSEAS Regression:  0.4345\n",
            "Train MAE - MOSEAS Regression:  0.4534\n",
            "Test MAE - MOSEAS Regression:  0.509\n",
            "Train Pearson - MOSEAS Regression:  0.5215\n",
            "Test Pearson - MOSEAS Regression:  0.3327\n"
          ]
        },
        {
          "name": "stderr",
          "output_type": "stream",
          "text": [
            "\rMOSEAS Regression:  62%|██████▏   | 155/250 [33:08<20:21, 12.86s/it]"
          ]
        },
        {
          "name": "stdout",
          "output_type": "stream",
          "text": [
            "Train Loss - MOSEAS Regression:  0.352\n",
            "Test Loss - MOSEAS Regression:  0.4345\n",
            "Train MAE - MOSEAS Regression:  0.4558\n",
            "Test MAE - MOSEAS Regression:  0.5072\n",
            "Train Pearson - MOSEAS Regression:  0.5167\n",
            "Test Pearson - MOSEAS Regression:  0.3345\n"
          ]
        },
        {
          "name": "stderr",
          "output_type": "stream",
          "text": [
            "\rMOSEAS Regression:  62%|██████▏   | 156/250 [33:21<20:10, 12.88s/it]"
          ]
        },
        {
          "name": "stdout",
          "output_type": "stream",
          "text": [
            "Train Loss - MOSEAS Regression:  0.3502\n",
            "Test Loss - MOSEAS Regression:  0.4343\n",
            "Train MAE - MOSEAS Regression:  0.453\n",
            "Test MAE - MOSEAS Regression:  0.5082\n",
            "Train Pearson - MOSEAS Regression:  0.5211\n",
            "Test Pearson - MOSEAS Regression:  0.334\n"
          ]
        },
        {
          "name": "stderr",
          "output_type": "stream",
          "text": [
            "\rMOSEAS Regression:  63%|██████▎   | 157/250 [33:34<19:58, 12.88s/it]"
          ]
        },
        {
          "name": "stdout",
          "output_type": "stream",
          "text": [
            "Train Loss - MOSEAS Regression:  0.3466\n",
            "Test Loss - MOSEAS Regression:  0.4341\n",
            "Train MAE - MOSEAS Regression:  0.4522\n",
            "Test MAE - MOSEAS Regression:  0.5079\n",
            "Train Pearson - MOSEAS Regression:  0.5276\n",
            "Test Pearson - MOSEAS Regression:  0.3348\n"
          ]
        },
        {
          "name": "stderr",
          "output_type": "stream",
          "text": [
            "\rMOSEAS Regression:  63%|██████▎   | 158/250 [33:48<19:53, 12.98s/it]"
          ]
        },
        {
          "name": "stdout",
          "output_type": "stream",
          "text": [
            "Train Loss - MOSEAS Regression:  0.3528\n",
            "Test Loss - MOSEAS Regression:  0.4339\n",
            "Train MAE - MOSEAS Regression:  0.4554\n",
            "Test MAE - MOSEAS Regression:  0.5071\n",
            "Train Pearson - MOSEAS Regression:  0.5145\n",
            "Test Pearson - MOSEAS Regression:  0.3361\n"
          ]
        },
        {
          "name": "stderr",
          "output_type": "stream",
          "text": [
            "\rMOSEAS Regression:  64%|██████▎   | 159/250 [34:00<19:36, 12.93s/it]"
          ]
        },
        {
          "name": "stdout",
          "output_type": "stream",
          "text": [
            "Train Loss - MOSEAS Regression:  0.3498\n",
            "Test Loss - MOSEAS Regression:  0.4337\n",
            "Train MAE - MOSEAS Regression:  0.4529\n",
            "Test MAE - MOSEAS Regression:  0.5082\n",
            "Train Pearson - MOSEAS Regression:  0.5207\n",
            "Test Pearson - MOSEAS Regression:  0.3357\n"
          ]
        },
        {
          "name": "stderr",
          "output_type": "stream",
          "text": [
            "\rMOSEAS Regression:  64%|██████▍   | 160/250 [34:13<19:19, 12.88s/it]"
          ]
        },
        {
          "name": "stdout",
          "output_type": "stream",
          "text": [
            "Train Loss - MOSEAS Regression:  0.3442\n",
            "Test Loss - MOSEAS Regression:  0.4321\n",
            "Train MAE - MOSEAS Regression:  0.4499\n",
            "Test MAE - MOSEAS Regression:  0.5069\n",
            "Train Pearson - MOSEAS Regression:  0.532\n",
            "Test Pearson - MOSEAS Regression:  0.3372\n",
            "saving checkpoint for epoch 159\n"
          ]
        },
        {
          "name": "stderr",
          "output_type": "stream",
          "text": [
            "\rMOSEAS Regression:  64%|██████▍   | 161/250 [34:27<19:22, 13.07s/it]"
          ]
        },
        {
          "name": "stdout",
          "output_type": "stream",
          "text": [
            "Train Loss - MOSEAS Regression:  0.3466\n",
            "Test Loss - MOSEAS Regression:  0.4312\n",
            "Train MAE - MOSEAS Regression:  0.4529\n",
            "Test MAE - MOSEAS Regression:  0.5064\n",
            "Train Pearson - MOSEAS Regression:  0.527\n",
            "Test Pearson - MOSEAS Regression:  0.3384\n",
            "saving checkpoint for epoch 160\n"
          ]
        },
        {
          "name": "stderr",
          "output_type": "stream",
          "text": [
            "\rMOSEAS Regression:  65%|██████▍   | 162/250 [34:39<19:04, 13.00s/it]"
          ]
        },
        {
          "name": "stdout",
          "output_type": "stream",
          "text": [
            "Train Loss - MOSEAS Regression:  0.3453\n",
            "Test Loss - MOSEAS Regression:  0.4309\n",
            "Train MAE - MOSEAS Regression:  0.4525\n",
            "Test MAE - MOSEAS Regression:  0.5066\n",
            "Train Pearson - MOSEAS Regression:  0.5296\n",
            "Test Pearson - MOSEAS Regression:  0.339\n",
            "saving checkpoint for epoch 161\n"
          ]
        },
        {
          "name": "stderr",
          "output_type": "stream",
          "text": [
            "\rMOSEAS Regression:  65%|██████▌   | 163/250 [34:52<18:50, 13.00s/it]"
          ]
        },
        {
          "name": "stdout",
          "output_type": "stream",
          "text": [
            "Train Loss - MOSEAS Regression:  0.35\n",
            "Test Loss - MOSEAS Regression:  0.4304\n",
            "Train MAE - MOSEAS Regression:  0.4543\n",
            "Test MAE - MOSEAS Regression:  0.5056\n",
            "Train Pearson - MOSEAS Regression:  0.5206\n",
            "Test Pearson - MOSEAS Regression:  0.3409\n",
            "saving checkpoint for epoch 162\n"
          ]
        },
        {
          "name": "stderr",
          "output_type": "stream",
          "text": [
            "\rMOSEAS Regression:  66%|██████▌   | 164/250 [35:06<18:40, 13.02s/it]"
          ]
        },
        {
          "name": "stdout",
          "output_type": "stream",
          "text": [
            "Train Loss - MOSEAS Regression:  0.3466\n",
            "Test Loss - MOSEAS Regression:  0.4319\n",
            "Train MAE - MOSEAS Regression:  0.45\n",
            "Test MAE - MOSEAS Regression:  0.508\n",
            "Train Pearson - MOSEAS Regression:  0.5273\n",
            "Test Pearson - MOSEAS Regression:  0.3402\n"
          ]
        },
        {
          "name": "stderr",
          "output_type": "stream",
          "text": [
            "\rMOSEAS Regression:  66%|██████▌   | 165/250 [35:18<18:22, 12.97s/it]"
          ]
        },
        {
          "name": "stdout",
          "output_type": "stream",
          "text": [
            "Train Loss - MOSEAS Regression:  0.3444\n",
            "Test Loss - MOSEAS Regression:  0.4309\n",
            "Train MAE - MOSEAS Regression:  0.4504\n",
            "Test MAE - MOSEAS Regression:  0.5064\n",
            "Train Pearson - MOSEAS Regression:  0.5321\n",
            "Test Pearson - MOSEAS Regression:  0.3413\n"
          ]
        },
        {
          "name": "stderr",
          "output_type": "stream",
          "text": [
            "\rMOSEAS Regression:  66%|██████▋   | 166/250 [35:31<17:52, 12.77s/it]"
          ]
        },
        {
          "name": "stdout",
          "output_type": "stream",
          "text": [
            "Train Loss - MOSEAS Regression:  0.3442\n",
            "Test Loss - MOSEAS Regression:  0.4308\n",
            "Train MAE - MOSEAS Regression:  0.4489\n",
            "Test MAE - MOSEAS Regression:  0.5052\n",
            "Train Pearson - MOSEAS Regression:  0.5319\n",
            "Test Pearson - MOSEAS Regression:  0.3424\n"
          ]
        },
        {
          "name": "stderr",
          "output_type": "stream",
          "text": [
            "\rMOSEAS Regression:  67%|██████▋   | 167/250 [35:44<17:51, 12.90s/it]"
          ]
        },
        {
          "name": "stdout",
          "output_type": "stream",
          "text": [
            "Train Loss - MOSEAS Regression:  0.3463\n",
            "Test Loss - MOSEAS Regression:  0.4317\n",
            "Train MAE - MOSEAS Regression:  0.4521\n",
            "Test MAE - MOSEAS Regression:  0.5076\n",
            "Train Pearson - MOSEAS Regression:  0.528\n",
            "Test Pearson - MOSEAS Regression:  0.3408\n"
          ]
        },
        {
          "name": "stderr",
          "output_type": "stream",
          "text": [
            "\rMOSEAS Regression:  67%|██████▋   | 168/250 [35:57<17:39, 12.92s/it]"
          ]
        },
        {
          "name": "stdout",
          "output_type": "stream",
          "text": [
            "Train Loss - MOSEAS Regression:  0.3472\n",
            "Test Loss - MOSEAS Regression:  0.43\n",
            "Train MAE - MOSEAS Regression:  0.454\n",
            "Test MAE - MOSEAS Regression:  0.5055\n",
            "Train Pearson - MOSEAS Regression:  0.5266\n",
            "Test Pearson - MOSEAS Regression:  0.3428\n",
            "saving checkpoint for epoch 167\n"
          ]
        },
        {
          "name": "stderr",
          "output_type": "stream",
          "text": [
            "\rMOSEAS Regression:  68%|██████▊   | 169/250 [36:10<17:28, 12.95s/it]"
          ]
        },
        {
          "name": "stdout",
          "output_type": "stream",
          "text": [
            "Train Loss - MOSEAS Regression:  0.3443\n",
            "Test Loss - MOSEAS Regression:  0.4299\n",
            "Train MAE - MOSEAS Regression:  0.4516\n",
            "Test MAE - MOSEAS Regression:  0.5051\n",
            "Train Pearson - MOSEAS Regression:  0.5319\n",
            "Test Pearson - MOSEAS Regression:  0.3438\n",
            "saving checkpoint for epoch 168\n"
          ]
        },
        {
          "name": "stderr",
          "output_type": "stream",
          "text": [
            "\rMOSEAS Regression:  68%|██████▊   | 170/250 [36:23<17:14, 12.93s/it]"
          ]
        },
        {
          "name": "stdout",
          "output_type": "stream",
          "text": [
            "Train Loss - MOSEAS Regression:  0.3444\n",
            "Test Loss - MOSEAS Regression:  0.4312\n",
            "Train MAE - MOSEAS Regression:  0.4509\n",
            "Test MAE - MOSEAS Regression:  0.507\n",
            "Train Pearson - MOSEAS Regression:  0.5313\n",
            "Test Pearson - MOSEAS Regression:  0.3431\n"
          ]
        },
        {
          "name": "stderr",
          "output_type": "stream",
          "text": [
            "\rMOSEAS Regression:  68%|██████▊   | 171/250 [36:36<17:04, 12.97s/it]"
          ]
        },
        {
          "name": "stdout",
          "output_type": "stream",
          "text": [
            "Train Loss - MOSEAS Regression:  0.3413\n",
            "Test Loss - MOSEAS Regression:  0.4297\n",
            "Train MAE - MOSEAS Regression:  0.4486\n",
            "Test MAE - MOSEAS Regression:  0.5052\n",
            "Train Pearson - MOSEAS Regression:  0.5375\n",
            "Test Pearson - MOSEAS Regression:  0.3451\n",
            "saving checkpoint for epoch 170\n"
          ]
        },
        {
          "name": "stderr",
          "output_type": "stream",
          "text": [
            "\rMOSEAS Regression:  69%|██████▉   | 172/250 [36:49<17:00, 13.09s/it]"
          ]
        },
        {
          "name": "stdout",
          "output_type": "stream",
          "text": [
            "Train Loss - MOSEAS Regression:  0.3404\n",
            "Test Loss - MOSEAS Regression:  0.4293\n",
            "Train MAE - MOSEAS Regression:  0.4482\n",
            "Test MAE - MOSEAS Regression:  0.5055\n",
            "Train Pearson - MOSEAS Regression:  0.5395\n",
            "Test Pearson - MOSEAS Regression:  0.3453\n",
            "saving checkpoint for epoch 171\n"
          ]
        },
        {
          "name": "stderr",
          "output_type": "stream",
          "text": [
            "\rMOSEAS Regression:  69%|██████▉   | 173/250 [37:02<16:39, 12.98s/it]"
          ]
        },
        {
          "name": "stdout",
          "output_type": "stream",
          "text": [
            "Train Loss - MOSEAS Regression:  0.3425\n",
            "Test Loss - MOSEAS Regression:  0.4325\n",
            "Train MAE - MOSEAS Regression:  0.4494\n",
            "Test MAE - MOSEAS Regression:  0.5091\n",
            "Train Pearson - MOSEAS Regression:  0.535\n",
            "Test Pearson - MOSEAS Regression:  0.343\n"
          ]
        },
        {
          "name": "stderr",
          "output_type": "stream",
          "text": [
            "\rMOSEAS Regression:  70%|██████▉   | 174/250 [37:15<16:29, 13.03s/it]"
          ]
        },
        {
          "name": "stdout",
          "output_type": "stream",
          "text": [
            "Train Loss - MOSEAS Regression:  0.3435\n",
            "Test Loss - MOSEAS Regression:  0.4292\n",
            "Train MAE - MOSEAS Regression:  0.4509\n",
            "Test MAE - MOSEAS Regression:  0.5041\n",
            "Train Pearson - MOSEAS Regression:  0.5337\n",
            "Test Pearson - MOSEAS Regression:  0.3473\n",
            "saving checkpoint for epoch 173\n"
          ]
        },
        {
          "name": "stderr",
          "output_type": "stream",
          "text": [
            "\rMOSEAS Regression:  70%|███████   | 175/250 [37:27<16:03, 12.85s/it]"
          ]
        },
        {
          "name": "stdout",
          "output_type": "stream",
          "text": [
            "Train Loss - MOSEAS Regression:  0.3407\n",
            "Test Loss - MOSEAS Regression:  0.4312\n",
            "Train MAE - MOSEAS Regression:  0.4462\n",
            "Test MAE - MOSEAS Regression:  0.5077\n",
            "Train Pearson - MOSEAS Regression:  0.5403\n",
            "Test Pearson - MOSEAS Regression:  0.3437\n"
          ]
        },
        {
          "name": "stderr",
          "output_type": "stream",
          "text": [
            "\rMOSEAS Regression:  70%|███████   | 176/250 [37:40<15:42, 12.74s/it]"
          ]
        },
        {
          "name": "stdout",
          "output_type": "stream",
          "text": [
            "Train Loss - MOSEAS Regression:  0.3417\n",
            "Test Loss - MOSEAS Regression:  0.4294\n",
            "Train MAE - MOSEAS Regression:  0.4515\n",
            "Test MAE - MOSEAS Regression:  0.5037\n",
            "Train Pearson - MOSEAS Regression:  0.5393\n",
            "Test Pearson - MOSEAS Regression:  0.3471\n"
          ]
        },
        {
          "name": "stderr",
          "output_type": "stream",
          "text": [
            "\rMOSEAS Regression:  71%|███████   | 177/250 [37:52<15:21, 12.62s/it]"
          ]
        },
        {
          "name": "stdout",
          "output_type": "stream",
          "text": [
            "Train Loss - MOSEAS Regression:  0.3411\n",
            "Test Loss - MOSEAS Regression:  0.4289\n",
            "Train MAE - MOSEAS Regression:  0.4468\n",
            "Test MAE - MOSEAS Regression:  0.5048\n",
            "Train Pearson - MOSEAS Regression:  0.5426\n",
            "Test Pearson - MOSEAS Regression:  0.346\n",
            "saving checkpoint for epoch 176\n"
          ]
        },
        {
          "name": "stderr",
          "output_type": "stream",
          "text": [
            "\rMOSEAS Regression:  71%|███████   | 178/250 [38:05<15:01, 12.52s/it]"
          ]
        },
        {
          "name": "stdout",
          "output_type": "stream",
          "text": [
            "Train Loss - MOSEAS Regression:  0.3399\n",
            "Test Loss - MOSEAS Regression:  0.4324\n",
            "Train MAE - MOSEAS Regression:  0.449\n",
            "Test MAE - MOSEAS Regression:  0.5087\n",
            "Train Pearson - MOSEAS Regression:  0.5418\n",
            "Test Pearson - MOSEAS Regression:  0.3445\n"
          ]
        },
        {
          "name": "stderr",
          "output_type": "stream",
          "text": [
            "\rMOSEAS Regression:  72%|███████▏  | 179/250 [38:17<14:47, 12.50s/it]"
          ]
        },
        {
          "name": "stdout",
          "output_type": "stream",
          "text": [
            "Train Loss - MOSEAS Regression:  0.3418\n",
            "Test Loss - MOSEAS Regression:  0.4306\n",
            "Train MAE - MOSEAS Regression:  0.4495\n",
            "Test MAE - MOSEAS Regression:  0.5043\n",
            "Train Pearson - MOSEAS Regression:  0.5365\n",
            "Test Pearson - MOSEAS Regression:  0.3476\n"
          ]
        },
        {
          "name": "stderr",
          "output_type": "stream",
          "text": [
            "\rMOSEAS Regression:  72%|███████▏  | 180/250 [38:30<14:41, 12.59s/it]"
          ]
        },
        {
          "name": "stdout",
          "output_type": "stream",
          "text": [
            "Train Loss - MOSEAS Regression:  0.3426\n",
            "Test Loss - MOSEAS Regression:  0.4331\n",
            "Train MAE - MOSEAS Regression:  0.4504\n",
            "Test MAE - MOSEAS Regression:  0.5097\n",
            "Train Pearson - MOSEAS Regression:  0.5362\n",
            "Test Pearson - MOSEAS Regression:  0.3438\n"
          ]
        },
        {
          "name": "stderr",
          "output_type": "stream",
          "text": [
            "\rMOSEAS Regression:  72%|███████▏  | 181/250 [38:43<14:44, 12.81s/it]"
          ]
        },
        {
          "name": "stdout",
          "output_type": "stream",
          "text": [
            "Train Loss - MOSEAS Regression:  0.3382\n",
            "Test Loss - MOSEAS Regression:  0.4287\n",
            "Train MAE - MOSEAS Regression:  0.4485\n",
            "Test MAE - MOSEAS Regression:  0.5034\n",
            "Train Pearson - MOSEAS Regression:  0.5468\n",
            "Test Pearson - MOSEAS Regression:  0.3477\n",
            "saving checkpoint for epoch 180\n"
          ]
        },
        {
          "name": "stderr",
          "output_type": "stream",
          "text": [
            "\rMOSEAS Regression:  73%|███████▎  | 182/250 [38:56<14:24, 12.71s/it]"
          ]
        },
        {
          "name": "stdout",
          "output_type": "stream",
          "text": [
            "Train Loss - MOSEAS Regression:  0.3421\n",
            "Test Loss - MOSEAS Regression:  0.4282\n",
            "Train MAE - MOSEAS Regression:  0.449\n",
            "Test MAE - MOSEAS Regression:  0.5046\n",
            "Train Pearson - MOSEAS Regression:  0.5413\n",
            "Test Pearson - MOSEAS Regression:  0.3465\n",
            "saving checkpoint for epoch 181\n"
          ]
        },
        {
          "name": "stderr",
          "output_type": "stream",
          "text": [
            "\rMOSEAS Regression:  73%|███████▎  | 183/250 [39:09<14:16, 12.78s/it]"
          ]
        },
        {
          "name": "stdout",
          "output_type": "stream",
          "text": [
            "Train Loss - MOSEAS Regression:  0.3389\n",
            "Test Loss - MOSEAS Regression:  0.4326\n",
            "Train MAE - MOSEAS Regression:  0.4471\n",
            "Test MAE - MOSEAS Regression:  0.5091\n",
            "Train Pearson - MOSEAS Regression:  0.5427\n",
            "Test Pearson - MOSEAS Regression:  0.3433\n"
          ]
        },
        {
          "name": "stderr",
          "output_type": "stream",
          "text": [
            "\rMOSEAS Regression:  74%|███████▎  | 184/250 [39:22<14:14, 12.95s/it]"
          ]
        },
        {
          "name": "stdout",
          "output_type": "stream",
          "text": [
            "Train Loss - MOSEAS Regression:  0.3397\n",
            "Test Loss - MOSEAS Regression:  0.4303\n",
            "Train MAE - MOSEAS Regression:  0.449\n",
            "Test MAE - MOSEAS Regression:  0.5037\n",
            "Train Pearson - MOSEAS Regression:  0.5418\n",
            "Test Pearson - MOSEAS Regression:  0.3493\n"
          ]
        },
        {
          "name": "stderr",
          "output_type": "stream",
          "text": [
            "\rMOSEAS Regression:  74%|███████▍  | 185/250 [39:35<14:07, 13.04s/it]"
          ]
        },
        {
          "name": "stdout",
          "output_type": "stream",
          "text": [
            "Train Loss - MOSEAS Regression:  0.3382\n",
            "Test Loss - MOSEAS Regression:  0.43\n",
            "Train MAE - MOSEAS Regression:  0.4476\n",
            "Test MAE - MOSEAS Regression:  0.5067\n",
            "Train Pearson - MOSEAS Regression:  0.5474\n",
            "Test Pearson - MOSEAS Regression:  0.3471\n"
          ]
        },
        {
          "name": "stderr",
          "output_type": "stream",
          "text": [
            "\rMOSEAS Regression:  74%|███████▍  | 186/250 [39:49<14:00, 13.13s/it]"
          ]
        },
        {
          "name": "stdout",
          "output_type": "stream",
          "text": [
            "Train Loss - MOSEAS Regression:  0.3358\n",
            "Test Loss - MOSEAS Regression:  0.4288\n",
            "Train MAE - MOSEAS Regression:  0.4467\n",
            "Test MAE - MOSEAS Regression:  0.5055\n",
            "Train Pearson - MOSEAS Regression:  0.5508\n",
            "Test Pearson - MOSEAS Regression:  0.3486\n"
          ]
        },
        {
          "name": "stderr",
          "output_type": "stream",
          "text": [
            "\rMOSEAS Regression:  75%|███████▍  | 187/250 [40:02<13:49, 13.17s/it]"
          ]
        },
        {
          "name": "stdout",
          "output_type": "stream",
          "text": [
            "Train Loss - MOSEAS Regression:  0.3377\n",
            "Test Loss - MOSEAS Regression:  0.4286\n",
            "Train MAE - MOSEAS Regression:  0.4463\n",
            "Test MAE - MOSEAS Regression:  0.5035\n",
            "Train Pearson - MOSEAS Regression:  0.5445\n",
            "Test Pearson - MOSEAS Regression:  0.3506\n"
          ]
        },
        {
          "name": "stderr",
          "output_type": "stream",
          "text": [
            "\rMOSEAS Regression:  75%|███████▌  | 188/250 [40:15<13:30, 13.07s/it]"
          ]
        },
        {
          "name": "stdout",
          "output_type": "stream",
          "text": [
            "Train Loss - MOSEAS Regression:  0.3356\n",
            "Test Loss - MOSEAS Regression:  0.4321\n",
            "Train MAE - MOSEAS Regression:  0.4446\n",
            "Test MAE - MOSEAS Regression:  0.509\n",
            "Train Pearson - MOSEAS Regression:  0.5489\n",
            "Test Pearson - MOSEAS Regression:  0.3476\n"
          ]
        },
        {
          "name": "stderr",
          "output_type": "stream",
          "text": [
            "\rMOSEAS Regression:  76%|███████▌  | 189/250 [40:28<13:14, 13.03s/it]"
          ]
        },
        {
          "name": "stdout",
          "output_type": "stream",
          "text": [
            "Train Loss - MOSEAS Regression:  0.3401\n",
            "Test Loss - MOSEAS Regression:  0.428\n",
            "Train MAE - MOSEAS Regression:  0.4509\n",
            "Test MAE - MOSEAS Regression:  0.5036\n",
            "Train Pearson - MOSEAS Regression:  0.5424\n",
            "Test Pearson - MOSEAS Regression:  0.3508\n",
            "saving checkpoint for epoch 188\n"
          ]
        },
        {
          "name": "stderr",
          "output_type": "stream",
          "text": [
            "\rMOSEAS Regression:  76%|███████▌  | 190/250 [40:40<12:58, 12.98s/it]"
          ]
        },
        {
          "name": "stdout",
          "output_type": "stream",
          "text": [
            "Train Loss - MOSEAS Regression:  0.3381\n",
            "Test Loss - MOSEAS Regression:  0.4281\n",
            "Train MAE - MOSEAS Regression:  0.446\n",
            "Test MAE - MOSEAS Regression:  0.505\n",
            "Train Pearson - MOSEAS Regression:  0.5458\n",
            "Test Pearson - MOSEAS Regression:  0.3498\n"
          ]
        },
        {
          "name": "stderr",
          "output_type": "stream",
          "text": [
            "\rMOSEAS Regression:  76%|███████▋  | 191/250 [40:53<12:45, 12.97s/it]"
          ]
        },
        {
          "name": "stdout",
          "output_type": "stream",
          "text": [
            "Train Loss - MOSEAS Regression:  0.336\n",
            "Test Loss - MOSEAS Regression:  0.4295\n",
            "Train MAE - MOSEAS Regression:  0.4444\n",
            "Test MAE - MOSEAS Regression:  0.5065\n",
            "Train Pearson - MOSEAS Regression:  0.5483\n",
            "Test Pearson - MOSEAS Regression:  0.3491\n"
          ]
        },
        {
          "name": "stderr",
          "output_type": "stream",
          "text": [
            "\rMOSEAS Regression:  77%|███████▋  | 192/250 [41:07<12:38, 13.08s/it]"
          ]
        },
        {
          "name": "stdout",
          "output_type": "stream",
          "text": [
            "Train Loss - MOSEAS Regression:  0.3341\n",
            "Test Loss - MOSEAS Regression:  0.4273\n",
            "Train MAE - MOSEAS Regression:  0.4456\n",
            "Test MAE - MOSEAS Regression:  0.5037\n",
            "Train Pearson - MOSEAS Regression:  0.5511\n",
            "Test Pearson - MOSEAS Regression:  0.3511\n",
            "saving checkpoint for epoch 191\n"
          ]
        },
        {
          "name": "stderr",
          "output_type": "stream",
          "text": [
            "\rMOSEAS Regression:  77%|███████▋  | 193/250 [41:19<12:14, 12.89s/it]"
          ]
        },
        {
          "name": "stdout",
          "output_type": "stream",
          "text": [
            "Train Loss - MOSEAS Regression:  0.3297\n",
            "Test Loss - MOSEAS Regression:  0.4275\n",
            "Train MAE - MOSEAS Regression:  0.441\n",
            "Test MAE - MOSEAS Regression:  0.5045\n",
            "Train Pearson - MOSEAS Regression:  0.5599\n",
            "Test Pearson - MOSEAS Regression:  0.3511\n"
          ]
        },
        {
          "name": "stderr",
          "output_type": "stream",
          "text": [
            "\rMOSEAS Regression:  78%|███████▊  | 194/250 [41:31<11:42, 12.54s/it]"
          ]
        },
        {
          "name": "stdout",
          "output_type": "stream",
          "text": [
            "Train Loss - MOSEAS Regression:  0.3349\n",
            "Test Loss - MOSEAS Regression:  0.4269\n",
            "Train MAE - MOSEAS Regression:  0.4466\n",
            "Test MAE - MOSEAS Regression:  0.5039\n",
            "Train Pearson - MOSEAS Regression:  0.5497\n",
            "Test Pearson - MOSEAS Regression:  0.3523\n",
            "saving checkpoint for epoch 193\n"
          ]
        },
        {
          "name": "stderr",
          "output_type": "stream",
          "text": [
            "\rMOSEAS Regression:  78%|███████▊  | 195/250 [41:44<11:44, 12.81s/it]"
          ]
        },
        {
          "name": "stdout",
          "output_type": "stream",
          "text": [
            "Train Loss - MOSEAS Regression:  0.3371\n",
            "Test Loss - MOSEAS Regression:  0.426\n",
            "Train MAE - MOSEAS Regression:  0.4461\n",
            "Test MAE - MOSEAS Regression:  0.5027\n",
            "Train Pearson - MOSEAS Regression:  0.5462\n",
            "Test Pearson - MOSEAS Regression:  0.3538\n",
            "saving checkpoint for epoch 194\n"
          ]
        },
        {
          "name": "stderr",
          "output_type": "stream",
          "text": [
            "\rMOSEAS Regression:  78%|███████▊  | 196/250 [41:57<11:25, 12.70s/it]"
          ]
        },
        {
          "name": "stdout",
          "output_type": "stream",
          "text": [
            "Train Loss - MOSEAS Regression:  0.3312\n",
            "Test Loss - MOSEAS Regression:  0.4296\n",
            "Train MAE - MOSEAS Regression:  0.4433\n",
            "Test MAE - MOSEAS Regression:  0.5074\n",
            "Train Pearson - MOSEAS Regression:  0.557\n",
            "Test Pearson - MOSEAS Regression:  0.3511\n"
          ]
        },
        {
          "name": "stderr",
          "output_type": "stream",
          "text": [
            "\rMOSEAS Regression:  79%|███████▉  | 197/250 [42:10<11:16, 12.77s/it]"
          ]
        },
        {
          "name": "stdout",
          "output_type": "stream",
          "text": [
            "Train Loss - MOSEAS Regression:  0.3327\n",
            "Test Loss - MOSEAS Regression:  0.4259\n",
            "Train MAE - MOSEAS Regression:  0.443\n",
            "Test MAE - MOSEAS Regression:  0.5021\n",
            "Train Pearson - MOSEAS Regression:  0.5552\n",
            "Test Pearson - MOSEAS Regression:  0.3555\n",
            "saving checkpoint for epoch 196\n"
          ]
        },
        {
          "name": "stderr",
          "output_type": "stream",
          "text": [
            "\rMOSEAS Regression:  79%|███████▉  | 198/250 [42:22<11:00, 12.70s/it]"
          ]
        },
        {
          "name": "stdout",
          "output_type": "stream",
          "text": [
            "Train Loss - MOSEAS Regression:  0.3286\n",
            "Test Loss - MOSEAS Regression:  0.4272\n",
            "Train MAE - MOSEAS Regression:  0.4386\n",
            "Test MAE - MOSEAS Regression:  0.5047\n",
            "Train Pearson - MOSEAS Regression:  0.5639\n",
            "Test Pearson - MOSEAS Regression:  0.3538\n"
          ]
        },
        {
          "name": "stderr",
          "output_type": "stream",
          "text": [
            "\rMOSEAS Regression:  80%|███████▉  | 199/250 [42:35<10:55, 12.85s/it]"
          ]
        },
        {
          "name": "stdout",
          "output_type": "stream",
          "text": [
            "Train Loss - MOSEAS Regression:  0.3329\n",
            "Test Loss - MOSEAS Regression:  0.4265\n",
            "Train MAE - MOSEAS Regression:  0.4448\n",
            "Test MAE - MOSEAS Regression:  0.5037\n",
            "Train Pearson - MOSEAS Regression:  0.5544\n",
            "Test Pearson - MOSEAS Regression:  0.3549\n"
          ]
        },
        {
          "name": "stderr",
          "output_type": "stream",
          "text": [
            "\rMOSEAS Regression:  80%|████████  | 200/250 [42:48<10:39, 12.78s/it]"
          ]
        },
        {
          "name": "stdout",
          "output_type": "stream",
          "text": [
            "Train Loss - MOSEAS Regression:  0.3306\n",
            "Test Loss - MOSEAS Regression:  0.4262\n",
            "Train MAE - MOSEAS Regression:  0.4419\n",
            "Test MAE - MOSEAS Regression:  0.5017\n",
            "Train Pearson - MOSEAS Regression:  0.5577\n",
            "Test Pearson - MOSEAS Regression:  0.3569\n"
          ]
        },
        {
          "name": "stderr",
          "output_type": "stream",
          "text": [
            "\rMOSEAS Regression:  80%|████████  | 201/250 [43:00<10:15, 12.56s/it]"
          ]
        },
        {
          "name": "stdout",
          "output_type": "stream",
          "text": [
            "Train Loss - MOSEAS Regression:  0.3312\n",
            "Test Loss - MOSEAS Regression:  0.4297\n",
            "Train MAE - MOSEAS Regression:  0.4413\n",
            "Test MAE - MOSEAS Regression:  0.5071\n",
            "Train Pearson - MOSEAS Regression:  0.5578\n",
            "Test Pearson - MOSEAS Regression:  0.3534\n"
          ]
        },
        {
          "name": "stderr",
          "output_type": "stream",
          "text": [
            "\rMOSEAS Regression:  81%|████████  | 202/250 [43:13<10:08, 12.67s/it]"
          ]
        },
        {
          "name": "stdout",
          "output_type": "stream",
          "text": [
            "Train Loss - MOSEAS Regression:  0.3274\n",
            "Test Loss - MOSEAS Regression:  0.4258\n",
            "Train MAE - MOSEAS Regression:  0.4407\n",
            "Test MAE - MOSEAS Regression:  0.502\n",
            "Train Pearson - MOSEAS Regression:  0.5674\n",
            "Test Pearson - MOSEAS Regression:  0.3568\n",
            "saving checkpoint for epoch 201\n"
          ]
        },
        {
          "name": "stderr",
          "output_type": "stream",
          "text": [
            "\rMOSEAS Regression:  81%|████████  | 203/250 [43:26<10:05, 12.87s/it]"
          ]
        },
        {
          "name": "stdout",
          "output_type": "stream",
          "text": [
            "Train Loss - MOSEAS Regression:  0.3317\n",
            "Test Loss - MOSEAS Regression:  0.4258\n",
            "Train MAE - MOSEAS Regression:  0.4433\n",
            "Test MAE - MOSEAS Regression:  0.5022\n",
            "Train Pearson - MOSEAS Regression:  0.5583\n",
            "Test Pearson - MOSEAS Regression:  0.3565\n"
          ]
        },
        {
          "name": "stderr",
          "output_type": "stream",
          "text": [
            "\rMOSEAS Regression:  82%|████████▏ | 204/250 [43:39<09:49, 12.82s/it]"
          ]
        },
        {
          "name": "stdout",
          "output_type": "stream",
          "text": [
            "Train Loss - MOSEAS Regression:  0.3301\n",
            "Test Loss - MOSEAS Regression:  0.4272\n",
            "Train MAE - MOSEAS Regression:  0.4424\n",
            "Test MAE - MOSEAS Regression:  0.5048\n",
            "Train Pearson - MOSEAS Regression:  0.5589\n",
            "Test Pearson - MOSEAS Regression:  0.3543\n"
          ]
        },
        {
          "name": "stderr",
          "output_type": "stream",
          "text": [
            "\rMOSEAS Regression:  82%|████████▏ | 205/250 [43:52<09:42, 12.95s/it]"
          ]
        },
        {
          "name": "stdout",
          "output_type": "stream",
          "text": [
            "Train Loss - MOSEAS Regression:  0.3328\n",
            "Test Loss - MOSEAS Regression:  0.4265\n",
            "Train MAE - MOSEAS Regression:  0.4441\n",
            "Test MAE - MOSEAS Regression:  0.5025\n",
            "Train Pearson - MOSEAS Regression:  0.5536\n",
            "Test Pearson - MOSEAS Regression:  0.3563\n"
          ]
        },
        {
          "name": "stderr",
          "output_type": "stream",
          "text": [
            "\rMOSEAS Regression:  82%|████████▏ | 206/250 [44:05<09:28, 12.92s/it]"
          ]
        },
        {
          "name": "stdout",
          "output_type": "stream",
          "text": [
            "Train Loss - MOSEAS Regression:  0.328\n",
            "Test Loss - MOSEAS Regression:  0.4294\n",
            "Train MAE - MOSEAS Regression:  0.4405\n",
            "Test MAE - MOSEAS Regression:  0.5075\n",
            "Train Pearson - MOSEAS Regression:  0.5633\n",
            "Test Pearson - MOSEAS Regression:  0.3525\n"
          ]
        },
        {
          "name": "stderr",
          "output_type": "stream",
          "text": [
            "\rMOSEAS Regression:  83%|████████▎ | 207/250 [44:18<09:09, 12.79s/it]"
          ]
        },
        {
          "name": "stdout",
          "output_type": "stream",
          "text": [
            "Train Loss - MOSEAS Regression:  0.3267\n",
            "Test Loss - MOSEAS Regression:  0.4259\n",
            "Train MAE - MOSEAS Regression:  0.44\n",
            "Test MAE - MOSEAS Regression:  0.5037\n",
            "Train Pearson - MOSEAS Regression:  0.566\n",
            "Test Pearson - MOSEAS Regression:  0.3548\n"
          ]
        },
        {
          "name": "stderr",
          "output_type": "stream",
          "text": [
            "\rMOSEAS Regression:  83%|████████▎ | 208/250 [44:31<09:00, 12.87s/it]"
          ]
        },
        {
          "name": "stdout",
          "output_type": "stream",
          "text": [
            "Train Loss - MOSEAS Regression:  0.3276\n",
            "Test Loss - MOSEAS Regression:  0.4261\n",
            "Train MAE - MOSEAS Regression:  0.4415\n",
            "Test MAE - MOSEAS Regression:  0.504\n",
            "Train Pearson - MOSEAS Regression:  0.564\n",
            "Test Pearson - MOSEAS Regression:  0.3544\n"
          ]
        },
        {
          "name": "stderr",
          "output_type": "stream",
          "text": [
            "\rMOSEAS Regression:  84%|████████▎ | 209/250 [44:44<08:51, 12.96s/it]"
          ]
        },
        {
          "name": "stdout",
          "output_type": "stream",
          "text": [
            "Train Loss - MOSEAS Regression:  0.3267\n",
            "Test Loss - MOSEAS Regression:  0.4265\n",
            "Train MAE - MOSEAS Regression:  0.4405\n",
            "Test MAE - MOSEAS Regression:  0.5041\n",
            "Train Pearson - MOSEAS Regression:  0.5653\n",
            "Test Pearson - MOSEAS Regression:  0.3544\n"
          ]
        },
        {
          "name": "stderr",
          "output_type": "stream",
          "text": [
            "\rMOSEAS Regression:  84%|████████▍ | 210/250 [44:57<08:41, 13.04s/it]"
          ]
        },
        {
          "name": "stdout",
          "output_type": "stream",
          "text": [
            "Train Loss - MOSEAS Regression:  0.3271\n",
            "Test Loss - MOSEAS Regression:  0.4261\n",
            "Train MAE - MOSEAS Regression:  0.4394\n",
            "Test MAE - MOSEAS Regression:  0.5028\n",
            "Train Pearson - MOSEAS Regression:  0.5648\n",
            "Test Pearson - MOSEAS Regression:  0.3553\n"
          ]
        },
        {
          "name": "stderr",
          "output_type": "stream",
          "text": [
            "\rMOSEAS Regression:  84%|████████▍ | 211/250 [45:10<08:27, 13.01s/it]"
          ]
        },
        {
          "name": "stdout",
          "output_type": "stream",
          "text": [
            "Train Loss - MOSEAS Regression:  0.3245\n",
            "Test Loss - MOSEAS Regression:  0.4275\n",
            "Train MAE - MOSEAS Regression:  0.4384\n",
            "Test MAE - MOSEAS Regression:  0.5041\n",
            "Train Pearson - MOSEAS Regression:  0.5696\n",
            "Test Pearson - MOSEAS Regression:  0.3545\n"
          ]
        },
        {
          "name": "stderr",
          "output_type": "stream",
          "text": [
            "\rMOSEAS Regression:  85%|████████▍ | 212/250 [45:23<08:14, 13.02s/it]"
          ]
        },
        {
          "name": "stdout",
          "output_type": "stream",
          "text": [
            "Train Loss - MOSEAS Regression:  0.3265\n",
            "Test Loss - MOSEAS Regression:  0.4263\n",
            "Train MAE - MOSEAS Regression:  0.4401\n",
            "Test MAE - MOSEAS Regression:  0.5018\n",
            "Train Pearson - MOSEAS Regression:  0.5652\n",
            "Test Pearson - MOSEAS Regression:  0.356\n"
          ]
        },
        {
          "name": "stderr",
          "output_type": "stream",
          "text": [
            "\rMOSEAS Regression:  85%|████████▌ | 213/250 [45:36<08:00, 12.98s/it]"
          ]
        },
        {
          "name": "stdout",
          "output_type": "stream",
          "text": [
            "Train Loss - MOSEAS Regression:  0.3262\n",
            "Test Loss - MOSEAS Regression:  0.4268\n",
            "Train MAE - MOSEAS Regression:  0.4401\n",
            "Test MAE - MOSEAS Regression:  0.5036\n",
            "Train Pearson - MOSEAS Regression:  0.5662\n",
            "Test Pearson - MOSEAS Regression:  0.3555\n"
          ]
        },
        {
          "name": "stderr",
          "output_type": "stream",
          "text": [
            "\rMOSEAS Regression:  86%|████████▌ | 214/250 [45:48<07:41, 12.82s/it]"
          ]
        },
        {
          "name": "stdout",
          "output_type": "stream",
          "text": [
            "Train Loss - MOSEAS Regression:  0.3254\n",
            "Test Loss - MOSEAS Regression:  0.4267\n",
            "Train MAE - MOSEAS Regression:  0.4373\n",
            "Test MAE - MOSEAS Regression:  0.5039\n",
            "Train Pearson - MOSEAS Regression:  0.5675\n",
            "Test Pearson - MOSEAS Regression:  0.3556\n"
          ]
        },
        {
          "name": "stderr",
          "output_type": "stream",
          "text": [
            "\rMOSEAS Regression:  86%|████████▌ | 215/250 [46:01<07:28, 12.82s/it]"
          ]
        },
        {
          "name": "stdout",
          "output_type": "stream",
          "text": [
            "Train Loss - MOSEAS Regression:  0.3253\n",
            "Test Loss - MOSEAS Regression:  0.4257\n",
            "Train MAE - MOSEAS Regression:  0.4373\n",
            "Test MAE - MOSEAS Regression:  0.5028\n",
            "Train Pearson - MOSEAS Regression:  0.5675\n",
            "Test Pearson - MOSEAS Regression:  0.3567\n",
            "saving checkpoint for epoch 214\n"
          ]
        },
        {
          "name": "stderr",
          "output_type": "stream",
          "text": [
            "\rMOSEAS Regression:  86%|████████▋ | 216/250 [46:14<07:17, 12.86s/it]"
          ]
        },
        {
          "name": "stdout",
          "output_type": "stream",
          "text": [
            "Train Loss - MOSEAS Regression:  0.3226\n",
            "Test Loss - MOSEAS Regression:  0.4256\n",
            "Train MAE - MOSEAS Regression:  0.4352\n",
            "Test MAE - MOSEAS Regression:  0.5028\n",
            "Train Pearson - MOSEAS Regression:  0.5725\n",
            "Test Pearson - MOSEAS Regression:  0.3572\n",
            "saving checkpoint for epoch 215\n"
          ]
        },
        {
          "name": "stderr",
          "output_type": "stream",
          "text": [
            "\rMOSEAS Regression:  87%|████████▋ | 217/250 [46:27<07:04, 12.85s/it]"
          ]
        },
        {
          "name": "stdout",
          "output_type": "stream",
          "text": [
            "Train Loss - MOSEAS Regression:  0.3232\n",
            "Test Loss - MOSEAS Regression:  0.4254\n",
            "Train MAE - MOSEAS Regression:  0.4389\n",
            "Test MAE - MOSEAS Regression:  0.5025\n",
            "Train Pearson - MOSEAS Regression:  0.5717\n",
            "Test Pearson - MOSEAS Regression:  0.3581\n",
            "saving checkpoint for epoch 216\n"
          ]
        },
        {
          "name": "stderr",
          "output_type": "stream",
          "text": [
            "\rMOSEAS Regression:  87%|████████▋ | 218/250 [46:40<06:51, 12.87s/it]"
          ]
        },
        {
          "name": "stdout",
          "output_type": "stream",
          "text": [
            "Train Loss - MOSEAS Regression:  0.3242\n",
            "Test Loss - MOSEAS Regression:  0.4269\n",
            "Train MAE - MOSEAS Regression:  0.4385\n",
            "Test MAE - MOSEAS Regression:  0.505\n",
            "Train Pearson - MOSEAS Regression:  0.5695\n",
            "Test Pearson - MOSEAS Regression:  0.357\n"
          ]
        },
        {
          "name": "stderr",
          "output_type": "stream",
          "text": [
            "\rMOSEAS Regression:  88%|████████▊ | 219/250 [46:53<06:43, 13.02s/it]"
          ]
        },
        {
          "name": "stdout",
          "output_type": "stream",
          "text": [
            "Train Loss - MOSEAS Regression:  0.3234\n",
            "Test Loss - MOSEAS Regression:  0.425\n",
            "Train MAE - MOSEAS Regression:  0.4378\n",
            "Test MAE - MOSEAS Regression:  0.5016\n",
            "Train Pearson - MOSEAS Regression:  0.571\n",
            "Test Pearson - MOSEAS Regression:  0.3595\n",
            "saving checkpoint for epoch 218\n"
          ]
        },
        {
          "name": "stderr",
          "output_type": "stream",
          "text": [
            "\rMOSEAS Regression:  88%|████████▊ | 220/250 [47:06<06:30, 13.01s/it]"
          ]
        },
        {
          "name": "stdout",
          "output_type": "stream",
          "text": [
            "Train Loss - MOSEAS Regression:  0.3243\n",
            "Test Loss - MOSEAS Regression:  0.4287\n",
            "Train MAE - MOSEAS Regression:  0.4376\n",
            "Test MAE - MOSEAS Regression:  0.507\n",
            "Train Pearson - MOSEAS Regression:  0.5707\n",
            "Test Pearson - MOSEAS Regression:  0.3559\n"
          ]
        },
        {
          "name": "stderr",
          "output_type": "stream",
          "text": [
            "\rMOSEAS Regression:  88%|████████▊ | 221/250 [47:19<06:11, 12.82s/it]"
          ]
        },
        {
          "name": "stdout",
          "output_type": "stream",
          "text": [
            "Train Loss - MOSEAS Regression:  0.3285\n",
            "Test Loss - MOSEAS Regression:  0.4252\n",
            "Train MAE - MOSEAS Regression:  0.4419\n",
            "Test MAE - MOSEAS Regression:  0.5018\n",
            "Train Pearson - MOSEAS Regression:  0.5652\n",
            "Test Pearson - MOSEAS Regression:  0.359\n"
          ]
        },
        {
          "name": "stderr",
          "output_type": "stream",
          "text": [
            "\rMOSEAS Regression:  89%|████████▉ | 222/250 [47:32<05:59, 12.84s/it]"
          ]
        },
        {
          "name": "stdout",
          "output_type": "stream",
          "text": [
            "Train Loss - MOSEAS Regression:  0.3211\n",
            "Test Loss - MOSEAS Regression:  0.4256\n",
            "Train MAE - MOSEAS Regression:  0.4358\n",
            "Test MAE - MOSEAS Regression:  0.5023\n",
            "Train Pearson - MOSEAS Regression:  0.5777\n",
            "Test Pearson - MOSEAS Regression:  0.3582\n"
          ]
        },
        {
          "name": "stderr",
          "output_type": "stream",
          "text": [
            "\rMOSEAS Regression:  89%|████████▉ | 223/250 [47:44<05:43, 12.74s/it]"
          ]
        },
        {
          "name": "stdout",
          "output_type": "stream",
          "text": [
            "Train Loss - MOSEAS Regression:  0.3206\n",
            "Test Loss - MOSEAS Regression:  0.4293\n",
            "Train MAE - MOSEAS Regression:  0.4352\n",
            "Test MAE - MOSEAS Regression:  0.5072\n",
            "Train Pearson - MOSEAS Regression:  0.5765\n",
            "Test Pearson - MOSEAS Regression:  0.3551\n"
          ]
        },
        {
          "name": "stderr",
          "output_type": "stream",
          "text": [
            "\rMOSEAS Regression:  90%|████████▉ | 224/250 [47:57<05:31, 12.75s/it]"
          ]
        },
        {
          "name": "stdout",
          "output_type": "stream",
          "text": [
            "Train Loss - MOSEAS Regression:  0.3221\n",
            "Test Loss - MOSEAS Regression:  0.4268\n",
            "Train MAE - MOSEAS Regression:  0.4376\n",
            "Test MAE - MOSEAS Regression:  0.502\n",
            "Train Pearson - MOSEAS Regression:  0.5737\n",
            "Test Pearson - MOSEAS Regression:  0.358\n"
          ]
        },
        {
          "name": "stderr",
          "output_type": "stream",
          "text": [
            "\rMOSEAS Regression:  90%|█████████ | 225/250 [48:10<05:19, 12.79s/it]"
          ]
        },
        {
          "name": "stdout",
          "output_type": "stream",
          "text": [
            "Train Loss - MOSEAS Regression:  0.3215\n",
            "Test Loss - MOSEAS Regression:  0.4271\n",
            "Train MAE - MOSEAS Regression:  0.4359\n",
            "Test MAE - MOSEAS Regression:  0.5036\n",
            "Train Pearson - MOSEAS Regression:  0.5749\n",
            "Test Pearson - MOSEAS Regression:  0.3555\n"
          ]
        },
        {
          "name": "stderr",
          "output_type": "stream",
          "text": [
            "\rMOSEAS Regression:  90%|█████████ | 226/250 [48:23<05:07, 12.82s/it]"
          ]
        },
        {
          "name": "stdout",
          "output_type": "stream",
          "text": [
            "Train Loss - MOSEAS Regression:  0.3197\n",
            "Test Loss - MOSEAS Regression:  0.4274\n",
            "Train MAE - MOSEAS Regression:  0.4343\n",
            "Test MAE - MOSEAS Regression:  0.5035\n",
            "Train Pearson - MOSEAS Regression:  0.5779\n",
            "Test Pearson - MOSEAS Regression:  0.3547\n"
          ]
        },
        {
          "name": "stderr",
          "output_type": "stream",
          "text": [
            "\rMOSEAS Regression:  91%|█████████ | 227/250 [48:36<04:57, 12.94s/it]"
          ]
        },
        {
          "name": "stdout",
          "output_type": "stream",
          "text": [
            "Train Loss - MOSEAS Regression:  0.3156\n",
            "Test Loss - MOSEAS Regression:  0.4306\n",
            "Train MAE - MOSEAS Regression:  0.4314\n",
            "Test MAE - MOSEAS Regression:  0.5077\n",
            "Train Pearson - MOSEAS Regression:  0.5859\n",
            "Test Pearson - MOSEAS Regression:  0.3519\n"
          ]
        },
        {
          "name": "stderr",
          "output_type": "stream",
          "text": [
            "\rMOSEAS Regression:  91%|█████████ | 228/250 [48:49<04:45, 12.98s/it]"
          ]
        },
        {
          "name": "stdout",
          "output_type": "stream",
          "text": [
            "Train Loss - MOSEAS Regression:  0.3197\n",
            "Test Loss - MOSEAS Regression:  0.4278\n",
            "Train MAE - MOSEAS Regression:  0.4351\n",
            "Test MAE - MOSEAS Regression:  0.5034\n",
            "Train Pearson - MOSEAS Regression:  0.5792\n",
            "Test Pearson - MOSEAS Regression:  0.3547\n"
          ]
        },
        {
          "name": "stderr",
          "output_type": "stream",
          "text": [
            "\rMOSEAS Regression:  92%|█████████▏| 229/250 [49:02<04:34, 13.09s/it]"
          ]
        },
        {
          "name": "stdout",
          "output_type": "stream",
          "text": [
            "Train Loss - MOSEAS Regression:  0.326\n",
            "Test Loss - MOSEAS Regression:  0.4285\n",
            "Train MAE - MOSEAS Regression:  0.4392\n",
            "Test MAE - MOSEAS Regression:  0.5049\n",
            "Train Pearson - MOSEAS Regression:  0.5692\n",
            "Test Pearson - MOSEAS Regression:  0.3537\n"
          ]
        },
        {
          "name": "stderr",
          "output_type": "stream",
          "text": [
            "\rMOSEAS Regression:  92%|█████████▏| 230/250 [49:14<04:13, 12.69s/it]"
          ]
        },
        {
          "name": "stdout",
          "output_type": "stream",
          "text": [
            "Train Loss - MOSEAS Regression:  0.3201\n",
            "Test Loss - MOSEAS Regression:  0.4288\n",
            "Train MAE - MOSEAS Regression:  0.4364\n",
            "Test MAE - MOSEAS Regression:  0.506\n",
            "Train Pearson - MOSEAS Regression:  0.5781\n",
            "Test Pearson - MOSEAS Regression:  0.3537\n"
          ]
        },
        {
          "name": "stderr",
          "output_type": "stream",
          "text": [
            "\rMOSEAS Regression:  92%|█████████▏| 231/250 [49:27<04:01, 12.71s/it]"
          ]
        },
        {
          "name": "stdout",
          "output_type": "stream",
          "text": [
            "Train Loss - MOSEAS Regression:  0.3171\n",
            "Test Loss - MOSEAS Regression:  0.4279\n",
            "Train MAE - MOSEAS Regression:  0.4337\n",
            "Test MAE - MOSEAS Regression:  0.5018\n",
            "Train Pearson - MOSEAS Regression:  0.5825\n",
            "Test Pearson - MOSEAS Regression:  0.3587\n"
          ]
        },
        {
          "name": "stderr",
          "output_type": "stream",
          "text": [
            "\rMOSEAS Regression:  93%|█████████▎| 232/250 [49:40<03:51, 12.85s/it]"
          ]
        },
        {
          "name": "stdout",
          "output_type": "stream",
          "text": [
            "Train Loss - MOSEAS Regression:  0.3207\n",
            "Test Loss - MOSEAS Regression:  0.4272\n",
            "Train MAE - MOSEAS Regression:  0.4365\n",
            "Test MAE - MOSEAS Regression:  0.505\n",
            "Train Pearson - MOSEAS Regression:  0.5775\n",
            "Test Pearson - MOSEAS Regression:  0.3572\n"
          ]
        },
        {
          "name": "stderr",
          "output_type": "stream",
          "text": [
            "\rMOSEAS Regression:  93%|█████████▎| 233/250 [49:52<03:36, 12.74s/it]"
          ]
        },
        {
          "name": "stdout",
          "output_type": "stream",
          "text": [
            "Train Loss - MOSEAS Regression:  0.3153\n",
            "Test Loss - MOSEAS Regression:  0.425\n",
            "Train MAE - MOSEAS Regression:  0.4328\n",
            "Test MAE - MOSEAS Regression:  0.5015\n",
            "Train Pearson - MOSEAS Regression:  0.5869\n",
            "Test Pearson - MOSEAS Regression:  0.3601\n"
          ]
        },
        {
          "name": "stderr",
          "output_type": "stream",
          "text": [
            "\rMOSEAS Regression:  94%|█████████▎| 234/250 [50:05<03:21, 12.62s/it]"
          ]
        },
        {
          "name": "stdout",
          "output_type": "stream",
          "text": [
            "Train Loss - MOSEAS Regression:  0.3174\n",
            "Test Loss - MOSEAS Regression:  0.4247\n",
            "Train MAE - MOSEAS Regression:  0.4329\n",
            "Test MAE - MOSEAS Regression:  0.5018\n",
            "Train Pearson - MOSEAS Regression:  0.5827\n",
            "Test Pearson - MOSEAS Regression:  0.3606\n",
            "saving checkpoint for epoch 233\n"
          ]
        },
        {
          "name": "stderr",
          "output_type": "stream",
          "text": [
            "\rMOSEAS Regression:  94%|█████████▍| 235/250 [50:18<03:11, 12.80s/it]"
          ]
        },
        {
          "name": "stdout",
          "output_type": "stream",
          "text": [
            "Train Loss - MOSEAS Regression:  0.3148\n",
            "Test Loss - MOSEAS Regression:  0.4304\n",
            "Train MAE - MOSEAS Regression:  0.4319\n",
            "Test MAE - MOSEAS Regression:  0.5091\n",
            "Train Pearson - MOSEAS Regression:  0.5866\n",
            "Test Pearson - MOSEAS Regression:  0.3574\n"
          ]
        },
        {
          "name": "stderr",
          "output_type": "stream",
          "text": [
            "\rMOSEAS Regression:  94%|█████████▍| 236/250 [50:31<03:01, 12.99s/it]"
          ]
        },
        {
          "name": "stdout",
          "output_type": "stream",
          "text": [
            "Train Loss - MOSEAS Regression:  0.3178\n",
            "Test Loss - MOSEAS Regression:  0.4246\n",
            "Train MAE - MOSEAS Regression:  0.4352\n",
            "Test MAE - MOSEAS Regression:  0.5005\n",
            "Train Pearson - MOSEAS Regression:  0.5835\n",
            "Test Pearson - MOSEAS Regression:  0.3621\n",
            "saving checkpoint for epoch 235\n"
          ]
        },
        {
          "name": "stderr",
          "output_type": "stream",
          "text": [
            "\rMOSEAS Regression:  95%|█████████▍| 237/250 [50:45<02:49, 13.06s/it]"
          ]
        },
        {
          "name": "stdout",
          "output_type": "stream",
          "text": [
            "Train Loss - MOSEAS Regression:  0.3177\n",
            "Test Loss - MOSEAS Regression:  0.4253\n",
            "Train MAE - MOSEAS Regression:  0.4327\n",
            "Test MAE - MOSEAS Regression:  0.503\n",
            "Train Pearson - MOSEAS Regression:  0.5832\n",
            "Test Pearson - MOSEAS Regression:  0.36\n"
          ]
        },
        {
          "name": "stderr",
          "output_type": "stream",
          "text": [
            "\rMOSEAS Regression:  95%|█████████▌| 238/250 [50:57<02:35, 12.93s/it]"
          ]
        },
        {
          "name": "stdout",
          "output_type": "stream",
          "text": [
            "Train Loss - MOSEAS Regression:  0.3165\n",
            "Test Loss - MOSEAS Regression:  0.4259\n",
            "Train MAE - MOSEAS Regression:  0.4344\n",
            "Test MAE - MOSEAS Regression:  0.5035\n",
            "Train Pearson - MOSEAS Regression:  0.584\n",
            "Test Pearson - MOSEAS Regression:  0.3591\n"
          ]
        },
        {
          "name": "stderr",
          "output_type": "stream",
          "text": [
            "\rMOSEAS Regression:  96%|█████████▌| 239/250 [51:10<02:22, 12.95s/it]"
          ]
        },
        {
          "name": "stdout",
          "output_type": "stream",
          "text": [
            "Train Loss - MOSEAS Regression:  0.3137\n",
            "Test Loss - MOSEAS Regression:  0.4259\n",
            "Train MAE - MOSEAS Regression:  0.4308\n",
            "Test MAE - MOSEAS Regression:  0.5021\n",
            "Train Pearson - MOSEAS Regression:  0.5887\n",
            "Test Pearson - MOSEAS Regression:  0.3597\n"
          ]
        },
        {
          "name": "stderr",
          "output_type": "stream",
          "text": [
            "\rMOSEAS Regression:  96%|█████████▌| 240/250 [51:23<02:07, 12.76s/it]"
          ]
        },
        {
          "name": "stdout",
          "output_type": "stream",
          "text": [
            "Train Loss - MOSEAS Regression:  0.317\n",
            "Test Loss - MOSEAS Regression:  0.4278\n",
            "Train MAE - MOSEAS Regression:  0.4333\n",
            "Test MAE - MOSEAS Regression:  0.5053\n",
            "Train Pearson - MOSEAS Regression:  0.5827\n",
            "Test Pearson - MOSEAS Regression:  0.3572\n"
          ]
        },
        {
          "name": "stderr",
          "output_type": "stream",
          "text": [
            "\rMOSEAS Regression:  96%|█████████▋| 241/250 [51:35<01:55, 12.81s/it]"
          ]
        },
        {
          "name": "stdout",
          "output_type": "stream",
          "text": [
            "Train Loss - MOSEAS Regression:  0.3137\n",
            "Test Loss - MOSEAS Regression:  0.4278\n",
            "Train MAE - MOSEAS Regression:  0.432\n",
            "Test MAE - MOSEAS Regression:  0.5049\n",
            "Train Pearson - MOSEAS Regression:  0.5885\n",
            "Test Pearson - MOSEAS Regression:  0.3573\n"
          ]
        },
        {
          "name": "stderr",
          "output_type": "stream",
          "text": [
            "\rMOSEAS Regression:  97%|█████████▋| 242/250 [51:49<01:43, 12.92s/it]"
          ]
        },
        {
          "name": "stdout",
          "output_type": "stream",
          "text": [
            "Train Loss - MOSEAS Regression:  0.3176\n",
            "Test Loss - MOSEAS Regression:  0.428\n",
            "Train MAE - MOSEAS Regression:  0.4338\n",
            "Test MAE - MOSEAS Regression:  0.5048\n",
            "Train Pearson - MOSEAS Regression:  0.5815\n",
            "Test Pearson - MOSEAS Regression:  0.3573\n"
          ]
        },
        {
          "name": "stderr",
          "output_type": "stream",
          "text": [
            "\rMOSEAS Regression:  97%|█████████▋| 243/250 [52:02<01:31, 13.02s/it]"
          ]
        },
        {
          "name": "stdout",
          "output_type": "stream",
          "text": [
            "Train Loss - MOSEAS Regression:  0.3164\n",
            "Test Loss - MOSEAS Regression:  0.4299\n",
            "Train MAE - MOSEAS Regression:  0.4335\n",
            "Test MAE - MOSEAS Regression:  0.5071\n",
            "Train Pearson - MOSEAS Regression:  0.5838\n",
            "Test Pearson - MOSEAS Regression:  0.3558\n"
          ]
        },
        {
          "name": "stderr",
          "output_type": "stream",
          "text": [
            "\rMOSEAS Regression:  98%|█████████▊| 244/250 [52:15<01:18, 13.12s/it]"
          ]
        },
        {
          "name": "stdout",
          "output_type": "stream",
          "text": [
            "Train Loss - MOSEAS Regression:  0.3117\n",
            "Test Loss - MOSEAS Regression:  0.4283\n",
            "Train MAE - MOSEAS Regression:  0.4289\n",
            "Test MAE - MOSEAS Regression:  0.5049\n",
            "Train Pearson - MOSEAS Regression:  0.5922\n",
            "Test Pearson - MOSEAS Regression:  0.3573\n"
          ]
        },
        {
          "name": "stderr",
          "output_type": "stream",
          "text": [
            "\rMOSEAS Regression:  98%|█████████▊| 245/250 [52:29<01:05, 13.18s/it]"
          ]
        },
        {
          "name": "stdout",
          "output_type": "stream",
          "text": [
            "Train Loss - MOSEAS Regression:  0.3118\n",
            "Test Loss - MOSEAS Regression:  0.4282\n",
            "Train MAE - MOSEAS Regression:  0.4297\n",
            "Test MAE - MOSEAS Regression:  0.505\n",
            "Train Pearson - MOSEAS Regression:  0.592\n",
            "Test Pearson - MOSEAS Regression:  0.3571\n"
          ]
        },
        {
          "name": "stderr",
          "output_type": "stream",
          "text": [
            "\rMOSEAS Regression:  98%|█████████▊| 246/250 [52:42<00:52, 13.11s/it]"
          ]
        },
        {
          "name": "stdout",
          "output_type": "stream",
          "text": [
            "Train Loss - MOSEAS Regression:  0.3137\n",
            "Test Loss - MOSEAS Regression:  0.4284\n",
            "Train MAE - MOSEAS Regression:  0.4308\n",
            "Test MAE - MOSEAS Regression:  0.5053\n",
            "Train Pearson - MOSEAS Regression:  0.5888\n",
            "Test Pearson - MOSEAS Regression:  0.3568\n"
          ]
        },
        {
          "name": "stderr",
          "output_type": "stream",
          "text": [
            "\rMOSEAS Regression:  99%|█████████▉| 247/250 [52:54<00:39, 13.05s/it]"
          ]
        },
        {
          "name": "stdout",
          "output_type": "stream",
          "text": [
            "Train Loss - MOSEAS Regression:  0.3151\n",
            "Test Loss - MOSEAS Regression:  0.4288\n",
            "Train MAE - MOSEAS Regression:  0.432\n",
            "Test MAE - MOSEAS Regression:  0.5055\n",
            "Train Pearson - MOSEAS Regression:  0.5866\n",
            "Test Pearson - MOSEAS Regression:  0.3563\n"
          ]
        },
        {
          "name": "stderr",
          "output_type": "stream",
          "text": [
            "\rMOSEAS Regression:  99%|█████████▉| 248/250 [53:07<00:25, 12.86s/it]"
          ]
        },
        {
          "name": "stdout",
          "output_type": "stream",
          "text": [
            "Train Loss - MOSEAS Regression:  0.3118\n",
            "Test Loss - MOSEAS Regression:  0.431\n",
            "Train MAE - MOSEAS Regression:  0.4295\n",
            "Test MAE - MOSEAS Regression:  0.5081\n",
            "Train Pearson - MOSEAS Regression:  0.5919\n",
            "Test Pearson - MOSEAS Regression:  0.3545\n"
          ]
        },
        {
          "name": "stderr",
          "output_type": "stream",
          "text": [
            "\rMOSEAS Regression: 100%|█████████▉| 249/250 [53:20<00:12, 12.85s/it]"
          ]
        },
        {
          "name": "stdout",
          "output_type": "stream",
          "text": [
            "Train Loss - MOSEAS Regression:  0.3123\n",
            "Test Loss - MOSEAS Regression:  0.4289\n",
            "Train MAE - MOSEAS Regression:  0.43\n",
            "Test MAE - MOSEAS Regression:  0.5044\n",
            "Train Pearson - MOSEAS Regression:  0.5912\n",
            "Test Pearson - MOSEAS Regression:  0.357\n"
          ]
        },
        {
          "name": "stderr",
          "output_type": "stream",
          "text": [
            "MOSEAS Regression: 100%|██████████| 250/250 [53:31<00:00, 12.85s/it]"
          ]
        },
        {
          "name": "stdout",
          "output_type": "stream",
          "text": [
            "Train Loss - MOSEAS Regression:  0.3103\n",
            "Test Loss - MOSEAS Regression:  0.4312\n",
            "Train MAE - MOSEAS Regression:  0.4279\n",
            "Test MAE - MOSEAS Regression:  0.508\n",
            "Train Pearson - MOSEAS Regression:  0.5951\n",
            "Test Pearson - MOSEAS Regression:  0.3547\n",
            "Test performance..\n",
            "Loss 0.4246 MAE 0.5005000233650208 r 0.3621\n"
          ]
        },
        {
          "name": "stderr",
          "output_type": "stream",
          "text": [
            "\n"
          ]
        }
      ]
    },
    {
      "cell_type": "code",
      "metadata": {
        "id": "gXmi7zJwcGFD"
      },
      "source": [
        "import pickle\n",
        "\n",
        "with open(\"training_res.pickle\", \"wb\") as f:\n",
        "    pickle.dump({\"all_train_loss\": all_train_loss,\n",
        "    \"all_test_loss\": all_test_loss,\n",
        "    \"all_train_mae\": all_train_mae,\n",
        "    \"all_test_mae\":all_test_mae,\n",
        "    \"all_train_pear\":all_train_pear,\n",
        "    \"all_test_pear\": all_test_pear},f)"
      ],
      "execution_count": null,
      "outputs": []
    },
    {
      "cell_type": "code",
      "metadata": {
        "id": "ojqBwN4V8teO"
      },
      "source": [
        "import pickle\n",
        "\n",
        "with open(\"training_res.pickle\", \"rb\") as f:\n",
        "    d = pickle.load(f)\n",
        "all_train_loss = d[\"all_train_loss\"]\n",
        "all_test_loss = d[\"all_test_loss\"]\n",
        "all_train_mae = d[\"all_train_mae\"]\n",
        "all_test_mae = d[\"all_test_mae\"]\n",
        "all_train_pear = d[\"all_train_pear\"]\n",
        "all_test_pear = d[\"all_test_pear\"]\n"
      ],
      "execution_count": null,
      "outputs": []
    },
    {
      "cell_type": "code",
      "metadata": {
        "colab": {
          "base_uri": "https://localhost:8080/",
          "height": 367
        },
        "id": "NNHL3ON3nk9p",
        "outputId": "dcfae813-be9f-49b6-bd2f-52c80d6fcc7a"
      },
      "source": [
        "import matplotlib.pyplot as plt\n",
        "\n",
        "f, (ax1, ax2, ax3) = plt.subplots(1,3,figsize=(15,5))\n",
        "ax1.plot(all_train_loss, label=\"train loss\")\n",
        "ax1.plot(all_test_loss, label=\"test loss\")\n",
        "ax1.set_ylabel(\"Loss\")\n",
        "ax1.set_xlabel(\"Epoch\")\n",
        "ax1.legend(loc=\"best\")\n",
        "ax1.set_title(\"loss\")\n",
        "\n",
        "ax2.plot(all_train_mae, label=\"train mae\")\n",
        "ax2.plot(all_test_mae, label=\"test mae\")\n",
        "ax2.set_title(\"mae\")\n",
        "ax2.set_ylabel(\"MAE\")\n",
        "ax2.set_xlabel(\"Epoch\")\n",
        "ax2.legend(loc=\"best\")\n",
        "\n",
        "ax3.plot(all_train_pear, label=\"train pear\")\n",
        "ax3.plot(all_test_pear, label=\"test pear\")\n",
        "ax3.set_title(\"pearson coefficient\")\n",
        "ax3.legend(loc=\"best\")\n",
        "ax3.set_ylabel(\"Pearson's Coefficient\")\n",
        "ax3.set_xlabel(\"Epoch\")\n",
        "\n",
        "# plt.show()"
      ],
      "execution_count": null,
      "outputs": [
        {
          "data": {
            "text/plain": [
              "Text(0.5, 0, 'Epoch')"
            ]
          },
          "execution_count": 13,
          "metadata": {},
          "output_type": "execute_result"
        },
        {
          "data": {
            "image/png": "[encoded data removed]",
            "text/plain": [
              "<Figure size 1080x360 with 3 Axes>"
            ]
          },
          "metadata": {},
          "output_type": "display_data"
        }
      ]
    },
    {
      "cell_type": "markdown",
      "metadata": {
        "id": "hc_kwwjnJ6KW"
      },
      "source": [
        "# training result without neutral labels"
      ]
    },
    {
      "cell_type": "code",
      "metadata": {
        "id": "ilMx0M3cKDOm"
      },
      "source": [
        "# Instantiate model\n",
        "model = RegressionModelNCE(D_m_text, D_m_audio, D_m_video, D_m_context, D_g, D_p, D_e, D_h, dropout_rec=args[\"rec_dropout\"], dropout=args[\"dropout\"])\n",
        "\n",
        "if cuda:\n",
        "    model.cuda()\n",
        "loss_function = MaskedMSELoss()\n",
        "\n",
        "# Get optimizer and relevant dataloaders\n",
        "optimizer = optim.Adam(model.parameters(), lr=args['lr'], weight_decay=args['l2'])\n",
        "train_loader, valid_loader, test_loader = get_MOSEI_loaders('/content/gdrive/MyDrive/11-777 MMML/multilogue-net/data/moseas_full_no_neutral_regression.pickle', valid=0.0, batch_size=batch_size, num_workers=0)\n",
        "best_loss, best_label, best_pred, best_mask, best_pear = None, None, None, None, None\n",
        "all_train_loss, all_test_loss, all_train_mae, all_test_mae, all_train_pear, all_test_pear = [],[],[],[],[],[]"
      ],
      "execution_count": null,
      "outputs": []
    },
    {
      "cell_type": "code",
      "metadata": {
        "colab": {
          "base_uri": "https://localhost:8080/"
        },
        "id": "VgrPoMf3qKrA",
        "outputId": "e8f922e1-f3ca-452e-b8bc-e8ddbaa7e75d"
      },
      "source": [
        "# Training loop\n",
        "for e in tqdm(range(n_epochs), desc = 'MOSEAS Regression'):\n",
        "    train_loss, train_mae, train_pear,_,_,_ = train_or_eval_model(model, loss_function, train_loader, e, optimizer, True)\n",
        "    test_loss, test_mae, test_pear, test_label, test_pred, test_mask = train_or_eval_model(model, loss_function, test_loader, e)\n",
        "    log_res(train_loss, test_loss, train_mae, test_mae, train_pear, test_pear)\n",
        "\n",
        "    if best_loss == None or best_loss > test_loss:\n",
        "        best_loss, best_mae, best_label, best_pred, best_mask, best_pear =\\\n",
        "                test_loss, test_mae, test_label, test_pred, test_mask, test_pear\n",
        "        print(f\"saving checkpoint for epoch {e}\")\n",
        "        model_to_save = model.module if hasattr(model, 'module') else model  # Only save the model it-self\n",
        "        torch.save(model_to_save.state_dict(), f\"/content/gdrive/MyDrive/11-777 MMML/multilogue-net/logs/moseas_noneutral_regression/epoch{e}_testloss_{best_loss}_testmae_{best_mae}_testpear_{best_pear}.pth\")\n",
        "\n",
        "print('Test performance..')\n",
        "print('Loss {} MAE {} r {}'.format(best_loss, round(mean_absolute_error(best_label,best_pred,sample_weight=best_mask),4), best_pear))"
      ],
      "execution_count": null,
      "outputs": [
        {
          "name": "stderr",
          "output_type": "stream",
          "text": [
            "\rMOSEAS Regression:   0%|          | 0/250 [00:00<?, ?it/s]"
          ]
        },
        {
          "name": "stdout",
          "output_type": "stream",
          "text": [
            "Train Loss - MOSEAS Regression:  1.3135\n",
            "Test Loss - MOSEAS Regression:  1.1031\n",
            "Train MAE - MOSEAS Regression:  1.0531\n",
            "Test MAE - MOSEAS Regression:  0.9688\n",
            "Train Pearson - MOSEAS Regression:  0.0321\n",
            "Test Pearson - MOSEAS Regression:  0.0015\n",
            "saving checkpoint for epoch 0\n"
          ]
        },
        {
          "name": "stderr",
          "output_type": "stream",
          "text": [
            "MOSEAS Regression:   1%|          | 2/250 [00:11<22:41,  5.49s/it]"
          ]
        },
        {
          "name": "stdout",
          "output_type": "stream",
          "text": [
            "Train Loss - MOSEAS Regression:  1.1251\n",
            "Test Loss - MOSEAS Regression:  0.9351\n",
            "Train MAE - MOSEAS Regression:  0.9609\n",
            "Test MAE - MOSEAS Regression:  0.8617\n",
            "Train Pearson - MOSEAS Regression:  -0.0299\n",
            "Test Pearson - MOSEAS Regression:  0.035\n",
            "saving checkpoint for epoch 1\n"
          ]
        },
        {
          "name": "stderr",
          "output_type": "stream",
          "text": [
            "\rMOSEAS Regression:   1%|          | 3/250 [00:15<20:46,  5.05s/it]"
          ]
        },
        {
          "name": "stdout",
          "output_type": "stream",
          "text": [
            "Train Loss - MOSEAS Regression:  0.9764\n",
            "Test Loss - MOSEAS Regression:  0.831\n",
            "Train MAE - MOSEAS Regression:  0.8591\n",
            "Test MAE - MOSEAS Regression:  0.7614\n",
            "Train Pearson - MOSEAS Regression:  -0.0143\n",
            "Test Pearson - MOSEAS Regression:  0.0443\n",
            "saving checkpoint for epoch 2\n"
          ]
        },
        {
          "name": "stderr",
          "output_type": "stream",
          "text": [
            "\rMOSEAS Regression:   2%|▏         | 4/250 [00:20<21:01,  5.13s/it]"
          ]
        },
        {
          "name": "stdout",
          "output_type": "stream",
          "text": [
            "Train Loss - MOSEAS Regression:  0.8929\n",
            "Test Loss - MOSEAS Regression:  0.7808\n",
            "Train MAE - MOSEAS Regression:  0.7786\n",
            "Test MAE - MOSEAS Regression:  0.6873\n",
            "Train Pearson - MOSEAS Regression:  0.0015\n",
            "Test Pearson - MOSEAS Regression:  0.0487\n",
            "saving checkpoint for epoch 3\n"
          ]
        },
        {
          "name": "stderr",
          "output_type": "stream",
          "text": [
            "\rMOSEAS Regression:   2%|▏         | 5/250 [00:25<20:44,  5.08s/it]"
          ]
        },
        {
          "name": "stdout",
          "output_type": "stream",
          "text": [
            "Train Loss - MOSEAS Regression:  0.8522\n",
            "Test Loss - MOSEAS Regression:  0.769\n",
            "Train MAE - MOSEAS Regression:  0.7221\n",
            "Test MAE - MOSEAS Regression:  0.6546\n",
            "Train Pearson - MOSEAS Regression:  0.0161\n",
            "Test Pearson - MOSEAS Regression:  0.0512\n",
            "saving checkpoint for epoch 4\n"
          ]
        },
        {
          "name": "stderr",
          "output_type": "stream",
          "text": [
            "\rMOSEAS Regression:   2%|▏         | 6/250 [00:31<20:53,  5.14s/it]"
          ]
        },
        {
          "name": "stdout",
          "output_type": "stream",
          "text": [
            "Train Loss - MOSEAS Regression:  0.8357\n",
            "Test Loss - MOSEAS Regression:  0.7765\n",
            "Train MAE - MOSEAS Regression:  0.6873\n",
            "Test MAE - MOSEAS Regression:  0.6384\n",
            "Train Pearson - MOSEAS Regression:  0.0431\n",
            "Test Pearson - MOSEAS Regression:  0.0531\n"
          ]
        },
        {
          "name": "stderr",
          "output_type": "stream",
          "text": [
            "\rMOSEAS Regression:   3%|▎         | 7/250 [00:35<20:25,  5.04s/it]"
          ]
        },
        {
          "name": "stdout",
          "output_type": "stream",
          "text": [
            "Train Loss - MOSEAS Regression:  0.8664\n",
            "Test Loss - MOSEAS Regression:  0.7867\n",
            "Train MAE - MOSEAS Regression:  0.6858\n",
            "Test MAE - MOSEAS Regression:  0.6327\n",
            "Train Pearson - MOSEAS Regression:  -0.0028\n",
            "Test Pearson - MOSEAS Regression:  0.0547\n"
          ]
        },
        {
          "name": "stderr",
          "output_type": "stream",
          "text": [
            "\rMOSEAS Regression:   3%|▎         | 8/250 [00:41<20:27,  5.07s/it]"
          ]
        },
        {
          "name": "stdout",
          "output_type": "stream",
          "text": [
            "Train Loss - MOSEAS Regression:  0.8741\n",
            "Test Loss - MOSEAS Regression:  0.7907\n",
            "Train MAE - MOSEAS Regression:  0.6768\n",
            "Test MAE - MOSEAS Regression:  0.6305\n",
            "Train Pearson - MOSEAS Regression:  -0.0003\n",
            "Test Pearson - MOSEAS Regression:  0.0563\n"
          ]
        },
        {
          "name": "stderr",
          "output_type": "stream",
          "text": [
            "\rMOSEAS Regression:   4%|▎         | 9/250 [00:46<20:11,  5.03s/it]"
          ]
        },
        {
          "name": "stdout",
          "output_type": "stream",
          "text": [
            "Train Loss - MOSEAS Regression:  0.8822\n",
            "Test Loss - MOSEAS Regression:  0.7843\n",
            "Train MAE - MOSEAS Regression:  0.6763\n",
            "Test MAE - MOSEAS Regression:  0.6268\n",
            "Train Pearson - MOSEAS Regression:  -0.0083\n",
            "Test Pearson - MOSEAS Regression:  0.0581\n"
          ]
        },
        {
          "name": "stderr",
          "output_type": "stream",
          "text": [
            "\rMOSEAS Regression:   4%|▍         | 10/250 [00:50<20:01,  5.01s/it]"
          ]
        },
        {
          "name": "stdout",
          "output_type": "stream",
          "text": [
            "Train Loss - MOSEAS Regression:  0.8701\n",
            "Test Loss - MOSEAS Regression:  0.7723\n",
            "Train MAE - MOSEAS Regression:  0.6749\n",
            "Test MAE - MOSEAS Regression:  0.624\n",
            "Train Pearson - MOSEAS Regression:  -0.0052\n",
            "Test Pearson - MOSEAS Regression:  0.0601\n"
          ]
        },
        {
          "name": "stderr",
          "output_type": "stream",
          "text": [
            "\rMOSEAS Regression:   4%|▍         | 11/250 [00:55<19:52,  4.99s/it]"
          ]
        },
        {
          "name": "stdout",
          "output_type": "stream",
          "text": [
            "Train Loss - MOSEAS Regression:  0.8575\n",
            "Test Loss - MOSEAS Regression:  0.7602\n",
            "Train MAE - MOSEAS Regression:  0.6683\n",
            "Test MAE - MOSEAS Regression:  0.6254\n",
            "Train Pearson - MOSEAS Regression:  0.0023\n",
            "Test Pearson - MOSEAS Regression:  0.0626\n",
            "saving checkpoint for epoch 10\n"
          ]
        },
        {
          "name": "stderr",
          "output_type": "stream",
          "text": [
            "\rMOSEAS Regression:   5%|▍         | 12/250 [01:00<19:12,  4.84s/it]"
          ]
        },
        {
          "name": "stdout",
          "output_type": "stream",
          "text": [
            "Train Loss - MOSEAS Regression:  0.8354\n",
            "Test Loss - MOSEAS Regression:  0.7513\n",
            "Train MAE - MOSEAS Regression:  0.6682\n",
            "Test MAE - MOSEAS Regression:  0.6293\n",
            "Train Pearson - MOSEAS Regression:  0.02\n",
            "Test Pearson - MOSEAS Regression:  0.0656\n",
            "saving checkpoint for epoch 11\n"
          ]
        },
        {
          "name": "stderr",
          "output_type": "stream",
          "text": [
            "\rMOSEAS Regression:   5%|▌         | 13/250 [01:05<19:21,  4.90s/it]"
          ]
        },
        {
          "name": "stdout",
          "output_type": "stream",
          "text": [
            "Train Loss - MOSEAS Regression:  0.8237\n",
            "Test Loss - MOSEAS Regression:  0.7465\n",
            "Train MAE - MOSEAS Regression:  0.6679\n",
            "Test MAE - MOSEAS Regression:  0.6341\n",
            "Train Pearson - MOSEAS Regression:  0.0252\n",
            "Test Pearson - MOSEAS Regression:  0.0692\n",
            "saving checkpoint for epoch 12\n"
          ]
        },
        {
          "name": "stderr",
          "output_type": "stream",
          "text": [
            "\rMOSEAS Regression:   6%|▌         | 14/250 [01:10<19:12,  4.88s/it]"
          ]
        },
        {
          "name": "stdout",
          "output_type": "stream",
          "text": [
            "Train Loss - MOSEAS Regression:  0.8114\n",
            "Test Loss - MOSEAS Regression:  0.7453\n",
            "Train MAE - MOSEAS Regression:  0.671\n",
            "Test MAE - MOSEAS Regression:  0.6383\n",
            "Train Pearson - MOSEAS Regression:  0.0525\n",
            "Test Pearson - MOSEAS Regression:  0.0733\n",
            "saving checkpoint for epoch 13\n"
          ]
        },
        {
          "name": "stderr",
          "output_type": "stream",
          "text": [
            "\rMOSEAS Regression:   6%|▌         | 15/250 [01:15<19:29,  4.98s/it]"
          ]
        },
        {
          "name": "stdout",
          "output_type": "stream",
          "text": [
            "Train Loss - MOSEAS Regression:  0.8062\n",
            "Test Loss - MOSEAS Regression:  0.7461\n",
            "Train MAE - MOSEAS Regression:  0.6774\n",
            "Test MAE - MOSEAS Regression:  0.642\n",
            "Train Pearson - MOSEAS Regression:  0.0587\n",
            "Test Pearson - MOSEAS Regression:  0.0779\n"
          ]
        },
        {
          "name": "stderr",
          "output_type": "stream",
          "text": [
            "\rMOSEAS Regression:   6%|▋         | 16/250 [01:20<19:25,  4.98s/it]"
          ]
        },
        {
          "name": "stdout",
          "output_type": "stream",
          "text": [
            "Train Loss - MOSEAS Regression:  0.8093\n",
            "Test Loss - MOSEAS Regression:  0.748\n",
            "Train MAE - MOSEAS Regression:  0.6835\n",
            "Test MAE - MOSEAS Regression:  0.6471\n",
            "Train Pearson - MOSEAS Regression:  0.0536\n",
            "Test Pearson - MOSEAS Regression:  0.0831\n"
          ]
        },
        {
          "name": "stderr",
          "output_type": "stream",
          "text": [
            "\rMOSEAS Regression:   7%|▋         | 17/250 [01:25<19:16,  4.96s/it]"
          ]
        },
        {
          "name": "stdout",
          "output_type": "stream",
          "text": [
            "Train Loss - MOSEAS Regression:  0.8139\n",
            "Test Loss - MOSEAS Regression:  0.7488\n",
            "Train MAE - MOSEAS Regression:  0.6927\n",
            "Test MAE - MOSEAS Regression:  0.6515\n",
            "Train Pearson - MOSEAS Regression:  0.0443\n",
            "Test Pearson - MOSEAS Regression:  0.0882\n"
          ]
        },
        {
          "name": "stderr",
          "output_type": "stream",
          "text": [
            "\rMOSEAS Regression:   7%|▋         | 18/250 [01:30<19:09,  4.95s/it]"
          ]
        },
        {
          "name": "stdout",
          "output_type": "stream",
          "text": [
            "Train Loss - MOSEAS Regression:  0.8181\n",
            "Test Loss - MOSEAS Regression:  0.7484\n",
            "Train MAE - MOSEAS Regression:  0.6938\n",
            "Test MAE - MOSEAS Regression:  0.6531\n",
            "Train Pearson - MOSEAS Regression:  0.0259\n",
            "Test Pearson - MOSEAS Regression:  0.0931\n"
          ]
        },
        {
          "name": "stderr",
          "output_type": "stream",
          "text": [
            "\rMOSEAS Regression:   8%|▊         | 19/250 [01:34<18:33,  4.82s/it]"
          ]
        },
        {
          "name": "stdout",
          "output_type": "stream",
          "text": [
            "Train Loss - MOSEAS Regression:  0.8094\n",
            "Test Loss - MOSEAS Regression:  0.7464\n",
            "Train MAE - MOSEAS Regression:  0.6917\n",
            "Test MAE - MOSEAS Regression:  0.6501\n",
            "Train Pearson - MOSEAS Regression:  0.0574\n",
            "Test Pearson - MOSEAS Regression:  0.0976\n"
          ]
        },
        {
          "name": "stderr",
          "output_type": "stream",
          "text": [
            "\rMOSEAS Regression:   8%|▊         | 20/250 [01:39<18:32,  4.84s/it]"
          ]
        },
        {
          "name": "stdout",
          "output_type": "stream",
          "text": [
            "Train Loss - MOSEAS Regression:  0.8027\n",
            "Test Loss - MOSEAS Regression:  0.7426\n",
            "Train MAE - MOSEAS Regression:  0.689\n",
            "Test MAE - MOSEAS Regression:  0.6424\n",
            "Train Pearson - MOSEAS Regression:  0.0798\n",
            "Test Pearson - MOSEAS Regression:  0.1013\n",
            "saving checkpoint for epoch 19\n"
          ]
        },
        {
          "name": "stderr",
          "output_type": "stream",
          "text": [
            "\rMOSEAS Regression:   8%|▊         | 21/250 [01:44<18:04,  4.74s/it]"
          ]
        },
        {
          "name": "stdout",
          "output_type": "stream",
          "text": [
            "Train Loss - MOSEAS Regression:  0.801\n",
            "Test Loss - MOSEAS Regression:  0.7392\n",
            "Train MAE - MOSEAS Regression:  0.6799\n",
            "Test MAE - MOSEAS Regression:  0.6358\n",
            "Train Pearson - MOSEAS Regression:  0.0691\n",
            "Test Pearson - MOSEAS Regression:  0.105\n",
            "saving checkpoint for epoch 20\n"
          ]
        },
        {
          "name": "stderr",
          "output_type": "stream",
          "text": [
            "\rMOSEAS Regression:   9%|▉         | 22/250 [01:49<18:10,  4.78s/it]"
          ]
        },
        {
          "name": "stdout",
          "output_type": "stream",
          "text": [
            "Train Loss - MOSEAS Regression:  0.8002\n",
            "Test Loss - MOSEAS Regression:  0.7358\n",
            "Train MAE - MOSEAS Regression:  0.6733\n",
            "Test MAE - MOSEAS Regression:  0.6287\n",
            "Train Pearson - MOSEAS Regression:  0.0659\n",
            "Test Pearson - MOSEAS Regression:  0.1083\n",
            "saving checkpoint for epoch 21\n"
          ]
        },
        {
          "name": "stderr",
          "output_type": "stream",
          "text": [
            "\rMOSEAS Regression:   9%|▉         | 23/250 [01:54<18:19,  4.84s/it]"
          ]
        },
        {
          "name": "stdout",
          "output_type": "stream",
          "text": [
            "Train Loss - MOSEAS Regression:  0.7901\n",
            "Test Loss - MOSEAS Regression:  0.7335\n",
            "Train MAE - MOSEAS Regression:  0.6629\n",
            "Test MAE - MOSEAS Regression:  0.6239\n",
            "Train Pearson - MOSEAS Regression:  0.0929\n",
            "Test Pearson - MOSEAS Regression:  0.1121\n",
            "saving checkpoint for epoch 22\n"
          ]
        },
        {
          "name": "stderr",
          "output_type": "stream",
          "text": [
            "\rMOSEAS Regression:  10%|▉         | 24/250 [01:59<18:23,  4.88s/it]"
          ]
        },
        {
          "name": "stdout",
          "output_type": "stream",
          "text": [
            "Train Loss - MOSEAS Regression:  0.7958\n",
            "Test Loss - MOSEAS Regression:  0.7318\n",
            "Train MAE - MOSEAS Regression:  0.6636\n",
            "Test MAE - MOSEAS Regression:  0.6206\n",
            "Train Pearson - MOSEAS Regression:  0.0683\n",
            "Test Pearson - MOSEAS Regression:  0.1163\n",
            "saving checkpoint for epoch 23\n"
          ]
        },
        {
          "name": "stderr",
          "output_type": "stream",
          "text": [
            "\rMOSEAS Regression:  10%|█         | 25/250 [02:04<18:26,  4.92s/it]"
          ]
        },
        {
          "name": "stdout",
          "output_type": "stream",
          "text": [
            "Train Loss - MOSEAS Regression:  0.7923\n",
            "Test Loss - MOSEAS Regression:  0.7305\n",
            "Train MAE - MOSEAS Regression:  0.6557\n",
            "Test MAE - MOSEAS Regression:  0.6173\n",
            "Train Pearson - MOSEAS Regression:  0.0807\n",
            "Test Pearson - MOSEAS Regression:  0.1203\n",
            "saving checkpoint for epoch 24\n"
          ]
        },
        {
          "name": "stderr",
          "output_type": "stream",
          "text": [
            "\rMOSEAS Regression:  10%|█         | 26/250 [02:08<18:13,  4.88s/it]"
          ]
        },
        {
          "name": "stdout",
          "output_type": "stream",
          "text": [
            "Train Loss - MOSEAS Regression:  0.784\n",
            "Test Loss - MOSEAS Regression:  0.7294\n",
            "Train MAE - MOSEAS Regression:  0.6531\n",
            "Test MAE - MOSEAS Regression:  0.6156\n",
            "Train Pearson - MOSEAS Regression:  0.1065\n",
            "Test Pearson - MOSEAS Regression:  0.1253\n",
            "saving checkpoint for epoch 25\n"
          ]
        },
        {
          "name": "stderr",
          "output_type": "stream",
          "text": [
            "\rMOSEAS Regression:  11%|█         | 27/250 [02:13<18:21,  4.94s/it]"
          ]
        },
        {
          "name": "stdout",
          "output_type": "stream",
          "text": [
            "Train Loss - MOSEAS Regression:  0.795\n",
            "Test Loss - MOSEAS Regression:  0.7284\n",
            "Train MAE - MOSEAS Regression:  0.6552\n",
            "Test MAE - MOSEAS Regression:  0.6148\n",
            "Train Pearson - MOSEAS Regression:  0.069\n",
            "Test Pearson - MOSEAS Regression:  0.1309\n",
            "saving checkpoint for epoch 26\n"
          ]
        },
        {
          "name": "stderr",
          "output_type": "stream",
          "text": [
            "\rMOSEAS Regression:  11%|█         | 28/250 [02:19<18:34,  5.02s/it]"
          ]
        },
        {
          "name": "stdout",
          "output_type": "stream",
          "text": [
            "Train Loss - MOSEAS Regression:  0.7816\n",
            "Test Loss - MOSEAS Regression:  0.7274\n",
            "Train MAE - MOSEAS Regression:  0.6461\n",
            "Test MAE - MOSEAS Regression:  0.6146\n",
            "Train Pearson - MOSEAS Regression:  0.1144\n",
            "Test Pearson - MOSEAS Regression:  0.1367\n",
            "saving checkpoint for epoch 27\n"
          ]
        },
        {
          "name": "stderr",
          "output_type": "stream",
          "text": [
            "\rMOSEAS Regression:  12%|█▏        | 29/250 [02:23<18:05,  4.91s/it]"
          ]
        },
        {
          "name": "stdout",
          "output_type": "stream",
          "text": [
            "Train Loss - MOSEAS Regression:  0.7879\n",
            "Test Loss - MOSEAS Regression:  0.7267\n",
            "Train MAE - MOSEAS Regression:  0.6499\n",
            "Test MAE - MOSEAS Regression:  0.6162\n",
            "Train Pearson - MOSEAS Regression:  0.0946\n",
            "Test Pearson - MOSEAS Regression:  0.1432\n",
            "saving checkpoint for epoch 28\n"
          ]
        },
        {
          "name": "stderr",
          "output_type": "stream",
          "text": [
            "\rMOSEAS Regression:  12%|█▏        | 30/250 [02:28<18:04,  4.93s/it]"
          ]
        },
        {
          "name": "stdout",
          "output_type": "stream",
          "text": [
            "Train Loss - MOSEAS Regression:  0.7729\n",
            "Test Loss - MOSEAS Regression:  0.726\n",
            "Train MAE - MOSEAS Regression:  0.6448\n",
            "Test MAE - MOSEAS Regression:  0.6174\n",
            "Train Pearson - MOSEAS Regression:  0.1459\n",
            "Test Pearson - MOSEAS Regression:  0.149\n",
            "saving checkpoint for epoch 29\n"
          ]
        },
        {
          "name": "stderr",
          "output_type": "stream",
          "text": [
            "\rMOSEAS Regression:  12%|█▏        | 31/250 [02:33<17:39,  4.84s/it]"
          ]
        },
        {
          "name": "stdout",
          "output_type": "stream",
          "text": [
            "Train Loss - MOSEAS Regression:  0.7696\n",
            "Test Loss - MOSEAS Regression:  0.7254\n",
            "Train MAE - MOSEAS Regression:  0.6429\n",
            "Test MAE - MOSEAS Regression:  0.6188\n",
            "Train Pearson - MOSEAS Regression:  0.1576\n",
            "Test Pearson - MOSEAS Regression:  0.1544\n",
            "saving checkpoint for epoch 30\n"
          ]
        },
        {
          "name": "stderr",
          "output_type": "stream",
          "text": [
            "\rMOSEAS Regression:  13%|█▎        | 32/250 [02:38<17:42,  4.87s/it]"
          ]
        },
        {
          "name": "stdout",
          "output_type": "stream",
          "text": [
            "Train Loss - MOSEAS Regression:  0.7779\n",
            "Test Loss - MOSEAS Regression:  0.7247\n",
            "Train MAE - MOSEAS Regression:  0.6524\n",
            "Test MAE - MOSEAS Regression:  0.6195\n",
            "Train Pearson - MOSEAS Regression:  0.1319\n",
            "Test Pearson - MOSEAS Regression:  0.1594\n",
            "saving checkpoint for epoch 31\n"
          ]
        },
        {
          "name": "stderr",
          "output_type": "stream",
          "text": [
            "\rMOSEAS Regression:  13%|█▎        | 33/250 [02:43<17:48,  4.92s/it]"
          ]
        },
        {
          "name": "stdout",
          "output_type": "stream",
          "text": [
            "Train Loss - MOSEAS Regression:  0.7746\n",
            "Test Loss - MOSEAS Regression:  0.7239\n",
            "Train MAE - MOSEAS Regression:  0.6501\n",
            "Test MAE - MOSEAS Regression:  0.6195\n",
            "Train Pearson - MOSEAS Regression:  0.141\n",
            "Test Pearson - MOSEAS Regression:  0.1639\n",
            "saving checkpoint for epoch 32\n"
          ]
        },
        {
          "name": "stderr",
          "output_type": "stream",
          "text": [
            "\rMOSEAS Regression:  14%|█▎        | 34/250 [02:48<17:24,  4.84s/it]"
          ]
        },
        {
          "name": "stdout",
          "output_type": "stream",
          "text": [
            "Train Loss - MOSEAS Regression:  0.7648\n",
            "Test Loss - MOSEAS Regression:  0.7231\n",
            "Train MAE - MOSEAS Regression:  0.6423\n",
            "Test MAE - MOSEAS Regression:  0.6197\n",
            "Train Pearson - MOSEAS Regression:  0.1746\n",
            "Test Pearson - MOSEAS Regression:  0.1678\n",
            "saving checkpoint for epoch 33\n"
          ]
        },
        {
          "name": "stderr",
          "output_type": "stream",
          "text": [
            "\rMOSEAS Regression:  14%|█▍        | 35/250 [02:53<17:43,  4.95s/it]"
          ]
        },
        {
          "name": "stdout",
          "output_type": "stream",
          "text": [
            "Train Loss - MOSEAS Regression:  0.7708\n",
            "Test Loss - MOSEAS Regression:  0.7223\n",
            "Train MAE - MOSEAS Regression:  0.6481\n",
            "Test MAE - MOSEAS Regression:  0.6197\n",
            "Train Pearson - MOSEAS Regression:  0.1553\n",
            "Test Pearson - MOSEAS Regression:  0.1712\n",
            "saving checkpoint for epoch 34\n"
          ]
        },
        {
          "name": "stderr",
          "output_type": "stream",
          "text": [
            "\rMOSEAS Regression:  14%|█▍        | 36/250 [02:58<17:41,  4.96s/it]"
          ]
        },
        {
          "name": "stdout",
          "output_type": "stream",
          "text": [
            "Train Loss - MOSEAS Regression:  0.7662\n",
            "Test Loss - MOSEAS Regression:  0.7214\n",
            "Train MAE - MOSEAS Regression:  0.646\n",
            "Test MAE - MOSEAS Regression:  0.6193\n",
            "Train Pearson - MOSEAS Regression:  0.1712\n",
            "Test Pearson - MOSEAS Regression:  0.1744\n",
            "saving checkpoint for epoch 35\n"
          ]
        },
        {
          "name": "stderr",
          "output_type": "stream",
          "text": [
            "\rMOSEAS Regression:  15%|█▍        | 37/250 [03:03<17:31,  4.94s/it]"
          ]
        },
        {
          "name": "stdout",
          "output_type": "stream",
          "text": [
            "Train Loss - MOSEAS Regression:  0.7617\n",
            "Test Loss - MOSEAS Regression:  0.7205\n",
            "Train MAE - MOSEAS Regression:  0.6406\n",
            "Test MAE - MOSEAS Regression:  0.6187\n",
            "Train Pearson - MOSEAS Regression:  0.1847\n",
            "Test Pearson - MOSEAS Regression:  0.1775\n",
            "saving checkpoint for epoch 36\n"
          ]
        },
        {
          "name": "stderr",
          "output_type": "stream",
          "text": [
            "\rMOSEAS Regression:  15%|█▌        | 38/250 [03:07<17:21,  4.91s/it]"
          ]
        },
        {
          "name": "stdout",
          "output_type": "stream",
          "text": [
            "Train Loss - MOSEAS Regression:  0.7674\n",
            "Test Loss - MOSEAS Regression:  0.7193\n",
            "Train MAE - MOSEAS Regression:  0.6481\n",
            "Test MAE - MOSEAS Regression:  0.6173\n",
            "Train Pearson - MOSEAS Regression:  0.1661\n",
            "Test Pearson - MOSEAS Regression:  0.1807\n",
            "saving checkpoint for epoch 37\n"
          ]
        },
        {
          "name": "stderr",
          "output_type": "stream",
          "text": [
            "\rMOSEAS Regression:  16%|█▌        | 39/250 [03:12<17:03,  4.85s/it]"
          ]
        },
        {
          "name": "stdout",
          "output_type": "stream",
          "text": [
            "Train Loss - MOSEAS Regression:  0.7574\n",
            "Test Loss - MOSEAS Regression:  0.7188\n",
            "Train MAE - MOSEAS Regression:  0.642\n",
            "Test MAE - MOSEAS Regression:  0.6183\n",
            "Train Pearson - MOSEAS Regression:  0.1995\n",
            "Test Pearson - MOSEAS Regression:  0.183\n",
            "saving checkpoint for epoch 38\n"
          ]
        },
        {
          "name": "stderr",
          "output_type": "stream",
          "text": [
            "\rMOSEAS Regression:  16%|█▌        | 40/250 [03:17<17:09,  4.90s/it]"
          ]
        },
        {
          "name": "stdout",
          "output_type": "stream",
          "text": [
            "Train Loss - MOSEAS Regression:  0.7579\n",
            "Test Loss - MOSEAS Regression:  0.7179\n",
            "Train MAE - MOSEAS Regression:  0.6426\n",
            "Test MAE - MOSEAS Regression:  0.6179\n",
            "Train Pearson - MOSEAS Regression:  0.1983\n",
            "Test Pearson - MOSEAS Regression:  0.1855\n",
            "saving checkpoint for epoch 39\n"
          ]
        },
        {
          "name": "stderr",
          "output_type": "stream",
          "text": [
            "\rMOSEAS Regression:  16%|█▋        | 41/250 [03:23<17:29,  5.02s/it]"
          ]
        },
        {
          "name": "stdout",
          "output_type": "stream",
          "text": [
            "Train Loss - MOSEAS Regression:  0.7557\n",
            "Test Loss - MOSEAS Regression:  0.717\n",
            "Train MAE - MOSEAS Regression:  0.6383\n",
            "Test MAE - MOSEAS Regression:  0.6175\n",
            "Train Pearson - MOSEAS Regression:  0.2049\n",
            "Test Pearson - MOSEAS Regression:  0.1878\n",
            "saving checkpoint for epoch 40\n"
          ]
        },
        {
          "name": "stderr",
          "output_type": "stream",
          "text": [
            "\rMOSEAS Regression:  17%|█▋        | 42/250 [03:28<17:41,  5.10s/it]"
          ]
        },
        {
          "name": "stdout",
          "output_type": "stream",
          "text": [
            "Train Loss - MOSEAS Regression:  0.753\n",
            "Test Loss - MOSEAS Regression:  0.7157\n",
            "Train MAE - MOSEAS Regression:  0.6398\n",
            "Test MAE - MOSEAS Regression:  0.6155\n",
            "Train Pearson - MOSEAS Regression:  0.2136\n",
            "Test Pearson - MOSEAS Regression:  0.1908\n",
            "saving checkpoint for epoch 41\n"
          ]
        },
        {
          "name": "stderr",
          "output_type": "stream",
          "text": [
            "\rMOSEAS Regression:  17%|█▋        | 43/250 [03:32<17:02,  4.94s/it]"
          ]
        },
        {
          "name": "stdout",
          "output_type": "stream",
          "text": [
            "Train Loss - MOSEAS Regression:  0.7488\n",
            "Test Loss - MOSEAS Regression:  0.7147\n",
            "Train MAE - MOSEAS Regression:  0.6361\n",
            "Test MAE - MOSEAS Regression:  0.6146\n",
            "Train Pearson - MOSEAS Regression:  0.2242\n",
            "Test Pearson - MOSEAS Regression:  0.1931\n",
            "saving checkpoint for epoch 42\n"
          ]
        },
        {
          "name": "stderr",
          "output_type": "stream",
          "text": [
            "\rMOSEAS Regression:  18%|█▊        | 44/250 [03:37<17:00,  4.95s/it]"
          ]
        },
        {
          "name": "stdout",
          "output_type": "stream",
          "text": [
            "Train Loss - MOSEAS Regression:  0.7373\n",
            "Test Loss - MOSEAS Regression:  0.7139\n",
            "Train MAE - MOSEAS Regression:  0.6291\n",
            "Test MAE - MOSEAS Regression:  0.6144\n",
            "Train Pearson - MOSEAS Regression:  0.2569\n",
            "Test Pearson - MOSEAS Regression:  0.1953\n",
            "saving checkpoint for epoch 43\n"
          ]
        },
        {
          "name": "stderr",
          "output_type": "stream",
          "text": [
            "\rMOSEAS Regression:  18%|█▊        | 45/250 [03:42<16:57,  4.96s/it]"
          ]
        },
        {
          "name": "stdout",
          "output_type": "stream",
          "text": [
            "Train Loss - MOSEAS Regression:  0.7404\n",
            "Test Loss - MOSEAS Regression:  0.7133\n",
            "Train MAE - MOSEAS Regression:  0.6337\n",
            "Test MAE - MOSEAS Regression:  0.615\n",
            "Train Pearson - MOSEAS Regression:  0.2489\n",
            "Test Pearson - MOSEAS Regression:  0.1968\n",
            "saving checkpoint for epoch 44\n"
          ]
        },
        {
          "name": "stderr",
          "output_type": "stream",
          "text": [
            "\rMOSEAS Regression:  18%|█▊        | 46/250 [03:48<17:13,  5.07s/it]"
          ]
        },
        {
          "name": "stdout",
          "output_type": "stream",
          "text": [
            "Train Loss - MOSEAS Regression:  0.7356\n",
            "Test Loss - MOSEAS Regression:  0.7126\n",
            "Train MAE - MOSEAS Regression:  0.6267\n",
            "Test MAE - MOSEAS Regression:  0.6155\n",
            "Train Pearson - MOSEAS Regression:  0.2611\n",
            "Test Pearson - MOSEAS Regression:  0.1985\n",
            "saving checkpoint for epoch 45\n"
          ]
        },
        {
          "name": "stderr",
          "output_type": "stream",
          "text": [
            "\rMOSEAS Regression:  19%|█▉        | 47/250 [03:52<16:36,  4.91s/it]"
          ]
        },
        {
          "name": "stdout",
          "output_type": "stream",
          "text": [
            "Train Loss - MOSEAS Regression:  0.7324\n",
            "Test Loss - MOSEAS Regression:  0.7125\n",
            "Train MAE - MOSEAS Regression:  0.6255\n",
            "Test MAE - MOSEAS Regression:  0.6172\n",
            "Train Pearson - MOSEAS Regression:  0.2707\n",
            "Test Pearson - MOSEAS Regression:  0.1991\n",
            "saving checkpoint for epoch 46\n"
          ]
        },
        {
          "name": "stderr",
          "output_type": "stream",
          "text": [
            "\rMOSEAS Regression:  19%|█▉        | 48/250 [03:57<16:33,  4.92s/it]"
          ]
        },
        {
          "name": "stdout",
          "output_type": "stream",
          "text": [
            "Train Loss - MOSEAS Regression:  0.728\n",
            "Test Loss - MOSEAS Regression:  0.7124\n",
            "Train MAE - MOSEAS Regression:  0.6308\n",
            "Test MAE - MOSEAS Regression:  0.6193\n",
            "Train Pearson - MOSEAS Regression:  0.2821\n",
            "Test Pearson - MOSEAS Regression:  0.1999\n",
            "saving checkpoint for epoch 47\n"
          ]
        },
        {
          "name": "stderr",
          "output_type": "stream",
          "text": [
            "\rMOSEAS Regression:  20%|█▉        | 49/250 [04:02<16:26,  4.91s/it]"
          ]
        },
        {
          "name": "stdout",
          "output_type": "stream",
          "text": [
            "Train Loss - MOSEAS Regression:  0.7263\n",
            "Test Loss - MOSEAS Regression:  0.7112\n",
            "Train MAE - MOSEAS Regression:  0.6286\n",
            "Test MAE - MOSEAS Regression:  0.6182\n",
            "Train Pearson - MOSEAS Regression:  0.2846\n",
            "Test Pearson - MOSEAS Regression:  0.2028\n",
            "saving checkpoint for epoch 48\n"
          ]
        },
        {
          "name": "stderr",
          "output_type": "stream",
          "text": [
            "\rMOSEAS Regression:  20%|██        | 50/250 [04:07<16:20,  4.90s/it]"
          ]
        },
        {
          "name": "stdout",
          "output_type": "stream",
          "text": [
            "Train Loss - MOSEAS Regression:  0.7229\n",
            "Test Loss - MOSEAS Regression:  0.7097\n",
            "Train MAE - MOSEAS Regression:  0.6235\n",
            "Test MAE - MOSEAS Regression:  0.6158\n",
            "Train Pearson - MOSEAS Regression:  0.2918\n",
            "Test Pearson - MOSEAS Regression:  0.2064\n",
            "saving checkpoint for epoch 49\n"
          ]
        },
        {
          "name": "stderr",
          "output_type": "stream",
          "text": [
            "\rMOSEAS Regression:  20%|██        | 51/250 [04:12<16:21,  4.93s/it]"
          ]
        },
        {
          "name": "stdout",
          "output_type": "stream",
          "text": [
            "Train Loss - MOSEAS Regression:  0.7219\n",
            "Test Loss - MOSEAS Regression:  0.7083\n",
            "Train MAE - MOSEAS Regression:  0.6267\n",
            "Test MAE - MOSEAS Regression:  0.6134\n",
            "Train Pearson - MOSEAS Regression:  0.2935\n",
            "Test Pearson - MOSEAS Regression:  0.2102\n",
            "saving checkpoint for epoch 50\n"
          ]
        },
        {
          "name": "stderr",
          "output_type": "stream",
          "text": [
            "\rMOSEAS Regression:  21%|██        | 52/250 [04:17<16:36,  5.03s/it]"
          ]
        },
        {
          "name": "stdout",
          "output_type": "stream",
          "text": [
            "Train Loss - MOSEAS Regression:  0.7125\n",
            "Test Loss - MOSEAS Regression:  0.7071\n",
            "Train MAE - MOSEAS Regression:  0.618\n",
            "Test MAE - MOSEAS Regression:  0.6112\n",
            "Train Pearson - MOSEAS Regression:  0.3151\n",
            "Test Pearson - MOSEAS Regression:  0.2136\n",
            "saving checkpoint for epoch 51\n"
          ]
        },
        {
          "name": "stderr",
          "output_type": "stream",
          "text": [
            "\rMOSEAS Regression:  21%|██        | 53/250 [04:22<16:37,  5.06s/it]"
          ]
        },
        {
          "name": "stdout",
          "output_type": "stream",
          "text": [
            "Train Loss - MOSEAS Regression:  0.7162\n",
            "Test Loss - MOSEAS Regression:  0.7069\n",
            "Train MAE - MOSEAS Regression:  0.6196\n",
            "Test MAE - MOSEAS Regression:  0.6131\n",
            "Train Pearson - MOSEAS Regression:  0.3037\n",
            "Test Pearson - MOSEAS Regression:  0.2143\n",
            "saving checkpoint for epoch 52\n"
          ]
        },
        {
          "name": "stderr",
          "output_type": "stream",
          "text": [
            "\rMOSEAS Regression:  22%|██▏       | 54/250 [04:28<16:39,  5.10s/it]"
          ]
        },
        {
          "name": "stdout",
          "output_type": "stream",
          "text": [
            "Train Loss - MOSEAS Regression:  0.7211\n",
            "Test Loss - MOSEAS Regression:  0.7079\n",
            "Train MAE - MOSEAS Regression:  0.6225\n",
            "Test MAE - MOSEAS Regression:  0.6181\n",
            "Train Pearson - MOSEAS Regression:  0.2925\n",
            "Test Pearson - MOSEAS Regression:  0.2129\n"
          ]
        },
        {
          "name": "stderr",
          "output_type": "stream",
          "text": [
            "\rMOSEAS Regression:  22%|██▏       | 55/250 [04:33<16:41,  5.13s/it]"
          ]
        },
        {
          "name": "stdout",
          "output_type": "stream",
          "text": [
            "Train Loss - MOSEAS Regression:  0.716\n",
            "Test Loss - MOSEAS Regression:  0.7082\n",
            "Train MAE - MOSEAS Regression:  0.625\n",
            "Test MAE - MOSEAS Regression:  0.6205\n",
            "Train Pearson - MOSEAS Regression:  0.3042\n",
            "Test Pearson - MOSEAS Regression:  0.2134\n"
          ]
        },
        {
          "name": "stderr",
          "output_type": "stream",
          "text": [
            "\rMOSEAS Regression:  22%|██▏       | 56/250 [04:37<16:08,  4.99s/it]"
          ]
        },
        {
          "name": "stdout",
          "output_type": "stream",
          "text": [
            "Train Loss - MOSEAS Regression:  0.7052\n",
            "Test Loss - MOSEAS Regression:  0.7093\n",
            "Train MAE - MOSEAS Regression:  0.623\n",
            "Test MAE - MOSEAS Regression:  0.624\n",
            "Train Pearson - MOSEAS Regression:  0.3271\n",
            "Test Pearson - MOSEAS Regression:  0.2128\n"
          ]
        },
        {
          "name": "stderr",
          "output_type": "stream",
          "text": [
            "\rMOSEAS Regression:  23%|██▎       | 57/250 [04:42<15:58,  4.97s/it]"
          ]
        },
        {
          "name": "stdout",
          "output_type": "stream",
          "text": [
            "Train Loss - MOSEAS Regression:  0.6992\n",
            "Test Loss - MOSEAS Regression:  0.7074\n",
            "Train MAE - MOSEAS Regression:  0.6181\n",
            "Test MAE - MOSEAS Regression:  0.6213\n",
            "Train Pearson - MOSEAS Regression:  0.3392\n",
            "Test Pearson - MOSEAS Regression:  0.217\n"
          ]
        },
        {
          "name": "stderr",
          "output_type": "stream",
          "text": [
            "\rMOSEAS Regression:  23%|██▎       | 58/250 [04:47<15:52,  4.96s/it]"
          ]
        },
        {
          "name": "stdout",
          "output_type": "stream",
          "text": [
            "Train Loss - MOSEAS Regression:  0.6996\n",
            "Test Loss - MOSEAS Regression:  0.7061\n",
            "Train MAE - MOSEAS Regression:  0.6203\n",
            "Test MAE - MOSEAS Regression:  0.6199\n",
            "Train Pearson - MOSEAS Regression:  0.3389\n",
            "Test Pearson - MOSEAS Regression:  0.2205\n",
            "saving checkpoint for epoch 57\n"
          ]
        },
        {
          "name": "stderr",
          "output_type": "stream",
          "text": [
            "\rMOSEAS Regression:  24%|██▎       | 59/250 [04:52<15:35,  4.90s/it]"
          ]
        },
        {
          "name": "stdout",
          "output_type": "stream",
          "text": [
            "Train Loss - MOSEAS Regression:  0.6956\n",
            "Test Loss - MOSEAS Regression:  0.7038\n",
            "Train MAE - MOSEAS Regression:  0.615\n",
            "Test MAE - MOSEAS Regression:  0.6156\n",
            "Train Pearson - MOSEAS Regression:  0.3451\n",
            "Test Pearson - MOSEAS Regression:  0.2262\n",
            "saving checkpoint for epoch 58\n"
          ]
        },
        {
          "name": "stderr",
          "output_type": "stream",
          "text": [
            "\rMOSEAS Regression:  24%|██▍       | 60/250 [04:57<15:33,  4.92s/it]"
          ]
        },
        {
          "name": "stdout",
          "output_type": "stream",
          "text": [
            "Train Loss - MOSEAS Regression:  0.699\n",
            "Test Loss - MOSEAS Regression:  0.7026\n",
            "Train MAE - MOSEAS Regression:  0.6091\n",
            "Test MAE - MOSEAS Regression:  0.613\n",
            "Train Pearson - MOSEAS Regression:  0.3384\n",
            "Test Pearson - MOSEAS Regression:  0.2304\n",
            "saving checkpoint for epoch 59\n"
          ]
        },
        {
          "name": "stderr",
          "output_type": "stream",
          "text": [
            "\rMOSEAS Regression:  24%|██▍       | 61/250 [05:02<15:37,  4.96s/it]"
          ]
        },
        {
          "name": "stdout",
          "output_type": "stream",
          "text": [
            "Train Loss - MOSEAS Regression:  0.697\n",
            "Test Loss - MOSEAS Regression:  0.7023\n",
            "Train MAE - MOSEAS Regression:  0.6096\n",
            "Test MAE - MOSEAS Regression:  0.6147\n",
            "Train Pearson - MOSEAS Regression:  0.3416\n",
            "Test Pearson - MOSEAS Regression:  0.2317\n",
            "saving checkpoint for epoch 60\n"
          ]
        },
        {
          "name": "stderr",
          "output_type": "stream",
          "text": [
            "\rMOSEAS Regression:  25%|██▍       | 62/250 [05:07<15:30,  4.95s/it]"
          ]
        },
        {
          "name": "stdout",
          "output_type": "stream",
          "text": [
            "Train Loss - MOSEAS Regression:  0.6897\n",
            "Test Loss - MOSEAS Regression:  0.703\n",
            "Train MAE - MOSEAS Regression:  0.6097\n",
            "Test MAE - MOSEAS Regression:  0.6197\n",
            "Train Pearson - MOSEAS Regression:  0.3561\n",
            "Test Pearson - MOSEAS Regression:  0.2309\n"
          ]
        },
        {
          "name": "stderr",
          "output_type": "stream",
          "text": [
            "\rMOSEAS Regression:  25%|██▌       | 63/250 [05:12<15:22,  4.93s/it]"
          ]
        },
        {
          "name": "stdout",
          "output_type": "stream",
          "text": [
            "Train Loss - MOSEAS Regression:  0.6935\n",
            "Test Loss - MOSEAS Regression:  0.7033\n",
            "Train MAE - MOSEAS Regression:  0.6156\n",
            "Test MAE - MOSEAS Regression:  0.6221\n",
            "Train Pearson - MOSEAS Regression:  0.3474\n",
            "Test Pearson - MOSEAS Regression:  0.2317\n"
          ]
        },
        {
          "name": "stderr",
          "output_type": "stream",
          "text": [
            "\rMOSEAS Regression:  26%|██▌       | 64/250 [05:17<15:30,  5.00s/it]"
          ]
        },
        {
          "name": "stdout",
          "output_type": "stream",
          "text": [
            "Train Loss - MOSEAS Regression:  0.6873\n",
            "Test Loss - MOSEAS Regression:  0.7025\n",
            "Train MAE - MOSEAS Regression:  0.6137\n",
            "Test MAE - MOSEAS Regression:  0.622\n",
            "Train Pearson - MOSEAS Regression:  0.3596\n",
            "Test Pearson - MOSEAS Regression:  0.2344\n"
          ]
        },
        {
          "name": "stderr",
          "output_type": "stream",
          "text": [
            "\rMOSEAS Regression:  26%|██▌       | 65/250 [05:22<15:24,  5.00s/it]"
          ]
        },
        {
          "name": "stdout",
          "output_type": "stream",
          "text": [
            "Train Loss - MOSEAS Regression:  0.6806\n",
            "Test Loss - MOSEAS Regression:  0.6997\n",
            "Train MAE - MOSEAS Regression:  0.6076\n",
            "Test MAE - MOSEAS Regression:  0.6172\n",
            "Train Pearson - MOSEAS Regression:  0.3714\n",
            "Test Pearson - MOSEAS Regression:  0.2408\n",
            "saving checkpoint for epoch 64\n"
          ]
        },
        {
          "name": "stderr",
          "output_type": "stream",
          "text": [
            "\rMOSEAS Regression:  26%|██▋       | 66/250 [05:27<15:35,  5.08s/it]"
          ]
        },
        {
          "name": "stdout",
          "output_type": "stream",
          "text": [
            "Train Loss - MOSEAS Regression:  0.685\n",
            "Test Loss - MOSEAS Regression:  0.6978\n",
            "Train MAE - MOSEAS Regression:  0.6103\n",
            "Test MAE - MOSEAS Regression:  0.615\n",
            "Train Pearson - MOSEAS Regression:  0.3632\n",
            "Test Pearson - MOSEAS Regression:  0.2459\n",
            "saving checkpoint for epoch 65\n"
          ]
        },
        {
          "name": "stderr",
          "output_type": "stream",
          "text": [
            "\rMOSEAS Regression:  27%|██▋       | 67/250 [05:33<15:41,  5.15s/it]"
          ]
        },
        {
          "name": "stdout",
          "output_type": "stream",
          "text": [
            "Train Loss - MOSEAS Regression:  0.6772\n",
            "Test Loss - MOSEAS Regression:  0.6973\n",
            "Train MAE - MOSEAS Regression:  0.6025\n",
            "Test MAE - MOSEAS Regression:  0.6164\n",
            "Train Pearson - MOSEAS Regression:  0.3773\n",
            "Test Pearson - MOSEAS Regression:  0.2478\n",
            "saving checkpoint for epoch 66\n"
          ]
        },
        {
          "name": "stderr",
          "output_type": "stream",
          "text": [
            "\rMOSEAS Regression:  27%|██▋       | 68/250 [05:38<15:40,  5.17s/it]"
          ]
        },
        {
          "name": "stdout",
          "output_type": "stream",
          "text": [
            "Train Loss - MOSEAS Regression:  0.6765\n",
            "Test Loss - MOSEAS Regression:  0.6972\n",
            "Train MAE - MOSEAS Regression:  0.6064\n",
            "Test MAE - MOSEAS Regression:  0.619\n",
            "Train Pearson - MOSEAS Regression:  0.3783\n",
            "Test Pearson - MOSEAS Regression:  0.2488\n",
            "saving checkpoint for epoch 67\n"
          ]
        },
        {
          "name": "stderr",
          "output_type": "stream",
          "text": [
            "\rMOSEAS Regression:  28%|██▊       | 69/250 [05:43<15:17,  5.07s/it]"
          ]
        },
        {
          "name": "stdout",
          "output_type": "stream",
          "text": [
            "Train Loss - MOSEAS Regression:  0.6707\n",
            "Test Loss - MOSEAS Regression:  0.696\n",
            "Train MAE - MOSEAS Regression:  0.6038\n",
            "Test MAE - MOSEAS Regression:  0.6181\n",
            "Train Pearson - MOSEAS Regression:  0.3884\n",
            "Test Pearson - MOSEAS Regression:  0.2524\n",
            "saving checkpoint for epoch 68\n"
          ]
        },
        {
          "name": "stderr",
          "output_type": "stream",
          "text": [
            "\rMOSEAS Regression:  28%|██▊       | 70/250 [05:47<15:01,  5.01s/it]"
          ]
        },
        {
          "name": "stdout",
          "output_type": "stream",
          "text": [
            "Train Loss - MOSEAS Regression:  0.668\n",
            "Test Loss - MOSEAS Regression:  0.6958\n",
            "Train MAE - MOSEAS Regression:  0.6022\n",
            "Test MAE - MOSEAS Regression:  0.6209\n",
            "Train Pearson - MOSEAS Regression:  0.3927\n",
            "Test Pearson - MOSEAS Regression:  0.2539\n",
            "saving checkpoint for epoch 69\n"
          ]
        },
        {
          "name": "stderr",
          "output_type": "stream",
          "text": [
            "\rMOSEAS Regression:  28%|██▊       | 71/250 [05:52<14:48,  4.97s/it]"
          ]
        },
        {
          "name": "stdout",
          "output_type": "stream",
          "text": [
            "Train Loss - MOSEAS Regression:  0.6638\n",
            "Test Loss - MOSEAS Regression:  0.6933\n",
            "Train MAE - MOSEAS Regression:  0.6023\n",
            "Test MAE - MOSEAS Regression:  0.6157\n",
            "Train Pearson - MOSEAS Regression:  0.4003\n",
            "Test Pearson - MOSEAS Regression:  0.2598\n",
            "saving checkpoint for epoch 70\n"
          ]
        },
        {
          "name": "stderr",
          "output_type": "stream",
          "text": [
            "\rMOSEAS Regression:  29%|██▉       | 72/250 [05:57<14:50,  5.00s/it]"
          ]
        },
        {
          "name": "stdout",
          "output_type": "stream",
          "text": [
            "Train Loss - MOSEAS Regression:  0.6603\n",
            "Test Loss - MOSEAS Regression:  0.6921\n",
            "Train MAE - MOSEAS Regression:  0.5966\n",
            "Test MAE - MOSEAS Regression:  0.61\n",
            "Train Pearson - MOSEAS Regression:  0.4047\n",
            "Test Pearson - MOSEAS Regression:  0.2655\n",
            "saving checkpoint for epoch 71\n"
          ]
        },
        {
          "name": "stderr",
          "output_type": "stream",
          "text": [
            "\rMOSEAS Regression:  29%|██▉       | 73/250 [06:02<14:26,  4.90s/it]"
          ]
        },
        {
          "name": "stdout",
          "output_type": "stream",
          "text": [
            "Train Loss - MOSEAS Regression:  0.6612\n",
            "Test Loss - MOSEAS Regression:  0.6918\n",
            "Train MAE - MOSEAS Regression:  0.5956\n",
            "Test MAE - MOSEAS Regression:  0.6102\n",
            "Train Pearson - MOSEAS Regression:  0.404\n",
            "Test Pearson - MOSEAS Regression:  0.2672\n",
            "saving checkpoint for epoch 72\n"
          ]
        },
        {
          "name": "stderr",
          "output_type": "stream",
          "text": [
            "\rMOSEAS Regression:  30%|██▉       | 74/250 [06:07<14:26,  4.92s/it]"
          ]
        },
        {
          "name": "stdout",
          "output_type": "stream",
          "text": [
            "Train Loss - MOSEAS Regression:  0.662\n",
            "Test Loss - MOSEAS Regression:  0.6919\n",
            "Train MAE - MOSEAS Regression:  0.5929\n",
            "Test MAE - MOSEAS Regression:  0.6161\n",
            "Train Pearson - MOSEAS Regression:  0.4016\n",
            "Test Pearson - MOSEAS Regression:  0.2659\n"
          ]
        },
        {
          "name": "stderr",
          "output_type": "stream",
          "text": [
            "\rMOSEAS Regression:  30%|███       | 75/250 [06:12<14:24,  4.94s/it]"
          ]
        },
        {
          "name": "stdout",
          "output_type": "stream",
          "text": [
            "Train Loss - MOSEAS Regression:  0.6616\n",
            "Test Loss - MOSEAS Regression:  0.6944\n",
            "Train MAE - MOSEAS Regression:  0.6003\n",
            "Test MAE - MOSEAS Regression:  0.6244\n",
            "Train Pearson - MOSEAS Regression:  0.4028\n",
            "Test Pearson - MOSEAS Regression:  0.2625\n"
          ]
        },
        {
          "name": "stderr",
          "output_type": "stream",
          "text": [
            "\rMOSEAS Regression:  30%|███       | 76/250 [06:17<14:15,  4.92s/it]"
          ]
        },
        {
          "name": "stdout",
          "output_type": "stream",
          "text": [
            "Train Loss - MOSEAS Regression:  0.6454\n",
            "Test Loss - MOSEAS Regression:  0.6925\n",
            "Train MAE - MOSEAS Regression:  0.5953\n",
            "Test MAE - MOSEAS Regression:  0.6208\n",
            "Train Pearson - MOSEAS Regression:  0.429\n",
            "Test Pearson - MOSEAS Regression:  0.2666\n"
          ]
        },
        {
          "name": "stderr",
          "output_type": "stream",
          "text": [
            "\rMOSEAS Regression:  31%|███       | 77/250 [06:22<13:57,  4.84s/it]"
          ]
        },
        {
          "name": "stdout",
          "output_type": "stream",
          "text": [
            "Train Loss - MOSEAS Regression:  0.6511\n",
            "Test Loss - MOSEAS Regression:  0.6907\n",
            "Train MAE - MOSEAS Regression:  0.5952\n",
            "Test MAE - MOSEAS Regression:  0.6135\n",
            "Train Pearson - MOSEAS Regression:  0.4176\n",
            "Test Pearson - MOSEAS Regression:  0.2727\n",
            "saving checkpoint for epoch 76\n"
          ]
        },
        {
          "name": "stderr",
          "output_type": "stream",
          "text": [
            "\rMOSEAS Regression:  31%|███       | 78/250 [06:27<14:12,  4.95s/it]"
          ]
        },
        {
          "name": "stdout",
          "output_type": "stream",
          "text": [
            "Train Loss - MOSEAS Regression:  0.6501\n",
            "Test Loss - MOSEAS Regression:  0.691\n",
            "Train MAE - MOSEAS Regression:  0.5914\n",
            "Test MAE - MOSEAS Regression:  0.6168\n",
            "Train Pearson - MOSEAS Regression:  0.4193\n",
            "Test Pearson - MOSEAS Regression:  0.2721\n"
          ]
        },
        {
          "name": "stderr",
          "output_type": "stream",
          "text": [
            "\rMOSEAS Regression:  32%|███▏      | 79/250 [06:32<14:04,  4.94s/it]"
          ]
        },
        {
          "name": "stdout",
          "output_type": "stream",
          "text": [
            "Train Loss - MOSEAS Regression:  0.6362\n",
            "Test Loss - MOSEAS Regression:  0.6917\n",
            "Train MAE - MOSEAS Regression:  0.5872\n",
            "Test MAE - MOSEAS Regression:  0.6201\n",
            "Train Pearson - MOSEAS Regression:  0.4398\n",
            "Test Pearson - MOSEAS Regression:  0.2712\n"
          ]
        },
        {
          "name": "stderr",
          "output_type": "stream",
          "text": [
            "\rMOSEAS Regression:  32%|███▏      | 80/250 [06:36<13:19,  4.71s/it]"
          ]
        },
        {
          "name": "stdout",
          "output_type": "stream",
          "text": [
            "Train Loss - MOSEAS Regression:  0.644\n",
            "Test Loss - MOSEAS Regression:  0.6919\n",
            "Train MAE - MOSEAS Regression:  0.5907\n",
            "Test MAE - MOSEAS Regression:  0.6209\n",
            "Train Pearson - MOSEAS Regression:  0.4288\n",
            "Test Pearson - MOSEAS Regression:  0.2717\n"
          ]
        },
        {
          "name": "stderr",
          "output_type": "stream",
          "text": [
            "\rMOSEAS Regression:  32%|███▏      | 81/250 [06:41<13:43,  4.87s/it]"
          ]
        },
        {
          "name": "stdout",
          "output_type": "stream",
          "text": [
            "Train Loss - MOSEAS Regression:  0.6351\n",
            "Test Loss - MOSEAS Regression:  0.6911\n",
            "Train MAE - MOSEAS Regression:  0.5848\n",
            "Test MAE - MOSEAS Regression:  0.6149\n",
            "Train Pearson - MOSEAS Regression:  0.4428\n",
            "Test Pearson - MOSEAS Regression:  0.2755\n"
          ]
        },
        {
          "name": "stderr",
          "output_type": "stream",
          "text": [
            "\rMOSEAS Regression:  33%|███▎      | 82/250 [06:46<13:46,  4.92s/it]"
          ]
        },
        {
          "name": "stdout",
          "output_type": "stream",
          "text": [
            "Train Loss - MOSEAS Regression:  0.6357\n",
            "Test Loss - MOSEAS Regression:  0.692\n",
            "Train MAE - MOSEAS Regression:  0.5818\n",
            "Test MAE - MOSEAS Regression:  0.6171\n",
            "Train Pearson - MOSEAS Regression:  0.4418\n",
            "Test Pearson - MOSEAS Regression:  0.2746\n"
          ]
        },
        {
          "name": "stderr",
          "output_type": "stream",
          "text": [
            "\rMOSEAS Regression:  33%|███▎      | 83/250 [06:51<13:41,  4.92s/it]"
          ]
        },
        {
          "name": "stdout",
          "output_type": "stream",
          "text": [
            "Train Loss - MOSEAS Regression:  0.631\n",
            "Test Loss - MOSEAS Regression:  0.6965\n",
            "Train MAE - MOSEAS Regression:  0.5853\n",
            "Test MAE - MOSEAS Regression:  0.6279\n",
            "Train Pearson - MOSEAS Regression:  0.4489\n",
            "Test Pearson - MOSEAS Regression:  0.2685\n"
          ]
        },
        {
          "name": "stderr",
          "output_type": "stream",
          "text": [
            "\rMOSEAS Regression:  34%|███▎      | 84/250 [06:56<13:15,  4.79s/it]"
          ]
        },
        {
          "name": "stdout",
          "output_type": "stream",
          "text": [
            "Train Loss - MOSEAS Regression:  0.6263\n",
            "Test Loss - MOSEAS Regression:  0.6956\n",
            "Train MAE - MOSEAS Regression:  0.5922\n",
            "Test MAE - MOSEAS Regression:  0.6242\n",
            "Train Pearson - MOSEAS Regression:  0.4558\n",
            "Test Pearson - MOSEAS Regression:  0.2705\n"
          ]
        },
        {
          "name": "stderr",
          "output_type": "stream",
          "text": [
            "\rMOSEAS Regression:  34%|███▍      | 85/250 [07:00<13:15,  4.82s/it]"
          ]
        },
        {
          "name": "stdout",
          "output_type": "stream",
          "text": [
            "Train Loss - MOSEAS Regression:  0.6292\n",
            "Test Loss - MOSEAS Regression:  0.6954\n",
            "Train MAE - MOSEAS Regression:  0.585\n",
            "Test MAE - MOSEAS Regression:  0.62\n",
            "Train Pearson - MOSEAS Regression:  0.4498\n",
            "Test Pearson - MOSEAS Regression:  0.2725\n"
          ]
        },
        {
          "name": "stderr",
          "output_type": "stream",
          "text": [
            "\rMOSEAS Regression:  34%|███▍      | 86/250 [07:05<13:19,  4.88s/it]"
          ]
        },
        {
          "name": "stdout",
          "output_type": "stream",
          "text": [
            "Train Loss - MOSEAS Regression:  0.6287\n",
            "Test Loss - MOSEAS Regression:  0.6969\n",
            "Train MAE - MOSEAS Regression:  0.585\n",
            "Test MAE - MOSEAS Regression:  0.6204\n",
            "Train Pearson - MOSEAS Regression:  0.4503\n",
            "Test Pearson - MOSEAS Regression:  0.2716\n"
          ]
        },
        {
          "name": "stderr",
          "output_type": "stream",
          "text": [
            "\rMOSEAS Regression:  35%|███▍      | 87/250 [07:10<13:00,  4.79s/it]"
          ]
        },
        {
          "name": "stdout",
          "output_type": "stream",
          "text": [
            "Train Loss - MOSEAS Regression:  0.6226\n",
            "Test Loss - MOSEAS Regression:  0.6981\n",
            "Train MAE - MOSEAS Regression:  0.5792\n",
            "Test MAE - MOSEAS Regression:  0.6189\n",
            "Train Pearson - MOSEAS Regression:  0.4587\n",
            "Test Pearson - MOSEAS Regression:  0.2718\n"
          ]
        },
        {
          "name": "stderr",
          "output_type": "stream",
          "text": [
            "\rMOSEAS Regression:  35%|███▌      | 88/250 [07:15<12:51,  4.76s/it]"
          ]
        },
        {
          "name": "stdout",
          "output_type": "stream",
          "text": [
            "Train Loss - MOSEAS Regression:  0.6259\n",
            "Test Loss - MOSEAS Regression:  0.7019\n",
            "Train MAE - MOSEAS Regression:  0.5803\n",
            "Test MAE - MOSEAS Regression:  0.6272\n",
            "Train Pearson - MOSEAS Regression:  0.4542\n",
            "Test Pearson - MOSEAS Regression:  0.2669\n"
          ]
        },
        {
          "name": "stderr",
          "output_type": "stream",
          "text": [
            "\rMOSEAS Regression:  36%|███▌      | 89/250 [07:19<12:33,  4.68s/it]"
          ]
        },
        {
          "name": "stdout",
          "output_type": "stream",
          "text": [
            "Train Loss - MOSEAS Regression:  0.6199\n",
            "Test Loss - MOSEAS Regression:  0.7019\n",
            "Train MAE - MOSEAS Regression:  0.5805\n",
            "Test MAE - MOSEAS Regression:  0.6243\n",
            "Train Pearson - MOSEAS Regression:  0.4627\n",
            "Test Pearson - MOSEAS Regression:  0.2683\n"
          ]
        },
        {
          "name": "stderr",
          "output_type": "stream",
          "text": [
            "\rMOSEAS Regression:  36%|███▌      | 90/250 [07:24<12:40,  4.75s/it]"
          ]
        },
        {
          "name": "stdout",
          "output_type": "stream",
          "text": [
            "Train Loss - MOSEAS Regression:  0.6274\n",
            "Test Loss - MOSEAS Regression:  0.7015\n",
            "Train MAE - MOSEAS Regression:  0.5841\n",
            "Test MAE - MOSEAS Regression:  0.6193\n",
            "Train Pearson - MOSEAS Regression:  0.4518\n",
            "Test Pearson - MOSEAS Regression:  0.2712\n"
          ]
        },
        {
          "name": "stderr",
          "output_type": "stream",
          "text": [
            "\rMOSEAS Regression:  36%|███▋      | 91/250 [07:29<12:45,  4.82s/it]"
          ]
        },
        {
          "name": "stdout",
          "output_type": "stream",
          "text": [
            "Train Loss - MOSEAS Regression:  0.6143\n",
            "Test Loss - MOSEAS Regression:  0.7023\n",
            "Train MAE - MOSEAS Regression:  0.5769\n",
            "Test MAE - MOSEAS Regression:  0.6186\n",
            "Train Pearson - MOSEAS Regression:  0.4703\n",
            "Test Pearson - MOSEAS Regression:  0.2716\n"
          ]
        },
        {
          "name": "stderr",
          "output_type": "stream",
          "text": [
            "\rMOSEAS Regression:  37%|███▋      | 92/250 [07:34<12:49,  4.87s/it]"
          ]
        },
        {
          "name": "stdout",
          "output_type": "stream",
          "text": [
            "Train Loss - MOSEAS Regression:  0.6145\n",
            "Test Loss - MOSEAS Regression:  0.705\n",
            "Train MAE - MOSEAS Regression:  0.5762\n",
            "Test MAE - MOSEAS Regression:  0.6269\n",
            "Train Pearson - MOSEAS Regression:  0.4703\n",
            "Test Pearson - MOSEAS Regression:  0.268\n"
          ]
        },
        {
          "name": "stderr",
          "output_type": "stream",
          "text": [
            "\rMOSEAS Regression:  37%|███▋      | 93/250 [07:39<12:49,  4.90s/it]"
          ]
        },
        {
          "name": "stdout",
          "output_type": "stream",
          "text": [
            "Train Loss - MOSEAS Regression:  0.61\n",
            "Test Loss - MOSEAS Regression:  0.7045\n",
            "Train MAE - MOSEAS Regression:  0.5767\n",
            "Test MAE - MOSEAS Regression:  0.6242\n",
            "Train Pearson - MOSEAS Regression:  0.4769\n",
            "Test Pearson - MOSEAS Regression:  0.2702\n"
          ]
        },
        {
          "name": "stderr",
          "output_type": "stream",
          "text": [
            "\rMOSEAS Regression:  38%|███▊      | 94/250 [07:44<12:56,  4.98s/it]"
          ]
        },
        {
          "name": "stdout",
          "output_type": "stream",
          "text": [
            "Train Loss - MOSEAS Regression:  0.612\n",
            "Test Loss - MOSEAS Regression:  0.7044\n",
            "Train MAE - MOSEAS Regression:  0.579\n",
            "Test MAE - MOSEAS Regression:  0.6196\n",
            "Train Pearson - MOSEAS Regression:  0.4738\n",
            "Test Pearson - MOSEAS Regression:  0.2729\n"
          ]
        },
        {
          "name": "stderr",
          "output_type": "stream",
          "text": [
            "\rMOSEAS Regression:  38%|███▊      | 95/250 [07:49<12:59,  5.03s/it]"
          ]
        },
        {
          "name": "stdout",
          "output_type": "stream",
          "text": [
            "Train Loss - MOSEAS Regression:  0.6049\n",
            "Test Loss - MOSEAS Regression:  0.7063\n",
            "Train MAE - MOSEAS Regression:  0.575\n",
            "Test MAE - MOSEAS Regression:  0.6244\n",
            "Train Pearson - MOSEAS Regression:  0.4834\n",
            "Test Pearson - MOSEAS Regression:  0.2714\n"
          ]
        },
        {
          "name": "stderr",
          "output_type": "stream",
          "text": [
            "\rMOSEAS Regression:  38%|███▊      | 96/250 [07:55<13:00,  5.07s/it]"
          ]
        },
        {
          "name": "stdout",
          "output_type": "stream",
          "text": [
            "Train Loss - MOSEAS Regression:  0.6076\n",
            "Test Loss - MOSEAS Regression:  0.7105\n",
            "Train MAE - MOSEAS Regression:  0.5777\n",
            "Test MAE - MOSEAS Regression:  0.6319\n",
            "Train Pearson - MOSEAS Regression:  0.4799\n",
            "Test Pearson - MOSEAS Regression:  0.2683\n"
          ]
        },
        {
          "name": "stderr",
          "output_type": "stream",
          "text": [
            "\rMOSEAS Regression:  39%|███▉      | 97/250 [07:59<12:43,  4.99s/it]"
          ]
        },
        {
          "name": "stdout",
          "output_type": "stream",
          "text": [
            "Train Loss - MOSEAS Regression:  0.6031\n",
            "Test Loss - MOSEAS Regression:  0.7069\n",
            "Train MAE - MOSEAS Regression:  0.5795\n",
            "Test MAE - MOSEAS Regression:  0.621\n",
            "Train Pearson - MOSEAS Regression:  0.4866\n",
            "Test Pearson - MOSEAS Regression:  0.2745\n"
          ]
        },
        {
          "name": "stderr",
          "output_type": "stream",
          "text": [
            "\rMOSEAS Regression:  39%|███▉      | 98/250 [08:04<12:37,  4.98s/it]"
          ]
        },
        {
          "name": "stdout",
          "output_type": "stream",
          "text": [
            "Train Loss - MOSEAS Regression:  0.6007\n",
            "Test Loss - MOSEAS Regression:  0.7077\n",
            "Train MAE - MOSEAS Regression:  0.5682\n",
            "Test MAE - MOSEAS Regression:  0.6215\n",
            "Train Pearson - MOSEAS Regression:  0.4892\n",
            "Test Pearson - MOSEAS Regression:  0.2749\n"
          ]
        },
        {
          "name": "stderr",
          "output_type": "stream",
          "text": [
            "\rMOSEAS Regression:  40%|███▉      | 99/250 [08:09<12:10,  4.84s/it]"
          ]
        },
        {
          "name": "stdout",
          "output_type": "stream",
          "text": [
            "Train Loss - MOSEAS Regression:  0.5912\n",
            "Test Loss - MOSEAS Regression:  0.7185\n",
            "Train MAE - MOSEAS Regression:  0.5674\n",
            "Test MAE - MOSEAS Regression:  0.6402\n",
            "Train Pearson - MOSEAS Regression:  0.5007\n",
            "Test Pearson - MOSEAS Regression:  0.2658\n"
          ]
        },
        {
          "name": "stderr",
          "output_type": "stream",
          "text": [
            "\rMOSEAS Regression:  40%|████      | 100/250 [08:14<12:11,  4.88s/it]"
          ]
        },
        {
          "name": "stdout",
          "output_type": "stream",
          "text": [
            "Train Loss - MOSEAS Regression:  0.6015\n",
            "Test Loss - MOSEAS Regression:  0.7093\n",
            "Train MAE - MOSEAS Regression:  0.5818\n",
            "Test MAE - MOSEAS Regression:  0.6251\n",
            "Train Pearson - MOSEAS Regression:  0.4918\n",
            "Test Pearson - MOSEAS Regression:  0.2752\n"
          ]
        },
        {
          "name": "stderr",
          "output_type": "stream",
          "text": [
            "\rMOSEAS Regression:  40%|████      | 101/250 [08:18<11:48,  4.76s/it]"
          ]
        },
        {
          "name": "stdout",
          "output_type": "stream",
          "text": [
            "Train Loss - MOSEAS Regression:  0.6\n",
            "Test Loss - MOSEAS Regression:  0.709\n",
            "Train MAE - MOSEAS Regression:  0.5729\n",
            "Test MAE - MOSEAS Regression:  0.6131\n",
            "Train Pearson - MOSEAS Regression:  0.4893\n",
            "Test Pearson - MOSEAS Regression:  0.2827\n"
          ]
        },
        {
          "name": "stderr",
          "output_type": "stream",
          "text": [
            "\rMOSEAS Regression:  41%|████      | 102/250 [08:23<11:53,  4.82s/it]"
          ]
        },
        {
          "name": "stdout",
          "output_type": "stream",
          "text": [
            "Train Loss - MOSEAS Regression:  0.6024\n",
            "Test Loss - MOSEAS Regression:  0.7085\n",
            "Train MAE - MOSEAS Regression:  0.5705\n",
            "Test MAE - MOSEAS Regression:  0.625\n",
            "Train Pearson - MOSEAS Regression:  0.4877\n",
            "Test Pearson - MOSEAS Regression:  0.2785\n"
          ]
        },
        {
          "name": "stderr",
          "output_type": "stream",
          "text": [
            "\rMOSEAS Regression:  41%|████      | 103/250 [08:28<11:49,  4.83s/it]"
          ]
        },
        {
          "name": "stdout",
          "output_type": "stream",
          "text": [
            "Train Loss - MOSEAS Regression:  0.5981\n",
            "Test Loss - MOSEAS Regression:  0.7126\n",
            "Train MAE - MOSEAS Regression:  0.572\n",
            "Test MAE - MOSEAS Regression:  0.6336\n",
            "Train Pearson - MOSEAS Regression:  0.4913\n",
            "Test Pearson - MOSEAS Regression:  0.2758\n"
          ]
        },
        {
          "name": "stderr",
          "output_type": "stream",
          "text": [
            "\rMOSEAS Regression:  42%|████▏     | 104/250 [08:33<11:46,  4.84s/it]"
          ]
        },
        {
          "name": "stdout",
          "output_type": "stream",
          "text": [
            "Train Loss - MOSEAS Regression:  0.5923\n",
            "Test Loss - MOSEAS Regression:  0.7066\n",
            "Train MAE - MOSEAS Regression:  0.5724\n",
            "Test MAE - MOSEAS Regression:  0.6218\n",
            "Train Pearson - MOSEAS Regression:  0.5003\n",
            "Test Pearson - MOSEAS Regression:  0.2832\n"
          ]
        },
        {
          "name": "stderr",
          "output_type": "stream",
          "text": [
            "\rMOSEAS Regression:  42%|████▏     | 105/250 [08:38<11:51,  4.91s/it]"
          ]
        },
        {
          "name": "stdout",
          "output_type": "stream",
          "text": [
            "Train Loss - MOSEAS Regression:  0.5852\n",
            "Test Loss - MOSEAS Regression:  0.706\n",
            "Train MAE - MOSEAS Regression:  0.5666\n",
            "Test MAE - MOSEAS Regression:  0.6203\n",
            "Train Pearson - MOSEAS Regression:  0.5084\n",
            "Test Pearson - MOSEAS Regression:  0.2855\n"
          ]
        },
        {
          "name": "stderr",
          "output_type": "stream",
          "text": [
            "\rMOSEAS Regression:  42%|████▏     | 106/250 [08:43<11:46,  4.91s/it]"
          ]
        },
        {
          "name": "stdout",
          "output_type": "stream",
          "text": [
            "Train Loss - MOSEAS Regression:  0.5832\n",
            "Test Loss - MOSEAS Regression:  0.7091\n",
            "Train MAE - MOSEAS Regression:  0.5625\n",
            "Test MAE - MOSEAS Regression:  0.6286\n",
            "Train Pearson - MOSEAS Regression:  0.511\n",
            "Test Pearson - MOSEAS Regression:  0.2826\n"
          ]
        },
        {
          "name": "stderr",
          "output_type": "stream",
          "text": [
            "\rMOSEAS Regression:  43%|████▎     | 107/250 [08:48<11:30,  4.83s/it]"
          ]
        },
        {
          "name": "stdout",
          "output_type": "stream",
          "text": [
            "Train Loss - MOSEAS Regression:  0.5879\n",
            "Test Loss - MOSEAS Regression:  0.7092\n",
            "Train MAE - MOSEAS Regression:  0.5713\n",
            "Test MAE - MOSEAS Regression:  0.6305\n",
            "Train Pearson - MOSEAS Regression:  0.5051\n",
            "Test Pearson - MOSEAS Regression:  0.2837\n"
          ]
        },
        {
          "name": "stderr",
          "output_type": "stream",
          "text": [
            "\rMOSEAS Regression:  43%|████▎     | 108/250 [08:52<11:20,  4.79s/it]"
          ]
        },
        {
          "name": "stdout",
          "output_type": "stream",
          "text": [
            "Train Loss - MOSEAS Regression:  0.5808\n",
            "Test Loss - MOSEAS Regression:  0.7034\n",
            "Train MAE - MOSEAS Regression:  0.5616\n",
            "Test MAE - MOSEAS Regression:  0.6177\n",
            "Train Pearson - MOSEAS Regression:  0.5133\n",
            "Test Pearson - MOSEAS Regression:  0.2924\n"
          ]
        },
        {
          "name": "stderr",
          "output_type": "stream",
          "text": [
            "\rMOSEAS Regression:  44%|████▎     | 109/250 [08:57<11:32,  4.91s/it]"
          ]
        },
        {
          "name": "stdout",
          "output_type": "stream",
          "text": [
            "Train Loss - MOSEAS Regression:  0.5899\n",
            "Test Loss - MOSEAS Regression:  0.7031\n",
            "Train MAE - MOSEAS Regression:  0.564\n",
            "Test MAE - MOSEAS Regression:  0.6228\n",
            "Train Pearson - MOSEAS Regression:  0.5033\n",
            "Test Pearson - MOSEAS Regression:  0.292\n"
          ]
        },
        {
          "name": "stderr",
          "output_type": "stream",
          "text": [
            "\rMOSEAS Regression:  44%|████▍     | 110/250 [09:03<11:36,  4.97s/it]"
          ]
        },
        {
          "name": "stdout",
          "output_type": "stream",
          "text": [
            "Train Loss - MOSEAS Regression:  0.5856\n",
            "Test Loss - MOSEAS Regression:  0.7068\n",
            "Train MAE - MOSEAS Regression:  0.5654\n",
            "Test MAE - MOSEAS Regression:  0.6322\n",
            "Train Pearson - MOSEAS Regression:  0.5071\n",
            "Test Pearson - MOSEAS Regression:  0.2897\n"
          ]
        },
        {
          "name": "stderr",
          "output_type": "stream",
          "text": [
            "\rMOSEAS Regression:  44%|████▍     | 111/250 [09:07<11:13,  4.84s/it]"
          ]
        },
        {
          "name": "stdout",
          "output_type": "stream",
          "text": [
            "Train Loss - MOSEAS Regression:  0.5839\n",
            "Test Loss - MOSEAS Regression:  0.7002\n",
            "Train MAE - MOSEAS Regression:  0.5699\n",
            "Test MAE - MOSEAS Regression:  0.6228\n",
            "Train Pearson - MOSEAS Regression:  0.511\n",
            "Test Pearson - MOSEAS Regression:  0.2969\n"
          ]
        },
        {
          "name": "stderr",
          "output_type": "stream",
          "text": [
            "\rMOSEAS Regression:  45%|████▍     | 112/250 [09:12<11:20,  4.93s/it]"
          ]
        },
        {
          "name": "stdout",
          "output_type": "stream",
          "text": [
            "Train Loss - MOSEAS Regression:  0.5792\n",
            "Test Loss - MOSEAS Regression:  0.6982\n",
            "Train MAE - MOSEAS Regression:  0.5638\n",
            "Test MAE - MOSEAS Regression:  0.6187\n",
            "Train Pearson - MOSEAS Regression:  0.5164\n",
            "Test Pearson - MOSEAS Regression:  0.3008\n"
          ]
        },
        {
          "name": "stderr",
          "output_type": "stream",
          "text": [
            "\rMOSEAS Regression:  45%|████▌     | 113/250 [09:17<11:18,  4.95s/it]"
          ]
        },
        {
          "name": "stdout",
          "output_type": "stream",
          "text": [
            "Train Loss - MOSEAS Regression:  0.5753\n",
            "Test Loss - MOSEAS Regression:  0.7011\n",
            "Train MAE - MOSEAS Regression:  0.5619\n",
            "Test MAE - MOSEAS Regression:  0.6258\n",
            "Train Pearson - MOSEAS Regression:  0.5211\n",
            "Test Pearson - MOSEAS Regression:  0.2988\n"
          ]
        },
        {
          "name": "stderr",
          "output_type": "stream",
          "text": [
            "\rMOSEAS Regression:  46%|████▌     | 114/250 [09:22<11:14,  4.96s/it]"
          ]
        },
        {
          "name": "stdout",
          "output_type": "stream",
          "text": [
            "Train Loss - MOSEAS Regression:  0.5793\n",
            "Test Loss - MOSEAS Regression:  0.7013\n",
            "Train MAE - MOSEAS Regression:  0.569\n",
            "Test MAE - MOSEAS Regression:  0.6256\n",
            "Train Pearson - MOSEAS Regression:  0.5155\n",
            "Test Pearson - MOSEAS Regression:  0.3\n"
          ]
        },
        {
          "name": "stderr",
          "output_type": "stream",
          "text": [
            "\rMOSEAS Regression:  46%|████▌     | 115/250 [09:27<11:10,  4.96s/it]"
          ]
        },
        {
          "name": "stdout",
          "output_type": "stream",
          "text": [
            "Train Loss - MOSEAS Regression:  0.5737\n",
            "Test Loss - MOSEAS Regression:  0.6999\n",
            "Train MAE - MOSEAS Regression:  0.564\n",
            "Test MAE - MOSEAS Regression:  0.6206\n",
            "Train Pearson - MOSEAS Regression:  0.5223\n",
            "Test Pearson - MOSEAS Regression:  0.3035\n"
          ]
        },
        {
          "name": "stderr",
          "output_type": "stream",
          "text": [
            "\rMOSEAS Regression:  46%|████▋     | 116/250 [09:32<10:58,  4.91s/it]"
          ]
        },
        {
          "name": "stdout",
          "output_type": "stream",
          "text": [
            "Train Loss - MOSEAS Regression:  0.5792\n",
            "Test Loss - MOSEAS Regression:  0.7018\n",
            "Train MAE - MOSEAS Regression:  0.5598\n",
            "Test MAE - MOSEAS Regression:  0.6251\n",
            "Train Pearson - MOSEAS Regression:  0.5154\n",
            "Test Pearson - MOSEAS Regression:  0.3027\n"
          ]
        },
        {
          "name": "stderr",
          "output_type": "stream",
          "text": [
            "\rMOSEAS Regression:  47%|████▋     | 117/250 [09:37<10:55,  4.93s/it]"
          ]
        },
        {
          "name": "stdout",
          "output_type": "stream",
          "text": [
            "Train Loss - MOSEAS Regression:  0.5749\n",
            "Test Loss - MOSEAS Regression:  0.7034\n",
            "Train MAE - MOSEAS Regression:  0.5653\n",
            "Test MAE - MOSEAS Regression:  0.6288\n",
            "Train Pearson - MOSEAS Regression:  0.5206\n",
            "Test Pearson - MOSEAS Regression:  0.3025\n"
          ]
        },
        {
          "name": "stderr",
          "output_type": "stream",
          "text": [
            "\rMOSEAS Regression:  47%|████▋     | 118/250 [09:42<10:59,  5.00s/it]"
          ]
        },
        {
          "name": "stdout",
          "output_type": "stream",
          "text": [
            "Train Loss - MOSEAS Regression:  0.5698\n",
            "Test Loss - MOSEAS Regression:  0.6994\n",
            "Train MAE - MOSEAS Regression:  0.5594\n",
            "Test MAE - MOSEAS Regression:  0.6221\n",
            "Train Pearson - MOSEAS Regression:  0.5266\n",
            "Test Pearson - MOSEAS Regression:  0.3075\n"
          ]
        },
        {
          "name": "stderr",
          "output_type": "stream",
          "text": [
            "\rMOSEAS Regression:  48%|████▊     | 119/250 [09:47<10:52,  4.98s/it]"
          ]
        },
        {
          "name": "stdout",
          "output_type": "stream",
          "text": [
            "Train Loss - MOSEAS Regression:  0.5708\n",
            "Test Loss - MOSEAS Regression:  0.6975\n",
            "Train MAE - MOSEAS Regression:  0.5608\n",
            "Test MAE - MOSEAS Regression:  0.6189\n",
            "Train Pearson - MOSEAS Regression:  0.5252\n",
            "Test Pearson - MOSEAS Regression:  0.3106\n"
          ]
        },
        {
          "name": "stderr",
          "output_type": "stream",
          "text": [
            "\rMOSEAS Regression:  48%|████▊     | 120/250 [09:52<10:47,  4.98s/it]"
          ]
        },
        {
          "name": "stdout",
          "output_type": "stream",
          "text": [
            "Train Loss - MOSEAS Regression:  0.5713\n",
            "Test Loss - MOSEAS Regression:  0.7003\n",
            "Train MAE - MOSEAS Regression:  0.56\n",
            "Test MAE - MOSEAS Regression:  0.6258\n",
            "Train Pearson - MOSEAS Regression:  0.525\n",
            "Test Pearson - MOSEAS Regression:  0.3078\n"
          ]
        },
        {
          "name": "stderr",
          "output_type": "stream",
          "text": [
            "\rMOSEAS Regression:  48%|████▊     | 121/250 [09:57<10:49,  5.03s/it]"
          ]
        },
        {
          "name": "stdout",
          "output_type": "stream",
          "text": [
            "Train Loss - MOSEAS Regression:  0.5681\n",
            "Test Loss - MOSEAS Regression:  0.7003\n",
            "Train MAE - MOSEAS Regression:  0.5611\n",
            "Test MAE - MOSEAS Regression:  0.6258\n",
            "Train Pearson - MOSEAS Regression:  0.5289\n",
            "Test Pearson - MOSEAS Regression:  0.3087\n"
          ]
        },
        {
          "name": "stderr",
          "output_type": "stream",
          "text": [
            "\rMOSEAS Regression:  49%|████▉     | 122/250 [10:02<10:38,  4.99s/it]"
          ]
        },
        {
          "name": "stdout",
          "output_type": "stream",
          "text": [
            "Train Loss - MOSEAS Regression:  0.5703\n",
            "Test Loss - MOSEAS Regression:  0.6979\n",
            "Train MAE - MOSEAS Regression:  0.5641\n",
            "Test MAE - MOSEAS Regression:  0.6183\n",
            "Train Pearson - MOSEAS Regression:  0.526\n",
            "Test Pearson - MOSEAS Regression:  0.3131\n"
          ]
        },
        {
          "name": "stderr",
          "output_type": "stream",
          "text": [
            "\rMOSEAS Regression:  49%|████▉     | 123/250 [10:07<10:31,  4.97s/it]"
          ]
        },
        {
          "name": "stdout",
          "output_type": "stream",
          "text": [
            "Train Loss - MOSEAS Regression:  0.5632\n",
            "Test Loss - MOSEAS Regression:  0.6994\n",
            "Train MAE - MOSEAS Regression:  0.5562\n",
            "Test MAE - MOSEAS Regression:  0.622\n",
            "Train Pearson - MOSEAS Regression:  0.5348\n",
            "Test Pearson - MOSEAS Regression:  0.3114\n"
          ]
        },
        {
          "name": "stderr",
          "output_type": "stream",
          "text": [
            "\rMOSEAS Regression:  50%|████▉     | 124/250 [10:12<10:25,  4.96s/it]"
          ]
        },
        {
          "name": "stdout",
          "output_type": "stream",
          "text": [
            "Train Loss - MOSEAS Regression:  0.5599\n",
            "Test Loss - MOSEAS Regression:  0.7005\n",
            "Train MAE - MOSEAS Regression:  0.5592\n",
            "Test MAE - MOSEAS Regression:  0.6239\n",
            "Train Pearson - MOSEAS Regression:  0.5388\n",
            "Test Pearson - MOSEAS Regression:  0.3106\n"
          ]
        },
        {
          "name": "stderr",
          "output_type": "stream",
          "text": [
            "\rMOSEAS Regression:  50%|█████     | 125/250 [10:17<10:05,  4.85s/it]"
          ]
        },
        {
          "name": "stdout",
          "output_type": "stream",
          "text": [
            "Train Loss - MOSEAS Regression:  0.5602\n",
            "Test Loss - MOSEAS Regression:  0.699\n",
            "Train MAE - MOSEAS Regression:  0.5563\n",
            "Test MAE - MOSEAS Regression:  0.6213\n",
            "Train Pearson - MOSEAS Regression:  0.538\n",
            "Test Pearson - MOSEAS Regression:  0.313\n"
          ]
        },
        {
          "name": "stderr",
          "output_type": "stream",
          "text": [
            "\rMOSEAS Regression:  50%|█████     | 126/250 [10:21<09:59,  4.84s/it]"
          ]
        },
        {
          "name": "stdout",
          "output_type": "stream",
          "text": [
            "Train Loss - MOSEAS Regression:  0.565\n",
            "Test Loss - MOSEAS Regression:  0.6981\n",
            "Train MAE - MOSEAS Regression:  0.5565\n",
            "Test MAE - MOSEAS Regression:  0.6222\n",
            "Train Pearson - MOSEAS Regression:  0.5323\n",
            "Test Pearson - MOSEAS Regression:  0.314\n"
          ]
        },
        {
          "name": "stderr",
          "output_type": "stream",
          "text": [
            "\rMOSEAS Regression:  51%|█████     | 127/250 [10:26<09:48,  4.79s/it]"
          ]
        },
        {
          "name": "stdout",
          "output_type": "stream",
          "text": [
            "Train Loss - MOSEAS Regression:  0.5634\n",
            "Test Loss - MOSEAS Regression:  0.6981\n",
            "Train MAE - MOSEAS Regression:  0.5589\n",
            "Test MAE - MOSEAS Regression:  0.6243\n",
            "Train Pearson - MOSEAS Regression:  0.5342\n",
            "Test Pearson - MOSEAS Regression:  0.3146\n"
          ]
        },
        {
          "name": "stderr",
          "output_type": "stream",
          "text": [
            "\rMOSEAS Regression:  51%|█████     | 128/250 [10:31<09:35,  4.71s/it]"
          ]
        },
        {
          "name": "stdout",
          "output_type": "stream",
          "text": [
            "Train Loss - MOSEAS Regression:  0.5572\n",
            "Test Loss - MOSEAS Regression:  0.6993\n",
            "Train MAE - MOSEAS Regression:  0.555\n",
            "Test MAE - MOSEAS Regression:  0.6268\n",
            "Train Pearson - MOSEAS Regression:  0.5414\n",
            "Test Pearson - MOSEAS Regression:  0.3143\n"
          ]
        },
        {
          "name": "stderr",
          "output_type": "stream",
          "text": [
            "\rMOSEAS Regression:  52%|█████▏    | 129/250 [10:36<09:44,  4.83s/it]"
          ]
        },
        {
          "name": "stdout",
          "output_type": "stream",
          "text": [
            "Train Loss - MOSEAS Regression:  0.5572\n",
            "Test Loss - MOSEAS Regression:  0.6971\n",
            "Train MAE - MOSEAS Regression:  0.5543\n",
            "Test MAE - MOSEAS Regression:  0.6225\n",
            "Train Pearson - MOSEAS Regression:  0.5425\n",
            "Test Pearson - MOSEAS Regression:  0.317\n"
          ]
        },
        {
          "name": "stderr",
          "output_type": "stream",
          "text": [
            "\rMOSEAS Regression:  52%|█████▏    | 130/250 [10:40<09:37,  4.82s/it]"
          ]
        },
        {
          "name": "stdout",
          "output_type": "stream",
          "text": [
            "Train Loss - MOSEAS Regression:  0.5524\n",
            "Test Loss - MOSEAS Regression:  0.6984\n",
            "Train MAE - MOSEAS Regression:  0.5518\n",
            "Test MAE - MOSEAS Regression:  0.6238\n",
            "Train Pearson - MOSEAS Regression:  0.5472\n",
            "Test Pearson - MOSEAS Regression:  0.3167\n"
          ]
        },
        {
          "name": "stderr",
          "output_type": "stream",
          "text": [
            "\rMOSEAS Regression:  52%|█████▏    | 131/250 [10:46<09:45,  4.92s/it]"
          ]
        },
        {
          "name": "stdout",
          "output_type": "stream",
          "text": [
            "Train Loss - MOSEAS Regression:  0.5473\n",
            "Test Loss - MOSEAS Regression:  0.7011\n",
            "Train MAE - MOSEAS Regression:  0.55\n",
            "Test MAE - MOSEAS Regression:  0.6271\n",
            "Train Pearson - MOSEAS Regression:  0.5533\n",
            "Test Pearson - MOSEAS Regression:  0.3152\n"
          ]
        },
        {
          "name": "stderr",
          "output_type": "stream",
          "text": [
            "\rMOSEAS Regression:  53%|█████▎    | 132/250 [10:50<09:26,  4.80s/it]"
          ]
        },
        {
          "name": "stdout",
          "output_type": "stream",
          "text": [
            "Train Loss - MOSEAS Regression:  0.5595\n",
            "Test Loss - MOSEAS Regression:  0.6979\n",
            "Train MAE - MOSEAS Regression:  0.5597\n",
            "Test MAE - MOSEAS Regression:  0.622\n",
            "Train Pearson - MOSEAS Regression:  0.539\n",
            "Test Pearson - MOSEAS Regression:  0.3195\n"
          ]
        },
        {
          "name": "stderr",
          "output_type": "stream",
          "text": [
            "\rMOSEAS Regression:  53%|█████▎    | 133/250 [10:55<09:08,  4.69s/it]"
          ]
        },
        {
          "name": "stdout",
          "output_type": "stream",
          "text": [
            "Train Loss - MOSEAS Regression:  0.5501\n",
            "Test Loss - MOSEAS Regression:  0.6965\n",
            "Train MAE - MOSEAS Regression:  0.5468\n",
            "Test MAE - MOSEAS Regression:  0.6211\n",
            "Train Pearson - MOSEAS Regression:  0.5502\n",
            "Test Pearson - MOSEAS Regression:  0.3216\n"
          ]
        },
        {
          "name": "stderr",
          "output_type": "stream",
          "text": [
            "\rMOSEAS Regression:  54%|█████▎    | 134/250 [10:59<09:00,  4.66s/it]"
          ]
        },
        {
          "name": "stdout",
          "output_type": "stream",
          "text": [
            "Train Loss - MOSEAS Regression:  0.549\n",
            "Test Loss - MOSEAS Regression:  0.6975\n",
            "Train MAE - MOSEAS Regression:  0.5518\n",
            "Test MAE - MOSEAS Regression:  0.6258\n",
            "Train Pearson - MOSEAS Regression:  0.5514\n",
            "Test Pearson - MOSEAS Regression:  0.3208\n"
          ]
        },
        {
          "name": "stderr",
          "output_type": "stream",
          "text": [
            "\rMOSEAS Regression:  54%|█████▍    | 135/250 [11:04<09:03,  4.73s/it]"
          ]
        },
        {
          "name": "stdout",
          "output_type": "stream",
          "text": [
            "Train Loss - MOSEAS Regression:  0.549\n",
            "Test Loss - MOSEAS Regression:  0.6927\n",
            "Train MAE - MOSEAS Regression:  0.5524\n",
            "Test MAE - MOSEAS Regression:  0.6219\n",
            "Train Pearson - MOSEAS Regression:  0.5516\n",
            "Test Pearson - MOSEAS Regression:  0.3259\n"
          ]
        },
        {
          "name": "stderr",
          "output_type": "stream",
          "text": [
            "\rMOSEAS Regression:  54%|█████▍    | 136/250 [11:09<09:14,  4.86s/it]"
          ]
        },
        {
          "name": "stdout",
          "output_type": "stream",
          "text": [
            "Train Loss - MOSEAS Regression:  0.5404\n",
            "Test Loss - MOSEAS Regression:  0.6885\n",
            "Train MAE - MOSEAS Regression:  0.5481\n",
            "Test MAE - MOSEAS Regression:  0.6148\n",
            "Train Pearson - MOSEAS Regression:  0.5611\n",
            "Test Pearson - MOSEAS Regression:  0.3318\n",
            "saving checkpoint for epoch 135\n"
          ]
        },
        {
          "name": "stderr",
          "output_type": "stream",
          "text": [
            "\rMOSEAS Regression:  55%|█████▍    | 137/250 [11:14<09:19,  4.95s/it]"
          ]
        },
        {
          "name": "stdout",
          "output_type": "stream",
          "text": [
            "Train Loss - MOSEAS Regression:  0.5511\n",
            "Test Loss - MOSEAS Regression:  0.6959\n",
            "Train MAE - MOSEAS Regression:  0.5536\n",
            "Test MAE - MOSEAS Regression:  0.6296\n",
            "Train Pearson - MOSEAS Regression:  0.5486\n",
            "Test Pearson - MOSEAS Regression:  0.3255\n"
          ]
        },
        {
          "name": "stderr",
          "output_type": "stream",
          "text": [
            "\rMOSEAS Regression:  55%|█████▌    | 138/250 [11:19<09:17,  4.97s/it]"
          ]
        },
        {
          "name": "stdout",
          "output_type": "stream",
          "text": [
            "Train Loss - MOSEAS Regression:  0.5474\n",
            "Test Loss - MOSEAS Regression:  0.6871\n",
            "Train MAE - MOSEAS Regression:  0.5517\n",
            "Test MAE - MOSEAS Regression:  0.6151\n",
            "Train Pearson - MOSEAS Regression:  0.5542\n",
            "Test Pearson - MOSEAS Regression:  0.3343\n",
            "saving checkpoint for epoch 137\n"
          ]
        },
        {
          "name": "stderr",
          "output_type": "stream",
          "text": [
            "\rMOSEAS Regression:  56%|█████▌    | 139/250 [11:24<09:12,  4.98s/it]"
          ]
        },
        {
          "name": "stdout",
          "output_type": "stream",
          "text": [
            "Train Loss - MOSEAS Regression:  0.54\n",
            "Test Loss - MOSEAS Regression:  0.6869\n",
            "Train MAE - MOSEAS Regression:  0.5408\n",
            "Test MAE - MOSEAS Regression:  0.6177\n",
            "Train Pearson - MOSEAS Regression:  0.5623\n",
            "Test Pearson - MOSEAS Regression:  0.3341\n",
            "saving checkpoint for epoch 138\n"
          ]
        },
        {
          "name": "stderr",
          "output_type": "stream",
          "text": [
            "\rMOSEAS Regression:  56%|█████▌    | 140/250 [11:29<08:50,  4.82s/it]"
          ]
        },
        {
          "name": "stdout",
          "output_type": "stream",
          "text": [
            "Train Loss - MOSEAS Regression:  0.5465\n",
            "Test Loss - MOSEAS Regression:  0.6897\n",
            "Train MAE - MOSEAS Regression:  0.551\n",
            "Test MAE - MOSEAS Regression:  0.624\n",
            "Train Pearson - MOSEAS Regression:  0.5538\n",
            "Test Pearson - MOSEAS Regression:  0.3315\n"
          ]
        },
        {
          "name": "stderr",
          "output_type": "stream",
          "text": [
            "\rMOSEAS Regression:  56%|█████▋    | 141/250 [11:33<08:38,  4.75s/it]"
          ]
        },
        {
          "name": "stdout",
          "output_type": "stream",
          "text": [
            "Train Loss - MOSEAS Regression:  0.5396\n",
            "Test Loss - MOSEAS Regression:  0.6833\n",
            "Train MAE - MOSEAS Regression:  0.5454\n",
            "Test MAE - MOSEAS Regression:  0.6174\n",
            "Train Pearson - MOSEAS Regression:  0.5622\n",
            "Test Pearson - MOSEAS Regression:  0.3379\n",
            "saving checkpoint for epoch 140\n"
          ]
        },
        {
          "name": "stderr",
          "output_type": "stream",
          "text": [
            "\rMOSEAS Regression:  57%|█████▋    | 142/250 [11:38<08:37,  4.79s/it]"
          ]
        },
        {
          "name": "stdout",
          "output_type": "stream",
          "text": [
            "Train Loss - MOSEAS Regression:  0.539\n",
            "Test Loss - MOSEAS Regression:  0.6813\n",
            "Train MAE - MOSEAS Regression:  0.5443\n",
            "Test MAE - MOSEAS Regression:  0.615\n",
            "Train Pearson - MOSEAS Regression:  0.5624\n",
            "Test Pearson - MOSEAS Regression:  0.3408\n",
            "saving checkpoint for epoch 141\n"
          ]
        },
        {
          "name": "stderr",
          "output_type": "stream",
          "text": [
            "\rMOSEAS Regression:  57%|█████▋    | 143/250 [11:43<08:30,  4.77s/it]"
          ]
        },
        {
          "name": "stdout",
          "output_type": "stream",
          "text": [
            "Train Loss - MOSEAS Regression:  0.536\n",
            "Test Loss - MOSEAS Regression:  0.6867\n",
            "Train MAE - MOSEAS Regression:  0.5486\n",
            "Test MAE - MOSEAS Regression:  0.6231\n",
            "Train Pearson - MOSEAS Regression:  0.5663\n",
            "Test Pearson - MOSEAS Regression:  0.3358\n"
          ]
        },
        {
          "name": "stderr",
          "output_type": "stream",
          "text": [
            "\rMOSEAS Regression:  58%|█████▊    | 144/250 [11:48<08:23,  4.75s/it]"
          ]
        },
        {
          "name": "stdout",
          "output_type": "stream",
          "text": [
            "Train Loss - MOSEAS Regression:  0.5353\n",
            "Test Loss - MOSEAS Regression:  0.6817\n",
            "Train MAE - MOSEAS Regression:  0.5481\n",
            "Test MAE - MOSEAS Regression:  0.6154\n",
            "Train Pearson - MOSEAS Regression:  0.5677\n",
            "Test Pearson - MOSEAS Regression:  0.3417\n"
          ]
        },
        {
          "name": "stderr",
          "output_type": "stream",
          "text": [
            "\rMOSEAS Regression:  58%|█████▊    | 145/250 [11:53<08:30,  4.86s/it]"
          ]
        },
        {
          "name": "stdout",
          "output_type": "stream",
          "text": [
            "Train Loss - MOSEAS Regression:  0.5424\n",
            "Test Loss - MOSEAS Regression:  0.6823\n",
            "Train MAE - MOSEAS Regression:  0.5499\n",
            "Test MAE - MOSEAS Regression:  0.617\n",
            "Train Pearson - MOSEAS Regression:  0.5603\n",
            "Test Pearson - MOSEAS Regression:  0.3416\n"
          ]
        },
        {
          "name": "stderr",
          "output_type": "stream",
          "text": [
            "\rMOSEAS Regression:  58%|█████▊    | 146/250 [11:58<08:24,  4.85s/it]"
          ]
        },
        {
          "name": "stdout",
          "output_type": "stream",
          "text": [
            "Train Loss - MOSEAS Regression:  0.5338\n",
            "Test Loss - MOSEAS Regression:  0.6902\n",
            "Train MAE - MOSEAS Regression:  0.5469\n",
            "Test MAE - MOSEAS Regression:  0.6267\n",
            "Train Pearson - MOSEAS Regression:  0.5686\n",
            "Test Pearson - MOSEAS Regression:  0.336\n"
          ]
        },
        {
          "name": "stderr",
          "output_type": "stream",
          "text": [
            "\rMOSEAS Regression:  59%|█████▉    | 147/250 [12:03<08:19,  4.85s/it]"
          ]
        },
        {
          "name": "stdout",
          "output_type": "stream",
          "text": [
            "Train Loss - MOSEAS Regression:  0.5346\n",
            "Test Loss - MOSEAS Regression:  0.6819\n",
            "Train MAE - MOSEAS Regression:  0.5488\n",
            "Test MAE - MOSEAS Regression:  0.6127\n",
            "Train Pearson - MOSEAS Regression:  0.5677\n",
            "Test Pearson - MOSEAS Regression:  0.345\n"
          ]
        },
        {
          "name": "stderr",
          "output_type": "stream",
          "text": [
            "\rMOSEAS Regression:  59%|█████▉    | 148/250 [12:07<08:04,  4.75s/it]"
          ]
        },
        {
          "name": "stdout",
          "output_type": "stream",
          "text": [
            "Train Loss - MOSEAS Regression:  0.5316\n",
            "Test Loss - MOSEAS Regression:  0.6851\n",
            "Train MAE - MOSEAS Regression:  0.5407\n",
            "Test MAE - MOSEAS Regression:  0.6206\n",
            "Train Pearson - MOSEAS Regression:  0.5717\n",
            "Test Pearson - MOSEAS Regression:  0.3408\n"
          ]
        },
        {
          "name": "stderr",
          "output_type": "stream",
          "text": [
            "\rMOSEAS Regression:  60%|█████▉    | 149/250 [12:12<08:04,  4.79s/it]"
          ]
        },
        {
          "name": "stdout",
          "output_type": "stream",
          "text": [
            "Train Loss - MOSEAS Regression:  0.5242\n",
            "Test Loss - MOSEAS Regression:  0.6852\n",
            "Train MAE - MOSEAS Regression:  0.5417\n",
            "Test MAE - MOSEAS Regression:  0.6202\n",
            "Train Pearson - MOSEAS Regression:  0.5794\n",
            "Test Pearson - MOSEAS Regression:  0.3412\n"
          ]
        },
        {
          "name": "stderr",
          "output_type": "stream",
          "text": [
            "\rMOSEAS Regression:  60%|██████    | 150/250 [12:17<08:02,  4.82s/it]"
          ]
        },
        {
          "name": "stdout",
          "output_type": "stream",
          "text": [
            "Train Loss - MOSEAS Regression:  0.5245\n",
            "Test Loss - MOSEAS Regression:  0.6821\n",
            "Train MAE - MOSEAS Regression:  0.5401\n",
            "Test MAE - MOSEAS Regression:  0.6148\n",
            "Train Pearson - MOSEAS Regression:  0.58\n",
            "Test Pearson - MOSEAS Regression:  0.3462\n"
          ]
        },
        {
          "name": "stderr",
          "output_type": "stream",
          "text": [
            "\rMOSEAS Regression:  60%|██████    | 151/250 [12:22<07:56,  4.81s/it]"
          ]
        },
        {
          "name": "stdout",
          "output_type": "stream",
          "text": [
            "Train Loss - MOSEAS Regression:  0.5208\n",
            "Test Loss - MOSEAS Regression:  0.6847\n",
            "Train MAE - MOSEAS Regression:  0.5392\n",
            "Test MAE - MOSEAS Regression:  0.6215\n",
            "Train Pearson - MOSEAS Regression:  0.584\n",
            "Test Pearson - MOSEAS Regression:  0.3437\n"
          ]
        },
        {
          "name": "stderr",
          "output_type": "stream",
          "text": [
            "\rMOSEAS Regression:  61%|██████    | 152/250 [12:26<07:43,  4.73s/it]"
          ]
        },
        {
          "name": "stdout",
          "output_type": "stream",
          "text": [
            "Train Loss - MOSEAS Regression:  0.52\n",
            "Test Loss - MOSEAS Regression:  0.6837\n",
            "Train MAE - MOSEAS Regression:  0.5397\n",
            "Test MAE - MOSEAS Regression:  0.6213\n",
            "Train Pearson - MOSEAS Regression:  0.5843\n",
            "Test Pearson - MOSEAS Regression:  0.3456\n"
          ]
        },
        {
          "name": "stderr",
          "output_type": "stream",
          "text": [
            "\rMOSEAS Regression:  61%|██████    | 153/250 [12:31<07:44,  4.79s/it]"
          ]
        },
        {
          "name": "stdout",
          "output_type": "stream",
          "text": [
            "Train Loss - MOSEAS Regression:  0.5197\n",
            "Test Loss - MOSEAS Regression:  0.6796\n",
            "Train MAE - MOSEAS Regression:  0.5402\n",
            "Test MAE - MOSEAS Regression:  0.6166\n",
            "Train Pearson - MOSEAS Regression:  0.584\n",
            "Test Pearson - MOSEAS Regression:  0.3509\n",
            "saving checkpoint for epoch 152\n"
          ]
        },
        {
          "name": "stderr",
          "output_type": "stream",
          "text": [
            "\rMOSEAS Regression:  62%|██████▏   | 154/250 [12:36<07:49,  4.89s/it]"
          ]
        },
        {
          "name": "stdout",
          "output_type": "stream",
          "text": [
            "Train Loss - MOSEAS Regression:  0.5158\n",
            "Test Loss - MOSEAS Regression:  0.6807\n",
            "Train MAE - MOSEAS Regression:  0.5389\n",
            "Test MAE - MOSEAS Regression:  0.6191\n",
            "Train Pearson - MOSEAS Regression:  0.588\n",
            "Test Pearson - MOSEAS Regression:  0.3506\n"
          ]
        },
        {
          "name": "stderr",
          "output_type": "stream",
          "text": [
            "\rMOSEAS Regression:  62%|██████▏   | 155/250 [12:41<07:53,  4.98s/it]"
          ]
        },
        {
          "name": "stdout",
          "output_type": "stream",
          "text": [
            "Train Loss - MOSEAS Regression:  0.5231\n",
            "Test Loss - MOSEAS Regression:  0.6799\n",
            "Train MAE - MOSEAS Regression:  0.5441\n",
            "Test MAE - MOSEAS Regression:  0.6189\n",
            "Train Pearson - MOSEAS Regression:  0.58\n",
            "Test Pearson - MOSEAS Regression:  0.3518\n"
          ]
        },
        {
          "name": "stderr",
          "output_type": "stream",
          "text": [
            "\rMOSEAS Regression:  62%|██████▏   | 156/250 [12:46<07:39,  4.89s/it]"
          ]
        },
        {
          "name": "stdout",
          "output_type": "stream",
          "text": [
            "Train Loss - MOSEAS Regression:  0.5167\n",
            "Test Loss - MOSEAS Regression:  0.6781\n",
            "Train MAE - MOSEAS Regression:  0.5383\n",
            "Test MAE - MOSEAS Regression:  0.619\n",
            "Train Pearson - MOSEAS Regression:  0.5872\n",
            "Test Pearson - MOSEAS Regression:  0.3534\n",
            "saving checkpoint for epoch 155\n"
          ]
        },
        {
          "name": "stderr",
          "output_type": "stream",
          "text": [
            "\rMOSEAS Regression:  63%|██████▎   | 157/250 [12:51<07:31,  4.86s/it]"
          ]
        },
        {
          "name": "stdout",
          "output_type": "stream",
          "text": [
            "Train Loss - MOSEAS Regression:  0.5127\n",
            "Test Loss - MOSEAS Regression:  0.6784\n",
            "Train MAE - MOSEAS Regression:  0.5373\n",
            "Test MAE - MOSEAS Regression:  0.6209\n",
            "Train Pearson - MOSEAS Regression:  0.5919\n",
            "Test Pearson - MOSEAS Regression:  0.3534\n"
          ]
        },
        {
          "name": "stderr",
          "output_type": "stream",
          "text": [
            "\rMOSEAS Regression:  63%|██████▎   | 158/250 [12:56<07:30,  4.90s/it]"
          ]
        },
        {
          "name": "stdout",
          "output_type": "stream",
          "text": [
            "Train Loss - MOSEAS Regression:  0.5177\n",
            "Test Loss - MOSEAS Regression:  0.6745\n",
            "Train MAE - MOSEAS Regression:  0.5391\n",
            "Test MAE - MOSEAS Regression:  0.6093\n",
            "Train Pearson - MOSEAS Regression:  0.5858\n",
            "Test Pearson - MOSEAS Regression:  0.3628\n",
            "saving checkpoint for epoch 157\n"
          ]
        },
        {
          "name": "stderr",
          "output_type": "stream",
          "text": [
            "\rMOSEAS Regression:  64%|██████▎   | 159/250 [13:00<07:16,  4.80s/it]"
          ]
        },
        {
          "name": "stdout",
          "output_type": "stream",
          "text": [
            "Train Loss - MOSEAS Regression:  0.5216\n",
            "Test Loss - MOSEAS Regression:  0.6807\n",
            "Train MAE - MOSEAS Regression:  0.5387\n",
            "Test MAE - MOSEAS Regression:  0.6259\n",
            "Train Pearson - MOSEAS Regression:  0.5858\n",
            "Test Pearson - MOSEAS Regression:  0.3529\n"
          ]
        },
        {
          "name": "stderr",
          "output_type": "stream",
          "text": [
            "\rMOSEAS Regression:  64%|██████▍   | 160/250 [13:05<07:12,  4.81s/it]"
          ]
        },
        {
          "name": "stdout",
          "output_type": "stream",
          "text": [
            "Train Loss - MOSEAS Regression:  0.5192\n",
            "Test Loss - MOSEAS Regression:  0.6694\n",
            "Train MAE - MOSEAS Regression:  0.5453\n",
            "Test MAE - MOSEAS Regression:  0.6131\n",
            "Train Pearson - MOSEAS Regression:  0.5887\n",
            "Test Pearson - MOSEAS Regression:  0.3619\n",
            "saving checkpoint for epoch 159\n"
          ]
        },
        {
          "name": "stderr",
          "output_type": "stream",
          "text": [
            "\rMOSEAS Regression:  64%|██████▍   | 161/250 [13:10<07:12,  4.86s/it]"
          ]
        },
        {
          "name": "stdout",
          "output_type": "stream",
          "text": [
            "Train Loss - MOSEAS Regression:  0.5166\n",
            "Test Loss - MOSEAS Regression:  0.6684\n",
            "Train MAE - MOSEAS Regression:  0.5382\n",
            "Test MAE - MOSEAS Regression:  0.6074\n",
            "Train Pearson - MOSEAS Regression:  0.5875\n",
            "Test Pearson - MOSEAS Regression:  0.3667\n",
            "saving checkpoint for epoch 160\n"
          ]
        },
        {
          "name": "stderr",
          "output_type": "stream",
          "text": [
            "\rMOSEAS Regression:  65%|██████▍   | 162/250 [13:15<07:04,  4.83s/it]"
          ]
        },
        {
          "name": "stdout",
          "output_type": "stream",
          "text": [
            "Train Loss - MOSEAS Regression:  0.513\n",
            "Test Loss - MOSEAS Regression:  0.6828\n",
            "Train MAE - MOSEAS Regression:  0.5308\n",
            "Test MAE - MOSEAS Regression:  0.6285\n",
            "Train Pearson - MOSEAS Regression:  0.5927\n",
            "Test Pearson - MOSEAS Regression:  0.3527\n"
          ]
        },
        {
          "name": "stderr",
          "output_type": "stream",
          "text": [
            "\rMOSEAS Regression:  65%|██████▌   | 163/250 [13:19<06:46,  4.67s/it]"
          ]
        },
        {
          "name": "stdout",
          "output_type": "stream",
          "text": [
            "Train Loss - MOSEAS Regression:  0.5161\n",
            "Test Loss - MOSEAS Regression:  0.6701\n",
            "Train MAE - MOSEAS Regression:  0.5376\n",
            "Test MAE - MOSEAS Regression:  0.6123\n",
            "Train Pearson - MOSEAS Regression:  0.5909\n",
            "Test Pearson - MOSEAS Regression:  0.3627\n"
          ]
        },
        {
          "name": "stderr",
          "output_type": "stream",
          "text": [
            "\rMOSEAS Regression:  66%|██████▌   | 164/250 [13:24<06:47,  4.73s/it]"
          ]
        },
        {
          "name": "stdout",
          "output_type": "stream",
          "text": [
            "Train Loss - MOSEAS Regression:  0.5078\n",
            "Test Loss - MOSEAS Regression:  0.6699\n",
            "Train MAE - MOSEAS Regression:  0.5314\n",
            "Test MAE - MOSEAS Regression:  0.6087\n",
            "Train Pearson - MOSEAS Regression:  0.6006\n",
            "Test Pearson - MOSEAS Regression:  0.3675\n"
          ]
        },
        {
          "name": "stderr",
          "output_type": "stream",
          "text": [
            "\rMOSEAS Regression:  66%|██████▌   | 165/250 [13:29<06:45,  4.77s/it]"
          ]
        },
        {
          "name": "stdout",
          "output_type": "stream",
          "text": [
            "Train Loss - MOSEAS Regression:  0.511\n",
            "Test Loss - MOSEAS Regression:  0.6864\n",
            "Train MAE - MOSEAS Regression:  0.5347\n",
            "Test MAE - MOSEAS Regression:  0.6319\n",
            "Train Pearson - MOSEAS Regression:  0.5946\n",
            "Test Pearson - MOSEAS Regression:  0.3528\n"
          ]
        },
        {
          "name": "stderr",
          "output_type": "stream",
          "text": [
            "\rMOSEAS Regression:  66%|██████▋   | 166/250 [13:34<06:43,  4.81s/it]"
          ]
        },
        {
          "name": "stdout",
          "output_type": "stream",
          "text": [
            "Train Loss - MOSEAS Regression:  0.5105\n",
            "Test Loss - MOSEAS Regression:  0.6687\n",
            "Train MAE - MOSEAS Regression:  0.5396\n",
            "Test MAE - MOSEAS Regression:  0.6121\n",
            "Train Pearson - MOSEAS Regression:  0.5981\n",
            "Test Pearson - MOSEAS Regression:  0.3659\n"
          ]
        },
        {
          "name": "stderr",
          "output_type": "stream",
          "text": [
            "\rMOSEAS Regression:  67%|██████▋   | 167/250 [13:38<06:31,  4.72s/it]"
          ]
        },
        {
          "name": "stdout",
          "output_type": "stream",
          "text": [
            "Train Loss - MOSEAS Regression:  0.5036\n",
            "Test Loss - MOSEAS Regression:  0.6683\n",
            "Train MAE - MOSEAS Regression:  0.5296\n",
            "Test MAE - MOSEAS Regression:  0.6083\n",
            "Train Pearson - MOSEAS Regression:  0.6027\n",
            "Test Pearson - MOSEAS Regression:  0.3702\n",
            "saving checkpoint for epoch 166\n"
          ]
        },
        {
          "name": "stderr",
          "output_type": "stream",
          "text": [
            "\rMOSEAS Regression:  67%|██████▋   | 168/250 [13:43<06:34,  4.82s/it]"
          ]
        },
        {
          "name": "stdout",
          "output_type": "stream",
          "text": [
            "Train Loss - MOSEAS Regression:  0.5054\n",
            "Test Loss - MOSEAS Regression:  0.677\n",
            "Train MAE - MOSEAS Regression:  0.5327\n",
            "Test MAE - MOSEAS Regression:  0.6248\n",
            "Train Pearson - MOSEAS Regression:  0.6002\n",
            "Test Pearson - MOSEAS Regression:  0.3622\n"
          ]
        },
        {
          "name": "stderr",
          "output_type": "stream",
          "text": [
            "\rMOSEAS Regression:  68%|██████▊   | 169/250 [13:49<06:38,  4.92s/it]"
          ]
        },
        {
          "name": "stdout",
          "output_type": "stream",
          "text": [
            "Train Loss - MOSEAS Regression:  0.5031\n",
            "Test Loss - MOSEAS Regression:  0.6699\n",
            "Train MAE - MOSEAS Regression:  0.5375\n",
            "Test MAE - MOSEAS Regression:  0.6111\n",
            "Train Pearson - MOSEAS Regression:  0.6059\n",
            "Test Pearson - MOSEAS Regression:  0.3691\n"
          ]
        },
        {
          "name": "stderr",
          "output_type": "stream",
          "text": [
            "\rMOSEAS Regression:  68%|██████▊   | 170/250 [13:53<06:24,  4.81s/it]"
          ]
        },
        {
          "name": "stdout",
          "output_type": "stream",
          "text": [
            "Train Loss - MOSEAS Regression:  0.5028\n",
            "Test Loss - MOSEAS Regression:  0.6723\n",
            "Train MAE - MOSEAS Regression:  0.5277\n",
            "Test MAE - MOSEAS Regression:  0.6114\n",
            "Train Pearson - MOSEAS Regression:  0.6037\n",
            "Test Pearson - MOSEAS Regression:  0.3694\n"
          ]
        },
        {
          "name": "stderr",
          "output_type": "stream",
          "text": [
            "\rMOSEAS Regression:  68%|██████▊   | 171/250 [13:58<06:12,  4.71s/it]"
          ]
        },
        {
          "name": "stdout",
          "output_type": "stream",
          "text": [
            "Train Loss - MOSEAS Regression:  0.5064\n",
            "Test Loss - MOSEAS Regression:  0.6836\n",
            "Train MAE - MOSEAS Regression:  0.5322\n",
            "Test MAE - MOSEAS Regression:  0.6284\n",
            "Train Pearson - MOSEAS Regression:  0.5982\n",
            "Test Pearson - MOSEAS Regression:  0.3593\n"
          ]
        },
        {
          "name": "stderr",
          "output_type": "stream",
          "text": [
            "\rMOSEAS Regression:  69%|██████▉   | 172/250 [14:02<06:09,  4.73s/it]"
          ]
        },
        {
          "name": "stdout",
          "output_type": "stream",
          "text": [
            "Train Loss - MOSEAS Regression:  0.5031\n",
            "Test Loss - MOSEAS Regression:  0.6737\n",
            "Train MAE - MOSEAS Regression:  0.5378\n",
            "Test MAE - MOSEAS Regression:  0.6153\n",
            "Train Pearson - MOSEAS Regression:  0.6032\n",
            "Test Pearson - MOSEAS Regression:  0.368\n"
          ]
        },
        {
          "name": "stderr",
          "output_type": "stream",
          "text": [
            "\rMOSEAS Regression:  69%|██████▉   | 173/250 [14:08<06:13,  4.85s/it]"
          ]
        },
        {
          "name": "stdout",
          "output_type": "stream",
          "text": [
            "Train Loss - MOSEAS Regression:  0.4894\n",
            "Test Loss - MOSEAS Regression:  0.6743\n",
            "Train MAE - MOSEAS Regression:  0.5233\n",
            "Test MAE - MOSEAS Regression:  0.6174\n",
            "Train Pearson - MOSEAS Regression:  0.6188\n",
            "Test Pearson - MOSEAS Regression:  0.3673\n"
          ]
        },
        {
          "name": "stderr",
          "output_type": "stream",
          "text": [
            "\rMOSEAS Regression:  70%|██████▉   | 174/250 [14:13<06:10,  4.87s/it]"
          ]
        },
        {
          "name": "stdout",
          "output_type": "stream",
          "text": [
            "Train Loss - MOSEAS Regression:  0.4969\n",
            "Test Loss - MOSEAS Regression:  0.6803\n",
            "Train MAE - MOSEAS Regression:  0.5294\n",
            "Test MAE - MOSEAS Regression:  0.625\n",
            "Train Pearson - MOSEAS Regression:  0.6079\n",
            "Test Pearson - MOSEAS Regression:  0.3627\n"
          ]
        },
        {
          "name": "stderr",
          "output_type": "stream",
          "text": [
            "\rMOSEAS Regression:  70%|███████   | 175/250 [14:17<06:06,  4.89s/it]"
          ]
        },
        {
          "name": "stdout",
          "output_type": "stream",
          "text": [
            "Train Loss - MOSEAS Regression:  0.4949\n",
            "Test Loss - MOSEAS Regression:  0.6699\n",
            "Train MAE - MOSEAS Regression:  0.5298\n",
            "Test MAE - MOSEAS Regression:  0.6149\n",
            "Train Pearson - MOSEAS Regression:  0.6105\n",
            "Test Pearson - MOSEAS Regression:  0.3728\n"
          ]
        },
        {
          "name": "stderr",
          "output_type": "stream",
          "text": [
            "\rMOSEAS Regression:  70%|███████   | 176/250 [14:23<06:07,  4.96s/it]"
          ]
        },
        {
          "name": "stdout",
          "output_type": "stream",
          "text": [
            "Train Loss - MOSEAS Regression:  0.4902\n",
            "Test Loss - MOSEAS Regression:  0.6698\n",
            "Train MAE - MOSEAS Regression:  0.5238\n",
            "Test MAE - MOSEAS Regression:  0.6178\n",
            "Train Pearson - MOSEAS Regression:  0.6158\n",
            "Test Pearson - MOSEAS Regression:  0.372\n"
          ]
        },
        {
          "name": "stderr",
          "output_type": "stream",
          "text": [
            "\rMOSEAS Regression:  71%|███████   | 177/250 [14:28<06:05,  5.01s/it]"
          ]
        },
        {
          "name": "stdout",
          "output_type": "stream",
          "text": [
            "Train Loss - MOSEAS Regression:  0.4886\n",
            "Test Loss - MOSEAS Regression:  0.6701\n",
            "Train MAE - MOSEAS Regression:  0.5255\n",
            "Test MAE - MOSEAS Regression:  0.6197\n",
            "Train Pearson - MOSEAS Regression:  0.6171\n",
            "Test Pearson - MOSEAS Regression:  0.3722\n"
          ]
        },
        {
          "name": "stderr",
          "output_type": "stream",
          "text": [
            "\rMOSEAS Regression:  71%|███████   | 178/250 [14:33<06:00,  5.00s/it]"
          ]
        },
        {
          "name": "stdout",
          "output_type": "stream",
          "text": [
            "Train Loss - MOSEAS Regression:  0.4934\n",
            "Test Loss - MOSEAS Regression:  0.6668\n",
            "Train MAE - MOSEAS Regression:  0.5262\n",
            "Test MAE - MOSEAS Regression:  0.615\n",
            "Train Pearson - MOSEAS Regression:  0.6122\n",
            "Test Pearson - MOSEAS Regression:  0.376\n",
            "saving checkpoint for epoch 177\n"
          ]
        },
        {
          "name": "stderr",
          "output_type": "stream",
          "text": [
            "\rMOSEAS Regression:  72%|███████▏  | 179/250 [14:37<05:35,  4.72s/it]"
          ]
        },
        {
          "name": "stdout",
          "output_type": "stream",
          "text": [
            "Train Loss - MOSEAS Regression:  0.4841\n",
            "Test Loss - MOSEAS Regression:  0.6699\n",
            "Train MAE - MOSEAS Regression:  0.5229\n",
            "Test MAE - MOSEAS Regression:  0.6182\n",
            "Train Pearson - MOSEAS Regression:  0.6218\n",
            "Test Pearson - MOSEAS Regression:  0.3732\n"
          ]
        },
        {
          "name": "stderr",
          "output_type": "stream",
          "text": [
            "\rMOSEAS Regression:  72%|███████▏  | 180/250 [14:42<05:32,  4.75s/it]"
          ]
        },
        {
          "name": "stdout",
          "output_type": "stream",
          "text": [
            "Train Loss - MOSEAS Regression:  0.4818\n",
            "Test Loss - MOSEAS Regression:  0.6735\n",
            "Train MAE - MOSEAS Regression:  0.5211\n",
            "Test MAE - MOSEAS Regression:  0.622\n",
            "Train Pearson - MOSEAS Regression:  0.624\n",
            "Test Pearson - MOSEAS Regression:  0.3707\n"
          ]
        },
        {
          "name": "stderr",
          "output_type": "stream",
          "text": [
            "\rMOSEAS Regression:  72%|███████▏  | 181/250 [14:47<05:36,  4.88s/it]"
          ]
        },
        {
          "name": "stdout",
          "output_type": "stream",
          "text": [
            "Train Loss - MOSEAS Regression:  0.4854\n",
            "Test Loss - MOSEAS Regression:  0.6669\n",
            "Train MAE - MOSEAS Regression:  0.5247\n",
            "Test MAE - MOSEAS Regression:  0.6137\n",
            "Train Pearson - MOSEAS Regression:  0.62\n",
            "Test Pearson - MOSEAS Regression:  0.3782\n"
          ]
        },
        {
          "name": "stderr",
          "output_type": "stream",
          "text": [
            "\rMOSEAS Regression:  73%|███████▎  | 182/250 [14:51<05:26,  4.80s/it]"
          ]
        },
        {
          "name": "stdout",
          "output_type": "stream",
          "text": [
            "Train Loss - MOSEAS Regression:  0.4841\n",
            "Test Loss - MOSEAS Regression:  0.665\n",
            "Train MAE - MOSEAS Regression:  0.5199\n",
            "Test MAE - MOSEAS Regression:  0.6139\n",
            "Train Pearson - MOSEAS Regression:  0.622\n",
            "Test Pearson - MOSEAS Regression:  0.3795\n",
            "saving checkpoint for epoch 181\n"
          ]
        },
        {
          "name": "stderr",
          "output_type": "stream",
          "text": [
            "\rMOSEAS Regression:  73%|███████▎  | 183/250 [14:56<05:16,  4.72s/it]"
          ]
        },
        {
          "name": "stdout",
          "output_type": "stream",
          "text": [
            "Train Loss - MOSEAS Regression:  0.486\n",
            "Test Loss - MOSEAS Regression:  0.6662\n",
            "Train MAE - MOSEAS Regression:  0.5221\n",
            "Test MAE - MOSEAS Regression:  0.6184\n",
            "Train Pearson - MOSEAS Regression:  0.6193\n",
            "Test Pearson - MOSEAS Regression:  0.3787\n"
          ]
        },
        {
          "name": "stderr",
          "output_type": "stream",
          "text": [
            "\rMOSEAS Regression:  74%|███████▎  | 184/250 [15:01<05:20,  4.85s/it]"
          ]
        },
        {
          "name": "stdout",
          "output_type": "stream",
          "text": [
            "Train Loss - MOSEAS Regression:  0.485\n",
            "Test Loss - MOSEAS Regression:  0.661\n",
            "Train MAE - MOSEAS Regression:  0.524\n",
            "Test MAE - MOSEAS Regression:  0.6124\n",
            "Train Pearson - MOSEAS Regression:  0.6205\n",
            "Test Pearson - MOSEAS Regression:  0.3843\n",
            "saving checkpoint for epoch 183\n"
          ]
        },
        {
          "name": "stderr",
          "output_type": "stream",
          "text": [
            "\rMOSEAS Regression:  74%|███████▍  | 185/250 [15:06<05:13,  4.82s/it]"
          ]
        },
        {
          "name": "stdout",
          "output_type": "stream",
          "text": [
            "Train Loss - MOSEAS Regression:  0.4792\n",
            "Test Loss - MOSEAS Regression:  0.6614\n",
            "Train MAE - MOSEAS Regression:  0.5193\n",
            "Test MAE - MOSEAS Regression:  0.6133\n",
            "Train Pearson - MOSEAS Regression:  0.6269\n",
            "Test Pearson - MOSEAS Regression:  0.3841\n"
          ]
        },
        {
          "name": "stderr",
          "output_type": "stream",
          "text": [
            "\rMOSEAS Regression:  74%|███████▍  | 186/250 [15:11<05:14,  4.91s/it]"
          ]
        },
        {
          "name": "stdout",
          "output_type": "stream",
          "text": [
            "Train Loss - MOSEAS Regression:  0.48\n",
            "Test Loss - MOSEAS Regression:  0.6656\n",
            "Train MAE - MOSEAS Regression:  0.5185\n",
            "Test MAE - MOSEAS Regression:  0.6198\n",
            "Train Pearson - MOSEAS Regression:  0.6256\n",
            "Test Pearson - MOSEAS Regression:  0.38\n"
          ]
        },
        {
          "name": "stderr",
          "output_type": "stream",
          "text": [
            "\rMOSEAS Regression:  75%|███████▍  | 187/250 [15:16<05:14,  4.99s/it]"
          ]
        },
        {
          "name": "stdout",
          "output_type": "stream",
          "text": [
            "Train Loss - MOSEAS Regression:  0.4777\n",
            "Test Loss - MOSEAS Regression:  0.6595\n",
            "Train MAE - MOSEAS Regression:  0.5184\n",
            "Test MAE - MOSEAS Regression:  0.6105\n",
            "Train Pearson - MOSEAS Regression:  0.6283\n",
            "Test Pearson - MOSEAS Regression:  0.3878\n",
            "saving checkpoint for epoch 186\n"
          ]
        },
        {
          "name": "stderr",
          "output_type": "stream",
          "text": [
            "\rMOSEAS Regression:  75%|███████▌  | 188/250 [15:21<05:08,  4.97s/it]"
          ]
        },
        {
          "name": "stdout",
          "output_type": "stream",
          "text": [
            "Train Loss - MOSEAS Regression:  0.4763\n",
            "Test Loss - MOSEAS Regression:  0.6615\n",
            "Train MAE - MOSEAS Regression:  0.5174\n",
            "Test MAE - MOSEAS Regression:  0.6167\n",
            "Train Pearson - MOSEAS Regression:  0.6302\n",
            "Test Pearson - MOSEAS Regression:  0.3841\n"
          ]
        },
        {
          "name": "stderr",
          "output_type": "stream",
          "text": [
            "\rMOSEAS Regression:  76%|███████▌  | 189/250 [15:26<05:06,  5.02s/it]"
          ]
        },
        {
          "name": "stdout",
          "output_type": "stream",
          "text": [
            "Train Loss - MOSEAS Regression:  0.4738\n",
            "Test Loss - MOSEAS Regression:  0.6605\n",
            "Train MAE - MOSEAS Regression:  0.5179\n",
            "Test MAE - MOSEAS Regression:  0.6148\n",
            "Train Pearson - MOSEAS Regression:  0.632\n",
            "Test Pearson - MOSEAS Regression:  0.3854\n"
          ]
        },
        {
          "name": "stderr",
          "output_type": "stream",
          "text": [
            "\rMOSEAS Regression:  76%|███████▌  | 190/250 [15:31<04:58,  4.97s/it]"
          ]
        },
        {
          "name": "stdout",
          "output_type": "stream",
          "text": [
            "Train Loss - MOSEAS Regression:  0.4687\n",
            "Test Loss - MOSEAS Regression:  0.6601\n",
            "Train MAE - MOSEAS Regression:  0.5165\n",
            "Test MAE - MOSEAS Regression:  0.611\n",
            "Train Pearson - MOSEAS Regression:  0.6368\n",
            "Test Pearson - MOSEAS Regression:  0.3882\n"
          ]
        },
        {
          "name": "stderr",
          "output_type": "stream",
          "text": [
            "\rMOSEAS Regression:  76%|███████▋  | 191/250 [15:36<04:56,  5.02s/it]"
          ]
        },
        {
          "name": "stdout",
          "output_type": "stream",
          "text": [
            "Train Loss - MOSEAS Regression:  0.4682\n",
            "Test Loss - MOSEAS Regression:  0.6628\n",
            "Train MAE - MOSEAS Regression:  0.5132\n",
            "Test MAE - MOSEAS Regression:  0.6159\n",
            "Train Pearson - MOSEAS Regression:  0.6377\n",
            "Test Pearson - MOSEAS Regression:  0.3849\n"
          ]
        },
        {
          "name": "stderr",
          "output_type": "stream",
          "text": [
            "\rMOSEAS Regression:  77%|███████▋  | 192/250 [15:41<04:49,  4.99s/it]"
          ]
        },
        {
          "name": "stdout",
          "output_type": "stream",
          "text": [
            "Train Loss - MOSEAS Regression:  0.4738\n",
            "Test Loss - MOSEAS Regression:  0.662\n",
            "Train MAE - MOSEAS Regression:  0.5177\n",
            "Test MAE - MOSEAS Regression:  0.6126\n",
            "Train Pearson - MOSEAS Regression:  0.6316\n",
            "Test Pearson - MOSEAS Regression:  0.3885\n"
          ]
        },
        {
          "name": "stderr",
          "output_type": "stream",
          "text": [
            "\rMOSEAS Regression:  77%|███████▋  | 193/250 [15:45<04:34,  4.81s/it]"
          ]
        },
        {
          "name": "stdout",
          "output_type": "stream",
          "text": [
            "Train Loss - MOSEAS Regression:  0.4674\n",
            "Test Loss - MOSEAS Regression:  0.6625\n",
            "Train MAE - MOSEAS Regression:  0.513\n",
            "Test MAE - MOSEAS Regression:  0.6151\n",
            "Train Pearson - MOSEAS Regression:  0.6387\n",
            "Test Pearson - MOSEAS Regression:  0.3871\n"
          ]
        },
        {
          "name": "stderr",
          "output_type": "stream",
          "text": [
            "\rMOSEAS Regression:  78%|███████▊  | 194/250 [15:50<04:30,  4.83s/it]"
          ]
        },
        {
          "name": "stdout",
          "output_type": "stream",
          "text": [
            "Train Loss - MOSEAS Regression:  0.4638\n",
            "Test Loss - MOSEAS Regression:  0.6641\n",
            "Train MAE - MOSEAS Regression:  0.5103\n",
            "Test MAE - MOSEAS Regression:  0.6185\n",
            "Train Pearson - MOSEAS Regression:  0.6418\n",
            "Test Pearson - MOSEAS Regression:  0.3861\n"
          ]
        },
        {
          "name": "stderr",
          "output_type": "stream",
          "text": [
            "\rMOSEAS Regression:  78%|███████▊  | 195/250 [15:55<04:25,  4.82s/it]"
          ]
        },
        {
          "name": "stdout",
          "output_type": "stream",
          "text": [
            "Train Loss - MOSEAS Regression:  0.4665\n",
            "Test Loss - MOSEAS Regression:  0.6627\n",
            "Train MAE - MOSEAS Regression:  0.5144\n",
            "Test MAE - MOSEAS Regression:  0.614\n",
            "Train Pearson - MOSEAS Regression:  0.6391\n",
            "Test Pearson - MOSEAS Regression:  0.3893\n"
          ]
        },
        {
          "name": "stderr",
          "output_type": "stream",
          "text": [
            "\rMOSEAS Regression:  78%|███████▊  | 196/250 [16:00<04:17,  4.77s/it]"
          ]
        },
        {
          "name": "stdout",
          "output_type": "stream",
          "text": [
            "Train Loss - MOSEAS Regression:  0.4684\n",
            "Test Loss - MOSEAS Regression:  0.6668\n",
            "Train MAE - MOSEAS Regression:  0.5135\n",
            "Test MAE - MOSEAS Regression:  0.6201\n",
            "Train Pearson - MOSEAS Regression:  0.6382\n",
            "Test Pearson - MOSEAS Regression:  0.3849\n"
          ]
        },
        {
          "name": "stderr",
          "output_type": "stream",
          "text": [
            "\rMOSEAS Regression:  79%|███████▉  | 197/250 [16:05<04:14,  4.80s/it]"
          ]
        },
        {
          "name": "stdout",
          "output_type": "stream",
          "text": [
            "Train Loss - MOSEAS Regression:  0.4585\n",
            "Test Loss - MOSEAS Regression:  0.6635\n",
            "Train MAE - MOSEAS Regression:  0.5114\n",
            "Test MAE - MOSEAS Regression:  0.6154\n",
            "Train Pearson - MOSEAS Regression:  0.6468\n",
            "Test Pearson - MOSEAS Regression:  0.3885\n"
          ]
        },
        {
          "name": "stderr",
          "output_type": "stream",
          "text": [
            "\rMOSEAS Regression:  79%|███████▉  | 198/250 [16:10<04:10,  4.83s/it]"
          ]
        },
        {
          "name": "stdout",
          "output_type": "stream",
          "text": [
            "Train Loss - MOSEAS Regression:  0.4583\n",
            "Test Loss - MOSEAS Regression:  0.6639\n",
            "Train MAE - MOSEAS Regression:  0.507\n",
            "Test MAE - MOSEAS Regression:  0.6178\n",
            "Train Pearson - MOSEAS Regression:  0.6476\n",
            "Test Pearson - MOSEAS Regression:  0.3879\n"
          ]
        },
        {
          "name": "stderr",
          "output_type": "stream",
          "text": [
            "\rMOSEAS Regression:  80%|███████▉  | 199/250 [16:14<04:07,  4.85s/it]"
          ]
        },
        {
          "name": "stdout",
          "output_type": "stream",
          "text": [
            "Train Loss - MOSEAS Regression:  0.4612\n",
            "Test Loss - MOSEAS Regression:  0.6613\n",
            "Train MAE - MOSEAS Regression:  0.511\n",
            "Test MAE - MOSEAS Regression:  0.6145\n",
            "Train Pearson - MOSEAS Regression:  0.6444\n",
            "Test Pearson - MOSEAS Regression:  0.3911\n"
          ]
        },
        {
          "name": "stderr",
          "output_type": "stream",
          "text": [
            "\rMOSEAS Regression:  80%|████████  | 200/250 [16:19<04:02,  4.85s/it]"
          ]
        },
        {
          "name": "stdout",
          "output_type": "stream",
          "text": [
            "Train Loss - MOSEAS Regression:  0.4685\n",
            "Test Loss - MOSEAS Regression:  0.661\n",
            "Train MAE - MOSEAS Regression:  0.5096\n",
            "Test MAE - MOSEAS Regression:  0.616\n",
            "Train Pearson - MOSEAS Regression:  0.6373\n",
            "Test Pearson - MOSEAS Regression:  0.3907\n"
          ]
        },
        {
          "name": "stderr",
          "output_type": "stream",
          "text": [
            "\rMOSEAS Regression:  80%|████████  | 201/250 [16:24<03:51,  4.73s/it]"
          ]
        },
        {
          "name": "stdout",
          "output_type": "stream",
          "text": [
            "Train Loss - MOSEAS Regression:  0.4543\n",
            "Test Loss - MOSEAS Regression:  0.6633\n",
            "Train MAE - MOSEAS Regression:  0.5056\n",
            "Test MAE - MOSEAS Regression:  0.6201\n",
            "Train Pearson - MOSEAS Regression:  0.651\n",
            "Test Pearson - MOSEAS Regression:  0.3888\n"
          ]
        },
        {
          "name": "stderr",
          "output_type": "stream",
          "text": [
            "\rMOSEAS Regression:  81%|████████  | 202/250 [16:28<03:44,  4.68s/it]"
          ]
        },
        {
          "name": "stdout",
          "output_type": "stream",
          "text": [
            "Train Loss - MOSEAS Regression:  0.4604\n",
            "Test Loss - MOSEAS Regression:  0.6604\n",
            "Train MAE - MOSEAS Regression:  0.5109\n",
            "Test MAE - MOSEAS Regression:  0.6152\n",
            "Train Pearson - MOSEAS Regression:  0.645\n",
            "Test Pearson - MOSEAS Regression:  0.3923\n"
          ]
        },
        {
          "name": "stderr",
          "output_type": "stream",
          "text": [
            "\rMOSEAS Regression:  81%|████████  | 203/250 [16:33<03:42,  4.74s/it]"
          ]
        },
        {
          "name": "stdout",
          "output_type": "stream",
          "text": [
            "Train Loss - MOSEAS Regression:  0.4614\n",
            "Test Loss - MOSEAS Regression:  0.6607\n",
            "Train MAE - MOSEAS Regression:  0.5086\n",
            "Test MAE - MOSEAS Regression:  0.6152\n",
            "Train Pearson - MOSEAS Regression:  0.6442\n",
            "Test Pearson - MOSEAS Regression:  0.3926\n"
          ]
        },
        {
          "name": "stderr",
          "output_type": "stream",
          "text": [
            "\rMOSEAS Regression:  82%|████████▏ | 204/250 [16:38<03:39,  4.78s/it]"
          ]
        },
        {
          "name": "stdout",
          "output_type": "stream",
          "text": [
            "Train Loss - MOSEAS Regression:  0.4593\n",
            "Test Loss - MOSEAS Regression:  0.6614\n",
            "Train MAE - MOSEAS Regression:  0.5096\n",
            "Test MAE - MOSEAS Regression:  0.6187\n",
            "Train Pearson - MOSEAS Regression:  0.6462\n",
            "Test Pearson - MOSEAS Regression:  0.3912\n"
          ]
        },
        {
          "name": "stderr",
          "output_type": "stream",
          "text": [
            "\rMOSEAS Regression:  82%|████████▏ | 205/250 [16:43<03:39,  4.89s/it]"
          ]
        },
        {
          "name": "stdout",
          "output_type": "stream",
          "text": [
            "Train Loss - MOSEAS Regression:  0.4581\n",
            "Test Loss - MOSEAS Regression:  0.6595\n",
            "Train MAE - MOSEAS Regression:  0.5118\n",
            "Test MAE - MOSEAS Regression:  0.6171\n",
            "Train Pearson - MOSEAS Regression:  0.6471\n",
            "Test Pearson - MOSEAS Regression:  0.3931\n"
          ]
        },
        {
          "name": "stderr",
          "output_type": "stream",
          "text": [
            "\rMOSEAS Regression:  82%|████████▏ | 206/250 [16:48<03:35,  4.91s/it]"
          ]
        },
        {
          "name": "stdout",
          "output_type": "stream",
          "text": [
            "Train Loss - MOSEAS Regression:  0.4533\n",
            "Test Loss - MOSEAS Regression:  0.6581\n",
            "Train MAE - MOSEAS Regression:  0.5118\n",
            "Test MAE - MOSEAS Regression:  0.613\n",
            "Train Pearson - MOSEAS Regression:  0.6519\n",
            "Test Pearson - MOSEAS Regression:  0.3961\n",
            "saving checkpoint for epoch 205\n"
          ]
        },
        {
          "name": "stderr",
          "output_type": "stream",
          "text": [
            "\rMOSEAS Regression:  83%|████████▎ | 207/250 [16:53<03:29,  4.87s/it]"
          ]
        },
        {
          "name": "stdout",
          "output_type": "stream",
          "text": [
            "Train Loss - MOSEAS Regression:  0.4568\n",
            "Test Loss - MOSEAS Regression:  0.6614\n",
            "Train MAE - MOSEAS Regression:  0.5081\n",
            "Test MAE - MOSEAS Regression:  0.6182\n",
            "Train Pearson - MOSEAS Regression:  0.6488\n",
            "Test Pearson - MOSEAS Regression:  0.392\n"
          ]
        },
        {
          "name": "stderr",
          "output_type": "stream",
          "text": [
            "\rMOSEAS Regression:  83%|████████▎ | 208/250 [16:58<03:25,  4.89s/it]"
          ]
        },
        {
          "name": "stdout",
          "output_type": "stream",
          "text": [
            "Train Loss - MOSEAS Regression:  0.4432\n",
            "Test Loss - MOSEAS Regression:  0.6613\n",
            "Train MAE - MOSEAS Regression:  0.502\n",
            "Test MAE - MOSEAS Regression:  0.6177\n",
            "Train Pearson - MOSEAS Regression:  0.6619\n",
            "Test Pearson - MOSEAS Regression:  0.3925\n"
          ]
        },
        {
          "name": "stderr",
          "output_type": "stream",
          "text": [
            "\rMOSEAS Regression:  84%|████████▎ | 209/250 [17:03<03:25,  5.00s/it]"
          ]
        },
        {
          "name": "stdout",
          "output_type": "stream",
          "text": [
            "Train Loss - MOSEAS Regression:  0.4484\n",
            "Test Loss - MOSEAS Regression:  0.6608\n",
            "Train MAE - MOSEAS Regression:  0.5041\n",
            "Test MAE - MOSEAS Regression:  0.6141\n",
            "Train Pearson - MOSEAS Regression:  0.657\n",
            "Test Pearson - MOSEAS Regression:  0.3961\n"
          ]
        },
        {
          "name": "stderr",
          "output_type": "stream",
          "text": [
            "\rMOSEAS Regression:  84%|████████▍ | 210/250 [17:08<03:18,  4.97s/it]"
          ]
        },
        {
          "name": "stdout",
          "output_type": "stream",
          "text": [
            "Train Loss - MOSEAS Regression:  0.4505\n",
            "Test Loss - MOSEAS Regression:  0.6647\n",
            "Train MAE - MOSEAS Regression:  0.5034\n",
            "Test MAE - MOSEAS Regression:  0.6224\n",
            "Train Pearson - MOSEAS Regression:  0.6554\n",
            "Test Pearson - MOSEAS Regression:  0.391\n"
          ]
        },
        {
          "name": "stderr",
          "output_type": "stream",
          "text": [
            "\rMOSEAS Regression:  84%|████████▍ | 211/250 [17:13<03:12,  4.94s/it]"
          ]
        },
        {
          "name": "stdout",
          "output_type": "stream",
          "text": [
            "Train Loss - MOSEAS Regression:  0.4442\n",
            "Test Loss - MOSEAS Regression:  0.66\n",
            "Train MAE - MOSEAS Regression:  0.5028\n",
            "Test MAE - MOSEAS Regression:  0.6158\n",
            "Train Pearson - MOSEAS Regression:  0.6616\n",
            "Test Pearson - MOSEAS Regression:  0.3966\n"
          ]
        },
        {
          "name": "stderr",
          "output_type": "stream",
          "text": [
            "\rMOSEAS Regression:  85%|████████▍ | 212/250 [17:18<03:05,  4.88s/it]"
          ]
        },
        {
          "name": "stdout",
          "output_type": "stream",
          "text": [
            "Train Loss - MOSEAS Regression:  0.4485\n",
            "Test Loss - MOSEAS Regression:  0.6648\n",
            "Train MAE - MOSEAS Regression:  0.504\n",
            "Test MAE - MOSEAS Regression:  0.6205\n",
            "Train Pearson - MOSEAS Regression:  0.6576\n",
            "Test Pearson - MOSEAS Regression:  0.3928\n"
          ]
        },
        {
          "name": "stderr",
          "output_type": "stream",
          "text": [
            "\rMOSEAS Regression:  85%|████████▌ | 213/250 [17:22<02:56,  4.77s/it]"
          ]
        },
        {
          "name": "stdout",
          "output_type": "stream",
          "text": [
            "Train Loss - MOSEAS Regression:  0.4405\n",
            "Test Loss - MOSEAS Regression:  0.6677\n",
            "Train MAE - MOSEAS Regression:  0.5019\n",
            "Test MAE - MOSEAS Regression:  0.6235\n",
            "Train Pearson - MOSEAS Regression:  0.6642\n",
            "Test Pearson - MOSEAS Regression:  0.3912\n"
          ]
        },
        {
          "name": "stderr",
          "output_type": "stream",
          "text": [
            "\rMOSEAS Regression:  86%|████████▌ | 214/250 [17:27<02:53,  4.81s/it]"
          ]
        },
        {
          "name": "stdout",
          "output_type": "stream",
          "text": [
            "Train Loss - MOSEAS Regression:  0.4439\n",
            "Test Loss - MOSEAS Regression:  0.6673\n",
            "Train MAE - MOSEAS Regression:  0.5022\n",
            "Test MAE - MOSEAS Regression:  0.6221\n",
            "Train Pearson - MOSEAS Regression:  0.661\n",
            "Test Pearson - MOSEAS Regression:  0.3929\n"
          ]
        },
        {
          "name": "stderr",
          "output_type": "stream",
          "text": [
            "\rMOSEAS Regression:  86%|████████▌ | 215/250 [17:32<02:48,  4.81s/it]"
          ]
        },
        {
          "name": "stdout",
          "output_type": "stream",
          "text": [
            "Train Loss - MOSEAS Regression:  0.4493\n",
            "Test Loss - MOSEAS Regression:  0.6705\n",
            "Train MAE - MOSEAS Regression:  0.5064\n",
            "Test MAE - MOSEAS Regression:  0.6267\n",
            "Train Pearson - MOSEAS Regression:  0.656\n",
            "Test Pearson - MOSEAS Regression:  0.3904\n"
          ]
        },
        {
          "name": "stderr",
          "output_type": "stream",
          "text": [
            "\rMOSEAS Regression:  86%|████████▋ | 216/250 [17:37<02:43,  4.80s/it]"
          ]
        },
        {
          "name": "stdout",
          "output_type": "stream",
          "text": [
            "Train Loss - MOSEAS Regression:  0.4365\n",
            "Test Loss - MOSEAS Regression:  0.6634\n",
            "Train MAE - MOSEAS Regression:  0.5017\n",
            "Test MAE - MOSEAS Regression:  0.6214\n",
            "Train Pearson - MOSEAS Regression:  0.6682\n",
            "Test Pearson - MOSEAS Regression:  0.396\n"
          ]
        },
        {
          "name": "stderr",
          "output_type": "stream",
          "text": [
            "\rMOSEAS Regression:  87%|████████▋ | 217/250 [17:42<02:41,  4.89s/it]"
          ]
        },
        {
          "name": "stdout",
          "output_type": "stream",
          "text": [
            "Train Loss - MOSEAS Regression:  0.4423\n",
            "Test Loss - MOSEAS Regression:  0.6635\n",
            "Train MAE - MOSEAS Regression:  0.499\n",
            "Test MAE - MOSEAS Regression:  0.6232\n",
            "Train Pearson - MOSEAS Regression:  0.6626\n",
            "Test Pearson - MOSEAS Regression:  0.3956\n"
          ]
        },
        {
          "name": "stderr",
          "output_type": "stream",
          "text": [
            "\rMOSEAS Regression:  87%|████████▋ | 218/250 [17:47<02:36,  4.90s/it]"
          ]
        },
        {
          "name": "stdout",
          "output_type": "stream",
          "text": [
            "Train Loss - MOSEAS Regression:  0.4419\n",
            "Test Loss - MOSEAS Regression:  0.665\n",
            "Train MAE - MOSEAS Regression:  0.5015\n",
            "Test MAE - MOSEAS Regression:  0.6233\n",
            "Train Pearson - MOSEAS Regression:  0.6635\n",
            "Test Pearson - MOSEAS Regression:  0.3937\n"
          ]
        },
        {
          "name": "stderr",
          "output_type": "stream",
          "text": [
            "\rMOSEAS Regression:  88%|████████▊ | 219/250 [17:51<02:28,  4.78s/it]"
          ]
        },
        {
          "name": "stdout",
          "output_type": "stream",
          "text": [
            "Train Loss - MOSEAS Regression:  0.4353\n",
            "Test Loss - MOSEAS Regression:  0.6647\n",
            "Train MAE - MOSEAS Regression:  0.4958\n",
            "Test MAE - MOSEAS Regression:  0.6218\n",
            "Train Pearson - MOSEAS Regression:  0.6699\n",
            "Test Pearson - MOSEAS Regression:  0.3935\n"
          ]
        },
        {
          "name": "stderr",
          "output_type": "stream",
          "text": [
            "\rMOSEAS Regression:  88%|████████▊ | 220/250 [17:56<02:20,  4.68s/it]"
          ]
        },
        {
          "name": "stdout",
          "output_type": "stream",
          "text": [
            "Train Loss - MOSEAS Regression:  0.438\n",
            "Test Loss - MOSEAS Regression:  0.6629\n",
            "Train MAE - MOSEAS Regression:  0.5004\n",
            "Test MAE - MOSEAS Regression:  0.6212\n",
            "Train Pearson - MOSEAS Regression:  0.6667\n",
            "Test Pearson - MOSEAS Regression:  0.3948\n"
          ]
        },
        {
          "name": "stderr",
          "output_type": "stream",
          "text": [
            "\rMOSEAS Regression:  88%|████████▊ | 221/250 [18:01<02:17,  4.76s/it]"
          ]
        },
        {
          "name": "stdout",
          "output_type": "stream",
          "text": [
            "Train Loss - MOSEAS Regression:  0.4358\n",
            "Test Loss - MOSEAS Regression:  0.6555\n",
            "Train MAE - MOSEAS Regression:  0.4961\n",
            "Test MAE - MOSEAS Regression:  0.6144\n",
            "Train Pearson - MOSEAS Regression:  0.6687\n",
            "Test Pearson - MOSEAS Regression:  0.4022\n",
            "saving checkpoint for epoch 220\n"
          ]
        },
        {
          "name": "stderr",
          "output_type": "stream",
          "text": [
            "\rMOSEAS Regression:  89%|████████▉ | 222/250 [18:06<02:17,  4.89s/it]"
          ]
        },
        {
          "name": "stdout",
          "output_type": "stream",
          "text": [
            "Train Loss - MOSEAS Regression:  0.4329\n",
            "Test Loss - MOSEAS Regression:  0.6563\n",
            "Train MAE - MOSEAS Regression:  0.4954\n",
            "Test MAE - MOSEAS Regression:  0.6192\n",
            "Train Pearson - MOSEAS Regression:  0.6718\n",
            "Test Pearson - MOSEAS Regression:  0.4008\n"
          ]
        },
        {
          "name": "stderr",
          "output_type": "stream",
          "text": [
            "\rMOSEAS Regression:  89%|████████▉ | 223/250 [18:11<02:14,  4.98s/it]"
          ]
        },
        {
          "name": "stdout",
          "output_type": "stream",
          "text": [
            "Train Loss - MOSEAS Regression:  0.4344\n",
            "Test Loss - MOSEAS Regression:  0.6553\n",
            "Train MAE - MOSEAS Regression:  0.4985\n",
            "Test MAE - MOSEAS Regression:  0.6163\n",
            "Train Pearson - MOSEAS Regression:  0.6701\n",
            "Test Pearson - MOSEAS Regression:  0.4028\n",
            "saving checkpoint for epoch 222\n"
          ]
        },
        {
          "name": "stderr",
          "output_type": "stream",
          "text": [
            "\rMOSEAS Regression:  90%|████████▉ | 224/250 [18:16<02:10,  5.04s/it]"
          ]
        },
        {
          "name": "stdout",
          "output_type": "stream",
          "text": [
            "Train Loss - MOSEAS Regression:  0.4353\n",
            "Test Loss - MOSEAS Regression:  0.6555\n",
            "Train MAE - MOSEAS Regression:  0.4972\n",
            "Test MAE - MOSEAS Regression:  0.6149\n",
            "Train Pearson - MOSEAS Regression:  0.6697\n",
            "Test Pearson - MOSEAS Regression:  0.4044\n"
          ]
        },
        {
          "name": "stderr",
          "output_type": "stream",
          "text": [
            "\rMOSEAS Regression:  90%|█████████ | 225/250 [18:21<02:05,  5.01s/it]"
          ]
        },
        {
          "name": "stdout",
          "output_type": "stream",
          "text": [
            "Train Loss - MOSEAS Regression:  0.437\n",
            "Test Loss - MOSEAS Regression:  0.657\n",
            "Train MAE - MOSEAS Regression:  0.4971\n",
            "Test MAE - MOSEAS Regression:  0.6217\n",
            "Train Pearson - MOSEAS Regression:  0.6681\n",
            "Test Pearson - MOSEAS Regression:  0.401\n"
          ]
        },
        {
          "name": "stderr",
          "output_type": "stream",
          "text": [
            "\rMOSEAS Regression:  90%|█████████ | 226/250 [18:26<01:57,  4.89s/it]"
          ]
        },
        {
          "name": "stdout",
          "output_type": "stream",
          "text": [
            "Train Loss - MOSEAS Regression:  0.4365\n",
            "Test Loss - MOSEAS Regression:  0.6519\n",
            "Train MAE - MOSEAS Regression:  0.4987\n",
            "Test MAE - MOSEAS Regression:  0.6153\n",
            "Train Pearson - MOSEAS Regression:  0.6683\n",
            "Test Pearson - MOSEAS Regression:  0.4065\n",
            "saving checkpoint for epoch 225\n"
          ]
        },
        {
          "name": "stderr",
          "output_type": "stream",
          "text": [
            "\rMOSEAS Regression:  91%|█████████ | 227/250 [18:31<01:52,  4.88s/it]"
          ]
        },
        {
          "name": "stdout",
          "output_type": "stream",
          "text": [
            "Train Loss - MOSEAS Regression:  0.4273\n",
            "Test Loss - MOSEAS Regression:  0.6524\n",
            "Train MAE - MOSEAS Regression:  0.4912\n",
            "Test MAE - MOSEAS Regression:  0.6183\n",
            "Train Pearson - MOSEAS Regression:  0.6768\n",
            "Test Pearson - MOSEAS Regression:  0.4054\n"
          ]
        },
        {
          "name": "stderr",
          "output_type": "stream",
          "text": [
            "\rMOSEAS Regression:  91%|█████████ | 228/250 [18:36<01:49,  4.96s/it]"
          ]
        },
        {
          "name": "stdout",
          "output_type": "stream",
          "text": [
            "Train Loss - MOSEAS Regression:  0.4267\n",
            "Test Loss - MOSEAS Regression:  0.6519\n",
            "Train MAE - MOSEAS Regression:  0.4964\n",
            "Test MAE - MOSEAS Regression:  0.6124\n",
            "Train Pearson - MOSEAS Regression:  0.6774\n",
            "Test Pearson - MOSEAS Regression:  0.4078\n"
          ]
        },
        {
          "name": "stderr",
          "output_type": "stream",
          "text": [
            "\rMOSEAS Regression:  92%|█████████▏| 229/250 [18:41<01:44,  4.96s/it]"
          ]
        },
        {
          "name": "stdout",
          "output_type": "stream",
          "text": [
            "Train Loss - MOSEAS Regression:  0.4249\n",
            "Test Loss - MOSEAS Regression:  0.6588\n",
            "Train MAE - MOSEAS Regression:  0.4942\n",
            "Test MAE - MOSEAS Regression:  0.6214\n",
            "Train Pearson - MOSEAS Regression:  0.6797\n",
            "Test Pearson - MOSEAS Regression:  0.4003\n"
          ]
        },
        {
          "name": "stderr",
          "output_type": "stream",
          "text": [
            "\rMOSEAS Regression:  92%|█████████▏| 230/250 [18:46<01:39,  4.97s/it]"
          ]
        },
        {
          "name": "stdout",
          "output_type": "stream",
          "text": [
            "Train Loss - MOSEAS Regression:  0.4288\n",
            "Test Loss - MOSEAS Regression:  0.6613\n",
            "Train MAE - MOSEAS Regression:  0.4947\n",
            "Test MAE - MOSEAS Regression:  0.6173\n",
            "Train Pearson - MOSEAS Regression:  0.6756\n",
            "Test Pearson - MOSEAS Regression:  0.3994\n"
          ]
        },
        {
          "name": "stderr",
          "output_type": "stream",
          "text": [
            "\rMOSEAS Regression:  92%|█████████▏| 231/250 [18:51<01:35,  5.02s/it]"
          ]
        },
        {
          "name": "stdout",
          "output_type": "stream",
          "text": [
            "Train Loss - MOSEAS Regression:  0.424\n",
            "Test Loss - MOSEAS Regression:  0.6649\n",
            "Train MAE - MOSEAS Regression:  0.4899\n",
            "Test MAE - MOSEAS Regression:  0.6186\n",
            "Train Pearson - MOSEAS Regression:  0.6807\n",
            "Test Pearson - MOSEAS Regression:  0.3977\n"
          ]
        },
        {
          "name": "stderr",
          "output_type": "stream",
          "text": [
            "\rMOSEAS Regression:  93%|█████████▎| 232/250 [18:55<01:27,  4.88s/it]"
          ]
        },
        {
          "name": "stdout",
          "output_type": "stream",
          "text": [
            "Train Loss - MOSEAS Regression:  0.4204\n",
            "Test Loss - MOSEAS Regression:  0.6668\n",
            "Train MAE - MOSEAS Regression:  0.4885\n",
            "Test MAE - MOSEAS Regression:  0.6263\n",
            "Train Pearson - MOSEAS Regression:  0.6835\n",
            "Test Pearson - MOSEAS Regression:  0.3952\n"
          ]
        },
        {
          "name": "stderr",
          "output_type": "stream",
          "text": [
            "\rMOSEAS Regression:  93%|█████████▎| 233/250 [19:00<01:21,  4.80s/it]"
          ]
        },
        {
          "name": "stdout",
          "output_type": "stream",
          "text": [
            "Train Loss - MOSEAS Regression:  0.4284\n",
            "Test Loss - MOSEAS Regression:  0.6623\n",
            "Train MAE - MOSEAS Regression:  0.4929\n",
            "Test MAE - MOSEAS Regression:  0.6155\n",
            "Train Pearson - MOSEAS Regression:  0.6763\n",
            "Test Pearson - MOSEAS Regression:  0.4071\n"
          ]
        },
        {
          "name": "stderr",
          "output_type": "stream",
          "text": [
            "\rMOSEAS Regression:  94%|█████████▎| 234/250 [19:04<01:15,  4.71s/it]"
          ]
        },
        {
          "name": "stdout",
          "output_type": "stream",
          "text": [
            "Train Loss - MOSEAS Regression:  0.4279\n",
            "Test Loss - MOSEAS Regression:  0.6604\n",
            "Train MAE - MOSEAS Regression:  0.4897\n",
            "Test MAE - MOSEAS Regression:  0.6265\n",
            "Train Pearson - MOSEAS Regression:  0.6821\n",
            "Test Pearson - MOSEAS Regression:  0.4035\n"
          ]
        },
        {
          "name": "stderr",
          "output_type": "stream",
          "text": [
            "\rMOSEAS Regression:  94%|█████████▍| 235/250 [19:09<01:10,  4.73s/it]"
          ]
        },
        {
          "name": "stdout",
          "output_type": "stream",
          "text": [
            "Train Loss - MOSEAS Regression:  0.4323\n",
            "Test Loss - MOSEAS Regression:  0.6591\n",
            "Train MAE - MOSEAS Regression:  0.4976\n",
            "Test MAE - MOSEAS Regression:  0.6241\n",
            "Train Pearson - MOSEAS Regression:  0.6773\n",
            "Test Pearson - MOSEAS Regression:  0.4028\n"
          ]
        },
        {
          "name": "stderr",
          "output_type": "stream",
          "text": [
            "\rMOSEAS Regression:  94%|█████████▍| 236/250 [19:14<01:08,  4.87s/it]"
          ]
        },
        {
          "name": "stdout",
          "output_type": "stream",
          "text": [
            "Train Loss - MOSEAS Regression:  0.4231\n",
            "Test Loss - MOSEAS Regression:  0.6638\n",
            "Train MAE - MOSEAS Regression:  0.4873\n",
            "Test MAE - MOSEAS Regression:  0.6176\n",
            "Train Pearson - MOSEAS Regression:  0.6815\n",
            "Test Pearson - MOSEAS Regression:  0.4046\n"
          ]
        },
        {
          "name": "stderr",
          "output_type": "stream",
          "text": [
            "\rMOSEAS Regression:  95%|█████████▍| 237/250 [19:19<01:03,  4.86s/it]"
          ]
        },
        {
          "name": "stdout",
          "output_type": "stream",
          "text": [
            "Train Loss - MOSEAS Regression:  0.4262\n",
            "Test Loss - MOSEAS Regression:  0.6764\n",
            "Train MAE - MOSEAS Regression:  0.4899\n",
            "Test MAE - MOSEAS Regression:  0.637\n",
            "Train Pearson - MOSEAS Regression:  0.679\n",
            "Test Pearson - MOSEAS Regression:  0.3922\n"
          ]
        },
        {
          "name": "stderr",
          "output_type": "stream",
          "text": [
            "\rMOSEAS Regression:  95%|█████████▌| 238/250 [19:24<00:57,  4.78s/it]"
          ]
        },
        {
          "name": "stdout",
          "output_type": "stream",
          "text": [
            "Train Loss - MOSEAS Regression:  0.427\n",
            "Test Loss - MOSEAS Regression:  0.6609\n",
            "Train MAE - MOSEAS Regression:  0.4957\n",
            "Test MAE - MOSEAS Regression:  0.6159\n",
            "Train Pearson - MOSEAS Regression:  0.6803\n",
            "Test Pearson - MOSEAS Regression:  0.405\n"
          ]
        },
        {
          "name": "stderr",
          "output_type": "stream",
          "text": [
            "\rMOSEAS Regression:  96%|█████████▌| 239/250 [19:29<00:53,  4.89s/it]"
          ]
        },
        {
          "name": "stdout",
          "output_type": "stream",
          "text": [
            "Train Loss - MOSEAS Regression:  0.4248\n",
            "Test Loss - MOSEAS Regression:  0.6515\n",
            "Train MAE - MOSEAS Regression:  0.4923\n",
            "Test MAE - MOSEAS Regression:  0.6154\n",
            "Train Pearson - MOSEAS Regression:  0.6845\n",
            "Test Pearson - MOSEAS Regression:  0.4083\n",
            "saving checkpoint for epoch 238\n"
          ]
        },
        {
          "name": "stderr",
          "output_type": "stream",
          "text": [
            "\rMOSEAS Regression:  96%|█████████▌| 240/250 [19:34<00:49,  4.96s/it]"
          ]
        },
        {
          "name": "stdout",
          "output_type": "stream",
          "text": [
            "Train Loss - MOSEAS Regression:  0.415\n",
            "Test Loss - MOSEAS Regression:  0.6525\n",
            "Train MAE - MOSEAS Regression:  0.4885\n",
            "Test MAE - MOSEAS Regression:  0.6209\n",
            "Train Pearson - MOSEAS Regression:  0.6884\n",
            "Test Pearson - MOSEAS Regression:  0.4073\n"
          ]
        },
        {
          "name": "stderr",
          "output_type": "stream",
          "text": [
            "\rMOSEAS Regression:  96%|█████████▋| 241/250 [19:39<00:44,  4.96s/it]"
          ]
        },
        {
          "name": "stdout",
          "output_type": "stream",
          "text": [
            "Train Loss - MOSEAS Regression:  0.4145\n",
            "Test Loss - MOSEAS Regression:  0.6516\n",
            "Train MAE - MOSEAS Regression:  0.4857\n",
            "Test MAE - MOSEAS Regression:  0.6119\n",
            "Train Pearson - MOSEAS Regression:  0.689\n",
            "Test Pearson - MOSEAS Regression:  0.4112\n"
          ]
        },
        {
          "name": "stderr",
          "output_type": "stream",
          "text": [
            "\rMOSEAS Regression:  97%|█████████▋| 242/250 [19:44<00:39,  4.94s/it]"
          ]
        },
        {
          "name": "stdout",
          "output_type": "stream",
          "text": [
            "Train Loss - MOSEAS Regression:  0.4204\n",
            "Test Loss - MOSEAS Regression:  0.6545\n",
            "Train MAE - MOSEAS Regression:  0.4895\n",
            "Test MAE - MOSEAS Regression:  0.6204\n",
            "Train Pearson - MOSEAS Regression:  0.6853\n",
            "Test Pearson - MOSEAS Regression:  0.4043\n"
          ]
        },
        {
          "name": "stderr",
          "output_type": "stream",
          "text": [
            "\rMOSEAS Regression:  97%|█████████▋| 243/250 [19:49<00:34,  4.92s/it]"
          ]
        },
        {
          "name": "stdout",
          "output_type": "stream",
          "text": [
            "Train Loss - MOSEAS Regression:  0.4117\n",
            "Test Loss - MOSEAS Regression:  0.6546\n",
            "Train MAE - MOSEAS Regression:  0.4873\n",
            "Test MAE - MOSEAS Regression:  0.6179\n",
            "Train Pearson - MOSEAS Regression:  0.6919\n",
            "Test Pearson - MOSEAS Regression:  0.4047\n"
          ]
        },
        {
          "name": "stderr",
          "output_type": "stream",
          "text": [
            "\rMOSEAS Regression:  98%|█████████▊| 244/250 [19:54<00:30,  5.00s/it]"
          ]
        },
        {
          "name": "stdout",
          "output_type": "stream",
          "text": [
            "Train Loss - MOSEAS Regression:  0.4165\n",
            "Test Loss - MOSEAS Regression:  0.6519\n",
            "Train MAE - MOSEAS Regression:  0.4875\n",
            "Test MAE - MOSEAS Regression:  0.614\n",
            "Train Pearson - MOSEAS Regression:  0.6879\n",
            "Test Pearson - MOSEAS Regression:  0.4095\n"
          ]
        },
        {
          "name": "stderr",
          "output_type": "stream",
          "text": [
            "\rMOSEAS Regression:  98%|█████████▊| 245/250 [19:59<00:24,  4.93s/it]"
          ]
        },
        {
          "name": "stdout",
          "output_type": "stream",
          "text": [
            "Train Loss - MOSEAS Regression:  0.4128\n",
            "Test Loss - MOSEAS Regression:  0.6563\n",
            "Train MAE - MOSEAS Regression:  0.4846\n",
            "Test MAE - MOSEAS Regression:  0.6243\n",
            "Train Pearson - MOSEAS Regression:  0.6906\n",
            "Test Pearson - MOSEAS Regression:  0.4076\n"
          ]
        },
        {
          "name": "stderr",
          "output_type": "stream",
          "text": [
            "\rMOSEAS Regression:  98%|█████████▊| 246/250 [20:03<00:19,  4.86s/it]"
          ]
        },
        {
          "name": "stdout",
          "output_type": "stream",
          "text": [
            "Train Loss - MOSEAS Regression:  0.4129\n",
            "Test Loss - MOSEAS Regression:  0.6504\n",
            "Train MAE - MOSEAS Regression:  0.4893\n",
            "Test MAE - MOSEAS Regression:  0.6147\n",
            "Train Pearson - MOSEAS Regression:  0.6912\n",
            "Test Pearson - MOSEAS Regression:  0.4122\n",
            "saving checkpoint for epoch 245\n"
          ]
        },
        {
          "name": "stderr",
          "output_type": "stream",
          "text": [
            "\rMOSEAS Regression:  99%|█████████▉| 247/250 [20:09<00:14,  4.93s/it]"
          ]
        },
        {
          "name": "stdout",
          "output_type": "stream",
          "text": [
            "Train Loss - MOSEAS Regression:  0.4084\n",
            "Test Loss - MOSEAS Regression:  0.6522\n",
            "Train MAE - MOSEAS Regression:  0.4839\n",
            "Test MAE - MOSEAS Regression:  0.6142\n",
            "Train Pearson - MOSEAS Regression:  0.6948\n",
            "Test Pearson - MOSEAS Regression:  0.4126\n"
          ]
        },
        {
          "name": "stderr",
          "output_type": "stream",
          "text": [
            "\rMOSEAS Regression:  99%|█████████▉| 248/250 [20:13<00:09,  4.81s/it]"
          ]
        },
        {
          "name": "stdout",
          "output_type": "stream",
          "text": [
            "Train Loss - MOSEAS Regression:  0.4161\n",
            "Test Loss - MOSEAS Regression:  0.6551\n",
            "Train MAE - MOSEAS Regression:  0.4858\n",
            "Test MAE - MOSEAS Regression:  0.62\n",
            "Train Pearson - MOSEAS Regression:  0.6874\n",
            "Test Pearson - MOSEAS Regression:  0.4093\n"
          ]
        },
        {
          "name": "stderr",
          "output_type": "stream",
          "text": [
            "\rMOSEAS Regression: 100%|█████████▉| 249/250 [20:18<00:04,  4.92s/it]"
          ]
        },
        {
          "name": "stdout",
          "output_type": "stream",
          "text": [
            "Train Loss - MOSEAS Regression:  0.3984\n",
            "Test Loss - MOSEAS Regression:  0.6566\n",
            "Train MAE - MOSEAS Regression:  0.4794\n",
            "Test MAE - MOSEAS Regression:  0.6181\n",
            "Train Pearson - MOSEAS Regression:  0.7037\n",
            "Test Pearson - MOSEAS Regression:  0.4091\n"
          ]
        },
        {
          "name": "stderr",
          "output_type": "stream",
          "text": [
            "MOSEAS Regression: 100%|██████████| 250/250 [20:23<00:00,  4.89s/it]"
          ]
        },
        {
          "name": "stdout",
          "output_type": "stream",
          "text": [
            "Train Loss - MOSEAS Regression:  0.4059\n",
            "Test Loss - MOSEAS Regression:  0.6575\n",
            "Train MAE - MOSEAS Regression:  0.4824\n",
            "Test MAE - MOSEAS Regression:  0.6175\n",
            "Train Pearson - MOSEAS Regression:  0.6968\n",
            "Test Pearson - MOSEAS Regression:  0.4099\n",
            "Test performance..\n",
            "Loss 0.6504 MAE 0.6147000193595886 r 0.4122\n"
          ]
        },
        {
          "name": "stderr",
          "output_type": "stream",
          "text": [
            "\n"
          ]
        }
      ]
    },
    {
      "cell_type": "code",
      "metadata": {
        "id": "RrWZyv97ZlrM"
      },
      "source": [
        "import pickle\n",
        "\n",
        "with open(\"noneutral_training_res.pickle\", \"wb\") as f:\n",
        "    pickle.dump({\"all_train_loss\": all_train_loss,\n",
        "    \"all_test_loss\": all_test_loss,\n",
        "    \"all_train_mae\": all_train_mae,\n",
        "    \"all_test_mae\":all_test_mae,\n",
        "    \"all_train_pear\":all_train_pear,\n",
        "    \"all_test_pear\": all_test_pear},f)"
      ],
      "execution_count": null,
      "outputs": []
    },
    {
      "cell_type": "code",
      "metadata": {
        "colab": {
          "base_uri": "https://localhost:8080/",
          "height": 354
        },
        "id": "pA3jC3F0KYn9",
        "outputId": "02c43264-9d34-4fa1-b78a-c8f84c2ecef4"
      },
      "source": [
        "import matplotlib.pyplot as plt\n",
        "\n",
        "f, (ax1, ax2, ax3) = plt.subplots(1,3,figsize=(15,5))\n",
        "ax1.plot(all_train_loss, label=\"train loss\")\n",
        "ax1.plot(all_test_loss, label=\"test loss\")\n",
        "ax1.legend(loc=\"best\")\n",
        "ax1.set_title(\"loss\")\n",
        "\n",
        "ax2.plot(all_train_mae, label=\"train mae\")\n",
        "ax2.plot(all_test_mae, label=\"test mae\")\n",
        "ax2.set_title(\"mae\")\n",
        "ax2.legend(loc=\"best\")\n",
        "\n",
        "ax3.plot(all_train_pear, label=\"train pear\")\n",
        "ax3.plot(all_test_pear, label=\"test pear\")\n",
        "ax3.set_title(\"pearson coefficient\")\n",
        "ax3.legend(loc=\"best\")\n",
        "\n",
        "# plt.show()"
      ],
      "execution_count": null,
      "outputs": [
        {
          "data": {
            "text/plain": [
              "<matplotlib.legend.Legend at 0x7f36eab86d10>"
            ]
          },
          "execution_count": 32,
          "metadata": {},
          "output_type": "execute_result"
        },
        {
          "data": {
            "image/png": "[encoded data removed]",
            "text/plain": [
              "<Figure size 1080x360 with 3 Axes>"
            ]
          },
          "metadata": {},
          "output_type": "display_data"
        }
      ]
    },
    {
      "cell_type": "code",
      "metadata": {
        "id": "4pZTmHRQZj5F"
      },
      "source": [
        ""
      ],
      "execution_count": null,
      "outputs": []
    },
    {
      "cell_type": "code",
      "metadata": {
        "colab": {
          "base_uri": "https://localhost:8080/"
        },
        "id": "zGtXnHLh8Uio",
        "outputId": "b06052b1-1ed9-4507-d354-3ac3cad899bc"
      },
      "source": [
        "# Instantiate model\n",
        "model = RegressionModel(D_m_text, D_m_audio, D_m_video, D_m_context, D_g, D_p, D_e, D_h, dropout_rec=args[\"rec_dropout\"], dropout=args[\"dropout\"])\n",
        "model.load_state_dict(torch.load(\"/content/gdrive/MyDrive/11-777 MMML/multilogue-net/logs/moseas_noneutral_regression/epoch179_testloss_0.7277_testmae_0.6488000154495239_testpear_0.28.pth\"))\n",
        "\n",
        "train_loader, valid_loader, test_loader = get_MOSEI_loaders('/content/gdrive/MyDrive/11-777 MMML/multilogue-net/data/moseas_full_no_neutral_regression.pickle', valid=0.0, batch_size=batch_size, num_workers=0)\n",
        "if cuda:\n",
        "    model.cuda()\n",
        "loss_function = MaskedMSELoss()\n",
        "train_loss, train_mae, train_pear,train_labels, train_preds, train_masks = train_or_eval_model(model, loss_function, train_loader, 1)\n",
        "test_loss, test_mae, test_pear, test_label, test_pred, test_mask = train_or_eval_model(model, loss_function, test_loader, 1)\n"
      ],
      "execution_count": null,
      "outputs": [
        {
          "name": "stdout",
          "output_type": "stream",
          "text": [
            "dataloader.py 0\n",
            "dataloader.py 0\n",
            "dataloader.py 0\n",
            "dataloader.py 0\n",
            "dataloader.py 0\n",
            "dataloader.py 0\n",
            "dataloader.py 0\n",
            "dataloader.py 0\n",
            "dataloader.py 0\n",
            "dataloader.py 0\n",
            "dataloader.py 0\n",
            "dataloader.py 0\n",
            "dataloader.py 0\n",
            "dataloader.py 0\n",
            "dataloader.py 0\n",
            "dataloader.py 0\n",
            "dataloader.py 0\n",
            "dataloader.py 0\n",
            "dataloader.py 0\n",
            "dataloader.py 0\n",
            "dataloader.py 0\n",
            "dataloader.py 0\n",
            "dataloader.py 0\n",
            "dataloader.py 0\n",
            "dataloader.py 0\n",
            "dataloader.py 0\n",
            "dataloader.py 0\n",
            "dataloader.py 0\n",
            "dataloader.py 0\n",
            "dataloader.py 0\n",
            "dataloader.py 0\n",
            "dataloader.py 0\n",
            "dataloader.py 0\n",
            "dataloader.py 0\n",
            "dataloader.py 0\n",
            "dataloader.py 0\n",
            "dataloader.py 0\n",
            "dataloader.py 0\n",
            "dataloader.py 0\n",
            "dataloader.py 0\n",
            "dataloader.py 0\n",
            "dataloader.py 0\n",
            "dataloader.py 0\n",
            "dataloader.py 0\n",
            "dataloader.py 0\n",
            "dataloader.py 0\n",
            "dataloader.py 0\n",
            "dataloader.py 0\n",
            "dataloader.py 0\n",
            "dataloader.py 0\n",
            "dataloader.py 0\n",
            "dataloader.py 0\n",
            "dataloader.py 0\n",
            "dataloader.py 0\n",
            "dataloader.py 0\n",
            "dataloader.py 0\n",
            "dataloader.py 0\n",
            "dataloader.py 0\n",
            "dataloader.py 0\n",
            "dataloader.py 0\n",
            "dataloader.py 0\n",
            "dataloader.py 0\n",
            "dataloader.py 0\n",
            "dataloader.py 0\n",
            "dataloader.py 0\n",
            "dataloader.py 0\n",
            "dataloader.py 0\n",
            "dataloader.py 0\n",
            "dataloader.py 0\n",
            "dataloader.py 0\n",
            "dataloader.py 0\n",
            "dataloader.py 0\n",
            "dataloader.py 0\n",
            "dataloader.py 0\n",
            "dataloader.py 0\n",
            "dataloader.py 0\n",
            "dataloader.py 0\n",
            "dataloader.py 0\n",
            "dataloader.py 0\n",
            "dataloader.py 0\n",
            "dataloader.py 0\n",
            "dataloader.py 0\n",
            "dataloader.py 0\n",
            "dataloader.py 0\n",
            "dataloader.py 0\n",
            "dataloader.py 0\n",
            "dataloader.py 0\n",
            "dataloader.py 0\n",
            "dataloader.py 0\n",
            "dataloader.py 0\n",
            "dataloader.py 0\n",
            "dataloader.py 0\n",
            "dataloader.py 0\n",
            "dataloader.py 0\n",
            "dataloader.py 0\n",
            "dataloader.py 0\n",
            "dataloader.py 0\n",
            "dataloader.py 0\n",
            "dataloader.py 0\n",
            "dataloader.py 0\n",
            "dataloader.py 0\n",
            "dataloader.py 0\n",
            "dataloader.py 0\n",
            "dataloader.py 0\n",
            "dataloader.py 0\n",
            "dataloader.py 0\n",
            "dataloader.py 0\n",
            "dataloader.py 0\n",
            "dataloader.py 0\n",
            "dataloader.py 0\n",
            "dataloader.py 0\n",
            "dataloader.py 0\n",
            "dataloader.py 0\n",
            "dataloader.py 0\n",
            "dataloader.py 0\n",
            "dataloader.py 0\n",
            "dataloader.py 0\n",
            "dataloader.py 0\n",
            "dataloader.py 0\n",
            "dataloader.py 0\n",
            "dataloader.py 0\n",
            "dataloader.py 0\n",
            "dataloader.py 0\n",
            "dataloader.py 0\n",
            "dataloader.py 0\n",
            "dataloader.py 0\n",
            "dataloader.py 0\n",
            "dataloader.py 0\n",
            "train_or_eval 6143\n",
            "dataloader.py 0\n",
            "dataloader.py 0\n",
            "dataloader.py 0\n",
            "dataloader.py 0\n",
            "dataloader.py 0\n",
            "dataloader.py 0\n",
            "dataloader.py 0\n",
            "dataloader.py 0\n",
            "dataloader.py 0\n",
            "dataloader.py 0\n",
            "dataloader.py 0\n",
            "dataloader.py 0\n",
            "dataloader.py 0\n",
            "dataloader.py 0\n",
            "dataloader.py 0\n",
            "dataloader.py 0\n",
            "dataloader.py 0\n",
            "dataloader.py 0\n",
            "dataloader.py 0\n",
            "dataloader.py 0\n",
            "dataloader.py 0\n",
            "dataloader.py 0\n",
            "dataloader.py 0\n",
            "dataloader.py 0\n",
            "dataloader.py 0\n",
            "dataloader.py 0\n",
            "dataloader.py 0\n",
            "dataloader.py 0\n",
            "dataloader.py 0\n",
            "dataloader.py 0\n",
            "dataloader.py 0\n",
            "dataloader.py 0\n",
            "dataloader.py 0\n",
            "dataloader.py 0\n",
            "dataloader.py 0\n",
            "dataloader.py 0\n",
            "dataloader.py 0\n",
            "dataloader.py 0\n",
            "dataloader.py 0\n",
            "dataloader.py 0\n",
            "dataloader.py 0\n",
            "dataloader.py 0\n",
            "dataloader.py 0\n",
            "dataloader.py 0\n",
            "dataloader.py 0\n",
            "dataloader.py 0\n",
            "dataloader.py 0\n",
            "dataloader.py 0\n",
            "dataloader.py 0\n",
            "dataloader.py 0\n",
            "dataloader.py 0\n",
            "dataloader.py 0\n",
            "dataloader.py 0\n",
            "dataloader.py 0\n",
            "dataloader.py 0\n",
            "dataloader.py 0\n",
            "dataloader.py 0\n",
            "dataloader.py 0\n",
            "dataloader.py 0\n",
            "dataloader.py 0\n",
            "dataloader.py 0\n",
            "dataloader.py 0\n",
            "dataloader.py 0\n",
            "dataloader.py 0\n",
            "dataloader.py 0\n",
            "dataloader.py 0\n",
            "dataloader.py 0\n",
            "dataloader.py 0\n",
            "dataloader.py 0\n",
            "dataloader.py 0\n",
            "dataloader.py 0\n",
            "dataloader.py 0\n",
            "dataloader.py 0\n",
            "dataloader.py 0\n",
            "dataloader.py 0\n",
            "dataloader.py 0\n",
            "dataloader.py 0\n",
            "dataloader.py 0\n",
            "dataloader.py 0\n",
            "dataloader.py 0\n",
            "dataloader.py 0\n",
            "dataloader.py 0\n",
            "dataloader.py 0\n",
            "dataloader.py 0\n",
            "dataloader.py 0\n",
            "dataloader.py 0\n",
            "dataloader.py 0\n",
            "dataloader.py 0\n",
            "dataloader.py 0\n",
            "dataloader.py 0\n",
            "dataloader.py 0\n",
            "dataloader.py 0\n",
            "train_or_eval 2755\n",
            "dataloader.py 0\n",
            "dataloader.py 0\n",
            "dataloader.py 0\n",
            "dataloader.py 0\n",
            "dataloader.py 0\n",
            "dataloader.py 0\n",
            "dataloader.py 0\n",
            "dataloader.py 0\n",
            "dataloader.py 0\n",
            "dataloader.py 0\n",
            "dataloader.py 0\n",
            "dataloader.py 0\n",
            "dataloader.py 0\n",
            "dataloader.py 0\n",
            "dataloader.py 0\n",
            "dataloader.py 0\n",
            "dataloader.py 0\n",
            "dataloader.py 0\n",
            "dataloader.py 0\n",
            "dataloader.py 0\n",
            "dataloader.py 0\n",
            "dataloader.py 0\n",
            "dataloader.py 0\n",
            "dataloader.py 0\n",
            "dataloader.py 0\n",
            "dataloader.py 0\n",
            "dataloader.py 0\n",
            "dataloader.py 0\n",
            "dataloader.py 0\n",
            "dataloader.py 0\n",
            "dataloader.py 0\n",
            "dataloader.py 0\n",
            "dataloader.py 0\n",
            "dataloader.py 0\n",
            "dataloader.py 0\n",
            "dataloader.py 0\n",
            "dataloader.py 0\n",
            "dataloader.py 0\n",
            "dataloader.py 0\n",
            "dataloader.py 0\n",
            "dataloader.py 0\n",
            "dataloader.py 0\n",
            "dataloader.py 0\n",
            "dataloader.py 0\n",
            "dataloader.py 0\n",
            "dataloader.py 0\n",
            "dataloader.py 0\n",
            "dataloader.py 0\n",
            "dataloader.py 0\n",
            "dataloader.py 0\n",
            "dataloader.py 0\n",
            "dataloader.py 0\n",
            "dataloader.py 0\n",
            "dataloader.py 0\n",
            "dataloader.py 0\n",
            "train_or_eval 2459\n"
          ]
        }
      ]
    },
    {
      "cell_type": "code",
      "metadata": {
        "id": "EU3lgslS8Ui4"
      },
      "source": [
        "all_labels = np.concatenate([train_labels, test_label])\n",
        "all_preds = np.concatenate([train_preds, test_pred])"
      ],
      "execution_count": null,
      "outputs": []
    },
    {
      "cell_type": "code",
      "metadata": {
        "colab": {
          "base_uri": "https://localhost:8080/",
          "height": 265
        },
        "id": "99pFCvwF8Ui4",
        "outputId": "dec65267-a5bf-4009-c60e-321d632b58e1"
      },
      "source": [
        "import matplotlib.pyplot as plt\n",
        "\n",
        "plt.hist(all_labels, bins=50, label=\"labels\")\n",
        "plt.hist(all_preds, bins=50, label=\"preds\")\n",
        "plt.legend()\n",
        "plt.show()"
      ],
      "execution_count": null,
      "outputs": [
        {
          "data": {
            "image/png": "[encoded data removed]",
            "text/plain": [
              "<Figure size 432x288 with 1 Axes>"
            ]
          },
          "metadata": {},
          "output_type": "display_data"
        }
      ]
    },
    {
      "cell_type": "code",
      "metadata": {
        "colab": {
          "base_uri": "https://localhost:8080/"
        },
        "id": "k32EC8U1Ce_8",
        "outputId": "d4616fc8-6d5d-40ec-abc0-b377509a2d52"
      },
      "source": [
        "all_labels"
      ],
      "execution_count": null,
      "outputs": [
        {
          "data": {
            "text/plain": [
              "array([0.6666667, 0.6666667, 1.6666666, ..., 0.       , 0.       ,\n",
              "       0.       ], dtype=float32)"
            ]
          },
          "execution_count": 19,
          "metadata": {},
          "output_type": "execute_result"
        }
      ]
    },
    {
      "cell_type": "code",
      "metadata": {
        "colab": {
          "base_uri": "https://localhost:8080/"
        },
        "id": "4edlIFrk8uAN",
        "outputId": "eb924f60-8ab7-49c1-89cc-518ad5621573"
      },
      "source": [
        "np.logical_and(all_labels<=0.5, all_labels >= -0.5).sum()"
      ],
      "execution_count": null,
      "outputs": [
        {
          "data": {
            "text/plain": [
              "10711"
            ]
          },
          "execution_count": 47,
          "metadata": {},
          "output_type": "execute_result"
        }
      ]
    },
    {
      "cell_type": "code",
      "metadata": {
        "colab": {
          "base_uri": "https://localhost:8080/"
        },
        "id": "vrlSk_dI8-7L",
        "outputId": "b3d8dc05-9fd3-4353-9b06-f685f0d55a61"
      },
      "source": [
        "all_labels"
      ],
      "execution_count": null,
      "outputs": [
        {
          "data": {
            "text/plain": [
              "array([1.6666666, 0.       , 0.       , ..., 0.       , 0.       ,\n",
              "       0.       ], dtype=float32)"
            ]
          },
          "execution_count": 48,
          "metadata": {},
          "output_type": "execute_result"
        }
      ]
    },
    {
      "cell_type": "code",
      "metadata": {
        "id": "SAKa7MLD9KA6"
      },
      "source": [
        ""
      ],
      "execution_count": null,
      "outputs": []
    },
    {
      "cell_type": "markdown",
      "metadata": {
        "id": "-DaD1WsMvp7F"
      },
      "source": [
        "# evaluate multilogue-net-nce on spanish dataset"
      ]
    },
    {
      "cell_type": "code",
      "metadata": {
        "id": "vWf61L4rvpX2",
        "colab": {
          "base_uri": "https://localhost:8080/"
        },
        "outputId": "5b7fbfa9-2a21-420a-8cd3-5a9e4366a8c6"
      },
      "source": [
        "import pickle\n",
        "\n",
        "# spanish_moseas_data = pickle.load(open(\"/content/gdrive/MyDrive/multilogue-net/data/moseas_spanish_full_regression.pickle\", \"rb\"))\n",
        "\n",
        "_, _, test_loader_sp = get_MOSEI_loaders('/content/gdrive/MyDrive/multilogue-net/data/moseas_spanish_duptextfornce_full_regression.pickle', valid=0.0, batch_size=batch_size, num_workers=0)\n",
        "_, _, test_loader_fr = get_MOSEI_loaders('/content/gdrive/MyDrive/multilogue-net/data/moseas_french_duptextfornce_full_regression.pickle', valid=0.0, batch_size=batch_size, num_workers=0)\n"
      ],
      "execution_count": null,
      "outputs": [
        {
          "output_type": "stream",
          "name": "stdout",
          "text": [
            "french\n",
            "testset.len:  52\n",
            "french\n",
            "testset.len:  57\n"
          ]
        }
      ]
    },
    {
      "cell_type": "code",
      "metadata": {
        "colab": {
          "base_uri": "https://localhost:8080/"
        },
        "id": "Dc7sE0p00m7Z",
        "outputId": "61693cd3-42a6-4ba8-d9e2-dd936c01a3c1"
      },
      "source": [
        "len(spanish_moseas_data[0])"
      ],
      "execution_count": null,
      "outputs": [
        {
          "data": {
            "text/plain": [
              "258"
            ]
          },
          "execution_count": 37,
          "metadata": {},
          "output_type": "execute_result"
        }
      ]
    },
    {
      "cell_type": "code",
      "metadata": {
        "id": "yjcQoJrJ2U7u"
      },
      "source": [
        "all_videos_seg, all_speakers, all_labels, text_feat, audio_feat, visual_feat, train_videos, test_videos = spanish_moseas_data"
      ],
      "execution_count": null,
      "outputs": []
    },
    {
      "cell_type": "code",
      "metadata": {
        "id": "Nwf2XQqG2b21"
      },
      "source": [
        "spanish_moseas_data = (all_videos_seg, all_speakers, all_labels, text_feat, text_feat, audio_feat, visual_feat, train_videos, test_videos)"
      ],
      "execution_count": null,
      "outputs": []
    },
    {
      "cell_type": "code",
      "metadata": {
        "id": "UmD5Nj7727CQ"
      },
      "source": [
        "pickle.dump(spanish_moseas_data, open(\"/content/drive/MyDrive/11-777 MMML/multilogue-net/data/moseas_spanish_duptextfornce_full_regression.pickle\", \"wb\"))"
      ],
      "execution_count": null,
      "outputs": []
    },
    {
      "cell_type": "code",
      "metadata": {
        "colab": {
          "base_uri": "https://localhost:8080/"
        },
        "id": "6BJiqvrEvubt",
        "outputId": "ffda8160-9bc0-4252-b607-cb2106f9338b"
      },
      "source": [
        "test_loss, test_mae, test_pear, test_label, test_pred, test_mask = train_or_eval_model(model, MSEloss, crosslingualnceloss, internceloss, train_loader, e, optimizer, True)\n",
        "print(\"Test Loss - spanish MOSEAS: \", test_loss)\n",
        "print(\"Test MAE - spanish MOSEAS: \", test_mae)\n",
        "print(\"Test Pear - spanish MOSEAS: \", test_pear)\n",
        "\n"
      ],
      "execution_count": null,
      "outputs": [
        {
          "output_type": "stream",
          "name": "stdout",
          "text": [
            "5240.257771492004\n",
            "-42136.297\n",
            "3668.1214871406555\n",
            "-40286.164\n",
            "4345.1136264801025\n",
            "-40464.89\n",
            "3005.9989433288574\n",
            "-41157.47\n",
            "Test Loss - spanish MOSEAS:  -37.3195\n",
            "Test MAE - spanish MOSEAS:  1.7755\n",
            "Test Pear - spanish MOSEAS:  0.1037\n"
          ]
        }
      ]
    },
    {
      "cell_type": "code",
      "metadata": {
        "colab": {
          "base_uri": "https://localhost:8080/"
        },
        "id": "63s7493ACneh",
        "outputId": "df380e8b-7ad3-46c7-ed2b-a9ae26035f76"
      },
      "source": [
        "test_loss, test_mae, test_pear, test_label, test_pred, test_mask = train_or_eval_model(model, MSEloss, crosslingualnceloss, internceloss, train_loader, e, optimizer, True)\n",
        "print(\"Test Loss - spanish MOSEAS: \", test_loss)\n",
        "print(\"Test MAE - spanish MOSEAS: \", test_mae)\n",
        "print(\"Test Pear - spanish MOSEAS: \", test_pear)\n",
        "\n"
      ],
      "execution_count": null,
      "outputs": [
        {
          "output_type": "stream",
          "name": "stdout",
          "text": [
            "5635.501266956329\n",
            "-39814.457\n",
            "6192.907393455505\n",
            "-41243.9\n",
            "6310.126957893372\n",
            "-40542.965\n",
            "3573.788998603821\n",
            "-42561.305\n",
            "Test Loss - spanish MOSEAS:  -35.9723\n",
            "Test MAE - spanish MOSEAS:  2.103\n",
            "Test Pear - spanish MOSEAS:  -0.005\n"
          ]
        }
      ]
    },
    {
      "cell_type": "code",
      "metadata": {
        "id": "21knQj3Tzw6w",
        "colab": {
          "base_uri": "https://localhost:8080/"
        },
        "outputId": "7efe8722-4714-42d3-821a-7ef0711da63b"
      },
      "source": [
        "_, _, test_loader = get_MOSEI_loaders('/content/gdrive/MyDrive/multilogue-net/data/moseas_french_duptextfornce_full_regression.pickle', valid=0.0, batch_size=batch_size, num_workers=0,mode=\"spanish-all-test\")\n"
      ],
      "execution_count": null,
      "outputs": [
        {
          "output_type": "stream",
          "name": "stdout",
          "text": [
            "spanish-all-test\n",
            "testset.len:  285\n"
          ]
        }
      ]
    }
  ]
}